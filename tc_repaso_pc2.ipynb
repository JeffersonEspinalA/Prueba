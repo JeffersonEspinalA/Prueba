{
  "nbformat": 4,
  "nbformat_minor": 0,
  "metadata": {
    "colab": {
      "provenance": [],
      "authorship_tag": "ABX9TyOtAoYePTgoR5CWc0Hd3o7Z",
      "include_colab_link": true
    },
    "kernelspec": {
      "name": "python3",
      "display_name": "Python 3"
    },
    "language_info": {
      "name": "python"
    }
  },
  "cells": [
    {
      "cell_type": "markdown",
      "metadata": {
        "id": "view-in-github",
        "colab_type": "text"
      },
      "source": [
        "<a href=\"https://colab.research.google.com/github/JeffersonEspinalA/Prueba/blob/main/tc_repaso_pc2.ipynb\" target=\"_parent\"><img src=\"https://colab.research.google.com/assets/colab-badge.svg\" alt=\"Open In Colab\"/></a>"
      ]
    },
    {
      "cell_type": "code",
      "execution_count": null,
      "metadata": {
        "id": "MqJDMJ_4Ux7E"
      },
      "outputs": [],
      "source": [
        "%%bash\n",
        "sudo apt-get install llvm-12\n",
        "sudo apt-get install clang-12\n",
        "ln -s /usr/lib/llvm-12/bin/opt /usr/bin/opt\n",
        "ln -s /usr/lib/llvm-12/bin/llc /usr/bin/llc"
      ]
    },
    {
      "cell_type": "code",
      "source": [
        "%%file brainf.cc\n",
        "#include <iostream>\n",
        "#include <map>\n",
        "#include <stack>\n",
        "#include <vector>\n",
        "\n",
        "#define MAX 30000\n",
        "\n",
        "using namespace std;\n",
        "\n",
        "int main() {\n",
        "  unsigned char *c = new unsigned char[MAX];\n",
        "  unsigned char *ptr = c;\n",
        "  vector<char> program;\n",
        "  stack<int> loopbegins;\n",
        "  map<int, int> loopmatch;\n",
        "  map<int, int> loophctam;\n",
        "  char chr;\n",
        "\n",
        "  while ((chr = getchar()) != EOF) {\n",
        "    switch (chr) {\n",
        "    case '>':\n",
        "    case '<':\n",
        "    case '+':\n",
        "    case '-':\n",
        "    case '.':\n",
        "    case ',':\n",
        "      break;\n",
        "    case '[':\n",
        "      loopbegins.push(program.size());\n",
        "      break;\n",
        "    case ']': {\n",
        "      auto pos = loopbegins.top();\n",
        "      loopbegins.pop();\n",
        "      loopmatch[pos] = program.size();\n",
        "      loophctam[program.size()] = pos;\n",
        "      break;\n",
        "    }\n",
        "    default:\n",
        "      continue;\n",
        "    }\n",
        "    program.push_back(chr);\n",
        "  }\n",
        "\n",
        "  for (auto i = 0; i < program.size(); ++i) {\n",
        "    switch (program[i]) {\n",
        "    case '>':\n",
        "      ptr++;\n",
        "      break;\n",
        "    case '<':\n",
        "      ptr--;\n",
        "      break;\n",
        "    case '+':\n",
        "      *ptr += 1;\n",
        "      break;\n",
        "    case '-':\n",
        "      *ptr -= 1;\n",
        "      break;\n",
        "    case '.':\n",
        "      cout << *ptr;\n",
        "      break;\n",
        "    case ',':\n",
        "      cin >> *ptr;\n",
        "      break;\n",
        "    case '[':\n",
        "      if (*ptr == 0)\n",
        "        i = loopmatch[i];\n",
        "      break;\n",
        "    case ']':\n",
        "      i = loophctam[i] - 1;\n",
        "      break;\n",
        "    }\n",
        "  }\n",
        "  cout << endl;\n",
        "  delete[] c;\n",
        "  return 0;\n",
        "}"
      ],
      "metadata": {
        "colab": {
          "base_uri": "https://localhost:8080/"
        },
        "id": "5XTID_Gcaa80",
        "outputId": "8a20974b-454a-45e2-e801-2566bbf1e21b"
      },
      "execution_count": 2,
      "outputs": [
        {
          "output_type": "stream",
          "name": "stdout",
          "text": [
            "Writing brainf.cc\n"
          ]
        }
      ]
    },
    {
      "cell_type": "code",
      "source": [
        "%%file helloworld.bf\n",
        "++++++++[>++++[>++>+++>+++>+<<<<-]>+>+>->>+[<]<-]>>.>---.+++++++..+++.>>.<-.<.+++.------.--------.>>+.>++.\n"
      ],
      "metadata": {
        "colab": {
          "base_uri": "https://localhost:8080/"
        },
        "id": "fIx9ybVWaiJ4",
        "outputId": "582209c0-37b1-48d4-b7f8-31929d9daf20"
      },
      "execution_count": 3,
      "outputs": [
        {
          "output_type": "stream",
          "name": "stdout",
          "text": [
            "Writing helloworld.bf\n"
          ]
        }
      ]
    },
    {
      "cell_type": "code",
      "source": [
        "%%file simple.bf\n",
        "++++++++\n",
        "++++++++\n",
        "++++++++\n",
        "++++++++\n",
        "++++++++\n",
        "++++++++\n",
        "."
      ],
      "metadata": {
        "colab": {
          "base_uri": "https://localhost:8080/"
        },
        "id": "9i0aokp6ap9m",
        "outputId": "0c052477-c0e8-422a-d99f-21f528cb342f"
      },
      "execution_count": 4,
      "outputs": [
        {
          "output_type": "stream",
          "name": "stdout",
          "text": [
            "Writing simple.bf\n"
          ]
        }
      ]
    },
    {
      "cell_type": "code",
      "source": [
        "!clang++ brainf.cc"
      ],
      "metadata": {
        "id": "WhubFsboavFW"
      },
      "execution_count": 5,
      "outputs": []
    },
    {
      "cell_type": "code",
      "source": [
        "!./a.out < simple.bf"
      ],
      "metadata": {
        "colab": {
          "base_uri": "https://localhost:8080/"
        },
        "id": "e5UrLPjVa68-",
        "outputId": "70270958-8560-4750-c225-20fe4b5482e5"
      },
      "execution_count": 6,
      "outputs": [
        {
          "output_type": "stream",
          "name": "stdout",
          "text": [
            "0\n"
          ]
        }
      ]
    },
    {
      "cell_type": "code",
      "source": [
        "!./a.out < helloworld.bf"
      ],
      "metadata": {
        "colab": {
          "base_uri": "https://localhost:8080/"
        },
        "id": "ocOBlv4ya-rV",
        "outputId": "6c97bb13-3219-4183-e3c8-c1e0985ffd4e"
      },
      "execution_count": 7,
      "outputs": [
        {
          "output_type": "stream",
          "name": "stdout",
          "text": [
            "Hello World!\n",
            "\n"
          ]
        }
      ]
    }
  ]
}