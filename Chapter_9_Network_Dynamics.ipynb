{
  "cells": [
    {
      "cell_type": "markdown",
      "metadata": {
        "id": "view-in-github",
        "colab_type": "text"
      },
      "source": [
        "<a href=\"https://colab.research.google.com/github/JeffersonEspinalA/Prueba/blob/main/Chapter_9_Network_Dynamics.ipynb\" target=\"_parent\"><img src=\"https://colab.research.google.com/assets/colab-badge.svg\" alt=\"Open In Colab\"/></a>"
      ]
    },
    {
      "cell_type": "markdown",
      "metadata": {
        "id": "VLTwp_fCin5r"
      },
      "source": [
        "<span>\n",
        "<img src=\"img/dynetx.png\" width=\"220px\" align=\"right\"/>\n",
        "</span>\n",
        "<span>\n",
        "<b>Author:</b> <a href=\"http://about.giuliorossetti.net\">Giulio Rossetti</a><br/>\n",
        "<b>Python version:</b>  >=3.6<br/>\n",
        "<b>DyNetX version:</b>  0.0.1<br/>\n",
        "<b>Last update:</b> 15/02/2021\n",
        "</span>"
      ]
    },
    {
      "cell_type": "markdown",
      "metadata": {
        "id": "X9SeEjtYin5u"
      },
      "source": [
        "<a id='top'></a>\n",
        "# *Chapter 9: Network Dynamics*\n",
        "\n",
        "In this notebook are introduced basilar snippet to cover dynamic networ modeling and analysis.\n",
        "\n",
        "**Note:** this notebook is purposely not 100% comprehensive, it only discusses the basic things you need to get started. "
      ]
    },
    {
      "cell_type": "markdown",
      "metadata": {
        "id": "3HzUN2E9in5v"
      },
      "source": [
        "<a id=\"dynetx\"></a>\n",
        "## DyNetX: a library for dynamic network modeling \n",
        "\n",
        "So far we assumed that a *static* network topology. In real world scenario it is likely to observe nodes (as well as edges) that appear and desapear as time goes by, deeply affecting network structure and connectivity.\n",
        "\n",
        "Indeed, topological transformations have huge implications on how diffusive phenomena unfold. \n",
        "\n",
        "[``DyNetx``](http://dynetx.readthedocs.io/en/latest/) model time-evolving graphs. In the following we briefly introduce some [``DyNetx``](http://dynetx.readthedocs.io/en/latest/) primitives that allows to build and analyse dynamic networks.\n",
        "\n",
        "A dynamic network is a topology having timestamps attached to edges (and/or nodes). As an example:"
      ]
    },
    {
      "cell_type": "markdown",
      "metadata": {
        "id": "ybsMVlEbin5v"
      },
      "source": [
        "<img src=\"img/rete.png\" width=\"50%\" align=\"center\"/>"
      ]
    },
    {
      "cell_type": "markdown",
      "metadata": {
        "id": "nG1X7WLxin5w"
      },
      "source": [
        "[``DyNetx``](http://dynetx.readthedocs.io/en/latest/) is a Python software package that extends [``networkx``](https://networkx.github.io) with dynamic network models and algorithms.\n",
        "\n",
        "We developed [``DyNetx``](http://dynetx.readthedocs.io/en/latest/) as a support library for ``NDlib``. It provides a generic implementation of dynamic network topology that can be used to model directed/undirected\n",
        "- [Snapshot Graphs](#snapshots)\n",
        "- [Interaction Networks](#interactions)"
      ]
    },
    {
      "cell_type": "markdown",
      "metadata": {
        "id": "AF2o8KW5in5x"
      },
      "source": [
        "    pip install dynetx"
      ]
    },
    {
      "cell_type": "markdown",
      "metadata": {
        "id": "Q5r_4-WSin5x"
      },
      "source": [
        "<a id=\"snapshots\"></a>\n",
        "#### Snapshot Graphs ([to top](#top))\n",
        "\n",
        "Often, network history is partitioned into a series of snap- shots, each one of them corresponding either to the state of the network at a time $t$ or to the aggregation of observed interactions during a period. Formally,\n",
        "\n",
        "> A ``Snapshot Graph`` $G_t$ is defined by a temporally ordered set $⟨G_1, G_2\\dots G_t⟩$ of static graphs where each snapshot $G_i = (V_i, E_i)$ is univocally identified by the sets of nodes $V_i$ and edges $E_i$.\n",
        "\n",
        "Network snapshots can be effectively used, for instance, to model a phenomenon that generates network perturbations (almost) at regular intervals. In this scenario, context-dependent temporal windows are used to partition the network history into consecutive snapshots: time-bounded observations describing a precise, static, discretization of the network life.\n",
        "\n",
        "Considering our dynamic network example we can identify the following snapshot graphs:\n",
        "\n",
        "<img src=\"img/ex1.png\" width=\"35%\" align=\"left\"/><img src=\"img/ex2.png\" width=\"25%\" align=\"left\"/><img src=\"img/ex3.png\" width=\"35%\" align=\"left\"/>\n",
        "\n",
        "[``DyNetx``](http://dynetx.readthedocs.io/en/latest/) allows to (among the other things):\n",
        "- List the snapshots of the loaded graph"
      ]
    },
    {
      "cell_type": "markdown",
      "metadata": {
        "id": "QftzrX7cin5y"
      },
      "source": [
        "<a id=\"interactions\"></a>\n",
        "#### Interaction networks ([to top](#top))\n",
        "\n",
        "An ``Interaction network`` models a dynamic structure in which both nodes and edges may appear and disappear as time goes by. Usually, ``Intercation network`` are used in absence of a clear aggregation time scale, or when make sense to analyse a dynamic networok as a continuos stream of edges. Formally,\n",
        "\n",
        "> An ``interaction network`` is a graph $G = (V, E, T)$ where: $V$ is a set of triplets of the form $(v, t_s, t_e)$, with $v$ a vertex of the graph and $t_s$, $t_e \\in T$ are respectively the birth and death timestamps of the corresponding vertex (with $t_s \\leq t_e$); $E$ is a set of quadruplets $(u, v, t_s, t_e)$, with $u, v \\in V$ are vertices of the graph and $t_s,t_e \\in T$ are respectively the birth and death timestamps of the corresponding edge (with $t_s \\leq t_e$).\n",
        "\n",
        "Considering our dynamic network example we can identify the following interaction stream:\n",
        "\n",
        "<img src=\"img/ex4.png\"  />\n",
        "\n",
        "[``DyNetx``](http://dynetx.readthedocs.io/en/latest/) allows to to obtain the edge stream of a given dynamic graph."
      ]
    },
    {
      "cell_type": "code",
      "source": [
        "!pip install networkx==2.8.8\n",
        "!pip install dynetx"
      ],
      "metadata": {
        "colab": {
          "base_uri": "https://localhost:8080/"
        },
        "id": "tXXqqPX2irVC",
        "outputId": "e6a518af-2f62-408d-f17c-6174689be0b6"
      },
      "execution_count": 1,
      "outputs": [
        {
          "output_type": "stream",
          "name": "stdout",
          "text": [
            "Looking in indexes: https://pypi.org/simple, https://us-python.pkg.dev/colab-wheels/public/simple/\n",
            "Collecting networkx==2.8.8\n",
            "  Downloading networkx-2.8.8-py3-none-any.whl (2.0 MB)\n",
            "\u001b[2K     \u001b[90m━━━━━━━━━━━━━━━━━━━━━━━━━━━━━━━━━━━━━━━━\u001b[0m \u001b[32m2.0/2.0 MB\u001b[0m \u001b[31m5.3 MB/s\u001b[0m eta \u001b[36m0:00:00\u001b[0m\n",
            "\u001b[?25hInstalling collected packages: networkx\n",
            "  Attempting uninstall: networkx\n",
            "    Found existing installation: networkx 3.1\n",
            "    Uninstalling networkx-3.1:\n",
            "      Successfully uninstalled networkx-3.1\n",
            "Successfully installed networkx-2.8.8\n",
            "Looking in indexes: https://pypi.org/simple, https://us-python.pkg.dev/colab-wheels/public/simple/\n",
            "Collecting dynetx\n",
            "  Downloading dynetx-0.3.1-py3-none-any.whl (39 kB)\n",
            "Requirement already satisfied: numpy in /usr/local/lib/python3.10/dist-packages (from dynetx) (1.22.4)\n",
            "Requirement already satisfied: future in /usr/local/lib/python3.10/dist-packages (from dynetx) (0.18.3)\n",
            "Requirement already satisfied: tqdm in /usr/local/lib/python3.10/dist-packages (from dynetx) (4.65.0)\n",
            "Requirement already satisfied: networkx>=2.4 in /usr/local/lib/python3.10/dist-packages (from dynetx) (2.8.8)\n",
            "Requirement already satisfied: decorator in /usr/local/lib/python3.10/dist-packages (from dynetx) (4.4.2)\n",
            "Installing collected packages: dynetx\n",
            "Successfully installed dynetx-0.3.1\n"
          ]
        }
      ]
    },
    {
      "cell_type": "code",
      "execution_count": 2,
      "metadata": {
        "id": "gmivMwntin5z"
      },
      "outputs": [],
      "source": [
        "import dynetx as dn\n",
        "import networkx as nx\n",
        "import random\n",
        "\n",
        "def read_net(filename):\n",
        "    g = nx.Graph()\n",
        "    with open(filename) as f:\n",
        "        f.readline()\n",
        "        for l in f:\n",
        "            l = l.split(\",\")\n",
        "            g.add_edge(l[0], l[1])\n",
        "    return g\n",
        "\n",
        "g = dn.DynGraph() # empty dynamic graph"
      ]
    },
    {
      "cell_type": "markdown",
      "metadata": {
        "id": "mSQRxpIzin50"
      },
      "source": [
        "## Dynamic network creation\n",
        "\n",
        "A dynamic network can be built by adding edges with specific appearence time (and eventually, vanishing time).\n",
        "\n",
        "In our example, 10 ER graphs are generated and used to represent different topological evolutions of a same dynamic system."
      ]
    },
    {
      "cell_type": "code",
      "source": [
        "!unzip asioaf.zip"
      ],
      "metadata": {
        "colab": {
          "base_uri": "https://localhost:8080/"
        },
        "id": "k966AqjVi3Tq",
        "outputId": "b6f5f5c8-400e-4acb-b167-ecaedf1a5cc8"
      },
      "execution_count": 3,
      "outputs": [
        {
          "output_type": "stream",
          "name": "stdout",
          "text": [
            "Archive:  asioaf.zip\n",
            "   creating: asioaf/\n",
            "  inflating: asioaf/characters_clean.csv  \n",
            "  inflating: asioaf/got-s1-edges.csv  \n",
            "  inflating: asioaf/got-s1-nodes_ext.csv  \n",
            "  inflating: asioaf/got-s2-edges.csv  \n",
            "  inflating: asioaf/got-s2-nodes_ext.csv  \n",
            "  inflating: asioaf/got-s3-edges.csv  \n",
            "  inflating: asioaf/got-s3-nodes_ext.csv  \n",
            "  inflating: asioaf/got-s4-edges.csv  \n",
            "  inflating: asioaf/got-s4-nodes_ext.csv  \n",
            "  inflating: asioaf/got-s5-edges.csv  \n",
            "  inflating: asioaf/got-s5-nodes_ext.csv  \n",
            "  inflating: asioaf/got-s6-edges.csv  \n",
            "  inflating: asioaf/got-s6-nodes_ext.csv  \n",
            "  inflating: asioaf/got-s7-edges.csv  \n",
            "  inflating: asioaf/got-s7-nodes_ext.csv  \n",
            "  inflating: asioaf/got-s8-edges.csv  \n",
            "  inflating: asioaf/got-s8-nodes_ext.csv  \n"
          ]
        }
      ]
    },
    {
      "cell_type": "code",
      "execution_count": 4,
      "metadata": {
        "id": "tCSG9O4Min50"
      },
      "outputs": [],
      "source": [
        "for t in range(1, 9):\n",
        "    er = read_net(f'asioaf/got-s{t}-edges.csv')#nx.erdos_renyi_graph(random.randint(100, 400), 0.05)\n",
        "    g.add_interactions_from(er.edges, t=t)"
      ]
    },
    {
      "cell_type": "markdown",
      "metadata": {
        "id": "7-KFvjpLin50"
      },
      "source": [
        "We can get the list of snapshot ids with"
      ]
    },
    {
      "cell_type": "code",
      "execution_count": 5,
      "metadata": {
        "colab": {
          "base_uri": "https://localhost:8080/"
        },
        "id": "Rgm4P3kWin51",
        "outputId": "e9ee45f7-dd94-4e33-a2de-cd963f024b15"
      },
      "outputs": [
        {
          "output_type": "execute_result",
          "data": {
            "text/plain": [
              "[1, 2, 3, 4, 5, 6, 7, 8]"
            ]
          },
          "metadata": {},
          "execution_count": 5
        }
      ],
      "source": [
        "g.temporal_snapshots_ids()"
      ]
    },
    {
      "cell_type": "markdown",
      "metadata": {
        "id": "AosUYVqQin51"
      },
      "source": [
        "Moreover, we can access each snapshot by its id"
      ]
    },
    {
      "cell_type": "code",
      "execution_count": 6,
      "metadata": {
        "id": "jISHYQqvin51"
      },
      "outputs": [],
      "source": [
        "g1 = g.time_slice(1)"
      ]
    },
    {
      "cell_type": "code",
      "execution_count": 7,
      "metadata": {
        "colab": {
          "base_uri": "https://localhost:8080/"
        },
        "id": "v-hSWnwFin52",
        "outputId": "cdd38fb9-fa51-4535-8541-c254eab13357"
      },
      "outputs": [
        {
          "output_type": "execute_result",
          "data": {
            "text/plain": [
              "(dynetx.classes.dyngraph.DynGraph, 126, 549)"
            ]
          },
          "metadata": {},
          "execution_count": 7
        }
      ],
      "source": [
        "type(g1), g1.number_of_nodes(), g1.number_of_edges()"
      ]
    },
    {
      "cell_type": "markdown",
      "metadata": {
        "id": "QTepDnW0in52"
      },
      "source": [
        "Following the same rationale it is possible to obtain timeslices covering any time window"
      ]
    },
    {
      "cell_type": "code",
      "execution_count": 8,
      "metadata": {
        "id": "Hvt6qA2kin52"
      },
      "outputs": [],
      "source": [
        "g0_3 = g.time_slice(0, 3)"
      ]
    },
    {
      "cell_type": "code",
      "execution_count": 9,
      "metadata": {
        "colab": {
          "base_uri": "https://localhost:8080/"
        },
        "id": "i59Oe2GCin52",
        "outputId": "52b10a13-5c50-4977-fb77-017792e6fcac"
      },
      "outputs": [
        {
          "output_type": "execute_result",
          "data": {
            "text/plain": [
              "(dynetx.classes.dyngraph.DynGraph, 237, 1182, {1: 78.5, 2: 79.0})"
            ]
          },
          "metadata": {},
          "execution_count": 9
        }
      ],
      "source": [
        "type(g0_3), g0_3.number_of_nodes(), g0_3.number_of_edges(), g0_3.interactions_per_snapshots()"
      ]
    },
    {
      "cell_type": "markdown",
      "metadata": {
        "id": "FzGvg9S3in53"
      },
      "source": [
        "If the slice cover a single snapshot it can be analyzed transforming it in a ``networkx`` object, otherwise ``dynetx`` methods need to be applied"
      ]
    },
    {
      "cell_type": "code",
      "execution_count": 10,
      "metadata": {
        "id": "XC5DPxLmin53"
      },
      "outputs": [],
      "source": [
        "g1_flat = nx.Graph(g1.edges())"
      ]
    },
    {
      "cell_type": "code",
      "execution_count": 11,
      "metadata": {
        "colab": {
          "base_uri": "https://localhost:8080/"
        },
        "id": "p14E2QUjin53",
        "outputId": "7afb3e43-57a1-4545-fc02-8fa8e2fd7e60"
      },
      "outputs": [
        {
          "output_type": "execute_result",
          "data": {
            "text/plain": [
              "(networkx.classes.graph.Graph, 126, 549)"
            ]
          },
          "metadata": {},
          "execution_count": 11
        }
      ],
      "source": [
        "type(g1_flat), g1_flat.number_of_nodes(), g1_flat.number_of_edges()"
      ]
    },
    {
      "cell_type": "markdown",
      "metadata": {
        "id": "DkYJU6tvin53"
      },
      "source": [
        "### Dynamic network measures"
      ]
    },
    {
      "cell_type": "markdown",
      "metadata": {
        "id": "ADNZjZ2Ein53"
      },
      "source": [
        "#### Inter event time (Global)\n",
        "\n",
        "Distribution of inter event time (e.g., how much time before a new interaction appears in the graph)"
      ]
    },
    {
      "cell_type": "code",
      "execution_count": 12,
      "metadata": {
        "colab": {
          "base_uri": "https://localhost:8080/"
        },
        "id": "l6dvO_e7in53",
        "outputId": "2cf3eaec-91a5-46ac-b4e0-9f755e5ca90f"
      },
      "outputs": [
        {
          "output_type": "stream",
          "name": "stdout",
          "text": [
            "Number interactions: temporal distance\t{0: 3307, 1: 8}\n"
          ]
        }
      ],
      "source": [
        "r = g.inter_event_time_distribution()\n",
        "print(f\"Number interactions: temporal distance\\t{r}\")"
      ]
    },
    {
      "cell_type": "markdown",
      "metadata": {
        "id": "nihGNTMFin54"
      },
      "source": [
        "#### Inter event time (Node)\n",
        "\n",
        "Distribution of inter event time (e.g., how much time before a new interaction involving a specific node appears in the graph)"
      ]
    },
    {
      "cell_type": "code",
      "execution_count": 13,
      "metadata": {
        "colab": {
          "base_uri": "https://localhost:8080/"
        },
        "id": "dVW507DFin54",
        "outputId": "361ee138-d143-4666-a01d-3d9ff8e628f1"
      },
      "outputs": [
        {
          "output_type": "stream",
          "name": "stdout",
          "text": [
            "Number interactions: temporal distance\t{0: 137, 1: 8}\n"
          ]
        }
      ],
      "source": [
        "r = g.inter_event_time_distribution(\"ARYA\")\n",
        "print(f\"Number interactions: temporal distance\\t{r}\")"
      ]
    },
    {
      "cell_type": "markdown",
      "metadata": {
        "id": "JMfx96wKin54"
      },
      "source": [
        "#### Inter event time (Edge)\n",
        "\n",
        "Distribution of inter event time (e.g., how much time before a new interaction among two nodes, u and v, appears in the graph)"
      ]
    },
    {
      "cell_type": "code",
      "execution_count": 14,
      "metadata": {
        "id": "okH4I6Jqin54"
      },
      "outputs": [],
      "source": [
        "u = 'JON'\n",
        "v = 'ARYA'"
      ]
    },
    {
      "cell_type": "code",
      "execution_count": 15,
      "metadata": {
        "colab": {
          "base_uri": "https://localhost:8080/"
        },
        "id": "gW0tXRqZin54",
        "outputId": "745a632b-3998-4b3f-e7c8-2c6d8fb37b60"
      },
      "outputs": [
        {
          "output_type": "stream",
          "name": "stdout",
          "text": [
            "Number interactions: temporal distance\t{6: 1, 1: 1}\n"
          ]
        }
      ],
      "source": [
        "r = g.inter_event_time_distribution(u, v)\n",
        "print(f\"Number interactions: temporal distance\\t{r}\")"
      ]
    },
    {
      "cell_type": "markdown",
      "metadata": {
        "id": "uc3Gf1Qvin54"
      },
      "source": [
        "### Degree\n",
        "Degrees can be queried time-wise"
      ]
    },
    {
      "cell_type": "code",
      "execution_count": 16,
      "metadata": {
        "colab": {
          "base_uri": "https://localhost:8080/"
        },
        "id": "grjSWinfin55",
        "outputId": "7343079e-de67-45b0-d4ff-12578d0f0eca"
      },
      "outputs": [
        {
          "output_type": "execute_result",
          "data": {
            "text/plain": [
              "27"
            ]
          },
          "metadata": {},
          "execution_count": 16
        }
      ],
      "source": [
        "g.degree(t=2)['ARYA'] # degree of node 0 at time t=2"
      ]
    },
    {
      "cell_type": "markdown",
      "metadata": {
        "id": "69NLAU5kin55"
      },
      "source": [
        "### Coverage\n",
        "\n",
        "The ratio of existing nodes w.r.t. the possible ones."
      ]
    },
    {
      "cell_type": "code",
      "execution_count": 17,
      "metadata": {
        "colab": {
          "base_uri": "https://localhost:8080/"
        },
        "id": "Gixg6Kn5in55",
        "outputId": "bb634a99-78c5-4e2b-b56f-c3726083f03c"
      },
      "outputs": [
        {
          "output_type": "execute_result",
          "data": {
            "text/plain": [
              "0.2977216748768473"
            ]
          },
          "metadata": {},
          "execution_count": 17
        }
      ],
      "source": [
        "g.coverage()"
      ]
    },
    {
      "cell_type": "markdown",
      "metadata": {
        "id": "NCvKouV5in55"
      },
      "source": [
        "#### Node contribution\n",
        "\n",
        "Node u coverage of the temporal graph."
      ]
    },
    {
      "cell_type": "code",
      "execution_count": 18,
      "metadata": {
        "colab": {
          "base_uri": "https://localhost:8080/"
        },
        "id": "-lfEHuWpin55",
        "outputId": "e80dc301-af21-4b09-b932-cb6b88ccf8cf"
      },
      "outputs": [
        {
          "output_type": "execute_result",
          "data": {
            "text/plain": [
              "0.625"
            ]
          },
          "metadata": {},
          "execution_count": 18
        }
      ],
      "source": [
        "g.node_contribution(\"BERIC\")"
      ]
    },
    {
      "cell_type": "markdown",
      "metadata": {
        "id": "M8kRR_nlin55"
      },
      "source": [
        "#### Edge contribution\n",
        "\n",
        "Edge (u, v) coverage of the temporal graph."
      ]
    },
    {
      "cell_type": "code",
      "execution_count": 19,
      "metadata": {
        "colab": {
          "base_uri": "https://localhost:8080/"
        },
        "id": "JVZWEXoJin56",
        "outputId": "55128b4a-bf6e-4c0e-ef50-d2ab4d33427a"
      },
      "outputs": [
        {
          "output_type": "execute_result",
          "data": {
            "text/plain": [
              "0.375"
            ]
          },
          "metadata": {},
          "execution_count": 19
        }
      ],
      "source": [
        "g.edge_contribution(u, v)"
      ]
    },
    {
      "cell_type": "markdown",
      "metadata": {
        "id": "h64P558Xin56"
      },
      "source": [
        "#### Node pair uniformity\n",
        "\n",
        "Overlap between the presence times of u and v."
      ]
    },
    {
      "cell_type": "code",
      "execution_count": 20,
      "metadata": {
        "colab": {
          "base_uri": "https://localhost:8080/"
        },
        "id": "G1Y2oHpein6B",
        "outputId": "70880279-b394-4cd3-c874-fa4fbbe93584"
      },
      "outputs": [
        {
          "output_type": "execute_result",
          "data": {
            "text/plain": [
              "1.0"
            ]
          },
          "metadata": {},
          "execution_count": 20
        }
      ],
      "source": [
        "g.node_pair_uniformity(u, v)"
      ]
    },
    {
      "cell_type": "markdown",
      "metadata": {
        "id": "97iUfJGFin6B"
      },
      "source": [
        "### Density\n",
        "Temporal network density: fraction of possible interactions that do exist in the temporal network."
      ]
    },
    {
      "cell_type": "code",
      "execution_count": 21,
      "metadata": {
        "colab": {
          "base_uri": "https://localhost:8080/"
        },
        "id": "zUiluJEoin6C",
        "outputId": "71f4a6ee-f05b-4e46-da60-4712388b67cb"
      },
      "outputs": [
        {
          "output_type": "execute_result",
          "data": {
            "text/plain": [
              "0.06686633244351846"
            ]
          },
          "metadata": {},
          "execution_count": 21
        }
      ],
      "source": [
        "g.density()"
      ]
    },
    {
      "cell_type": "markdown",
      "metadata": {
        "id": "i3185qPlin6C"
      },
      "source": [
        "#### Node Density\n",
        "Intersection among the temporal presence of the edge (u, v) and the joint temporal presences of u and v."
      ]
    },
    {
      "cell_type": "code",
      "execution_count": 22,
      "metadata": {
        "colab": {
          "base_uri": "https://localhost:8080/"
        },
        "id": "G5s3Vc4iin6C",
        "outputId": "65d8cbbf-e6c4-4cfb-85d6-18abf4a2f96b"
      },
      "outputs": [
        {
          "output_type": "execute_result",
          "data": {
            "text/plain": [
              "0.2295760082730093"
            ]
          },
          "metadata": {},
          "execution_count": 22
        }
      ],
      "source": [
        "g.node_density(u)"
      ]
    },
    {
      "cell_type": "markdown",
      "metadata": {
        "id": "B9k81hEpin6C"
      },
      "source": [
        "#### Pair Density\n",
        "\n",
        "Intersection among the temporal presence of the edge (u, v) and the joint temporal presences of u and v."
      ]
    },
    {
      "cell_type": "code",
      "execution_count": 23,
      "metadata": {
        "colab": {
          "base_uri": "https://localhost:8080/"
        },
        "id": "udrnamchin6C",
        "outputId": "a1131ed4-dc2d-4153-e1ab-3c8c8802b758"
      },
      "outputs": [
        {
          "output_type": "execute_result",
          "data": {
            "text/plain": [
              "0.375"
            ]
          },
          "metadata": {},
          "execution_count": 23
        }
      ],
      "source": [
        "g.pair_density(u, v)"
      ]
    },
    {
      "cell_type": "markdown",
      "metadata": {
        "id": "z4bAU1AQin6D"
      },
      "source": [
        "#### Snapshot Density\n",
        "\n",
        "Density of a temporal network at time t."
      ]
    },
    {
      "cell_type": "code",
      "execution_count": 24,
      "metadata": {
        "colab": {
          "base_uri": "https://localhost:8080/"
        },
        "id": "v68f43iNin6D",
        "outputId": "449ea469-5d08-4d98-e772-06d1f6e75c60"
      },
      "outputs": [
        {
          "output_type": "stream",
          "name": "stdout",
          "text": [
            "1\t0.06971428571428571\n",
            "2\t0.05886627906976744\n",
            "3\t0.06608969315499606\n",
            "4\t0.04535563715490276\n",
            "5\t0.05640222190571144\n",
            "6\t0.05404055538907202\n",
            "7\t0.1271604938271605\n",
            "8\t0.20473898556090336\n"
          ]
        }
      ],
      "source": [
        "for t in g.temporal_snapshots_ids():\n",
        "    print(f\"{t}\\t{g.snapshot_density(t)}\")"
      ]
    },
    {
      "cell_type": "markdown",
      "metadata": {
        "id": "4b0Uj3Rvin6D"
      },
      "source": [
        "### Path analysis\n",
        "\n",
        "Computes the time respecting paths among u and v within [start, stop]"
      ]
    },
    {
      "cell_type": "code",
      "execution_count": 25,
      "metadata": {
        "id": "a7ImQWknin6D"
      },
      "outputs": [],
      "source": [
        "import dynetx.algorithms as al\n",
        "paths = al.time_respecting_paths(g, \"GENDRY\", \"GREY_WORM\", start=1, end=5)"
      ]
    },
    {
      "cell_type": "code",
      "execution_count": 38,
      "metadata": {
        "colab": {
          "base_uri": "https://localhost:8080/"
        },
        "id": "MS8g8vWzin6D",
        "outputId": "ad290b96-6211-4e78-efae-881bdb85827d"
      },
      "outputs": [
        {
          "output_type": "execute_result",
          "data": {
            "text/plain": [
              "(('GENDRY', 'NED', 1),\n",
              " ('NED', 'ROBERT', 2),\n",
              " ('ROBERT', 'BARRISTAN', 3),\n",
              " ('BARRISTAN', 'GREY_WORM', 4))"
            ]
          },
          "metadata": {},
          "execution_count": 38
        }
      ],
      "source": [
        "p = paths[\"GENDRY\", \"GREY_WORM\"][0] # example of identified paths. Each list element is a tuple of the form (from, to, time)\n",
        "p"
      ]
    },
    {
      "cell_type": "markdown",
      "metadata": {
        "id": "csgGeMKmin6D"
      },
      "source": [
        "Moreover, it is possible to compute length and duration of a given path"
      ]
    },
    {
      "cell_type": "code",
      "execution_count": 39,
      "metadata": {
        "colab": {
          "base_uri": "https://localhost:8080/"
        },
        "id": "1Lz1D9i6in6E",
        "outputId": "3d6549fe-ecec-4227-aa62-f93f308cbf33"
      },
      "outputs": [
        {
          "output_type": "execute_result",
          "data": {
            "text/plain": [
              "(3, 4)"
            ]
          },
          "metadata": {},
          "execution_count": 39
        }
      ],
      "source": [
        "al.path_duration(p), al.path_length(p)"
      ]
    },
    {
      "cell_type": "markdown",
      "metadata": {
        "id": "8RX8m1c9in6E"
      },
      "source": [
        "Among all paths it is possible to identify the most interestin ones using"
      ]
    },
    {
      "cell_type": "code",
      "execution_count": 41,
      "metadata": {
        "id": "FKbp5RNYin6E"
      },
      "outputs": [],
      "source": [
        "annotated = al.annotate_paths(paths[(\"GENDRY\", \"GREY_WORM\")])"
      ]
    },
    {
      "cell_type": "code",
      "execution_count": 42,
      "metadata": {
        "colab": {
          "base_uri": "https://localhost:8080/"
        },
        "id": "VrZE9Swqin6E",
        "outputId": "d03b5e84-f338-40dc-c6b0-d9bba78de0e6"
      },
      "outputs": [
        {
          "output_type": "execute_result",
          "data": {
            "text/plain": [
              "[(('GENDRY', 'NED', 1), ('NED', 'TYRION', 2), ('TYRION', 'GREY_WORM', 5)),\n",
              " (('GENDRY', 'NED', 1), ('NED', 'TYRION', 3), ('TYRION', 'GREY_WORM', 5)),\n",
              " (('GENDRY', 'NED', 1), ('NED', 'TYRION', 4), ('TYRION', 'GREY_WORM', 5)),\n",
              " (('GENDRY', 'VARYS', 1), ('VARYS', 'TYRION', 2), ('TYRION', 'GREY_WORM', 5)),\n",
              " (('GENDRY', 'VARYS', 1), ('VARYS', 'TYRION', 3), ('TYRION', 'GREY_WORM', 5)),\n",
              " (('GENDRY', 'VARYS', 1),\n",
              "  ('VARYS', 'DAENERYS', 4),\n",
              "  ('DAENERYS', 'GREY_WORM', 5)),\n",
              " (('GENDRY', 'VARYS', 1), ('VARYS', 'JORAH', 4), ('JORAH', 'GREY_WORM', 5)),\n",
              " (('GENDRY', 'VARYS', 1),\n",
              "  ('VARYS', 'BARRISTAN', 4),\n",
              "  ('BARRISTAN', 'GREY_WORM', 5)),\n",
              " (('GENDRY', 'VARYS', 1), ('VARYS', 'TYRION', 4), ('TYRION', 'GREY_WORM', 5)),\n",
              " (('GENDRY', 'ARYA', 1), ('ARYA', 'TYRION', 2), ('TYRION', 'GREY_WORM', 5)),\n",
              " (('GENDRY', 'NED', 2), ('NED', 'TYRION', 3), ('TYRION', 'GREY_WORM', 5)),\n",
              " (('GENDRY', 'NED', 2), ('NED', 'TYRION', 4), ('TYRION', 'GREY_WORM', 5)),\n",
              " (('GENDRY', 'TYWIN', 2), ('TYWIN', 'TYRION', 3), ('TYRION', 'GREY_WORM', 5)),\n",
              " (('GENDRY', 'TYWIN', 2), ('TYWIN', 'TYRION', 4), ('TYRION', 'GREY_WORM', 5)),\n",
              " (('GENDRY', 'MOUNTAIN', 2),\n",
              "  ('MOUNTAIN', 'TYRION', 4),\n",
              "  ('TYRION', 'GREY_WORM', 5)),\n",
              " (('GENDRY', 'TYWIN', 3), ('TYWIN', 'TYRION', 4), ('TYRION', 'GREY_WORM', 5))]"
            ]
          },
          "metadata": {},
          "execution_count": 42
        }
      ],
      "source": [
        "annotated['shortest']"
      ]
    },
    {
      "cell_type": "code",
      "execution_count": 43,
      "metadata": {
        "colab": {
          "base_uri": "https://localhost:8080/"
        },
        "id": "2QPoovB2in6E",
        "outputId": "ce96953d-4c31-4a1f-b223-c62835012b1f"
      },
      "outputs": [
        {
          "output_type": "execute_result",
          "data": {
            "text/plain": [
              "[(('GENDRY', 'TYWIN', 3), ('TYWIN', 'TYRION', 4), ('TYRION', 'GREY_WORM', 5))]"
            ]
          },
          "metadata": {},
          "execution_count": 43
        }
      ],
      "source": [
        "annotated['fastest']"
      ]
    },
    {
      "cell_type": "code",
      "execution_count": 44,
      "metadata": {
        "colab": {
          "base_uri": "https://localhost:8080/"
        },
        "id": "UI3m79lmin6E",
        "outputId": "bfcbb0b3-815d-4338-c9c2-06ce946aec10"
      },
      "outputs": [
        {
          "output_type": "execute_result",
          "data": {
            "text/plain": [
              "[[('GENDRY', 'TYWIN', 3), ('TYWIN', 'TYRION', 4), ('TYRION', 'GREY_WORM', 5)]]"
            ]
          },
          "metadata": {},
          "execution_count": 44
        }
      ],
      "source": [
        "annotated['shortest_fastest']"
      ]
    },
    {
      "cell_type": "code",
      "execution_count": 45,
      "metadata": {
        "colab": {
          "base_uri": "https://localhost:8080/"
        },
        "id": "N5IUdOIuin6F",
        "outputId": "a632b81a-5d71-44e7-ef3c-212f9e69ea8b"
      },
      "outputs": [
        {
          "output_type": "execute_result",
          "data": {
            "text/plain": [
              "[[('GENDRY', 'TYWIN', 3), ('TYWIN', 'TYRION', 4), ('TYRION', 'GREY_WORM', 5)]]"
            ]
          },
          "metadata": {},
          "execution_count": 45
        }
      ],
      "source": [
        "annotated['fastest_shortest']"
      ]
    },
    {
      "cell_type": "code",
      "execution_count": 46,
      "metadata": {
        "colab": {
          "base_uri": "https://localhost:8080/"
        },
        "id": "XCbBVTWEin6F",
        "outputId": "438af066-3b89-4465-94b1-6719617cf7cc"
      },
      "outputs": [
        {
          "output_type": "execute_result",
          "data": {
            "text/plain": [
              "[(('GENDRY', 'NED', 1),\n",
              "  ('NED', 'ROBERT', 2),\n",
              "  ('ROBERT', 'BARRISTAN', 3),\n",
              "  ('BARRISTAN', 'GREY_WORM', 4)),\n",
              " (('GENDRY', 'NED', 1),\n",
              "  ('NED', 'ROBERT', 2),\n",
              "  ('ROBERT', 'DAENERYS', 3),\n",
              "  ('DAENERYS', 'GREY_WORM', 4)),\n",
              " (('GENDRY', 'NED', 1),\n",
              "  ('NED', 'ROBERT', 2),\n",
              "  ('ROBERT', 'JORAH', 3),\n",
              "  ('JORAH', 'GREY_WORM', 4))]"
            ]
          },
          "metadata": {},
          "execution_count": 46
        }
      ],
      "source": [
        "annotated['foremost']"
      ]
    },
    {
      "cell_type": "code",
      "execution_count": null,
      "metadata": {
        "id": "D0_8vEe4in6F"
      },
      "outputs": [],
      "source": []
    }
  ],
  "metadata": {
    "kernelspec": {
      "display_name": "Python 3",
      "language": "python",
      "name": "python3"
    },
    "language_info": {
      "codemirror_mode": {
        "name": "ipython",
        "version": 3
      },
      "file_extension": ".py",
      "mimetype": "text/x-python",
      "name": "python",
      "nbconvert_exporter": "python",
      "pygments_lexer": "ipython3",
      "version": "3.7.4"
    },
    "colab": {
      "provenance": [],
      "include_colab_link": true
    }
  },
  "nbformat": 4,
  "nbformat_minor": 0
}