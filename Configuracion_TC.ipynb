{
  "nbformat": 4,
  "nbformat_minor": 0,
  "metadata": {
    "colab": {
      "provenance": [],
      "authorship_tag": "ABX9TyMxkW26b+Pax57eLoTcvlQg",
      "include_colab_link": true
    },
    "kernelspec": {
      "name": "python3",
      "display_name": "Python 3"
    },
    "language_info": {
      "name": "python"
    }
  },
  "cells": [
    {
      "cell_type": "markdown",
      "metadata": {
        "id": "view-in-github",
        "colab_type": "text"
      },
      "source": [
        "<a href=\"https://colab.research.google.com/github/JeffersonEspinalA/Prueba/blob/main/Configuracion_TC.ipynb\" target=\"_parent\"><img src=\"https://colab.research.google.com/assets/colab-badge.svg\" alt=\"Open In Colab\"/></a>"
      ]
    },
    {
      "cell_type": "code",
      "execution_count": 1,
      "metadata": {
        "id": "ZA-pEZGt_BGK",
        "colab": {
          "base_uri": "https://localhost:8080/"
        },
        "outputId": "665762aa-5ea3-4298-8f5d-1ac43d911e71"
      },
      "outputs": [
        {
          "output_type": "stream",
          "name": "stdout",
          "text": [
            "Reading package lists...\n",
            "Building dependency tree...\n",
            "Reading state information...\n",
            "The following additional packages will be installed:\n",
            "  binfmt-support libclang-cpp12 libffi-dev libpfm4 libz3-4 libz3-dev\n",
            "  llvm-12-dev llvm-12-linker-tools llvm-12-runtime llvm-12-tools\n",
            "  python3-pygments python3-yaml\n",
            "Suggested packages:\n",
            "  llvm-12-doc python-pygments-doc ttf-bitstream-vera\n",
            "The following NEW packages will be installed:\n",
            "  binfmt-support libclang-cpp12 libffi-dev libpfm4 libz3-4 libz3-dev llvm-12\n",
            "  llvm-12-dev llvm-12-linker-tools llvm-12-runtime llvm-12-tools\n",
            "  python3-pygments python3-yaml\n",
            "0 upgraded, 13 newly installed, 0 to remove and 34 not upgraded.\n",
            "Need to get 58.2 MB of archives.\n",
            "After this operation, 359 MB of additional disk space will be used.\n",
            "Get:1 http://archive.ubuntu.com/ubuntu focal-updates/main amd64 python3-yaml amd64 5.3.1-1ubuntu0.1 [136 kB]\n",
            "Get:2 http://archive.ubuntu.com/ubuntu focal/universe amd64 binfmt-support amd64 2.2.0-2 [58.2 kB]\n",
            "Get:3 http://archive.ubuntu.com/ubuntu focal-updates/universe amd64 libclang-cpp12 amd64 1:12.0.0-3ubuntu1~20.04.5 [9,664 kB]\n",
            "Get:4 http://archive.ubuntu.com/ubuntu focal-updates/universe amd64 llvm-12-runtime amd64 1:12.0.0-3ubuntu1~20.04.5 [178 kB]\n",
            "Get:5 http://archive.ubuntu.com/ubuntu focal-updates/universe amd64 llvm-12-linker-tools amd64 1:12.0.0-3ubuntu1~20.04.5 [1,146 kB]\n",
            "Get:6 http://archive.ubuntu.com/ubuntu focal/main amd64 libpfm4 amd64 4.10.1+git20-g7700f49-2 [266 kB]\n",
            "Get:7 http://archive.ubuntu.com/ubuntu focal-updates/universe amd64 llvm-12 amd64 1:12.0.0-3ubuntu1~20.04.5 [10.4 MB]\n",
            "Get:8 http://archive.ubuntu.com/ubuntu focal/main amd64 libffi-dev amd64 3.3-4 [57.0 kB]\n",
            "Get:9 http://archive.ubuntu.com/ubuntu focal-updates/main amd64 python3-pygments all 2.3.1+dfsg-1ubuntu2.2 [579 kB]\n",
            "Get:10 http://archive.ubuntu.com/ubuntu focal-updates/universe amd64 llvm-12-tools amd64 1:12.0.0-3ubuntu1~20.04.5 [348 kB]\n",
            "Get:11 http://archive.ubuntu.com/ubuntu focal/universe amd64 libz3-4 amd64 4.8.7-4build1 [6,792 kB]\n",
            "Get:12 http://archive.ubuntu.com/ubuntu focal/universe amd64 libz3-dev amd64 4.8.7-4build1 [67.5 kB]\n",
            "Get:13 http://archive.ubuntu.com/ubuntu focal-updates/universe amd64 llvm-12-dev amd64 1:12.0.0-3ubuntu1~20.04.5 [28.5 MB]\n",
            "Fetched 58.2 MB in 3s (17.7 MB/s)\n",
            "Selecting previously unselected package python3-yaml.\r\n",
            "(Reading database ... \r(Reading database ... 5%\r(Reading database ... 10%\r(Reading database ... 15%\r(Reading database ... 20%\r(Reading database ... 25%\r(Reading database ... 30%\r(Reading database ... 35%\r(Reading database ... 40%\r(Reading database ... 45%\r(Reading database ... 50%\r(Reading database ... 55%\r(Reading database ... 60%\r(Reading database ... 65%\r(Reading database ... 70%\r(Reading database ... 75%\r(Reading database ... 80%\r(Reading database ... 85%\r(Reading database ... 90%\r(Reading database ... 95%\r(Reading database ... 100%\r(Reading database ... 122545 files and directories currently installed.)\r\n",
            "Preparing to unpack .../00-python3-yaml_5.3.1-1ubuntu0.1_amd64.deb ...\r\n",
            "Unpacking python3-yaml (5.3.1-1ubuntu0.1) ...\r\n",
            "Selecting previously unselected package binfmt-support.\r\n",
            "Preparing to unpack .../01-binfmt-support_2.2.0-2_amd64.deb ...\r\n",
            "Unpacking binfmt-support (2.2.0-2) ...\r\n",
            "Selecting previously unselected package libclang-cpp12.\r\n",
            "Preparing to unpack .../02-libclang-cpp12_1%3a12.0.0-3ubuntu1~20.04.5_amd64.deb ...\r\n",
            "Unpacking libclang-cpp12 (1:12.0.0-3ubuntu1~20.04.5) ...\r\n",
            "Selecting previously unselected package llvm-12-runtime.\r\n",
            "Preparing to unpack .../03-llvm-12-runtime_1%3a12.0.0-3ubuntu1~20.04.5_amd64.deb ...\r\n",
            "Unpacking llvm-12-runtime (1:12.0.0-3ubuntu1~20.04.5) ...\r\n",
            "Selecting previously unselected package llvm-12-linker-tools.\r\n",
            "Preparing to unpack .../04-llvm-12-linker-tools_1%3a12.0.0-3ubuntu1~20.04.5_amd64.deb ...\r\n",
            "Unpacking llvm-12-linker-tools (1:12.0.0-3ubuntu1~20.04.5) ...\r\n",
            "Selecting previously unselected package libpfm4:amd64.\r\n",
            "Preparing to unpack .../05-libpfm4_4.10.1+git20-g7700f49-2_amd64.deb ...\r\n",
            "Unpacking libpfm4:amd64 (4.10.1+git20-g7700f49-2) ...\r\n",
            "Selecting previously unselected package llvm-12.\r\n",
            "Preparing to unpack .../06-llvm-12_1%3a12.0.0-3ubuntu1~20.04.5_amd64.deb ...\r\n",
            "Unpacking llvm-12 (1:12.0.0-3ubuntu1~20.04.5) ...\r\n",
            "Selecting previously unselected package libffi-dev:amd64.\r\n",
            "Preparing to unpack .../07-libffi-dev_3.3-4_amd64.deb ...\r\n",
            "Unpacking libffi-dev:amd64 (3.3-4) ...\r\n",
            "Selecting previously unselected package python3-pygments.\r\n",
            "Preparing to unpack .../08-python3-pygments_2.3.1+dfsg-1ubuntu2.2_all.deb ...\r\n",
            "Unpacking python3-pygments (2.3.1+dfsg-1ubuntu2.2) ...\r\n",
            "Selecting previously unselected package llvm-12-tools.\r\n",
            "Preparing to unpack .../09-llvm-12-tools_1%3a12.0.0-3ubuntu1~20.04.5_amd64.deb ...\r\n",
            "Unpacking llvm-12-tools (1:12.0.0-3ubuntu1~20.04.5) ...\r\n",
            "Selecting previously unselected package libz3-4:amd64.\r\n",
            "Preparing to unpack .../10-libz3-4_4.8.7-4build1_amd64.deb ...\r\n",
            "Unpacking libz3-4:amd64 (4.8.7-4build1) ...\r\n",
            "Selecting previously unselected package libz3-dev:amd64.\r\n",
            "Preparing to unpack .../11-libz3-dev_4.8.7-4build1_amd64.deb ...\r\n",
            "Unpacking libz3-dev:amd64 (4.8.7-4build1) ...\r\n",
            "Selecting previously unselected package llvm-12-dev.\r\n",
            "Preparing to unpack .../12-llvm-12-dev_1%3a12.0.0-3ubuntu1~20.04.5_amd64.deb ...\r\n",
            "Unpacking llvm-12-dev (1:12.0.0-3ubuntu1~20.04.5) ...\r\n",
            "Setting up python3-yaml (5.3.1-1ubuntu0.1) ...\r\n",
            "Setting up llvm-12-linker-tools (1:12.0.0-3ubuntu1~20.04.5) ...\r\n",
            "Setting up libffi-dev:amd64 (3.3-4) ...\r\n",
            "Setting up python3-pygments (2.3.1+dfsg-1ubuntu2.2) ...\r\n",
            "Setting up libz3-4:amd64 (4.8.7-4build1) ...\r\n",
            "Setting up llvm-12-runtime (1:12.0.0-3ubuntu1~20.04.5) ...\r\n",
            "Setting up libpfm4:amd64 (4.10.1+git20-g7700f49-2) ...\r\n",
            "Setting up libclang-cpp12 (1:12.0.0-3ubuntu1~20.04.5) ...\r\n",
            "Setting up binfmt-support (2.2.0-2) ...\r\n",
            "Created symlink /etc/systemd/system/multi-user.target.wants/binfmt-support.service → /lib/systemd/system/binfmt-support.service.\r\n",
            "invoke-rc.d: could not determine current runlevel\r\n",
            "invoke-rc.d: policy-rc.d denied execution of start.\r\n",
            "Setting up llvm-12-tools (1:12.0.0-3ubuntu1~20.04.5) ...\r\n",
            "Setting up libz3-dev:amd64 (4.8.7-4build1) ...\r\n",
            "Setting up llvm-12 (1:12.0.0-3ubuntu1~20.04.5) ...\r\n",
            "Setting up llvm-12-dev (1:12.0.0-3ubuntu1~20.04.5) ...\r\n",
            "Processing triggers for systemd (245.4-4ubuntu3.21) ...\r\n",
            "Processing triggers for man-db (2.9.1-1) ...\r\n",
            "Processing triggers for libc-bin (2.31-0ubuntu9.9) ...\r\n",
            "Reading package lists...\n",
            "Building dependency tree...\n",
            "Reading state information...\n",
            "The following additional packages will be installed:\n",
            "  libclang-common-12-dev libclang1-12 libomp-12-dev libomp5-12\n",
            "Suggested packages:\n",
            "  clang-12-doc libomp-12-doc\n",
            "The following NEW packages will be installed:\n",
            "  clang-12 libclang-common-12-dev libclang1-12 libomp-12-dev libomp5-12\n",
            "0 upgraded, 5 newly installed, 0 to remove and 34 not upgraded.\n",
            "Need to get 11.3 MB of archives.\n",
            "After this operation, 94.4 MB of additional disk space will be used.\n",
            "Get:1 http://archive.ubuntu.com/ubuntu focal-updates/universe amd64 libclang-common-12-dev amd64 1:12.0.0-3ubuntu1~20.04.5 [5,280 kB]\n",
            "Get:2 http://archive.ubuntu.com/ubuntu focal-updates/universe amd64 libclang1-12 amd64 1:12.0.0-3ubuntu1~20.04.5 [5,523 kB]\n",
            "Get:3 http://archive.ubuntu.com/ubuntu focal-updates/universe amd64 clang-12 amd64 1:12.0.0-3ubuntu1~20.04.5 [68.7 kB]\n",
            "Get:4 http://archive.ubuntu.com/ubuntu focal-updates/universe amd64 libomp5-12 amd64 1:12.0.0-3ubuntu1~20.04.5 [347 kB]\n",
            "Get:5 http://archive.ubuntu.com/ubuntu focal-updates/universe amd64 libomp-12-dev amd64 1:12.0.0-3ubuntu1~20.04.5 [34.6 kB]\n",
            "Fetched 11.3 MB in 1s (10.8 MB/s)\n",
            "Selecting previously unselected package libclang-common-12-dev.\r\n",
            "(Reading database ... \r(Reading database ... 5%\r(Reading database ... 10%\r(Reading database ... 15%\r(Reading database ... 20%\r(Reading database ... 25%\r(Reading database ... 30%\r(Reading database ... 35%\r(Reading database ... 40%\r(Reading database ... 45%\r(Reading database ... 50%\r(Reading database ... 55%\r(Reading database ... 60%\r(Reading database ... 65%\r(Reading database ... 70%\r(Reading database ... 75%\r(Reading database ... 80%\r(Reading database ... 85%\r(Reading database ... 90%\r(Reading database ... 95%\r(Reading database ... 100%\r(Reading database ... 125400 files and directories currently installed.)\r\n",
            "Preparing to unpack .../libclang-common-12-dev_1%3a12.0.0-3ubuntu1~20.04.5_amd64.deb ...\r\n",
            "Unpacking libclang-common-12-dev (1:12.0.0-3ubuntu1~20.04.5) ...\r\n",
            "Selecting previously unselected package libclang1-12.\r\n",
            "Preparing to unpack .../libclang1-12_1%3a12.0.0-3ubuntu1~20.04.5_amd64.deb ...\r\n",
            "Unpacking libclang1-12 (1:12.0.0-3ubuntu1~20.04.5) ...\r\n",
            "Selecting previously unselected package clang-12.\r\n",
            "Preparing to unpack .../clang-12_1%3a12.0.0-3ubuntu1~20.04.5_amd64.deb ...\r\n",
            "Unpacking clang-12 (1:12.0.0-3ubuntu1~20.04.5) ...\r\n",
            "Selecting previously unselected package libomp5-12:amd64.\r\n",
            "Preparing to unpack .../libomp5-12_1%3a12.0.0-3ubuntu1~20.04.5_amd64.deb ...\r\n",
            "Unpacking libomp5-12:amd64 (1:12.0.0-3ubuntu1~20.04.5) ...\r\n",
            "Selecting previously unselected package libomp-12-dev.\r\n",
            "Preparing to unpack .../libomp-12-dev_1%3a12.0.0-3ubuntu1~20.04.5_amd64.deb ...\r\n",
            "Unpacking libomp-12-dev (1:12.0.0-3ubuntu1~20.04.5) ...\r\n",
            "Setting up libclang1-12 (1:12.0.0-3ubuntu1~20.04.5) ...\r\n",
            "Setting up libclang-common-12-dev (1:12.0.0-3ubuntu1~20.04.5) ...\r\n",
            "Setting up libomp5-12:amd64 (1:12.0.0-3ubuntu1~20.04.5) ...\r\n",
            "Setting up clang-12 (1:12.0.0-3ubuntu1~20.04.5) ...\r\n",
            "Setting up libomp-12-dev (1:12.0.0-3ubuntu1~20.04.5) ...\r\n",
            "Processing triggers for man-db (2.9.1-1) ...\r\n",
            "Processing triggers for libc-bin (2.31-0ubuntu9.9) ...\r\n"
          ]
        },
        {
          "output_type": "stream",
          "name": "stderr",
          "text": [
            "debconf: unable to initialize frontend: Dialog\n",
            "debconf: (No usable dialog-like program is installed, so the dialog based frontend cannot be used. at /usr/share/perl5/Debconf/FrontEnd/Dialog.pm line 76, <> line 13.)\n",
            "debconf: falling back to frontend: Readline\n",
            "debconf: unable to initialize frontend: Readline\n",
            "debconf: (This frontend requires a controlling tty.)\n",
            "debconf: falling back to frontend: Teletype\n",
            "dpkg-preconfigure: unable to re-open stdin: \n",
            "debconf: unable to initialize frontend: Dialog\n",
            "debconf: (No usable dialog-like program is installed, so the dialog based frontend cannot be used. at /usr/share/perl5/Debconf/FrontEnd/Dialog.pm line 76, <> line 5.)\n",
            "debconf: falling back to frontend: Readline\n",
            "debconf: unable to initialize frontend: Readline\n",
            "debconf: (This frontend requires a controlling tty.)\n",
            "debconf: falling back to frontend: Teletype\n",
            "dpkg-preconfigure: unable to re-open stdin: \n"
          ]
        }
      ],
      "source": [
        "%%bash\n",
        "sudo apt-get install llvm-12\n",
        "sudo apt-get install clang-12\n",
        "ln -s /usr/lib/llvm-12/bin/opt /usr/bin/opt\n",
        "ln -s /usr/lib/llvm-12/bin/llc /usr/bin/llc"
      ]
    },
    {
      "cell_type": "code",
      "source": [
        "!opt -version"
      ],
      "metadata": {
        "colab": {
          "base_uri": "https://localhost:8080/"
        },
        "id": "GnuiJuQlwY5H",
        "outputId": "c479d6bd-1e51-410f-c5f9-0f1afa3a431a"
      },
      "execution_count": 5,
      "outputs": [
        {
          "output_type": "stream",
          "name": "stdout",
          "text": [
            "LLVM (http://llvm.org/):\n",
            "  LLVM version 12.0.0\n",
            "  \n",
            "  Optimized build.\n",
            "  Default target: x86_64-pc-linux-gnu\n",
            "  Host CPU: znver2\n"
          ]
        }
      ]
    },
    {
      "cell_type": "code",
      "source": [
        "!clang-12 --version"
      ],
      "metadata": {
        "colab": {
          "base_uri": "https://localhost:8080/"
        },
        "id": "ZJKYfXmcwpG5",
        "outputId": "730ec662-fd0f-4bda-ae1f-09bdc9116f4e"
      },
      "execution_count": 9,
      "outputs": [
        {
          "output_type": "stream",
          "name": "stdout",
          "text": [
            "Ubuntu clang version 12.0.0-3ubuntu1~20.04.5\n",
            "Target: x86_64-pc-linux-gnu\n",
            "Thread model: posix\n",
            "InstalledDir: /usr/bin\n"
          ]
        }
      ]
    }
  ]
}