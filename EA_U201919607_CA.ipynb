{
  "nbformat": 4,
  "nbformat_minor": 0,
  "metadata": {
    "colab": {
      "name": "EA_U201919607_CA.ipynb",
      "provenance": [],
      "collapsed_sections": [],
      "include_colab_link": true
    },
    "kernelspec": {
      "name": "python3",
      "display_name": "Python 3"
    },
    "language_info": {
      "name": "python"
    }
  },
  "cells": [
    {
      "cell_type": "markdown",
      "metadata": {
        "id": "view-in-github",
        "colab_type": "text"
      },
      "source": [
        "<a href=\"https://colab.research.google.com/github/JeffersonEspinalA/Prueba/blob/main/EA_U201919607_CA.ipynb\" target=\"_parent\"><img src=\"https://colab.research.google.com/assets/colab-badge.svg\" alt=\"Open In Colab\"/></a>"
      ]
    },
    {
      "cell_type": "markdown",
      "source": [
        "#PARTE 1"
      ],
      "metadata": {
        "id": "8WH-23j-LPDk"
      }
    },
    {
      "cell_type": "markdown",
      "source": [
        "Pregunta 1"
      ],
      "metadata": {
        "id": "pPs_hAh8LR4o"
      }
    },
    {
      "cell_type": "code",
      "source": [
        "import random"
      ],
      "metadata": {
        "id": "VFV270gVL_LZ"
      },
      "execution_count": null,
      "outputs": []
    },
    {
      "cell_type": "code",
      "execution_count": null,
      "metadata": {
        "id": "UsoEC2iuK19C"
      },
      "outputs": [],
      "source": [
        "def rdfs(G, s):\n",
        "  n = len(G)\n",
        "  path = [-1]*n\n",
        "  visited = [False]*n\n",
        "\n",
        "  def _rdfs(u):\n",
        "    visited[u] = True\n",
        "    #desordenar lista\n",
        "    random.shuffle(G[u])\n",
        "    for v in G[u]:\n",
        "      if not visited[v]:\n",
        "        path[v] = u\n",
        "        _rdfs(v)\n",
        "\n",
        "  _rdfs(s)\n",
        "  return path"
      ]
    },
    {
      "cell_type": "code",
      "source": [
        "def randomAL(n, m):\n",
        "  G = []\n",
        "  numvertices = [0]*n\n",
        "  for _ in range(m):\n",
        "    i = random.randint(0, n-1)\n",
        "    numvertices[i] += 1\n",
        "  for i in range(n):\n",
        "    G.append(random.sample(range(n), numvertices[i]))\n",
        "\n",
        "  return G"
      ],
      "metadata": {
        "id": "HFli0cIlMPY-"
      },
      "execution_count": null,
      "outputs": []
    },
    {
      "cell_type": "code",
      "source": [
        "#Prueba 1\n",
        "G1 = randomAL(5,10)\n",
        "print(G1)\n",
        "print(rdfs(G1, 3))\n",
        "print(rdfs(G1, 3))"
      ],
      "metadata": {
        "colab": {
          "base_uri": "https://localhost:8080/"
        },
        "id": "rIWdKpHdMRpm",
        "outputId": "9b6a3e1e-fefa-41e7-db61-93ae7d7e8eae"
      },
      "execution_count": null,
      "outputs": [
        {
          "output_type": "stream",
          "name": "stdout",
          "text": [
            "[[0, 3, 4], [2, 4, 0], [2], [1, 3, 2], []]\n",
            "[1, 3, 1, -1, 1]\n",
            "[1, 3, 3, -1, 0]\n"
          ]
        }
      ]
    },
    {
      "cell_type": "code",
      "source": [
        "#Prueba 2\n",
        "G2 = randomAL(10,20)\n",
        "print(G2)\n",
        "print(rdfs(G2, 7))\n",
        "print(rdfs(G2, 7))"
      ],
      "metadata": {
        "colab": {
          "base_uri": "https://localhost:8080/"
        },
        "id": "JVgNh9dzMpKX",
        "outputId": "98eec9d5-cb0a-4e92-a185-ec5388aa4d74"
      },
      "execution_count": null,
      "outputs": [
        {
          "output_type": "stream",
          "name": "stdout",
          "text": [
            "[[3, 5, 6, 9], [5, 1], [1, 7, 9, 2, 5], [6], [1], [1], [4, 9], [2], [1], [7, 3]]\n",
            "[-1, 5, 7, 9, 6, 2, 3, -1, -1, 2]\n",
            "[-1, 4, 7, 9, 6, 1, 3, -1, -1, 2]\n"
          ]
        }
      ]
    },
    {
      "cell_type": "code",
      "source": [
        "#Prueba 3\n",
        "G3 = randomAL(15,30)\n",
        "print(G3)\n",
        "print(rdfs(G3, 10))\n",
        "print(rdfs(G3, 10))"
      ],
      "metadata": {
        "colab": {
          "base_uri": "https://localhost:8080/"
        },
        "id": "LVLwEH-UO6nK",
        "outputId": "9a2f08b1-02a6-4e23-e38a-17e70ebffd9c"
      },
      "execution_count": null,
      "outputs": [
        {
          "output_type": "stream",
          "name": "stdout",
          "text": [
            "[[8, 3, 10], [9, 8, 6, 0, 7], [2], [14], [9], [10, 2, 12, 9], [11], [1], [], [14, 11, 4, 5], [3, 4, 10, 5], [2], [0], [12], [9, 12]]\n",
            "[12, -1, 11, 0, 10, 9, -1, -1, 0, 4, -1, 9, 5, -1, 3]\n",
            "[12, -1, 5, 10, 9, 9, -1, -1, 0, 14, -1, 9, 5, -1, 3]\n"
          ]
        }
      ]
    },
    {
      "cell_type": "markdown",
      "source": [
        "Pregunta 2"
      ],
      "metadata": {
        "id": "rQdQXBUSPYLU"
      }
    },
    {
      "cell_type": "code",
      "source": [
        "def toposort(G):\n",
        "  n = len(G)\n",
        "  visited = [False]*n\n",
        "  ts = []\n",
        "\n",
        "  def dfs(u):\n",
        "    visited[u] = True\n",
        "    for v in G[u]:\n",
        "      if not visited[v]:\n",
        "        dfs(v)\n",
        "    ts.append(u)\n",
        "\n",
        "  for u in range(n):\n",
        "    if not visited[u]:\n",
        "      dfs(u)\n",
        "\n",
        "  return ts"
      ],
      "metadata": {
        "id": "Q2zhP37ASMVG"
      },
      "execution_count": null,
      "outputs": []
    },
    {
      "cell_type": "code",
      "source": [
        "%%file inputp2.txt\n",
        "3\n",
        "platano\n",
        "acai\n",
        "manzana\n",
        "2\n",
        "acai platano\n",
        "manzana acai\n",
        "5\n",
        "acai\n",
        "manzana\n",
        "cereza\n",
        "melon\n",
        "papaya\n",
        "6\n",
        "manzana papaya\n",
        "melon manzana\n",
        "melon cereza\n",
        "manzana cereza\n",
        "manzana acai\n",
        "acai papaya\n",
        "10\n",
        "papaya\n",
        "cereza\n",
        "melon\n",
        "mango\n",
        "cocona\n",
        "acai\n",
        "platano\n",
        "manzana\n",
        "capuli\n",
        "durazno\n",
        "11\n",
        "manzana cocona\n",
        "melon durazno\n",
        "cereza papaya\n",
        "platano mango\n",
        "melon capuli\n",
        "cereza durazno\n",
        "acai cocona\n",
        "melon manzana\n",
        "manzana cereza\n",
        "acai platano\n",
        "manzana mango\n",
        "0"
      ],
      "metadata": {
        "colab": {
          "base_uri": "https://localhost:8080/"
        },
        "id": "WizRMR-dPMp3",
        "outputId": "6cf77a9e-de41-4373-b522-93712392b55e"
      },
      "execution_count": null,
      "outputs": [
        {
          "output_type": "stream",
          "name": "stdout",
          "text": [
            "Overwriting inputp2.txt\n"
          ]
        }
      ]
    },
    {
      "cell_type": "code",
      "source": [
        "cont = 1\n",
        "with open(\"inputp2.txt\") as f:\n",
        "  while True:\n",
        "    N = int(f.readline().strip())\n",
        "    if N == 0: break\n",
        "    \n",
        "    bebidas = {}\n",
        "    e_bebidas = []\n",
        "    for i in range(N):\n",
        "      aux = f.readline().strip()\n",
        "      bebidas[aux] = i\n",
        "      e_bebidas.append(aux)\n",
        "    \n",
        "    M = int(f.readline().strip())\n",
        "\n",
        "    G = [[] for _ in range(N)]\n",
        "    for u in range(M):\n",
        "      B1, B2 = [x for x in f.readline().strip().split()]\n",
        "      G[bebidas[B1]].append(bebidas[B2])\n",
        "      \n",
        "    ts = reversed(toposort(G))\n",
        "    rpta = [e_bebidas[int(x)] for x in ts]\n",
        "    print(f\"Caso {cont}: usted debería tomar las bebidas en éste orden: {rpta}\")\n",
        "    cont += 1"
      ],
      "metadata": {
        "colab": {
          "base_uri": "https://localhost:8080/"
        },
        "id": "ZC1okxMlR60F",
        "outputId": "ca3aa7aa-80b0-431b-eac6-778b09238323"
      },
      "execution_count": null,
      "outputs": [
        {
          "output_type": "stream",
          "name": "stdout",
          "text": [
            "Caso 1: usted debería tomar las bebidas en éste orden: ['manzana', 'acai', 'platano']\n",
            "Caso 2: usted debería tomar las bebidas en éste orden: ['melon', 'manzana', 'cereza', 'acai', 'papaya']\n",
            "Caso 3: usted debería tomar las bebidas en éste orden: ['acai', 'platano', 'melon', 'manzana', 'mango', 'cocona', 'capuli', 'cereza', 'durazno', 'papaya']\n"
          ]
        }
      ]
    },
    {
      "cell_type": "markdown",
      "source": [
        "#PARTE 2"
      ],
      "metadata": {
        "id": "2HKbSHr5YXd8"
      }
    },
    {
      "cell_type": "markdown",
      "source": [
        "Electivo 2"
      ],
      "metadata": {
        "id": "X8CiR7jCbWOW"
      }
    },
    {
      "cell_type": "code",
      "source": [
        "def bfs_al(G, s):\n",
        "  n = len(G)\n",
        "  visited = [False]*n\n",
        "  path = [-1]*n # parent\n",
        "  queue = [s]\n",
        "  visited[s] = True\n",
        "\n",
        "  while queue:\n",
        "    u = queue.pop(0)\n",
        "    for v in G[u]:\n",
        "      if not visited[v]:\n",
        "        visited[v] = True\n",
        "        path[v] = u\n",
        "        queue.append(v)\n",
        "\n",
        "  return path"
      ],
      "metadata": {
        "id": "gCGnMTrjbkr8"
      },
      "execution_count": null,
      "outputs": []
    },
    {
      "cell_type": "code",
      "source": [
        "def electivo2(aristas, n):\n",
        "  G = [[] for _ in range(n)]\n",
        "  \n",
        "  for arista in aristas:\n",
        "    u, v = arista\n",
        "    G[u].append(v)\n",
        "\n",
        "  for i in range(n):\n",
        "    path = bfs_al(G, i)\n",
        "    cont = 0\n",
        "    for num in path:\n",
        "      if num == -1:\n",
        "        cont += 1\n",
        "    if cont == 1:\n",
        "      return i\n",
        "  return -1"
      ],
      "metadata": {
        "id": "KvXImaLfbtq9"
      },
      "execution_count": null,
      "outputs": []
    },
    {
      "cell_type": "code",
      "source": [
        "#input\n",
        "aristas = [(0, 1), (1, 2), (2, 3), (3, 0), (4, 3), (4, 5), (5, 0)]\n",
        "n = 6\n",
        "\n",
        "#ouput\n",
        "print(electivo2(aristas, n))"
      ],
      "metadata": {
        "colab": {
          "base_uri": "https://localhost:8080/"
        },
        "id": "3vLdV6itbXzG",
        "outputId": "ed574342-b8fb-4db7-b667-593fe8e95fad"
      },
      "execution_count": null,
      "outputs": [
        {
          "output_type": "stream",
          "name": "stdout",
          "text": [
            "4\n"
          ]
        }
      ]
    },
    {
      "cell_type": "markdown",
      "source": [
        "Electivo 3"
      ],
      "metadata": {
        "id": "CLU_mB4-Yej6"
      }
    },
    {
      "cell_type": "code",
      "source": [
        "def dls(G, s, L):\n",
        "  n = len(G)\n",
        "  visited = [False]*n\n",
        "  path = [-1]*n\n",
        "\n",
        "  def _dls(u, L):\n",
        "    if L > 0 and not visited[u]:\n",
        "      visited[u] = True\n",
        "      for v in G[u]:\n",
        "        if not visited[v]:\n",
        "          path[v] = u\n",
        "          _dls(v, L - 1)\n",
        "\n",
        "  _dls(s, L)\n",
        "  return path"
      ],
      "metadata": {
        "id": "puE1wYw5ZT94"
      },
      "execution_count": null,
      "outputs": []
    },
    {
      "cell_type": "code",
      "source": [
        "def ids(G, start, target):\n",
        "  n = len(G)\n",
        "  for limit in range(n):\n",
        "    path = dls(G, start, limit)\n",
        "    if path[target] != -1:\n",
        "      break\n",
        "  return path"
      ],
      "metadata": {
        "id": "j3eV3TEmZEVK"
      },
      "execution_count": null,
      "outputs": []
    },
    {
      "cell_type": "code",
      "source": [
        "def electivo3(aristas, n, nodo_inicial, nodo_final):\n",
        "  G = [[] for _ in range(n)]\n",
        "  for arista in aristas:\n",
        "    u, v = arista\n",
        "    G[u].append(v)\n",
        "  i2f = ids(G, nodo_inicial, nodo_final)\n",
        "  f2i = ids(G, nodo_final, nodo_inicial)\n",
        "  if i2f[nodo_final] == -1 or f2i[nodo_inicial] == -1:\n",
        "    return \"0\"\n",
        "  return \"1\""
      ],
      "metadata": {
        "id": "NGgC5sHBZWii"
      },
      "execution_count": null,
      "outputs": []
    },
    {
      "cell_type": "code",
      "source": [
        "#input\n",
        "aristas = [ (0, 3), (1, 0), (1, 2), (1, 4), (2, 7), (3, 4), (3, 5), (4, 3), (4, 6), (5, 6), (6, 7)]\n",
        "n = 8\n",
        "nodo_inicial = 0\n",
        "nodo_final = 7\n",
        "\n",
        "#output\n",
        "print(electivo3(aristas, n, nodo_inicial, nodo_final))"
      ],
      "metadata": {
        "colab": {
          "base_uri": "https://localhost:8080/"
        },
        "id": "SJtEh5m0V3_g",
        "outputId": "fff9a437-f227-4390-c6f7-bb1b58090a27"
      },
      "execution_count": null,
      "outputs": [
        {
          "output_type": "stream",
          "name": "stdout",
          "text": [
            "0\n"
          ]
        }
      ]
    }
  ]
}