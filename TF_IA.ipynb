{
  "nbformat": 4,
  "nbformat_minor": 0,
  "metadata": {
    "colab": {
      "provenance": [],
      "collapsed_sections": [],
      "mount_file_id": "17entcXHk_DIMZDZYDlJ-cTDrR6JHVmnJ",
      "authorship_tag": "ABX9TyMQuoKBohCKAQktfqaXsUqE"
    },
    "kernelspec": {
      "name": "python3",
      "display_name": "Python 3"
    },
    "language_info": {
      "name": "python"
    }
  },
  "cells": [
    {
      "cell_type": "markdown",
      "source": [
        "Importar librerias"
      ],
      "metadata": {
        "id": "YqK5s-1aOOCp"
      }
    },
    {
      "cell_type": "code",
      "execution_count": 1,
      "metadata": {
        "id": "WpL4C2E6BRVq"
      },
      "outputs": [],
      "source": [
        "import tensorflow\n",
        "import pandas as pd\n",
        "import numpy as np\n",
        "\n",
        "from keras.models import Sequential\n",
        "from keras import optimizers\n",
        "from keras.layers import Dense, Conv2D, Dropout, Flatten, MaxPooling2D\n",
        "\n",
        "from sklearn.model_selection import train_test_split\n",
        "from sklearn.preprocessing import LabelEncoder\n",
        "from keras_preprocessing.image import ImageDataGenerator\n",
        "from keras.optimizers import SGD"
      ]
    },
    {
      "cell_type": "markdown",
      "source": [
        "Cargar datos"
      ],
      "metadata": {
        "id": "UifzlbC4OUkF"
      }
    },
    {
      "cell_type": "code",
      "source": [
        "dataset = pd.read_csv('drive/MyDrive/HAM10000/HAM10000_metadata.csv')\n",
        "dataset['image_full_name'] = dataset['image_id']+'.jpg'"
      ],
      "metadata": {
        "id": "PZd79saAeFle"
      },
      "execution_count": 2,
      "outputs": []
    },
    {
      "cell_type": "markdown",
      "source": [
        "Creación del modelo"
      ],
      "metadata": {
        "id": "eRPkc3-xOYkm"
      }
    },
    {
      "cell_type": "code",
      "source": [
        "modelo = Sequential()\n",
        "modelo.add(Conv2D(32, (3, 3), activation='relu'))\n",
        "modelo.add(MaxPooling2D(pool_size=(2, 2)))\n",
        "modelo.add(Dropout(0.5))\n",
        "modelo.add(Flatten())\n",
        "modelo.add(Dense(128, activation='relu'))\n",
        "modelo.add(Dense(7, activation='sigmoid'))"
      ],
      "metadata": {
        "id": "ABm1meJ1B1ZT"
      },
      "execution_count": 3,
      "outputs": []
    },
    {
      "cell_type": "markdown",
      "source": [
        "Dividir datos: entrenamiento, prueba y validación"
      ],
      "metadata": {
        "id": "JXweXVnmOcV2"
      }
    },
    {
      "cell_type": "code",
      "source": [
        "X = dataset[['image_full_name','dx','lesion_id']]\n",
        "Y = X.pop('dx').to_frame()\n",
        "X_entre, X_prueba, Y_entre, Y_prueba = train_test_split(X, Y, test_size=0.15, random_state=42)\n",
        "X_entre, X_val, Y_entre, Y_val = train_test_split(X_entre, Y_entre, test_size=0.15, random_state=42)"
      ],
      "metadata": {
        "id": "3TcIuWmMeIAK"
      },
      "execution_count": 4,
      "outputs": []
    },
    {
      "cell_type": "code",
      "source": [
        "entre = pd.concat([X_entre, Y_entre],axis=1)\n",
        "val = pd.concat([X_val, Y_val],axis=1)\n",
        "prueba = pd.concat([X_prueba, Y_prueba],axis=1)"
      ],
      "metadata": {
        "id": "dfjLYflueUKr"
      },
      "execution_count": 5,
      "outputs": []
    },
    {
      "cell_type": "code",
      "source": [
        "encoder = LabelEncoder()\n",
        "encoder.fit(val['dx'])\n",
        "tipo_indice_entre = encoder.transform(val['dx']) \n",
        "val['label'] = tipo_indice_entre"
      ],
      "metadata": {
        "id": "5W29LUUeeXhO"
      },
      "execution_count": 6,
      "outputs": []
    },
    {
      "cell_type": "code",
      "source": [
        "encoder = LabelEncoder()\n",
        "encoder.fit(prueba['dx'])\n",
        "tipo_indice_prueba = encoder.transform(prueba['dx']) \n",
        "prueba['label'] = tipo_indice_prueba"
      ],
      "metadata": {
        "id": "CkN4mJ7LedpT"
      },
      "execution_count": 7,
      "outputs": []
    },
    {
      "cell_type": "code",
      "source": [
        "entre_generator = ImageDataGenerator(rescale=1./255, rotation_range=10, zoom_range = 0.1, \n",
        "                                     width_shift_range=0.0, height_shift_range=0.00)"
      ],
      "metadata": {
        "id": "o4aauJ98eg95"
      },
      "execution_count": 8,
      "outputs": []
    },
    {
      "cell_type": "code",
      "source": [
        "datos_entre = entre_generator.flow_from_dataframe(dataframe=entre, x_col=\"image_full_name\", y_col=\"dx\",\n",
        "                                                  batch_size=32, directory=\"drive/MyDrive/HAM10000/HAM10000_images\",\n",
        "                                                  shuffle=True, class_mode=\"categorical\", target_size=(28,28))"
      ],
      "metadata": {
        "colab": {
          "base_uri": "https://localhost:8080/"
        },
        "id": "NW28l5MTeidV",
        "outputId": "02edca16-417a-4c0d-8a23-e78146fd958b"
      },
      "execution_count": 9,
      "outputs": [
        {
          "output_type": "stream",
          "name": "stdout",
          "text": [
            "Found 7235 validated image filenames belonging to 7 classes.\n"
          ]
        }
      ]
    },
    {
      "cell_type": "code",
      "source": [
        "prueba_generator = ImageDataGenerator(rescale=1./255,rotation_range=10, zoom_range=0.1, \n",
        "                                      width_shift_range=0.0, height_shift_range=0.02)"
      ],
      "metadata": {
        "id": "3MfEXIBvekPm"
      },
      "execution_count": 10,
      "outputs": []
    },
    {
      "cell_type": "code",
      "source": [
        "datos_prueba = prueba_generator.flow_from_dataframe(dataframe=prueba, x_col=\"image_full_name\", y_col=\"dx\",\n",
        "                                                    directory=\"drive/MyDrive/HAM10000/HAM10000_images\",\n",
        "                                                    shuffle=False, batch_size=1, class_mode=None, target_size=(28,28))"
      ],
      "metadata": {
        "colab": {
          "base_uri": "https://localhost:8080/"
        },
        "id": "r3q9QbFDenC5",
        "outputId": "96f61dde-af0d-4ce5-d86c-b03490a8c635"
      },
      "execution_count": 11,
      "outputs": [
        {
          "output_type": "stream",
          "name": "stdout",
          "text": [
            "Found 1503 validated image filenames.\n"
          ]
        }
      ]
    },
    {
      "cell_type": "code",
      "source": [
        "datos_val = prueba_generator.flow_from_dataframe(dataframe=val, x_col=\"image_full_name\", y_col=\"dx\",\n",
        "                                                 directory=\"drive/MyDrive/HAM10000/HAM10000_images\",\n",
        "                                                 batch_size=64, shuffle=False, class_mode=\"categorical\", target_size=(28,28))"
      ],
      "metadata": {
        "colab": {
          "base_uri": "https://localhost:8080/"
        },
        "id": "TX375xS0erIC",
        "outputId": "7c428ab5-568b-4900-be80-14221c386a12"
      },
      "execution_count": 12,
      "outputs": [
        {
          "output_type": "stream",
          "name": "stdout",
          "text": [
            "Found 1277 validated image filenames belonging to 7 classes.\n"
          ]
        }
      ]
    },
    {
      "cell_type": "markdown",
      "source": [
        "Compilar modelo"
      ],
      "metadata": {
        "id": "LKjl1fD6OlAX"
      }
    },
    {
      "cell_type": "code",
      "source": [
        "sgd = optimizers.SGD(learning_rate=0.01, clipvalue=0.5)\n",
        "modelo.compile(optimizer=sgd,loss=\"categorical_crossentropy\",metrics=[\"accuracy\"])"
      ],
      "metadata": {
        "id": "aX07qD-eeusD"
      },
      "execution_count": 13,
      "outputs": []
    },
    {
      "cell_type": "markdown",
      "source": [
        "Entrenar modelo"
      ],
      "metadata": {
        "id": "5sfRnB9kOnLm"
      }
    },
    {
      "cell_type": "code",
      "source": [
        "historial = modelo.fit_generator(generator=datos_entre, steps_per_epoch=datos_entre.samples//datos_entre.batch_size,\n",
        "                               validation_data=datos_val, verbose=1, validation_steps=datos_val.samples//datos_val.batch_size,\n",
        "                               epochs=20)"
      ],
      "metadata": {
        "id": "kh4bn7rkjhZ8",
        "outputId": "92a15dc6-81d7-4502-ff86-34d279dd49d7",
        "colab": {
          "base_uri": "https://localhost:8080/"
        }
      },
      "execution_count": 19,
      "outputs": [
        {
          "output_type": "stream",
          "name": "stderr",
          "text": [
            "/usr/local/lib/python3.7/dist-packages/ipykernel_launcher.py:3: UserWarning: `Model.fit_generator` is deprecated and will be removed in a future version. Please use `Model.fit`, which supports generators.\n",
            "  This is separate from the ipykernel package so we can avoid doing imports until\n"
          ]
        },
        {
          "output_type": "stream",
          "name": "stdout",
          "text": [
            "Epoch 1/20\n",
            "226/226 [==============================] - 85s 377ms/step - loss: 0.8839 - accuracy: 0.6849 - val_loss: 0.8670 - val_accuracy: 0.6941\n",
            "Epoch 2/20\n",
            "226/226 [==============================] - 83s 369ms/step - loss: 0.8779 - accuracy: 0.6861 - val_loss: 0.8489 - val_accuracy: 0.6941\n",
            "Epoch 3/20\n",
            "226/226 [==============================] - 84s 372ms/step - loss: 0.8658 - accuracy: 0.6887 - val_loss: 0.8373 - val_accuracy: 0.6982\n",
            "Epoch 4/20\n",
            "226/226 [==============================] - 88s 387ms/step - loss: 0.8553 - accuracy: 0.6922 - val_loss: 0.8401 - val_accuracy: 0.6859\n",
            "Epoch 5/20\n",
            "226/226 [==============================] - 85s 374ms/step - loss: 0.8501 - accuracy: 0.6907 - val_loss: 0.8810 - val_accuracy: 0.7023\n",
            "Epoch 6/20\n",
            "226/226 [==============================] - 85s 378ms/step - loss: 0.8409 - accuracy: 0.6928 - val_loss: 0.8194 - val_accuracy: 0.7081\n",
            "Epoch 7/20\n",
            "226/226 [==============================] - 85s 374ms/step - loss: 0.8379 - accuracy: 0.6951 - val_loss: 0.8331 - val_accuracy: 0.6965\n",
            "Epoch 8/20\n",
            "226/226 [==============================] - 84s 371ms/step - loss: 0.8266 - accuracy: 0.6996 - val_loss: 0.8061 - val_accuracy: 0.7064\n",
            "Epoch 9/20\n",
            "226/226 [==============================] - 90s 399ms/step - loss: 0.8228 - accuracy: 0.6986 - val_loss: 0.7976 - val_accuracy: 0.7072\n",
            "Epoch 10/20\n",
            "226/226 [==============================] - 85s 378ms/step - loss: 0.8203 - accuracy: 0.7019 - val_loss: 0.8051 - val_accuracy: 0.6982\n",
            "Epoch 11/20\n",
            "226/226 [==============================] - 84s 374ms/step - loss: 0.8105 - accuracy: 0.7053 - val_loss: 0.7979 - val_accuracy: 0.7105\n",
            "Epoch 12/20\n",
            "226/226 [==============================] - 84s 373ms/step - loss: 0.8007 - accuracy: 0.7080 - val_loss: 0.7967 - val_accuracy: 0.7122\n",
            "Epoch 13/20\n",
            "226/226 [==============================] - 83s 368ms/step - loss: 0.7965 - accuracy: 0.7055 - val_loss: 0.7739 - val_accuracy: 0.7220\n",
            "Epoch 14/20\n",
            "226/226 [==============================] - 90s 399ms/step - loss: 0.7899 - accuracy: 0.7121 - val_loss: 0.7751 - val_accuracy: 0.7188\n",
            "Epoch 15/20\n",
            "226/226 [==============================] - 83s 366ms/step - loss: 0.7894 - accuracy: 0.7122 - val_loss: 0.7797 - val_accuracy: 0.7204\n",
            "Epoch 16/20\n",
            "226/226 [==============================] - 85s 376ms/step - loss: 0.7876 - accuracy: 0.7076 - val_loss: 0.7875 - val_accuracy: 0.7105\n",
            "Epoch 17/20\n",
            "226/226 [==============================] - 85s 374ms/step - loss: 0.7806 - accuracy: 0.7111 - val_loss: 0.7615 - val_accuracy: 0.7237\n",
            "Epoch 18/20\n",
            "226/226 [==============================] - 90s 400ms/step - loss: 0.7780 - accuracy: 0.7137 - val_loss: 0.7643 - val_accuracy: 0.7286\n",
            "Epoch 19/20\n",
            "226/226 [==============================] - 84s 372ms/step - loss: 0.7699 - accuracy: 0.7204 - val_loss: 0.7638 - val_accuracy: 0.7179\n",
            "Epoch 20/20\n",
            "226/226 [==============================] - 84s 370ms/step - loss: 0.7661 - accuracy: 0.7169 - val_loss: 0.7518 - val_accuracy: 0.7270\n"
          ]
        }
      ]
    },
    {
      "cell_type": "markdown",
      "source": [
        "Evaluación porcentaje de precisión"
      ],
      "metadata": {
        "id": "SMzUTdiBOq_8"
      }
    },
    {
      "cell_type": "code",
      "source": [
        "datos_prueba.reset()\n",
        "predicciones = modelo.predict_generator(datos_prueba, steps=datos_prueba.samples/datos_prueba.batch_size, verbose=1)\n",
        "x_pred = np.argmax(predicciones, axis=1)\n",
        "cant = np.where(x_pred == tipo_indice_prueba)\n",
        "print(f\"Tasa de precision del modelo: {int((np.count_nonzero(cant) / len(tipo_indice_prueba)) * 100)} %\")"
      ],
      "metadata": {
        "colab": {
          "base_uri": "https://localhost:8080/"
        },
        "id": "qIVm7nYSshNa",
        "outputId": "5777beb6-ccee-4b85-be7d-6da17ea0256a"
      },
      "execution_count": 20,
      "outputs": [
        {
          "output_type": "stream",
          "name": "stdout",
          "text": [
            "  10/1503 [..............................] - ETA: 18s"
          ]
        },
        {
          "output_type": "stream",
          "name": "stderr",
          "text": [
            "/usr/local/lib/python3.7/dist-packages/ipykernel_launcher.py:2: UserWarning: `Model.predict_generator` is deprecated and will be removed in a future version. Please use `Model.predict`, which supports generators.\n",
            "  \n"
          ]
        },
        {
          "output_type": "stream",
          "name": "stdout",
          "text": [
            "1503/1503 [==============================] - 21s 14ms/step\n",
            "Tasa de precision del modelo: 71 %\n"
          ]
        }
      ]
    },
    {
      "cell_type": "markdown",
      "source": [
        "Guardar modelo"
      ],
      "metadata": {
        "id": "kTUgK5N-PDWQ"
      }
    },
    {
      "cell_type": "code",
      "source": [
        "modelo.save('Trabajo_Final.h5')"
      ],
      "metadata": {
        "id": "Q4L3RoolPFAc"
      },
      "execution_count": 21,
      "outputs": []
    }
  ]
}