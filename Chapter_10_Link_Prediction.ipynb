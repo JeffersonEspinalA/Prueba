{
  "cells": [
    {
      "cell_type": "markdown",
      "metadata": {
        "id": "view-in-github",
        "colab_type": "text"
      },
      "source": [
        "<a href=\"https://colab.research.google.com/github/JeffersonEspinalA/Prueba/blob/main/Chapter_10_Link_Prediction.ipynb\" target=\"_parent\"><img src=\"https://colab.research.google.com/assets/colab-badge.svg\" alt=\"Open In Colab\"/></a>"
      ]
    },
    {
      "cell_type": "markdown",
      "metadata": {
        "id": "W7KukAjoBmJ_"
      },
      "source": [
        "<span>\n",
        "<b>Author:</b> <a href=\"http://about.giuliorossetti.net\">Giulio Rossetti</a><br/>\n",
        "<b>Python version:</b>  >=3.6<br/>\n",
        "<b>LinkPred version:</b>  0.4.1<br/>\n",
        "<b>Last update:</b> 16/02/2021\n",
        "</span>"
      ]
    },
    {
      "cell_type": "markdown",
      "metadata": {
        "id": "aBXRX2sXBmKB"
      },
      "source": [
        "<a id='top'></a>\n",
        "# *Chapter 10: Link Prediction*\n",
        "\n",
        "``linkpred`` is a python library designed to provide support to *unsupervised* link prediction analysis.\n",
        "\n",
        "In this notebook are introduced some of the main features of the library and an overview of its functionalities.\n",
        "\n",
        "**Note:**\n",
        "- this notebook is purposely not 100% comprehensive, it only discusses the basic things you need to get started.\n",
        "- LinkPred is developed and maintained by Raf Guns (University of Antwerp)"
      ]
    },
    {
      "cell_type": "markdown",
      "metadata": {
        "id": "KIj58FT7BmKB"
      },
      "source": [
        "## Table of Contents\n",
        "\n",
        "1. [Installing LinkPred](#install)\n",
        "2. [Prediction Workflow](#workflow)\n",
        "    1. [Loading the network from file](#graph)\n",
        "    2. [Computing the desired unsupervied predictors](#pred)\n",
        "    3. [Evaluation and comparison of different predictors](#eval)\n",
        "3. [Conclusions](#conclusion)"
      ]
    },
    {
      "cell_type": "markdown",
      "metadata": {
        "id": "qmVJQxM-BmKB"
      },
      "source": [
        "<a id='install'></a>\n",
        "## 1. Installing LinkPred ([to top](#top))\n",
        "\n",
        "As a first step, we need to make sure that ``linkpred`` is installed and working.\n",
        "\n",
        "The library can be installed using ``pip``:"
      ]
    },
    {
      "cell_type": "markdown",
      "metadata": {
        "id": "iyySvyE0BmKB"
      },
      "source": [
        "    pip install linkpred"
      ]
    },
    {
      "cell_type": "markdown",
      "metadata": {
        "id": "LimzM90sBmKC"
      },
      "source": [
        "In order to check if ``linkpred`` has been correctly installed just try to import it"
      ]
    },
    {
      "cell_type": "code",
      "source": [
        "!pip install linkpred\n",
        "!pip install networkx==2.8.8"
      ],
      "metadata": {
        "colab": {
          "base_uri": "https://localhost:8080/"
        },
        "id": "qMWKKNm9BxCC",
        "outputId": "b4d48b69-08e5-40f8-d1fe-1b73bd3bfeb4"
      },
      "execution_count": 1,
      "outputs": [
        {
          "output_type": "stream",
          "name": "stdout",
          "text": [
            "Requirement already satisfied: linkpred in /usr/local/lib/python3.10/dist-packages (0.5.1)\n",
            "Requirement already satisfied: matplotlib>=2.1 in /usr/local/lib/python3.10/dist-packages (from linkpred) (3.7.1)\n",
            "Requirement already satisfied: networkx>=2.4 in /usr/local/lib/python3.10/dist-packages (from linkpred) (2.8.8)\n",
            "Requirement already satisfied: numpy>=1.14 in /usr/local/lib/python3.10/dist-packages (from linkpred) (1.22.4)\n",
            "Requirement already satisfied: pyyaml>=3.0 in /usr/local/lib/python3.10/dist-packages (from linkpred) (6.0)\n",
            "Requirement already satisfied: scipy>=1.0 in /usr/local/lib/python3.10/dist-packages (from linkpred) (1.10.1)\n",
            "Requirement already satisfied: smokesignal>=0.7 in /usr/local/lib/python3.10/dist-packages (from linkpred) (0.7.0)\n",
            "Requirement already satisfied: contourpy>=1.0.1 in /usr/local/lib/python3.10/dist-packages (from matplotlib>=2.1->linkpred) (1.1.0)\n",
            "Requirement already satisfied: cycler>=0.10 in /usr/local/lib/python3.10/dist-packages (from matplotlib>=2.1->linkpred) (0.11.0)\n",
            "Requirement already satisfied: fonttools>=4.22.0 in /usr/local/lib/python3.10/dist-packages (from matplotlib>=2.1->linkpred) (4.40.0)\n",
            "Requirement already satisfied: kiwisolver>=1.0.1 in /usr/local/lib/python3.10/dist-packages (from matplotlib>=2.1->linkpred) (1.4.4)\n",
            "Requirement already satisfied: packaging>=20.0 in /usr/local/lib/python3.10/dist-packages (from matplotlib>=2.1->linkpred) (23.1)\n",
            "Requirement already satisfied: pillow>=6.2.0 in /usr/local/lib/python3.10/dist-packages (from matplotlib>=2.1->linkpred) (8.4.0)\n",
            "Requirement already satisfied: pyparsing>=2.3.1 in /usr/local/lib/python3.10/dist-packages (from matplotlib>=2.1->linkpred) (3.1.0)\n",
            "Requirement already satisfied: python-dateutil>=2.7 in /usr/local/lib/python3.10/dist-packages (from matplotlib>=2.1->linkpred) (2.8.2)\n",
            "Requirement already satisfied: six>=1.5 in /usr/local/lib/python3.10/dist-packages (from python-dateutil>=2.7->matplotlib>=2.1->linkpred) (1.16.0)\n",
            "Requirement already satisfied: networkx==2.8.8 in /usr/local/lib/python3.10/dist-packages (2.8.8)\n"
          ]
        }
      ]
    },
    {
      "cell_type": "code",
      "execution_count": 2,
      "metadata": {
        "id": "FMNcgARQBmKC"
      },
      "outputs": [],
      "source": [
        "import linkpred"
      ]
    },
    {
      "cell_type": "markdown",
      "metadata": {
        "id": "3V95HV_6BmKD"
      },
      "source": [
        "<a id='workflow'></a>\n",
        "## 2. Prediction Workflow\n",
        "\n",
        "``linkpred`` offers complete support to all stages of the Link Prediction workflow:\n",
        "\n",
        "1. Network Loading\n",
        "2. Predictor selection and application\n",
        "3. Results evaluation\n",
        "\n",
        "<a id='graph'></a>\n",
        "### 2.A Loading the network from file\n",
        "\n",
        "To get started, ``linkpred`` requires to read the graph from file.\n",
        "In our example we'll use Game of Thrones Season 6 edge data"
      ]
    },
    {
      "cell_type": "code",
      "execution_count": 3,
      "metadata": {
        "id": "42VthcNFBmKD"
      },
      "outputs": [],
      "source": [
        "%matplotlib inline\n",
        "import matplotlib.pyplot as plt\n",
        "import networkx as nx"
      ]
    },
    {
      "cell_type": "code",
      "source": [
        "!unzip asioaf.zip"
      ],
      "metadata": {
        "id": "33rF9JgcCBM2"
      },
      "execution_count": null,
      "outputs": []
    },
    {
      "cell_type": "code",
      "execution_count": 5,
      "metadata": {
        "id": "tXSh_BuxBmKD"
      },
      "outputs": [],
      "source": [
        "def read_net_w(filename):\n",
        "    g = nx.Graph()\n",
        "    with open(filename) as f:\n",
        "        f.readline()\n",
        "        for l in f:\n",
        "            l = l.split(\",\")\n",
        "            g.add_edge(l[0], l[1], weight=int(l[2]))\n",
        "    return g\n",
        "\n",
        "# Game of Thrones data\n",
        "g = read_net_w(f'asioaf/got-s6-edges.csv')"
      ]
    },
    {
      "cell_type": "markdown",
      "metadata": {
        "id": "o0xoPkIKBmKD"
      },
      "source": [
        "<a id='pred'></a>\n",
        "### 2.B Computing the desired unsupervied predictors\n",
        "\n",
        "``linkpred`` offers a wide number of unsupervied predictors organized into four families:\n",
        "- **Neighborhood:**\n",
        "    - *AdamicAdar*, AssociationStrength, *CommonNeighbours*, Cosine, DegreeProduct, *Jaccard*, MaxOverlap, MinOverlap, NMeasure, Pearson,ResourceAllocation\n",
        "- **Paths:**\n",
        "    - GraphDistance, *Katz*\n",
        "- **Ranking:**\n",
        "    - *SimRank*, RootedPageRank\n",
        "- **Miscellanea:**\n",
        "    - Community, Copy, *Random*\n",
        "    \n",
        "In the following we'll test only few of them.\n",
        "\n",
        "For sake of simplicity here we'll show only the top-5 forecasts for each selected predictor."
      ]
    },
    {
      "cell_type": "markdown",
      "metadata": {
        "id": "172eXCDbBmKD"
      },
      "source": [
        "#### 2.B.1 Neighborhood\n",
        "\n",
        "The first family of predictors is the one that tries to relate neighborhoods of node pairs with the likelihood of observing a tie among them. </br>\n",
        "The question such predictors try to answer is: *How many friend we have to share in order to become friends?*\n",
        "\n",
        "##### **Common Neighbors**\n",
        "\n",
        "The more friends we share, the more likely we will become friends."
      ]
    },
    {
      "cell_type": "code",
      "execution_count": 6,
      "metadata": {
        "colab": {
          "base_uri": "https://localhost:8080/"
        },
        "id": "9e_CYb_TBmKE",
        "outputId": "07bd0852-72cc-4e91-f985-15eb6fc41e93"
      },
      "outputs": [
        {
          "output_type": "stream",
          "name": "stdout",
          "text": [
            "TOMMEN - MACE 8.0\n",
            "NED - LADY_CRANE 8.0\n",
            "NED - CLARENZO 8.0\n",
            "MARGAERY - IZEMBARO 8.0\n",
            "MARGAERY - ARYA 8.0\n"
          ]
        }
      ],
      "source": [
        "cn = linkpred.predictors.CommonNeighbours(g, excluded=g.edges()) # We aim to predict only new links, thus we exclude existing ones\n",
        "cn_results = cn.predict()\n",
        "\n",
        "top = cn_results.top(5)\n",
        "for edge, score in top.items():\n",
        "    print(edge, score)"
      ]
    },
    {
      "cell_type": "markdown",
      "metadata": {
        "id": "H9pnbtLEBmKE"
      },
      "source": [
        "##### **Jaccard**\n",
        "The more similar our friends circles are, the more likely we will become friends."
      ]
    },
    {
      "cell_type": "code",
      "execution_count": 7,
      "metadata": {
        "colab": {
          "base_uri": "https://localhost:8080/"
        },
        "id": "-Wh7r4W4BmKE",
        "outputId": "328950f7-e5db-48d2-9aba-7b79521348c3"
      },
      "outputs": [
        {
          "output_type": "stream",
          "name": "stdout",
          "text": [
            "RED_PRIEST - KINVARA 1.0\n",
            "LITTLE_SAM - DICKON 1.0\n",
            "TOMMEN - MACE 0.7272727272727273\n",
            "JOFFREY - CAMELLO 0.7272727272727273\n",
            "OLD_NAN - BENJEN 0.7142857142857143\n"
          ]
        }
      ],
      "source": [
        "jc = linkpred.predictors.Jaccard(g, excluded=g.edges())\n",
        "jc_results = jc.predict()\n",
        "\n",
        "top = jc_results.top(5)\n",
        "for edge, score in top.items():\n",
        "    print(edge, score)"
      ]
    },
    {
      "cell_type": "markdown",
      "metadata": {
        "id": "kGPmL_TBBmKE"
      },
      "source": [
        "##### **Adamic Adar**\n",
        "The more selective our mutual friends are, the more likely we will become friends."
      ]
    },
    {
      "cell_type": "code",
      "execution_count": 8,
      "metadata": {
        "colab": {
          "base_uri": "https://localhost:8080/"
        },
        "id": "Rt4Dkj2IBmKF",
        "outputId": "874dd06a-b02e-4fc5-cd7e-0c64f812819b"
      },
      "outputs": [
        {
          "output_type": "stream",
          "name": "stdout",
          "text": [
            "TOMMEN - MACE 3.1875572810307893\n",
            "NED - LADY_CRANE 3.126371165725783\n",
            "NED - CLARENZO 3.126371165725783\n",
            "SANSA - ROBB 3.0966443151332466\n",
            "JOFFREY - CAMELLO 2.8944937119329137\n"
          ]
        }
      ],
      "source": [
        "aa = linkpred.predictors.AdamicAdar(g, excluded=g.edges())\n",
        "aa_results = aa.predict()\n",
        "\n",
        "top = aa_results.top(5)\n",
        "for edge, score in top.items():\n",
        "    print(edge, score)"
      ]
    },
    {
      "cell_type": "markdown",
      "metadata": {
        "id": "8ZHl1C1gBmKF"
      },
      "source": [
        "#### 2.B.2 Paths\n",
        "\n",
        "The second family of predictors is the one that tries to relate node pairs distance with the likelihood of observing a tie among them in the future. </br>\n",
        "The question such predictors try to answer is: *How distant are we?*\n",
        "\n",
        "\n",
        "##### **Katz**\n",
        "Katz computes the weighted sum over all the paths between two nodes."
      ]
    },
    {
      "cell_type": "code",
      "execution_count": 9,
      "metadata": {
        "colab": {
          "base_uri": "https://localhost:8080/"
        },
        "id": "ee-_7tS_BmKF",
        "outputId": "c328aaa0-45e0-4791-99fd-cb028575a015"
      },
      "outputs": [
        {
          "output_type": "stream",
          "name": "stdout",
          "text": [
            "\n",
            "LADY_CRANE - JAQEN 0.005571576860773001\n",
            "SANSA - ALLISER_THORNE 0.004234378077202\n",
            "TYRION - DAARIO 0.004145905054793999\n",
            "CERSEI - BRIENNE 0.0038862606857720003\n",
            "MELISANDRE - LYANNA_MORMONT 0.0035937193855959996\n"
          ]
        }
      ],
      "source": [
        "kz = linkpred.predictors.Katz(g, excluded=g.edges())\n",
        "kz_results = kz.predict()\n",
        "\n",
        "top = kz_results.top(5)\n",
        "for edge, score in top.items():\n",
        "    print(edge, score)"
      ]
    },
    {
      "source": [
        "##### **Graph Distance**\n",
        "Graph Distance computes the (negated) length of the shortest path between two nodes"
      ],
      "cell_type": "markdown",
      "metadata": {
        "id": "Hpt5FbO-BmKF"
      }
    },
    {
      "cell_type": "code",
      "execution_count": null,
      "metadata": {
        "id": "FtiOCZtZBmKF",
        "outputId": "97cb96a6-e37b-4a97-bf11-cc0d210bd46f"
      },
      "outputs": [
        {
          "output_type": "stream",
          "name": "stdout",
          "text": [
            "LADY_CRANE - JAQEN 36.136054421768705\nTYRION - DAARIO 30.29268292682927\nCERSEI - BRIENNE 28.44827586206896\nMELISANDRE - LITTLEFINGER 23.427491305005294\nCERSEI - BRONN 23.294117647058822\n"
          ]
        }
      ],
      "source": [
        "gd = linkpred.predictors.GraphDistance(g, excluded=g.edges())\n",
        "gd_results = gd.predict()\n",
        "\n",
        "top = gd_results.top(5)\n",
        "for edge, score in top.items():\n",
        "    print(edge, score)"
      ]
    },
    {
      "cell_type": "markdown",
      "metadata": {
        "id": "SumqnRGUBmKG"
      },
      "source": [
        "#### 2.B.3 Rankig\n",
        "\n",
        "The third family of predictors is the one that tries to relate node pairs position in the graph with the likelihood of observing a tie among them in the future. </br>\n",
        "The question such predictors try to answer is: *How similar are we?\n",
        "\n",
        "##### **SimRank**\n",
        "Two nodes are similar to the extent that their neighborhoods are similar."
      ]
    },
    {
      "cell_type": "code",
      "execution_count": 10,
      "metadata": {
        "colab": {
          "base_uri": "https://localhost:8080/"
        },
        "id": "dv10vdf_BmKG",
        "outputId": "ab65da25-17d3-4ffc-ebf5-6f3bbec61ea0"
      },
      "outputs": [
        {
          "output_type": "stream",
          "name": "stdout",
          "text": [
            "MAESTER_CITADEL - MAESTER_AEMON 0.3920701611834253\n",
            "RAY - GATINS 0.3886464843365491\n",
            "GATINS - BERIC 0.3675791855431439\n",
            "THOROS - GATINS 0.3636591552182033\n",
            "MAESTER_AEMON - GILLY 0.319889623157789\n"
          ]
        }
      ],
      "source": [
        "simrank = linkpred.predictors.SimRank(g, excluded=g.edges())\n",
        "simrank_results = simrank.predict(c=0.5)\n",
        "\n",
        "top = simrank_results.top(5)\n",
        "for edge, score in top.items():\n",
        "    print(edge, score)"
      ]
    },
    {
      "cell_type": "markdown",
      "metadata": {
        "id": "OmEUvjqLBmKG"
      },
      "source": [
        "#### 2.B.4 Miscellanea\n",
        "\n",
        "In this family fall alternative definitios of link predictors. </br>\n",
        "``linkpred`` groups here approaches that are commonly used as baselines.\n",
        "\n",
        "##### **Random**\n",
        "\n",
        "Random guessing."
      ]
    },
    {
      "cell_type": "code",
      "execution_count": 11,
      "metadata": {
        "colab": {
          "base_uri": "https://localhost:8080/"
        },
        "id": "XvPcOV_GBmKG",
        "outputId": "123b10e3-62b8-42a7-c34b-a2608a36f159"
      },
      "outputs": [
        {
          "output_type": "stream",
          "name": "stdout",
          "text": [
            "MACE - DROGO 0.9998460395245938\n",
            "RODRIK - MISSANDEI 0.9992675922357858\n",
            "YEZZAN - NED 0.9991683542942996\n",
            "CERSEI - BENJEN 0.9991347203884458\n",
            "OLD_NAN - KHAL_MORO 0.9991211267051726\n"
          ]
        }
      ],
      "source": [
        "rnd = linkpred.predictors.Random(g, excluded=g.edges())\n",
        "rnd_results = rnd.predict()\n",
        "\n",
        "top = rnd_results.top(5)\n",
        "for edge, score in top.items():\n",
        "    print(edge, score)"
      ]
    },
    {
      "cell_type": "markdown",
      "metadata": {
        "id": "FLKOsC1EBmKG"
      },
      "source": [
        "<a id='eval'></a>\n",
        "### 2.C Evaluation and comparison of different predictors\n",
        "\n",
        "To evaluate a link predictor we have to separate the network used for training from the one used for testing purposes."
      ]
    },
    {
      "cell_type": "code",
      "execution_count": 13,
      "metadata": {
        "id": "-udRARUMBmKG"
      },
      "outputs": [],
      "source": [
        "import random\n",
        "import itertools\n",
        "from linkpred.evaluation import Pair\n",
        "\n",
        "# Building the test network\n",
        "test = read_net_w(f'asioaf/got-s7-edges.csv')\n",
        "\n",
        "# Exclude test network from learning phase\n",
        "training = g.copy()\n",
        "\n",
        "# Node set\n",
        "nodes = list(g.nodes())\n",
        "nodes.extend(list(test.nodes()))\n",
        "\n",
        "# Compute the test set and the universe set\n",
        "test = [Pair(i) for i in test.edges()]\n",
        "universe = set([Pair(i) for i in itertools.product(nodes, nodes) if i[0]!=i[1]])"
      ]
    },
    {
      "cell_type": "markdown",
      "metadata": {
        "id": "alMww9qEBmKH"
      },
      "source": [
        "After that, we can apply the predictors to the training network"
      ]
    },
    {
      "cell_type": "code",
      "execution_count": 14,
      "metadata": {
        "id": "V9oS1wpnBmKH"
      },
      "outputs": [],
      "source": [
        "cn = linkpred.predictors.CommonNeighbours(training, excluded=training.edges())\n",
        "cn_results = cn.predict()\n",
        "\n",
        "aa = linkpred.predictors.AdamicAdar(training, excluded=training.edges())\n",
        "aa_results = aa.predict()\n",
        "\n",
        "jc = linkpred.predictors.Jaccard(training, excluded=training.edges())\n",
        "jc_results = jc.predict()"
      ]
    },
    {
      "cell_type": "markdown",
      "metadata": {
        "id": "e6kZJagiBmKH"
      },
      "source": [
        "Thus, we can evaluate the obtained prediction against the test"
      ]
    },
    {
      "cell_type": "code",
      "execution_count": 15,
      "metadata": {
        "id": "JCXOxhxgBmKH"
      },
      "outputs": [],
      "source": [
        "cn_evaluation = linkpred.evaluation.EvaluationSheet(cn_results, test, universe)\n",
        "aa_evaluation = linkpred.evaluation.EvaluationSheet(aa_results, test, universe)\n",
        "jc_evaluation = linkpred.evaluation.EvaluationSheet(jc_results, test, universe)"
      ]
    },
    {
      "cell_type": "markdown",
      "metadata": {
        "id": "runq2RUbBmKH"
      },
      "source": [
        "The results can be easily compared using a ROC plot"
      ]
    },
    {
      "cell_type": "code",
      "execution_count": 16,
      "metadata": {
        "colab": {
          "base_uri": "https://localhost:8080/",
          "height": 449
        },
        "id": "BCB27vZmBmKH",
        "outputId": "c836124a-383b-4efb-e7f5-d8d96a8086be"
      },
      "outputs": [
        {
          "output_type": "display_data",
          "data": {
            "text/plain": [
              "<Figure size 640x480 with 1 Axes>"
            ],
            "image/png": "[encoded data removed]"
          },
          "metadata": {}
        }
      ],
      "source": [
        "plt.plot(cn_evaluation.fallout(), cn_evaluation.recall(), label=\"Common Neighbors\")\n",
        "plt.plot(aa_evaluation.fallout(), aa_evaluation.recall(), label=\"Adamic Adar\")\n",
        "plt.plot(jc_evaluation.fallout(), jc_evaluation.recall(), label=\"Jaccard\")\n",
        "plt.ylabel(\"TPR\")\n",
        "plt.xlabel(\"FPR\")\n",
        "plt.legend()\n",
        "plt.show()"
      ]
    },
    {
      "cell_type": "markdown",
      "metadata": {
        "id": "DG8NocdMBmKH"
      },
      "source": [
        "A simple way to summarize the results offered by the ROC curve is through its AUC"
      ]
    },
    {
      "cell_type": "code",
      "execution_count": 17,
      "metadata": {
        "colab": {
          "base_uri": "https://localhost:8080/"
        },
        "id": "GoiwluKzBmKH",
        "outputId": "ac27bcba-df4c-4b7f-f365-bc67e6db6c31"
      },
      "outputs": [
        {
          "output_type": "stream",
          "name": "stdout",
          "text": [
            "Area Under Roc Curve (AUROC)\n",
            "Common Neigh.: \t 0.026832485313825823\n",
            "Adamic Adar: \t 0.027259625028069757\n",
            "Jaccard: \t 0.018894838921578106\n"
          ]
        }
      ],
      "source": [
        "from sklearn.metrics import auc\n",
        "\n",
        "print(\"Area Under Roc Curve (AUROC)\")\n",
        "print(f\"Common Neigh.: \\t {auc(cn_evaluation.fallout(), cn_evaluation.recall())}\")\n",
        "print(f\"Adamic Adar: \\t {auc(aa_evaluation.fallout(), aa_evaluation.recall())}\")\n",
        "print(f\"Jaccard: \\t {auc(jc_evaluation.fallout(), jc_evaluation.recall())}\")"
      ]
    },
    {
      "cell_type": "markdown",
      "metadata": {
        "id": "4nZkPSxpBmKI"
      },
      "source": [
        "<a id=\"conclusion\"></a>\n",
        "## 3. Conclusions ([to top](#top))\n",
        "\n",
        "In this notebook we introduced the basic facilities offered by ``linkpred``.\n",
        "\n",
        "For any issue, suggestion, bug report refer the official [GitHub repository](https://github.com/rafguns/linkpred) of the project."
      ]
    }
  ],
  "metadata": {
    "kernelspec": {
      "display_name": "Python 3",
      "language": "python",
      "name": "python3"
    },
    "language_info": {
      "codemirror_mode": {
        "name": "ipython",
        "version": 3
      },
      "file_extension": ".py",
      "mimetype": "text/x-python",
      "name": "python",
      "nbconvert_exporter": "python",
      "pygments_lexer": "ipython3",
      "version": "3.6.5-final"
    },
    "colab": {
      "provenance": [],
      "include_colab_link": true
    }
  },
  "nbformat": 4,
  "nbformat_minor": 0
}