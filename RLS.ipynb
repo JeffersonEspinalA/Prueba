{
  "cells": [
    {
      "cell_type": "markdown",
      "metadata": {
        "id": "KY_68FbU1pPI"
      },
      "source": [
        "## ANALISIS DE REGRESION SIMPLE"
      ]
    },
    {
      "cell_type": "markdown",
      "metadata": {
        "id": "5nrs5Huv1pPJ"
      },
      "source": [
        "###  Librerías a utilizar"
      ]
    },
    {
      "cell_type": "code",
      "execution_count": null,
      "metadata": {
        "id": "LfQl0D6B1pPK"
      },
      "outputs": [],
      "source": [
        "## Tratamiento de datos\n",
        "import numpy as np\n",
        "import pandas as pd\n",
        "\n",
        "## Preprocesado y modelado\n",
        "from sklearn import datasets, linear_model\n",
        "import seaborn as sns\n",
        "from sklearn.model_selection import train_test_split\n",
        "\n",
        "## Gráficos\n",
        "import matplotlib.pyplot as plt"
      ]
    },
    {
      "cell_type": "markdown",
      "metadata": {
        "id": "IB2zwaRA1pPK"
      },
      "source": [
        "### Base de datos"
      ]
    },
    {
      "cell_type": "code",
      "execution_count": null,
      "metadata": {
        "id": "SxEEHFv41pPL"
      },
      "outputs": [],
      "source": [
        "path_file = r'C:/UPC/'"
      ]
    },
    {
      "cell_type": "code",
      "execution_count": null,
      "metadata": {
        "id": "moX9pnL31pPL",
        "outputId": "3b4a7702-3802-4b52-cfd2-5f213454dcdf"
      },
      "outputs": [
        {
          "data": {
            "text/html": [
              "<div>\n",
              "<style scoped>\n",
              "    .dataframe tbody tr th:only-of-type {\n",
              "        vertical-align: middle;\n",
              "    }\n",
              "\n",
              "    .dataframe tbody tr th {\n",
              "        vertical-align: top;\n",
              "    }\n",
              "\n",
              "    .dataframe thead th {\n",
              "        text-align: right;\n",
              "    }\n",
              "</style>\n",
              "<table border=\"1\" class=\"dataframe\">\n",
              "  <thead>\n",
              "    <tr style=\"text-align: right;\">\n",
              "      <th></th>\n",
              "      <th>TV</th>\n",
              "      <th>Ventas</th>\n",
              "    </tr>\n",
              "  </thead>\n",
              "  <tbody>\n",
              "    <tr>\n",
              "      <th>0</th>\n",
              "      <td>230.1</td>\n",
              "      <td>22.1</td>\n",
              "    </tr>\n",
              "    <tr>\n",
              "      <th>1</th>\n",
              "      <td>44.5</td>\n",
              "      <td>10.4</td>\n",
              "    </tr>\n",
              "    <tr>\n",
              "      <th>2</th>\n",
              "      <td>17.2</td>\n",
              "      <td>9.3</td>\n",
              "    </tr>\n",
              "    <tr>\n",
              "      <th>3</th>\n",
              "      <td>151.5</td>\n",
              "      <td>18.5</td>\n",
              "    </tr>\n",
              "    <tr>\n",
              "      <th>4</th>\n",
              "      <td>180.8</td>\n",
              "      <td>12.9</td>\n",
              "    </tr>\n",
              "  </tbody>\n",
              "</table>\n",
              "</div>"
            ],
            "text/plain": [
              "      TV  Ventas\n",
              "0  230.1    22.1\n",
              "1   44.5    10.4\n",
              "2   17.2     9.3\n",
              "3  151.5    18.5\n",
              "4  180.8    12.9"
            ]
          },
          "execution_count": 3,
          "metadata": {},
          "output_type": "execute_result"
        }
      ],
      "source": [
        "df = pd.read_csv(path_file + 'Tv_Sales.csv', delimiter= ',')\n",
        "df.head(5)"
      ]
    },
    {
      "cell_type": "code",
      "execution_count": null,
      "metadata": {
        "id": "redNtcuA1pPL",
        "outputId": "ffdec8dc-68d8-44b7-8a2a-cdc7d9d39d3f"
      },
      "outputs": [
        {
          "data": {
            "text/plain": [
              "TV        float64\n",
              "Ventas    float64\n",
              "dtype: object"
            ]
          },
          "execution_count": 4,
          "metadata": {},
          "output_type": "execute_result"
        }
      ],
      "source": [
        "# Estructura de los datos\n",
        "df.dtypes"
      ]
    },
    {
      "cell_type": "code",
      "execution_count": null,
      "metadata": {
        "id": "CTnDkXTR1pPM",
        "outputId": "46482b72-283f-4c2e-ef5c-df1901fa240e"
      },
      "outputs": [
        {
          "data": {
            "text/plain": [
              "(200, 2)"
            ]
          },
          "execution_count": 6,
          "metadata": {},
          "output_type": "execute_result"
        }
      ],
      "source": [
        "# Cantidad de los datos\n",
        "df.shape"
      ]
    },
    {
      "cell_type": "markdown",
      "metadata": {
        "id": "LSGdqcSp1pPM"
      },
      "source": [
        "#### Definiciòn de Variables"
      ]
    },
    {
      "cell_type": "markdown",
      "metadata": {
        "id": "3OmkYQuM1pPM"
      },
      "source": [
        "Definición de variable independiente"
      ]
    },
    {
      "cell_type": "code",
      "execution_count": null,
      "metadata": {
        "id": "ma-hf_I11pPM"
      },
      "outputs": [],
      "source": [
        "X = df.iloc[:, 0:1]"
      ]
    },
    {
      "cell_type": "markdown",
      "metadata": {
        "id": "Z58lO_461pPN"
      },
      "source": [
        "Definición de variable dependiente"
      ]
    },
    {
      "cell_type": "code",
      "execution_count": null,
      "metadata": {
        "id": "6lDcHWUf1pPN"
      },
      "outputs": [],
      "source": [
        "Y = df.iloc[:, 1]"
      ]
    },
    {
      "cell_type": "code",
      "execution_count": null,
      "metadata": {
        "id": "LXWG1ifM1pPN",
        "outputId": "82046813-0ac0-4d21-c258-510969f74a82"
      },
      "outputs": [
        {
          "data": {
            "text/html": [
              "<div>\n",
              "<style scoped>\n",
              "    .dataframe tbody tr th:only-of-type {\n",
              "        vertical-align: middle;\n",
              "    }\n",
              "\n",
              "    .dataframe tbody tr th {\n",
              "        vertical-align: top;\n",
              "    }\n",
              "\n",
              "    .dataframe thead th {\n",
              "        text-align: right;\n",
              "    }\n",
              "</style>\n",
              "<table border=\"1\" class=\"dataframe\">\n",
              "  <thead>\n",
              "    <tr style=\"text-align: right;\">\n",
              "      <th></th>\n",
              "      <th>TV</th>\n",
              "    </tr>\n",
              "  </thead>\n",
              "  <tbody>\n",
              "    <tr>\n",
              "      <th>0</th>\n",
              "      <td>230.1</td>\n",
              "    </tr>\n",
              "    <tr>\n",
              "      <th>1</th>\n",
              "      <td>44.5</td>\n",
              "    </tr>\n",
              "    <tr>\n",
              "      <th>2</th>\n",
              "      <td>17.2</td>\n",
              "    </tr>\n",
              "    <tr>\n",
              "      <th>3</th>\n",
              "      <td>151.5</td>\n",
              "    </tr>\n",
              "    <tr>\n",
              "      <th>4</th>\n",
              "      <td>180.8</td>\n",
              "    </tr>\n",
              "    <tr>\n",
              "      <th>...</th>\n",
              "      <td>...</td>\n",
              "    </tr>\n",
              "    <tr>\n",
              "      <th>195</th>\n",
              "      <td>38.2</td>\n",
              "    </tr>\n",
              "    <tr>\n",
              "      <th>196</th>\n",
              "      <td>94.2</td>\n",
              "    </tr>\n",
              "    <tr>\n",
              "      <th>197</th>\n",
              "      <td>177.0</td>\n",
              "    </tr>\n",
              "    <tr>\n",
              "      <th>198</th>\n",
              "      <td>283.6</td>\n",
              "    </tr>\n",
              "    <tr>\n",
              "      <th>199</th>\n",
              "      <td>232.1</td>\n",
              "    </tr>\n",
              "  </tbody>\n",
              "</table>\n",
              "<p>200 rows × 1 columns</p>\n",
              "</div>"
            ],
            "text/plain": [
              "        TV\n",
              "0    230.1\n",
              "1     44.5\n",
              "2     17.2\n",
              "3    151.5\n",
              "4    180.8\n",
              "..     ...\n",
              "195   38.2\n",
              "196   94.2\n",
              "197  177.0\n",
              "198  283.6\n",
              "199  232.1\n",
              "\n",
              "[200 rows x 1 columns]"
            ]
          },
          "execution_count": 58,
          "metadata": {},
          "output_type": "execute_result"
        }
      ],
      "source": [
        "X"
      ]
    },
    {
      "cell_type": "markdown",
      "metadata": {
        "id": "nTDyeYrZ1pPN"
      },
      "source": [
        "### Representación Gráfica"
      ]
    },
    {
      "cell_type": "code",
      "execution_count": null,
      "metadata": {
        "id": "HmNQVuf01pPN",
        "outputId": "a952f928-55d7-41d3-d002-0d1a872ef45f"
      },
      "outputs": [
        {
          "data": {
            "image/png": "[encoded data removed]",
            "text/plain": [
              "<Figure size 432x288 with 1 Axes>"
            ]
          },
          "metadata": {
            "needs_background": "light"
          },
          "output_type": "display_data"
        }
      ],
      "source": [
        "# Graficamos \n",
        "plt.scatter(X,Y)\n",
        "plt.title('Distribución de Publicidad en Tv (X) y Ventas(Y)')\n",
        "plt.xlabel('Tv')\n",
        "plt.ylabel('Ventas')\n",
        "plt.show()"
      ]
    },
    {
      "cell_type": "markdown",
      "metadata": {
        "id": "Xf1qhurF1pPO"
      },
      "source": [
        "Se observa que hay una relaciòn lineal entre las variables Tv y Ventas."
      ]
    },
    {
      "cell_type": "markdown",
      "metadata": {
        "id": "egOJoqFH1pPO"
      },
      "source": [
        "### Anàlisis de Correlaciòn"
      ]
    },
    {
      "cell_type": "code",
      "execution_count": null,
      "metadata": {
        "id": "MxJASiAg1pPO",
        "outputId": "bb5f8473-d695-43ec-babe-92f757e73c2c"
      },
      "outputs": [
        {
          "data": {
            "text/plain": [
              "<matplotlib.axes._subplots.AxesSubplot at 0x1ba7c4c5ca0>"
            ]
          },
          "execution_count": 60,
          "metadata": {},
          "output_type": "execute_result"
        },
        {
          "data": {
            "image/png": "[encoded data removed]",
            "text/plain": [
              "<Figure size 432x288 with 2 Axes>"
            ]
          },
          "metadata": {
            "needs_background": "light"
          },
          "output_type": "display_data"
        }
      ],
      "source": [
        "sns.heatmap(df.corr(),cmap='coolwarm',annot=True)"
      ]
    },
    {
      "cell_type": "markdown",
      "metadata": {
        "id": "gx2IGKeV1pPO"
      },
      "source": [
        "## Modelado"
      ]
    },
    {
      "cell_type": "code",
      "execution_count": null,
      "metadata": {
        "id": "KZs0QckZ1pPO"
      },
      "outputs": [],
      "source": [
        "# División de los datos en train y test\n",
        "X_train, X_test, y_train, y_test = train_test_split(X,Y,test_size=0.2,random_state=1280)"
      ]
    },
    {
      "cell_type": "code",
      "execution_count": null,
      "metadata": {
        "id": "GUnWDxlR1pPP",
        "outputId": "17e02dac-e894-41f8-fd33-d9ae3947e3dd"
      },
      "outputs": [
        {
          "data": {
            "text/plain": [
              "(160, 1)"
            ]
          },
          "execution_count": 62,
          "metadata": {},
          "output_type": "execute_result"
        }
      ],
      "source": [
        "X_train.shape"
      ]
    },
    {
      "cell_type": "code",
      "execution_count": null,
      "metadata": {
        "id": "rPUwyRTx1pPQ",
        "outputId": "e4cc0e35-2026-45a5-ea4f-c78973e06807"
      },
      "outputs": [
        {
          "data": {
            "text/plain": [
              "(40, 1)"
            ]
          },
          "execution_count": 63,
          "metadata": {},
          "output_type": "execute_result"
        }
      ],
      "source": [
        "X_test.shape"
      ]
    },
    {
      "cell_type": "code",
      "execution_count": null,
      "metadata": {
        "id": "oNmC8W4c1pPQ",
        "outputId": "1f6b75e9-e81e-41d0-fb1e-caa03e17beba"
      },
      "outputs": [
        {
          "data": {
            "text/plain": [
              "(160,)"
            ]
          },
          "execution_count": 64,
          "metadata": {},
          "output_type": "execute_result"
        }
      ],
      "source": [
        "y_train.shape"
      ]
    },
    {
      "cell_type": "code",
      "execution_count": null,
      "metadata": {
        "id": "ARQtjVrr1pPR",
        "outputId": "e460bbe9-cfcc-408a-ab12-4a0081d37fe9"
      },
      "outputs": [
        {
          "data": {
            "text/plain": [
              "(40,)"
            ]
          },
          "execution_count": 14,
          "metadata": {},
          "output_type": "execute_result"
        }
      ],
      "source": [
        "y_test.shape"
      ]
    },
    {
      "cell_type": "markdown",
      "metadata": {
        "id": "G6s2sw8y1pPR"
      },
      "source": [
        "#### Modelo de Regresiòn Lineal Simple"
      ]
    },
    {
      "cell_type": "code",
      "execution_count": null,
      "metadata": {
        "id": "79DNIaBX1pPR"
      },
      "outputs": [],
      "source": [
        "#Definimos el algoritmo a utilizar\n",
        "lr_simple = linear_model.LinearRegression()"
      ]
    },
    {
      "cell_type": "code",
      "execution_count": null,
      "metadata": {
        "id": "7QgcqiCp1pPR",
        "outputId": "7d2a18cc-43bb-435c-9eb6-b10030c01d4e"
      },
      "outputs": [
        {
          "data": {
            "text/html": [
              "<style>#sk-container-id-2 {color: black;background-color: white;}#sk-container-id-2 pre{padding: 0;}#sk-container-id-2 div.sk-toggleable {background-color: white;}#sk-container-id-2 label.sk-toggleable__label {cursor: pointer;display: block;width: 100%;margin-bottom: 0;padding: 0.3em;box-sizing: border-box;text-align: center;}#sk-container-id-2 label.sk-toggleable__label-arrow:before {content: \"▸\";float: left;margin-right: 0.25em;color: #696969;}#sk-container-id-2 label.sk-toggleable__label-arrow:hover:before {color: black;}#sk-container-id-2 div.sk-estimator:hover label.sk-toggleable__label-arrow:before {color: black;}#sk-container-id-2 div.sk-toggleable__content {max-height: 0;max-width: 0;overflow: hidden;text-align: left;background-color: #f0f8ff;}#sk-container-id-2 div.sk-toggleable__content pre {margin: 0.2em;color: black;border-radius: 0.25em;background-color: #f0f8ff;}#sk-container-id-2 input.sk-toggleable__control:checked~div.sk-toggleable__content {max-height: 200px;max-width: 100%;overflow: auto;}#sk-container-id-2 input.sk-toggleable__control:checked~label.sk-toggleable__label-arrow:before {content: \"▾\";}#sk-container-id-2 div.sk-estimator input.sk-toggleable__control:checked~label.sk-toggleable__label {background-color: #d4ebff;}#sk-container-id-2 div.sk-label input.sk-toggleable__control:checked~label.sk-toggleable__label {background-color: #d4ebff;}#sk-container-id-2 input.sk-hidden--visually {border: 0;clip: rect(1px 1px 1px 1px);clip: rect(1px, 1px, 1px, 1px);height: 1px;margin: -1px;overflow: hidden;padding: 0;position: absolute;width: 1px;}#sk-container-id-2 div.sk-estimator {font-family: monospace;background-color: #f0f8ff;border: 1px dotted black;border-radius: 0.25em;box-sizing: border-box;margin-bottom: 0.5em;}#sk-container-id-2 div.sk-estimator:hover {background-color: #d4ebff;}#sk-container-id-2 div.sk-parallel-item::after {content: \"\";width: 100%;border-bottom: 1px solid gray;flex-grow: 1;}#sk-container-id-2 div.sk-label:hover label.sk-toggleable__label {background-color: #d4ebff;}#sk-container-id-2 div.sk-serial::before {content: \"\";position: absolute;border-left: 1px solid gray;box-sizing: border-box;top: 0;bottom: 0;left: 50%;z-index: 0;}#sk-container-id-2 div.sk-serial {display: flex;flex-direction: column;align-items: center;background-color: white;padding-right: 0.2em;padding-left: 0.2em;position: relative;}#sk-container-id-2 div.sk-item {position: relative;z-index: 1;}#sk-container-id-2 div.sk-parallel {display: flex;align-items: stretch;justify-content: center;background-color: white;position: relative;}#sk-container-id-2 div.sk-item::before, #sk-container-id-2 div.sk-parallel-item::before {content: \"\";position: absolute;border-left: 1px solid gray;box-sizing: border-box;top: 0;bottom: 0;left: 50%;z-index: -1;}#sk-container-id-2 div.sk-parallel-item {display: flex;flex-direction: column;z-index: 1;position: relative;background-color: white;}#sk-container-id-2 div.sk-parallel-item:first-child::after {align-self: flex-end;width: 50%;}#sk-container-id-2 div.sk-parallel-item:last-child::after {align-self: flex-start;width: 50%;}#sk-container-id-2 div.sk-parallel-item:only-child::after {width: 0;}#sk-container-id-2 div.sk-dashed-wrapped {border: 1px dashed gray;margin: 0 0.4em 0.5em 0.4em;box-sizing: border-box;padding-bottom: 0.4em;background-color: white;}#sk-container-id-2 div.sk-label label {font-family: monospace;font-weight: bold;display: inline-block;line-height: 1.2em;}#sk-container-id-2 div.sk-label-container {text-align: center;}#sk-container-id-2 div.sk-container {/* jupyter's `normalize.less` sets `[hidden] { display: none; }` but bootstrap.min.css set `[hidden] { display: none !important; }` so we also need the `!important` here to be able to override the default hidden behavior on the sphinx rendered scikit-learn.org. See: https://github.com/scikit-learn/scikit-learn/issues/21755 */display: inline-block !important;position: relative;}#sk-container-id-2 div.sk-text-repr-fallback {display: none;}</style><div id=\"sk-container-id-2\" class=\"sk-top-container\"><div class=\"sk-text-repr-fallback\"><pre>LinearRegression()</pre><b>In a Jupyter environment, please rerun this cell to show the HTML representation or trust the notebook. <br />On GitHub, the HTML representation is unable to render, please try loading this page with nbviewer.org.</b></div><div class=\"sk-container\" hidden><div class=\"sk-item\"><div class=\"sk-estimator sk-toggleable\"><input class=\"sk-toggleable__control sk-hidden--visually\" id=\"sk-estimator-id-2\" type=\"checkbox\" checked><label for=\"sk-estimator-id-2\" class=\"sk-toggleable__label sk-toggleable__label-arrow\">LinearRegression</label><div class=\"sk-toggleable__content\"><pre>LinearRegression()</pre></div></div></div></div></div>"
            ],
            "text/plain": [
              "LinearRegression()"
            ]
          },
          "execution_count": 66,
          "metadata": {},
          "output_type": "execute_result"
        }
      ],
      "source": [
        "#Entrenamos el modelo\n",
        "lr_simple.fit(X_train,y_train)"
      ]
    },
    {
      "cell_type": "markdown",
      "metadata": {
        "id": "ILmfq7GN1pPS"
      },
      "source": [
        "#### Estimadores de los Coeficientes"
      ]
    },
    {
      "cell_type": "code",
      "execution_count": null,
      "metadata": {
        "id": "PKehX0HN1pPS",
        "outputId": "030ffb3e-8d9a-4b2c-dd97-3577b713f51b"
      },
      "outputs": [
        {
          "name": "stdout",
          "output_type": "stream",
          "text": [
            "DATOS DEL MODELO REGRESIÓN LINEAL SIMPLE\n",
            "\n",
            "Pendiente:  [0.04611622]\n",
            "Interceptor:  7.048976837933836\n"
          ]
        }
      ],
      "source": [
        "print('DATOS DEL MODELO REGRESIÓN LINEAL SIMPLE')\n",
        "print()\n",
        "# Pendiente\n",
        "print(\"Pendiente: \",lr_simple.coef_)\n",
        "# Interceptor\n",
        "print(\"Interceptor: \",lr_simple.intercept_)"
      ]
    },
    {
      "cell_type": "markdown",
      "metadata": {
        "id": "OmywuAlp1pPS"
      },
      "source": [
        "#### Predicciòn del Modelo"
      ]
    },
    {
      "cell_type": "code",
      "execution_count": null,
      "metadata": {
        "id": "NXOlf7AA1pPS",
        "outputId": "0f8f463e-0c2e-491c-8f5f-f3817c3216bc"
      },
      "outputs": [
        {
          "data": {
            "text/plain": [
              "array([12.39845852, 12.59214665, 16.46129762, 16.76566468, 19.35739633,\n",
              "       10.51230506, 10.56764453, 20.02608154,  8.14654291, 17.46201963,\n",
              "       18.19526755,  9.79750363,  9.70065957, 17.12537121, 16.0600865 ,\n",
              "       15.86178675, 17.1853223 , 17.9969678 , 17.63264965, 20.58869944,\n",
              "        7.95285478, 20.71782486, 17.75255182, 15.46979886,  7.84217585,\n",
              "       10.43390749, 19.97074207,  7.45018796, 19.1637082 ,  9.64070848,\n",
              "       13.56519892, 11.37929003, 15.38678967, 16.26299787, 18.03386077,\n",
              "       14.58897904, 11.46229923, 18.26444188, 20.55641808, 10.17565665])"
            ]
          },
          "execution_count": 68,
          "metadata": {},
          "output_type": "execute_result"
        }
      ],
      "source": [
        "#Realizamos una predicción\n",
        "Y_pred = lr_simple.predict(X_test)\n",
        "Y_pred"
      ]
    },
    {
      "cell_type": "code",
      "execution_count": null,
      "metadata": {
        "id": "Uu53w6b61pPT",
        "outputId": "0db60c84-9e50-4cb2-8613-cd193aa99e9a"
      },
      "outputs": [
        {
          "data": {
            "text/html": [
              "<div>\n",
              "<style scoped>\n",
              "    .dataframe tbody tr th:only-of-type {\n",
              "        vertical-align: middle;\n",
              "    }\n",
              "\n",
              "    .dataframe tbody tr th {\n",
              "        vertical-align: top;\n",
              "    }\n",
              "\n",
              "    .dataframe thead th {\n",
              "        text-align: right;\n",
              "    }\n",
              "</style>\n",
              "<table border=\"1\" class=\"dataframe\">\n",
              "  <thead>\n",
              "    <tr style=\"text-align: right;\">\n",
              "      <th></th>\n",
              "      <th>TV</th>\n",
              "      <th>Ventas</th>\n",
              "      <th>Pred</th>\n",
              "    </tr>\n",
              "  </thead>\n",
              "  <tbody>\n",
              "    <tr>\n",
              "      <th>79</th>\n",
              "      <td>116.0</td>\n",
              "      <td>11.0</td>\n",
              "      <td>12.398459</td>\n",
              "    </tr>\n",
              "    <tr>\n",
              "      <th>7</th>\n",
              "      <td>120.2</td>\n",
              "      <td>13.2</td>\n",
              "      <td>12.592147</td>\n",
              "    </tr>\n",
              "    <tr>\n",
              "      <th>14</th>\n",
              "      <td>204.1</td>\n",
              "      <td>19.0</td>\n",
              "      <td>16.461298</td>\n",
              "    </tr>\n",
              "  </tbody>\n",
              "</table>\n",
              "</div>"
            ],
            "text/plain": [
              "       TV  Ventas       Pred\n",
              "79  116.0    11.0  12.398459\n",
              "7   120.2    13.2  12.592147\n",
              "14  204.1    19.0  16.461298"
            ]
          },
          "execution_count": 69,
          "metadata": {},
          "output_type": "execute_result"
        }
      ],
      "source": [
        "df_pred = pd.DataFrame(X_test)\n",
        "df_pred = df_pred.assign(Ventas=y_test)\n",
        "df_pred = df_pred.assign(Pred = Y_pred.flatten().tolist())\n",
        "df_pred.head(3)"
      ]
    },
    {
      "cell_type": "code",
      "execution_count": null,
      "metadata": {
        "id": "viXLVEFr1pPT",
        "outputId": "f0ba6d98-6a6d-43b2-9244-51672b4a6d8f"
      },
      "outputs": [
        {
          "data": {
            "text/plain": [
              "(40, 3)"
            ]
          },
          "execution_count": 70,
          "metadata": {},
          "output_type": "execute_result"
        }
      ],
      "source": [
        "df_pred.shape"
      ]
    },
    {
      "cell_type": "code",
      "execution_count": null,
      "metadata": {
        "id": "qxUm2XOq1pPT",
        "outputId": "21f56b9f-b847-4f35-dfa1-63b5bf663ed8"
      },
      "outputs": [
        {
          "name": "stderr",
          "output_type": "stream",
          "text": [
            "C:\\Users\\nerid\\anaconda3\\lib\\site-packages\\seaborn\\axisgrid.py:2076: UserWarning: The `size` parameter has been renamed to `height`; please update your code.\n",
            "  warnings.warn(msg, UserWarning)\n"
          ]
        },
        {
          "data": {
            "text/plain": [
              "<seaborn.axisgrid.PairGrid at 0x1ba7c615670>"
            ]
          },
          "execution_count": 73,
          "metadata": {},
          "output_type": "execute_result"
        },
        {
          "data": {
            "image/png": "[encoded data removed]",
            "text/plain": [
              "<Figure size 403.2x504 with 1 Axes>"
            ]
          },
          "metadata": {
            "needs_background": "light"
          },
          "output_type": "display_data"
        }
      ],
      "source": [
        "sns.pairplot(df_pred, x_vars=['Ventas'], y_vars='Pred', size=7, aspect=0.8,kind = 'reg')"
      ]
    },
    {
      "cell_type": "markdown",
      "metadata": {
        "id": "3OMwh9BA1pPT"
      },
      "source": [
        "Comparando los datos de la predicciòn con los datos reales, se observa que hay diferencia considerable entre si, por lo tanto este modelo no es el màs adecuado implementar para este conjunto de datos."
      ]
    },
    {
      "cell_type": "markdown",
      "metadata": {
        "id": "Y0FXnb0S1pPT"
      },
      "source": [
        "#### Evaluaciòn del Modelo"
      ]
    },
    {
      "cell_type": "code",
      "execution_count": null,
      "metadata": {
        "id": "VfMN09dq1pPU",
        "outputId": "d1540fd8-871e-436e-b3b2-b97d0a316880"
      },
      "outputs": [
        {
          "name": "stdout",
          "output_type": "stream",
          "text": [
            "Precisión del Modelo:  0.5853828004879083\n"
          ]
        }
      ],
      "source": [
        "# Precisiòn del Modelo\n",
        "print(\"Precisión del Modelo: \",lr_simple.score(X_train,y_train))"
      ]
    },
    {
      "cell_type": "markdown",
      "metadata": {
        "id": "OORVlRob1pPU"
      },
      "source": [
        "La precisiòn no es buena, ya que este valor no està cercano a la unidad."
      ]
    },
    {
      "cell_type": "markdown",
      "metadata": {
        "id": "VcVQ3Y8_1pPU"
      },
      "source": [
        "### Conclusiones"
      ]
    },
    {
      "cell_type": "markdown",
      "metadata": {
        "id": "coI-gjep1pPU"
      },
      "source": [
        "Haber tenido estos resultados no quiere decir que el algoritmo sea malo sino que no es el mejor para este conjunto de datos."
      ]
    }
  ],
  "metadata": {
    "kernelspec": {
      "display_name": "Python 3",
      "language": "python",
      "name": "python3"
    },
    "language_info": {
      "codemirror_mode": {
        "name": "ipython",
        "version": 3
      },
      "file_extension": ".py",
      "mimetype": "text/x-python",
      "name": "python",
      "nbconvert_exporter": "python",
      "pygments_lexer": "ipython3",
      "version": "3.8.3"
    },
    "colab": {
      "provenance": []
    }
  },
  "nbformat": 4,
  "nbformat_minor": 0
}