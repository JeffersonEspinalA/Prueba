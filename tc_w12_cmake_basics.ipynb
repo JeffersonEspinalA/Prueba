{
  "nbformat": 4,
  "nbformat_minor": 0,
  "metadata": {
    "colab": {
      "provenance": [],
      "authorship_tag": "ABX9TyNe5INtlxfk7V2RayKanEbX",
      "include_colab_link": true
    },
    "kernelspec": {
      "name": "python3",
      "display_name": "Python 3"
    },
    "language_info": {
      "name": "python"
    }
  },
  "cells": [
    {
      "cell_type": "markdown",
      "metadata": {
        "id": "view-in-github",
        "colab_type": "text"
      },
      "source": [
        "<a href=\"https://colab.research.google.com/github/JeffersonEspinalA/Prueba/blob/main/tc_w12_cmake_basics.ipynb\" target=\"_parent\"><img src=\"https://colab.research.google.com/assets/colab-badge.svg\" alt=\"Open In Colab\"/></a>"
      ]
    },
    {
      "cell_type": "code",
      "execution_count": null,
      "metadata": {
        "id": "l25QJzTF9Ojb"
      },
      "outputs": [],
      "source": [
        "%%bash\n",
        "sudo apt-get install llvm-12\n",
        "sudo apt-get install clang-12\n",
        "ln -s /usr/lib/llvm-12/bin/opt /usr/bin/opt\n",
        "ln -s /usr/lib/llvm-12/bin/llc /usr/bin/llc"
      ]
    },
    {
      "cell_type": "code",
      "source": [
        "%%file CMakeLists.txt\n",
        "cmake_minimum_required(VERSION 3.10)\n",
        "\n",
        "# project name and version\n",
        "project(Tutorial VERSION 1.0)\n",
        "\n",
        "# define the executable file\n",
        "add_executable(Tutorial tutorial.cxx)"
      ],
      "metadata": {
        "colab": {
          "base_uri": "https://localhost:8080/"
        },
        "id": "mzkKT4nS9iP5",
        "outputId": "395d6b2a-13e2-4cf4-f921-d14aaecc7d1b"
      },
      "execution_count": 27,
      "outputs": [
        {
          "output_type": "stream",
          "name": "stdout",
          "text": [
            "Writing CMakeLists.txt\n"
          ]
        }
      ]
    },
    {
      "cell_type": "code",
      "source": [
        "%%file tutorial.cxx\n",
        "// A simple program that computes the square root of a number\n",
        "#include <cmath>\n",
        "#include <cstdlib> // TODO 5: Remove this line\n",
        "#include <iostream>\n",
        "#include <string>\n",
        "\n",
        "// TODO 11: Include TutorialConfig.h\n",
        "\n",
        "int main(int argc, char* argv[])\n",
        "{\n",
        "  if (argc < 2) {\n",
        "    // TODO 12: Create a print statement using Tutorial_VERSION_MAJOR\n",
        "    //          and Tutorial_VERSION_MINOR\n",
        "    std::cout << \"Usage: \" << argv[0] << \" number\" << std::endl;\n",
        "    return 1;\n",
        "  }\n",
        "\n",
        "  // convert input to double\n",
        "  // TODO 4: Replace atof(argv[1]) with std::stod(argv[1])\n",
        "  const double inputValue = atof(argv[1]);\n",
        "\n",
        "  // calculate square root\n",
        "  const double outputValue = sqrt(inputValue);\n",
        "  std::cout << \"The square root of \" << inputValue << \" is \" << outputValue\n",
        "            << std::endl;\n",
        "  return 0;\n",
        "}"
      ],
      "metadata": {
        "colab": {
          "base_uri": "https://localhost:8080/"
        },
        "id": "1SvxvtyV-sO0",
        "outputId": "472aa711-0c13-41b1-ba75-f124b2801d59"
      },
      "execution_count": 6,
      "outputs": [
        {
          "output_type": "stream",
          "name": "stdout",
          "text": [
            "Writing tutorial.cxx\n"
          ]
        }
      ]
    },
    {
      "cell_type": "code",
      "source": [
        "!clang++ tutorial.cxx"
      ],
      "metadata": {
        "id": "LTPtIVA3ABOv"
      },
      "execution_count": 7,
      "outputs": []
    },
    {
      "cell_type": "code",
      "source": [
        "!./a.out 5"
      ],
      "metadata": {
        "colab": {
          "base_uri": "https://localhost:8080/"
        },
        "id": "Lm-tZoaiAJPt",
        "outputId": "123bb097-cadf-423f-afc1-c4b4c928bb0b"
      },
      "execution_count": 10,
      "outputs": [
        {
          "output_type": "stream",
          "name": "stdout",
          "text": [
            "The square root of 5 is 2.23607\n"
          ]
        }
      ]
    },
    {
      "cell_type": "code",
      "source": [
        "!./a.out 25"
      ],
      "metadata": {
        "colab": {
          "base_uri": "https://localhost:8080/"
        },
        "id": "6g4mSJjkARLs",
        "outputId": "fb367c64-849f-4f0d-918c-fd870d8a66b8"
      },
      "execution_count": 11,
      "outputs": [
        {
          "output_type": "stream",
          "name": "stdout",
          "text": [
            "The square root of 25 is 5\n"
          ]
        }
      ]
    },
    {
      "cell_type": "code",
      "source": [
        "!rm a.out"
      ],
      "metadata": {
        "id": "rZuR96pAAr1i"
      },
      "execution_count": 14,
      "outputs": []
    },
    {
      "cell_type": "code",
      "source": [
        "!cmake /content/"
      ],
      "metadata": {
        "colab": {
          "base_uri": "https://localhost:8080/"
        },
        "id": "vscM9WL9AZzI",
        "outputId": "3c26f983-5309-476e-f269-d407a3d1545a"
      },
      "execution_count": 30,
      "outputs": [
        {
          "output_type": "stream",
          "name": "stdout",
          "text": [
            "-- The C compiler identification is GNU 9.4.0\n",
            "-- The CXX compiler identification is GNU 9.4.0\n",
            "-- Detecting C compiler ABI info\n",
            "-- Detecting C compiler ABI info - done\n",
            "-- Check for working C compiler: /usr/bin/cc - skipped\n",
            "-- Detecting C compile features\n",
            "-- Detecting C compile features - done\n",
            "-- Detecting CXX compiler ABI info\n",
            "-- Detecting CXX compiler ABI info - done\n",
            "-- Check for working CXX compiler: /usr/bin/c++ - skipped\n",
            "-- Detecting CXX compile features\n",
            "-- Detecting CXX compile features - done\n",
            "-- Configuring done\n",
            "-- Generating done\n",
            "-- Build files have been written to: /content\n"
          ]
        }
      ]
    },
    {
      "cell_type": "code",
      "source": [
        "!make"
      ],
      "metadata": {
        "colab": {
          "base_uri": "https://localhost:8080/"
        },
        "id": "HsR_bMfcCnS3",
        "outputId": "13514bfd-2a5a-4824-d162-92073f7f0310"
      },
      "execution_count": 31,
      "outputs": [
        {
          "output_type": "stream",
          "name": "stdout",
          "text": [
            "[ 50%] \u001b[32mBuilding CXX object CMakeFiles/Tutorial.dir/tutorial.cxx.o\u001b[0m\n",
            "[100%] \u001b[32m\u001b[1mLinking CXX executable Tutorial\u001b[0m\n",
            "[100%] Built target Tutorial\n"
          ]
        }
      ]
    },
    {
      "cell_type": "code",
      "source": [
        "!./Tutorial 56"
      ],
      "metadata": {
        "colab": {
          "base_uri": "https://localhost:8080/"
        },
        "id": "FQTEQcSNC0a1",
        "outputId": "d669b62d-f60a-439d-aaea-34a08e616da7"
      },
      "execution_count": 32,
      "outputs": [
        {
          "output_type": "stream",
          "name": "stdout",
          "text": [
            "The square root of 56 is 7.48331\n"
          ]
        }
      ]
    },
    {
      "cell_type": "code",
      "source": [
        "!./Tutorial 12321"
      ],
      "metadata": {
        "colab": {
          "base_uri": "https://localhost:8080/"
        },
        "id": "OTYog_1bC48k",
        "outputId": "f6629790-c425-436e-d99b-b08e01f29efb"
      },
      "execution_count": 33,
      "outputs": [
        {
          "output_type": "stream",
          "name": "stdout",
          "text": [
            "The square root of 12321 is 111\n"
          ]
        }
      ]
    }
  ]
}