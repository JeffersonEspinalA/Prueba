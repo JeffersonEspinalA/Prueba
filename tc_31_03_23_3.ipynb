{
  "nbformat": 4,
  "nbformat_minor": 0,
  "metadata": {
    "colab": {
      "provenance": [],
      "authorship_tag": "ABX9TyPADK5rDZc7C/FwbWwQ75gW",
      "include_colab_link": true
    },
    "kernelspec": {
      "name": "python3",
      "display_name": "Python 3"
    },
    "language_info": {
      "name": "python"
    }
  },
  "cells": [
    {
      "cell_type": "markdown",
      "metadata": {
        "id": "view-in-github",
        "colab_type": "text"
      },
      "source": [
        "<a href=\"https://colab.research.google.com/github/JeffersonEspinalA/Prueba/blob/main/tc_31_03_23_3.ipynb\" target=\"_parent\"><img src=\"https://colab.research.google.com/assets/colab-badge.svg\" alt=\"Open In Colab\"/></a>"
      ]
    },
    {
      "cell_type": "code",
      "execution_count": 1,
      "metadata": {
        "colab": {
          "base_uri": "https://localhost:8080/"
        },
        "id": "wC-jCFZ5_C6N",
        "outputId": "2fc53c1a-9064-49e3-ba7c-653f38892bd8"
      },
      "outputs": [
        {
          "output_type": "stream",
          "name": "stdout",
          "text": [
            "Reading package lists... Done\n",
            "Building dependency tree       \n",
            "Reading state information... Done\n",
            "The following additional packages will be installed:\n",
            "  libfl-dev libfl2\n",
            "Suggested packages:\n",
            "  bison flex-doc\n",
            "The following NEW packages will be installed:\n",
            "  flex libfl-dev libfl2\n",
            "0 upgraded, 3 newly installed, 0 to remove and 24 not upgraded.\n",
            "Need to get 334 kB of archives.\n",
            "After this operation, 1,127 kB of additional disk space will be used.\n",
            "Get:1 http://archive.ubuntu.com/ubuntu focal/main amd64 flex amd64 2.6.4-6.2 [317 kB]\n",
            "Get:2 http://archive.ubuntu.com/ubuntu focal/main amd64 libfl2 amd64 2.6.4-6.2 [11.5 kB]\n",
            "Get:3 http://archive.ubuntu.com/ubuntu focal/main amd64 libfl-dev amd64 2.6.4-6.2 [6,316 B]\n",
            "Fetched 334 kB in 1s (434 kB/s)\n",
            "debconf: unable to initialize frontend: Dialog\n",
            "debconf: (No usable dialog-like program is installed, so the dialog based frontend cannot be used. at /usr/share/perl5/Debconf/FrontEnd/Dialog.pm line 76, <> line 3.)\n",
            "debconf: falling back to frontend: Readline\n",
            "debconf: unable to initialize frontend: Readline\n",
            "debconf: (This frontend requires a controlling tty.)\n",
            "debconf: falling back to frontend: Teletype\n",
            "dpkg-preconfigure: unable to re-open stdin: \n",
            "Selecting previously unselected package flex.\n",
            "(Reading database ... 122352 files and directories currently installed.)\n",
            "Preparing to unpack .../flex_2.6.4-6.2_amd64.deb ...\n",
            "Unpacking flex (2.6.4-6.2) ...\n",
            "Selecting previously unselected package libfl2:amd64.\n",
            "Preparing to unpack .../libfl2_2.6.4-6.2_amd64.deb ...\n",
            "Unpacking libfl2:amd64 (2.6.4-6.2) ...\n",
            "Selecting previously unselected package libfl-dev:amd64.\n",
            "Preparing to unpack .../libfl-dev_2.6.4-6.2_amd64.deb ...\n",
            "Unpacking libfl-dev:amd64 (2.6.4-6.2) ...\n",
            "Setting up flex (2.6.4-6.2) ...\n",
            "Setting up libfl2:amd64 (2.6.4-6.2) ...\n",
            "Setting up libfl-dev:amd64 (2.6.4-6.2) ...\n",
            "Processing triggers for man-db (2.9.1-1) ...\n",
            "Processing triggers for libc-bin (2.31-0ubuntu9.9) ...\n"
          ]
        }
      ],
      "source": [
        "!sudo apt install flex"
      ]
    },
    {
      "cell_type": "code",
      "source": [
        "%%file scanner2.l\n",
        "%{\n",
        "using namespace std;\n",
        "int mylineno = 0;\n",
        "%}\n",
        "\n",
        "blank [ \\t]+\n",
        "relop (<[>=]?)|(>(=)?)|=\n",
        "\n",
        "%%\n",
        "\n",
        "{blank}   /*ignoring white space*/\n",
        "{relop}   cout << YYText() << \" relop\\n\";\n",
        "\\n        mylineno++;\n",
        ".         cout << \"Unknown token\\n\";\n",
        "<<EOF>>   return 0;\n",
        "\n",
        "%%\n",
        "\n",
        "int yyFlexLexer::yywrap() { return 0; }\n",
        "\n",
        "int main() {\n",
        "    FlexLexer* lexer = new yyFlexLexer();\n",
        "    while (lexer->yylex() != 0)\n",
        "    ;\n",
        "    return 0;\n",
        "}"
      ],
      "metadata": {
        "colab": {
          "base_uri": "https://localhost:8080/"
        },
        "id": "vU91LNflALtX",
        "outputId": "18327615-8225-40b6-9ed1-94d67b069756"
      },
      "execution_count": 10,
      "outputs": [
        {
          "output_type": "stream",
          "name": "stdout",
          "text": [
            "Overwriting scanner2.l\n"
          ]
        }
      ]
    },
    {
      "cell_type": "code",
      "source": [
        "!flex -+ scanner2.l"
      ],
      "metadata": {
        "id": "n9ZSV2yuCT-A"
      },
      "execution_count": 11,
      "outputs": []
    },
    {
      "cell_type": "code",
      "source": [
        "!g++ lex.yy.cc"
      ],
      "metadata": {
        "id": "t0nHYHKACrWq"
      },
      "execution_count": 12,
      "outputs": []
    },
    {
      "cell_type": "code",
      "source": [
        "!./a.out"
      ],
      "metadata": {
        "colab": {
          "base_uri": "https://localhost:8080/"
        },
        "id": "f8DyCnmyE_oC",
        "outputId": "06e423c5-61a2-4a99-8f74-b6e1f8db1fb1"
      },
      "execution_count": 13,
      "outputs": [
        {
          "output_type": "stream",
          "name": "stdout",
          "text": [
            ".\n",
            "Unknown token\n",
            "=\n",
            "= relop\n",
            "<\n",
            "< relop\n",
            ">=\n",
            ">= relop\n",
            "<=\n",
            "<= relop\n",
            "<\n",
            "< relop\n",
            "^C\n"
          ]
        }
      ]
    }
  ]
}