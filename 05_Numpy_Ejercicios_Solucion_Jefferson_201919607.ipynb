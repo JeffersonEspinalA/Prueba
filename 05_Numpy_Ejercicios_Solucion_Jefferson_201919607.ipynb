{
  "cells": [
    {
      "cell_type": "markdown",
      "metadata": {
        "id": "view-in-github",
        "colab_type": "text"
      },
      "source": [
        "<a href=\"https://colab.research.google.com/github/JeffersonEspinalA/Prueba/blob/main/05_Numpy_Ejercicios_Solucion_Jefferson_201919607.ipynb\" target=\"_parent\"><img src=\"https://colab.research.google.com/assets/colab-badge.svg\" alt=\"Open In Colab\"/></a>"
      ]
    },
    {
      "cell_type": "markdown",
      "metadata": {
        "id": "dRbOryXvEElr"
      },
      "source": [
        "___\n",
        "\n",
        "<a href='https://jupyter-notebook.readthedocs.io/en/stable/examples/Notebook/Running%20Code.html'> <img src='https://www.python.org/static/img/python-logo.png' /></a>\n",
        "___"
      ]
    },
    {
      "cell_type": "markdown",
      "metadata": {
        "id": "2wmII0UCEElt"
      },
      "source": [
        "# NumPy Ejercicios\n",
        "\n",
        "Ahora que hemos aprendido sobre NumPy, probemos los conocimientos. Comenzaremos con algunas tareas simples y luego se harán algunas preguntas más complicadas."
      ]
    },
    {
      "cell_type": "markdown",
      "metadata": {
        "id": "m_DLCaFpEElt"
      },
      "source": [
        "#### Importar NumPy como np"
      ]
    },
    {
      "cell_type": "code",
      "execution_count": null,
      "metadata": {
        "collapsed": true,
        "id": "ws4nRZMeEElt"
      },
      "outputs": [],
      "source": [
        "import numpy as np"
      ]
    },
    {
      "cell_type": "markdown",
      "metadata": {
        "id": "_Ks88eeTEElu"
      },
      "source": [
        "#### Crear un array de 10 zeros "
      ]
    },
    {
      "cell_type": "code",
      "execution_count": null,
      "metadata": {
        "colab": {
          "base_uri": "https://localhost:8080/"
        },
        "id": "ibg0mKHxEElu",
        "outputId": "9f2b4eb8-921f-41d2-8ae4-f96fb62c1af5"
      },
      "outputs": [
        {
          "output_type": "execute_result",
          "data": {
            "text/plain": [
              "array([0., 0., 0., 0., 0., 0., 0., 0., 0., 0.])"
            ]
          },
          "metadata": {},
          "execution_count": 10
        }
      ],
      "source": [
        "arr = np.zeros(10)\n",
        "arr"
      ]
    },
    {
      "cell_type": "markdown",
      "metadata": {
        "id": "W4WU8c7lEElu"
      },
      "source": [
        "#### Crear un array de 10 ones"
      ]
    },
    {
      "cell_type": "code",
      "execution_count": null,
      "metadata": {
        "colab": {
          "base_uri": "https://localhost:8080/"
        },
        "id": "4QIutrRZEElv",
        "outputId": "120b8191-2658-4f41-e41f-e06138bb4918"
      },
      "outputs": [
        {
          "output_type": "execute_result",
          "data": {
            "text/plain": [
              "array([1., 1., 1., 1., 1., 1., 1., 1., 1., 1.])"
            ]
          },
          "metadata": {},
          "execution_count": 11
        }
      ],
      "source": [
        "arr = np.ones(10)\n",
        "arr"
      ]
    },
    {
      "cell_type": "markdown",
      "metadata": {
        "id": "KTLeu9ZSEElv"
      },
      "source": [
        "#### Crear un array de 10 cincos"
      ]
    },
    {
      "cell_type": "code",
      "execution_count": null,
      "metadata": {
        "colab": {
          "base_uri": "https://localhost:8080/"
        },
        "id": "kra04nR5EElv",
        "outputId": "76c2dbd7-0e15-4d5e-c9c6-428d5ad029eb"
      },
      "outputs": [
        {
          "output_type": "execute_result",
          "data": {
            "text/plain": [
              "array([5., 5., 5., 5., 5., 5., 5., 5., 5., 5.])"
            ]
          },
          "metadata": {},
          "execution_count": 12
        }
      ],
      "source": [
        "arr = arr * 5\n",
        "arr"
      ]
    },
    {
      "cell_type": "markdown",
      "metadata": {
        "id": "0YFfFKFCEElv"
      },
      "source": [
        "#### Crear un array de enteros desde 10 a 50"
      ]
    },
    {
      "cell_type": "code",
      "execution_count": null,
      "metadata": {
        "colab": {
          "base_uri": "https://localhost:8080/"
        },
        "id": "ftDfplM6EElv",
        "outputId": "ef77db8a-1413-4650-d5bc-2a07daf4fde8"
      },
      "outputs": [
        {
          "output_type": "execute_result",
          "data": {
            "text/plain": [
              "array([10, 11, 12, 13, 14, 15, 16, 17, 18, 19, 20, 21, 22, 23, 24, 25, 26,\n",
              "       27, 28, 29, 30, 31, 32, 33, 34, 35, 36, 37, 38, 39, 40, 41, 42, 43,\n",
              "       44, 45, 46, 47, 48, 49, 50])"
            ]
          },
          "metadata": {},
          "execution_count": 13
        }
      ],
      "source": [
        "arr = np.arange(10, 51)\n",
        "arr"
      ]
    },
    {
      "cell_type": "markdown",
      "metadata": {
        "id": "AmLxPUmOEElw"
      },
      "source": [
        "#### Cree una matriz de todos los enteros pares del 10 al 50"
      ]
    },
    {
      "cell_type": "code",
      "execution_count": null,
      "metadata": {
        "colab": {
          "base_uri": "https://localhost:8080/"
        },
        "id": "U4AfClf6EElw",
        "outputId": "e0677cec-2e54-4eb7-d011-1681666b4abc"
      },
      "outputs": [
        {
          "output_type": "execute_result",
          "data": {
            "text/plain": [
              "array([10, 12, 14, 16, 18, 20, 22, 24, 26, 28, 30, 32, 34, 36, 38, 40, 42,\n",
              "       44, 46, 48, 50])"
            ]
          },
          "metadata": {},
          "execution_count": 14
        }
      ],
      "source": [
        "arr = np.arange(10, 51, 2)\n",
        "arr"
      ]
    },
    {
      "cell_type": "markdown",
      "metadata": {
        "id": "NCZmZ7U0EElw"
      },
      "source": [
        "#### Cree una matriz de 3x3 con valores que van de 0 a 8"
      ]
    },
    {
      "cell_type": "code",
      "execution_count": null,
      "metadata": {
        "colab": {
          "base_uri": "https://localhost:8080/"
        },
        "id": "QICo7kPjEElw",
        "outputId": "47f729eb-2ca1-456f-ad0c-5f90915d51c5"
      },
      "outputs": [
        {
          "output_type": "execute_result",
          "data": {
            "text/plain": [
              "array([[0, 1, 2],\n",
              "       [3, 4, 5],\n",
              "       [6, 7, 8]])"
            ]
          },
          "metadata": {},
          "execution_count": 16
        }
      ],
      "source": [
        "arr = np.arange(9)\n",
        "arr = arr.reshape(3, 3)\n",
        "arr"
      ]
    },
    {
      "cell_type": "markdown",
      "metadata": {
        "id": "FZm7fKzDEElw"
      },
      "source": [
        "#### Crear una matriz de identidad de 3x3"
      ]
    },
    {
      "cell_type": "code",
      "execution_count": null,
      "metadata": {
        "colab": {
          "base_uri": "https://localhost:8080/"
        },
        "id": "KIhVPzDWEElw",
        "outputId": "43325843-ecf4-4453-8d58-c999ccf92a84"
      },
      "outputs": [
        {
          "output_type": "execute_result",
          "data": {
            "text/plain": [
              "array([[1., 0., 0.],\n",
              "       [0., 1., 0.],\n",
              "       [0., 0., 1.]])"
            ]
          },
          "metadata": {},
          "execution_count": 17
        }
      ],
      "source": [
        "arr = np.eye(3)\n",
        "arr"
      ]
    },
    {
      "cell_type": "markdown",
      "metadata": {
        "id": "TOv9kerUEElw"
      },
      "source": [
        "#### Use NumPy para generar un número aleatorio entre 0 y 1"
      ]
    },
    {
      "cell_type": "code",
      "execution_count": null,
      "metadata": {
        "colab": {
          "base_uri": "https://localhost:8080/"
        },
        "id": "Gfe57rDsEElx",
        "outputId": "65a6a37a-d0eb-4663-aa52-ab4436943d87"
      },
      "outputs": [
        {
          "output_type": "execute_result",
          "data": {
            "text/plain": [
              "array([0.342442])"
            ]
          },
          "metadata": {},
          "execution_count": 19
        }
      ],
      "source": [
        "arr = np.random.rand(1)\n",
        "arr"
      ]
    },
    {
      "cell_type": "markdown",
      "metadata": {
        "id": "FbMAQyYKEElx"
      },
      "source": [
        "#### Utilice NumPy para generar una matriz de 25 números aleatorios muestreados a partir de una distribución normal estándar"
      ]
    },
    {
      "cell_type": "code",
      "execution_count": null,
      "metadata": {
        "colab": {
          "base_uri": "https://localhost:8080/"
        },
        "id": "cQPuu98QEElx",
        "outputId": "072ddf12-a7f4-4e0c-afea-1cc4d740b9b1"
      },
      "outputs": [
        {
          "output_type": "execute_result",
          "data": {
            "text/plain": [
              "array([[-0.43365302,  0.18185343, -0.47073121, -0.4512381 ,  0.68879835],\n",
              "       [ 1.07407183, -0.26602432, -1.05981321, -1.13102724, -0.65650002],\n",
              "       [ 1.53590796,  0.95919855,  0.69417491, -0.45319117, -0.20483538],\n",
              "       [ 0.84950118,  0.3419807 ,  0.45683059, -2.01252176, -0.927781  ],\n",
              "       [-0.75155707,  0.21867412,  2.21599394,  0.24400858, -1.475456  ]])"
            ]
          },
          "metadata": {},
          "execution_count": 21
        }
      ],
      "source": [
        "arr = np.random.randn(5, 5)\n",
        "arr"
      ]
    },
    {
      "cell_type": "markdown",
      "metadata": {
        "id": "IVfPSMtJEElx"
      },
      "source": [
        "#### Cree la siguiente matriz:"
      ]
    },
    {
      "cell_type": "code",
      "execution_count": null,
      "metadata": {
        "colab": {
          "base_uri": "https://localhost:8080/"
        },
        "id": "8FAPBwaNEElx",
        "outputId": "aa9f5a2b-02c7-489d-c122-1097f0584914"
      },
      "outputs": [
        {
          "output_type": "execute_result",
          "data": {
            "text/plain": [
              "array([[0.01, 0.02, 0.03, 0.04, 0.05, 0.06, 0.07, 0.08, 0.09, 0.1 ],\n",
              "       [0.11, 0.12, 0.13, 0.14, 0.15, 0.16, 0.17, 0.18, 0.19, 0.2 ],\n",
              "       [0.21, 0.22, 0.23, 0.24, 0.25, 0.26, 0.27, 0.28, 0.29, 0.3 ],\n",
              "       [0.31, 0.32, 0.33, 0.34, 0.35, 0.36, 0.37, 0.38, 0.39, 0.4 ],\n",
              "       [0.41, 0.42, 0.43, 0.44, 0.45, 0.46, 0.47, 0.48, 0.49, 0.5 ],\n",
              "       [0.51, 0.52, 0.53, 0.54, 0.55, 0.56, 0.57, 0.58, 0.59, 0.6 ],\n",
              "       [0.61, 0.62, 0.63, 0.64, 0.65, 0.66, 0.67, 0.68, 0.69, 0.7 ],\n",
              "       [0.71, 0.72, 0.73, 0.74, 0.75, 0.76, 0.77, 0.78, 0.79, 0.8 ],\n",
              "       [0.81, 0.82, 0.83, 0.84, 0.85, 0.86, 0.87, 0.88, 0.89, 0.9 ],\n",
              "       [0.91, 0.92, 0.93, 0.94, 0.95, 0.96, 0.97, 0.98, 0.99, 1.  ]])"
            ]
          },
          "metadata": {},
          "execution_count": 34
        }
      ],
      "source": [
        "arr = np.arange(0.01, 1.01, 0.01)\n",
        "arr = arr.reshape(10, 10)\n",
        "arr"
      ]
    },
    {
      "cell_type": "markdown",
      "metadata": {
        "id": "eeBB2tboEEly"
      },
      "source": [
        "#### Cree una matriz de 20 puntos espaciados linealmente entre 0 y 1:"
      ]
    },
    {
      "cell_type": "code",
      "execution_count": null,
      "metadata": {
        "colab": {
          "base_uri": "https://localhost:8080/"
        },
        "id": "JiJIk0byEEly",
        "outputId": "152170be-e4c0-4c96-e2f9-01b71962887c"
      },
      "outputs": [
        {
          "output_type": "execute_result",
          "data": {
            "text/plain": [
              "array([[0.        , 0.05263158, 0.10526316, 0.15789474, 0.21052632],\n",
              "       [0.26315789, 0.31578947, 0.36842105, 0.42105263, 0.47368421],\n",
              "       [0.52631579, 0.57894737, 0.63157895, 0.68421053, 0.73684211],\n",
              "       [0.78947368, 0.84210526, 0.89473684, 0.94736842, 1.        ]])"
            ]
          },
          "metadata": {},
          "execution_count": 39
        }
      ],
      "source": [
        "arr = np.linspace(0, 1, 20)\n",
        "arr = arr.reshape(4, 5)\n",
        "arr"
      ]
    },
    {
      "cell_type": "markdown",
      "metadata": {
        "id": "TBRvRJLVEEly"
      },
      "source": [
        "## Numpy Indexación y Selección\n",
        "\n",
        "Ahora se le darán algunas matrices y se le pedirá que replique los resultados de la matriz resultante:"
      ]
    },
    {
      "cell_type": "code",
      "execution_count": null,
      "metadata": {
        "colab": {
          "base_uri": "https://localhost:8080/"
        },
        "id": "3hwdZTBlEEly",
        "outputId": "a19673c1-662c-4ad3-c398-25ad0262cbf7"
      },
      "outputs": [
        {
          "output_type": "execute_result",
          "data": {
            "text/plain": [
              "array([[ 1,  2,  3,  4,  5],\n",
              "       [ 6,  7,  8,  9, 10],\n",
              "       [11, 12, 13, 14, 15],\n",
              "       [16, 17, 18, 19, 20],\n",
              "       [21, 22, 23, 24, 25]])"
            ]
          },
          "metadata": {},
          "execution_count": 94
        }
      ],
      "source": [
        "mat = np.arange(1,26).reshape(5,5)\n",
        "mat"
      ]
    },
    {
      "cell_type": "code",
      "execution_count": null,
      "metadata": {
        "collapsed": true,
        "id": "GbMpkw_wEEly"
      },
      "outputs": [],
      "source": [
        "# ESCRIBA AQUÍ EL CÓDIGO QUE REPRODUCE LA SALIDA DE LA CELDA A CONTINUACIÓN\n",
        "# TENER CUIDADO DE NO HACER FUNCIONAR LA CELDA ABAJO, DE LO CONTRARIO NO\n",
        "# PODRA VER LA SALIDA MÁS"
      ]
    },
    {
      "cell_type": "code",
      "source": [
        "mat[2:, 1: ]"
      ],
      "metadata": {
        "colab": {
          "base_uri": "https://localhost:8080/"
        },
        "id": "I3fvxtAkNCsh",
        "outputId": "0d102a1d-7802-4547-a5ea-444f8f487784"
      },
      "execution_count": null,
      "outputs": [
        {
          "output_type": "execute_result",
          "data": {
            "text/plain": [
              "array([[12, 13, 14, 15],\n",
              "       [17, 18, 19, 20],\n",
              "       [22, 23, 24, 25]])"
            ]
          },
          "metadata": {},
          "execution_count": 95
        }
      ]
    },
    {
      "cell_type": "code",
      "execution_count": null,
      "metadata": {
        "collapsed": true,
        "id": "OrMLGpIOEElz"
      },
      "outputs": [],
      "source": [
        "# ESCRIBA AQUÍ EL CÓDIGO QUE REPRODUCE LA SALIDA DE LA CELDA A CONTINUACIÓN\n",
        "# TENER CUIDADO DE NO HACER FUNCIONAR LA CELDA ABAJO, DE LO CONTRARIO NO\n",
        "# PODRA VER LA SALIDA MÁS"
      ]
    },
    {
      "cell_type": "code",
      "execution_count": null,
      "metadata": {
        "colab": {
          "base_uri": "https://localhost:8080/"
        },
        "id": "0rHEoK9SEElz",
        "outputId": "02942471-da7f-40ce-92ad-0d3825c1cb96"
      },
      "outputs": [
        {
          "output_type": "execute_result",
          "data": {
            "text/plain": [
              "20"
            ]
          },
          "metadata": {},
          "execution_count": 96
        }
      ],
      "source": [
        "mat[3, 4]"
      ]
    },
    {
      "cell_type": "code",
      "execution_count": null,
      "metadata": {
        "collapsed": true,
        "id": "6SSunSHZEElz"
      },
      "outputs": [],
      "source": [
        "# ESCRIBA AQUÍ EL CÓDIGO QUE REPRODUCE LA SALIDA DE LA CELDA A CONTINUACIÓN\n",
        "# TENER CUIDADO DE NO HACER FUNCIONAR LA CELDA ABAJO, DE LO CONTRARIO NO\n",
        "# PODRA VER LA SALIDA MÁS"
      ]
    },
    {
      "cell_type": "code",
      "execution_count": null,
      "metadata": {
        "colab": {
          "base_uri": "https://localhost:8080/"
        },
        "id": "hKiK-rl0EElz",
        "outputId": "2b27c99c-2a9f-4163-e377-33cd24ae3835"
      },
      "outputs": [
        {
          "output_type": "execute_result",
          "data": {
            "text/plain": [
              "array([[ 2],\n",
              "       [ 7],\n",
              "       [12]])"
            ]
          },
          "metadata": {},
          "execution_count": 97
        }
      ],
      "source": [
        "mat[:3, 1].reshape(3, 1)"
      ]
    },
    {
      "cell_type": "code",
      "execution_count": null,
      "metadata": {
        "collapsed": true,
        "id": "WUdVVkhwEElz"
      },
      "outputs": [],
      "source": [
        "# ESCRIBA AQUÍ EL CÓDIGO QUE REPRODUCE LA SALIDA DE LA CELDA A CONTINUACIÓN\n",
        "# TENER CUIDADO DE NO HACER FUNCIONAR LA CELDA ABAJO, DE LO CONTRARIO NO\n",
        "# PODRA VER LA SALIDA MÁS"
      ]
    },
    {
      "cell_type": "code",
      "execution_count": null,
      "metadata": {
        "colab": {
          "base_uri": "https://localhost:8080/"
        },
        "id": "S16BmSwmEElz",
        "outputId": "54e52a07-c265-4cc0-b700-5b992053d759"
      },
      "outputs": [
        {
          "output_type": "execute_result",
          "data": {
            "text/plain": [
              "array([21, 22, 23, 24, 25])"
            ]
          },
          "metadata": {},
          "execution_count": 98
        }
      ],
      "source": [
        "mat[4, :]"
      ]
    },
    {
      "cell_type": "code",
      "execution_count": null,
      "metadata": {
        "collapsed": true,
        "id": "FXY1bprkEEl0"
      },
      "outputs": [],
      "source": [
        "# ESCRIBA AQUÍ EL CÓDIGO QUE REPRODUCE LA SALIDA DE LA CELDA A CONTINUACIÓN\n",
        "# TENER CUIDADO DE NO HACER FUNCIONAR LA CELDA ABAJO, DE LO CONTRARIO NO\n",
        "# PODRA VER LA SALIDA MÁS"
      ]
    },
    {
      "cell_type": "code",
      "execution_count": null,
      "metadata": {
        "colab": {
          "base_uri": "https://localhost:8080/"
        },
        "id": "c0-FGBkoEEl0",
        "outputId": "e097093a-9ee1-4d32-c39c-185e0b704995"
      },
      "outputs": [
        {
          "output_type": "execute_result",
          "data": {
            "text/plain": [
              "array([[16, 17, 18, 19, 20],\n",
              "       [21, 22, 23, 24, 25]])"
            ]
          },
          "metadata": {},
          "execution_count": 99
        }
      ],
      "source": [
        "mat[3:, :]"
      ]
    },
    {
      "cell_type": "markdown",
      "metadata": {
        "id": "yuDNDYfFEEl0"
      },
      "source": [
        "### Ahora hacer lo siguiente"
      ]
    },
    {
      "cell_type": "markdown",
      "metadata": {
        "id": "_VatHUv7EEl0"
      },
      "source": [
        "#### Obtenga la suma de todos los valores en mat"
      ]
    },
    {
      "cell_type": "code",
      "execution_count": null,
      "metadata": {
        "colab": {
          "base_uri": "https://localhost:8080/"
        },
        "id": "DyFJeNMKEEl0",
        "outputId": "8b6d9203-47e2-4fcb-b791-b0557babf43e"
      },
      "outputs": [
        {
          "output_type": "execute_result",
          "data": {
            "text/plain": [
              "325"
            ]
          },
          "metadata": {},
          "execution_count": 100
        }
      ],
      "source": [
        "np.sum(mat)"
      ]
    },
    {
      "cell_type": "markdown",
      "metadata": {
        "id": "BELtIW_lEEl0"
      },
      "source": [
        "#### Obtenga la desviación estándar de los valores en mat"
      ]
    },
    {
      "cell_type": "code",
      "execution_count": null,
      "metadata": {
        "colab": {
          "base_uri": "https://localhost:8080/"
        },
        "id": "9RfbTcuaEEl1",
        "outputId": "3b3160f1-f8cb-4998-90f7-0b4a5be041db"
      },
      "outputs": [
        {
          "output_type": "execute_result",
          "data": {
            "text/plain": [
              "7.211102550927978"
            ]
          },
          "metadata": {},
          "execution_count": 101
        }
      ],
      "source": [
        "np.std(mat)"
      ]
    },
    {
      "cell_type": "markdown",
      "metadata": {
        "id": "AXK5_ijZEEl1"
      },
      "source": [
        "#### Obtenga la suma de todas las columnas en mat"
      ]
    },
    {
      "cell_type": "code",
      "execution_count": null,
      "metadata": {
        "colab": {
          "base_uri": "https://localhost:8080/"
        },
        "id": "7JPt6VfIEEl1",
        "outputId": "76596eaf-ec67-4c92-e8db-94b189f28662"
      },
      "outputs": [
        {
          "output_type": "execute_result",
          "data": {
            "text/plain": [
              "array([55, 60, 65, 70, 75])"
            ]
          },
          "metadata": {},
          "execution_count": 102
        }
      ],
      "source": [
        "np.sum(mat, axis=0)"
      ]
    },
    {
      "cell_type": "markdown",
      "metadata": {
        "collapsed": true,
        "id": "-llKIct7EEl1"
      },
      "source": [
        "# Buen trabajo!"
      ]
    }
  ],
  "metadata": {
    "kernelspec": {
      "display_name": "Python 3",
      "language": "python",
      "name": "python3"
    },
    "language_info": {
      "codemirror_mode": {
        "name": "ipython",
        "version": 3
      },
      "file_extension": ".py",
      "mimetype": "text/x-python",
      "name": "python",
      "nbconvert_exporter": "python",
      "pygments_lexer": "ipython3",
      "version": "3.8.5"
    },
    "colab": {
      "provenance": [],
      "include_colab_link": true
    }
  },
  "nbformat": 4,
  "nbformat_minor": 0
}