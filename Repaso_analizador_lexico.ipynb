{
  "nbformat": 4,
  "nbformat_minor": 0,
  "metadata": {
    "colab": {
      "provenance": [],
      "authorship_tag": "ABX9TyPCJ+95dxUmnx06mNKeBpBl",
      "include_colab_link": true
    },
    "kernelspec": {
      "name": "python3",
      "display_name": "Python 3"
    },
    "language_info": {
      "name": "python"
    }
  },
  "cells": [
    {
      "cell_type": "markdown",
      "metadata": {
        "id": "view-in-github",
        "colab_type": "text"
      },
      "source": [
        "<a href=\"https://colab.research.google.com/github/JeffersonEspinalA/Prueba/blob/main/Repaso_analizador_lexico.ipynb\" target=\"_parent\"><img src=\"https://colab.research.google.com/assets/colab-badge.svg\" alt=\"Open In Colab\"/></a>"
      ]
    },
    {
      "cell_type": "code",
      "execution_count": null,
      "metadata": {
        "colab": {
          "base_uri": "https://localhost:8080/"
        },
        "id": "v8dQt2QZTB5g",
        "outputId": "73d671d2-ae8c-4e47-f2bc-81607e6d0f47"
      },
      "outputs": [
        {
          "output_type": "stream",
          "name": "stdout",
          "text": [
            "Reading package lists... Done\n",
            "Building dependency tree       \n",
            "Reading state information... Done\n",
            "The following additional packages will be installed:\n",
            "  libfl-dev libfl2\n",
            "Suggested packages:\n",
            "  bison flex-doc\n",
            "The following NEW packages will be installed:\n",
            "  flex libfl-dev libfl2\n",
            "0 upgraded, 3 newly installed, 0 to remove and 24 not upgraded.\n",
            "Need to get 334 kB of archives.\n",
            "After this operation, 1,127 kB of additional disk space will be used.\n",
            "Get:1 http://archive.ubuntu.com/ubuntu focal/main amd64 flex amd64 2.6.4-6.2 [317 kB]\n",
            "Get:2 http://archive.ubuntu.com/ubuntu focal/main amd64 libfl2 amd64 2.6.4-6.2 [11.5 kB]\n",
            "Get:3 http://archive.ubuntu.com/ubuntu focal/main amd64 libfl-dev amd64 2.6.4-6.2 [6,316 B]\n",
            "Fetched 334 kB in 1s (266 kB/s)\n",
            "debconf: unable to initialize frontend: Dialog\n",
            "debconf: (No usable dialog-like program is installed, so the dialog based frontend cannot be used. at /usr/share/perl5/Debconf/FrontEnd/Dialog.pm line 76, <> line 3.)\n",
            "debconf: falling back to frontend: Readline\n",
            "debconf: unable to initialize frontend: Readline\n",
            "debconf: (This frontend requires a controlling tty.)\n",
            "debconf: falling back to frontend: Teletype\n",
            "dpkg-preconfigure: unable to re-open stdin: \n",
            "Selecting previously unselected package flex.\n",
            "(Reading database ... 122352 files and directories currently installed.)\n",
            "Preparing to unpack .../flex_2.6.4-6.2_amd64.deb ...\n",
            "Unpacking flex (2.6.4-6.2) ...\n",
            "Selecting previously unselected package libfl2:amd64.\n",
            "Preparing to unpack .../libfl2_2.6.4-6.2_amd64.deb ...\n",
            "Unpacking libfl2:amd64 (2.6.4-6.2) ...\n",
            "Selecting previously unselected package libfl-dev:amd64.\n",
            "Preparing to unpack .../libfl-dev_2.6.4-6.2_amd64.deb ...\n",
            "Unpacking libfl-dev:amd64 (2.6.4-6.2) ...\n",
            "Setting up flex (2.6.4-6.2) ...\n",
            "Setting up libfl2:amd64 (2.6.4-6.2) ...\n",
            "Setting up libfl-dev:amd64 (2.6.4-6.2) ...\n",
            "Processing triggers for man-db (2.9.1-1) ...\n",
            "Processing triggers for libc-bin (2.31-0ubuntu9.9) ...\n",
            "Reading package lists... Done\n",
            "Building dependency tree       \n",
            "Reading state information... Done\n",
            "Suggested packages:\n",
            "  bison-doc\n",
            "The following NEW packages will be installed:\n",
            "  bison\n",
            "0 upgraded, 1 newly installed, 0 to remove and 24 not upgraded.\n",
            "Need to get 657 kB of archives.\n",
            "After this operation, 2,028 kB of additional disk space will be used.\n",
            "Get:1 http://archive.ubuntu.com/ubuntu focal/main amd64 bison amd64 2:3.5.1+dfsg-1 [657 kB]\n",
            "Fetched 657 kB in 1s (592 kB/s)\n",
            "debconf: unable to initialize frontend: Dialog\n",
            "debconf: (No usable dialog-like program is installed, so the dialog based frontend cannot be used. at /usr/share/perl5/Debconf/FrontEnd/Dialog.pm line 76, <> line 1.)\n",
            "debconf: falling back to frontend: Readline\n",
            "debconf: unable to initialize frontend: Readline\n",
            "debconf: (This frontend requires a controlling tty.)\n",
            "debconf: falling back to frontend: Teletype\n",
            "dpkg-preconfigure: unable to re-open stdin: \n",
            "Selecting previously unselected package bison.\n",
            "(Reading database ... 122442 files and directories currently installed.)\n",
            "Preparing to unpack .../bison_2%3a3.5.1+dfsg-1_amd64.deb ...\n",
            "Unpacking bison (2:3.5.1+dfsg-1) ...\n",
            "Setting up bison (2:3.5.1+dfsg-1) ...\n",
            "update-alternatives: using /usr/bin/bison.yacc to provide /usr/bin/yacc (yacc) in auto mode\n",
            "Processing triggers for man-db (2.9.1-1) ...\n"
          ]
        }
      ],
      "source": [
        "!sudo apt install flex"
      ]
    },
    {
      "cell_type": "markdown",
      "source": [
        "1.   Un analizador léxico para un lenguaje que reconozca solamente números enteros y operadores matemáticos básicos como suma, resta, multiplicación y división.\n",
        "2.   Un analizador léxico para un lenguaje que reconozca solamente palabras clave como \"if\", \"else\", \"for\", \"while\", etc.\n",
        "3.   Un analizador léxico para un lenguaje que reconozca solamente nombres de variables, que se definen como cadenas de letras y números.\n",
        "4.   Un analizador léxico para un lenguaje que reconozca solamente comentarios, que comienzan con el caracter '#' y se extienden hasta el final de la línea.\n"
      ],
      "metadata": {
        "id": "3qqOfV_TZTcM"
      }
    },
    {
      "cell_type": "code",
      "source": [
        "%%file uno.l\n",
        "\n",
        "%{\n",
        "using namespace std;\n",
        "%}\n",
        "\n",
        "%%\n",
        "[0-9]+                  cout << \"Número entero: \" << YYText() << endl;\n",
        "[+\\-*/^]+               cout << \"Operador matematico: \" << YYText() << endl;\n",
        "[ \\t\\n]                 /* Ignorar espacios, tabulaciones y saltos de línea */\n",
        ".                       cout << \"Carácter inválido\\n\";\n",
        "%%\n",
        "\n",
        "int yyFlexLexer::yywrap() { return 0; }\n",
        "\n",
        "int main() {\n",
        "    FlexLexer* lexer = new yyFlexLexer();\n",
        "    while (lexer->yylex() != 0)\n",
        "    ;\n",
        "    return 0;\n",
        "}\n"
      ],
      "metadata": {
        "colab": {
          "base_uri": "https://localhost:8080/"
        },
        "id": "SehZq_F0TWE0",
        "outputId": "e3b5ee15-d34e-4e20-d0c1-e72b75a0fda7"
      },
      "execution_count": null,
      "outputs": [
        {
          "output_type": "stream",
          "name": "stdout",
          "text": [
            "Overwriting uno.l\n"
          ]
        }
      ]
    },
    {
      "cell_type": "code",
      "source": [
        "!flex -+ uno.l"
      ],
      "metadata": {
        "id": "F4DL5xT2TfJR"
      },
      "execution_count": null,
      "outputs": []
    },
    {
      "cell_type": "code",
      "source": [
        "!g++ lex.yy.cc"
      ],
      "metadata": {
        "id": "hXBQd1DvTmwE"
      },
      "execution_count": null,
      "outputs": []
    },
    {
      "cell_type": "code",
      "source": [
        "!./a.out"
      ],
      "metadata": {
        "colab": {
          "base_uri": "https://localhost:8080/"
        },
        "id": "RntvUM_2T9-v",
        "outputId": "c6455648-50f9-4799-f91e-3649ae3cf35c"
      },
      "execution_count": null,
      "outputs": [
        {
          "output_type": "stream",
          "name": "stdout",
          "text": [
            "1\n",
            "Número entero: 1\n",
            "+\n",
            "Operador matematico: +\n",
            "^\n",
            "Operador matematico: ^\n",
            "-\n",
            "Operador matematico: -\n",
            "123413\n",
            "Número entero: 123413\n",
            "^C\n"
          ]
        }
      ]
    },
    {
      "cell_type": "code",
      "source": [
        "%%file analisis_lexico.l\n",
        "\n",
        "%{\n",
        "using namespace std;\n",
        "%}\n",
        "\n",
        "%%\n",
        "\"if\"                    cout << \"Palabra clave: \" << YYText() << endl;\n",
        "\"else\"                  cout << \"Palabra clave: \" << YYText() << endl;\n",
        "\"for\"                   cout << \"Palabra clave: \" << YYText() << endl;\n",
        "\"while\"                 cout << \"Palabra clave: \" << YYText() << endl;\n",
        "[[a-zA-Z0-9]*           cout << \"Palabra clave no encontrada\" << endl;\n",
        "[+\\-*/^]+               cout << \"Palabra clave no encontrada\" << endl;\n",
        "[ \\t\\n]                 /* Ignorar espacios, tabulaciones y saltos de línea */\n",
        ".                       cout << \"Carácter inválido\\n\";\n",
        "%%\n",
        "\n",
        "int yyFlexLexer::yywrap() { return 0; }\n",
        "\n",
        "int main() {\n",
        "    FlexLexer* lexer = new yyFlexLexer();\n",
        "    while (lexer->yylex() != 0)\n",
        "    ;\n",
        "    return 0;\n",
        "}\n"
      ],
      "metadata": {
        "colab": {
          "base_uri": "https://localhost:8080/"
        },
        "id": "cokpaWfKay3m",
        "outputId": "6a9d870c-8e4f-4d1b-829c-293ec41d2f22"
      },
      "execution_count": null,
      "outputs": [
        {
          "output_type": "stream",
          "name": "stdout",
          "text": [
            "Overwriting dos.l\n"
          ]
        }
      ]
    },
    {
      "cell_type": "code",
      "source": [
        "!flex -+ dos.l"
      ],
      "metadata": {
        "id": "fppS30DBb43C"
      },
      "execution_count": null,
      "outputs": []
    },
    {
      "cell_type": "code",
      "source": [
        "!g++ lex.yy.cc"
      ],
      "metadata": {
        "id": "zAS1GC0qb74N"
      },
      "execution_count": null,
      "outputs": []
    },
    {
      "cell_type": "code",
      "source": [
        "!./a.out"
      ],
      "metadata": {
        "colab": {
          "base_uri": "https://localhost:8080/"
        },
        "id": "pbli0t24cX_h",
        "outputId": "1668fc99-9c73-445a-e1cb-704beabda5ef"
      },
      "execution_count": null,
      "outputs": [
        {
          "output_type": "stream",
          "name": "stdout",
          "text": [
            "if\n",
            "Palabra clave: if\n",
            "else\n",
            "Palabra clave: else\n",
            "jasdas\n",
            "Palabra clave no encontrada\n",
            "9qw38\n",
            "Palabra clave no encontrada\n",
            "while\n",
            "Palabra clave: while\n",
            "for i in range(9)\n",
            "Palabra clave: for\n",
            "Palabra clave no encontrada\n",
            "Palabra clave no encontrada\n",
            "Palabra clave no encontrada\n",
            "Carácter inválido\n",
            "Palabra clave no encontrada\n",
            "Carácter inválido\n",
            "if i < 2: i = 0; else i= 2\n",
            "Palabra clave: if\n",
            "Palabra clave no encontrada\n",
            "Carácter inválido\n",
            "Palabra clave no encontrada\n",
            "Carácter inválido\n",
            "Palabra clave no encontrada\n",
            "Carácter inválido\n",
            "Palabra clave no encontrada\n",
            "Carácter inválido\n",
            "Palabra clave: else\n",
            "Palabra clave no encontrada\n",
            "Carácter inválido\n",
            "Palabra clave no encontrada\n",
            "^C\n"
          ]
        }
      ]
    },
    {
      "cell_type": "code",
      "source": [
        "%%file tres.l\n",
        "\n",
        "%{\n",
        "using namespace std;\n",
        "%}\n",
        "\n",
        "%%\n",
        "[a-zA-Z][a-zA-Z0-9]*    cout << \"Cadena encontrada: \" << YYText() << endl;\n",
        "[ \\t\\n]                 /* Ignorar espacios, tabulaciones y saltos de línea */\n",
        "%%\n",
        "\n",
        "int yyFlexLexer::yywrap() { return 0; }\n",
        "\n",
        "int main() {\n",
        "    FlexLexer* lexer = new yyFlexLexer();\n",
        "    while (lexer->yylex() != 0)\n",
        "    ;\n",
        "    return 0;\n",
        "}"
      ],
      "metadata": {
        "colab": {
          "base_uri": "https://localhost:8080/"
        },
        "id": "XEAqzoLEd2SQ",
        "outputId": "847782fd-b952-4611-ca8d-4c1b7f4e9d83"
      },
      "execution_count": null,
      "outputs": [
        {
          "output_type": "stream",
          "name": "stdout",
          "text": [
            "Writing tres.l\n"
          ]
        }
      ]
    },
    {
      "cell_type": "code",
      "source": [
        "!flex -+ tres.l"
      ],
      "metadata": {
        "id": "PymXMj-ne5ou"
      },
      "execution_count": null,
      "outputs": []
    },
    {
      "cell_type": "code",
      "source": [
        "!g++ lex.yy.cc"
      ],
      "metadata": {
        "id": "t2TMwd_3e_LB"
      },
      "execution_count": null,
      "outputs": []
    },
    {
      "cell_type": "code",
      "source": [
        "!./a.out"
      ],
      "metadata": {
        "colab": {
          "base_uri": "https://localhost:8080/"
        },
        "id": "jcoocrlhfCJd",
        "outputId": "3b262d9a-1bb0-4ec4-9862-49f293bd058e"
      },
      "execution_count": null,
      "outputs": [
        {
          "output_type": "stream",
          "name": "stdout",
          "text": [
            "assajasj\n",
            "Cadena encontrada: assajasj\n",
            "asdasd sadsa\n",
            "Cadena encontrada: asdasd\n",
            "Cadena encontrada: sadsa\n",
            "ksfsd0948\n",
            "Cadena encontrada: ksfsd0948\n",
            "983\n",
            "983_s313\n",
            "_Cadena encontrada: s313\n",
            "_da21\n",
            "_Cadena encontrada: da21\n",
            "___\n",
            "___^C\n"
          ]
        }
      ]
    },
    {
      "cell_type": "code",
      "source": [
        "%%file cuatro.l\n",
        "\n",
        "%{\n",
        "using namespace std;\n",
        "%}\n",
        "\n",
        "%%\n",
        "#.*                     cout << \"Cadena encontrada: \" << YYText() << endl;\n",
        "[ \\t\\n]                 /* Ignorar espacios, tabulaciones y saltos de línea */\n",
        "%%\n",
        "\n",
        "int yyFlexLexer::yywrap() { return 0; }\n",
        "\n",
        "int main() {\n",
        "    FlexLexer* lexer = new yyFlexLexer();\n",
        "    while (lexer->yylex() != 0)\n",
        "    ;\n",
        "    return 0;\n",
        "}"
      ],
      "metadata": {
        "colab": {
          "base_uri": "https://localhost:8080/"
        },
        "id": "k9f1aRkYfVCH",
        "outputId": "045defd5-72f2-41c1-bed7-0d453ba9b001"
      },
      "execution_count": null,
      "outputs": [
        {
          "output_type": "stream",
          "name": "stdout",
          "text": [
            "Writing cuatro.l\n"
          ]
        }
      ]
    },
    {
      "cell_type": "code",
      "source": [
        "!flex -+ cuatro.l"
      ],
      "metadata": {
        "id": "htfN5rsqgJHz"
      },
      "execution_count": null,
      "outputs": []
    },
    {
      "cell_type": "code",
      "source": [
        "!g++ lex.yy.cc"
      ],
      "metadata": {
        "id": "fACxgmqCgNio"
      },
      "execution_count": null,
      "outputs": []
    },
    {
      "cell_type": "code",
      "source": [
        "!./a.out"
      ],
      "metadata": {
        "colab": {
          "base_uri": "https://localhost:8080/"
        },
        "id": "cmuouV3egPOZ",
        "outputId": "c0f54136-2f70-48fb-e70f-d0d33cb22e7b"
      },
      "execution_count": null,
      "outputs": [
        {
          "output_type": "stream",
          "name": "stdout",
          "text": [
            "#hola\n",
            "Cadena encontrada: #hola\n",
            "hola\n",
            "hola#hola mundo\n",
            "Cadena encontrada: #hola mundo\n",
            "^C\n"
          ]
        }
      ]
    }
  ]
}