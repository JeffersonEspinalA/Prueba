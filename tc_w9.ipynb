{
  "cells": [
    {
      "cell_type": "markdown",
      "metadata": {
        "id": "view-in-github",
        "colab_type": "text"
      },
      "source": [
        "<a href=\"https://colab.research.google.com/github/JeffersonEspinalA/Prueba/blob/main/tc_w9.ipynb\" target=\"_parent\"><img src=\"https://colab.research.google.com/assets/colab-badge.svg\" alt=\"Open In Colab\"/></a>"
      ]
    },
    {
      "cell_type": "code",
      "execution_count": 1,
      "metadata": {
        "colab": {
          "base_uri": "https://localhost:8080/"
        },
        "id": "SIAmgSm6V5XD",
        "outputId": "69ddca09-e591-4a0e-c1ca-c0f9e4ee09b4"
      },
      "outputs": [
        {
          "output_type": "stream",
          "name": "stdout",
          "text": [
            "Reading package lists...\n",
            "Building dependency tree...\n",
            "Reading state information...\n",
            "The following additional packages will be installed:\n",
            "  binfmt-support libclang-cpp12 libffi-dev libpfm4 libz3-4 libz3-dev\n",
            "  llvm-12-dev llvm-12-linker-tools llvm-12-runtime llvm-12-tools\n",
            "  python3-pygments python3-yaml\n",
            "Suggested packages:\n",
            "  llvm-12-doc python-pygments-doc ttf-bitstream-vera\n",
            "The following NEW packages will be installed:\n",
            "  binfmt-support libclang-cpp12 libffi-dev libpfm4 libz3-4 libz3-dev llvm-12\n",
            "  llvm-12-dev llvm-12-linker-tools llvm-12-runtime llvm-12-tools\n",
            "  python3-pygments python3-yaml\n",
            "0 upgraded, 13 newly installed, 0 to remove and 38 not upgraded.\n",
            "Need to get 58.2 MB of archives.\n",
            "After this operation, 359 MB of additional disk space will be used.\n",
            "Get:1 http://archive.ubuntu.com/ubuntu focal-updates/main amd64 python3-yaml amd64 5.3.1-1ubuntu0.1 [136 kB]\n",
            "Get:2 http://archive.ubuntu.com/ubuntu focal/universe amd64 binfmt-support amd64 2.2.0-2 [58.2 kB]\n",
            "Get:3 http://archive.ubuntu.com/ubuntu focal-updates/universe amd64 libclang-cpp12 amd64 1:12.0.0-3ubuntu1~20.04.5 [9,664 kB]\n",
            "Get:4 http://archive.ubuntu.com/ubuntu focal-updates/universe amd64 llvm-12-runtime amd64 1:12.0.0-3ubuntu1~20.04.5 [178 kB]\n",
            "Get:5 http://archive.ubuntu.com/ubuntu focal-updates/universe amd64 llvm-12-linker-tools amd64 1:12.0.0-3ubuntu1~20.04.5 [1,146 kB]\n",
            "Get:6 http://archive.ubuntu.com/ubuntu focal/main amd64 libpfm4 amd64 4.10.1+git20-g7700f49-2 [266 kB]\n",
            "Get:7 http://archive.ubuntu.com/ubuntu focal-updates/universe amd64 llvm-12 amd64 1:12.0.0-3ubuntu1~20.04.5 [10.4 MB]\n",
            "Get:8 http://archive.ubuntu.com/ubuntu focal/main amd64 libffi-dev amd64 3.3-4 [57.0 kB]\n",
            "Get:9 http://archive.ubuntu.com/ubuntu focal-updates/main amd64 python3-pygments all 2.3.1+dfsg-1ubuntu2.2 [579 kB]\n",
            "Get:10 http://archive.ubuntu.com/ubuntu focal-updates/universe amd64 llvm-12-tools amd64 1:12.0.0-3ubuntu1~20.04.5 [348 kB]\n",
            "Get:11 http://archive.ubuntu.com/ubuntu focal/universe amd64 libz3-4 amd64 4.8.7-4build1 [6,792 kB]\n",
            "Get:12 http://archive.ubuntu.com/ubuntu focal/universe amd64 libz3-dev amd64 4.8.7-4build1 [67.5 kB]\n",
            "Get:13 http://archive.ubuntu.com/ubuntu focal-updates/universe amd64 llvm-12-dev amd64 1:12.0.0-3ubuntu1~20.04.5 [28.5 MB]\n",
            "Fetched 58.2 MB in 4s (15.6 MB/s)\n",
            "Selecting previously unselected package python3-yaml.\r\n",
            "(Reading database ... \r(Reading database ... 5%\r(Reading database ... 10%\r(Reading database ... 15%\r(Reading database ... 20%\r(Reading database ... 25%\r(Reading database ... 30%\r(Reading database ... 35%\r(Reading database ... 40%\r(Reading database ... 45%\r(Reading database ... 50%\r(Reading database ... 55%\r(Reading database ... 60%\r(Reading database ... 65%\r(Reading database ... 70%\r(Reading database ... 75%\r(Reading database ... 80%\r(Reading database ... 85%\r(Reading database ... 90%\r(Reading database ... 95%\r(Reading database ... 100%\r(Reading database ... 122541 files and directories currently installed.)\r\n",
            "Preparing to unpack .../00-python3-yaml_5.3.1-1ubuntu0.1_amd64.deb ...\r\n",
            "Unpacking python3-yaml (5.3.1-1ubuntu0.1) ...\r\n",
            "Selecting previously unselected package binfmt-support.\r\n",
            "Preparing to unpack .../01-binfmt-support_2.2.0-2_amd64.deb ...\r\n",
            "Unpacking binfmt-support (2.2.0-2) ...\r\n",
            "Selecting previously unselected package libclang-cpp12.\r\n",
            "Preparing to unpack .../02-libclang-cpp12_1%3a12.0.0-3ubuntu1~20.04.5_amd64.deb ...\r\n",
            "Unpacking libclang-cpp12 (1:12.0.0-3ubuntu1~20.04.5) ...\r\n",
            "Selecting previously unselected package llvm-12-runtime.\r\n",
            "Preparing to unpack .../03-llvm-12-runtime_1%3a12.0.0-3ubuntu1~20.04.5_amd64.deb ...\r\n",
            "Unpacking llvm-12-runtime (1:12.0.0-3ubuntu1~20.04.5) ...\r\n",
            "Selecting previously unselected package llvm-12-linker-tools.\r\n",
            "Preparing to unpack .../04-llvm-12-linker-tools_1%3a12.0.0-3ubuntu1~20.04.5_amd64.deb ...\r\n",
            "Unpacking llvm-12-linker-tools (1:12.0.0-3ubuntu1~20.04.5) ...\r\n",
            "Selecting previously unselected package libpfm4:amd64.\r\n",
            "Preparing to unpack .../05-libpfm4_4.10.1+git20-g7700f49-2_amd64.deb ...\r\n",
            "Unpacking libpfm4:amd64 (4.10.1+git20-g7700f49-2) ...\r\n",
            "Selecting previously unselected package llvm-12.\r\n",
            "Preparing to unpack .../06-llvm-12_1%3a12.0.0-3ubuntu1~20.04.5_amd64.deb ...\r\n",
            "Unpacking llvm-12 (1:12.0.0-3ubuntu1~20.04.5) ...\r\n",
            "Selecting previously unselected package libffi-dev:amd64.\r\n",
            "Preparing to unpack .../07-libffi-dev_3.3-4_amd64.deb ...\r\n",
            "Unpacking libffi-dev:amd64 (3.3-4) ...\r\n",
            "Selecting previously unselected package python3-pygments.\r\n",
            "Preparing to unpack .../08-python3-pygments_2.3.1+dfsg-1ubuntu2.2_all.deb ...\r\n",
            "Unpacking python3-pygments (2.3.1+dfsg-1ubuntu2.2) ...\r\n",
            "Selecting previously unselected package llvm-12-tools.\r\n",
            "Preparing to unpack .../09-llvm-12-tools_1%3a12.0.0-3ubuntu1~20.04.5_amd64.deb ...\r\n",
            "Unpacking llvm-12-tools (1:12.0.0-3ubuntu1~20.04.5) ...\r\n",
            "Selecting previously unselected package libz3-4:amd64.\r\n",
            "Preparing to unpack .../10-libz3-4_4.8.7-4build1_amd64.deb ...\r\n",
            "Unpacking libz3-4:amd64 (4.8.7-4build1) ...\r\n",
            "Selecting previously unselected package libz3-dev:amd64.\r\n",
            "Preparing to unpack .../11-libz3-dev_4.8.7-4build1_amd64.deb ...\r\n",
            "Unpacking libz3-dev:amd64 (4.8.7-4build1) ...\r\n",
            "Selecting previously unselected package llvm-12-dev.\r\n",
            "Preparing to unpack .../12-llvm-12-dev_1%3a12.0.0-3ubuntu1~20.04.5_amd64.deb ...\r\n",
            "Unpacking llvm-12-dev (1:12.0.0-3ubuntu1~20.04.5) ...\r\n",
            "Setting up python3-yaml (5.3.1-1ubuntu0.1) ...\r\n",
            "Setting up llvm-12-linker-tools (1:12.0.0-3ubuntu1~20.04.5) ...\r\n",
            "Setting up libffi-dev:amd64 (3.3-4) ...\r\n",
            "Setting up python3-pygments (2.3.1+dfsg-1ubuntu2.2) ...\r\n",
            "Setting up libz3-4:amd64 (4.8.7-4build1) ...\r\n",
            "Setting up llvm-12-runtime (1:12.0.0-3ubuntu1~20.04.5) ...\r\n",
            "Setting up libpfm4:amd64 (4.10.1+git20-g7700f49-2) ...\r\n",
            "Setting up libclang-cpp12 (1:12.0.0-3ubuntu1~20.04.5) ...\r\n",
            "Setting up binfmt-support (2.2.0-2) ...\r\n",
            "Created symlink /etc/systemd/system/multi-user.target.wants/binfmt-support.service → /lib/systemd/system/binfmt-support.service.\r\n",
            "invoke-rc.d: could not determine current runlevel\r\n",
            "invoke-rc.d: policy-rc.d denied execution of start.\r\n",
            "Setting up llvm-12-tools (1:12.0.0-3ubuntu1~20.04.5) ...\r\n",
            "Setting up libz3-dev:amd64 (4.8.7-4build1) ...\r\n",
            "Setting up llvm-12 (1:12.0.0-3ubuntu1~20.04.5) ...\r\n",
            "Setting up llvm-12-dev (1:12.0.0-3ubuntu1~20.04.5) ...\r\n",
            "Processing triggers for systemd (245.4-4ubuntu3.21) ...\r\n",
            "Processing triggers for man-db (2.9.1-1) ...\r\n",
            "Processing triggers for libc-bin (2.31-0ubuntu9.9) ...\r\n",
            "Reading package lists...\n",
            "Building dependency tree...\n",
            "Reading state information...\n",
            "The following additional packages will be installed:\n",
            "  libclang-common-12-dev libclang1-12 libomp-12-dev libomp5-12\n",
            "Suggested packages:\n",
            "  clang-12-doc libomp-12-doc\n",
            "The following NEW packages will be installed:\n",
            "  clang-12 libclang-common-12-dev libclang1-12 libomp-12-dev libomp5-12\n",
            "0 upgraded, 5 newly installed, 0 to remove and 38 not upgraded.\n",
            "Need to get 11.3 MB of archives.\n",
            "After this operation, 94.4 MB of additional disk space will be used.\n",
            "Get:1 http://archive.ubuntu.com/ubuntu focal-updates/universe amd64 libclang-common-12-dev amd64 1:12.0.0-3ubuntu1~20.04.5 [5,280 kB]\n",
            "Get:2 http://archive.ubuntu.com/ubuntu focal-updates/universe amd64 libclang1-12 amd64 1:12.0.0-3ubuntu1~20.04.5 [5,523 kB]\n",
            "Get:3 http://archive.ubuntu.com/ubuntu focal-updates/universe amd64 clang-12 amd64 1:12.0.0-3ubuntu1~20.04.5 [68.7 kB]\n",
            "Get:4 http://archive.ubuntu.com/ubuntu focal-updates/universe amd64 libomp5-12 amd64 1:12.0.0-3ubuntu1~20.04.5 [347 kB]\n",
            "Get:5 http://archive.ubuntu.com/ubuntu focal-updates/universe amd64 libomp-12-dev amd64 1:12.0.0-3ubuntu1~20.04.5 [34.6 kB]\n",
            "Fetched 11.3 MB in 0s (22.7 MB/s)\n",
            "Selecting previously unselected package libclang-common-12-dev.\r\n",
            "(Reading database ... \r(Reading database ... 5%\r(Reading database ... 10%\r(Reading database ... 15%\r(Reading database ... 20%\r(Reading database ... 25%\r(Reading database ... 30%\r(Reading database ... 35%\r(Reading database ... 40%\r(Reading database ... 45%\r(Reading database ... 50%\r(Reading database ... 55%\r(Reading database ... 60%\r(Reading database ... 65%\r(Reading database ... 70%\r(Reading database ... 75%\r(Reading database ... 80%\r(Reading database ... 85%\r(Reading database ... 90%\r(Reading database ... 95%\r(Reading database ... 100%\r(Reading database ... 125396 files and directories currently installed.)\r\n",
            "Preparing to unpack .../libclang-common-12-dev_1%3a12.0.0-3ubuntu1~20.04.5_amd64.deb ...\r\n",
            "Unpacking libclang-common-12-dev (1:12.0.0-3ubuntu1~20.04.5) ...\r\n",
            "Selecting previously unselected package libclang1-12.\r\n",
            "Preparing to unpack .../libclang1-12_1%3a12.0.0-3ubuntu1~20.04.5_amd64.deb ...\r\n",
            "Unpacking libclang1-12 (1:12.0.0-3ubuntu1~20.04.5) ...\r\n",
            "Selecting previously unselected package clang-12.\r\n",
            "Preparing to unpack .../clang-12_1%3a12.0.0-3ubuntu1~20.04.5_amd64.deb ...\r\n",
            "Unpacking clang-12 (1:12.0.0-3ubuntu1~20.04.5) ...\r\n",
            "Selecting previously unselected package libomp5-12:amd64.\r\n",
            "Preparing to unpack .../libomp5-12_1%3a12.0.0-3ubuntu1~20.04.5_amd64.deb ...\r\n",
            "Unpacking libomp5-12:amd64 (1:12.0.0-3ubuntu1~20.04.5) ...\r\n",
            "Selecting previously unselected package libomp-12-dev.\r\n",
            "Preparing to unpack .../libomp-12-dev_1%3a12.0.0-3ubuntu1~20.04.5_amd64.deb ...\r\n",
            "Unpacking libomp-12-dev (1:12.0.0-3ubuntu1~20.04.5) ...\r\n",
            "Setting up libclang1-12 (1:12.0.0-3ubuntu1~20.04.5) ...\r\n",
            "Setting up libclang-common-12-dev (1:12.0.0-3ubuntu1~20.04.5) ...\r\n",
            "Setting up libomp5-12:amd64 (1:12.0.0-3ubuntu1~20.04.5) ...\r\n",
            "Setting up clang-12 (1:12.0.0-3ubuntu1~20.04.5) ...\r\n",
            "Setting up libomp-12-dev (1:12.0.0-3ubuntu1~20.04.5) ...\r\n",
            "Processing triggers for man-db (2.9.1-1) ...\r\n",
            "Processing triggers for libc-bin (2.31-0ubuntu9.9) ...\r\n"
          ]
        },
        {
          "output_type": "stream",
          "name": "stderr",
          "text": [
            "debconf: unable to initialize frontend: Dialog\n",
            "debconf: (No usable dialog-like program is installed, so the dialog based frontend cannot be used. at /usr/share/perl5/Debconf/FrontEnd/Dialog.pm line 76, <> line 13.)\n",
            "debconf: falling back to frontend: Readline\n",
            "debconf: unable to initialize frontend: Readline\n",
            "debconf: (This frontend requires a controlling tty.)\n",
            "debconf: falling back to frontend: Teletype\n",
            "dpkg-preconfigure: unable to re-open stdin: \n",
            "debconf: unable to initialize frontend: Dialog\n",
            "debconf: (No usable dialog-like program is installed, so the dialog based frontend cannot be used. at /usr/share/perl5/Debconf/FrontEnd/Dialog.pm line 76, <> line 5.)\n",
            "debconf: falling back to frontend: Readline\n",
            "debconf: unable to initialize frontend: Readline\n",
            "debconf: (This frontend requires a controlling tty.)\n",
            "debconf: falling back to frontend: Teletype\n",
            "dpkg-preconfigure: unable to re-open stdin: \n"
          ]
        }
      ],
      "source": [
        "%%bash\n",
        "sudo apt-get install llvm-12\n",
        "sudo apt-get install clang-12\n",
        "ln -s /usr/lib/llvm-12/bin/opt /usr/bin/opt\n",
        "ln -s /usr/lib/llvm-12/bin/llc /usr/bin/llc"
      ]
    },
    {
      "cell_type": "markdown",
      "metadata": {
        "id": "E107-6CJWflA"
      },
      "source": [
        "##Ejercicio 1"
      ]
    },
    {
      "cell_type": "code",
      "execution_count": 2,
      "metadata": {
        "colab": {
          "base_uri": "https://localhost:8080/"
        },
        "id": "TOGbtG3ZWSYq",
        "outputId": "b3a1cc30-52e3-498e-8111-f28e449bf79a"
      },
      "outputs": [
        {
          "output_type": "stream",
          "name": "stdout",
          "text": [
            "Writing testclang.cpp\n"
          ]
        }
      ],
      "source": [
        "%%file testclang.cpp\n",
        "#include <iostream>\n",
        "\n",
        "using namespace std;\n",
        "\n",
        "int main() {\n",
        "\tcout << \"Hola, Mundo!\\n\";\n",
        "\treturn 0;\n",
        "}"
      ]
    },
    {
      "cell_type": "code",
      "execution_count": 3,
      "metadata": {
        "id": "7cgmVYteWoJn"
      },
      "outputs": [],
      "source": [
        "!clang++ testclang.cpp"
      ]
    },
    {
      "cell_type": "code",
      "execution_count": 4,
      "metadata": {
        "colab": {
          "base_uri": "https://localhost:8080/"
        },
        "id": "h3J7-Mb8Wszz",
        "outputId": "3b1b824b-8968-4a66-ece7-80589ede5858"
      },
      "outputs": [
        {
          "output_type": "stream",
          "name": "stdout",
          "text": [
            "Hola, Mundo!\n"
          ]
        }
      ],
      "source": [
        "!./a.out"
      ]
    },
    {
      "cell_type": "code",
      "execution_count": 5,
      "metadata": {
        "id": "bq1BQptGXLWn"
      },
      "outputs": [],
      "source": [
        "!clang++ testclang.cpp -o clangexe"
      ]
    },
    {
      "cell_type": "code",
      "execution_count": 6,
      "metadata": {
        "id": "NVyRPA-2XY6R"
      },
      "outputs": [],
      "source": [
        "!g++ testclang.cpp -o gccexe"
      ]
    },
    {
      "cell_type": "code",
      "execution_count": 7,
      "metadata": {
        "colab": {
          "base_uri": "https://localhost:8080/"
        },
        "id": "UFuMfhfbXjkz",
        "outputId": "81424278-6dbe-4705-ce6d-e7edf830734c"
      },
      "outputs": [
        {
          "output_type": "stream",
          "name": "stdout",
          "text": [
            "total 68\n",
            "-rwxr-xr-x 1 root root 16880 Jun  8 22:38 a.out\n",
            "-rwxr-xr-x 1 root root 16880 Jun  8 22:38 clangexe\n",
            "-rwxr-xr-x 1 root root 17176 Jun  8 22:38 gccexe\n",
            "drwxr-xr-x 1 root root  4096 Jun  7 17:44 sample_data\n",
            "-rw-r--r-- 1 root root    96 Jun  8 22:37 testclang.cpp\n"
          ]
        }
      ],
      "source": [
        "!ls -l"
      ]
    },
    {
      "cell_type": "code",
      "execution_count": 8,
      "metadata": {
        "id": "phYltJoVXtBV"
      },
      "outputs": [],
      "source": [
        "!clang++ -S -mllvm --x86-asm-syntax=intel testclang.cpp"
      ]
    },
    {
      "cell_type": "code",
      "execution_count": 9,
      "metadata": {
        "colab": {
          "base_uri": "https://localhost:8080/"
        },
        "id": "TLIsRk77X2c0",
        "outputId": "0d311db2-d94e-4d65-9589-1c0475d87069"
      },
      "outputs": [
        {
          "output_type": "stream",
          "name": "stdout",
          "text": [
            "total 72\n",
            "-rwxr-xr-x 1 root root 16880 Jun  8 22:38 a.out\n",
            "-rwxr-xr-x 1 root root 16880 Jun  8 22:38 clangexe\n",
            "-rwxr-xr-x 1 root root 17176 Jun  8 22:38 gccexe\n",
            "drwxr-xr-x 1 root root  4096 Jun  7 17:44 sample_data\n",
            "-rw-r--r-- 1 root root    96 Jun  8 22:37 testclang.cpp\n",
            "-rw-r--r-- 1 root root  2721 Jun  8 22:38 testclang.s\n"
          ]
        }
      ],
      "source": [
        "!ls -l"
      ]
    },
    {
      "cell_type": "code",
      "execution_count": 10,
      "metadata": {
        "id": "N1xcG8uDaks4"
      },
      "outputs": [],
      "source": [
        "!g++ -S -masm=intel -Og -fverbose-asm testclang.cpp"
      ]
    },
    {
      "cell_type": "code",
      "execution_count": 11,
      "metadata": {
        "id": "KXPrhDZqa2gx"
      },
      "outputs": [],
      "source": [
        "!mv testclang.s testclangcc.s"
      ]
    },
    {
      "cell_type": "code",
      "execution_count": 12,
      "metadata": {
        "id": "lhrvV4vkbAzv"
      },
      "outputs": [],
      "source": [
        "!clang++ -S -mllvm --x86-asm-syntax=intel testclang.cpp"
      ]
    },
    {
      "cell_type": "code",
      "execution_count": 13,
      "metadata": {
        "colab": {
          "base_uri": "https://localhost:8080/"
        },
        "id": "ORd-d49mZHpA",
        "outputId": "61dc3fbe-8607-40a7-bb87-31aaa8550e97"
      },
      "outputs": [
        {
          "output_type": "stream",
          "name": "stdout",
          "text": [
            "Writing test.c\n"
          ]
        }
      ],
      "source": [
        "%%file test.c\n",
        "int main(void) {\n",
        "\treturn 0;\n",
        "}"
      ]
    },
    {
      "cell_type": "markdown",
      "metadata": {
        "id": "O5_vVLqHdisa"
      },
      "source": [
        "eliminar los archivos generados y luego compilar esto"
      ]
    },
    {
      "cell_type": "code",
      "execution_count": 14,
      "metadata": {
        "id": "FhzwzvaCbo-R"
      },
      "outputs": [],
      "source": [
        "!clang -S -mllvm --x86-asm-syntax=intel test.c"
      ]
    },
    {
      "cell_type": "code",
      "execution_count": 15,
      "metadata": {
        "id": "snBIuPnjdB8A"
      },
      "outputs": [],
      "source": [
        "!mv test.s testclang.s"
      ]
    },
    {
      "cell_type": "code",
      "execution_count": 16,
      "metadata": {
        "id": "-A-aNYJ8b-fo"
      },
      "outputs": [],
      "source": [
        "!gcc -S -masm=intel -Og test.c"
      ]
    },
    {
      "cell_type": "code",
      "execution_count": 17,
      "metadata": {
        "id": "AGGJT36fcZBk"
      },
      "outputs": [],
      "source": [
        "!mv test.s testgcc.s"
      ]
    },
    {
      "cell_type": "code",
      "execution_count": 18,
      "metadata": {
        "id": "NzUZY7NcdqdL"
      },
      "outputs": [],
      "source": [
        "!clang -o clangexe test.c"
      ]
    },
    {
      "cell_type": "code",
      "execution_count": 19,
      "metadata": {
        "id": "YiDIxmLmdtg9"
      },
      "outputs": [],
      "source": [
        "!gcc -o gccexe test.c"
      ]
    },
    {
      "cell_type": "code",
      "execution_count": 20,
      "metadata": {
        "colab": {
          "base_uri": "https://localhost:8080/"
        },
        "id": "E2m0oOLQdxIz",
        "outputId": "f9895532-fa79-4b19-d1e3-97f710ec145e"
      },
      "outputs": [
        {
          "output_type": "stream",
          "name": "stdout",
          "text": [
            "total 56\n",
            "-rwxr-xr-x 1 root root 16216 Jun  8 22:39 clangexe\n",
            "-rwxr-xr-x 1 root root 16464 Jun  8 22:39 gccexe\n",
            "drwxr-xr-x 1 root root  4096 Jun  7 17:44 sample_data\n",
            "-rw-r--r-- 1 root root    30 Jun  8 22:38 test.c\n",
            "-rw-r--r-- 1 root root    96 Jun  8 22:37 testclang.cpp\n",
            "-rw-r--r-- 1 root root   598 Jun  8 22:39 testclang.s\n",
            "-rw-r--r-- 1 root root   454 Jun  8 22:39 testgcc.s\n"
          ]
        }
      ],
      "source": [
        "!ls -l"
      ]
    },
    {
      "cell_type": "markdown",
      "metadata": {
        "id": "RU5zNN6BeMB8"
      },
      "source": [
        "otra vez eliminar los archivos generados"
      ]
    },
    {
      "cell_type": "code",
      "source": [
        "!rm *s"
      ],
      "metadata": {
        "id": "H6_6GrobLY6R"
      },
      "execution_count": 23,
      "outputs": []
    },
    {
      "cell_type": "code",
      "source": [
        "!rm *exe"
      ],
      "metadata": {
        "id": "JJ-N_rWpLfO_"
      },
      "execution_count": 24,
      "outputs": []
    },
    {
      "cell_type": "code",
      "execution_count": 21,
      "metadata": {
        "colab": {
          "base_uri": "https://localhost:8080/"
        },
        "id": "882iGzoQeRlP",
        "outputId": "19794897-4f93-4857-8754-4f3d3f06f002"
      },
      "outputs": [
        {
          "output_type": "stream",
          "name": "stdout",
          "text": [
            "Writing test2.c\n"
          ]
        }
      ],
      "source": [
        "%%file test2.c\n",
        "void prefix_sum(int* src, int* dst, int N) {\n",
        "\tif (0 < N) {\n",
        "\t\tint i = 0;\n",
        "\t\tdo {\n",
        "\t\t\tint tmp = 0;\n",
        "\t\t\tint j = 0;\n",
        "\t\t\tif (j < i) {\n",
        "\t\t\t\tdo {\n",
        "\t\t\t\t\ttmp += src[j];\n",
        "\t\t\t\t\tj++;\n",
        "\t\t\t\t} while (j < i);\n",
        "\t\t\t\tdst[i] = tmp;\n",
        "\t\t\t}\n",
        "\t\t\ti++;\n",
        "\t\t} while (i < N);\n",
        "\t}\n",
        "}"
      ]
    },
    {
      "cell_type": "code",
      "source": [
        "!clang-12 -S test2.c -o test2.ll"
      ],
      "metadata": {
        "id": "7RnxuH0FLkGm"
      },
      "execution_count": 25,
      "outputs": []
    },
    {
      "cell_type": "code",
      "source": [
        "!clang-12 -S test.c -o test.ll"
      ],
      "metadata": {
        "id": "AfLwyJyzMyBo"
      },
      "execution_count": 26,
      "outputs": []
    },
    {
      "cell_type": "code",
      "source": [
        "!clang-12 -S -emit-llvm test2.c -o test2_.ll"
      ],
      "metadata": {
        "id": "4ex0BXPQNYUC"
      },
      "execution_count": 27,
      "outputs": []
    },
    {
      "cell_type": "code",
      "source": [
        "!clang-12 -S -emit-llvm test.c -o test_ll"
      ],
      "metadata": {
        "id": "niT0OIFqN8wq"
      },
      "execution_count": 28,
      "outputs": []
    },
    {
      "cell_type": "code",
      "source": [
        "!ls -l"
      ],
      "metadata": {
        "colab": {
          "base_uri": "https://localhost:8080/"
        },
        "id": "fBvLhB9lO5kw",
        "outputId": "1ae981dc-9cde-40a1-d384-504d52a466df"
      },
      "execution_count": 30,
      "outputs": [
        {
          "output_type": "stream",
          "name": "stdout",
          "text": [
            "total 32\n",
            "drwxr-xr-x 1 root root 4096 Jun  7 17:44 sample_data\n",
            "-rw-r--r-- 1 root root  240 Jun  8 22:41 test2.c\n",
            "-rw-r--r-- 1 root root 1984 Jun  8 22:48 test2.ll\n",
            "-rw-r--r-- 1 root root 3370 Jun  8 22:53 test2_.ll\n",
            "-rw-r--r-- 1 root root   30 Jun  8 22:38 test.c\n",
            "-rw-r--r-- 1 root root   96 Jun  8 22:37 testclang.cpp\n",
            "-rw-r--r-- 1 root root  601 Jun  8 22:50 test.ll\n",
            "-rw-r--r-- 1 root root  961 Jun  8 22:54 test_ll\n"
          ]
        }
      ]
    },
    {
      "cell_type": "code",
      "source": [
        "!opt -dot-cfg test2_.ll -disable-output -enable-new-pm=0"
      ],
      "metadata": {
        "colab": {
          "base_uri": "https://localhost:8080/"
        },
        "id": "_ZBMsbRJPK9B",
        "outputId": "4babac08-f0af-4e7b-e213-993c3f1bd503"
      },
      "execution_count": 32,
      "outputs": [
        {
          "output_type": "stream",
          "name": "stdout",
          "text": [
            "Writing '.prefix_sum.dot'...\n"
          ]
        }
      ]
    },
    {
      "cell_type": "code",
      "source": [
        "!mv .prefix_sum.dot prefix_sum.dot"
      ],
      "metadata": {
        "id": "0eL5LheAQdsI"
      },
      "execution_count": 34,
      "outputs": []
    }
  ],
  "metadata": {
    "colab": {
      "provenance": [],
      "authorship_tag": "ABX9TyMMR0ekgl5e1fdYTHUWykgy",
      "include_colab_link": true
    },
    "kernelspec": {
      "display_name": "Python 3",
      "name": "python3"
    },
    "language_info": {
      "name": "python"
    }
  },
  "nbformat": 4,
  "nbformat_minor": 0
}