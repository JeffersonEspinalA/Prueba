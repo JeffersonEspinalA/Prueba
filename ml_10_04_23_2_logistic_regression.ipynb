{
  "nbformat": 4,
  "nbformat_minor": 0,
  "metadata": {
    "colab": {
      "provenance": [],
      "authorship_tag": "ABX9TyPosRUx00TjhpSXQkqZYNn7",
      "include_colab_link": true
    },
    "kernelspec": {
      "name": "python3",
      "display_name": "Python 3"
    },
    "language_info": {
      "name": "python"
    }
  },
  "cells": [
    {
      "cell_type": "markdown",
      "metadata": {
        "id": "view-in-github",
        "colab_type": "text"
      },
      "source": [
        "<a href=\"https://colab.research.google.com/github/JeffersonEspinalA/Prueba/blob/main/ml_10_04_23_2_logistic_regression.ipynb\" target=\"_parent\"><img src=\"https://colab.research.google.com/assets/colab-badge.svg\" alt=\"Open In Colab\"/></a>"
      ]
    },
    {
      "cell_type": "markdown",
      "source": [
        "Logistic Regression"
      ],
      "metadata": {
        "id": "V8chJvXXbebU"
      }
    },
    {
      "cell_type": "code",
      "execution_count": 1,
      "metadata": {
        "id": "1Bc2r-spajEY"
      },
      "outputs": [],
      "source": [
        "from sklearn.datasets import load_iris\n",
        "from sklearn.model_selection import train_test_split\n",
        "from sklearn.linear_model import LogisticRegression"
      ]
    },
    {
      "cell_type": "code",
      "source": [
        "iris = load_iris()\n",
        "\n",
        "X = iris.data\n",
        "y = iris.target\n",
        "\n",
        "X_train, X_test, y_train, y_test = train_test_split(X, y, test_size=0.4, random_state=0)"
      ],
      "metadata": {
        "id": "Am5gbfi9a2tY"
      },
      "execution_count": 2,
      "outputs": []
    },
    {
      "cell_type": "code",
      "source": [
        "clf = LogisticRegression(random_state=0).fit(X_train, y_train)\n",
        "y_hat = clf.predict(X_test)\n",
        "print(y_hat)\n",
        "print(y_test == y_hat)"
      ],
      "metadata": {
        "colab": {
          "base_uri": "https://localhost:8080/"
        },
        "id": "Xd5z3VQObKUp",
        "outputId": "402fc49b-be36-41de-e5eb-9dfb4cb29454"
      },
      "execution_count": 6,
      "outputs": [
        {
          "output_type": "stream",
          "name": "stdout",
          "text": [
            "[2 1 0 2 0 2 0 1 1 1 2 1 1 1 1 0 1 1 0 0 2 1 0 0 1 0 0 1 1 0 2 1 0 2 2 1 0\n",
            " 2 1 1 2 0 2 0 0 1 2 2 1 2 1 2 1 1 2 1 1 2 1 2]\n",
            "[ True  True  True  True  True  True  True  True  True  True  True  True\n",
            "  True  True  True  True  True  True  True  True  True  True  True  True\n",
            " False  True  True  True  True  True  True  True  True  True  True  True\n",
            "  True False  True  True  True  True  True  True  True  True  True  True\n",
            " False  True  True  True  True  True  True False False  True  True  True]\n"
          ]
        }
      ]
    },
    {
      "cell_type": "code",
      "source": [
        "clf.predict_proba(X_test)"
      ],
      "metadata": {
        "colab": {
          "base_uri": "https://localhost:8080/"
        },
        "id": "Bdqk8nZAbTlV",
        "outputId": "9f8f6577-cae5-467c-84ff-304bdf546a3e"
      },
      "execution_count": 4,
      "outputs": [
        {
          "output_type": "execute_result",
          "data": {
            "text/plain": [
              "array([[3.31268622e-04, 1.22812782e-01, 8.76855949e-01],\n",
              "       [1.49073655e-02, 9.68438212e-01, 1.66544225e-02],\n",
              "       [9.87117165e-01, 1.28825421e-02, 2.92956826e-07],\n",
              "       [3.90825442e-06, 4.07650401e-02, 9.59231052e-01],\n",
              "       [9.70874163e-01, 2.91252303e-02, 6.06746465e-07],\n",
              "       [6.11405883e-06, 1.15477255e-02, 9.88446160e-01],\n",
              "       [9.82263653e-01, 1.77360426e-02, 3.04444891e-07],\n",
              "       [4.18438946e-03, 7.27172728e-01, 2.68642882e-01],\n",
              "       [2.31528229e-03, 7.61349534e-01, 2.36335183e-01],\n",
              "       [2.61148377e-02, 9.31808632e-01, 4.20765305e-02],\n",
              "       [2.53911902e-04, 3.18879994e-01, 6.80866094e-01],\n",
              "       [9.79354747e-03, 7.84459210e-01, 2.05747243e-01],\n",
              "       [5.77051317e-03, 8.37816949e-01, 1.56412538e-01],\n",
              "       [4.45378311e-03, 7.90211050e-01, 2.05335167e-01],\n",
              "       [5.61604135e-03, 7.61348215e-01, 2.33035744e-01],\n",
              "       [9.83304175e-01, 1.66955727e-02, 2.52473549e-07],\n",
              "       [9.29207750e-03, 7.96124175e-01, 1.94583747e-01],\n",
              "       [1.42542642e-02, 8.99854691e-01, 8.58910450e-02],\n",
              "       [9.65387482e-01, 3.46119197e-02, 5.97992995e-07],\n",
              "       [9.84928764e-01, 1.50708710e-02, 3.65361462e-07],\n",
              "       [1.81528465e-03, 3.38846858e-01, 6.59337857e-01],\n",
              "       [1.39773476e-02, 7.68063970e-01, 2.17958682e-01],\n",
              "       [9.45100524e-01, 5.48964174e-02, 3.05866664e-06],\n",
              "       [9.71979069e-01, 2.80205264e-02, 4.04232275e-07],\n",
              "       [2.32678495e-03, 5.36039007e-01, 4.61634208e-01],\n",
              "       [9.93953604e-01, 6.04634794e-03, 4.79184997e-08],\n",
              "       [9.55242741e-01, 4.47527673e-02, 4.49166573e-06],\n",
              "       [1.43451805e-02, 9.00913635e-01, 8.47411848e-02],\n",
              "       [1.38639834e-01, 8.57530201e-01, 3.82996500e-03],\n",
              "       [9.62403859e-01, 3.75946048e-02, 1.53602462e-06],\n",
              "       [2.16580831e-04, 1.66921606e-01, 8.32861814e-01],\n",
              "       [1.61632566e-02, 7.58264002e-01, 2.25572741e-01],\n",
              "       [9.70005774e-01, 2.99935964e-02, 6.29722581e-07],\n",
              "       [2.19836568e-03, 4.44675503e-01, 5.53126131e-01],\n",
              "       [4.61074432e-05, 7.20570818e-02, 9.27896811e-01],\n",
              "       [5.38320310e-02, 8.99320124e-01, 4.68478454e-02],\n",
              "       [9.53709860e-01, 4.62881130e-02, 2.02668434e-06],\n",
              "       [1.21504133e-03, 4.73001245e-01, 5.25783714e-01],\n",
              "       [2.29200343e-02, 8.63930883e-01, 1.13149083e-01],\n",
              "       [2.66549737e-02, 9.40560619e-01, 3.27844073e-02],\n",
              "       [8.17920205e-05, 1.07430158e-01, 8.92488050e-01],\n",
              "       [9.80111054e-01, 1.98886967e-02, 2.49432714e-07],\n",
              "       [2.74891990e-04, 1.60877606e-01, 8.38847502e-01],\n",
              "       [9.64807020e-01, 3.51906229e-02, 2.35730834e-06],\n",
              "       [9.72718658e-01, 2.72807318e-02, 6.09862330e-07],\n",
              "       [6.77823414e-02, 9.26612252e-01, 5.60540694e-03],\n",
              "       [1.87927303e-04, 1.78137847e-01, 8.21674225e-01],\n",
              "       [1.80166541e-05, 2.52622842e-02, 9.74719699e-01],\n",
              "       [1.11395137e-03, 6.50156319e-01, 3.48729730e-01],\n",
              "       [3.31865345e-05, 1.29064267e-01, 8.70902546e-01],\n",
              "       [3.48716972e-02, 9.44382364e-01, 2.07459386e-02],\n",
              "       [2.37106456e-06, 2.29951332e-02, 9.77002496e-01],\n",
              "       [6.28674542e-03, 6.35153263e-01, 3.58559991e-01],\n",
              "       [4.07133059e-02, 9.43395330e-01, 1.58913646e-02],\n",
              "       [1.43147674e-03, 4.97746691e-01, 5.00821832e-01],\n",
              "       [1.26123161e-03, 5.31714636e-01, 4.67024133e-01],\n",
              "       [1.11600217e-02, 7.09041795e-01, 2.79798183e-01],\n",
              "       [7.27672493e-04, 4.13059393e-01, 5.86212934e-01],\n",
              "       [4.09605826e-03, 7.70875321e-01, 2.25028621e-01],\n",
              "       [4.04039931e-04, 2.19893161e-01, 7.79702799e-01]])"
            ]
          },
          "metadata": {},
          "execution_count": 4
        }
      ]
    },
    {
      "cell_type": "code",
      "source": [
        "acc_val = clf.score(X_test, y_test)\n",
        "acc_val"
      ],
      "metadata": {
        "colab": {
          "base_uri": "https://localhost:8080/"
        },
        "id": "P2V_4ySDbY1q",
        "outputId": "8f04c0fb-7196-447d-a241-c9f99930c1db"
      },
      "execution_count": 8,
      "outputs": [
        {
          "output_type": "execute_result",
          "data": {
            "text/plain": [
              "0.9166666666666666"
            ]
          },
          "metadata": {},
          "execution_count": 8
        }
      ]
    },
    {
      "cell_type": "code",
      "source": [
        "acc_train = clf.score(X_train, y_train)\n",
        "acc_train"
      ],
      "metadata": {
        "colab": {
          "base_uri": "https://localhost:8080/"
        },
        "id": "8_8hc6sKcifP",
        "outputId": "7262b105-0b47-4936-f59c-78b17112e9df"
      },
      "execution_count": 9,
      "outputs": [
        {
          "output_type": "execute_result",
          "data": {
            "text/plain": [
              "0.9777777777777777"
            ]
          },
          "metadata": {},
          "execution_count": 9
        }
      ]
    },
    {
      "cell_type": "code",
      "source": [
        "(acc_val - acc_train) * 100"
      ],
      "metadata": {
        "colab": {
          "base_uri": "https://localhost:8080/"
        },
        "id": "wuH06Nn5cuYb",
        "outputId": "ba3f72be-4914-4c7c-f0cf-727b37162891"
      },
      "execution_count": 10,
      "outputs": [
        {
          "output_type": "execute_result",
          "data": {
            "text/plain": [
              "-6.111111111111112"
            ]
          },
          "metadata": {},
          "execution_count": 10
        }
      ]
    },
    {
      "cell_type": "markdown",
      "source": [
        "Nivel significativo de over fitting, debe ser maximo de 1%."
      ],
      "metadata": {
        "id": "fTQXcmiDcyuK"
      }
    }
  ]
}