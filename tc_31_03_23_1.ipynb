{
  "nbformat": 4,
  "nbformat_minor": 0,
  "metadata": {
    "colab": {
      "provenance": [],
      "authorship_tag": "ABX9TyME2mA0Cc6NsqcVGSk91ggC",
      "include_colab_link": true
    },
    "kernelspec": {
      "name": "python3",
      "display_name": "Python 3"
    },
    "language_info": {
      "name": "python"
    }
  },
  "cells": [
    {
      "cell_type": "markdown",
      "metadata": {
        "id": "view-in-github",
        "colab_type": "text"
      },
      "source": [
        "<a href=\"https://colab.research.google.com/github/JeffersonEspinalA/Prueba/blob/main/tc_31_03_23_1.ipynb\" target=\"_parent\"><img src=\"https://colab.research.google.com/assets/colab-badge.svg\" alt=\"Open In Colab\"/></a>"
      ]
    },
    {
      "cell_type": "code",
      "execution_count": 8,
      "metadata": {
        "colab": {
          "base_uri": "https://localhost:8080/"
        },
        "id": "dKfoAdW677ss",
        "outputId": "68973953-22f8-49ce-c030-dfc36d467ed2"
      },
      "outputs": [
        {
          "output_type": "stream",
          "name": "stdout",
          "text": [
            "anscombe.json\t\t      mnist_test.csv\n",
            "california_housing_test.csv   mnist_train_small.csv\n",
            "california_housing_train.csv  README.md\n"
          ]
        }
      ],
      "source": [
        "!ls sample_data/"
      ]
    },
    {
      "cell_type": "code",
      "source": [
        "!gcc --version"
      ],
      "metadata": {
        "colab": {
          "base_uri": "https://localhost:8080/"
        },
        "id": "ZVg4mHR77-Gs",
        "outputId": "0f7a9a1e-2743-4d69-e8dd-89187344035d"
      },
      "execution_count": 9,
      "outputs": [
        {
          "output_type": "stream",
          "name": "stdout",
          "text": [
            "gcc (Ubuntu 9.4.0-1ubuntu1~20.04.1) 9.4.0\n",
            "Copyright (C) 2019 Free Software Foundation, Inc.\n",
            "This is free software; see the source for copying conditions.  There is NO\n",
            "warranty; not even for MERCHANTABILITY or FITNESS FOR A PARTICULAR PURPOSE.\n",
            "\n"
          ]
        }
      ]
    },
    {
      "cell_type": "code",
      "source": [
        "!g++ --version"
      ],
      "metadata": {
        "colab": {
          "base_uri": "https://localhost:8080/"
        },
        "id": "XdQe08SC7_uV",
        "outputId": "26bcacfe-300d-4500-e4cd-36c60e187021"
      },
      "execution_count": 10,
      "outputs": [
        {
          "output_type": "stream",
          "name": "stdout",
          "text": [
            "g++ (Ubuntu 9.4.0-1ubuntu1~20.04.1) 9.4.0\n",
            "Copyright (C) 2019 Free Software Foundation, Inc.\n",
            "This is free software; see the source for copying conditions.  There is NO\n",
            "warranty; not even for MERCHANTABILITY or FITNESS FOR A PARTICULAR PURPOSE.\n",
            "\n"
          ]
        }
      ]
    },
    {
      "cell_type": "code",
      "source": [
        "%%file scanner1.cpp\n",
        "#include <iostream>\n",
        "#define START 0\n",
        "\n",
        "using namespace std;\n",
        "\n",
        "int main() {\n",
        "\n",
        "    char c;\n",
        "    int state = 0;\n",
        "    while (cin.get(c)) {\n",
        "        switch (state) {\n",
        "        case START:\n",
        "            switch (c) {\n",
        "            case '<': state = 1; continue;\n",
        "            case '=': state = 5; continue;\n",
        "            case '>': state = 6; continue;\n",
        "            case ' ': case '\\t': case '\\n': continue;\n",
        "            default: cout << \"UNKNOWN TOKEN\\n\"; continue;\n",
        "            }\n",
        "            break;\n",
        "        case 1:\n",
        "            switch (c) {\n",
        "            case '=': state = 2; continue;\n",
        "            case '>': state = 3; continue;\n",
        "            default: state = 4; continue;\n",
        "            }\n",
        "            break;\n",
        "        case 2: cout << \"relop LE\\n\"; state = 0; continue;\n",
        "        case 3: cout << \"relop NE\\n\"; state = 0; continue;\n",
        "        case 4: cout << \"relop LT\\n\"; state = 0; cin.putback(c); continue;\n",
        "        case 5: cout << \"relop EQ\\n\"; state = 0; continue;\n",
        "        case 6:\n",
        "            switch (c) {\n",
        "            case '=': state = 7; continue;\n",
        "            default: state = 8; continue;\n",
        "            }\n",
        "        case 7: cout << \"relop GE\\n\"; state = 0; continue;\n",
        "        case 8:  cout << \"relop GT\\n\"; state = 0; cin.putback(c); continue;\n",
        "        }\n",
        "    }\n",
        "\n",
        "    return 0;\n",
        "}"
      ],
      "metadata": {
        "colab": {
          "base_uri": "https://localhost:8080/"
        },
        "id": "6vkxpny_8IJP",
        "outputId": "0224e4ac-35c9-436c-b9cc-e82874bab8b0"
      },
      "execution_count": 21,
      "outputs": [
        {
          "output_type": "stream",
          "name": "stdout",
          "text": [
            "Overwriting scanner1.cpp\n"
          ]
        }
      ]
    },
    {
      "cell_type": "code",
      "source": [
        "%%file 1.in\n",
        "1 > 2\n",
        "3 <= 10\n",
        "5 = 6\n",
        "> < <> <= >= ="
      ],
      "metadata": {
        "colab": {
          "base_uri": "https://localhost:8080/"
        },
        "id": "YN9o1Na28LH2",
        "outputId": "3f7e222d-776f-473c-b41e-d27275513d84"
      },
      "execution_count": 19,
      "outputs": [
        {
          "output_type": "stream",
          "name": "stdout",
          "text": [
            "Overwriting 1.in\n"
          ]
        }
      ]
    },
    {
      "cell_type": "code",
      "source": [
        "!g++ scanner1.cpp"
      ],
      "metadata": {
        "id": "10XEsgdj8NXW"
      },
      "execution_count": 22,
      "outputs": []
    },
    {
      "cell_type": "code",
      "source": [
        "!./a.out < 1.in"
      ],
      "metadata": {
        "colab": {
          "base_uri": "https://localhost:8080/"
        },
        "id": "5SnBX_Cv8Pl_",
        "outputId": "3fcfc1d5-6623-444f-f5b2-80c442623b9b"
      },
      "execution_count": 23,
      "outputs": [
        {
          "output_type": "stream",
          "name": "stdout",
          "text": [
            "UNKNOWN TOKEN\n",
            "relop GT\n",
            "UNKNOWN TOKEN\n",
            "UNKNOWN TOKEN\n",
            "relop LE\n",
            "UNKNOWN TOKEN\n",
            "UNKNOWN TOKEN\n",
            "UNKNOWN TOKEN\n",
            "relop EQ\n",
            "UNKNOWN TOKEN\n",
            "relop GT\n",
            "relop LT\n",
            "relop NE\n",
            "relop LE\n",
            "relop GE\n",
            "relop EQ\n"
          ]
        }
      ]
    }
  ]
}