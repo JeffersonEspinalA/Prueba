{
  "nbformat": 4,
  "nbformat_minor": 0,
  "metadata": {
    "colab": {
      "provenance": [],
      "mount_file_id": "1sotr-0cP7dlDJSl_Qzhgywj2N0A50XOh",
      "authorship_tag": "ABX9TyMQ4KRQg9kCw3ve7TP6DOL3",
      "include_colab_link": true
    },
    "kernelspec": {
      "name": "python3",
      "display_name": "Python 3"
    },
    "language_info": {
      "name": "python"
    }
  },
  "cells": [
    {
      "cell_type": "markdown",
      "metadata": {
        "id": "view-in-github",
        "colab_type": "text"
      },
      "source": [
        "<a href=\"https://colab.research.google.com/github/JeffersonEspinalA/Prueba/blob/main/Copia_de_C%C3%B3digo_fuente_Hito_2.ipynb\" target=\"_parent\"><img src=\"https://colab.research.google.com/assets/colab-badge.svg\" alt=\"Open In Colab\"/></a>"
      ]
    },
    {
      "cell_type": "markdown",
      "source": [
        "Importar librerias"
      ],
      "metadata": {
        "id": "YqK5s-1aOOCp"
      }
    },
    {
      "cell_type": "code",
      "execution_count": 1,
      "metadata": {
        "id": "WpL4C2E6BRVq"
      },
      "outputs": [],
      "source": [
        "import tensorflow\n",
        "import pandas as pd\n",
        "import numpy as np\n",
        "\n",
        "from keras.models import Sequential\n",
        "from keras import optimizers\n",
        "from keras.layers import Dense, Conv2D, Dropout, Flatten, MaxPooling2D\n",
        "\n",
        "from sklearn.model_selection import train_test_split\n",
        "from sklearn.preprocessing import LabelEncoder\n",
        "from keras_preprocessing.image import ImageDataGenerator\n",
        "from keras.optimizers import SGD"
      ]
    },
    {
      "cell_type": "markdown",
      "source": [
        "Cargar datos"
      ],
      "metadata": {
        "id": "UifzlbC4OUkF"
      }
    },
    {
      "cell_type": "code",
      "source": [
        "dataset = pd.read_csv('drive/MyDrive/HAM10000/HAM10000_metadata.csv')\n",
        "dataset['image_full_name'] = dataset['image_id']+'.jpg'"
      ],
      "metadata": {
        "id": "PZd79saAeFle"
      },
      "execution_count": 2,
      "outputs": []
    },
    {
      "cell_type": "markdown",
      "source": [
        "Creación del modelo"
      ],
      "metadata": {
        "id": "eRPkc3-xOYkm"
      }
    },
    {
      "cell_type": "code",
      "source": [
        "modelo = Sequential()\n",
        "modelo.add(Conv2D(64, (3, 3), activation='relu', input_shape=(32, 32, 3)))\n",
        "modelo.add(MaxPooling2D(pool_size=(2, 2)))\n",
        "modelo.add(Dropout(0.5))\n",
        "modelo.add(Flatten())\n",
        "modelo.add(Dense(128, activation='relu'))\n",
        "modelo.add(Dropout(0.5))\n",
        "modelo.add(Dense(7, activation='sigmoid'))"
      ],
      "metadata": {
        "id": "ABm1meJ1B1ZT"
      },
      "execution_count": 3,
      "outputs": []
    },
    {
      "cell_type": "markdown",
      "source": [
        "Dividir datos: entrenamiento, prueba y validación"
      ],
      "metadata": {
        "id": "JXweXVnmOcV2"
      }
    },
    {
      "cell_type": "code",
      "source": [
        "X = dataset[['image_full_name','dx','lesion_id']]\n",
        "Y = X.pop('dx').to_frame()\n",
        "X_entre, X_prueba, Y_entre, Y_prueba = train_test_split(X, Y, test_size=0.15, random_state=42)\n",
        "X_entre, X_val, Y_entre, Y_val = train_test_split(X_entre, Y_entre, test_size=0.15, random_state=42)"
      ],
      "metadata": {
        "id": "3TcIuWmMeIAK"
      },
      "execution_count": 4,
      "outputs": []
    },
    {
      "cell_type": "code",
      "source": [
        "entre = pd.concat([X_entre, Y_entre],axis=1)\n",
        "val = pd.concat([X_val, Y_val],axis=1)\n",
        "prueba = pd.concat([X_prueba, Y_prueba],axis=1)"
      ],
      "metadata": {
        "id": "dfjLYflueUKr"
      },
      "execution_count": 5,
      "outputs": []
    },
    {
      "cell_type": "code",
      "source": [
        "encoder = LabelEncoder()\n",
        "encoder.fit(val['dx'])\n",
        "tipo_indice_entre = encoder.transform(val['dx']) \n",
        "val['label'] = tipo_indice_entre"
      ],
      "metadata": {
        "id": "5W29LUUeeXhO"
      },
      "execution_count": 6,
      "outputs": []
    },
    {
      "cell_type": "code",
      "source": [
        "encoder = LabelEncoder()\n",
        "encoder.fit(prueba['dx'])\n",
        "tipo_indice_prueba = encoder.transform(prueba['dx']) \n",
        "prueba['label'] = tipo_indice_prueba"
      ],
      "metadata": {
        "id": "CkN4mJ7LedpT"
      },
      "execution_count": 7,
      "outputs": []
    },
    {
      "cell_type": "code",
      "source": [
        "entre_generator = ImageDataGenerator(rescale=1./255, rotation_range=10, zoom_range = 0.1, \n",
        "                                     width_shift_range=0.0, height_shift_range=0.00)"
      ],
      "metadata": {
        "id": "o4aauJ98eg95"
      },
      "execution_count": 8,
      "outputs": []
    },
    {
      "cell_type": "code",
      "source": [
        "datos_entre = entre_generator.flow_from_dataframe(dataframe=entre, x_col=\"image_full_name\", y_col=\"dx\",\n",
        "                                                  batch_size=32, directory=\"drive/MyDrive/HAM10000/HAM10000_images\",\n",
        "                                                  shuffle=True, class_mode=\"categorical\", target_size=(32,32))"
      ],
      "metadata": {
        "colab": {
          "base_uri": "https://localhost:8080/"
        },
        "id": "NW28l5MTeidV",
        "outputId": "c8b88237-46f7-415e-fb6b-385ba606ef52"
      },
      "execution_count": 9,
      "outputs": [
        {
          "output_type": "stream",
          "name": "stdout",
          "text": [
            "Found 7235 validated image filenames belonging to 7 classes.\n"
          ]
        }
      ]
    },
    {
      "cell_type": "code",
      "source": [
        "prueba_generator = ImageDataGenerator(rescale=1./255,rotation_range=10, zoom_range=0.1, \n",
        "                                      width_shift_range=0.0, height_shift_range=0.02)"
      ],
      "metadata": {
        "id": "3MfEXIBvekPm"
      },
      "execution_count": 10,
      "outputs": []
    },
    {
      "cell_type": "code",
      "source": [
        "datos_prueba = prueba_generator.flow_from_dataframe(dataframe=prueba, x_col=\"image_full_name\", y_col=\"dx\",\n",
        "                                                    directory=\"drive/MyDrive/HAM10000/HAM10000_images\",\n",
        "                                                    shuffle=False, batch_size=1, class_mode=None, target_size=(32,32))"
      ],
      "metadata": {
        "colab": {
          "base_uri": "https://localhost:8080/"
        },
        "id": "r3q9QbFDenC5",
        "outputId": "5240bfa1-5058-4dce-aaa3-b467fe766704"
      },
      "execution_count": 11,
      "outputs": [
        {
          "output_type": "stream",
          "name": "stdout",
          "text": [
            "Found 1503 validated image filenames.\n"
          ]
        }
      ]
    },
    {
      "cell_type": "code",
      "source": [
        "datos_val = prueba_generator.flow_from_dataframe(dataframe=val, x_col=\"image_full_name\", y_col=\"dx\",\n",
        "                                                 directory=\"drive/MyDrive/HAM10000/HAM10000_images\",\n",
        "                                                 batch_size=64, shuffle=False, class_mode=\"categorical\", target_size=(32,32))"
      ],
      "metadata": {
        "colab": {
          "base_uri": "https://localhost:8080/"
        },
        "id": "TX375xS0erIC",
        "outputId": "43ecdf7e-81c2-45a2-db62-ea59ddb27d90"
      },
      "execution_count": 12,
      "outputs": [
        {
          "output_type": "stream",
          "name": "stdout",
          "text": [
            "Found 1277 validated image filenames belonging to 7 classes.\n"
          ]
        }
      ]
    },
    {
      "cell_type": "markdown",
      "source": [
        "Compilar modelo"
      ],
      "metadata": {
        "id": "LKjl1fD6OlAX"
      }
    },
    {
      "cell_type": "code",
      "source": [
        "sgd = optimizers.SGD(learning_rate=0.01, clipvalue=0.5)\n",
        "modelo.compile(optimizer=sgd,loss=\"categorical_crossentropy\",metrics=[\"accuracy\"])"
      ],
      "metadata": {
        "id": "aX07qD-eeusD"
      },
      "execution_count": 13,
      "outputs": []
    },
    {
      "cell_type": "markdown",
      "source": [
        "Entrenar modelo"
      ],
      "metadata": {
        "id": "5sfRnB9kOnLm"
      }
    },
    {
      "cell_type": "code",
      "source": [
        "historial = modelo.fit_generator(generator=datos_entre, steps_per_epoch=datos_entre.samples//datos_entre.batch_size,\n",
        "                               validation_data=datos_val, verbose=1, validation_steps=datos_val.samples//datos_val.batch_size,\n",
        "                               epochs=25)"
      ],
      "metadata": {
        "colab": {
          "base_uri": "https://localhost:8080/"
        },
        "id": "UwckrpDBe2a8",
        "outputId": "2b187e6a-9f62-4847-9401-ca43b5e06e15"
      },
      "execution_count": 18,
      "outputs": [
        {
          "output_type": "stream",
          "name": "stderr",
          "text": [
            "/usr/local/lib/python3.7/dist-packages/ipykernel_launcher.py:3: UserWarning: `Model.fit_generator` is deprecated and will be removed in a future version. Please use `Model.fit`, which supports generators.\n",
            "  This is separate from the ipykernel package so we can avoid doing imports until\n"
          ]
        },
        {
          "output_type": "stream",
          "name": "stdout",
          "text": [
            "Epoch 1/25\n",
            "226/226 [==============================] - 127s 556ms/step - loss: 0.8269 - accuracy: 0.7007 - val_loss: 0.7986 - val_accuracy: 0.7113\n",
            "Epoch 2/25\n",
            "226/226 [==============================] - 127s 564ms/step - loss: 0.8255 - accuracy: 0.7012 - val_loss: 0.7894 - val_accuracy: 0.7130\n",
            "Epoch 3/25\n",
            "226/226 [==============================] - 125s 554ms/step - loss: 0.8056 - accuracy: 0.7083 - val_loss: 0.7772 - val_accuracy: 0.7122\n",
            "Epoch 4/25\n",
            "226/226 [==============================] - 132s 586ms/step - loss: 0.8112 - accuracy: 0.7043 - val_loss: 0.7789 - val_accuracy: 0.7171\n",
            "Epoch 5/25\n",
            "226/226 [==============================] - 130s 575ms/step - loss: 0.8069 - accuracy: 0.7060 - val_loss: 0.7807 - val_accuracy: 0.7179\n",
            "Epoch 6/25\n",
            "226/226 [==============================] - 128s 567ms/step - loss: 0.8103 - accuracy: 0.7080 - val_loss: 0.7947 - val_accuracy: 0.7064\n",
            "Epoch 7/25\n",
            "226/226 [==============================] - 133s 590ms/step - loss: 0.8048 - accuracy: 0.7072 - val_loss: 0.7775 - val_accuracy: 0.7204\n",
            "Epoch 8/25\n",
            "226/226 [==============================] - 127s 563ms/step - loss: 0.8021 - accuracy: 0.7103 - val_loss: 0.7957 - val_accuracy: 0.7105\n",
            "Epoch 9/25\n",
            "226/226 [==============================] - 129s 571ms/step - loss: 0.7902 - accuracy: 0.7103 - val_loss: 0.7623 - val_accuracy: 0.7212\n",
            "Epoch 10/25\n",
            "226/226 [==============================] - 127s 562ms/step - loss: 0.7898 - accuracy: 0.7086 - val_loss: 0.7749 - val_accuracy: 0.7130\n",
            "Epoch 11/25\n",
            "226/226 [==============================] - 133s 587ms/step - loss: 0.7903 - accuracy: 0.7132 - val_loss: 0.7607 - val_accuracy: 0.7146\n",
            "Epoch 12/25\n",
            "226/226 [==============================] - 128s 568ms/step - loss: 0.7813 - accuracy: 0.7150 - val_loss: 0.7676 - val_accuracy: 0.7179\n",
            "Epoch 13/25\n",
            "226/226 [==============================] - 129s 569ms/step - loss: 0.7741 - accuracy: 0.7125 - val_loss: 0.7547 - val_accuracy: 0.7212\n",
            "Epoch 14/25\n",
            "226/226 [==============================] - 124s 549ms/step - loss: 0.7672 - accuracy: 0.7166 - val_loss: 0.7458 - val_accuracy: 0.7253\n",
            "Epoch 15/25\n",
            "226/226 [==============================] - 126s 559ms/step - loss: 0.7706 - accuracy: 0.7179 - val_loss: 0.7588 - val_accuracy: 0.7179\n",
            "Epoch 16/25\n",
            "226/226 [==============================] - 134s 591ms/step - loss: 0.7684 - accuracy: 0.7155 - val_loss: 0.7481 - val_accuracy: 0.7270\n",
            "Epoch 17/25\n",
            "226/226 [==============================] - 126s 556ms/step - loss: 0.7588 - accuracy: 0.7196 - val_loss: 0.7524 - val_accuracy: 0.7138\n",
            "Epoch 18/25\n",
            "226/226 [==============================] - 127s 561ms/step - loss: 0.7588 - accuracy: 0.7236 - val_loss: 0.7387 - val_accuracy: 0.7262\n",
            "Epoch 19/25\n",
            "226/226 [==============================] - 128s 565ms/step - loss: 0.7586 - accuracy: 0.7241 - val_loss: 0.7372 - val_accuracy: 0.7253\n",
            "Epoch 20/25\n",
            "226/226 [==============================] - 133s 586ms/step - loss: 0.7469 - accuracy: 0.7209 - val_loss: 0.7254 - val_accuracy: 0.7278\n",
            "Epoch 21/25\n",
            "226/226 [==============================] - 128s 565ms/step - loss: 0.7478 - accuracy: 0.7254 - val_loss: 0.7388 - val_accuracy: 0.7278\n",
            "Epoch 22/25\n",
            "226/226 [==============================] - 126s 557ms/step - loss: 0.7365 - accuracy: 0.7278 - val_loss: 0.7343 - val_accuracy: 0.7253\n",
            "Epoch 23/25\n",
            "226/226 [==============================] - 125s 552ms/step - loss: 0.7452 - accuracy: 0.7268 - val_loss: 0.7179 - val_accuracy: 0.7385\n",
            "Epoch 24/25\n",
            "226/226 [==============================] - 126s 560ms/step - loss: 0.7461 - accuracy: 0.7197 - val_loss: 0.7310 - val_accuracy: 0.7286\n",
            "Epoch 25/25\n",
            "226/226 [==============================] - 131s 580ms/step - loss: 0.7429 - accuracy: 0.7251 - val_loss: 0.7194 - val_accuracy: 0.7360\n"
          ]
        }
      ]
    },
    {
      "cell_type": "markdown",
      "source": [
        "Evaluación porcentaje de precisión"
      ],
      "metadata": {
        "id": "SMzUTdiBOq_8"
      }
    },
    {
      "cell_type": "code",
      "source": [
        "datos_prueba.reset()\n",
        "predicciones = modelo.predict_generator(datos_prueba, steps=datos_prueba.samples/datos_prueba.batch_size, verbose=1)\n",
        "x_pred = np.argmax(predicciones, axis=1)\n",
        "cant = np.where(x_pred == tipo_indice_prueba)\n",
        "print(f\"Tasa de precision del modelo: {int((np.count_nonzero(cant) / len(tipo_indice_prueba)) * 100)} %\")"
      ],
      "metadata": {
        "id": "qIVm7nYSshNa",
        "colab": {
          "base_uri": "https://localhost:8080/"
        },
        "outputId": "99ade532-e912-4708-92f0-2754579b85fb"
      },
      "execution_count": 19,
      "outputs": [
        {
          "output_type": "stream",
          "name": "stdout",
          "text": [
            "\r   1/1503 [..............................] - ETA: 2:43"
          ]
        },
        {
          "output_type": "stream",
          "name": "stderr",
          "text": [
            "/usr/local/lib/python3.7/dist-packages/ipykernel_launcher.py:2: UserWarning: `Model.predict_generator` is deprecated and will be removed in a future version. Please use `Model.predict`, which supports generators.\n",
            "  \n"
          ]
        },
        {
          "output_type": "stream",
          "name": "stdout",
          "text": [
            "1503/1503 [==============================] - 31s 20ms/step\n",
            "Tasa de precision del modelo: 71 %\n"
          ]
        }
      ]
    },
    {
      "cell_type": "markdown",
      "source": [
        "Guardar modelo"
      ],
      "metadata": {
        "id": "kTUgK5N-PDWQ"
      }
    },
    {
      "cell_type": "code",
      "source": [
        "modelo.save('Trabajo_Final.h5')"
      ],
      "metadata": {
        "id": "Q4L3RoolPFAc"
      },
      "execution_count": 20,
      "outputs": []
    }
  ]
}