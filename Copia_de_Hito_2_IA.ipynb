{
  "nbformat": 4,
  "nbformat_minor": 0,
  "metadata": {
    "colab": {
      "provenance": [],
      "collapsed_sections": [],
      "mount_file_id": "1kMUnOTx7aJLAXbmAkQOfXaqiPctLxk6X",
      "authorship_tag": "ABX9TyM0sDtoHMxUGXENfbbjQt7D"
    },
    "kernelspec": {
      "name": "python3",
      "display_name": "Python 3"
    },
    "language_info": {
      "name": "python"
    }
  },
  "cells": [
    {
      "cell_type": "markdown",
      "source": [
        "Importar librerias"
      ],
      "metadata": {
        "id": "YqK5s-1aOOCp"
      }
    },
    {
      "cell_type": "code",
      "execution_count": 1,
      "metadata": {
        "id": "WpL4C2E6BRVq"
      },
      "outputs": [],
      "source": [
        "import tensorflow\n",
        "import pandas as pd\n",
        "import numpy as np\n",
        "\n",
        "from keras.models import Sequential\n",
        "from keras import optimizers\n",
        "from keras.layers import Dense, Conv2D, Dropout, Flatten, MaxPooling2D\n",
        "\n",
        "from sklearn.model_selection import train_test_split\n",
        "from sklearn.preprocessing import LabelEncoder\n",
        "from keras_preprocessing.image import ImageDataGenerator\n",
        "from keras.optimizers import SGD"
      ]
    },
    {
      "cell_type": "markdown",
      "source": [
        "Cargar datos"
      ],
      "metadata": {
        "id": "UifzlbC4OUkF"
      }
    },
    {
      "cell_type": "code",
      "source": [
        "data = pd.read_csv('drive/MyDrive/HAM10000/HAM10000_metadata.csv')\n",
        "data['image_full_name'] = data['image_id']+'.jpg'"
      ],
      "metadata": {
        "id": "PZd79saAeFle"
      },
      "execution_count": 3,
      "outputs": []
    },
    {
      "cell_type": "markdown",
      "source": [
        "Creación del modelo"
      ],
      "metadata": {
        "id": "eRPkc3-xOYkm"
      }
    },
    {
      "cell_type": "code",
      "source": [
        "modelo = Sequential()\n",
        "modelo.add(Conv2D(64, (3, 3), activation='relu'))\n",
        "modelo.add(MaxPooling2D(pool_size=(2, 2)))\n",
        "modelo.add(Dropout(0.5))\n",
        "modelo.add(Flatten())\n",
        "modelo.add(Dense(128, activation='relu'))\n",
        "modelo.add(Dropout(0.5))\n",
        "modelo.add(Dense(7, activation='sigmoid'))"
      ],
      "metadata": {
        "id": "ABm1meJ1B1ZT"
      },
      "execution_count": 4,
      "outputs": []
    },
    {
      "cell_type": "markdown",
      "source": [
        "Dividir datos: entrenamiento, prueba y validación"
      ],
      "metadata": {
        "id": "JXweXVnmOcV2"
      }
    },
    {
      "cell_type": "code",
      "source": [
        "X = data[['image_full_name','dx','lesion_id']]\n",
        "Y = X.pop('dx').to_frame()\n",
        "X_train, X_test, y_train, y_test = train_test_split(X, Y, test_size=0.15, random_state=42)\n",
        "X_train, X_val, y_train, y_val   = train_test_split(X_train, y_train, test_size=0.15, random_state=42)"
      ],
      "metadata": {
        "id": "3TcIuWmMeIAK"
      },
      "execution_count": 5,
      "outputs": []
    },
    {
      "cell_type": "code",
      "source": [
        "train = pd.concat([X_train,y_train],axis=1)\n",
        "val = pd.concat([X_val,y_val],axis=1)\n",
        "test = pd.concat([X_test,y_test],axis=1)"
      ],
      "metadata": {
        "id": "dfjLYflueUKr"
      },
      "execution_count": 6,
      "outputs": []
    },
    {
      "cell_type": "code",
      "source": [
        "encoder = LabelEncoder()\n",
        "encoder.fit(val['dx'])\n",
        "name_as_indexes_train = encoder.transform(val['dx']) \n",
        "val['label'] = name_as_indexes_train"
      ],
      "metadata": {
        "id": "5W29LUUeeXhO"
      },
      "execution_count": 7,
      "outputs": []
    },
    {
      "cell_type": "code",
      "source": [
        "encoder = LabelEncoder()\n",
        "encoder.fit(test['dx'])\n",
        "name_as_indexes_test = encoder.transform(test['dx']) \n",
        "test['label'] = name_as_indexes_test"
      ],
      "metadata": {
        "id": "CkN4mJ7LedpT"
      },
      "execution_count": 8,
      "outputs": []
    },
    {
      "cell_type": "code",
      "source": [
        "train_generator = ImageDataGenerator(rescale=1./255, rotation_range=10, zoom_range = 0.1, \n",
        "                                     width_shift_range=0.0, height_shift_range=0.00)"
      ],
      "metadata": {
        "id": "o4aauJ98eg95"
      },
      "execution_count": 9,
      "outputs": []
    },
    {
      "cell_type": "code",
      "source": [
        "train_data = train_generator.flow_from_dataframe(dataframe=train, x_col=\"image_full_name\", y_col=\"dx\",\n",
        "                                                batch_size=32, directory=\"drive/MyDrive/HAM10000/HAM10000_images\",\n",
        "                                                shuffle=True, class_mode=\"categorical\", target_size=(224,224))"
      ],
      "metadata": {
        "colab": {
          "base_uri": "https://localhost:8080/"
        },
        "id": "NW28l5MTeidV",
        "outputId": "c22b6c04-c42e-4d82-ab99-bba995c0be88"
      },
      "execution_count": 10,
      "outputs": [
        {
          "output_type": "stream",
          "name": "stdout",
          "text": [
            "Found 7235 validated image filenames belonging to 7 classes.\n"
          ]
        }
      ]
    },
    {
      "cell_type": "code",
      "source": [
        "test_generator = ImageDataGenerator(rescale=1./255,rotation_range=10, zoom_range=0.1, \n",
        "                                    width_shift_range=0.0, height_shift_range=0.02)"
      ],
      "metadata": {
        "id": "3MfEXIBvekPm"
      },
      "execution_count": 12,
      "outputs": []
    },
    {
      "cell_type": "code",
      "source": [
        "test_data = test_generator.flow_from_dataframe(dataframe=test, x_col=\"image_full_name\", y_col=\"dx\",\n",
        "                                              directory=\"drive/MyDrive/HAM10000/HAM10000_images\",\n",
        "                                              shuffle=False, batch_size=1, class_mode=None, target_size=(224,224))"
      ],
      "metadata": {
        "colab": {
          "base_uri": "https://localhost:8080/"
        },
        "id": "r3q9QbFDenC5",
        "outputId": "9542dce6-05d7-4f4d-d227-e211ad74b9c3"
      },
      "execution_count": 13,
      "outputs": [
        {
          "output_type": "stream",
          "name": "stdout",
          "text": [
            "Found 1503 validated image filenames.\n"
          ]
        }
      ]
    },
    {
      "cell_type": "code",
      "source": [
        "val_data = test_generator.flow_from_dataframe(dataframe=val, x_col=\"image_full_name\", y_col=\"dx\",\n",
        "                                              directory=\"drive/MyDrive/HAM10000/HAM10000_images\",\n",
        "                                              batch_size=64, shuffle=False, class_mode=\"categorical\", target_size=(224,224))"
      ],
      "metadata": {
        "colab": {
          "base_uri": "https://localhost:8080/"
        },
        "id": "TX375xS0erIC",
        "outputId": "0c9f9ea9-c0f8-4c7e-8c93-d7b95f9df923"
      },
      "execution_count": 14,
      "outputs": [
        {
          "output_type": "stream",
          "name": "stdout",
          "text": [
            "Found 1277 validated image filenames belonging to 7 classes.\n"
          ]
        }
      ]
    },
    {
      "cell_type": "markdown",
      "source": [
        "Compilar modelo"
      ],
      "metadata": {
        "id": "LKjl1fD6OlAX"
      }
    },
    {
      "cell_type": "code",
      "source": [
        "sgd = optimizers.SGD(learning_rate=0.01, clipvalue=0.5)\n",
        "modelo.compile(optimizer=sgd,loss=\"categorical_crossentropy\",metrics=[\"accuracy\"])"
      ],
      "metadata": {
        "id": "aX07qD-eeusD"
      },
      "execution_count": 15,
      "outputs": []
    },
    {
      "cell_type": "markdown",
      "source": [
        "Entrenar modelo"
      ],
      "metadata": {
        "id": "5sfRnB9kOnLm"
      }
    },
    {
      "cell_type": "code",
      "source": [
        "history = modelo.fit_generator(generator=train_data, steps_per_epoch=train_data.samples//train_data.batch_size,\n",
        "                              validation_data=val_data, verbose=1, validation_steps=val_data.samples//val_data.batch_size,\n",
        "                              epochs=3)"
      ],
      "metadata": {
        "colab": {
          "base_uri": "https://localhost:8080/"
        },
        "id": "UwckrpDBe2a8",
        "outputId": "2abd6f8b-38dd-431b-d003-19776d2dcae4"
      },
      "execution_count": 17,
      "outputs": [
        {
          "output_type": "stream",
          "name": "stderr",
          "text": [
            "/usr/local/lib/python3.7/dist-packages/ipykernel_launcher.py:3: UserWarning: `Model.fit_generator` is deprecated and will be removed in a future version. Please use `Model.fit`, which supports generators.\n",
            "  This is separate from the ipykernel package so we can avoid doing imports until\n"
          ]
        },
        {
          "output_type": "stream",
          "name": "stdout",
          "text": [
            "Epoch 1/3\n",
            "226/226 [==============================] - 3154s 14s/step - loss: 1.1450 - accuracy: 0.6661 - val_loss: 1.0968 - val_accuracy: 0.6752\n",
            "Epoch 2/3\n",
            "226/226 [==============================] - 770s 3s/step - loss: 1.0194 - accuracy: 0.6706 - val_loss: 0.9324 - val_accuracy: 0.6752\n",
            "Epoch 3/3\n",
            "226/226 [==============================] - 774s 3s/step - loss: 0.9802 - accuracy: 0.6703 - val_loss: 0.9026 - val_accuracy: 0.6752\n"
          ]
        }
      ]
    },
    {
      "cell_type": "markdown",
      "source": [
        "Evaluación porcentaje de precisión"
      ],
      "metadata": {
        "id": "SMzUTdiBOq_8"
      }
    },
    {
      "cell_type": "code",
      "source": [
        "test_data.reset()\n",
        "predictions = modelo.predict_generator(test_data, steps=test_data.samples/test_data.batch_size, verbose=1)\n",
        "y_pred = np.argmax(predictions, axis=1)\n",
        "c=np.where(y_pred == name_as_indexes_test)\n",
        "print(\"Test Accuracy :\",(np.count_nonzero(c)/len(name_as_indexes_test))*100)"
      ],
      "metadata": {
        "colab": {
          "base_uri": "https://localhost:8080/"
        },
        "id": "JiIX86NYe5pY",
        "outputId": "e291fd9f-e207-4f1b-d5e8-1e81bd8db39c"
      },
      "execution_count": 18,
      "outputs": [
        {
          "output_type": "stream",
          "name": "stderr",
          "text": [
            "/usr/local/lib/python3.7/dist-packages/ipykernel_launcher.py:2: UserWarning: `Model.predict_generator` is deprecated and will be removed in a future version. Please use `Model.predict`, which supports generators.\n",
            "  \n"
          ]
        },
        {
          "output_type": "stream",
          "name": "stdout",
          "text": [
            "1503/1503 [==============================] - 518s 345ms/step\n",
            "Test Accuracy : 66.40053226879574\n"
          ]
        }
      ]
    },
    {
      "cell_type": "markdown",
      "source": [
        "Probar con una imagen en especifico"
      ],
      "metadata": {
        "id": "61Ha6h0oOw8G"
      }
    },
    {
      "cell_type": "code",
      "source": [
        "def predecir(direccion_img):\n",
        "  lesion_classes_dict = {\n",
        "    0 : 'Melanocytic nevi',\n",
        "    1 : 'Melanoma',\n",
        "    2 : 'Benign keratosis-like lesions ',\n",
        "    3 : 'Basal cell carcinoma',\n",
        "    4 : 'Actinic keratoses',\n",
        "    5 : 'Vascular lesions',\n",
        "    6 : 'Dermatofibroma'\n",
        "  }\n",
        "\n",
        "  img = tensorflow.keras.preprocessing.image.load_img(direccion_img, target_size=(224,224,3))\n",
        "\n",
        "  x = tensorflow.keras.preprocessing.image.img_to_array(img)\n",
        "  x = np.expand_dims(x, axis=0)\n",
        "\n",
        "  preds = modelo.predict(x)\n",
        "  pred_class = preds.argmax(axis=-1)      \n",
        "\n",
        "  pr = lesion_classes_dict[pred_class[0]]\n",
        "  resultado =str(pr)  \n",
        "  return resultado"
      ],
      "metadata": {
        "id": "QKACBzc7PVKU"
      },
      "execution_count": 23,
      "outputs": []
    },
    {
      "cell_type": "code",
      "source": [
        "print(predecir(\"drive/MyDrive/HAM10000/HAM10000_images/ISIC_0024318.jpg\"))"
      ],
      "metadata": {
        "colab": {
          "base_uri": "https://localhost:8080/"
        },
        "id": "Cl--yxYKPxHI",
        "outputId": "25863665-9842-4f79-83ee-7fe6d106001a"
      },
      "execution_count": 33,
      "outputs": [
        {
          "output_type": "stream",
          "name": "stdout",
          "text": [
            "1/1 [==============================] - 0s 83ms/step\n",
            "Melanoma\n"
          ]
        }
      ]
    },
    {
      "cell_type": "code",
      "source": [
        "print(predecir(\"drive/MyDrive/HAM10000/HAM10000_images/ISIC_0025967.jpg\"))"
      ],
      "metadata": {
        "colab": {
          "base_uri": "https://localhost:8080/"
        },
        "id": "Eh5z7q2UP67u",
        "outputId": "d9a786d4-dd8e-4801-a26f-c96814e92df8"
      },
      "execution_count": 34,
      "outputs": [
        {
          "output_type": "stream",
          "name": "stdout",
          "text": [
            "1/1 [==============================] - 0s 87ms/step\n",
            "Melanoma\n"
          ]
        }
      ]
    },
    {
      "cell_type": "code",
      "source": [
        "print(predecir(\"drive/MyDrive/HAM10000/HAM10000_images/ISIC_0026627.jpg\"))"
      ],
      "metadata": {
        "colab": {
          "base_uri": "https://localhost:8080/"
        },
        "id": "IPVecOg3QFfs",
        "outputId": "cbb2971a-b997-4d4c-83ef-ce9eedde3969"
      },
      "execution_count": 35,
      "outputs": [
        {
          "output_type": "stream",
          "name": "stdout",
          "text": [
            "1/1 [==============================] - 0s 148ms/step\n",
            "Benign keratosis-like lesions \n"
          ]
        }
      ]
    },
    {
      "cell_type": "code",
      "source": [
        "print(predecir(\"drive/MyDrive/HAM10000/HAM10000_images/ISIC_0031144.jpg\"))"
      ],
      "metadata": {
        "colab": {
          "base_uri": "https://localhost:8080/"
        },
        "id": "NVanx_0BQeRB",
        "outputId": "c0581e0d-68f5-4bfd-8ecd-0245121db5bf"
      },
      "execution_count": 36,
      "outputs": [
        {
          "output_type": "stream",
          "name": "stdout",
          "text": [
            "1/1 [==============================] - 0s 123ms/step\n",
            "Melanocytic nevi\n"
          ]
        }
      ]
    },
    {
      "cell_type": "code",
      "source": [
        "print(predecir(\"drive/MyDrive/HAM10000/HAM10000_images/ISIC_0031364.jpg\"))"
      ],
      "metadata": {
        "colab": {
          "base_uri": "https://localhost:8080/"
        },
        "id": "y-cbmLw_QwiL",
        "outputId": "398101b3-9adf-4593-a8ae-f1c3e2c557f7"
      },
      "execution_count": 37,
      "outputs": [
        {
          "output_type": "stream",
          "name": "stdout",
          "text": [
            "1/1 [==============================] - 0s 115ms/step\n",
            "Benign keratosis-like lesions \n"
          ]
        }
      ]
    },
    {
      "cell_type": "markdown",
      "source": [
        "Guardar modelo"
      ],
      "metadata": {
        "id": "kTUgK5N-PDWQ"
      }
    },
    {
      "cell_type": "code",
      "source": [
        "modelo.save('Trabajo_Final.h5')"
      ],
      "metadata": {
        "id": "Q4L3RoolPFAc"
      },
      "execution_count": 21,
      "outputs": []
    }
  ]
}