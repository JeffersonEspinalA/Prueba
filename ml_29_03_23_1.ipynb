{
  "nbformat": 4,
  "nbformat_minor": 0,
  "metadata": {
    "colab": {
      "provenance": [],
      "authorship_tag": "ABX9TyN3MT+NPvC4b469N6WdpjY2",
      "include_colab_link": true
    },
    "kernelspec": {
      "name": "python3",
      "display_name": "Python 3"
    },
    "language_info": {
      "name": "python"
    }
  },
  "cells": [
    {
      "cell_type": "markdown",
      "metadata": {
        "id": "view-in-github",
        "colab_type": "text"
      },
      "source": [
        "<a href=\"https://colab.research.google.com/github/JeffersonEspinalA/Prueba/blob/main/ml_29_03_23_1.ipynb\" target=\"_parent\"><img src=\"https://colab.research.google.com/assets/colab-badge.svg\" alt=\"Open In Colab\"/></a>"
      ]
    },
    {
      "cell_type": "code",
      "source": [
        "!pip install wquantiles"
      ],
      "metadata": {
        "colab": {
          "base_uri": "https://localhost:8080/"
        },
        "id": "B__HfoO0HLVk",
        "outputId": "c5fad688-d36a-4095-8272-f76d7455503f"
      },
      "execution_count": 4,
      "outputs": [
        {
          "output_type": "stream",
          "name": "stdout",
          "text": [
            "Looking in indexes: https://pypi.org/simple, https://us-python.pkg.dev/colab-wheels/public/simple/\n",
            "Collecting wquantiles\n",
            "  Downloading wquantiles-0.6-py3-none-any.whl (3.3 kB)\n",
            "Requirement already satisfied: numpy>=1.18 in /usr/local/lib/python3.9/dist-packages (from wquantiles) (1.22.4)\n",
            "Installing collected packages: wquantiles\n",
            "Successfully installed wquantiles-0.6\n"
          ]
        }
      ]
    },
    {
      "cell_type": "code",
      "source": [
        "import pandas as pd\n",
        "import numpy as np\n",
        "from scipy.stats import trim_mean\n",
        "from statsmodels import robust\n",
        "import wquantiles\n",
        "\n",
        "import seaborn as sns\n",
        "import matplotlib.pylab as plt"
      ],
      "metadata": {
        "id": "kVUrQk_QGflz"
      },
      "execution_count": 5,
      "outputs": []
    },
    {
      "cell_type": "code",
      "execution_count": 9,
      "metadata": {
        "colab": {
          "base_uri": "https://localhost:8080/",
          "height": 206
        },
        "id": "k9Ul3xgYGaeq",
        "outputId": "c1b8085f-52f3-4e8a-9159-00660865ed32"
      },
      "outputs": [
        {
          "output_type": "execute_result",
          "data": {
            "text/plain": [
              "        State  Population  Murder.Rate Abbreviation\n",
              "0     Alabama     4779736          5.7           AL\n",
              "1      Alaska      710231          5.6           AK\n",
              "2     Arizona     6392017          4.7           AZ\n",
              "3    Arkansas     2915918          5.6           AR\n",
              "4  California    37253956          4.4           CA"
            ],
            "text/html": [
              "\n",
              "  <div id=\"df-a4a5423b-346f-49ad-88e5-5ce3ea5e9377\">\n",
              "    <div class=\"colab-df-container\">\n",
              "      <div>\n",
              "<style scoped>\n",
              "    .dataframe tbody tr th:only-of-type {\n",
              "        vertical-align: middle;\n",
              "    }\n",
              "\n",
              "    .dataframe tbody tr th {\n",
              "        vertical-align: top;\n",
              "    }\n",
              "\n",
              "    .dataframe thead th {\n",
              "        text-align: right;\n",
              "    }\n",
              "</style>\n",
              "<table border=\"1\" class=\"dataframe\">\n",
              "  <thead>\n",
              "    <tr style=\"text-align: right;\">\n",
              "      <th></th>\n",
              "      <th>State</th>\n",
              "      <th>Population</th>\n",
              "      <th>Murder.Rate</th>\n",
              "      <th>Abbreviation</th>\n",
              "    </tr>\n",
              "  </thead>\n",
              "  <tbody>\n",
              "    <tr>\n",
              "      <th>0</th>\n",
              "      <td>Alabama</td>\n",
              "      <td>4779736</td>\n",
              "      <td>5.7</td>\n",
              "      <td>AL</td>\n",
              "    </tr>\n",
              "    <tr>\n",
              "      <th>1</th>\n",
              "      <td>Alaska</td>\n",
              "      <td>710231</td>\n",
              "      <td>5.6</td>\n",
              "      <td>AK</td>\n",
              "    </tr>\n",
              "    <tr>\n",
              "      <th>2</th>\n",
              "      <td>Arizona</td>\n",
              "      <td>6392017</td>\n",
              "      <td>4.7</td>\n",
              "      <td>AZ</td>\n",
              "    </tr>\n",
              "    <tr>\n",
              "      <th>3</th>\n",
              "      <td>Arkansas</td>\n",
              "      <td>2915918</td>\n",
              "      <td>5.6</td>\n",
              "      <td>AR</td>\n",
              "    </tr>\n",
              "    <tr>\n",
              "      <th>4</th>\n",
              "      <td>California</td>\n",
              "      <td>37253956</td>\n",
              "      <td>4.4</td>\n",
              "      <td>CA</td>\n",
              "    </tr>\n",
              "  </tbody>\n",
              "</table>\n",
              "</div>\n",
              "      <button class=\"colab-df-convert\" onclick=\"convertToInteractive('df-a4a5423b-346f-49ad-88e5-5ce3ea5e9377')\"\n",
              "              title=\"Convert this dataframe to an interactive table.\"\n",
              "              style=\"display:none;\">\n",
              "        \n",
              "  <svg xmlns=\"http://www.w3.org/2000/svg\" height=\"24px\"viewBox=\"0 0 24 24\"\n",
              "       width=\"24px\">\n",
              "    <path d=\"M0 0h24v24H0V0z\" fill=\"none\"/>\n",
              "    <path d=\"M18.56 5.44l.94 2.06.94-2.06 2.06-.94-2.06-.94-.94-2.06-.94 2.06-2.06.94zm-11 1L8.5 8.5l.94-2.06 2.06-.94-2.06-.94L8.5 2.5l-.94 2.06-2.06.94zm10 10l.94 2.06.94-2.06 2.06-.94-2.06-.94-.94-2.06-.94 2.06-2.06.94z\"/><path d=\"M17.41 7.96l-1.37-1.37c-.4-.4-.92-.59-1.43-.59-.52 0-1.04.2-1.43.59L10.3 9.45l-7.72 7.72c-.78.78-.78 2.05 0 2.83L4 21.41c.39.39.9.59 1.41.59.51 0 1.02-.2 1.41-.59l7.78-7.78 2.81-2.81c.8-.78.8-2.07 0-2.86zM5.41 20L4 18.59l7.72-7.72 1.47 1.35L5.41 20z\"/>\n",
              "  </svg>\n",
              "      </button>\n",
              "      \n",
              "  <style>\n",
              "    .colab-df-container {\n",
              "      display:flex;\n",
              "      flex-wrap:wrap;\n",
              "      gap: 12px;\n",
              "    }\n",
              "\n",
              "    .colab-df-convert {\n",
              "      background-color: #E8F0FE;\n",
              "      border: none;\n",
              "      border-radius: 50%;\n",
              "      cursor: pointer;\n",
              "      display: none;\n",
              "      fill: #1967D2;\n",
              "      height: 32px;\n",
              "      padding: 0 0 0 0;\n",
              "      width: 32px;\n",
              "    }\n",
              "\n",
              "    .colab-df-convert:hover {\n",
              "      background-color: #E2EBFA;\n",
              "      box-shadow: 0px 1px 2px rgba(60, 64, 67, 0.3), 0px 1px 3px 1px rgba(60, 64, 67, 0.15);\n",
              "      fill: #174EA6;\n",
              "    }\n",
              "\n",
              "    [theme=dark] .colab-df-convert {\n",
              "      background-color: #3B4455;\n",
              "      fill: #D2E3FC;\n",
              "    }\n",
              "\n",
              "    [theme=dark] .colab-df-convert:hover {\n",
              "      background-color: #434B5C;\n",
              "      box-shadow: 0px 1px 3px 1px rgba(0, 0, 0, 0.15);\n",
              "      filter: drop-shadow(0px 1px 2px rgba(0, 0, 0, 0.3));\n",
              "      fill: #FFFFFF;\n",
              "    }\n",
              "  </style>\n",
              "\n",
              "      <script>\n",
              "        const buttonEl =\n",
              "          document.querySelector('#df-a4a5423b-346f-49ad-88e5-5ce3ea5e9377 button.colab-df-convert');\n",
              "        buttonEl.style.display =\n",
              "          google.colab.kernel.accessAllowed ? 'block' : 'none';\n",
              "\n",
              "        async function convertToInteractive(key) {\n",
              "          const element = document.querySelector('#df-a4a5423b-346f-49ad-88e5-5ce3ea5e9377');\n",
              "          const dataTable =\n",
              "            await google.colab.kernel.invokeFunction('convertToInteractive',\n",
              "                                                     [key], {});\n",
              "          if (!dataTable) return;\n",
              "\n",
              "          const docLinkHtml = 'Like what you see? Visit the ' +\n",
              "            '<a target=\"_blank\" href=https://colab.research.google.com/notebooks/data_table.ipynb>data table notebook</a>'\n",
              "            + ' to learn more about interactive tables.';\n",
              "          element.innerHTML = '';\n",
              "          dataTable['output_type'] = 'display_data';\n",
              "          await google.colab.output.renderOutput(dataTable, element);\n",
              "          const docLink = document.createElement('div');\n",
              "          docLink.innerHTML = docLinkHtml;\n",
              "          element.appendChild(docLink);\n",
              "        }\n",
              "      </script>\n",
              "    </div>\n",
              "  </div>\n",
              "  "
            ]
          },
          "metadata": {},
          "execution_count": 9
        }
      ],
      "source": [
        "base = \"https://raw.githubusercontent.com/gedeck/practical-statistics-for-data-scientists/master/data/\"\n",
        "STATE_CSV = \"state.csv\"\n",
        "state = pd.read_csv(f\"{base}{STATE_CSV}\")\n",
        "state.head()"
      ]
    },
    {
      "cell_type": "code",
      "source": [
        "state[\"Population\"].mean()"
      ],
      "metadata": {
        "colab": {
          "base_uri": "https://localhost:8080/"
        },
        "id": "RPvvUSeWIR4k",
        "outputId": "f85a7036-a734-4fd5-c4f9-de0ee3930610"
      },
      "execution_count": 10,
      "outputs": [
        {
          "output_type": "execute_result",
          "data": {
            "text/plain": [
              "6162876.3"
            ]
          },
          "metadata": {},
          "execution_count": 10
        }
      ]
    },
    {
      "cell_type": "code",
      "source": [
        "trim_mean(state[\"Population\"], 0.1)"
      ],
      "metadata": {
        "colab": {
          "base_uri": "https://localhost:8080/"
        },
        "id": "_F8H671fIVZW",
        "outputId": "c3270185-4acb-49f3-f609-e72e7b785988"
      },
      "execution_count": 11,
      "outputs": [
        {
          "output_type": "execute_result",
          "data": {
            "text/plain": [
              "4783697.125"
            ]
          },
          "metadata": {},
          "execution_count": 11
        }
      ]
    },
    {
      "cell_type": "code",
      "source": [
        "state[\"Population\"].median()"
      ],
      "metadata": {
        "colab": {
          "base_uri": "https://localhost:8080/"
        },
        "id": "K5I4vit-IboE",
        "outputId": "21156e6a-2d19-48d5-e7bc-5608436d70f7"
      },
      "execution_count": 12,
      "outputs": [
        {
          "output_type": "execute_result",
          "data": {
            "text/plain": [
              "4436369.5"
            ]
          },
          "metadata": {},
          "execution_count": 12
        }
      ]
    },
    {
      "cell_type": "code",
      "source": [
        "state[\"Murder.Rate\"].mean()"
      ],
      "metadata": {
        "colab": {
          "base_uri": "https://localhost:8080/"
        },
        "id": "Z4sfYew0Il8J",
        "outputId": "f1616f90-4c4e-466d-b9c6-5910c9f20cb7"
      },
      "execution_count": 13,
      "outputs": [
        {
          "output_type": "execute_result",
          "data": {
            "text/plain": [
              "4.066"
            ]
          },
          "metadata": {},
          "execution_count": 13
        }
      ]
    },
    {
      "cell_type": "code",
      "source": [
        "np.average(state[\"Murder.Rate\"], weights=state[\"Population\"])"
      ],
      "metadata": {
        "colab": {
          "base_uri": "https://localhost:8080/"
        },
        "id": "NSE_tgjwIrgz",
        "outputId": "bfc47879-a01b-4ba3-ab02-e2a199c515d5"
      },
      "execution_count": 16,
      "outputs": [
        {
          "output_type": "execute_result",
          "data": {
            "text/plain": [
              "4.445833981123393"
            ]
          },
          "metadata": {},
          "execution_count": 16
        }
      ]
    },
    {
      "cell_type": "code",
      "source": [
        "state[\"Population\"].std()"
      ],
      "metadata": {
        "colab": {
          "base_uri": "https://localhost:8080/"
        },
        "id": "n0sTCfkkI7V5",
        "outputId": "bea15764-c411-4d63-8421-3d7b88d40e29"
      },
      "execution_count": 17,
      "outputs": [
        {
          "output_type": "execute_result",
          "data": {
            "text/plain": [
              "6848235.347401142"
            ]
          },
          "metadata": {},
          "execution_count": 17
        }
      ]
    },
    {
      "cell_type": "code",
      "source": [
        "state[\"Population\"].quantile(0.75) - state[\"Population\"].quantile(0.25)"
      ],
      "metadata": {
        "colab": {
          "base_uri": "https://localhost:8080/"
        },
        "id": "bezIHtxrJJGF",
        "outputId": "2114b5da-6cbb-4a78-9cd7-8418df37822e"
      },
      "execution_count": 18,
      "outputs": [
        {
          "output_type": "execute_result",
          "data": {
            "text/plain": [
              "4847308.0"
            ]
          },
          "metadata": {},
          "execution_count": 18
        }
      ]
    },
    {
      "cell_type": "markdown",
      "source": [
        "#Box plots"
      ],
      "metadata": {
        "id": "aKjYxQy-JXBP"
      }
    },
    {
      "cell_type": "code",
      "source": [
        "state[\"Murder.Rate\"].quantile([0.05, 0.25, 0.5, 0.75, 0.95])"
      ],
      "metadata": {
        "colab": {
          "base_uri": "https://localhost:8080/"
        },
        "id": "MTq_b2efJY-I",
        "outputId": "1e858f7b-bd73-4e68-ba33-6e8116916750"
      },
      "execution_count": 19,
      "outputs": [
        {
          "output_type": "execute_result",
          "data": {
            "text/plain": [
              "0.05    1.600\n",
              "0.25    2.425\n",
              "0.50    4.000\n",
              "0.75    5.550\n",
              "0.95    6.510\n",
              "Name: Murder.Rate, dtype: float64"
            ]
          },
          "metadata": {},
          "execution_count": 19
        }
      ]
    },
    {
      "cell_type": "code",
      "source": [
        "percentages = [0.05, 0.25, 0.5, 0.75, 0.95]\n",
        "\n",
        "df = pd.DataFrame(state[\"Murder.Rate\"].quantile(percentages))\n",
        "df.index = [f\"{p*100}%\" for p in percentages]\n",
        "df.transpose()"
      ],
      "metadata": {
        "colab": {
          "base_uri": "https://localhost:8080/",
          "height": 81
        },
        "id": "gmDWsmn9Jr_2",
        "outputId": "2f0143e6-7ada-47d4-88ea-2d1d5a18cd62"
      },
      "execution_count": 22,
      "outputs": [
        {
          "output_type": "execute_result",
          "data": {
            "text/plain": [
              "             5.0%  25.0%  50.0%  75.0%  95.0%\n",
              "Murder.Rate   1.6  2.425    4.0   5.55   6.51"
            ],
            "text/html": [
              "\n",
              "  <div id=\"df-e391c65b-c4f2-4560-9640-a985057bfa60\">\n",
              "    <div class=\"colab-df-container\">\n",
              "      <div>\n",
              "<style scoped>\n",
              "    .dataframe tbody tr th:only-of-type {\n",
              "        vertical-align: middle;\n",
              "    }\n",
              "\n",
              "    .dataframe tbody tr th {\n",
              "        vertical-align: top;\n",
              "    }\n",
              "\n",
              "    .dataframe thead th {\n",
              "        text-align: right;\n",
              "    }\n",
              "</style>\n",
              "<table border=\"1\" class=\"dataframe\">\n",
              "  <thead>\n",
              "    <tr style=\"text-align: right;\">\n",
              "      <th></th>\n",
              "      <th>5.0%</th>\n",
              "      <th>25.0%</th>\n",
              "      <th>50.0%</th>\n",
              "      <th>75.0%</th>\n",
              "      <th>95.0%</th>\n",
              "    </tr>\n",
              "  </thead>\n",
              "  <tbody>\n",
              "    <tr>\n",
              "      <th>Murder.Rate</th>\n",
              "      <td>1.6</td>\n",
              "      <td>2.425</td>\n",
              "      <td>4.0</td>\n",
              "      <td>5.55</td>\n",
              "      <td>6.51</td>\n",
              "    </tr>\n",
              "  </tbody>\n",
              "</table>\n",
              "</div>\n",
              "      <button class=\"colab-df-convert\" onclick=\"convertToInteractive('df-e391c65b-c4f2-4560-9640-a985057bfa60')\"\n",
              "              title=\"Convert this dataframe to an interactive table.\"\n",
              "              style=\"display:none;\">\n",
              "        \n",
              "  <svg xmlns=\"http://www.w3.org/2000/svg\" height=\"24px\"viewBox=\"0 0 24 24\"\n",
              "       width=\"24px\">\n",
              "    <path d=\"M0 0h24v24H0V0z\" fill=\"none\"/>\n",
              "    <path d=\"M18.56 5.44l.94 2.06.94-2.06 2.06-.94-2.06-.94-.94-2.06-.94 2.06-2.06.94zm-11 1L8.5 8.5l.94-2.06 2.06-.94-2.06-.94L8.5 2.5l-.94 2.06-2.06.94zm10 10l.94 2.06.94-2.06 2.06-.94-2.06-.94-.94-2.06-.94 2.06-2.06.94z\"/><path d=\"M17.41 7.96l-1.37-1.37c-.4-.4-.92-.59-1.43-.59-.52 0-1.04.2-1.43.59L10.3 9.45l-7.72 7.72c-.78.78-.78 2.05 0 2.83L4 21.41c.39.39.9.59 1.41.59.51 0 1.02-.2 1.41-.59l7.78-7.78 2.81-2.81c.8-.78.8-2.07 0-2.86zM5.41 20L4 18.59l7.72-7.72 1.47 1.35L5.41 20z\"/>\n",
              "  </svg>\n",
              "      </button>\n",
              "      \n",
              "  <style>\n",
              "    .colab-df-container {\n",
              "      display:flex;\n",
              "      flex-wrap:wrap;\n",
              "      gap: 12px;\n",
              "    }\n",
              "\n",
              "    .colab-df-convert {\n",
              "      background-color: #E8F0FE;\n",
              "      border: none;\n",
              "      border-radius: 50%;\n",
              "      cursor: pointer;\n",
              "      display: none;\n",
              "      fill: #1967D2;\n",
              "      height: 32px;\n",
              "      padding: 0 0 0 0;\n",
              "      width: 32px;\n",
              "    }\n",
              "\n",
              "    .colab-df-convert:hover {\n",
              "      background-color: #E2EBFA;\n",
              "      box-shadow: 0px 1px 2px rgba(60, 64, 67, 0.3), 0px 1px 3px 1px rgba(60, 64, 67, 0.15);\n",
              "      fill: #174EA6;\n",
              "    }\n",
              "\n",
              "    [theme=dark] .colab-df-convert {\n",
              "      background-color: #3B4455;\n",
              "      fill: #D2E3FC;\n",
              "    }\n",
              "\n",
              "    [theme=dark] .colab-df-convert:hover {\n",
              "      background-color: #434B5C;\n",
              "      box-shadow: 0px 1px 3px 1px rgba(0, 0, 0, 0.15);\n",
              "      filter: drop-shadow(0px 1px 2px rgba(0, 0, 0, 0.3));\n",
              "      fill: #FFFFFF;\n",
              "    }\n",
              "  </style>\n",
              "\n",
              "      <script>\n",
              "        const buttonEl =\n",
              "          document.querySelector('#df-e391c65b-c4f2-4560-9640-a985057bfa60 button.colab-df-convert');\n",
              "        buttonEl.style.display =\n",
              "          google.colab.kernel.accessAllowed ? 'block' : 'none';\n",
              "\n",
              "        async function convertToInteractive(key) {\n",
              "          const element = document.querySelector('#df-e391c65b-c4f2-4560-9640-a985057bfa60');\n",
              "          const dataTable =\n",
              "            await google.colab.kernel.invokeFunction('convertToInteractive',\n",
              "                                                     [key], {});\n",
              "          if (!dataTable) return;\n",
              "\n",
              "          const docLinkHtml = 'Like what you see? Visit the ' +\n",
              "            '<a target=\"_blank\" href=https://colab.research.google.com/notebooks/data_table.ipynb>data table notebook</a>'\n",
              "            + ' to learn more about interactive tables.';\n",
              "          element.innerHTML = '';\n",
              "          dataTable['output_type'] = 'display_data';\n",
              "          await google.colab.output.renderOutput(dataTable, element);\n",
              "          const docLink = document.createElement('div');\n",
              "          docLink.innerHTML = docLinkHtml;\n",
              "          element.appendChild(docLink);\n",
              "        }\n",
              "      </script>\n",
              "    </div>\n",
              "  </div>\n",
              "  "
            ]
          },
          "metadata": {},
          "execution_count": 22
        }
      ]
    },
    {
      "cell_type": "code",
      "source": [
        "ax = (state[\"Population\"]/1_000_000).plot.box(figsize=(3, 4))\n",
        "ax.set_ylabel(\"Population (millions)\")\n",
        "\n",
        "plt.show()"
      ],
      "metadata": {
        "colab": {
          "base_uri": "https://localhost:8080/",
          "height": 368
        },
        "id": "UG6XYQTjKQqE",
        "outputId": "776d76af-47cd-4a83-fe02-7a4ced24e70d"
      },
      "execution_count": 23,
      "outputs": [
        {
          "output_type": "display_data",
          "data": {
            "text/plain": [
              "<Figure size 300x400 with 1 Axes>"
            ],
            "image/png": "[encoded data removed]"
          },
          "metadata": {}
        }
      ]
    },
    {
      "cell_type": "code",
      "source": [
        "binnedPopulation = pd.cut(state[\"Population\"], 10)\n",
        "binnedPopulation.value_counts() "
      ],
      "metadata": {
        "colab": {
          "base_uri": "https://localhost:8080/"
        },
        "id": "GCSKgOXEK5hG",
        "outputId": "481a34dd-a45f-4b09-a18f-f8d2f7e26d5f"
      },
      "execution_count": 24,
      "outputs": [
        {
          "output_type": "execute_result",
          "data": {
            "text/plain": [
              "(526935.67, 4232659.0]      24\n",
              "(4232659.0, 7901692.0]      14\n",
              "(7901692.0, 11570725.0]      6\n",
              "(11570725.0, 15239758.0]     2\n",
              "(15239758.0, 18908791.0]     1\n",
              "(18908791.0, 22577824.0]     1\n",
              "(22577824.0, 26246857.0]     1\n",
              "(33584923.0, 37253956.0]     1\n",
              "(26246857.0, 29915890.0]     0\n",
              "(29915890.0, 33584923.0]     0\n",
              "Name: Population, dtype: int64"
            ]
          },
          "metadata": {},
          "execution_count": 24
        }
      ]
    },
    {
      "cell_type": "code",
      "source": [
        "binnedPopulation.name = \"binnedPopulation\"\n",
        "df = pd.concat([state, binnedPopulation], axis=1)\n",
        "df = df.sort_values(by=\"Population\")\n",
        "\n",
        "groups = []\n",
        "for group, subset in df.groupby(by=\"binnedPopulation\"):\n",
        "  groups.append({\n",
        "      \"BinRange\": group,\n",
        "      \"Count\": len(subset),\n",
        "      \"States\": \",\".join(subset.Abbreviation)\n",
        "  })\n",
        "pd.DataFrame(groups)"
      ],
      "metadata": {
        "colab": {
          "base_uri": "https://localhost:8080/",
          "height": 363
        },
        "id": "TexKO6goLL0P",
        "outputId": "0771c418-8725-4ed5-86d8-18983027f9fb"
      },
      "execution_count": 25,
      "outputs": [
        {
          "output_type": "execute_result",
          "data": {
            "text/plain": [
              "                   BinRange  Count  \\\n",
              "0    (526935.67, 4232659.0]     24   \n",
              "1    (4232659.0, 7901692.0]     14   \n",
              "2   (7901692.0, 11570725.0]      6   \n",
              "3  (11570725.0, 15239758.0]      2   \n",
              "4  (15239758.0, 18908791.0]      1   \n",
              "5  (18908791.0, 22577824.0]      1   \n",
              "6  (22577824.0, 26246857.0]      1   \n",
              "7  (26246857.0, 29915890.0]      0   \n",
              "8  (29915890.0, 33584923.0]      0   \n",
              "9  (33584923.0, 37253956.0]      1   \n",
              "\n",
              "                                              States  \n",
              "0  WY,VT,ND,AK,SD,DE,MT,RI,NH,ME,HI,ID,NE,WV,NM,N...  \n",
              "1          KY,LA,SC,AL,CO,MN,WI,MD,MO,TN,AZ,IN,MA,WA  \n",
              "2                                  VA,NJ,NC,GA,MI,OH  \n",
              "3                                              PA,IL  \n",
              "4                                                 FL  \n",
              "5                                                 NY  \n",
              "6                                                 TX  \n",
              "7                                                     \n",
              "8                                                     \n",
              "9                                                 CA  "
            ],
            "text/html": [
              "\n",
              "  <div id=\"df-bb663729-d469-438b-95b2-aad07f8b91f5\">\n",
              "    <div class=\"colab-df-container\">\n",
              "      <div>\n",
              "<style scoped>\n",
              "    .dataframe tbody tr th:only-of-type {\n",
              "        vertical-align: middle;\n",
              "    }\n",
              "\n",
              "    .dataframe tbody tr th {\n",
              "        vertical-align: top;\n",
              "    }\n",
              "\n",
              "    .dataframe thead th {\n",
              "        text-align: right;\n",
              "    }\n",
              "</style>\n",
              "<table border=\"1\" class=\"dataframe\">\n",
              "  <thead>\n",
              "    <tr style=\"text-align: right;\">\n",
              "      <th></th>\n",
              "      <th>BinRange</th>\n",
              "      <th>Count</th>\n",
              "      <th>States</th>\n",
              "    </tr>\n",
              "  </thead>\n",
              "  <tbody>\n",
              "    <tr>\n",
              "      <th>0</th>\n",
              "      <td>(526935.67, 4232659.0]</td>\n",
              "      <td>24</td>\n",
              "      <td>WY,VT,ND,AK,SD,DE,MT,RI,NH,ME,HI,ID,NE,WV,NM,N...</td>\n",
              "    </tr>\n",
              "    <tr>\n",
              "      <th>1</th>\n",
              "      <td>(4232659.0, 7901692.0]</td>\n",
              "      <td>14</td>\n",
              "      <td>KY,LA,SC,AL,CO,MN,WI,MD,MO,TN,AZ,IN,MA,WA</td>\n",
              "    </tr>\n",
              "    <tr>\n",
              "      <th>2</th>\n",
              "      <td>(7901692.0, 11570725.0]</td>\n",
              "      <td>6</td>\n",
              "      <td>VA,NJ,NC,GA,MI,OH</td>\n",
              "    </tr>\n",
              "    <tr>\n",
              "      <th>3</th>\n",
              "      <td>(11570725.0, 15239758.0]</td>\n",
              "      <td>2</td>\n",
              "      <td>PA,IL</td>\n",
              "    </tr>\n",
              "    <tr>\n",
              "      <th>4</th>\n",
              "      <td>(15239758.0, 18908791.0]</td>\n",
              "      <td>1</td>\n",
              "      <td>FL</td>\n",
              "    </tr>\n",
              "    <tr>\n",
              "      <th>5</th>\n",
              "      <td>(18908791.0, 22577824.0]</td>\n",
              "      <td>1</td>\n",
              "      <td>NY</td>\n",
              "    </tr>\n",
              "    <tr>\n",
              "      <th>6</th>\n",
              "      <td>(22577824.0, 26246857.0]</td>\n",
              "      <td>1</td>\n",
              "      <td>TX</td>\n",
              "    </tr>\n",
              "    <tr>\n",
              "      <th>7</th>\n",
              "      <td>(26246857.0, 29915890.0]</td>\n",
              "      <td>0</td>\n",
              "      <td></td>\n",
              "    </tr>\n",
              "    <tr>\n",
              "      <th>8</th>\n",
              "      <td>(29915890.0, 33584923.0]</td>\n",
              "      <td>0</td>\n",
              "      <td></td>\n",
              "    </tr>\n",
              "    <tr>\n",
              "      <th>9</th>\n",
              "      <td>(33584923.0, 37253956.0]</td>\n",
              "      <td>1</td>\n",
              "      <td>CA</td>\n",
              "    </tr>\n",
              "  </tbody>\n",
              "</table>\n",
              "</div>\n",
              "      <button class=\"colab-df-convert\" onclick=\"convertToInteractive('df-bb663729-d469-438b-95b2-aad07f8b91f5')\"\n",
              "              title=\"Convert this dataframe to an interactive table.\"\n",
              "              style=\"display:none;\">\n",
              "        \n",
              "  <svg xmlns=\"http://www.w3.org/2000/svg\" height=\"24px\"viewBox=\"0 0 24 24\"\n",
              "       width=\"24px\">\n",
              "    <path d=\"M0 0h24v24H0V0z\" fill=\"none\"/>\n",
              "    <path d=\"M18.56 5.44l.94 2.06.94-2.06 2.06-.94-2.06-.94-.94-2.06-.94 2.06-2.06.94zm-11 1L8.5 8.5l.94-2.06 2.06-.94-2.06-.94L8.5 2.5l-.94 2.06-2.06.94zm10 10l.94 2.06.94-2.06 2.06-.94-2.06-.94-.94-2.06-.94 2.06-2.06.94z\"/><path d=\"M17.41 7.96l-1.37-1.37c-.4-.4-.92-.59-1.43-.59-.52 0-1.04.2-1.43.59L10.3 9.45l-7.72 7.72c-.78.78-.78 2.05 0 2.83L4 21.41c.39.39.9.59 1.41.59.51 0 1.02-.2 1.41-.59l7.78-7.78 2.81-2.81c.8-.78.8-2.07 0-2.86zM5.41 20L4 18.59l7.72-7.72 1.47 1.35L5.41 20z\"/>\n",
              "  </svg>\n",
              "      </button>\n",
              "      \n",
              "  <style>\n",
              "    .colab-df-container {\n",
              "      display:flex;\n",
              "      flex-wrap:wrap;\n",
              "      gap: 12px;\n",
              "    }\n",
              "\n",
              "    .colab-df-convert {\n",
              "      background-color: #E8F0FE;\n",
              "      border: none;\n",
              "      border-radius: 50%;\n",
              "      cursor: pointer;\n",
              "      display: none;\n",
              "      fill: #1967D2;\n",
              "      height: 32px;\n",
              "      padding: 0 0 0 0;\n",
              "      width: 32px;\n",
              "    }\n",
              "\n",
              "    .colab-df-convert:hover {\n",
              "      background-color: #E2EBFA;\n",
              "      box-shadow: 0px 1px 2px rgba(60, 64, 67, 0.3), 0px 1px 3px 1px rgba(60, 64, 67, 0.15);\n",
              "      fill: #174EA6;\n",
              "    }\n",
              "\n",
              "    [theme=dark] .colab-df-convert {\n",
              "      background-color: #3B4455;\n",
              "      fill: #D2E3FC;\n",
              "    }\n",
              "\n",
              "    [theme=dark] .colab-df-convert:hover {\n",
              "      background-color: #434B5C;\n",
              "      box-shadow: 0px 1px 3px 1px rgba(0, 0, 0, 0.15);\n",
              "      filter: drop-shadow(0px 1px 2px rgba(0, 0, 0, 0.3));\n",
              "      fill: #FFFFFF;\n",
              "    }\n",
              "  </style>\n",
              "\n",
              "      <script>\n",
              "        const buttonEl =\n",
              "          document.querySelector('#df-bb663729-d469-438b-95b2-aad07f8b91f5 button.colab-df-convert');\n",
              "        buttonEl.style.display =\n",
              "          google.colab.kernel.accessAllowed ? 'block' : 'none';\n",
              "\n",
              "        async function convertToInteractive(key) {\n",
              "          const element = document.querySelector('#df-bb663729-d469-438b-95b2-aad07f8b91f5');\n",
              "          const dataTable =\n",
              "            await google.colab.kernel.invokeFunction('convertToInteractive',\n",
              "                                                     [key], {});\n",
              "          if (!dataTable) return;\n",
              "\n",
              "          const docLinkHtml = 'Like what you see? Visit the ' +\n",
              "            '<a target=\"_blank\" href=https://colab.research.google.com/notebooks/data_table.ipynb>data table notebook</a>'\n",
              "            + ' to learn more about interactive tables.';\n",
              "          element.innerHTML = '';\n",
              "          dataTable['output_type'] = 'display_data';\n",
              "          await google.colab.output.renderOutput(dataTable, element);\n",
              "          const docLink = document.createElement('div');\n",
              "          docLink.innerHTML = docLinkHtml;\n",
              "          element.appendChild(docLink);\n",
              "        }\n",
              "      </script>\n",
              "    </div>\n",
              "  </div>\n",
              "  "
            ]
          },
          "metadata": {},
          "execution_count": 25
        }
      ]
    },
    {
      "cell_type": "code",
      "source": [
        "ax = (state[\"Population\"] / 1_000_000).plot.hist(figsize=(4, 4))\n",
        "ax.set_xlabel(\"Population (millions)\")\n",
        "\n",
        "plt.show()"
      ],
      "metadata": {
        "colab": {
          "base_uri": "https://localhost:8080/",
          "height": 391
        },
        "id": "fGe-dPdQMZC4",
        "outputId": "e772d0b0-474f-4b12-844f-76107b34e108"
      },
      "execution_count": 26,
      "outputs": [
        {
          "output_type": "display_data",
          "data": {
            "text/plain": [
              "<Figure size 400x400 with 1 Axes>"
            ],
            "image/png": "[encoded data removed]"
          },
          "metadata": {}
        }
      ]
    },
    {
      "cell_type": "code",
      "source": [
        "ax = state[\"Murder.Rate\"].plot.hist(density=True, xlim=[0, 12], bins=range(1,12), figsize=(4, 4))\n",
        "state[\"Murder.Rate\"].plot.density(ax=ax)\n",
        "ax.set_xlabel(\"Murder Rate (per 100_000)\")"
      ],
      "metadata": {
        "colab": {
          "base_uri": "https://localhost:8080/",
          "height": 405
        },
        "id": "0t3tmaQxNXu_",
        "outputId": "c9a296f6-2739-42aa-b85c-6bf6cad59f17"
      },
      "execution_count": 27,
      "outputs": [
        {
          "output_type": "execute_result",
          "data": {
            "text/plain": [
              "Text(0.5, 0, 'Murder Rate (per 100_000)')"
            ]
          },
          "metadata": {},
          "execution_count": 27
        },
        {
          "output_type": "display_data",
          "data": {
            "text/plain": [
              "<Figure size 400x400 with 1 Axes>"
            ],
            "image/png": "[encoded data removed]"
          },
          "metadata": {}
        }
      ]
    },
    {
      "cell_type": "code",
      "source": [
        "AIRPORT_DELAYS_CSV = f\"{base}dfw_airline.csv\"\n",
        "dfw = pd.read_csv(AIRPORT_DELAYS_CSV)\n",
        "dfw.head()"
      ],
      "metadata": {
        "colab": {
          "base_uri": "https://localhost:8080/",
          "height": 81
        },
        "id": "GAucHZDKRXL5",
        "outputId": "b58cde41-aa85-4ff3-d156-883a79bfd36f"
      },
      "execution_count": 28,
      "outputs": [
        {
          "output_type": "execute_result",
          "data": {
            "text/plain": [
              "    Carrier      ATC   Weather  Security    Inbound\n",
              "0  64263.16  84856.5  11235.42    343.15  118427.82"
            ],
            "text/html": [
              "\n",
              "  <div id=\"df-99bdf537-ef7a-413d-9187-7d8479b493fe\">\n",
              "    <div class=\"colab-df-container\">\n",
              "      <div>\n",
              "<style scoped>\n",
              "    .dataframe tbody tr th:only-of-type {\n",
              "        vertical-align: middle;\n",
              "    }\n",
              "\n",
              "    .dataframe tbody tr th {\n",
              "        vertical-align: top;\n",
              "    }\n",
              "\n",
              "    .dataframe thead th {\n",
              "        text-align: right;\n",
              "    }\n",
              "</style>\n",
              "<table border=\"1\" class=\"dataframe\">\n",
              "  <thead>\n",
              "    <tr style=\"text-align: right;\">\n",
              "      <th></th>\n",
              "      <th>Carrier</th>\n",
              "      <th>ATC</th>\n",
              "      <th>Weather</th>\n",
              "      <th>Security</th>\n",
              "      <th>Inbound</th>\n",
              "    </tr>\n",
              "  </thead>\n",
              "  <tbody>\n",
              "    <tr>\n",
              "      <th>0</th>\n",
              "      <td>64263.16</td>\n",
              "      <td>84856.5</td>\n",
              "      <td>11235.42</td>\n",
              "      <td>343.15</td>\n",
              "      <td>118427.82</td>\n",
              "    </tr>\n",
              "  </tbody>\n",
              "</table>\n",
              "</div>\n",
              "      <button class=\"colab-df-convert\" onclick=\"convertToInteractive('df-99bdf537-ef7a-413d-9187-7d8479b493fe')\"\n",
              "              title=\"Convert this dataframe to an interactive table.\"\n",
              "              style=\"display:none;\">\n",
              "        \n",
              "  <svg xmlns=\"http://www.w3.org/2000/svg\" height=\"24px\"viewBox=\"0 0 24 24\"\n",
              "       width=\"24px\">\n",
              "    <path d=\"M0 0h24v24H0V0z\" fill=\"none\"/>\n",
              "    <path d=\"M18.56 5.44l.94 2.06.94-2.06 2.06-.94-2.06-.94-.94-2.06-.94 2.06-2.06.94zm-11 1L8.5 8.5l.94-2.06 2.06-.94-2.06-.94L8.5 2.5l-.94 2.06-2.06.94zm10 10l.94 2.06.94-2.06 2.06-.94-2.06-.94-.94-2.06-.94 2.06-2.06.94z\"/><path d=\"M17.41 7.96l-1.37-1.37c-.4-.4-.92-.59-1.43-.59-.52 0-1.04.2-1.43.59L10.3 9.45l-7.72 7.72c-.78.78-.78 2.05 0 2.83L4 21.41c.39.39.9.59 1.41.59.51 0 1.02-.2 1.41-.59l7.78-7.78 2.81-2.81c.8-.78.8-2.07 0-2.86zM5.41 20L4 18.59l7.72-7.72 1.47 1.35L5.41 20z\"/>\n",
              "  </svg>\n",
              "      </button>\n",
              "      \n",
              "  <style>\n",
              "    .colab-df-container {\n",
              "      display:flex;\n",
              "      flex-wrap:wrap;\n",
              "      gap: 12px;\n",
              "    }\n",
              "\n",
              "    .colab-df-convert {\n",
              "      background-color: #E8F0FE;\n",
              "      border: none;\n",
              "      border-radius: 50%;\n",
              "      cursor: pointer;\n",
              "      display: none;\n",
              "      fill: #1967D2;\n",
              "      height: 32px;\n",
              "      padding: 0 0 0 0;\n",
              "      width: 32px;\n",
              "    }\n",
              "\n",
              "    .colab-df-convert:hover {\n",
              "      background-color: #E2EBFA;\n",
              "      box-shadow: 0px 1px 2px rgba(60, 64, 67, 0.3), 0px 1px 3px 1px rgba(60, 64, 67, 0.15);\n",
              "      fill: #174EA6;\n",
              "    }\n",
              "\n",
              "    [theme=dark] .colab-df-convert {\n",
              "      background-color: #3B4455;\n",
              "      fill: #D2E3FC;\n",
              "    }\n",
              "\n",
              "    [theme=dark] .colab-df-convert:hover {\n",
              "      background-color: #434B5C;\n",
              "      box-shadow: 0px 1px 3px 1px rgba(0, 0, 0, 0.15);\n",
              "      filter: drop-shadow(0px 1px 2px rgba(0, 0, 0, 0.3));\n",
              "      fill: #FFFFFF;\n",
              "    }\n",
              "  </style>\n",
              "\n",
              "      <script>\n",
              "        const buttonEl =\n",
              "          document.querySelector('#df-99bdf537-ef7a-413d-9187-7d8479b493fe button.colab-df-convert');\n",
              "        buttonEl.style.display =\n",
              "          google.colab.kernel.accessAllowed ? 'block' : 'none';\n",
              "\n",
              "        async function convertToInteractive(key) {\n",
              "          const element = document.querySelector('#df-99bdf537-ef7a-413d-9187-7d8479b493fe');\n",
              "          const dataTable =\n",
              "            await google.colab.kernel.invokeFunction('convertToInteractive',\n",
              "                                                     [key], {});\n",
              "          if (!dataTable) return;\n",
              "\n",
              "          const docLinkHtml = 'Like what you see? Visit the ' +\n",
              "            '<a target=\"_blank\" href=https://colab.research.google.com/notebooks/data_table.ipynb>data table notebook</a>'\n",
              "            + ' to learn more about interactive tables.';\n",
              "          element.innerHTML = '';\n",
              "          dataTable['output_type'] = 'display_data';\n",
              "          await google.colab.output.renderOutput(dataTable, element);\n",
              "          const docLink = document.createElement('div');\n",
              "          docLink.innerHTML = docLinkHtml;\n",
              "          element.appendChild(docLink);\n",
              "        }\n",
              "      </script>\n",
              "    </div>\n",
              "  </div>\n",
              "  "
            ]
          },
          "metadata": {},
          "execution_count": 28
        }
      ]
    },
    {
      "cell_type": "code",
      "source": [
        "ax = dfw.transpose().plot.bar(figsize=(8, 8), legend=False)\n",
        "ax.set_xlabel(\"Cause of delay\")\n",
        "ax.set_ylabel(\"Count\")\n",
        "\n",
        "plt.show()"
      ],
      "metadata": {
        "colab": {
          "base_uri": "https://localhost:8080/",
          "height": 740
        },
        "id": "IRM7-6h5RsgJ",
        "outputId": "6dada293-bddf-4c90-98f3-12f2937aebc9"
      },
      "execution_count": 29,
      "outputs": [
        {
          "output_type": "display_data",
          "data": {
            "text/plain": [
              "<Figure size 800x800 with 1 Axes>"
            ],
            "image/png": "[encoded data removed]"
          },
          "metadata": {}
        }
      ]
    },
    {
      "cell_type": "code",
      "source": [
        "SP500_DATA_CSV = f\"{base}sp500_data.csv.gz\"\n",
        "SP500_SECTORS_CSV = f\"{base}sp500_sectors.csv\""
      ],
      "metadata": {
        "id": "E_VbIcy7SGU7"
      },
      "execution_count": 30,
      "outputs": []
    },
    {
      "cell_type": "code",
      "source": [
        "sp500_sym = pd.read_csv(SP500_SECTORS_CSV)\n",
        "sp500_sym.head()"
      ],
      "metadata": {
        "colab": {
          "base_uri": "https://localhost:8080/",
          "height": 206
        },
        "id": "zSz8-8wwTfPB",
        "outputId": "61583e67-efe1-4963-9855-dc7a6eaaf44e"
      },
      "execution_count": 31,
      "outputs": [
        {
          "output_type": "execute_result",
          "data": {
            "text/plain": [
              "                   sector sector_label                             sub_sector  \\\n",
              "0  information_technology   Technology  data_processing_&_outsourced_services   \n",
              "1  information_technology   Technology                       systems_software   \n",
              "2  information_technology   Technology                       systems_software   \n",
              "3  information_technology   Technology                       systems_software   \n",
              "4  information_technology   Technology               it_consulting_&_services   \n",
              "\n",
              "  symbol  \n",
              "0    ADS  \n",
              "1     CA  \n",
              "2   MSFT  \n",
              "3    RHT  \n",
              "4   CTSH  "
            ],
            "text/html": [
              "\n",
              "  <div id=\"df-0ae35b7d-61c3-42ac-950c-a2bad3b5b9aa\">\n",
              "    <div class=\"colab-df-container\">\n",
              "      <div>\n",
              "<style scoped>\n",
              "    .dataframe tbody tr th:only-of-type {\n",
              "        vertical-align: middle;\n",
              "    }\n",
              "\n",
              "    .dataframe tbody tr th {\n",
              "        vertical-align: top;\n",
              "    }\n",
              "\n",
              "    .dataframe thead th {\n",
              "        text-align: right;\n",
              "    }\n",
              "</style>\n",
              "<table border=\"1\" class=\"dataframe\">\n",
              "  <thead>\n",
              "    <tr style=\"text-align: right;\">\n",
              "      <th></th>\n",
              "      <th>sector</th>\n",
              "      <th>sector_label</th>\n",
              "      <th>sub_sector</th>\n",
              "      <th>symbol</th>\n",
              "    </tr>\n",
              "  </thead>\n",
              "  <tbody>\n",
              "    <tr>\n",
              "      <th>0</th>\n",
              "      <td>information_technology</td>\n",
              "      <td>Technology</td>\n",
              "      <td>data_processing_&amp;_outsourced_services</td>\n",
              "      <td>ADS</td>\n",
              "    </tr>\n",
              "    <tr>\n",
              "      <th>1</th>\n",
              "      <td>information_technology</td>\n",
              "      <td>Technology</td>\n",
              "      <td>systems_software</td>\n",
              "      <td>CA</td>\n",
              "    </tr>\n",
              "    <tr>\n",
              "      <th>2</th>\n",
              "      <td>information_technology</td>\n",
              "      <td>Technology</td>\n",
              "      <td>systems_software</td>\n",
              "      <td>MSFT</td>\n",
              "    </tr>\n",
              "    <tr>\n",
              "      <th>3</th>\n",
              "      <td>information_technology</td>\n",
              "      <td>Technology</td>\n",
              "      <td>systems_software</td>\n",
              "      <td>RHT</td>\n",
              "    </tr>\n",
              "    <tr>\n",
              "      <th>4</th>\n",
              "      <td>information_technology</td>\n",
              "      <td>Technology</td>\n",
              "      <td>it_consulting_&amp;_services</td>\n",
              "      <td>CTSH</td>\n",
              "    </tr>\n",
              "  </tbody>\n",
              "</table>\n",
              "</div>\n",
              "      <button class=\"colab-df-convert\" onclick=\"convertToInteractive('df-0ae35b7d-61c3-42ac-950c-a2bad3b5b9aa')\"\n",
              "              title=\"Convert this dataframe to an interactive table.\"\n",
              "              style=\"display:none;\">\n",
              "        \n",
              "  <svg xmlns=\"http://www.w3.org/2000/svg\" height=\"24px\"viewBox=\"0 0 24 24\"\n",
              "       width=\"24px\">\n",
              "    <path d=\"M0 0h24v24H0V0z\" fill=\"none\"/>\n",
              "    <path d=\"M18.56 5.44l.94 2.06.94-2.06 2.06-.94-2.06-.94-.94-2.06-.94 2.06-2.06.94zm-11 1L8.5 8.5l.94-2.06 2.06-.94-2.06-.94L8.5 2.5l-.94 2.06-2.06.94zm10 10l.94 2.06.94-2.06 2.06-.94-2.06-.94-.94-2.06-.94 2.06-2.06.94z\"/><path d=\"M17.41 7.96l-1.37-1.37c-.4-.4-.92-.59-1.43-.59-.52 0-1.04.2-1.43.59L10.3 9.45l-7.72 7.72c-.78.78-.78 2.05 0 2.83L4 21.41c.39.39.9.59 1.41.59.51 0 1.02-.2 1.41-.59l7.78-7.78 2.81-2.81c.8-.78.8-2.07 0-2.86zM5.41 20L4 18.59l7.72-7.72 1.47 1.35L5.41 20z\"/>\n",
              "  </svg>\n",
              "      </button>\n",
              "      \n",
              "  <style>\n",
              "    .colab-df-container {\n",
              "      display:flex;\n",
              "      flex-wrap:wrap;\n",
              "      gap: 12px;\n",
              "    }\n",
              "\n",
              "    .colab-df-convert {\n",
              "      background-color: #E8F0FE;\n",
              "      border: none;\n",
              "      border-radius: 50%;\n",
              "      cursor: pointer;\n",
              "      display: none;\n",
              "      fill: #1967D2;\n",
              "      height: 32px;\n",
              "      padding: 0 0 0 0;\n",
              "      width: 32px;\n",
              "    }\n",
              "\n",
              "    .colab-df-convert:hover {\n",
              "      background-color: #E2EBFA;\n",
              "      box-shadow: 0px 1px 2px rgba(60, 64, 67, 0.3), 0px 1px 3px 1px rgba(60, 64, 67, 0.15);\n",
              "      fill: #174EA6;\n",
              "    }\n",
              "\n",
              "    [theme=dark] .colab-df-convert {\n",
              "      background-color: #3B4455;\n",
              "      fill: #D2E3FC;\n",
              "    }\n",
              "\n",
              "    [theme=dark] .colab-df-convert:hover {\n",
              "      background-color: #434B5C;\n",
              "      box-shadow: 0px 1px 3px 1px rgba(0, 0, 0, 0.15);\n",
              "      filter: drop-shadow(0px 1px 2px rgba(0, 0, 0, 0.3));\n",
              "      fill: #FFFFFF;\n",
              "    }\n",
              "  </style>\n",
              "\n",
              "      <script>\n",
              "        const buttonEl =\n",
              "          document.querySelector('#df-0ae35b7d-61c3-42ac-950c-a2bad3b5b9aa button.colab-df-convert');\n",
              "        buttonEl.style.display =\n",
              "          google.colab.kernel.accessAllowed ? 'block' : 'none';\n",
              "\n",
              "        async function convertToInteractive(key) {\n",
              "          const element = document.querySelector('#df-0ae35b7d-61c3-42ac-950c-a2bad3b5b9aa');\n",
              "          const dataTable =\n",
              "            await google.colab.kernel.invokeFunction('convertToInteractive',\n",
              "                                                     [key], {});\n",
              "          if (!dataTable) return;\n",
              "\n",
              "          const docLinkHtml = 'Like what you see? Visit the ' +\n",
              "            '<a target=\"_blank\" href=https://colab.research.google.com/notebooks/data_table.ipynb>data table notebook</a>'\n",
              "            + ' to learn more about interactive tables.';\n",
              "          element.innerHTML = '';\n",
              "          dataTable['output_type'] = 'display_data';\n",
              "          await google.colab.output.renderOutput(dataTable, element);\n",
              "          const docLink = document.createElement('div');\n",
              "          docLink.innerHTML = docLinkHtml;\n",
              "          element.appendChild(docLink);\n",
              "        }\n",
              "      </script>\n",
              "    </div>\n",
              "  </div>\n",
              "  "
            ]
          },
          "metadata": {},
          "execution_count": 31
        }
      ]
    },
    {
      "cell_type": "code",
      "source": [
        "len(sp500_sym)"
      ],
      "metadata": {
        "colab": {
          "base_uri": "https://localhost:8080/"
        },
        "id": "7HYfBYcJT0OY",
        "outputId": "d091123f-88de-46cf-885a-bb7e71241ac3"
      },
      "execution_count": 33,
      "outputs": [
        {
          "output_type": "execute_result",
          "data": {
            "text/plain": [
              "517"
            ]
          },
          "metadata": {},
          "execution_count": 33
        }
      ]
    },
    {
      "cell_type": "code",
      "source": [
        "sp500_px = pd.read_csv(SP500_DATA_CSV, index_col=0)\n",
        "sp500_px.head()"
      ],
      "metadata": {
        "colab": {
          "base_uri": "https://localhost:8080/",
          "height": 386
        },
        "id": "aeUN9pGXTnT_",
        "outputId": "bf41970d-0785-448a-f01a-2988a59d075f"
      },
      "execution_count": 32,
      "outputs": [
        {
          "output_type": "execute_result",
          "data": {
            "text/plain": [
              "            ADS        CA      MSFT  RHT  CTSH       CSC       EMC       IBM  \\\n",
              "1993-01-29  0.0  0.060124 -0.022100  0.0   0.0  0.018897  0.007368  0.092165   \n",
              "1993-02-01  0.0 -0.180389  0.027621  0.0   0.0  0.018889  0.018425  0.115207   \n",
              "1993-02-02  0.0 -0.120257  0.035900  0.0   0.0 -0.075573  0.029482 -0.023041   \n",
              "1993-02-03  0.0  0.060124 -0.024857  0.0   0.0 -0.151128  0.003689 -0.253454   \n",
              "1993-02-04  0.0 -0.360770 -0.060757  0.0   0.0  0.113350 -0.022114  0.069862   \n",
              "\n",
              "                 XRX      ALTR  ...  WAT  ALXN     AMGN  BXLT     BIIB  \\\n",
              "1993-01-29  0.259140 -0.007105  ...  0.0   0.0  0.34716   0.0  0.04167   \n",
              "1993-02-01 -0.100775  0.063893  ...  0.0   0.0 -0.23144   0.0  0.00000   \n",
              "1993-02-02  0.028796 -0.014192  ...  0.0   0.0 -0.11572   0.0  0.00000   \n",
              "1993-02-03 -0.043190 -0.007105  ...  0.0   0.0 -0.08679   0.0  0.04167   \n",
              "1993-02-04  0.000000 -0.007096  ...  0.0   0.0  0.14465   0.0 -0.04166   \n",
              "\n",
              "               CELG      GILD  REGN    VRTX  HSIC  \n",
              "1993-01-29  0.00000  0.015564  1.75  0.1250   0.0  \n",
              "1993-02-01 -0.01041  0.007782  1.25  0.1250   0.0  \n",
              "1993-02-02  0.00000 -0.007792 -0.25  0.0000   0.0  \n",
              "1993-02-03 -0.04167 -0.038919 -0.50  0.0625   0.0  \n",
              "1993-02-04 -0.03126 -0.046711  0.00  0.0625   0.0  \n",
              "\n",
              "[5 rows x 517 columns]"
            ],
            "text/html": [
              "\n",
              "  <div id=\"df-6972910a-62ff-42f2-b9a3-223385f4beb6\">\n",
              "    <div class=\"colab-df-container\">\n",
              "      <div>\n",
              "<style scoped>\n",
              "    .dataframe tbody tr th:only-of-type {\n",
              "        vertical-align: middle;\n",
              "    }\n",
              "\n",
              "    .dataframe tbody tr th {\n",
              "        vertical-align: top;\n",
              "    }\n",
              "\n",
              "    .dataframe thead th {\n",
              "        text-align: right;\n",
              "    }\n",
              "</style>\n",
              "<table border=\"1\" class=\"dataframe\">\n",
              "  <thead>\n",
              "    <tr style=\"text-align: right;\">\n",
              "      <th></th>\n",
              "      <th>ADS</th>\n",
              "      <th>CA</th>\n",
              "      <th>MSFT</th>\n",
              "      <th>RHT</th>\n",
              "      <th>CTSH</th>\n",
              "      <th>CSC</th>\n",
              "      <th>EMC</th>\n",
              "      <th>IBM</th>\n",
              "      <th>XRX</th>\n",
              "      <th>ALTR</th>\n",
              "      <th>...</th>\n",
              "      <th>WAT</th>\n",
              "      <th>ALXN</th>\n",
              "      <th>AMGN</th>\n",
              "      <th>BXLT</th>\n",
              "      <th>BIIB</th>\n",
              "      <th>CELG</th>\n",
              "      <th>GILD</th>\n",
              "      <th>REGN</th>\n",
              "      <th>VRTX</th>\n",
              "      <th>HSIC</th>\n",
              "    </tr>\n",
              "  </thead>\n",
              "  <tbody>\n",
              "    <tr>\n",
              "      <th>1993-01-29</th>\n",
              "      <td>0.0</td>\n",
              "      <td>0.060124</td>\n",
              "      <td>-0.022100</td>\n",
              "      <td>0.0</td>\n",
              "      <td>0.0</td>\n",
              "      <td>0.018897</td>\n",
              "      <td>0.007368</td>\n",
              "      <td>0.092165</td>\n",
              "      <td>0.259140</td>\n",
              "      <td>-0.007105</td>\n",
              "      <td>...</td>\n",
              "      <td>0.0</td>\n",
              "      <td>0.0</td>\n",
              "      <td>0.34716</td>\n",
              "      <td>0.0</td>\n",
              "      <td>0.04167</td>\n",
              "      <td>0.00000</td>\n",
              "      <td>0.015564</td>\n",
              "      <td>1.75</td>\n",
              "      <td>0.1250</td>\n",
              "      <td>0.0</td>\n",
              "    </tr>\n",
              "    <tr>\n",
              "      <th>1993-02-01</th>\n",
              "      <td>0.0</td>\n",
              "      <td>-0.180389</td>\n",
              "      <td>0.027621</td>\n",
              "      <td>0.0</td>\n",
              "      <td>0.0</td>\n",
              "      <td>0.018889</td>\n",
              "      <td>0.018425</td>\n",
              "      <td>0.115207</td>\n",
              "      <td>-0.100775</td>\n",
              "      <td>0.063893</td>\n",
              "      <td>...</td>\n",
              "      <td>0.0</td>\n",
              "      <td>0.0</td>\n",
              "      <td>-0.23144</td>\n",
              "      <td>0.0</td>\n",
              "      <td>0.00000</td>\n",
              "      <td>-0.01041</td>\n",
              "      <td>0.007782</td>\n",
              "      <td>1.25</td>\n",
              "      <td>0.1250</td>\n",
              "      <td>0.0</td>\n",
              "    </tr>\n",
              "    <tr>\n",
              "      <th>1993-02-02</th>\n",
              "      <td>0.0</td>\n",
              "      <td>-0.120257</td>\n",
              "      <td>0.035900</td>\n",
              "      <td>0.0</td>\n",
              "      <td>0.0</td>\n",
              "      <td>-0.075573</td>\n",
              "      <td>0.029482</td>\n",
              "      <td>-0.023041</td>\n",
              "      <td>0.028796</td>\n",
              "      <td>-0.014192</td>\n",
              "      <td>...</td>\n",
              "      <td>0.0</td>\n",
              "      <td>0.0</td>\n",
              "      <td>-0.11572</td>\n",
              "      <td>0.0</td>\n",
              "      <td>0.00000</td>\n",
              "      <td>0.00000</td>\n",
              "      <td>-0.007792</td>\n",
              "      <td>-0.25</td>\n",
              "      <td>0.0000</td>\n",
              "      <td>0.0</td>\n",
              "    </tr>\n",
              "    <tr>\n",
              "      <th>1993-02-03</th>\n",
              "      <td>0.0</td>\n",
              "      <td>0.060124</td>\n",
              "      <td>-0.024857</td>\n",
              "      <td>0.0</td>\n",
              "      <td>0.0</td>\n",
              "      <td>-0.151128</td>\n",
              "      <td>0.003689</td>\n",
              "      <td>-0.253454</td>\n",
              "      <td>-0.043190</td>\n",
              "      <td>-0.007105</td>\n",
              "      <td>...</td>\n",
              "      <td>0.0</td>\n",
              "      <td>0.0</td>\n",
              "      <td>-0.08679</td>\n",
              "      <td>0.0</td>\n",
              "      <td>0.04167</td>\n",
              "      <td>-0.04167</td>\n",
              "      <td>-0.038919</td>\n",
              "      <td>-0.50</td>\n",
              "      <td>0.0625</td>\n",
              "      <td>0.0</td>\n",
              "    </tr>\n",
              "    <tr>\n",
              "      <th>1993-02-04</th>\n",
              "      <td>0.0</td>\n",
              "      <td>-0.360770</td>\n",
              "      <td>-0.060757</td>\n",
              "      <td>0.0</td>\n",
              "      <td>0.0</td>\n",
              "      <td>0.113350</td>\n",
              "      <td>-0.022114</td>\n",
              "      <td>0.069862</td>\n",
              "      <td>0.000000</td>\n",
              "      <td>-0.007096</td>\n",
              "      <td>...</td>\n",
              "      <td>0.0</td>\n",
              "      <td>0.0</td>\n",
              "      <td>0.14465</td>\n",
              "      <td>0.0</td>\n",
              "      <td>-0.04166</td>\n",
              "      <td>-0.03126</td>\n",
              "      <td>-0.046711</td>\n",
              "      <td>0.00</td>\n",
              "      <td>0.0625</td>\n",
              "      <td>0.0</td>\n",
              "    </tr>\n",
              "  </tbody>\n",
              "</table>\n",
              "<p>5 rows × 517 columns</p>\n",
              "</div>\n",
              "      <button class=\"colab-df-convert\" onclick=\"convertToInteractive('df-6972910a-62ff-42f2-b9a3-223385f4beb6')\"\n",
              "              title=\"Convert this dataframe to an interactive table.\"\n",
              "              style=\"display:none;\">\n",
              "        \n",
              "  <svg xmlns=\"http://www.w3.org/2000/svg\" height=\"24px\"viewBox=\"0 0 24 24\"\n",
              "       width=\"24px\">\n",
              "    <path d=\"M0 0h24v24H0V0z\" fill=\"none\"/>\n",
              "    <path d=\"M18.56 5.44l.94 2.06.94-2.06 2.06-.94-2.06-.94-.94-2.06-.94 2.06-2.06.94zm-11 1L8.5 8.5l.94-2.06 2.06-.94-2.06-.94L8.5 2.5l-.94 2.06-2.06.94zm10 10l.94 2.06.94-2.06 2.06-.94-2.06-.94-.94-2.06-.94 2.06-2.06.94z\"/><path d=\"M17.41 7.96l-1.37-1.37c-.4-.4-.92-.59-1.43-.59-.52 0-1.04.2-1.43.59L10.3 9.45l-7.72 7.72c-.78.78-.78 2.05 0 2.83L4 21.41c.39.39.9.59 1.41.59.51 0 1.02-.2 1.41-.59l7.78-7.78 2.81-2.81c.8-.78.8-2.07 0-2.86zM5.41 20L4 18.59l7.72-7.72 1.47 1.35L5.41 20z\"/>\n",
              "  </svg>\n",
              "      </button>\n",
              "      \n",
              "  <style>\n",
              "    .colab-df-container {\n",
              "      display:flex;\n",
              "      flex-wrap:wrap;\n",
              "      gap: 12px;\n",
              "    }\n",
              "\n",
              "    .colab-df-convert {\n",
              "      background-color: #E8F0FE;\n",
              "      border: none;\n",
              "      border-radius: 50%;\n",
              "      cursor: pointer;\n",
              "      display: none;\n",
              "      fill: #1967D2;\n",
              "      height: 32px;\n",
              "      padding: 0 0 0 0;\n",
              "      width: 32px;\n",
              "    }\n",
              "\n",
              "    .colab-df-convert:hover {\n",
              "      background-color: #E2EBFA;\n",
              "      box-shadow: 0px 1px 2px rgba(60, 64, 67, 0.3), 0px 1px 3px 1px rgba(60, 64, 67, 0.15);\n",
              "      fill: #174EA6;\n",
              "    }\n",
              "\n",
              "    [theme=dark] .colab-df-convert {\n",
              "      background-color: #3B4455;\n",
              "      fill: #D2E3FC;\n",
              "    }\n",
              "\n",
              "    [theme=dark] .colab-df-convert:hover {\n",
              "      background-color: #434B5C;\n",
              "      box-shadow: 0px 1px 3px 1px rgba(0, 0, 0, 0.15);\n",
              "      filter: drop-shadow(0px 1px 2px rgba(0, 0, 0, 0.3));\n",
              "      fill: #FFFFFF;\n",
              "    }\n",
              "  </style>\n",
              "\n",
              "      <script>\n",
              "        const buttonEl =\n",
              "          document.querySelector('#df-6972910a-62ff-42f2-b9a3-223385f4beb6 button.colab-df-convert');\n",
              "        buttonEl.style.display =\n",
              "          google.colab.kernel.accessAllowed ? 'block' : 'none';\n",
              "\n",
              "        async function convertToInteractive(key) {\n",
              "          const element = document.querySelector('#df-6972910a-62ff-42f2-b9a3-223385f4beb6');\n",
              "          const dataTable =\n",
              "            await google.colab.kernel.invokeFunction('convertToInteractive',\n",
              "                                                     [key], {});\n",
              "          if (!dataTable) return;\n",
              "\n",
              "          const docLinkHtml = 'Like what you see? Visit the ' +\n",
              "            '<a target=\"_blank\" href=https://colab.research.google.com/notebooks/data_table.ipynb>data table notebook</a>'\n",
              "            + ' to learn more about interactive tables.';\n",
              "          element.innerHTML = '';\n",
              "          dataTable['output_type'] = 'display_data';\n",
              "          await google.colab.output.renderOutput(dataTable, element);\n",
              "          const docLink = document.createElement('div');\n",
              "          docLink.innerHTML = docLinkHtml;\n",
              "          element.appendChild(docLink);\n",
              "        }\n",
              "      </script>\n",
              "    </div>\n",
              "  </div>\n",
              "  "
            ]
          },
          "metadata": {},
          "execution_count": 32
        }
      ]
    },
    {
      "cell_type": "code",
      "source": [
        "etfs = sp500_px.loc[sp500_px.index > \"2012-07-01\", sp500_sym[sp500_sym[\"sector\"] == \"etf\"][\"symbol\"]]\n",
        "etfs.head()"
      ],
      "metadata": {
        "colab": {
          "base_uri": "https://localhost:8080/",
          "height": 357
        },
        "id": "k2Qsu8CmT4D8",
        "outputId": "71a7b9fc-3f9c-40e9-d046-19f80b47638e"
      },
      "execution_count": 34,
      "outputs": [
        {
          "output_type": "execute_result",
          "data": {
            "text/plain": [
              "                 XLI       QQQ       SPY       DIA       GLD    VXX       USO  \\\n",
              "2012-07-02 -0.376098  0.096313  0.028223 -0.242796  0.419998 -10.40  0.000000   \n",
              "2012-07-03  0.376099  0.481576  0.874936  0.728405  0.490006  -3.52  0.250000   \n",
              "2012-07-05  0.150440  0.096313 -0.103487  0.149420  0.239991   6.56 -0.070000   \n",
              "2012-07-06 -0.141040 -0.491201  0.018819 -0.205449 -0.519989  -8.80 -0.180000   \n",
              "2012-07-09  0.244465 -0.048160 -0.056445 -0.168094  0.429992  -0.48  0.459999   \n",
              "\n",
              "                 IWM       XLE       XLY       XLU       XLB       XTL  \\\n",
              "2012-07-02  0.534641  0.028186  0.095759  0.098311 -0.093713  0.019076   \n",
              "2012-07-03  0.926067  0.995942  0.000000 -0.044686  0.337373  0.000000   \n",
              "2012-07-05 -0.171848 -0.460387  0.306431 -0.151938  0.103086  0.019072   \n",
              "2012-07-06 -0.229128  0.206706  0.153214  0.080437  0.018744 -0.429213   \n",
              "2012-07-09 -0.190939 -0.234892 -0.201098 -0.035751 -0.168687  0.000000   \n",
              "\n",
              "                 XLV       XLP       XLF       XLK  \n",
              "2012-07-02 -0.009529  0.313499  0.018999  0.075668  \n",
              "2012-07-03  0.000000  0.129087  0.104492  0.236462  \n",
              "2012-07-05 -0.142955 -0.073766 -0.142490  0.066211  \n",
              "2012-07-06 -0.095304  0.119865  0.066495 -0.227003  \n",
              "2012-07-09  0.352630 -0.064548  0.018999  0.009457  "
            ],
            "text/html": [
              "\n",
              "  <div id=\"df-bcc3f20f-b22a-4672-9551-e6b45ac76666\">\n",
              "    <div class=\"colab-df-container\">\n",
              "      <div>\n",
              "<style scoped>\n",
              "    .dataframe tbody tr th:only-of-type {\n",
              "        vertical-align: middle;\n",
              "    }\n",
              "\n",
              "    .dataframe tbody tr th {\n",
              "        vertical-align: top;\n",
              "    }\n",
              "\n",
              "    .dataframe thead th {\n",
              "        text-align: right;\n",
              "    }\n",
              "</style>\n",
              "<table border=\"1\" class=\"dataframe\">\n",
              "  <thead>\n",
              "    <tr style=\"text-align: right;\">\n",
              "      <th></th>\n",
              "      <th>XLI</th>\n",
              "      <th>QQQ</th>\n",
              "      <th>SPY</th>\n",
              "      <th>DIA</th>\n",
              "      <th>GLD</th>\n",
              "      <th>VXX</th>\n",
              "      <th>USO</th>\n",
              "      <th>IWM</th>\n",
              "      <th>XLE</th>\n",
              "      <th>XLY</th>\n",
              "      <th>XLU</th>\n",
              "      <th>XLB</th>\n",
              "      <th>XTL</th>\n",
              "      <th>XLV</th>\n",
              "      <th>XLP</th>\n",
              "      <th>XLF</th>\n",
              "      <th>XLK</th>\n",
              "    </tr>\n",
              "  </thead>\n",
              "  <tbody>\n",
              "    <tr>\n",
              "      <th>2012-07-02</th>\n",
              "      <td>-0.376098</td>\n",
              "      <td>0.096313</td>\n",
              "      <td>0.028223</td>\n",
              "      <td>-0.242796</td>\n",
              "      <td>0.419998</td>\n",
              "      <td>-10.40</td>\n",
              "      <td>0.000000</td>\n",
              "      <td>0.534641</td>\n",
              "      <td>0.028186</td>\n",
              "      <td>0.095759</td>\n",
              "      <td>0.098311</td>\n",
              "      <td>-0.093713</td>\n",
              "      <td>0.019076</td>\n",
              "      <td>-0.009529</td>\n",
              "      <td>0.313499</td>\n",
              "      <td>0.018999</td>\n",
              "      <td>0.075668</td>\n",
              "    </tr>\n",
              "    <tr>\n",
              "      <th>2012-07-03</th>\n",
              "      <td>0.376099</td>\n",
              "      <td>0.481576</td>\n",
              "      <td>0.874936</td>\n",
              "      <td>0.728405</td>\n",
              "      <td>0.490006</td>\n",
              "      <td>-3.52</td>\n",
              "      <td>0.250000</td>\n",
              "      <td>0.926067</td>\n",
              "      <td>0.995942</td>\n",
              "      <td>0.000000</td>\n",
              "      <td>-0.044686</td>\n",
              "      <td>0.337373</td>\n",
              "      <td>0.000000</td>\n",
              "      <td>0.000000</td>\n",
              "      <td>0.129087</td>\n",
              "      <td>0.104492</td>\n",
              "      <td>0.236462</td>\n",
              "    </tr>\n",
              "    <tr>\n",
              "      <th>2012-07-05</th>\n",
              "      <td>0.150440</td>\n",
              "      <td>0.096313</td>\n",
              "      <td>-0.103487</td>\n",
              "      <td>0.149420</td>\n",
              "      <td>0.239991</td>\n",
              "      <td>6.56</td>\n",
              "      <td>-0.070000</td>\n",
              "      <td>-0.171848</td>\n",
              "      <td>-0.460387</td>\n",
              "      <td>0.306431</td>\n",
              "      <td>-0.151938</td>\n",
              "      <td>0.103086</td>\n",
              "      <td>0.019072</td>\n",
              "      <td>-0.142955</td>\n",
              "      <td>-0.073766</td>\n",
              "      <td>-0.142490</td>\n",
              "      <td>0.066211</td>\n",
              "    </tr>\n",
              "    <tr>\n",
              "      <th>2012-07-06</th>\n",
              "      <td>-0.141040</td>\n",
              "      <td>-0.491201</td>\n",
              "      <td>0.018819</td>\n",
              "      <td>-0.205449</td>\n",
              "      <td>-0.519989</td>\n",
              "      <td>-8.80</td>\n",
              "      <td>-0.180000</td>\n",
              "      <td>-0.229128</td>\n",
              "      <td>0.206706</td>\n",
              "      <td>0.153214</td>\n",
              "      <td>0.080437</td>\n",
              "      <td>0.018744</td>\n",
              "      <td>-0.429213</td>\n",
              "      <td>-0.095304</td>\n",
              "      <td>0.119865</td>\n",
              "      <td>0.066495</td>\n",
              "      <td>-0.227003</td>\n",
              "    </tr>\n",
              "    <tr>\n",
              "      <th>2012-07-09</th>\n",
              "      <td>0.244465</td>\n",
              "      <td>-0.048160</td>\n",
              "      <td>-0.056445</td>\n",
              "      <td>-0.168094</td>\n",
              "      <td>0.429992</td>\n",
              "      <td>-0.48</td>\n",
              "      <td>0.459999</td>\n",
              "      <td>-0.190939</td>\n",
              "      <td>-0.234892</td>\n",
              "      <td>-0.201098</td>\n",
              "      <td>-0.035751</td>\n",
              "      <td>-0.168687</td>\n",
              "      <td>0.000000</td>\n",
              "      <td>0.352630</td>\n",
              "      <td>-0.064548</td>\n",
              "      <td>0.018999</td>\n",
              "      <td>0.009457</td>\n",
              "    </tr>\n",
              "  </tbody>\n",
              "</table>\n",
              "</div>\n",
              "      <button class=\"colab-df-convert\" onclick=\"convertToInteractive('df-bcc3f20f-b22a-4672-9551-e6b45ac76666')\"\n",
              "              title=\"Convert this dataframe to an interactive table.\"\n",
              "              style=\"display:none;\">\n",
              "        \n",
              "  <svg xmlns=\"http://www.w3.org/2000/svg\" height=\"24px\"viewBox=\"0 0 24 24\"\n",
              "       width=\"24px\">\n",
              "    <path d=\"M0 0h24v24H0V0z\" fill=\"none\"/>\n",
              "    <path d=\"M18.56 5.44l.94 2.06.94-2.06 2.06-.94-2.06-.94-.94-2.06-.94 2.06-2.06.94zm-11 1L8.5 8.5l.94-2.06 2.06-.94-2.06-.94L8.5 2.5l-.94 2.06-2.06.94zm10 10l.94 2.06.94-2.06 2.06-.94-2.06-.94-.94-2.06-.94 2.06-2.06.94z\"/><path d=\"M17.41 7.96l-1.37-1.37c-.4-.4-.92-.59-1.43-.59-.52 0-1.04.2-1.43.59L10.3 9.45l-7.72 7.72c-.78.78-.78 2.05 0 2.83L4 21.41c.39.39.9.59 1.41.59.51 0 1.02-.2 1.41-.59l7.78-7.78 2.81-2.81c.8-.78.8-2.07 0-2.86zM5.41 20L4 18.59l7.72-7.72 1.47 1.35L5.41 20z\"/>\n",
              "  </svg>\n",
              "      </button>\n",
              "      \n",
              "  <style>\n",
              "    .colab-df-container {\n",
              "      display:flex;\n",
              "      flex-wrap:wrap;\n",
              "      gap: 12px;\n",
              "    }\n",
              "\n",
              "    .colab-df-convert {\n",
              "      background-color: #E8F0FE;\n",
              "      border: none;\n",
              "      border-radius: 50%;\n",
              "      cursor: pointer;\n",
              "      display: none;\n",
              "      fill: #1967D2;\n",
              "      height: 32px;\n",
              "      padding: 0 0 0 0;\n",
              "      width: 32px;\n",
              "    }\n",
              "\n",
              "    .colab-df-convert:hover {\n",
              "      background-color: #E2EBFA;\n",
              "      box-shadow: 0px 1px 2px rgba(60, 64, 67, 0.3), 0px 1px 3px 1px rgba(60, 64, 67, 0.15);\n",
              "      fill: #174EA6;\n",
              "    }\n",
              "\n",
              "    [theme=dark] .colab-df-convert {\n",
              "      background-color: #3B4455;\n",
              "      fill: #D2E3FC;\n",
              "    }\n",
              "\n",
              "    [theme=dark] .colab-df-convert:hover {\n",
              "      background-color: #434B5C;\n",
              "      box-shadow: 0px 1px 3px 1px rgba(0, 0, 0, 0.15);\n",
              "      filter: drop-shadow(0px 1px 2px rgba(0, 0, 0, 0.3));\n",
              "      fill: #FFFFFF;\n",
              "    }\n",
              "  </style>\n",
              "\n",
              "      <script>\n",
              "        const buttonEl =\n",
              "          document.querySelector('#df-bcc3f20f-b22a-4672-9551-e6b45ac76666 button.colab-df-convert');\n",
              "        buttonEl.style.display =\n",
              "          google.colab.kernel.accessAllowed ? 'block' : 'none';\n",
              "\n",
              "        async function convertToInteractive(key) {\n",
              "          const element = document.querySelector('#df-bcc3f20f-b22a-4672-9551-e6b45ac76666');\n",
              "          const dataTable =\n",
              "            await google.colab.kernel.invokeFunction('convertToInteractive',\n",
              "                                                     [key], {});\n",
              "          if (!dataTable) return;\n",
              "\n",
              "          const docLinkHtml = 'Like what you see? Visit the ' +\n",
              "            '<a target=\"_blank\" href=https://colab.research.google.com/notebooks/data_table.ipynb>data table notebook</a>'\n",
              "            + ' to learn more about interactive tables.';\n",
              "          element.innerHTML = '';\n",
              "          dataTable['output_type'] = 'display_data';\n",
              "          await google.colab.output.renderOutput(dataTable, element);\n",
              "          const docLink = document.createElement('div');\n",
              "          docLink.innerHTML = docLinkHtml;\n",
              "          element.appendChild(docLink);\n",
              "        }\n",
              "      </script>\n",
              "    </div>\n",
              "  </div>\n",
              "  "
            ]
          },
          "metadata": {},
          "execution_count": 34
        }
      ]
    },
    {
      "cell_type": "code",
      "source": [
        "fig, ax = plt.subplots(figsize=(10, 8))\n",
        "ax = sns.heatmap(etfs.corr(), vmin=-1, vmax=1, cmap=sns.diverging_palette(20, 220, as_cmap=True), ax=ax)\n",
        "plt.show()"
      ],
      "metadata": {
        "colab": {
          "base_uri": "https://localhost:8080/",
          "height": 682
        },
        "id": "kPc_qY0hUcZ7",
        "outputId": "dfefd1cf-8d08-4fa7-a90f-76df9b69f687"
      },
      "execution_count": 35,
      "outputs": [
        {
          "output_type": "display_data",
          "data": {
            "text/plain": [
              "<Figure size 1000x800 with 2 Axes>"
            ],
            "image/png": "[encoded data removed]"
          },
          "metadata": {}
        }
      ]
    }
  ]
}