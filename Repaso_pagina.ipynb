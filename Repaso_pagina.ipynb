{
  "nbformat": 4,
  "nbformat_minor": 0,
  "metadata": {
    "colab": {
      "name": "Repaso pagina.ipynb",
      "provenance": [],
      "collapsed_sections": [],
      "authorship_tag": "ABX9TyMKzBW3g7Pqtb23oL7ymWSx",
      "include_colab_link": true
    },
    "kernelspec": {
      "name": "python3",
      "display_name": "Python 3"
    },
    "language_info": {
      "name": "python"
    }
  },
  "cells": [
    {
      "cell_type": "markdown",
      "metadata": {
        "id": "view-in-github",
        "colab_type": "text"
      },
      "source": [
        "<a href=\"https://colab.research.google.com/github/JeffersonEspinalA/Prueba/blob/main/Repaso_pagina.ipynb\" target=\"_parent\"><img src=\"https://colab.research.google.com/assets/colab-badge.svg\" alt=\"Open In Colab\"/></a>"
      ]
    },
    {
      "cell_type": "markdown",
      "source": [
        "https://onlinejudge.org/index.php?option=onlinejudge&Itemid=8&category=303"
      ],
      "metadata": {
        "id": "2RbOnLS6Ucal"
      }
    },
    {
      "cell_type": "markdown",
      "source": [
        "https://onlinejudge.org/index.php?option=onlinejudge&Itemid=8&category=381&page=show_problem&problem=277"
      ],
      "metadata": {
        "id": "Ayed1_PuUXVm"
      }
    },
    {
      "cell_type": "code",
      "execution_count": null,
      "metadata": {
        "colab": {
          "base_uri": "https://localhost:8080/"
        },
        "id": "tk4ulJ2XMQDQ",
        "outputId": "32291a83-b082-4c43-da5a-477eb4e2926c"
      },
      "outputs": [
        {
          "output_type": "stream",
          "name": "stdout",
          "text": [
            "Overwriting eduardo.roman\n"
          ]
        }
      ],
      "source": [
        "%%file eduardo.roman\n",
        "5\n",
        "2 3 3 4 6\n",
        "3 1 2 3 7 5 6\n",
        "1 4 5\n",
        "0\n",
        "1 4 7\n",
        "2 4\n",
        "2\n",
        "1 2 5\n",
        "1 1 6\n",
        "1 2\n",
        "7\n",
        "4 2 5 3 13 4 8 5 18\n",
        "2 3 7 6 14\n",
        "1 6 6\n",
        "2 3 5 5 9\n",
        "3 6 2 7 9 4 6\n",
        "1 7 2\n",
        "0\n",
        "1 7\n",
        "0"
      ]
    },
    {
      "cell_type": "code",
      "source": [
        "import math\n",
        "import heapq as hq"
      ],
      "metadata": {
        "id": "7ocv1lWsSmvH"
      },
      "execution_count": null,
      "outputs": []
    },
    {
      "cell_type": "code",
      "source": [
        "def dijkstra(G, s):\n",
        "  n = len(G)\n",
        "  visited = [False]*n\n",
        "  path = [-1]*n\n",
        "  cost = [math.inf]*n\n",
        "\n",
        "  cost[s] = 0\n",
        "  pqueue = [(0, s)]\n",
        "  while pqueue:\n",
        "    g, u = hq.heappop(pqueue)\n",
        "    if not visited[u]:\n",
        "      visited[u] = True\n",
        "      for v, w in G[u]:\n",
        "        if not visited[v]:\n",
        "          f = g + w\n",
        "          if f < cost[v]:\n",
        "            cost[v] = f\n",
        "            path[v] = u\n",
        "            hq.heappush(pqueue, (f, v))\n",
        "\n",
        "  return path, cost"
      ],
      "metadata": {
        "id": "pYVA28x6SdVB"
      },
      "execution_count": null,
      "outputs": []
    },
    {
      "cell_type": "code",
      "source": [
        "def spath(path, cost, t, p, c):\n",
        "  if path[t] != -1:\n",
        "    spath(path, cost, path[t], p, c)\n",
        "  p.append(t+1)\n",
        "  c.append(cost[t])"
      ],
      "metadata": {
        "id": "U-xU5IYZU9xg"
      },
      "execution_count": null,
      "outputs": []
    },
    {
      "cell_type": "code",
      "source": [
        "with open(\"eduardo.roman\") as f:\n",
        "  while True:\n",
        "    NI = int(f.readline().strip())\n",
        "    if NI == 0: break\n",
        "\n",
        "    G = []\n",
        "    for u in range(NI):\n",
        "      nums = [int(x) for x in f.readline().strip().split()]\n",
        "      numVertices = nums[0]\n",
        "      G.append([])\n",
        "      for v in range(numVertices):\n",
        "        G[u].append((nums[v * 2 + 1] - 1, nums[v * 2 + 2]))\n",
        "    \n",
        "    s, t = [int(x) for x in f.readline().split()]\n",
        "    path, cost = dijkstra(G, s-1)\n",
        "    #pendiente path\n",
        "    p = []\n",
        "    c = []\n",
        "    spath(path, cost, t-1, p, c)\n",
        "    print(f\"Case {u + 1}: Path = {p}; {cost[t-1]} second delay\")"
      ],
      "metadata": {
        "colab": {
          "base_uri": "https://localhost:8080/"
        },
        "id": "tXfqEAizNJAg",
        "outputId": "eae13c67-a86e-4a22-881c-ff4fb6335166"
      },
      "execution_count": null,
      "outputs": [
        {
          "output_type": "stream",
          "name": "stdout",
          "text": [
            "Case 5: Path = [2, 1, 4]; 8 second delay\n",
            "Case 2: Path = [1, 2]; 5 second delay\n",
            "Case 7: Path = [1, 2, 3, 6, 7]; 20 second delay\n"
          ]
        }
      ]
    },
    {
      "cell_type": "code",
      "source": [
        ""
      ],
      "metadata": {
        "id": "IQn_6r_zXgdi"
      },
      "execution_count": null,
      "outputs": []
    }
  ]
}