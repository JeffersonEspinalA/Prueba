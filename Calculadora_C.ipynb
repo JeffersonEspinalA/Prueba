{
  "nbformat": 4,
  "nbformat_minor": 0,
  "metadata": {
    "colab": {
      "provenance": [],
      "authorship_tag": "ABX9TyNsux/u8M0otkzp1rmOaN+4",
      "include_colab_link": true
    },
    "kernelspec": {
      "name": "python3",
      "display_name": "Python 3"
    },
    "language_info": {
      "name": "python"
    }
  },
  "cells": [
    {
      "cell_type": "markdown",
      "metadata": {
        "id": "view-in-github",
        "colab_type": "text"
      },
      "source": [
        "<a href=\"https://colab.research.google.com/github/JeffersonEspinalA/Prueba/blob/main/Calculadora_C.ipynb\" target=\"_parent\"><img src=\"https://colab.research.google.com/assets/colab-badge.svg\" alt=\"Open In Colab\"/></a>"
      ]
    },
    {
      "cell_type": "code",
      "execution_count": 1,
      "metadata": {
        "colab": {
          "base_uri": "https://localhost:8080/"
        },
        "id": "Yqv5UGjlWTdI",
        "outputId": "8d3c864b-5189-47fe-ce88-b8a565c4c99e"
      },
      "outputs": [
        {
          "output_type": "stream",
          "name": "stdout",
          "text": [
            "Reading package lists... Done\n",
            "Building dependency tree       \n",
            "Reading state information... Done\n",
            "The following additional packages will be installed:\n",
            "  libfl-dev libfl2\n",
            "Suggested packages:\n",
            "  bison flex-doc\n",
            "The following NEW packages will be installed:\n",
            "  flex libfl-dev libfl2\n",
            "0 upgraded, 3 newly installed, 0 to remove and 24 not upgraded.\n",
            "Need to get 334 kB of archives.\n",
            "After this operation, 1,127 kB of additional disk space will be used.\n",
            "Get:1 http://archive.ubuntu.com/ubuntu focal/main amd64 flex amd64 2.6.4-6.2 [317 kB]\n",
            "Get:2 http://archive.ubuntu.com/ubuntu focal/main amd64 libfl2 amd64 2.6.4-6.2 [11.5 kB]\n",
            "Get:3 http://archive.ubuntu.com/ubuntu focal/main amd64 libfl-dev amd64 2.6.4-6.2 [6,316 B]\n",
            "Fetched 334 kB in 1s (426 kB/s)\n",
            "debconf: unable to initialize frontend: Dialog\n",
            "debconf: (No usable dialog-like program is installed, so the dialog based frontend cannot be used. at /usr/share/perl5/Debconf/FrontEnd/Dialog.pm line 76, <> line 3.)\n",
            "debconf: falling back to frontend: Readline\n",
            "debconf: unable to initialize frontend: Readline\n",
            "debconf: (This frontend requires a controlling tty.)\n",
            "debconf: falling back to frontend: Teletype\n",
            "dpkg-preconfigure: unable to re-open stdin: \n",
            "Selecting previously unselected package flex.\n",
            "(Reading database ... 122518 files and directories currently installed.)\n",
            "Preparing to unpack .../flex_2.6.4-6.2_amd64.deb ...\n",
            "Unpacking flex (2.6.4-6.2) ...\n",
            "Selecting previously unselected package libfl2:amd64.\n",
            "Preparing to unpack .../libfl2_2.6.4-6.2_amd64.deb ...\n",
            "Unpacking libfl2:amd64 (2.6.4-6.2) ...\n",
            "Selecting previously unselected package libfl-dev:amd64.\n",
            "Preparing to unpack .../libfl-dev_2.6.4-6.2_amd64.deb ...\n",
            "Unpacking libfl-dev:amd64 (2.6.4-6.2) ...\n",
            "Setting up flex (2.6.4-6.2) ...\n",
            "Setting up libfl2:amd64 (2.6.4-6.2) ...\n",
            "Setting up libfl-dev:amd64 (2.6.4-6.2) ...\n",
            "Processing triggers for man-db (2.9.1-1) ...\n",
            "Processing triggers for libc-bin (2.31-0ubuntu9.9) ...\n",
            "Reading package lists... Done\n",
            "Building dependency tree       \n",
            "Reading state information... Done\n",
            "Suggested packages:\n",
            "  bison-doc\n",
            "The following NEW packages will be installed:\n",
            "  bison\n",
            "0 upgraded, 1 newly installed, 0 to remove and 24 not upgraded.\n",
            "Need to get 657 kB of archives.\n",
            "After this operation, 2,028 kB of additional disk space will be used.\n",
            "Get:1 http://archive.ubuntu.com/ubuntu focal/main amd64 bison amd64 2:3.5.1+dfsg-1 [657 kB]\n",
            "Fetched 657 kB in 1s (882 kB/s)\n",
            "debconf: unable to initialize frontend: Dialog\n",
            "debconf: (No usable dialog-like program is installed, so the dialog based frontend cannot be used. at /usr/share/perl5/Debconf/FrontEnd/Dialog.pm line 76, <> line 1.)\n",
            "debconf: falling back to frontend: Readline\n",
            "debconf: unable to initialize frontend: Readline\n",
            "debconf: (This frontend requires a controlling tty.)\n",
            "debconf: falling back to frontend: Teletype\n",
            "dpkg-preconfigure: unable to re-open stdin: \n",
            "Selecting previously unselected package bison.\n",
            "(Reading database ... 122608 files and directories currently installed.)\n",
            "Preparing to unpack .../bison_2%3a3.5.1+dfsg-1_amd64.deb ...\n",
            "Unpacking bison (2:3.5.1+dfsg-1) ...\n",
            "Setting up bison (2:3.5.1+dfsg-1) ...\n",
            "update-alternatives: using /usr/bin/bison.yacc to provide /usr/bin/yacc (yacc) in auto mode\n",
            "Processing triggers for man-db (2.9.1-1) ...\n"
          ]
        }
      ],
      "source": [
        "!sudo apt install flex\n",
        "!sudo apt install bison"
      ]
    },
    {
      "cell_type": "code",
      "source": [
        "%%file calc.l\n",
        "%{\n",
        "\n",
        "#include \"calc.h\"\n",
        "#include \"calc.tab.h\"\n",
        "\n",
        "%}\n",
        "\n",
        "NUM ([0-9]+\\.[0-9]+|([0-9]+\\.)|(\\.[0-9]+)|([0-9]+))([Ee][+\\-]?[0-9]+)?\n",
        "FUN (atan)|(cos)|(exp)|(ln)|(sin)|(sqrt)\n",
        "VAR [A-Za-z_][A-Za-z_0-9]*\n",
        "OP [+\\-*/=\\^()\\n]\n",
        "\n",
        "%%\n",
        "\n",
        "{OP}          { return yytext[0]; }\n",
        "{FUN}         { yylval.VAR = getsym(yytext); return FUN; }\n",
        "{VAR}         {\n",
        "\tsymrec* s = getsym(yytext);\n",
        "\tif (!s) s = putsym(yytext, VAR);\n",
        "\tyylval.VAR = s;\n",
        "\treturn VAR; }\n",
        "{NUM}         { yylval.NUM = atof(yytext); return NUM; }\n",
        "[ \\t]         ;\n",
        ".             ; /* unknown token */\n",
        "\n",
        "%%"
      ],
      "metadata": {
        "colab": {
          "base_uri": "https://localhost:8080/"
        },
        "id": "nxy58blSW45-",
        "outputId": "3282f76a-f8fb-4ab6-ef40-0a759453c8fa"
      },
      "execution_count": 2,
      "outputs": [
        {
          "output_type": "stream",
          "name": "stdout",
          "text": [
            "Writing calc.l\n"
          ]
        }
      ]
    },
    {
      "cell_type": "code",
      "source": [
        "%%file calc.y\n",
        "%{\n",
        "\n",
        "/* código C, importar scanner */\n",
        "#include <stdlib.h>\n",
        "#include <ctype.h>\n",
        "#include <stdio.h>\n",
        "#include <math.h>\n",
        "\n",
        "#include \"calc.h\"\n",
        "\n",
        "int yylex(void);\n",
        "void yyerror(char const* s) {\n",
        "\tfprintf(stderr, \"%s\\n\", s);\n",
        "}\n",
        "\n",
        "%}\n",
        "\n",
        "%define api.value.type union\n",
        "%token <double> NUM\n",
        "%token <symrec*> VAR FUN\n",
        "%nterm <double> exp\n",
        "\n",
        "%precedence '='\n",
        "%left '-' '+'\n",
        "%left '*' '/'\n",
        "%precedence NEG\n",
        "%right '^'\n",
        "\n",
        "%verbose\n",
        "\n",
        "%define parse.trace\n",
        "\n",
        "%printer { fprintf(yyo, \"%s\", $$->name); } VAR;\n",
        "%printer { fprintf(yyo, \"%s()\", $$->name); } FUN;\n",
        "%printer { fprintf(yyo, \"%g\", $$); } <double>;\n",
        "\n",
        "%%\n",
        "\n",
        "input\n",
        "\t: %empty\n",
        "\t| input line\n",
        "\t;\n",
        "\n",
        "line\n",
        "\t: '\\n'\n",
        "\t| exp '\\n'                 { printf(\"= %f\\n\", $1); }\n",
        "\t| error '\\n'               { yyerrok; }\n",
        "\t;\n",
        "\n",
        "exp\n",
        "\t: NUM\n",
        "\t| VAR                      {\n",
        "\t\tif ($1->init)\n",
        "\t\t\t$$ = $1->value.var;\n",
        "\t\telse {\n",
        "\t\t\tyyerror(\"undef var\");\n",
        "\t\t\tyyerrok;\n",
        "\t\t}\n",
        "\t}\n",
        "\t| VAR '=' exp              { $$ = $3; $1->value.var = $3; $1->init = 1; }\n",
        "\t| FUN '(' exp ')'          { $$ = $1->value.fun($3); }\n",
        "\t| exp '+' exp              { $$ = $1 + $3; }\n",
        "\t| exp '-' exp              { $$ = $1 - $3; }\n",
        "\t| exp '*' exp              { $$ = $1 * $3; }\n",
        "\t| exp '/' exp              { $$ = $1 / $3; }\n",
        "\t| '-' exp %prec NEG        { $$ = -$2; }\n",
        "\t| exp '^' exp              { $$ = pow($1, $3); }\n",
        "\t| '(' exp ')'              { $$ = $2; }\n",
        "\t;\n",
        "\n",
        "%%\n",
        "\n",
        "struct init {\n",
        "\tchar const* name;\n",
        "\tfunc_t* fun;\n",
        "};\n",
        "\n",
        "struct init const funs[] = {\n",
        "\t{ \"atan\", atan },\n",
        "\t{ \"cos\", cos },\n",
        "\t{ \"exp\", exp },\n",
        "\t{ \"ln\", log },\n",
        "\t{ \"sin\", sin },\n",
        "\t{ \"sqrt\", sqrt },\n",
        "\t{ 0, 0 },\n",
        "};\n",
        "\n",
        "symrec* sym_table;\n",
        "\n",
        "static void init_table(void) {\n",
        "\tfor (int i = 0; funs[i].name; ++i) {\n",
        "\t\tsymrec* ptr = putsym(funs[i].name, FUN);\n",
        "\t\tptr->value.fun = funs[i].fun;\n",
        "\t\tptr->init = 1;\n",
        "\t}\n",
        "}\n",
        "\n",
        "#include <assert.h>\n",
        "#include <stdlib.h>\n",
        "#include <string.h>\n",
        "\n",
        "symrec* putsym(char const* name, int sym_type) {\n",
        "\tsymrec* res = (symrec*) malloc(sizeof(symrec));\n",
        "\tres->name = strdup(name);\n",
        "\tres->type = sym_type;\n",
        "\tres->value.var = 0;\n",
        "\tres->init = 0;\n",
        "\tres->next = sym_table;\n",
        "\tsym_table = res;\n",
        "\treturn res;\n",
        "}\n",
        "\n",
        "symrec* getsym(char const* name) {\n",
        "\tfor (symrec* p = sym_table; p; p = p->next) {\n",
        "\t\tif (strcmp(p->name, name) == 0) {\n",
        "\t\t\treturn p;\n",
        "\t\t}\n",
        "\t}\n",
        "\treturn NULL;\n",
        "}\n",
        "\n",
        "int main(int argc, char const* argv[]) {\n",
        "\tif (argc == 2 && strcmp(argv[1], \"-p\") == 0) {\n",
        "\t\tyydebug = 1;\n",
        "\t}\n",
        "\tinit_table();\n",
        "\treturn yyparse();\n",
        "}"
      ],
      "metadata": {
        "colab": {
          "base_uri": "https://localhost:8080/"
        },
        "id": "QrGETkFoXGVv",
        "outputId": "f34617f8-a86c-48fa-eb9b-b76e816f6cb3"
      },
      "execution_count": 3,
      "outputs": [
        {
          "output_type": "stream",
          "name": "stdout",
          "text": [
            "Writing calc.y\n"
          ]
        }
      ]
    },
    {
      "cell_type": "code",
      "source": [
        "%%file calc.h\n",
        "#ifndef __CALC_H__\n",
        "#define __CALC_H__\n",
        "\n",
        "typedef double (func_t)(double);\n",
        "\n",
        "/* based on GNU Bison's implementation */\n",
        "/* linked list node for symbol table */\n",
        "struct symrec {\n",
        "\tchar* name;\n",
        "\tint type;\n",
        "\tunion {\n",
        "\t\tdouble var;\n",
        "\t\tfunc_t *fun;\n",
        "\t} value;\n",
        "\tint init;\n",
        "\tstruct symrec* next;\n",
        "};\n",
        "\n",
        "typedef struct symrec symrec;\n",
        "\n",
        "extern symrec* sym_table;\n",
        "\n",
        "symrec* putsym(char const* name, int sym_type);\n",
        "symrec* getsym(char const* name);\n",
        "\n",
        "\n",
        "#endif"
      ],
      "metadata": {
        "colab": {
          "base_uri": "https://localhost:8080/"
        },
        "id": "UHH2dVbjXQRf",
        "outputId": "e6fb9146-a599-4f2b-a379-e16effe26990"
      },
      "execution_count": 4,
      "outputs": [
        {
          "output_type": "stream",
          "name": "stdout",
          "text": [
            "Writing calc.h\n"
          ]
        }
      ]
    },
    {
      "cell_type": "code",
      "source": [
        "%%file Makefile\n",
        "CC := gcc\n",
        "CP := cp\n",
        "RM := rm -rf\n",
        "MD := mkdir -p\n",
        "YACC := bison\n",
        "LEX := flex\n",
        "\n",
        "CCFLAGS += -lfl -lm\n",
        "YACCFLAGS += -d\n",
        "\n",
        "all: calc.tab.c lex.yy.c\n",
        "\t$(CC) calc.tab.c lex.yy.c $(CCFLAGS)\n",
        "\n",
        "run:\n",
        "\t./a.out\n",
        "\n",
        "calc.tab.c:\n",
        "\t$(YACC) $(YACCFLAGS) calc.y\n",
        "\n",
        "lex.yy.c:\n",
        "\t$(LEX) calc.l\n",
        "\n",
        "clean:\n",
        "\t$(RM) a.out\n",
        "\t$(RM) calc.tab.c\n",
        "\t$(RM) calc.tab.h\n",
        "\t$(RM) lex.yy.c\n",
        "\t$(RM) calc.output"
      ],
      "metadata": {
        "colab": {
          "base_uri": "https://localhost:8080/"
        },
        "id": "YyVodWwXXWPo",
        "outputId": "c418aa68-27cf-4305-b74a-25c6df61e848"
      },
      "execution_count": 5,
      "outputs": [
        {
          "output_type": "stream",
          "name": "stdout",
          "text": [
            "Writing Makefile\n"
          ]
        }
      ]
    },
    {
      "cell_type": "code",
      "source": [
        "!make"
      ],
      "metadata": {
        "colab": {
          "base_uri": "https://localhost:8080/"
        },
        "id": "5W8-1FhxXboC",
        "outputId": "8ab18b1c-56fb-4820-9aaa-c72ca5d8dc28"
      },
      "execution_count": 6,
      "outputs": [
        {
          "output_type": "stream",
          "name": "stdout",
          "text": [
            "bison -d calc.y\n",
            "flex calc.l\n",
            "gcc calc.tab.c lex.yy.c -lfl -lm\n"
          ]
        }
      ]
    },
    {
      "cell_type": "code",
      "source": [
        "!./a.out"
      ],
      "metadata": {
        "colab": {
          "base_uri": "https://localhost:8080/"
        },
        "id": "FmD9_qnyXmEz",
        "outputId": "e1bdbf4e-0e9e-4f6c-9c59-62313dd28469"
      },
      "execution_count": 7,
      "outputs": [
        {
          "output_type": "stream",
          "name": "stdout",
          "text": [
            "45\n",
            "= 45.000000\n",
            "34 54.3 +\n",
            "syntax error\n",
            "3 + 2\n",
            "= 5.000000\n",
            "^C\n"
          ]
        }
      ]
    }
  ]
}