{
  "nbformat": 4,
  "nbformat_minor": 0,
  "metadata": {
    "colab": {
      "provenance": [],
      "authorship_tag": "ABX9TyNj4kpZqjFPLW+eal808VLX",
      "include_colab_link": true
    },
    "kernelspec": {
      "name": "python3",
      "display_name": "Python 3"
    },
    "language_info": {
      "name": "python"
    }
  },
  "cells": [
    {
      "cell_type": "markdown",
      "metadata": {
        "id": "view-in-github",
        "colab_type": "text"
      },
      "source": [
        "<a href=\"https://colab.research.google.com/github/JeffersonEspinalA/Prueba/blob/main/tc_14_04_23_1.ipynb\" target=\"_parent\"><img src=\"https://colab.research.google.com/assets/colab-badge.svg\" alt=\"Open In Colab\"/></a>"
      ]
    },
    {
      "cell_type": "code",
      "execution_count": null,
      "metadata": {
        "colab": {
          "base_uri": "https://localhost:8080/"
        },
        "id": "NURpINoRo-6S",
        "outputId": "edf891da-a1a0-4d80-e539-dd3e4b235846"
      },
      "outputs": [
        {
          "output_type": "stream",
          "name": "stdout",
          "text": [
            "Reading package lists... Done\n",
            "Building dependency tree       \n",
            "Reading state information... Done\n",
            "bison is already the newest version (2:3.5.1+dfsg-1).\n",
            "0 upgraded, 0 newly installed, 0 to remove and 24 not upgraded.\n"
          ]
        }
      ],
      "source": [
        "!sudo apt install bison"
      ]
    },
    {
      "cell_type": "code",
      "source": [
        "%%file parser1.y\n",
        "\n",
        "%{\n",
        "  #include <stdio.h>\n",
        "  #include <stdlib.h>\n",
        "  #include <math.h>\n",
        "  \n",
        "  int yylex(void);\n",
        "  void yyerror(char const*);\n",
        "%}\n",
        "\n",
        "%define api.value.type { double }\n",
        "%token NUM\n",
        "\n",
        "%%\n",
        "\n",
        "input:\n",
        "    %empty\n",
        "  | input line\n",
        "  ;\n",
        "\n",
        "line:\n",
        "    '\\n'\n",
        "  | exp '\\n'      { printf(\"ANS: %.10g\\n\", $1); }\n",
        "  ;\n",
        "\n",
        "exp:\n",
        "    NUM\n",
        "  | exp exp '+'   { $$ = $1 + $2; }\n",
        "  | exp exp '-'   { $$ = $1 - $2; }\n",
        "  | exp exp '*'   { $$ = $1 * $2; }\n",
        "  | exp exp '/'   { $$ = $1 / $2; }\n",
        "  /*| exp exp '^'   { $$ = pow($1, $2); }*/\n",
        "  | exp 'n'       { $$ = -$1; }\n",
        "  ;\n",
        "\n",
        "%%\n",
        "\n",
        "int yylex(void) {\n",
        "  int c = getchar();\n",
        "  while (c == ' ' || c == '\\t') {\n",
        "    c = getchar();\n",
        "  }\n",
        "  if (c == '.' || (c >= '0' && c <= '9')) {\n",
        "    ungetc(c, stdin);\n",
        "    if (scanf(\"%lf\", &yylval) != 1) {\n",
        "      abort();\n",
        "    }\n",
        "    return NUM;\n",
        "  } else if (c == EOF) {\n",
        "    return YYEOF;\n",
        "  } else {\n",
        "    return c;\n",
        "  }\n",
        "}\n",
        "\n",
        "void yyerror(char const* s) {\n",
        "  fprintf(stderr, \"%s\\n\", s);\n",
        "}\n",
        "\n",
        "int main(void) {\n",
        "  return yyparse();\n",
        "}\n"
      ],
      "metadata": {
        "colab": {
          "base_uri": "https://localhost:8080/"
        },
        "id": "DMIAtJxApqGS",
        "outputId": "7e271cf8-8f71-4928-d251-48bccb8f1511"
      },
      "execution_count": null,
      "outputs": [
        {
          "output_type": "stream",
          "name": "stdout",
          "text": [
            "Overwriting parser1.y\n"
          ]
        }
      ]
    },
    {
      "cell_type": "code",
      "source": [
        "!bison parser1.y"
      ],
      "metadata": {
        "id": "PlwqDjUuzlIc"
      },
      "execution_count": null,
      "outputs": []
    },
    {
      "cell_type": "code",
      "source": [
        "!gcc parser1.tab.c"
      ],
      "metadata": {
        "id": "q744cop7002S"
      },
      "execution_count": null,
      "outputs": []
    },
    {
      "cell_type": "code",
      "source": [
        "!./a.out"
      ],
      "metadata": {
        "colab": {
          "base_uri": "https://localhost:8080/"
        },
        "id": "sdU1GONT1reF",
        "outputId": "ce34a4c8-12aa-402c-e984-5fcb05d65126"
      },
      "execution_count": null,
      "outputs": [
        {
          "output_type": "stream",
          "name": "stdout",
          "text": [
            "5\n",
            "ANS: 5\n",
            "6\n",
            "ANS: 6\n",
            "5 4 +\n",
            "ANS: 9\n",
            "23 4 -\n",
            "ANS: 19\n",
            "1 2 3 4 5 + + + +\n",
            "ANS: 15\n",
            "^C\n"
          ]
        }
      ]
    }
  ]
}