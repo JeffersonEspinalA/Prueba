{
  "cells": [
    {
      "cell_type": "markdown",
      "metadata": {
        "id": "view-in-github",
        "colab_type": "text"
      },
      "source": [
        "<a href=\"https://colab.research.google.com/github/JeffersonEspinalA/Prueba/blob/main/RNA_Predice_Numeros.ipynb\" target=\"_parent\"><img src=\"https://colab.research.google.com/assets/colab-badge.svg\" alt=\"Open In Colab\"/></a>"
      ]
    },
    {
      "cell_type": "markdown",
      "metadata": {
        "id": "tE7f55YPHwVZ"
      },
      "source": [
        "<h3 align=\"center\">Inteligencia Artificial - WS7A</h3> "
      ]
    },
    {
      "cell_type": "markdown",
      "metadata": {
        "id": "9SZlunhhHwVZ"
      },
      "source": [
        "### Predicción de números manuscritos utilizando Redes Neuronales Artificiales (RNA)"
      ]
    },
    {
      "cell_type": "markdown",
      "metadata": {
        "id": "9Sc3U7o7HwVa"
      },
      "source": [
        "El **conjunto de datos MNIST** es un acrónimo que significa el conjunto de datos **Modified National Institute of Standards and Technology**.\n",
        "\n",
        "Es un conjunto de datos de 60.000 imágenes cuadradas pequeñas de 28 × 28 píxeles en escala de grises de un solo dígito escritas a mano entre 0 y 9.\n",
        "\n",
        "Es un conjunto de datos ampliamente utilizado y ampliamente comprendido y, en su mayor parte, está **\"resuelto\"**. Los modelos de mejor rendimiento son redes neuronales convolucionales de aprendizaje profundo que logran una precisión de clasificación superior al 99%, con una tasa de error de entre 0,4% y 0,2% en el conjunto de datos de prueba de retención."
      ]
    },
    {
      "cell_type": "markdown",
      "metadata": {
        "id": "VMFqPnPlHwVa"
      },
      "source": [
        "Gráfico de un subconjunto de imágenes del conjunto de datos MNIST ![MNIST-Dataset-1024x768.png](attachment:MNIST-Dataset-1024x768.png)"
      ]
    },
    {
      "cell_type": "markdown",
      "metadata": {
        "id": "GtchqasQHwVa"
      },
      "source": [
        "#### OBJETIVO"
      ]
    },
    {
      "cell_type": "markdown",
      "metadata": {
        "id": "nTJok4BbHwVb"
      },
      "source": [
        "La tarea consiste en clasificar una imagen determinada de un dígito escrito a mano en una de las 10 clases que representan valores enteros del 0 al 9, utilizando redes neuronales artificiales (RNA)"
      ]
    },
    {
      "cell_type": "markdown",
      "metadata": {
        "id": "GvyDOWORHwVb"
      },
      "source": [
        "#### 1. Importar las librerías necesarias"
      ]
    },
    {
      "cell_type": "markdown",
      "metadata": {
        "id": "124QjgsQHwVc"
      },
      "source": [
        "En este notebook se utilizará el dataset **MNIST** ubicado en en módulo de Tensorflow \"tensorflow_datasets\".  \n",
        "\n",
        "Para instalarlo, ejecutar:\n",
        "\n",
        "**pip install tensorflow_datasets**\n"
      ]
    },
    {
      "cell_type": "code",
      "execution_count": null,
      "metadata": {
        "id": "NrTdHOJwHwVc"
      },
      "outputs": [],
      "source": [
        "from __future__ import absolute_import, division, print_function, unicode_literals\n",
        "\n",
        "import tensorflow as tf\n",
        "import tensorflow_datasets as tfds\n",
        "\n",
        "import math\n",
        "import numpy as np\n",
        "import matplotlib.pyplot as plt\n",
        "# logging proporciona un marco flexible para emitir mensajes de registro desde programas Python\n",
        "import logging "
      ]
    },
    {
      "cell_type": "code",
      "execution_count": null,
      "metadata": {
        "id": "6R0AFPV8HwVd"
      },
      "outputs": [],
      "source": [
        "logger = tf.get_logger()\n",
        "\n",
        "logger.setLevel(logging.ERROR)"
      ]
    },
    {
      "cell_type": "markdown",
      "metadata": {
        "id": "ET_OzGXvHwVd"
      },
      "source": [
        "#### 2. Obtener el conjunto de datos y metadatos"
      ]
    },
    {
      "cell_type": "code",
      "execution_count": null,
      "metadata": {
        "colab": {
          "base_uri": "https://localhost:8080/",
          "height": 85,
          "referenced_widgets": [
            "66c4d4c0c0d94dc2bf41a81f3da7f873",
            "044256a216924c4da2342a004f49a859",
            "5ec6e618acc446d989524847cafbb33c",
            "f9c9d668f048484db2065b63004f8ceb",
            "67fc31bb0ea44b0aaa437f6c3959cb9f",
            "d4d7cdbabf244801a70ab457f2ab8b73",
            "81b78fe3e44141a69a54c16f21256ce0",
            "aa06f51e7690475481874abdf2b0fde8",
            "a2bde29900e342a3a429162e74dc1af1",
            "e4740e4e7574427a8510124541f7439f",
            "d5bc68e488a340f19f00c162e72ef973"
          ]
        },
        "id": "U9dUU4V-HwVd",
        "outputId": "70cb5c7f-d868-4f08-afb2-f9c5784c8613"
      },
      "outputs": [
        {
          "output_type": "stream",
          "name": "stdout",
          "text": [
            "\u001b[1mDownloading and preparing dataset 11.06 MiB (download: 11.06 MiB, generated: 21.00 MiB, total: 32.06 MiB) to ~/tensorflow_datasets/mnist/3.0.1...\u001b[0m\n"
          ]
        },
        {
          "output_type": "display_data",
          "data": {
            "text/plain": [
              "Dl Completed...:   0%|          | 0/4 [00:00<?, ? file/s]"
            ],
            "application/vnd.jupyter.widget-view+json": {
              "version_major": 2,
              "version_minor": 0,
              "model_id": "66c4d4c0c0d94dc2bf41a81f3da7f873"
            }
          },
          "metadata": {}
        },
        {
          "output_type": "stream",
          "name": "stdout",
          "text": [
            "\u001b[1mDataset mnist downloaded and prepared to ~/tensorflow_datasets/mnist/3.0.1. Subsequent calls will reuse this data.\u001b[0m\n"
          ]
        }
      ],
      "source": [
        "# Desde la libreria tensorflow_datasets\n",
        "dataset, metadata = tfds.load('mnist', as_supervised=True, with_info=True)\n",
        "\n",
        "#Obtenemos los 60,000 datos de entranmiento (train_dataset) y los 10,000 para evaluacion o prueba en test_dataset\n",
        "train_dataset, test_dataset = dataset['train'], dataset['test']"
      ]
    },
    {
      "cell_type": "markdown",
      "metadata": {
        "id": "vfmV1hTFHwVe"
      },
      "source": [
        "#### 3. Preparar los datos"
      ]
    },
    {
      "cell_type": "markdown",
      "metadata": {
        "id": "pB5_YYLNHwVe"
      },
      "source": [
        "* Definición de etiquetas de salida para visualizar el resultado de la red"
      ]
    },
    {
      "cell_type": "code",
      "execution_count": null,
      "metadata": {
        "id": "vV2ElLtMHwVf"
      },
      "outputs": [],
      "source": [
        "# Deficinion de etiquetas de texto para cada posible salida de la red\n",
        "class_names = [\n",
        "    'Cero', 'Uno', 'Dos', 'Tres', 'Cuatro', 'Cinco', 'Seis',\n",
        "    'Siete', 'Ocho', 'Nueve'\n",
        "]"
      ]
    },
    {
      "cell_type": "markdown",
      "metadata": {
        "id": "S-kHL2cnHwVf"
      },
      "source": [
        "* Obtenemos en variables ejemplos de los datos de entrenamiento y prueba"
      ]
    },
    {
      "cell_type": "code",
      "execution_count": null,
      "metadata": {
        "id": "vGgGQtK8HwVf"
      },
      "outputs": [],
      "source": [
        "# Obtencion de datos de ejemlo en variables\n",
        "num_train_examples = metadata.splits['train'].num_examples #60,000 datos\n",
        "num_test_examples = metadata.splits['test'].num_examples # 10,000 datos"
      ]
    },
    {
      "cell_type": "markdown",
      "metadata": {
        "id": "x8LlZDmnHwVf"
      },
      "source": [
        "* Creamos una función para normalizar los datos de cada imagen, donde el rango de los pixels sera de [0 a 1] en lugar de 0 a 255"
      ]
    },
    {
      "cell_type": "code",
      "execution_count": null,
      "metadata": {
        "id": "6zDOvV2qHwVf"
      },
      "outputs": [],
      "source": [
        "#Normalizar: Numeros de 0 a 255, que sean de 0 a 1\n",
        "def normalize(images, labels):\n",
        "    images = tf.cast(images, tf.float32)\n",
        "    images /= 255\n",
        "    return images, labels"
      ]
    },
    {
      "cell_type": "code",
      "execution_count": null,
      "metadata": {
        "id": "qRcETvoPHwVf"
      },
      "outputs": [],
      "source": [
        "# Ejecutamos la funcion de normalizacion en cada conjunto de datos (entrenamiento y pruebas)\n",
        "train_dataset = train_dataset.map(normalize)\n",
        "test_dataset = test_dataset.map(normalize)"
      ]
    },
    {
      "cell_type": "markdown",
      "metadata": {
        "id": "LmDhRs53HwVg"
      },
      "source": [
        "#### 4. Definir la estructura de la red"
      ]
    },
    {
      "cell_type": "markdown",
      "metadata": {
        "id": "BFIkqqNxHwVg"
      },
      "source": [
        "Los datos deberan ingresar a la red en una forma cuadrada de 28 x 28 (pixeles) por tanto, la capa de entrada de la red tendra 784 neuronas.\n",
        "\n",
        "Adicionalmente, utilizaremos dos capas ocultas densas de 64 neuronas cada una y la capa de salida contara con 10 neuronas (1 neurona para clasificar los numeros de entrada del 0 al 9).\n",
        "\n",
        "Utilizamos la funcion de activacion \"relu\" para las capas ocultas y \"softmax\" para la capa de salida (para las redes de clasificación)."
      ]
    },
    {
      "cell_type": "code",
      "execution_count": null,
      "metadata": {
        "id": "cIjIc_kqHwVg"
      },
      "outputs": [],
      "source": [
        "#Estructura de la red\n",
        "model = tf.keras.Sequential([\n",
        "    tf.keras.layers.Flatten(input_shape=(28,28,1)),     # Capa de entrada con 784 neuronas 28 * 28 = 784\n",
        "    tf.keras.layers.Dense(64, activation=tf.nn.relu),   # Capa oculta #1 con 64 neuronas\n",
        "    tf.keras.layers.Dense(64, activation=tf.nn.relu),   # Capa oculta #2 con 64 neuronas\n",
        "    tf.keras.layers.Dense(10, activation=tf.nn.softmax) # Capa de salida (nos proporciona el resultado de la clasificacion\n",
        "])"
      ]
    },
    {
      "cell_type": "markdown",
      "metadata": {
        "id": "IeHFLPVaHwVg"
      },
      "source": [
        "#### 5. Crear y entrenar el modelo"
      ]
    },
    {
      "cell_type": "markdown",
      "metadata": {
        "id": "IfZf0bUOHwVg"
      },
      "source": [
        "Al crear el modelo, se debe especificar la función de costo a utilizar y el optimizador.\n",
        "\n",
        "En nuestro caso, utilizaremos el optimizador \"adam\", el tipo de perdida (error) \"sparse_categorical_crossentropy\" y \"accuracy\" como tipo de metricas para evaluar el resultado.\n"
      ]
    },
    {
      "cell_type": "code",
      "execution_count": null,
      "metadata": {
        "id": "KaJik_ZqHwVg"
      },
      "outputs": [],
      "source": [
        "#Indicar las funciones a utilizar\n",
        "model.compile(\n",
        "    optimizer='adam',\n",
        "    loss='sparse_categorical_crossentropy',\n",
        "    metrics=['accuracy']\n",
        ")"
      ]
    },
    {
      "cell_type": "markdown",
      "metadata": {
        "id": "Qb1O9-prHwVh"
      },
      "source": [
        "Especificamos el tamaño de lote por entrenamiento (aprendizaje).\n",
        "\n",
        "Al conjunto de datos de entrenamiento lo ordenamos de forma aleatoria y para ambos datasets indicamos el tamaño de lote para el aprendizaje."
      ]
    },
    {
      "cell_type": "code",
      "execution_count": null,
      "metadata": {
        "id": "H1pSdI-lHwVh"
      },
      "outputs": [],
      "source": [
        "#Aprendizaje por lotes de 32 cada lote\n",
        "BATCHSIZE = 32\n",
        "train_dataset = train_dataset.repeat().shuffle(num_train_examples).batch(BATCHSIZE)\n",
        "test_dataset = test_dataset.batch(BATCHSIZE)"
      ]
    },
    {
      "cell_type": "markdown",
      "metadata": {
        "id": "RvDLIWkcHwVh"
      },
      "source": [
        "Ejecutamos el entrenamiento de la red (aprendizaje automático) mediante la funcion **fit del modelo** creado.\n",
        "\n",
        "Especificamos: los datos de entrenamiento (train_dataset), las epocas (epochs) que son la cantidad de iteracciones o vueltas completas a todos los datos del dataset, y los pasos por epoca (función matematica aplicada por epoca para los datos de ejemplo entre el numero de lote de entrenamiento)."
      ]
    },
    {
      "cell_type": "code",
      "execution_count": null,
      "metadata": {
        "colab": {
          "base_uri": "https://localhost:8080/"
        },
        "id": "5Yl3_qGWHwVh",
        "outputId": "771132a1-2751-4646-c43d-19d5a867d867"
      },
      "outputs": [
        {
          "output_type": "stream",
          "name": "stdout",
          "text": [
            "Epoch 1/5\n",
            "1875/1875 [==============================] - 13s 4ms/step - loss: 0.2733 - accuracy: 0.9205\n",
            "Epoch 2/5\n",
            "1875/1875 [==============================] - 8s 4ms/step - loss: 0.1255 - accuracy: 0.9627\n",
            "Epoch 3/5\n",
            "1875/1875 [==============================] - 8s 4ms/step - loss: 0.0890 - accuracy: 0.9721\n",
            "Epoch 4/5\n",
            "1875/1875 [==============================] - 8s 4ms/step - loss: 0.0720 - accuracy: 0.9778\n",
            "Epoch 5/5\n",
            "1875/1875 [==============================] - 8s 4ms/step - loss: 0.0564 - accuracy: 0.9826\n"
          ]
        },
        {
          "output_type": "execute_result",
          "data": {
            "text/plain": [
              "<keras.callbacks.History at 0x7fc5e0dce210>"
            ]
          },
          "metadata": {},
          "execution_count": 11
        }
      ],
      "source": [
        "#Realizar el aprendizaje\n",
        "model.fit(\n",
        "    train_dataset, epochs=5,\n",
        "    steps_per_epoch=math.ceil(num_train_examples/BATCHSIZE) \n",
        ")"
      ]
    },
    {
      "cell_type": "markdown",
      "metadata": {
        "id": "wUptemC1HwVh"
      },
      "source": [
        "#### 6. Evaluar el modelo"
      ]
    },
    {
      "cell_type": "markdown",
      "metadata": {
        "id": "LjxUXBB3HwVh"
      },
      "source": [
        "Una vez que la red está entrenada, utilizaremos el dataset de pruebas (test_dataset) para evaluar que tan bien resultó el aprendizaje automático.\n",
        "\n",
        "Utilizaremos la función evaluate del modelo."
      ]
    },
    {
      "cell_type": "code",
      "execution_count": null,
      "metadata": {
        "colab": {
          "base_uri": "https://localhost:8080/"
        },
        "id": "LfzO9ewSHwVi",
        "outputId": "40954b8b-0a6c-424a-87d7-70d1acb5ad45"
      },
      "outputs": [
        {
          "output_type": "stream",
          "name": "stdout",
          "text": [
            "313/313 [==============================] - 1s 4ms/step - loss: 0.0814 - accuracy: 0.9753\n",
            "Resultado en las pruebas:  0.9753000140190125\n"
          ]
        }
      ],
      "source": [
        "#Evaluar nuestro modelo ya entrenado, contra el dataset de pruebas\n",
        "test_loss, test_accuracy = model.evaluate(\n",
        "    test_dataset, steps=math.ceil(num_test_examples/BATCHSIZE)\n",
        ")\n",
        "\n",
        "print(\"Resultado en las pruebas: \", test_accuracy)"
      ]
    },
    {
      "cell_type": "markdown",
      "metadata": {
        "id": "jYCwi4Y2HwVi"
      },
      "source": [
        "Podemos observar que la red tiene un nivel de precisión o aprendizaje del 97%"
      ]
    },
    {
      "cell_type": "markdown",
      "metadata": {
        "id": "E38QLWq5HwVi"
      },
      "source": [
        "#### 7. Visualización gráfica de los resultados"
      ]
    },
    {
      "cell_type": "markdown",
      "metadata": {
        "id": "BSpj9JN0HwVi"
      },
      "source": [
        "Los resultados de cada una de las predicciones (imagenes, etiquetas) hechas al conjunto de datos de prueba (test_dataset) las colocamos en una variable para luego visualizarlas via matplotlib."
      ]
    },
    {
      "cell_type": "code",
      "execution_count": null,
      "metadata": {
        "colab": {
          "base_uri": "https://localhost:8080/"
        },
        "id": "hYD1eOMUHwVi",
        "outputId": "b83e2aa8-8c6e-46b0-ca4c-5bef028a8523"
      },
      "outputs": [
        {
          "output_type": "stream",
          "name": "stdout",
          "text": [
            "1/1 [==============================] - 0s 91ms/step\n"
          ]
        }
      ],
      "source": [
        "# En la variable predictions colocamos cada uno de los resultados de las predicciones en el dataset de prueba\n",
        "for test_images, test_labels in test_dataset.take(1):\n",
        "    test_images = test_images.numpy()\n",
        "    test_labels = test_labels.numpy()\n",
        "    predictions = model.predict(test_images)"
      ]
    },
    {
      "cell_type": "markdown",
      "metadata": {
        "id": "3PZKV15RHwVi"
      },
      "source": [
        "Definimos una función para la visualizacion de los resultados (plot_image).\n",
        "\n",
        "Si la predicción fue correcta, se visualizará el resultado (digito original y la etiqueta predicha) en color azul, de lo contrario lo mostrará en color rojo."
      ]
    },
    {
      "cell_type": "code",
      "execution_count": null,
      "metadata": {
        "id": "5dAmazYeHwVj"
      },
      "outputs": [],
      "source": [
        "def plot_image(i, predictions_array, true_labels, images):\n",
        "    predictions_array, true_label, img = predictions_array[i], true_labels[i], images[i]\n",
        "    plt.grid(False)\n",
        "    plt.xticks([])\n",
        "    plt.yticks([])\n",
        "\n",
        "    plt.imshow(img[...,0], cmap=plt.cm.binary)\n",
        "\n",
        "    predicted_label = np.argmax(predictions_array)\n",
        "    if predicted_label == true_label:\n",
        "        color = 'blue'\n",
        "    else:\n",
        "        color = 'red'\n",
        "\n",
        "    plt.xlabel(\"Prediccion: {}\".format(class_names[predicted_label]), color=color)"
      ]
    },
    {
      "cell_type": "markdown",
      "metadata": {
        "id": "wq72BQH2HwVj"
      },
      "source": [
        "Adicionalmente, la siguiente función (plot_value_array) permitira visualiza una gráfica de barra al lado derecho del digito que fue predicho.  Si la predicción resultó correcta, la barra se pintará en azul, de lo contrario será de color rojo."
      ]
    },
    {
      "cell_type": "code",
      "execution_count": null,
      "metadata": {
        "id": "tmfIl6KLHwVj"
      },
      "outputs": [],
      "source": [
        "def plot_value_array(i, predictions_array, true_label):\n",
        "    predictions_array, true_label = predictions_array[i], true_label[i]\n",
        "    plt.grid(False)\n",
        "    plt.xticks([])\n",
        "    plt.yticks([])\n",
        "    thisplot = plt.bar(range(10), predictions_array, color=\"#888888\")\n",
        "    plt.ylim([0,1])\n",
        "    predicted_label = np.argmax(predictions_array)\n",
        "\n",
        "    thisplot[predicted_label].set_color('red')\n",
        "    thisplot[true_label].set_color('blue')"
      ]
    },
    {
      "cell_type": "markdown",
      "metadata": {
        "id": "TlDDCVDzHwVj"
      },
      "source": [
        "Finalmente, mostramos la gráfica de 15 predicciones del detaset de prueba test_dataset en 5 filas y 3 columnas."
      ]
    },
    {
      "cell_type": "code",
      "execution_count": null,
      "metadata": {
        "colab": {
          "base_uri": "https://localhost:8080/",
          "height": 589
        },
        "id": "dkQW2Wu0HwVj",
        "outputId": "1c7e2d6a-4e22-4472-a75a-a2871d48fde4"
      },
      "outputs": [
        {
          "output_type": "display_data",
          "data": {
            "text/plain": [
              "<Figure size 864x720 with 30 Axes>"
            ],
            "image/png": "[encoded data removed]"
          },
          "metadata": {}
        }
      ],
      "source": [
        "numrows=5\n",
        "numcols=3\n",
        "numimages = numrows*numcols\n",
        "\n",
        "plt.figure(figsize=(2*2*numcols, 2*numrows))\n",
        "for i in range(numimages):\n",
        "    plt.subplot(numrows, 2*numcols, 2*i+1)\n",
        "    plot_image(i, predictions, test_labels, test_images)\n",
        "    plt.subplot(numrows, 2*numcols, 2*i+2)\n",
        "    plot_value_array(i, predictions, test_labels)\n",
        "\n",
        "plt.show()"
      ]
    },
    {
      "cell_type": "markdown",
      "metadata": {
        "id": "FljgUa_oHwVj"
      },
      "source": [
        "Ahora, juguemos con nuestra red, modificando por ejemplo:\n",
        "\n",
        "* El numero de capas, podemos agregar/quitar una capa oculta\n",
        "* Numero de neuronas en las capas ocultas, en lugar de 64 neuronas por capa, que tal 20? o 10?\n",
        "\n",
        "Cuál es la precisión de la red luego de dichos cambios?"
      ]
    }
  ],
  "metadata": {
    "kernelspec": {
      "display_name": "Python 3.8 (tensorflow)",
      "language": "python",
      "name": "tensorflow"
    },
    "language_info": {
      "codemirror_mode": {
        "name": "ipython",
        "version": 3
      },
      "file_extension": ".py",
      "mimetype": "text/x-python",
      "name": "python",
      "nbconvert_exporter": "python",
      "pygments_lexer": "ipython3",
      "version": "3.8.5"
    },
    "colab": {
      "provenance": [],
      "collapsed_sections": [],
      "include_colab_link": true
    },
    "widgets": {
      "application/vnd.jupyter.widget-state+json": {
        "66c4d4c0c0d94dc2bf41a81f3da7f873": {
          "model_module": "@jupyter-widgets/controls",
          "model_name": "HBoxModel",
          "model_module_version": "1.5.0",
          "state": {
            "_dom_classes": [],
            "_model_module": "@jupyter-widgets/controls",
            "_model_module_version": "1.5.0",
            "_model_name": "HBoxModel",
            "_view_count": null,
            "_view_module": "@jupyter-widgets/controls",
            "_view_module_version": "1.5.0",
            "_view_name": "HBoxView",
            "box_style": "",
            "children": [
              "IPY_MODEL_044256a216924c4da2342a004f49a859",
              "IPY_MODEL_5ec6e618acc446d989524847cafbb33c",
              "IPY_MODEL_f9c9d668f048484db2065b63004f8ceb"
            ],
            "layout": "IPY_MODEL_67fc31bb0ea44b0aaa437f6c3959cb9f"
          }
        },
        "044256a216924c4da2342a004f49a859": {
          "model_module": "@jupyter-widgets/controls",
          "model_name": "HTMLModel",
          "model_module_version": "1.5.0",
          "state": {
            "_dom_classes": [],
            "_model_module": "@jupyter-widgets/controls",
            "_model_module_version": "1.5.0",
            "_model_name": "HTMLModel",
            "_view_count": null,
            "_view_module": "@jupyter-widgets/controls",
            "_view_module_version": "1.5.0",
            "_view_name": "HTMLView",
            "description": "",
            "description_tooltip": null,
            "layout": "IPY_MODEL_d4d7cdbabf244801a70ab457f2ab8b73",
            "placeholder": "​",
            "style": "IPY_MODEL_81b78fe3e44141a69a54c16f21256ce0",
            "value": "Dl Completed...: 100%"
          }
        },
        "5ec6e618acc446d989524847cafbb33c": {
          "model_module": "@jupyter-widgets/controls",
          "model_name": "FloatProgressModel",
          "model_module_version": "1.5.0",
          "state": {
            "_dom_classes": [],
            "_model_module": "@jupyter-widgets/controls",
            "_model_module_version": "1.5.0",
            "_model_name": "FloatProgressModel",
            "_view_count": null,
            "_view_module": "@jupyter-widgets/controls",
            "_view_module_version": "1.5.0",
            "_view_name": "ProgressView",
            "bar_style": "success",
            "description": "",
            "description_tooltip": null,
            "layout": "IPY_MODEL_aa06f51e7690475481874abdf2b0fde8",
            "max": 4,
            "min": 0,
            "orientation": "horizontal",
            "style": "IPY_MODEL_a2bde29900e342a3a429162e74dc1af1",
            "value": 4
          }
        },
        "f9c9d668f048484db2065b63004f8ceb": {
          "model_module": "@jupyter-widgets/controls",
          "model_name": "HTMLModel",
          "model_module_version": "1.5.0",
          "state": {
            "_dom_classes": [],
            "_model_module": "@jupyter-widgets/controls",
            "_model_module_version": "1.5.0",
            "_model_name": "HTMLModel",
            "_view_count": null,
            "_view_module": "@jupyter-widgets/controls",
            "_view_module_version": "1.5.0",
            "_view_name": "HTMLView",
            "description": "",
            "description_tooltip": null,
            "layout": "IPY_MODEL_e4740e4e7574427a8510124541f7439f",
            "placeholder": "​",
            "style": "IPY_MODEL_d5bc68e488a340f19f00c162e72ef973",
            "value": " 4/4 [00:00&lt;00:00,  4.61 file/s]"
          }
        },
        "67fc31bb0ea44b0aaa437f6c3959cb9f": {
          "model_module": "@jupyter-widgets/base",
          "model_name": "LayoutModel",
          "model_module_version": "1.2.0",
          "state": {
            "_model_module": "@jupyter-widgets/base",
            "_model_module_version": "1.2.0",
            "_model_name": "LayoutModel",
            "_view_count": null,
            "_view_module": "@jupyter-widgets/base",
            "_view_module_version": "1.2.0",
            "_view_name": "LayoutView",
            "align_content": null,
            "align_items": null,
            "align_self": null,
            "border": null,
            "bottom": null,
            "display": null,
            "flex": null,
            "flex_flow": null,
            "grid_area": null,
            "grid_auto_columns": null,
            "grid_auto_flow": null,
            "grid_auto_rows": null,
            "grid_column": null,
            "grid_gap": null,
            "grid_row": null,
            "grid_template_areas": null,
            "grid_template_columns": null,
            "grid_template_rows": null,
            "height": null,
            "justify_content": null,
            "justify_items": null,
            "left": null,
            "margin": null,
            "max_height": null,
            "max_width": null,
            "min_height": null,
            "min_width": null,
            "object_fit": null,
            "object_position": null,
            "order": null,
            "overflow": null,
            "overflow_x": null,
            "overflow_y": null,
            "padding": null,
            "right": null,
            "top": null,
            "visibility": null,
            "width": null
          }
        },
        "d4d7cdbabf244801a70ab457f2ab8b73": {
          "model_module": "@jupyter-widgets/base",
          "model_name": "LayoutModel",
          "model_module_version": "1.2.0",
          "state": {
            "_model_module": "@jupyter-widgets/base",
            "_model_module_version": "1.2.0",
            "_model_name": "LayoutModel",
            "_view_count": null,
            "_view_module": "@jupyter-widgets/base",
            "_view_module_version": "1.2.0",
            "_view_name": "LayoutView",
            "align_content": null,
            "align_items": null,
            "align_self": null,
            "border": null,
            "bottom": null,
            "display": null,
            "flex": null,
            "flex_flow": null,
            "grid_area": null,
            "grid_auto_columns": null,
            "grid_auto_flow": null,
            "grid_auto_rows": null,
            "grid_column": null,
            "grid_gap": null,
            "grid_row": null,
            "grid_template_areas": null,
            "grid_template_columns": null,
            "grid_template_rows": null,
            "height": null,
            "justify_content": null,
            "justify_items": null,
            "left": null,
            "margin": null,
            "max_height": null,
            "max_width": null,
            "min_height": null,
            "min_width": null,
            "object_fit": null,
            "object_position": null,
            "order": null,
            "overflow": null,
            "overflow_x": null,
            "overflow_y": null,
            "padding": null,
            "right": null,
            "top": null,
            "visibility": null,
            "width": null
          }
        },
        "81b78fe3e44141a69a54c16f21256ce0": {
          "model_module": "@jupyter-widgets/controls",
          "model_name": "DescriptionStyleModel",
          "model_module_version": "1.5.0",
          "state": {
            "_model_module": "@jupyter-widgets/controls",
            "_model_module_version": "1.5.0",
            "_model_name": "DescriptionStyleModel",
            "_view_count": null,
            "_view_module": "@jupyter-widgets/base",
            "_view_module_version": "1.2.0",
            "_view_name": "StyleView",
            "description_width": ""
          }
        },
        "aa06f51e7690475481874abdf2b0fde8": {
          "model_module": "@jupyter-widgets/base",
          "model_name": "LayoutModel",
          "model_module_version": "1.2.0",
          "state": {
            "_model_module": "@jupyter-widgets/base",
            "_model_module_version": "1.2.0",
            "_model_name": "LayoutModel",
            "_view_count": null,
            "_view_module": "@jupyter-widgets/base",
            "_view_module_version": "1.2.0",
            "_view_name": "LayoutView",
            "align_content": null,
            "align_items": null,
            "align_self": null,
            "border": null,
            "bottom": null,
            "display": null,
            "flex": null,
            "flex_flow": null,
            "grid_area": null,
            "grid_auto_columns": null,
            "grid_auto_flow": null,
            "grid_auto_rows": null,
            "grid_column": null,
            "grid_gap": null,
            "grid_row": null,
            "grid_template_areas": null,
            "grid_template_columns": null,
            "grid_template_rows": null,
            "height": null,
            "justify_content": null,
            "justify_items": null,
            "left": null,
            "margin": null,
            "max_height": null,
            "max_width": null,
            "min_height": null,
            "min_width": null,
            "object_fit": null,
            "object_position": null,
            "order": null,
            "overflow": null,
            "overflow_x": null,
            "overflow_y": null,
            "padding": null,
            "right": null,
            "top": null,
            "visibility": null,
            "width": null
          }
        },
        "a2bde29900e342a3a429162e74dc1af1": {
          "model_module": "@jupyter-widgets/controls",
          "model_name": "ProgressStyleModel",
          "model_module_version": "1.5.0",
          "state": {
            "_model_module": "@jupyter-widgets/controls",
            "_model_module_version": "1.5.0",
            "_model_name": "ProgressStyleModel",
            "_view_count": null,
            "_view_module": "@jupyter-widgets/base",
            "_view_module_version": "1.2.0",
            "_view_name": "StyleView",
            "bar_color": null,
            "description_width": ""
          }
        },
        "e4740e4e7574427a8510124541f7439f": {
          "model_module": "@jupyter-widgets/base",
          "model_name": "LayoutModel",
          "model_module_version": "1.2.0",
          "state": {
            "_model_module": "@jupyter-widgets/base",
            "_model_module_version": "1.2.0",
            "_model_name": "LayoutModel",
            "_view_count": null,
            "_view_module": "@jupyter-widgets/base",
            "_view_module_version": "1.2.0",
            "_view_name": "LayoutView",
            "align_content": null,
            "align_items": null,
            "align_self": null,
            "border": null,
            "bottom": null,
            "display": null,
            "flex": null,
            "flex_flow": null,
            "grid_area": null,
            "grid_auto_columns": null,
            "grid_auto_flow": null,
            "grid_auto_rows": null,
            "grid_column": null,
            "grid_gap": null,
            "grid_row": null,
            "grid_template_areas": null,
            "grid_template_columns": null,
            "grid_template_rows": null,
            "height": null,
            "justify_content": null,
            "justify_items": null,
            "left": null,
            "margin": null,
            "max_height": null,
            "max_width": null,
            "min_height": null,
            "min_width": null,
            "object_fit": null,
            "object_position": null,
            "order": null,
            "overflow": null,
            "overflow_x": null,
            "overflow_y": null,
            "padding": null,
            "right": null,
            "top": null,
            "visibility": null,
            "width": null
          }
        },
        "d5bc68e488a340f19f00c162e72ef973": {
          "model_module": "@jupyter-widgets/controls",
          "model_name": "DescriptionStyleModel",
          "model_module_version": "1.5.0",
          "state": {
            "_model_module": "@jupyter-widgets/controls",
            "_model_module_version": "1.5.0",
            "_model_name": "DescriptionStyleModel",
            "_view_count": null,
            "_view_module": "@jupyter-widgets/base",
            "_view_module_version": "1.2.0",
            "_view_name": "StyleView",
            "description_width": ""
          }
        }
      }
    }
  },
  "nbformat": 4,
  "nbformat_minor": 0
}