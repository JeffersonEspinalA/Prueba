{
  "cells": [
    {
      "cell_type": "markdown",
      "metadata": {
        "id": "view-in-github",
        "colab_type": "text"
      },
      "source": [
        "<a href=\"https://colab.research.google.com/github/JeffersonEspinalA/Prueba/blob/main/Chapter_2_Basic_Measures.ipynb\" target=\"_parent\"><img src=\"https://colab.research.google.com/assets/colab-badge.svg\" alt=\"Open In Colab\"/></a>"
      ]
    },
    {
      "cell_type": "markdown",
      "metadata": {
        "id": "qhku_Wk9B0RY"
      },
      "source": [
        "<span>\n",
        "<b>Author:</b> <a href=\"http://about.giuliorossetti.net\">Giulio Rossetti</a><br/>\n",
        "<b>Python version:</b>  >=3.7<br/>\n",
        "<b>Networkx version:</b>  >=2.3<br/>\n",
        "<b>Last update:</b> 15/02/2021\n",
        "</span>\n",
        "\n",
        "<a id='top'></a>\n",
        "# *Chapter 2: Basic Measures*\n",
        "\n",
        "``Networkx`` is a python library designed to provide support to analysis of complex networks.\n",
        "\n",
        "In this notebook are introduced some of the main features of the library and an overview of its functionalities.\n",
        "\n",
        "**Note:** this notebook is purposely not 100% comprehensive, it only discusses the basic things you need to get started. <br/> A complete documentation (and tutorial) is available on the project [website](https://networkx.github.io/documentation/latest/)"
      ]
    },
    {
      "cell_type": "markdown",
      "metadata": {
        "id": "35-7pGbKB0Rg"
      },
      "source": [
        "**Note 2:** textbooks approaching network analysis (practice and theory) using ``networkx`` are: \n",
        "\n",
        "<table>\n",
        "    <tr>\n",
        "         <td>\n",
        "        <img width=150px src=\"img/book.jpg\" align=\"center\"/>\n",
        "        </td>\n",
        "         <td>\n",
        "        <img width=150px src=\"img/book2.jpg\" align=\"center\"/>\n",
        "        </td>\n",
        "    </tr>\n",
        "     <tr>\n",
        "         <td>\n",
        "         <b>\"Complex Network Analysis in Python\"</b> <br/> \n",
        "         Dmitry Zinoviev, The Pragmatic Programmer. 2018.\n",
        "         </td>\n",
        "         <td>\n",
        "         <b>\"Firstcourse in network science\"</b> <br/> \n",
        "         Menczer, Fortunato, and Davis. 2020.\n",
        "         </td>\n",
        "    </tr>\n",
        "</table>"
      ]
    },
    {
      "cell_type": "markdown",
      "metadata": {
        "id": "ZvqZIGDTB0Ri"
      },
      "source": [
        "## Installation\n",
        "To install ``networkx`` use the following command:\n",
        "\n",
        "    pip install networkx"
      ]
    },
    {
      "cell_type": "markdown",
      "metadata": {
        "id": "1VhuaOvYB0Rk"
      },
      "source": [
        "## Importing the library\n",
        "As a first step just import the ``networkx`` library."
      ]
    },
    {
      "cell_type": "code",
      "source": [
        "!pip install powerlaw\n",
        "!pip install networkx==2.8.8"
      ],
      "metadata": {
        "colab": {
          "base_uri": "https://localhost:8080/"
        },
        "id": "rM6QrxkQGUJ_",
        "outputId": "becb55e4-d366-4708-bf24-6d2622f46bcf"
      },
      "execution_count": 1,
      "outputs": [
        {
          "output_type": "stream",
          "name": "stdout",
          "text": [
            "Looking in indexes: https://pypi.org/simple, https://us-python.pkg.dev/colab-wheels/public/simple/\n",
            "Requirement already satisfied: powerlaw in /usr/local/lib/python3.9/dist-packages (1.5)\n",
            "Requirement already satisfied: mpmath in /usr/local/lib/python3.9/dist-packages (from powerlaw) (1.3.0)\n",
            "Requirement already satisfied: numpy in /usr/local/lib/python3.9/dist-packages (from powerlaw) (1.22.4)\n",
            "Requirement already satisfied: matplotlib in /usr/local/lib/python3.9/dist-packages (from powerlaw) (3.7.1)\n",
            "Requirement already satisfied: scipy in /usr/local/lib/python3.9/dist-packages (from powerlaw) (1.10.1)\n",
            "Requirement already satisfied: packaging>=20.0 in /usr/local/lib/python3.9/dist-packages (from matplotlib->powerlaw) (23.0)\n",
            "Requirement already satisfied: python-dateutil>=2.7 in /usr/local/lib/python3.9/dist-packages (from matplotlib->powerlaw) (2.8.2)\n",
            "Requirement already satisfied: kiwisolver>=1.0.1 in /usr/local/lib/python3.9/dist-packages (from matplotlib->powerlaw) (1.4.4)\n",
            "Requirement already satisfied: pyparsing>=2.3.1 in /usr/local/lib/python3.9/dist-packages (from matplotlib->powerlaw) (3.0.9)\n",
            "Requirement already satisfied: importlib-resources>=3.2.0 in /usr/local/lib/python3.9/dist-packages (from matplotlib->powerlaw) (5.12.0)\n",
            "Requirement already satisfied: cycler>=0.10 in /usr/local/lib/python3.9/dist-packages (from matplotlib->powerlaw) (0.11.0)\n",
            "Requirement already satisfied: contourpy>=1.0.1 in /usr/local/lib/python3.9/dist-packages (from matplotlib->powerlaw) (1.0.7)\n",
            "Requirement already satisfied: fonttools>=4.22.0 in /usr/local/lib/python3.9/dist-packages (from matplotlib->powerlaw) (4.39.3)\n",
            "Requirement already satisfied: pillow>=6.2.0 in /usr/local/lib/python3.9/dist-packages (from matplotlib->powerlaw) (8.4.0)\n",
            "Requirement already satisfied: zipp>=3.1.0 in /usr/local/lib/python3.9/dist-packages (from importlib-resources>=3.2.0->matplotlib->powerlaw) (3.15.0)\n",
            "Requirement already satisfied: six>=1.5 in /usr/local/lib/python3.9/dist-packages (from python-dateutil>=2.7->matplotlib->powerlaw) (1.16.0)\n",
            "Looking in indexes: https://pypi.org/simple, https://us-python.pkg.dev/colab-wheels/public/simple/\n",
            "Collecting networkx==2.8.8\n",
            "  Using cached networkx-2.8.8-py3-none-any.whl (2.0 MB)\n",
            "Installing collected packages: networkx\n",
            "  Attempting uninstall: networkx\n",
            "    Found existing installation: networkx 2.4\n",
            "    Uninstalling networkx-2.4:\n",
            "      Successfully uninstalled networkx-2.4\n",
            "Successfully installed networkx-2.8.8\n"
          ]
        }
      ]
    },
    {
      "cell_type": "code",
      "execution_count": 2,
      "metadata": {
        "id": "an3b4lFmB0Rl"
      },
      "outputs": [],
      "source": [
        "import networkx as nx\n",
        "import warnings\n",
        "import pandas as pd\n",
        "import numpy as np\n",
        "import matplotlib.pyplot as plt\n",
        "import powerlaw\n",
        "warnings.filterwarnings('ignore')"
      ]
    },
    {
      "cell_type": "markdown",
      "metadata": {
        "id": "p500IvxsB0Ro"
      },
      "source": [
        "In our example we will not only analyse graphs but also visualise them: for this reason we have to import also ``matplotlib``."
      ]
    },
    {
      "cell_type": "code",
      "execution_count": 3,
      "metadata": {
        "id": "s2pk1lSoB0Rp"
      },
      "outputs": [],
      "source": [
        "%matplotlib inline "
      ]
    },
    {
      "cell_type": "markdown",
      "metadata": {
        "id": "yuNAJbu3B0Rq"
      },
      "source": [
        "## Design our first graph\n",
        "\n",
        "``networkx`` provides support for several graph models. \n",
        "\n",
        "Among them:\n",
        "- undirected graphs, available through the ``Graph`` class\n",
        "- directed graphs, available through the ``DiGraph`` class\n",
        "\n",
        "In this brief tutorial we will focus only on undirected graphs."
      ]
    },
    {
      "cell_type": "markdown",
      "metadata": {
        "id": "56hRBelwB0Rr"
      },
      "source": [
        "We can build a graph adding nodes as well as edges as follows:"
      ]
    },
    {
      "cell_type": "code",
      "execution_count": 4,
      "metadata": {
        "colab": {
          "base_uri": "https://localhost:8080/",
          "height": 516
        },
        "id": "gNRLqmv6B0Rs",
        "outputId": "02fe53fe-fb22-4000-f741-8f4d7f0cb8ff"
      },
      "outputs": [
        {
          "output_type": "display_data",
          "data": {
            "text/plain": [
              "<Figure size 640x480 with 1 Axes>"
            ],
            "image/png": "[encoded data removed]"
          },
          "metadata": {}
        }
      ],
      "source": [
        "g = nx.Graph()\n",
        "\n",
        "g.add_node(\"a\")\n",
        "g.add_edge(\"a\", \"b\")\n",
        "g.add_edge(\"a\", \"c\")\n",
        "g.add_edge(\"b\", \"c\")\n",
        "\n",
        "nx.draw(g ,with_labels=True)"
      ]
    },
    {
      "cell_type": "markdown",
      "metadata": {
        "id": "LYj8mNVrB0Rv"
      },
      "source": [
        "Nodes and edges can also be easly removed"
      ]
    },
    {
      "cell_type": "code",
      "execution_count": 5,
      "metadata": {
        "colab": {
          "base_uri": "https://localhost:8080/",
          "height": 516
        },
        "id": "oSkXDUXqB0Rw",
        "outputId": "b8afd036-7f17-4fe8-92ee-21dc72e781fe"
      },
      "outputs": [
        {
          "output_type": "display_data",
          "data": {
            "text/plain": [
              "<Figure size 640x480 with 1 Axes>"
            ],
            "image/png": "[encoded data removed]"
          },
          "metadata": {}
        }
      ],
      "source": [
        "g.remove_node(\"a\")\n",
        "g.remove_edge(\"b\", \"c\")\n",
        "\n",
        "#re-draw the graph\n",
        "nx.draw(g, with_labels=True)"
      ]
    },
    {
      "cell_type": "markdown",
      "metadata": {
        "id": "lq0APkhkB0Rx"
      },
      "source": [
        "## Reading a graph from file\n",
        "``networkx`` natively supports several network file formats.\n",
        "\n",
        "Among them one the most frequently used in online repository is the *edgelist* one."
      ]
    },
    {
      "cell_type": "markdown",
      "metadata": {
        "id": "CLGmuAwnB0Ry"
      },
      "source": [
        "An edge list is a text file (usually saved as .csv) in which each line identifies an edge. <br/>\n",
        "For instance, the triangle defined before can be described as:\n",
        "\n",
        "    a,b\n",
        "    b,c\n",
        "    c,a"
      ]
    },
    {
      "cell_type": "markdown",
      "metadata": {
        "id": "ia5gDUAWB0Rz"
      },
      "source": [
        "To read edgelist file just write"
      ]
    },
    {
      "cell_type": "code",
      "execution_count": 6,
      "metadata": {
        "id": "RF7ZiWnWB0R0"
      },
      "outputs": [],
      "source": [
        "g = nx.read_edgelist(\"network.csv\", delimiter=\",\", nodetype=int)"
      ]
    },
    {
      "cell_type": "markdown",
      "metadata": {
        "id": "k71mdHqhB0R0"
      },
      "source": [
        "Similarly a graph can be written to file using ``nx.write_edgelist(g, filename)``.\n",
        "\n",
        "For all the I/O methods refer to the [official documentation](https://networkx.github.io/documentation/latest/reference/readwrite/index.html)"
      ]
    },
    {
      "cell_type": "markdown",
      "metadata": {
        "id": "v8AZ6gYOB0R1"
      },
      "source": [
        "## Accessing nodes and edges\n",
        "Given a ``Graph`` object is it possible to iterate over its nodes with a simple ``for`` loop"
      ]
    },
    {
      "cell_type": "code",
      "execution_count": 7,
      "metadata": {
        "id": "6Erohox8B0R2"
      },
      "outputs": [],
      "source": [
        "for n in g.nodes():\n",
        "    # do something\n",
        "    pass"
      ]
    },
    {
      "cell_type": "markdown",
      "metadata": {
        "id": "fiPr0JDIB0R3"
      },
      "source": [
        "Following a similar rationale is it also possible to loop over the edge set"
      ]
    },
    {
      "cell_type": "code",
      "execution_count": 8,
      "metadata": {
        "id": "7vu06Xz4B0R4"
      },
      "outputs": [],
      "source": [
        "for e in g.edges():\n",
        "    # do something\n",
        "    pass"
      ]
    },
    {
      "cell_type": "markdown",
      "metadata": {
        "id": "tiJbS2bCB0R4"
      },
      "source": [
        "All graph entities can be used to store additional attributes (weights, labels...). \n",
        "\n",
        "For furhter details refer to the [official documentation](https://networkx.github.io/documentation/latest/tutorial.html#adding-attributes-to-graphs-nodes-and-edges)"
      ]
    },
    {
      "cell_type": "markdown",
      "metadata": {
        "id": "qH_Rm6_DB0R5"
      },
      "source": [
        "## Network base statistics\n",
        "``networkx`` allows to manipulate nodes as well as edges, count them, and extract relevant global features."
      ]
    },
    {
      "cell_type": "code",
      "execution_count": 9,
      "metadata": {
        "colab": {
          "base_uri": "https://localhost:8080/"
        },
        "id": "Uv7jBPhrB0R6",
        "outputId": "bfa5914b-3200-400e-b746-935ef2a59f4d"
      },
      "outputs": [
        {
          "output_type": "execute_result",
          "data": {
            "text/plain": [
              "2566"
            ]
          },
          "metadata": {},
          "execution_count": 9
        }
      ],
      "source": [
        "g.number_of_nodes()"
      ]
    },
    {
      "cell_type": "code",
      "execution_count": 10,
      "metadata": {
        "colab": {
          "base_uri": "https://localhost:8080/"
        },
        "id": "_yEQMNU5B0R7",
        "outputId": "644e7204-370b-4770-84da-be549d721221"
      },
      "outputs": [
        {
          "output_type": "execute_result",
          "data": {
            "text/plain": [
              "8593"
            ]
          },
          "metadata": {},
          "execution_count": 10
        }
      ],
      "source": [
        "g.number_of_edges()"
      ]
    },
    {
      "cell_type": "code",
      "execution_count": 11,
      "metadata": {
        "colab": {
          "base_uri": "https://localhost:8080/"
        },
        "id": "_1g2tgJvB0R8",
        "outputId": "f17e8642-0d50-45c1-811a-1bebf0edaeff"
      },
      "outputs": [
        {
          "output_type": "execute_result",
          "data": {
            "text/plain": [
              "False"
            ]
          },
          "metadata": {},
          "execution_count": 11
        }
      ],
      "source": [
        "g.is_directed()"
      ]
    },
    {
      "cell_type": "markdown",
      "metadata": {
        "id": "wmWrneYfB0R9"
      },
      "source": [
        "## Degrees and Degree distribution\n",
        "Node degree can be easily obtained as follows:"
      ]
    },
    {
      "cell_type": "code",
      "execution_count": 12,
      "metadata": {
        "colab": {
          "base_uri": "https://localhost:8080/"
        },
        "id": "nlEjuM0zB0R9",
        "outputId": "40b30bb7-128d-4749-83b9-58cb5bdd135b"
      },
      "outputs": [
        {
          "output_type": "execute_result",
          "data": {
            "text/plain": [
              "24"
            ]
          },
          "metadata": {},
          "execution_count": 12
        }
      ],
      "source": [
        "g.degree(1) # degree for node 1"
      ]
    },
    {
      "cell_type": "markdown",
      "metadata": {
        "id": "QZw5ShUxB0R-"
      },
      "source": [
        "Similarly the average degree can be computed with"
      ]
    },
    {
      "cell_type": "code",
      "execution_count": 13,
      "metadata": {
        "colab": {
          "base_uri": "https://localhost:8080/"
        },
        "id": "3NUw3NmSB0R_",
        "outputId": "9f221ef2-6ec9-474e-8de5-de4cfe02b3ff"
      },
      "outputs": [
        {
          "output_type": "execute_result",
          "data": {
            "text/plain": [
              "6.697583787996883"
            ]
          },
          "metadata": {},
          "execution_count": 13
        }
      ],
      "source": [
        "sum(dict(g.degree()).values())/float(len(g))"
      ]
    },
    {
      "cell_type": "markdown",
      "metadata": {
        "id": "FNsmo6ZhB0SA"
      },
      "source": [
        "An easy way to compute, and visualise, the degree distribution is the following"
      ]
    },
    {
      "cell_type": "code",
      "execution_count": 14,
      "metadata": {
        "colab": {
          "base_uri": "https://localhost:8080/",
          "height": 476
        },
        "id": "PSHuzggIB0SA",
        "outputId": "bf350aa5-a10f-4f94-8b2e-4fec39fa7367"
      },
      "outputs": [
        {
          "output_type": "display_data",
          "data": {
            "text/plain": [
              "<Figure size 640x480 with 1 Axes>"
            ],
            "image/png": "[encoded data removed]"
          },
          "metadata": {}
        }
      ],
      "source": [
        "hist = nx.degree_histogram(g)\n",
        "    \n",
        "plt.plot(range(0, len(hist)), hist, \".\")\n",
        "plt.title(\"Degree Distribution\")\n",
        "plt.xlabel(\"Degree\")\n",
        "plt.ylabel(\"#Nodes\")\n",
        "plt.loglog()\n",
        "plt.show()"
      ]
    },
    {
      "cell_type": "markdown",
      "metadata": {
        "id": "_emXEnZEB0SB"
      },
      "source": [
        "A more complete one instead is..."
      ]
    },
    {
      "cell_type": "code",
      "execution_count": 15,
      "metadata": {
        "id": "w9KmCQowB0SC"
      },
      "outputs": [],
      "source": [
        "def plot_dist(G):\n",
        "    M = nx.to_scipy_sparse_matrix(G)\n",
        "    xmin = min([d[1] for d in G.degree()])\n",
        "    indegrees = M.sum(0).A[0]\n",
        "    degree = np.bincount(indegrees)\n",
        "    fit = powerlaw.Fit(np.array(degree)+1, fit_method='KS')#, xmin=xmin, xmax=max(degree)-xmin,discrete=True)\n",
        "    \n",
        "    \n",
        "    fig = plt.figure(figsize=(16, 6)) \n",
        "    \"\"\" Plot Distribution \"\"\"\n",
        "    plt.subplot(1, 3, 1)\n",
        "    plt.plot(range(len(degree)),degree,'b.')   \n",
        "    plt.loglog()\n",
        "    plt.xlim((min(degree), max(degree)))\n",
        "    plt.xlabel('Degree')\n",
        "    plt.ylabel('P(k)')\n",
        "\n",
        "\n",
        "    \"\"\" Plot CDF \"\"\"\n",
        "    plt.subplot(1, 3, 2)\n",
        "    fit.plot_cdf()\n",
        "    plt.xlabel(\"Degree\")\n",
        "    plt.ylabel('CDF')\n",
        "\n",
        "    \"\"\" Plot CCDF \"\"\"\n",
        "    plt.subplot(1, 3, 3)\n",
        "    fit.plot_ccdf()\n",
        "    plt.ylabel('CCDF')\n",
        "    plt.xlabel('Degree')\n",
        "    plt.tight_layout()\n",
        "    plt.show()"
      ]
    },
    {
      "cell_type": "code",
      "execution_count": 16,
      "metadata": {
        "colab": {
          "base_uri": "https://localhost:8080/",
          "height": 346
        },
        "id": "_u8LkSVKB0SD",
        "outputId": "d43be534-8a16-4db9-d41b-5223146e2e2e"
      },
      "outputs": [
        {
          "output_type": "stream",
          "name": "stdout",
          "text": [
            "Calculating best minimal value for power law fit\n",
            "xmin progress: 00%\rxmin progress: 03%\rxmin progress: 07%\rxmin progress: 11%\rxmin progress: 14%\rxmin progress: 18%\rxmin progress: 22%\rxmin progress: 25%\rxmin progress: 29%\rxmin progress: 33%\rxmin progress: 37%\rxmin progress: 40%\rxmin progress: 44%\rxmin progress: 48%\rxmin progress: 51%\rxmin progress: 55%\rxmin progress: 59%\rxmin progress: 62%\rxmin progress: 66%\rxmin progress: 70%\rxmin progress: 74%\rxmin progress: 77%\rxmin progress: 81%\rxmin progress: 85%\rxmin progress: 88%\rxmin progress: 92%\rxmin progress: 96%\r"
          ]
        },
        {
          "output_type": "display_data",
          "data": {
            "text/plain": [
              "<Figure size 1600x600 with 3 Axes>"
            ],
            "image/png": "[encoded data removed]"
          },
          "metadata": {}
        }
      ],
      "source": [
        "plot_dist(g)"
      ]
    },
    {
      "cell_type": "markdown",
      "metadata": {
        "id": "5Ezmo6fJB0SE"
      },
      "source": [
        "## Graph components\n",
        "``networkx`` allows to select node specific views of the original graph"
      ]
    },
    {
      "cell_type": "code",
      "execution_count": 17,
      "metadata": {
        "id": "kyhyj2aRB0SF",
        "outputId": "5e952720-de67-4235-dcc3-555edc661c54",
        "colab": {
          "base_uri": "https://localhost:8080/"
        }
      },
      "outputs": [
        {
          "output_type": "execute_result",
          "data": {
            "text/plain": [
              "[306, 830, 1599, 273, 1988]"
            ]
          },
          "metadata": {},
          "execution_count": 17
        }
      ],
      "source": [
        "list(g.neighbors(0)) # obtain the list of neighobors for node 0"
      ]
    },
    {
      "cell_type": "code",
      "execution_count": 18,
      "metadata": {
        "id": "oZpR73OqB0SG",
        "outputId": "f422a2f4-833d-412e-c0fe-cdc9e79a3c64",
        "colab": {
          "base_uri": "https://localhost:8080/",
          "height": 516
        }
      },
      "outputs": [
        {
          "output_type": "display_data",
          "data": {
            "text/plain": [
              "<Figure size 640x480 with 1 Axes>"
            ],
            "image/png": "[encoded data removed]"
          },
          "metadata": {}
        }
      ],
      "source": [
        "ego = nx.ego_graph(g, 0) # ego network of the node 0\n",
        "nx.draw(ego, with_labels=True)"
      ]
    },
    {
      "cell_type": "markdown",
      "metadata": {
        "id": "4gV7OxHYB0SH"
      },
      "source": [
        "Using the same rationale also connected components can be extracted"
      ]
    },
    {
      "cell_type": "code",
      "execution_count": 19,
      "metadata": {
        "id": "ccvPVutBB0SH",
        "outputId": "ebc96fad-d8f2-48c0-f6a5-0a8a1ebc3591",
        "colab": {
          "base_uri": "https://localhost:8080/"
        }
      },
      "outputs": [
        {
          "output_type": "execute_result",
          "data": {
            "text/plain": [
              "85"
            ]
          },
          "metadata": {},
          "execution_count": 19
        }
      ],
      "source": [
        "nx.number_connected_components(g)"
      ]
    },
    {
      "cell_type": "code",
      "execution_count": 20,
      "metadata": {
        "id": "9H1O2NbWB0SI",
        "outputId": "59fe3eb8-db11-4b08-9400-e11d79f719f4",
        "colab": {
          "base_uri": "https://localhost:8080/",
          "height": 516
        }
      },
      "outputs": [
        {
          "output_type": "display_data",
          "data": {
            "text/plain": [
              "<Figure size 640x480 with 1 Axes>"
            ],
            "image/png": "[encoded data removed]"
          },
          "metadata": {}
        }
      ],
      "source": [
        "comps = list(nx.connected_components(g)) # get a list of connected components (for decreasing size)\n",
        "comp_1 = nx.subgraph(g, comps[1]) # build a subgraph on the second component\n",
        "nx.draw(comp_1)"
      ]
    },
    {
      "cell_type": "markdown",
      "metadata": {
        "id": "bwAdjNDSB0SJ"
      },
      "source": [
        "## Paths and Diameter\n",
        "Shortest paths can be extracted as well using the following syntax"
      ]
    },
    {
      "cell_type": "code",
      "execution_count": 21,
      "metadata": {
        "id": "Scjr9wI7B0SK",
        "outputId": "c471de68-d5dd-4539-f498-8c445a8ef22c",
        "colab": {
          "base_uri": "https://localhost:8080/"
        }
      },
      "outputs": [
        {
          "output_type": "execute_result",
          "data": {
            "text/plain": [
              "[0, 306, 30]"
            ]
          },
          "metadata": {},
          "execution_count": 21
        }
      ],
      "source": [
        "nx.shortest_path(g, source=0, target=30)"
      ]
    },
    {
      "cell_type": "code",
      "execution_count": 22,
      "metadata": {
        "id": "xEmj0JJFB0SK",
        "outputId": "6ba6827c-f254-4e96-8516-2d648b631cc3",
        "colab": {
          "base_uri": "https://localhost:8080/"
        }
      },
      "outputs": [
        {
          "output_type": "execute_result",
          "data": {
            "text/plain": [
              "2"
            ]
          },
          "metadata": {},
          "execution_count": 22
        }
      ],
      "source": [
        "nx.shortest_path_length(g, source=0, target=30)"
      ]
    },
    {
      "cell_type": "markdown",
      "metadata": {
        "id": "2gQH0jLqB0SL"
      },
      "source": [
        "Moreover, the network diameter can be computed as follows"
      ]
    },
    {
      "cell_type": "code",
      "execution_count": 23,
      "metadata": {
        "id": "06OVeGH4B0SM",
        "outputId": "23431f32-289e-4ce8-8fda-66597702e7a2",
        "colab": {
          "base_uri": "https://localhost:8080/"
        }
      },
      "outputs": [
        {
          "output_type": "execute_result",
          "data": {
            "text/plain": [
              "17"
            ]
          },
          "metadata": {},
          "execution_count": 23
        }
      ],
      "source": [
        "nx.diameter(g.subgraph(comps[0])) # we compute the diameter on the giant component"
      ]
    },
    {
      "cell_type": "markdown",
      "metadata": {
        "id": "9tuq1hETB0SM"
      },
      "source": [
        "## Triangles, density and clustering\n",
        "Other indexes that can be computed using the library are "
      ]
    },
    {
      "cell_type": "code",
      "execution_count": 24,
      "metadata": {
        "id": "6CrUI3VTB0SN",
        "outputId": "91abe25e-da12-4215-bb70-598a7e1d8d96",
        "colab": {
          "base_uri": "https://localhost:8080/"
        }
      },
      "outputs": [
        {
          "output_type": "execute_result",
          "data": {
            "text/plain": [
              "0.002611143776996835"
            ]
          },
          "metadata": {},
          "execution_count": 24
        }
      ],
      "source": [
        "nx.density(g)"
      ]
    },
    {
      "cell_type": "code",
      "execution_count": 25,
      "metadata": {
        "id": "APwRpaCRB0SO",
        "outputId": "271e9b2d-f06a-4a6d-8d3a-ea79d43559a7",
        "colab": {
          "base_uri": "https://localhost:8080/"
        }
      },
      "outputs": [
        {
          "output_type": "execute_result",
          "data": {
            "text/plain": [
              "4"
            ]
          },
          "metadata": {},
          "execution_count": 25
        }
      ],
      "source": [
        "nx.triangles(g)[0] # count the triangles each node is involved in (and access the value of node 0)"
      ]
    },
    {
      "cell_type": "code",
      "execution_count": 26,
      "metadata": {
        "id": "Q0-pH1qIB0SO",
        "outputId": "454473a5-abab-4c63-fbeb-38769a522a09",
        "colab": {
          "base_uri": "https://localhost:8080/"
        }
      },
      "outputs": [
        {
          "output_type": "execute_result",
          "data": {
            "text/plain": [
              "0.4"
            ]
          },
          "metadata": {},
          "execution_count": 26
        }
      ],
      "source": [
        "nx.clustering(g)[0] # compute the local clustering coefficient for all nodes (and access the value for node 0)"
      ]
    },
    {
      "cell_type": "code",
      "execution_count": 27,
      "metadata": {
        "id": "A_WoNC-ZB0SP",
        "outputId": "b6963f5d-9ca4-4ad0-deb0-43f773dd8a1f",
        "colab": {
          "base_uri": "https://localhost:8080/"
        }
      },
      "outputs": [
        {
          "output_type": "execute_result",
          "data": {
            "text/plain": [
              "0.20063633264589634"
            ]
          },
          "metadata": {},
          "execution_count": 27
        }
      ],
      "source": [
        "nx.average_clustering(g) # compute the global clustering coefficient"
      ]
    },
    {
      "cell_type": "code",
      "execution_count": 27,
      "metadata": {
        "id": "AcWg0hXOB0SQ"
      },
      "outputs": [],
      "source": []
    }
  ],
  "metadata": {
    "kernelspec": {
      "display_name": "Python 3",
      "language": "python",
      "name": "python3"
    },
    "language_info": {
      "codemirror_mode": {
        "name": "ipython",
        "version": 3
      },
      "file_extension": ".py",
      "mimetype": "text/x-python",
      "name": "python",
      "nbconvert_exporter": "python",
      "pygments_lexer": "ipython3",
      "version": "3.7.4"
    },
    "colab": {
      "provenance": [],
      "include_colab_link": true
    }
  },
  "nbformat": 4,
  "nbformat_minor": 0
}