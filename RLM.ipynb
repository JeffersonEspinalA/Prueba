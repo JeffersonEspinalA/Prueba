{
  "cells": [
    {
      "cell_type": "markdown",
      "metadata": {
        "id": "0WA-XMPWDYpK"
      },
      "source": [
        "## ANALISIS DE REGRESION MÙLTIPLE"
      ]
    },
    {
      "cell_type": "markdown",
      "metadata": {
        "id": "6SQjObxxDYpV"
      },
      "source": [
        "###  Librerías a utilizar"
      ]
    },
    {
      "cell_type": "code",
      "execution_count": null,
      "metadata": {
        "id": "WcKK4IgZDYpX"
      },
      "outputs": [],
      "source": [
        "## Tratamiento de datos\n",
        "import numpy as np\n",
        "import pandas as pd\n",
        "\n",
        "## Preprocesado y modelado\n",
        "from sklearn import datasets\n",
        "from sklearn.linear_model import LinearRegression\n",
        "from sklearn.preprocessing import PolynomialFeatures \n",
        "import seaborn as sns\n",
        "from sklearn.model_selection import train_test_split\n",
        "from sklearn import metrics\n",
        "\n",
        "## Gráficos\n",
        "import matplotlib.pyplot as plt"
      ]
    },
    {
      "cell_type": "markdown",
      "metadata": {
        "id": "gpBz8JLoDYpa"
      },
      "source": [
        "### Base de datos"
      ]
    },
    {
      "cell_type": "code",
      "execution_count": null,
      "metadata": {
        "id": "eu17drFpDYpc"
      },
      "outputs": [],
      "source": [
        "path_file = r'C:/UPC/'"
      ]
    },
    {
      "cell_type": "code",
      "execution_count": null,
      "metadata": {
        "id": "FKheBHb2DYpd",
        "outputId": "48fdc757-6a09-43e1-ea36-a1f6228d450e"
      },
      "outputs": [
        {
          "data": {
            "text/html": [
              "<div>\n",
              "<style scoped>\n",
              "    .dataframe tbody tr th:only-of-type {\n",
              "        vertical-align: middle;\n",
              "    }\n",
              "\n",
              "    .dataframe tbody tr th {\n",
              "        vertical-align: top;\n",
              "    }\n",
              "\n",
              "    .dataframe thead th {\n",
              "        text-align: right;\n",
              "    }\n",
              "</style>\n",
              "<table border=\"1\" class=\"dataframe\">\n",
              "  <thead>\n",
              "    <tr style=\"text-align: right;\">\n",
              "      <th></th>\n",
              "      <th>TV</th>\n",
              "      <th>Radio</th>\n",
              "      <th>Periodico</th>\n",
              "      <th>Web</th>\n",
              "      <th>Ventas</th>\n",
              "    </tr>\n",
              "  </thead>\n",
              "  <tbody>\n",
              "    <tr>\n",
              "      <th>0</th>\n",
              "      <td>230.1</td>\n",
              "      <td>37.8</td>\n",
              "      <td>69.2</td>\n",
              "      <td>306.634752</td>\n",
              "      <td>22.1</td>\n",
              "    </tr>\n",
              "    <tr>\n",
              "      <th>1</th>\n",
              "      <td>44.5</td>\n",
              "      <td>39.3</td>\n",
              "      <td>45.1</td>\n",
              "      <td>302.653070</td>\n",
              "      <td>10.4</td>\n",
              "    </tr>\n",
              "    <tr>\n",
              "      <th>2</th>\n",
              "      <td>17.2</td>\n",
              "      <td>45.9</td>\n",
              "      <td>69.3</td>\n",
              "      <td>49.498908</td>\n",
              "      <td>9.3</td>\n",
              "    </tr>\n",
              "    <tr>\n",
              "      <th>3</th>\n",
              "      <td>151.5</td>\n",
              "      <td>41.3</td>\n",
              "      <td>58.5</td>\n",
              "      <td>257.816893</td>\n",
              "      <td>18.5</td>\n",
              "    </tr>\n",
              "    <tr>\n",
              "      <th>4</th>\n",
              "      <td>180.8</td>\n",
              "      <td>10.8</td>\n",
              "      <td>58.4</td>\n",
              "      <td>195.660076</td>\n",
              "      <td>12.9</td>\n",
              "    </tr>\n",
              "  </tbody>\n",
              "</table>\n",
              "</div>"
            ],
            "text/plain": [
              "      TV  Radio  Periodico         Web  Ventas\n",
              "0  230.1   37.8       69.2  306.634752    22.1\n",
              "1   44.5   39.3       45.1  302.653070    10.4\n",
              "2   17.2   45.9       69.3   49.498908     9.3\n",
              "3  151.5   41.3       58.5  257.816893    18.5\n",
              "4  180.8   10.8       58.4  195.660076    12.9"
            ]
          },
          "execution_count": 3,
          "metadata": {},
          "output_type": "execute_result"
        }
      ],
      "source": [
        "df = pd.read_csv(path_file + 'Advertising_Sales.csv', delimiter= ',')\n",
        "df.head(5)"
      ]
    },
    {
      "cell_type": "code",
      "execution_count": null,
      "metadata": {
        "id": "2T8TenWpDYph",
        "outputId": "702cf7cc-8eec-4d7b-daed-d2d04aa41126"
      },
      "outputs": [
        {
          "data": {
            "text/plain": [
              "TV           float64\n",
              "Radio        float64\n",
              "Periodico    float64\n",
              "Web          float64\n",
              "Ventas       float64\n",
              "dtype: object"
            ]
          },
          "execution_count": 4,
          "metadata": {},
          "output_type": "execute_result"
        }
      ],
      "source": [
        "# Estructura de los datos\n",
        "df.dtypes"
      ]
    },
    {
      "cell_type": "code",
      "execution_count": null,
      "metadata": {
        "id": "xQYwBJDsDYpi",
        "outputId": "fa8f9512-ca7d-4b96-c51a-3be7314a31b2"
      },
      "outputs": [
        {
          "data": {
            "text/plain": [
              "(200, 5)"
            ]
          },
          "execution_count": 5,
          "metadata": {},
          "output_type": "execute_result"
        }
      ],
      "source": [
        "# Cantidad de los datos\n",
        "df.shape"
      ]
    },
    {
      "cell_type": "markdown",
      "metadata": {
        "id": "5kBX5yAODYpl"
      },
      "source": [
        "### Explorar los datos"
      ]
    },
    {
      "cell_type": "code",
      "execution_count": null,
      "metadata": {
        "id": "WreE3Y0ADYpm",
        "outputId": "1ed35eaa-6d6a-4d6a-ca0e-0938b54efebc"
      },
      "outputs": [
        {
          "data": {
            "text/html": [
              "<div>\n",
              "<style scoped>\n",
              "    .dataframe tbody tr th:only-of-type {\n",
              "        vertical-align: middle;\n",
              "    }\n",
              "\n",
              "    .dataframe tbody tr th {\n",
              "        vertical-align: top;\n",
              "    }\n",
              "\n",
              "    .dataframe thead th {\n",
              "        text-align: right;\n",
              "    }\n",
              "</style>\n",
              "<table border=\"1\" class=\"dataframe\">\n",
              "  <thead>\n",
              "    <tr style=\"text-align: right;\">\n",
              "      <th></th>\n",
              "      <th>TV</th>\n",
              "      <th>Radio</th>\n",
              "      <th>Periodico</th>\n",
              "      <th>Web</th>\n",
              "      <th>Ventas</th>\n",
              "    </tr>\n",
              "  </thead>\n",
              "  <tbody>\n",
              "    <tr>\n",
              "      <th>count</th>\n",
              "      <td>200.000000</td>\n",
              "      <td>200.000000</td>\n",
              "      <td>200.000000</td>\n",
              "      <td>200.000000</td>\n",
              "      <td>200.000000</td>\n",
              "    </tr>\n",
              "    <tr>\n",
              "      <th>mean</th>\n",
              "      <td>147.042500</td>\n",
              "      <td>23.264000</td>\n",
              "      <td>30.554000</td>\n",
              "      <td>159.587355</td>\n",
              "      <td>14.022500</td>\n",
              "    </tr>\n",
              "    <tr>\n",
              "      <th>std</th>\n",
              "      <td>85.854236</td>\n",
              "      <td>14.846809</td>\n",
              "      <td>21.778621</td>\n",
              "      <td>76.815266</td>\n",
              "      <td>5.217457</td>\n",
              "    </tr>\n",
              "    <tr>\n",
              "      <th>min</th>\n",
              "      <td>0.700000</td>\n",
              "      <td>0.000000</td>\n",
              "      <td>0.300000</td>\n",
              "      <td>4.308085</td>\n",
              "      <td>1.600000</td>\n",
              "    </tr>\n",
              "    <tr>\n",
              "      <th>25%</th>\n",
              "      <td>74.375000</td>\n",
              "      <td>9.975000</td>\n",
              "      <td>12.750000</td>\n",
              "      <td>99.048767</td>\n",
              "      <td>10.375000</td>\n",
              "    </tr>\n",
              "    <tr>\n",
              "      <th>50%</th>\n",
              "      <td>149.750000</td>\n",
              "      <td>22.900000</td>\n",
              "      <td>25.750000</td>\n",
              "      <td>156.862154</td>\n",
              "      <td>12.900000</td>\n",
              "    </tr>\n",
              "    <tr>\n",
              "      <th>75%</th>\n",
              "      <td>218.825000</td>\n",
              "      <td>36.525000</td>\n",
              "      <td>45.100000</td>\n",
              "      <td>212.311848</td>\n",
              "      <td>17.400000</td>\n",
              "    </tr>\n",
              "    <tr>\n",
              "      <th>max</th>\n",
              "      <td>296.400000</td>\n",
              "      <td>49.600000</td>\n",
              "      <td>114.000000</td>\n",
              "      <td>358.247042</td>\n",
              "      <td>27.000000</td>\n",
              "    </tr>\n",
              "  </tbody>\n",
              "</table>\n",
              "</div>"
            ],
            "text/plain": [
              "               TV       Radio   Periodico         Web      Ventas\n",
              "count  200.000000  200.000000  200.000000  200.000000  200.000000\n",
              "mean   147.042500   23.264000   30.554000  159.587355   14.022500\n",
              "std     85.854236   14.846809   21.778621   76.815266    5.217457\n",
              "min      0.700000    0.000000    0.300000    4.308085    1.600000\n",
              "25%     74.375000    9.975000   12.750000   99.048767   10.375000\n",
              "50%    149.750000   22.900000   25.750000  156.862154   12.900000\n",
              "75%    218.825000   36.525000   45.100000  212.311848   17.400000\n",
              "max    296.400000   49.600000  114.000000  358.247042   27.000000"
            ]
          },
          "execution_count": 6,
          "metadata": {},
          "output_type": "execute_result"
        }
      ],
      "source": [
        "# Anàlisis Descriptivo\n",
        "df[['TV','Radio', 'Periodico', 'Web', 'Ventas', ]].describe()"
      ]
    },
    {
      "cell_type": "markdown",
      "metadata": {
        "id": "CWPwZhq2DYpn"
      },
      "source": [
        "### Representación Gráfica"
      ]
    },
    {
      "cell_type": "code",
      "execution_count": null,
      "metadata": {
        "id": "zL2sGAbLDYpo",
        "outputId": "52864cc7-40ea-40a3-f1e0-8d40da247fcc"
      },
      "outputs": [
        {
          "name": "stderr",
          "output_type": "stream",
          "text": [
            "C:\\Users\\nerid\\anaconda3\\lib\\site-packages\\seaborn\\axisgrid.py:2076: UserWarning: The `size` parameter has been renamed to `height`; please update your code.\n",
            "  warnings.warn(msg, UserWarning)\n"
          ]
        },
        {
          "data": {
            "text/plain": [
              "<seaborn.axisgrid.PairGrid at 0x240c9d38250>"
            ]
          },
          "execution_count": 8,
          "metadata": {},
          "output_type": "execute_result"
        },
        {
          "data": {
            "image/png": "[encoded data removed]",
            "text/plain": [
              "<Figure size 1612.8x504 with 4 Axes>"
            ]
          },
          "metadata": {
            "needs_background": "light"
          },
          "output_type": "display_data"
        }
      ],
      "source": [
        "sns.pairplot(df, x_vars=['TV','Radio','Periodico', 'Web'], y_vars='Ventas', size=7, aspect=0.8,kind = 'reg')"
      ]
    },
    {
      "cell_type": "markdown",
      "metadata": {
        "id": "ERSph7NjDYpq"
      },
      "source": [
        "Se observa la relación lineal entre las variables independientes con respecto a las ventas, con lo cual es posible estimar visualmente que la variable Periodico tal vez tenga poco impacto en las ventas debido a la alta dispersión de los datos. Sin embargo participará en el modelo de regresión lineal múltiple."
      ]
    },
    {
      "cell_type": "markdown",
      "metadata": {
        "id": "NZr0nM23DYpr"
      },
      "source": [
        "### Anàlisis de Correlaciòn"
      ]
    },
    {
      "cell_type": "code",
      "execution_count": null,
      "metadata": {
        "id": "N4Kt_DO3DYps",
        "outputId": "88fae410-d907-48a3-b821-a5fbc6c2974b"
      },
      "outputs": [
        {
          "data": {
            "text/plain": [
              "<matplotlib.axes._subplots.AxesSubplot at 0x240dfaf31f0>"
            ]
          },
          "execution_count": 9,
          "metadata": {},
          "output_type": "execute_result"
        },
        {
          "data": {
            "image/png": "[encoded data removed]",
            "text/plain": [
              "<Figure size 432x288 with 2 Axes>"
            ]
          },
          "metadata": {
            "needs_background": "light"
          },
          "output_type": "display_data"
        }
      ],
      "source": [
        "sns.heatmap(df.corr(),cmap='coolwarm',annot=True)"
      ]
    },
    {
      "cell_type": "markdown",
      "metadata": {
        "id": "QshkLFk6DYpt"
      },
      "source": [
        "#### Definiciòn de Variables"
      ]
    },
    {
      "cell_type": "markdown",
      "metadata": {
        "id": "L_Xz-eNeDYpu"
      },
      "source": [
        "Definición de variable independiente"
      ]
    },
    {
      "cell_type": "code",
      "execution_count": null,
      "metadata": {
        "id": "-dWOwalsDYpv"
      },
      "outputs": [],
      "source": [
        "X = df.iloc[:, 0:4]"
      ]
    },
    {
      "cell_type": "markdown",
      "metadata": {
        "id": "BNZvwWq1DYpw"
      },
      "source": [
        "Definición de variable dependiente"
      ]
    },
    {
      "cell_type": "code",
      "execution_count": null,
      "metadata": {
        "id": "GoF9NJgTDYpx"
      },
      "outputs": [],
      "source": [
        "Y = df.iloc[:, 4]"
      ]
    },
    {
      "cell_type": "code",
      "execution_count": null,
      "metadata": {
        "id": "V5dW7przDYpy",
        "outputId": "52bf6f6c-b46d-4a3d-b6c7-f191b0ce5a2a"
      },
      "outputs": [
        {
          "data": {
            "text/plain": [
              "0      22.1\n",
              "1      10.4\n",
              "2       9.3\n",
              "3      18.5\n",
              "4      12.9\n",
              "       ... \n",
              "195     7.6\n",
              "196     9.7\n",
              "197    12.8\n",
              "198    25.5\n",
              "199    13.4\n",
              "Name: Ventas, Length: 200, dtype: float64"
            ]
          },
          "execution_count": 35,
          "metadata": {},
          "output_type": "execute_result"
        }
      ],
      "source": [
        "Y"
      ]
    },
    {
      "cell_type": "markdown",
      "metadata": {
        "id": "unWJEYWuDYpz"
      },
      "source": [
        "## Modelado"
      ]
    },
    {
      "cell_type": "code",
      "execution_count": null,
      "metadata": {
        "id": "kMWJlCYzDYp0"
      },
      "outputs": [],
      "source": [
        "# División de los datos en train y test\n",
        "X_train, X_test, y_train, y_test = train_test_split(X,Y,test_size=0.2,random_state=1280)"
      ]
    },
    {
      "cell_type": "code",
      "execution_count": null,
      "metadata": {
        "id": "w8uTttUMDYp2",
        "outputId": "2cee4e85-73d6-4417-866e-4074c0b9b0ee"
      },
      "outputs": [
        {
          "data": {
            "text/plain": [
              "(160, 4)"
            ]
          },
          "execution_count": 38,
          "metadata": {},
          "output_type": "execute_result"
        }
      ],
      "source": [
        "X_train.shape"
      ]
    },
    {
      "cell_type": "code",
      "execution_count": null,
      "metadata": {
        "id": "gPrsVmIIDYp3",
        "outputId": "19df6cd2-bd24-4d90-9ef3-7b5111da1515"
      },
      "outputs": [
        {
          "name": "stdout",
          "output_type": "stream",
          "text": [
            "        TV  Radio  Periodico         Web\n",
            "161   85.7   35.8       49.3  188.933530\n",
            "62   239.3   15.5       27.3  312.209555\n",
            "164  117.2   14.7        5.4  109.008763\n",
            "74   213.4   24.6       13.1  156.284261\n",
            "113  209.6   20.6       10.7   42.883796\n",
            "..     ...    ...        ...         ...\n",
            "173  168.4    7.1       12.8  218.180829\n",
            "49    66.9   11.7       36.8  205.253501\n",
            "178  276.7    2.3       23.7  137.323772\n",
            "3    151.5   41.3       58.5  257.816893\n",
            "189   18.7   12.1       23.4  222.906951\n",
            "\n",
            "[160 rows x 4 columns]\n"
          ]
        }
      ],
      "source": [
        "print(X_train)"
      ]
    },
    {
      "cell_type": "code",
      "execution_count": null,
      "metadata": {
        "id": "AwvE-ynbDYp4",
        "outputId": "17f13390-c9e9-429e-88e3-5b186fe140e3"
      },
      "outputs": [
        {
          "data": {
            "text/plain": [
              "(40, 4)"
            ]
          },
          "execution_count": 40,
          "metadata": {},
          "output_type": "execute_result"
        }
      ],
      "source": [
        "X_test.shape"
      ]
    },
    {
      "cell_type": "code",
      "execution_count": null,
      "metadata": {
        "id": "Zr3vRbigDYp5",
        "outputId": "2a743a97-6f66-43e4-9e81-226dea0f1961"
      },
      "outputs": [
        {
          "name": "stdout",
          "output_type": "stream",
          "text": [
            "        TV\n",
            "161   85.7\n",
            "62   239.3\n",
            "164  117.2\n",
            "74   213.4\n",
            "113  209.6\n",
            "..     ...\n",
            "173  168.4\n",
            "49    66.9\n",
            "178  276.7\n",
            "3    151.5\n",
            "189   18.7\n",
            "\n",
            "[160 rows x 1 columns]      Radio\n",
            "161   35.8\n",
            "62    15.5\n",
            "164   14.7\n",
            "74    24.6\n",
            "113   20.6\n",
            "..     ...\n",
            "173    7.1\n",
            "49    11.7\n",
            "178    2.3\n",
            "3     41.3\n",
            "189   12.1\n",
            "\n",
            "[160 rows x 1 columns]      Periodico\n",
            "161       49.3\n",
            "62        27.3\n",
            "164        5.4\n",
            "74        13.1\n",
            "113       10.7\n",
            "..         ...\n",
            "173       12.8\n",
            "49        36.8\n",
            "178       23.7\n",
            "3         58.5\n",
            "189       23.4\n",
            "\n",
            "[160 rows x 1 columns]             Web\n",
            "161  188.933530\n",
            "62   312.209555\n",
            "164  109.008763\n",
            "74   156.284261\n",
            "113   42.883796\n",
            "..          ...\n",
            "173  218.180829\n",
            "49   205.253501\n",
            "178  137.323772\n",
            "3    257.816893\n",
            "189  222.906951\n",
            "\n",
            "[160 rows x 1 columns]\n"
          ]
        }
      ],
      "source": [
        "print(X_train[['TV']], X_train[['Radio']], X_train[['Periodico']], X_train[['Web']])"
      ]
    },
    {
      "cell_type": "code",
      "execution_count": null,
      "metadata": {
        "id": "jiK52xshDYp6",
        "outputId": "8592f26e-0904-43fb-ef2a-568de8c7f0ae"
      },
      "outputs": [
        {
          "data": {
            "text/plain": [
              "(160,)"
            ]
          },
          "execution_count": 16,
          "metadata": {},
          "output_type": "execute_result"
        }
      ],
      "source": [
        "y_train.shape"
      ]
    },
    {
      "cell_type": "code",
      "execution_count": null,
      "metadata": {
        "id": "ZpFlx5qlDYp7",
        "outputId": "936aa89c-212f-4bf0-d0c4-cc4d6ed4b046"
      },
      "outputs": [
        {
          "data": {
            "text/plain": [
              "(40,)"
            ]
          },
          "execution_count": 17,
          "metadata": {},
          "output_type": "execute_result"
        }
      ],
      "source": [
        "y_test.shape"
      ]
    },
    {
      "cell_type": "markdown",
      "metadata": {
        "id": "ChxB596vDYp8"
      },
      "source": [
        "#### Modelo de Regresiòn Lineal Mùltiple"
      ]
    },
    {
      "cell_type": "code",
      "execution_count": null,
      "metadata": {
        "id": "EUIFHPusDYp9"
      },
      "outputs": [],
      "source": [
        "#Definimos el algoritmo a utilizar\n",
        "modelo_rm = LinearRegression()"
      ]
    },
    {
      "cell_type": "code",
      "execution_count": null,
      "metadata": {
        "id": "aoEijAb4DYp9",
        "outputId": "e890a648-9866-4284-e8d1-c54eef0d80c6"
      },
      "outputs": [
        {
          "data": {
            "text/html": [
              "<style>#sk-container-id-2 {color: black;background-color: white;}#sk-container-id-2 pre{padding: 0;}#sk-container-id-2 div.sk-toggleable {background-color: white;}#sk-container-id-2 label.sk-toggleable__label {cursor: pointer;display: block;width: 100%;margin-bottom: 0;padding: 0.3em;box-sizing: border-box;text-align: center;}#sk-container-id-2 label.sk-toggleable__label-arrow:before {content: \"▸\";float: left;margin-right: 0.25em;color: #696969;}#sk-container-id-2 label.sk-toggleable__label-arrow:hover:before {color: black;}#sk-container-id-2 div.sk-estimator:hover label.sk-toggleable__label-arrow:before {color: black;}#sk-container-id-2 div.sk-toggleable__content {max-height: 0;max-width: 0;overflow: hidden;text-align: left;background-color: #f0f8ff;}#sk-container-id-2 div.sk-toggleable__content pre {margin: 0.2em;color: black;border-radius: 0.25em;background-color: #f0f8ff;}#sk-container-id-2 input.sk-toggleable__control:checked~div.sk-toggleable__content {max-height: 200px;max-width: 100%;overflow: auto;}#sk-container-id-2 input.sk-toggleable__control:checked~label.sk-toggleable__label-arrow:before {content: \"▾\";}#sk-container-id-2 div.sk-estimator input.sk-toggleable__control:checked~label.sk-toggleable__label {background-color: #d4ebff;}#sk-container-id-2 div.sk-label input.sk-toggleable__control:checked~label.sk-toggleable__label {background-color: #d4ebff;}#sk-container-id-2 input.sk-hidden--visually {border: 0;clip: rect(1px 1px 1px 1px);clip: rect(1px, 1px, 1px, 1px);height: 1px;margin: -1px;overflow: hidden;padding: 0;position: absolute;width: 1px;}#sk-container-id-2 div.sk-estimator {font-family: monospace;background-color: #f0f8ff;border: 1px dotted black;border-radius: 0.25em;box-sizing: border-box;margin-bottom: 0.5em;}#sk-container-id-2 div.sk-estimator:hover {background-color: #d4ebff;}#sk-container-id-2 div.sk-parallel-item::after {content: \"\";width: 100%;border-bottom: 1px solid gray;flex-grow: 1;}#sk-container-id-2 div.sk-label:hover label.sk-toggleable__label {background-color: #d4ebff;}#sk-container-id-2 div.sk-serial::before {content: \"\";position: absolute;border-left: 1px solid gray;box-sizing: border-box;top: 0;bottom: 0;left: 50%;z-index: 0;}#sk-container-id-2 div.sk-serial {display: flex;flex-direction: column;align-items: center;background-color: white;padding-right: 0.2em;padding-left: 0.2em;position: relative;}#sk-container-id-2 div.sk-item {position: relative;z-index: 1;}#sk-container-id-2 div.sk-parallel {display: flex;align-items: stretch;justify-content: center;background-color: white;position: relative;}#sk-container-id-2 div.sk-item::before, #sk-container-id-2 div.sk-parallel-item::before {content: \"\";position: absolute;border-left: 1px solid gray;box-sizing: border-box;top: 0;bottom: 0;left: 50%;z-index: -1;}#sk-container-id-2 div.sk-parallel-item {display: flex;flex-direction: column;z-index: 1;position: relative;background-color: white;}#sk-container-id-2 div.sk-parallel-item:first-child::after {align-self: flex-end;width: 50%;}#sk-container-id-2 div.sk-parallel-item:last-child::after {align-self: flex-start;width: 50%;}#sk-container-id-2 div.sk-parallel-item:only-child::after {width: 0;}#sk-container-id-2 div.sk-dashed-wrapped {border: 1px dashed gray;margin: 0 0.4em 0.5em 0.4em;box-sizing: border-box;padding-bottom: 0.4em;background-color: white;}#sk-container-id-2 div.sk-label label {font-family: monospace;font-weight: bold;display: inline-block;line-height: 1.2em;}#sk-container-id-2 div.sk-label-container {text-align: center;}#sk-container-id-2 div.sk-container {/* jupyter's `normalize.less` sets `[hidden] { display: none; }` but bootstrap.min.css set `[hidden] { display: none !important; }` so we also need the `!important` here to be able to override the default hidden behavior on the sphinx rendered scikit-learn.org. See: https://github.com/scikit-learn/scikit-learn/issues/21755 */display: inline-block !important;position: relative;}#sk-container-id-2 div.sk-text-repr-fallback {display: none;}</style><div id=\"sk-container-id-2\" class=\"sk-top-container\"><div class=\"sk-text-repr-fallback\"><pre>LinearRegression()</pre><b>In a Jupyter environment, please rerun this cell to show the HTML representation or trust the notebook. <br />On GitHub, the HTML representation is unable to render, please try loading this page with nbviewer.org.</b></div><div class=\"sk-container\" hidden><div class=\"sk-item\"><div class=\"sk-estimator sk-toggleable\"><input class=\"sk-toggleable__control sk-hidden--visually\" id=\"sk-estimator-id-2\" type=\"checkbox\" checked><label for=\"sk-estimator-id-2\" class=\"sk-toggleable__label sk-toggleable__label-arrow\">LinearRegression</label><div class=\"sk-toggleable__content\"><pre>LinearRegression()</pre></div></div></div></div></div>"
            ],
            "text/plain": [
              "LinearRegression()"
            ]
          },
          "execution_count": 43,
          "metadata": {},
          "output_type": "execute_result"
        }
      ],
      "source": [
        "#Entrenamos el modelo\n",
        "modelo_rm.fit(X_train,y_train)"
      ]
    },
    {
      "cell_type": "markdown",
      "metadata": {
        "id": "cGJuGa2IDYp-"
      },
      "source": [
        "#### Estimadores de los Coeficientes"
      ]
    },
    {
      "cell_type": "code",
      "execution_count": null,
      "metadata": {
        "id": "J2cazzLuDYp_",
        "outputId": "436a2254-2518-4f53-ff68-6575be5cd223"
      },
      "outputs": [
        {
          "name": "stdout",
          "output_type": "stream",
          "text": [
            "DATOS DEL MODELO REGRESIÓN LINEAL MULTIPLE\n",
            "\n",
            "Pendiente:  [0.04541231 0.18730305 0.00246068 0.00377076]\n",
            "Interceptor:  2.2675760225795134\n"
          ]
        }
      ],
      "source": [
        "print('DATOS DEL MODELO REGRESIÓN LINEAL MULTIPLE')\n",
        "print()\n",
        "# Pendiente\n",
        "print(\"Pendiente: \",modelo_rm.coef_)\n",
        "# Interceptor\n",
        "print(\"Interceptor: \",modelo_rm.intercept_)"
      ]
    },
    {
      "cell_type": "markdown",
      "metadata": {
        "id": "7jWm0DnMDYqB"
      },
      "source": [
        "#### Predicciòn del Modelo"
      ]
    },
    {
      "cell_type": "code",
      "execution_count": null,
      "metadata": {
        "id": "dLST1sJSDYqC",
        "outputId": "7cc42bad-ccd5-4ea6-8d57-157d5f88389a"
      },
      "outputs": [
        {
          "data": {
            "text/plain": [
              "array([ 9.48717163, 12.29298557, 18.73844755, 17.90801545, 22.96748613,\n",
              "       13.13360268, 11.65362902, 22.75855616, 10.41641382, 14.55551139,\n",
              "       21.09900012,  8.07142156, 12.01081611, 13.88134847, 20.76409762,\n",
              "       17.26850075, 19.28143248, 19.32571843, 19.25430319, 21.45216865,\n",
              "        7.55094813, 23.00520415, 15.01310737, 20.02154855,  4.89372585,\n",
              "        9.47575724, 17.12434036, 12.08956296, 20.85488718,  6.11958063,\n",
              "       14.06482121, 15.0841398 , 13.38248466, 12.57985451, 19.94523571,\n",
              "       16.91351491,  8.10503827, 23.17182757, 21.43383192, 13.24644151])"
            ]
          },
          "execution_count": 46,
          "metadata": {},
          "output_type": "execute_result"
        }
      ],
      "source": [
        "#Realizamos una predicción\n",
        "Y_pred = modelo_rm.predict(X_test)\n",
        "Y_pred"
      ]
    },
    {
      "cell_type": "code",
      "execution_count": null,
      "metadata": {
        "id": "06EfJgk0DYqD",
        "outputId": "ed197c77-c71a-444a-ef13-bb6dd299d33c"
      },
      "outputs": [
        {
          "data": {
            "text/html": [
              "<div>\n",
              "<style scoped>\n",
              "    .dataframe tbody tr th:only-of-type {\n",
              "        vertical-align: middle;\n",
              "    }\n",
              "\n",
              "    .dataframe tbody tr th {\n",
              "        vertical-align: top;\n",
              "    }\n",
              "\n",
              "    .dataframe thead th {\n",
              "        text-align: right;\n",
              "    }\n",
              "</style>\n",
              "<table border=\"1\" class=\"dataframe\">\n",
              "  <thead>\n",
              "    <tr style=\"text-align: right;\">\n",
              "      <th></th>\n",
              "      <th>TV</th>\n",
              "      <th>Radio</th>\n",
              "      <th>Periodico</th>\n",
              "      <th>Web</th>\n",
              "      <th>Ventas</th>\n",
              "      <th>Pred</th>\n",
              "    </tr>\n",
              "  </thead>\n",
              "  <tbody>\n",
              "    <tr>\n",
              "      <th>79</th>\n",
              "      <td>116.0</td>\n",
              "      <td>7.7</td>\n",
              "      <td>23.1</td>\n",
              "      <td>120.053504</td>\n",
              "      <td>11.0</td>\n",
              "      <td>9.487172</td>\n",
              "    </tr>\n",
              "    <tr>\n",
              "      <th>7</th>\n",
              "      <td>120.2</td>\n",
              "      <td>19.6</td>\n",
              "      <td>11.6</td>\n",
              "      <td>229.971459</td>\n",
              "      <td>13.2</td>\n",
              "      <td>12.292986</td>\n",
              "    </tr>\n",
              "    <tr>\n",
              "      <th>14</th>\n",
              "      <td>204.1</td>\n",
              "      <td>32.9</td>\n",
              "      <td>46.0</td>\n",
              "      <td>245.774960</td>\n",
              "      <td>19.0</td>\n",
              "      <td>18.738448</td>\n",
              "    </tr>\n",
              "  </tbody>\n",
              "</table>\n",
              "</div>"
            ],
            "text/plain": [
              "       TV  Radio  Periodico         Web  Ventas       Pred\n",
              "79  116.0    7.7       23.1  120.053504    11.0   9.487172\n",
              "7   120.2   19.6       11.6  229.971459    13.2  12.292986\n",
              "14  204.1   32.9       46.0  245.774960    19.0  18.738448"
            ]
          },
          "execution_count": 47,
          "metadata": {},
          "output_type": "execute_result"
        }
      ],
      "source": [
        "df_pred = pd.DataFrame(X_test)\n",
        "df_pred = df_pred.assign(Ventas=y_test)\n",
        "df_pred = df_pred.assign(Pred = Y_pred.flatten().tolist())\n",
        "df_pred.head(3)"
      ]
    },
    {
      "cell_type": "code",
      "execution_count": null,
      "metadata": {
        "id": "ljek2ON-DYqF"
      },
      "outputs": [],
      "source": [
        "df_pred.shape"
      ]
    },
    {
      "cell_type": "code",
      "execution_count": null,
      "metadata": {
        "id": "4MBj2g9VDYqF",
        "outputId": "b8ceeccd-d5a8-44ee-c5c7-a69788b73426"
      },
      "outputs": [
        {
          "name": "stderr",
          "output_type": "stream",
          "text": [
            "C:\\Users\\nerid\\anaconda3\\lib\\site-packages\\seaborn\\axisgrid.py:2076: UserWarning: The `size` parameter has been renamed to `height`; please update your code.\n",
            "  warnings.warn(msg, UserWarning)\n"
          ]
        },
        {
          "data": {
            "text/plain": [
              "<seaborn.axisgrid.PairGrid at 0x240e076a5b0>"
            ]
          },
          "execution_count": 49,
          "metadata": {},
          "output_type": "execute_result"
        },
        {
          "data": {
            "image/png": "[encoded data removed]",
            "text/plain": [
              "<Figure size 403.2x504 with 1 Axes>"
            ]
          },
          "metadata": {
            "needs_background": "light"
          },
          "output_type": "display_data"
        }
      ],
      "source": [
        "sns.pairplot(df_pred, x_vars=['Ventas'], y_vars='Pred', size=7, aspect=0.8,kind = 'reg')"
      ]
    },
    {
      "cell_type": "markdown",
      "metadata": {
        "id": "9tNyozo0DYqH"
      },
      "source": [
        "Comparando los datos de la predicciòn con los datos reales, se observa no que hay diferencia considerable entre si, por lo tanto este modelo es adecuado implementar para este conjunto de datos."
      ]
    },
    {
      "cell_type": "markdown",
      "metadata": {
        "id": "ed5PTuzbDYqH"
      },
      "source": [
        "#### Evaluaciòn del Modelo"
      ]
    },
    {
      "cell_type": "code",
      "execution_count": null,
      "metadata": {
        "id": "Bmkl4xa4DYqI",
        "outputId": "0a8c9408-66a6-44bd-ef09-788e9f677d0a"
      },
      "outputs": [
        {
          "name": "stdout",
          "output_type": "stream",
          "text": [
            "Mean Squared Error: MSE 2.0501574576519017\n"
          ]
        }
      ],
      "source": [
        "print('Mean Squared Error: MSE', metrics.mean_squared_error(y_test,Y_pred))"
      ]
    },
    {
      "cell_type": "code",
      "execution_count": null,
      "metadata": {
        "id": "STftK7yJDYqJ",
        "outputId": "cd6fd076-3f92-4a36-b507-f332cf7cd89b"
      },
      "outputs": [
        {
          "name": "stdout",
          "output_type": "stream",
          "text": [
            "Precisión del Modelo:  0.929421430736262\n"
          ]
        }
      ],
      "source": [
        "# Precisiòn del Modelo\n",
        "print(\"Precisión del Modelo: \",metrics.r2_score(y_test,Y_pred))"
      ]
    },
    {
      "cell_type": "markdown",
      "metadata": {
        "id": "82LAX5DFDYqK"
      },
      "source": [
        "La precisiòn es buena, ya que este valor està cercano a la unidad."
      ]
    }
  ],
  "metadata": {
    "kernelspec": {
      "display_name": "Python 3",
      "language": "python",
      "name": "python3"
    },
    "language_info": {
      "codemirror_mode": {
        "name": "ipython",
        "version": 3
      },
      "file_extension": ".py",
      "mimetype": "text/x-python",
      "name": "python",
      "nbconvert_exporter": "python",
      "pygments_lexer": "ipython3",
      "version": "3.8.3"
    },
    "colab": {
      "provenance": []
    }
  },
  "nbformat": 4,
  "nbformat_minor": 0
}