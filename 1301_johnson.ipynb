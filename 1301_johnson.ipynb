{
  "nbformat": 4,
  "nbformat_minor": 0,
  "metadata": {
    "colab": {
      "name": "1301 - johnson.ipynb",
      "provenance": [],
      "authorship_tag": "ABX9TyN1FqMlR6iSaSGepEY/1Ox9",
      "include_colab_link": true
    },
    "kernelspec": {
      "name": "python3",
      "display_name": "Python 3"
    },
    "language_info": {
      "name": "python"
    }
  },
  "cells": [
    {
      "cell_type": "markdown",
      "metadata": {
        "id": "view-in-github",
        "colab_type": "text"
      },
      "source": [
        "<a href=\"https://colab.research.google.com/github/JeffersonEspinalA/Prueba/blob/main/1301_johnson.ipynb\" target=\"_parent\"><img src=\"https://colab.research.google.com/assets/colab-badge.svg\" alt=\"Open In Colab\"/></a>"
      ]
    },
    {
      "cell_type": "code",
      "execution_count": 11,
      "metadata": {
        "id": "J1aDdtvwcvr_"
      },
      "outputs": [],
      "source": [
        "import math\n",
        "\n",
        "def bellmanFord(G, s): # returns the path π and and whether or not a negative cycle exists\n",
        "    n = len(G)                      # |V|\n",
        "    π = [-1]*n                      # path\n",
        "    g = [math.inf]*n                # cost\n",
        "    g[s] = 0\n",
        "\n",
        "    for _ in range(n-1):            # repetir |V| - 1 veces\n",
        "        for u in range(n):\n",
        "            for v, w in G[u]:       # para cada arco (u, v, con peso w) de E\n",
        "                f = g[u] + w\n",
        "                if f < g[v]:        # relax(u, v, w)\n",
        "                    g[v] = f\n",
        "                    π[v] = u\n",
        "\n",
        "    \n",
        "    for u in range(n):              # para cada arco (u, v, con peso w) de E\n",
        "        for v, w in G[u]:\n",
        "            f = g[u] + w\n",
        "            if f < g[v]:            # se puede relajar?\n",
        "                return None, None         # existe ciclo negativo\n",
        "\n",
        "    return π, g                     # no existe ciclo negativo"
      ]
    },
    {
      "cell_type": "code",
      "source": [
        "import heapq as hq\n",
        "import math\n",
        "\n",
        "def dijkstra(G, s):\n",
        "  n = len(G)\n",
        "  visited = [False]*n\n",
        "  path = [-1]*n\n",
        "  cost = [math.inf]*n\n",
        "\n",
        "  cost[s] = 0\n",
        "  pqueue = [(0, s)]\n",
        "  while pqueue:\n",
        "    g, u = hq.heappop(pqueue)\n",
        "    if not visited[u]:\n",
        "      visited[u] = True\n",
        "      for v, w in G[u]:\n",
        "        if not visited[v]:\n",
        "          f = g + w\n",
        "          if f < cost[v]:\n",
        "            cost[v] = f\n",
        "            path[v] = u\n",
        "            hq.heappush(pqueue, (f, v))\n",
        "\n",
        "  return path, cost"
      ],
      "metadata": {
        "id": "LOIZ8N5Xc_8E"
      },
      "execution_count": 12,
      "outputs": []
    },
    {
      "cell_type": "code",
      "source": [
        "!git clone https://github.com/lmcanavals/acomplex.git"
      ],
      "metadata": {
        "colab": {
          "base_uri": "https://localhost:8080/"
        },
        "id": "mT_2grFjdRCm",
        "outputId": "79737975-51bc-4140-f323-e60f32728627"
      },
      "execution_count": 13,
      "outputs": [
        {
          "output_type": "stream",
          "name": "stdout",
          "text": [
            "fatal: destination path 'acomplex' already exists and is not an empty directory.\n"
          ]
        }
      ]
    },
    {
      "cell_type": "code",
      "source": [
        "from acomplex import graphstuff as gs"
      ],
      "metadata": {
        "id": "URNoUVh1dYMf"
      },
      "execution_count": 14,
      "outputs": []
    },
    {
      "cell_type": "code",
      "source": [
        "%%file 1201a.al\n",
        "3 2\n",
        "0 6 2 3\n",
        "0 4 3 5\n",
        "1 -7 2 -3"
      ],
      "metadata": {
        "colab": {
          "base_uri": "https://localhost:8080/"
        },
        "id": "hSHvUDn_dcA8",
        "outputId": "a6f7907f-ad3d-42a2-a65e-ee6a5896ffa4"
      },
      "execution_count": 15,
      "outputs": [
        {
          "output_type": "stream",
          "name": "stdout",
          "text": [
            "Overwriting 1201a.al\n"
          ]
        }
      ]
    },
    {
      "cell_type": "code",
      "source": [
        "labels = \"wxyzS\""
      ],
      "metadata": {
        "id": "R4hxCLMMkZAc"
      },
      "execution_count": 25,
      "outputs": []
    },
    {
      "cell_type": "code",
      "source": [
        "import numpy as np\n",
        "\n",
        "def johnson(G):\n",
        "  n = len(G)\n",
        "  G.append([(n-1, 0)])\n",
        "  _, g = bellmanFord(G, n)\n",
        "  if g == None:\n",
        "    return None\n",
        "  G.pop()\n",
        "  Gprime = [[(v, w + g[u] - g[v]) for v, w in G[u]] for u in range(n)]\n",
        "\n",
        "  paths = np.full((n, n), -1, dtype=int)\n",
        "  for u in range(n):\n",
        "    path, _ = dijkstra(Gprime, u)\n",
        "    paths[u] = path\n",
        "\n",
        "  return paths"
      ],
      "metadata": {
        "id": "LFOkXOFMdnyY"
      },
      "execution_count": 26,
      "outputs": []
    },
    {
      "cell_type": "code",
      "source": [
        "G = gs.loadGraphAL(\"1201a.al\")\n",
        "paths = johnson(G)\n",
        "print(paths)"
      ],
      "metadata": {
        "colab": {
          "base_uri": "https://localhost:8080/"
        },
        "id": "v9VUyrb2jf7E",
        "outputId": "d7e7d524-0f4b-40a6-c28d-6adb1e3170d3"
      },
      "execution_count": 27,
      "outputs": [
        {
          "output_type": "stream",
          "name": "stdout",
          "text": [
            "[[-1  3  1  0]\n",
            " [ 1 -1  1  0]\n",
            " [ 2  3 -1  2]\n",
            " [ 1  3  1 -1]]\n"
          ]
        }
      ]
    },
    {
      "cell_type": "code",
      "source": [
        "gs.adjlShow(G, labels, path=paths[0], directed = True, weighted = True, layout= \"circo\")"
      ],
      "metadata": {
        "colab": {
          "base_uri": "https://localhost:8080/",
          "height": 238
        },
        "id": "70FfnVCMj-mp",
        "outputId": "ad101a9c-cf85-4f13-872f-1d269bdbc61e"
      },
      "execution_count": 28,
      "outputs": [
        {
          "output_type": "execute_result",
          "data": {
            "text/plain": [
              "<graphviz.dot.Digraph at 0x7f3eb3c54410>"
            ],
            "image/svg+xml": "<?xml version=\"1.0\" encoding=\"UTF-8\" standalone=\"no\"?>\n<!DOCTYPE svg PUBLIC \"-//W3C//DTD SVG 1.1//EN\"\n \"http://www.w3.org/Graphics/SVG/1.1/DTD/svg11.dtd\">\n<!-- Generated by graphviz version 2.40.1 (20161225.0304)\n -->\n<!-- Title: G Pages: 1 -->\n<svg width=\"170pt\" height=\"163pt\"\n viewBox=\"0.00 0.00 170.40 163.33\" xmlns=\"http://www.w3.org/2000/svg\" xmlns:xlink=\"http://www.w3.org/1999/xlink\">\n<g id=\"graph0\" class=\"graph\" transform=\"scale(1 1) rotate(0) translate(4 159.3288)\">\n<title>G</title>\n<polygon fill=\"#ffffff\" stroke=\"transparent\" points=\"-4,4 -4,-159.3288 166.3999,-159.3288 166.3999,4 -4,4\"/>\n<!-- 0 -->\n<g id=\"node1\" class=\"node\">\n<title>0</title>\n<ellipse fill=\"none\" stroke=\"#ff4500\" cx=\"81.1999\" cy=\"-12.0208\" rx=\"15.6129\" ry=\"12.0417\"/>\n<text text-anchor=\"middle\" x=\"81.1999\" y=\"-10.1208\" font-family=\"monospace\" font-size=\"8.00\" fill=\"#7b68ee\">w</text>\n</g>\n<!-- 3 -->\n<g id=\"node4\" class=\"node\">\n<title>3</title>\n<ellipse fill=\"none\" stroke=\"#ff4500\" cx=\"15.5563\" cy=\"-77.6644\" rx=\"15.6129\" ry=\"12.0417\"/>\n<text text-anchor=\"middle\" x=\"15.5563\" y=\"-75.7644\" font-family=\"monospace\" font-size=\"8.00\" fill=\"#7b68ee\">z</text>\n</g>\n<!-- 0&#45;&gt;3 -->\n<g id=\"edge3\" class=\"edge\">\n<title>0&#45;&gt;3</title>\n<path fill=\"none\" stroke=\"#ffa500\" stroke-width=\"2\" d=\"M67.6879,-18.4485C55.5766,-27.7225 38.2679,-44.6466 26.8679,-58.1148\"/>\n<polygon fill=\"#ffa500\" stroke=\"#ffa500\" stroke-width=\"2\" points=\"24.118,-55.9495 20.6327,-65.9547 29.5966,-60.3068 24.118,-55.9495\"/>\n<text text-anchor=\"middle\" x=\"44.2779\" y=\"-40.8816\" font-family=\"monospace\" font-size=\"8.00\" fill=\"#000000\">2</text>\n</g>\n<!-- 0&#45;&gt;3 -->\n<g id=\"edge4\" class=\"edge\">\n<title>0&#45;&gt;3</title>\n<path fill=\"none\" stroke=\"#c0c0c0\" d=\"M76.1906,-23.6391C67.6648,-35.3009 50.6986,-52.8918 36.7993,-64.9043\"/>\n<polygon fill=\"#c0c0c0\" stroke=\"#c0c0c0\" points=\"34.5757,-62.2013 29.057,-71.2454 39.0111,-67.6168 34.5757,-62.2013\"/>\n<text text-anchor=\"middle\" x=\"53.4949\" y=\"-46.8717\" font-family=\"monospace\" font-size=\"8.00\" fill=\"#000000\">2</text>\n</g>\n<!-- 1 -->\n<g id=\"node2\" class=\"node\">\n<title>1</title>\n<ellipse fill=\"none\" stroke=\"#ff4500\" cx=\"146.8435\" cy=\"-77.6644\" rx=\"15.6129\" ry=\"12.0417\"/>\n<text text-anchor=\"middle\" x=\"146.8435\" y=\"-75.7644\" font-family=\"monospace\" font-size=\"8.00\" fill=\"#7b68ee\">x</text>\n</g>\n<!-- 1&#45;&gt;0 -->\n<g id=\"edge5\" class=\"edge\">\n<title>1&#45;&gt;0</title>\n<path fill=\"none\" stroke=\"#c0c0c0\" d=\"M137.1576,-67.9785C126.8797,-57.7006 110.4436,-41.2645 98.0379,-28.8588\"/>\n<polygon fill=\"#c0c0c0\" stroke=\"#c0c0c0\" points=\"100.4716,-26.3427 90.9256,-21.7465 95.5218,-31.2925 100.4716,-26.3427\"/>\n<text text-anchor=\"middle\" x=\"114.5978\" y=\"-51.0186\" font-family=\"monospace\" font-size=\"8.00\" fill=\"#000000\">6</text>\n</g>\n<!-- 2 -->\n<g id=\"node3\" class=\"node\">\n<title>2</title>\n<ellipse fill=\"none\" stroke=\"#ff4500\" cx=\"81.1999\" cy=\"-143.308\" rx=\"15.6129\" ry=\"12.0417\"/>\n<text text-anchor=\"middle\" x=\"81.1999\" y=\"-141.408\" font-family=\"monospace\" font-size=\"8.00\" fill=\"#7b68ee\">y</text>\n</g>\n<!-- 1&#45;&gt;2 -->\n<g id=\"edge2\" class=\"edge\">\n<title>1&#45;&gt;2</title>\n<path fill=\"none\" stroke=\"#ffa500\" stroke-width=\"2\" d=\"M133.3315,-84.0921C121.2202,-93.3661 103.9115,-110.2902 92.5115,-123.7584\"/>\n<polygon fill=\"#ffa500\" stroke=\"#ffa500\" stroke-width=\"2\" points=\"89.7616,-121.5931 86.2763,-131.5983 95.2402,-125.9504 89.7616,-121.5931\"/>\n<text text-anchor=\"middle\" x=\"109.9215\" y=\"-106.5252\" font-family=\"monospace\" font-size=\"8.00\" fill=\"#000000\">3</text>\n</g>\n<!-- 1&#45;&gt;2 -->\n<g id=\"edge6\" class=\"edge\">\n<title>1&#45;&gt;2</title>\n<path fill=\"none\" stroke=\"#c0c0c0\" d=\"M141.8341,-89.2826C133.3084,-100.9445 116.3422,-118.5354 102.4429,-130.5478\"/>\n<polygon fill=\"#c0c0c0\" stroke=\"#c0c0c0\" points=\"100.2192,-127.8449 94.7006,-136.889 104.6547,-133.2604 100.2192,-127.8449\"/>\n<text text-anchor=\"middle\" x=\"119.1385\" y=\"-112.5152\" font-family=\"monospace\" font-size=\"8.00\" fill=\"#000000\">3</text>\n</g>\n<!-- 2&#45;&gt;0 -->\n<g id=\"edge7\" class=\"edge\">\n<title>2&#45;&gt;0</title>\n<path fill=\"none\" stroke=\"#c0c0c0\" d=\"M81.1999,-131.1921C81.1999,-109.1123 81.1999,-62.0326 81.1999,-34.1107\"/>\n<polygon fill=\"#c0c0c0\" stroke=\"#c0c0c0\" points=\"84.7,-34.1074 81.1999,-24.1074 77.7,-34.1074 84.7,-34.1074\"/>\n<text text-anchor=\"middle\" x=\"78.1999\" y=\"-85.2514\" font-family=\"monospace\" font-size=\"8.00\" fill=\"#000000\">4</text>\n</g>\n<!-- 2&#45;&gt;3 -->\n<g id=\"edge8\" class=\"edge\">\n<title>2&#45;&gt;3</title>\n<path fill=\"none\" stroke=\"#c0c0c0\" d=\"M76.1906,-131.6897C67.6648,-120.0279 50.6986,-102.437 36.7993,-90.4245\"/>\n<polygon fill=\"#c0c0c0\" stroke=\"#c0c0c0\" points=\"39.0111,-87.712 29.057,-84.0834 34.5757,-93.1275 39.0111,-87.712\"/>\n<text text-anchor=\"middle\" x=\"53.4949\" y=\"-113.6571\" font-family=\"monospace\" font-size=\"8.00\" fill=\"#000000\">5</text>\n</g>\n<!-- 3&#45;&gt;1 -->\n<g id=\"edge1\" class=\"edge\">\n<title>3&#45;&gt;1</title>\n<path fill=\"none\" stroke=\"#ffa500\" stroke-width=\"2\" d=\"M30.108,-82.097C52.2882,-84.8104 94.8347,-85.141 121.9781,-83.0888\"/>\n<polygon fill=\"#ffa500\" stroke=\"#ffa500\" stroke-width=\"2\" points=\"122.607,-86.5447 132.2267,-82.1049 121.9379,-79.5767 122.607,-86.5447\"/>\n<text text-anchor=\"middle\" x=\"70.5431\" y=\"-76.1929\" font-family=\"monospace\" font-size=\"8.00\" fill=\"#000000\">&#45;7</text>\n</g>\n<!-- 3&#45;&gt;1 -->\n<g id=\"edge9\" class=\"edge\">\n<title>3&#45;&gt;1</title>\n<path fill=\"none\" stroke=\"#c0c0c0\" d=\"M30.108,-73.2318C52.2882,-70.5184 94.8347,-70.1878 121.9781,-72.2399\"/>\n<polygon fill=\"#c0c0c0\" stroke=\"#c0c0c0\" points=\"121.9379,-75.7521 132.2267,-73.2239 122.607,-68.7841 121.9379,-75.7521\"/>\n<text text-anchor=\"middle\" x=\"70.5431\" y=\"-66.3359\" font-family=\"monospace\" font-size=\"8.00\" fill=\"#000000\">&#45;7</text>\n</g>\n<!-- 3&#45;&gt;2 -->\n<g id=\"edge10\" class=\"edge\">\n<title>3&#45;&gt;2</title>\n<path fill=\"none\" stroke=\"#c0c0c0\" d=\"M20.5657,-89.2826C29.0915,-100.9445 46.0577,-118.5354 59.957,-130.5478\"/>\n<polygon fill=\"#c0c0c0\" stroke=\"#c0c0c0\" points=\"57.7452,-133.2604 67.6993,-136.889 62.1806,-127.8449 57.7452,-133.2604\"/>\n<text text-anchor=\"middle\" x=\"34.7614\" y=\"-112.5152\" font-family=\"monospace\" font-size=\"8.00\" fill=\"#000000\">&#45;3</text>\n</g>\n</g>\n</svg>\n"
          },
          "metadata": {},
          "execution_count": 28
        }
      ]
    },
    {
      "cell_type": "code",
      "source": [
        "gs.adjlShow(G, labels, path=paths[1], directed = True, weighted = True, layout= \"circo\")"
      ],
      "metadata": {
        "colab": {
          "base_uri": "https://localhost:8080/",
          "height": 238
        },
        "id": "rHnsB_14jn00",
        "outputId": "f8966816-01e6-403b-9e3b-8b6e5356b87e"
      },
      "execution_count": 29,
      "outputs": [
        {
          "output_type": "execute_result",
          "data": {
            "text/plain": [
              "<graphviz.dot.Digraph at 0x7f3eb3e52e90>"
            ],
            "image/svg+xml": "<?xml version=\"1.0\" encoding=\"UTF-8\" standalone=\"no\"?>\n<!DOCTYPE svg PUBLIC \"-//W3C//DTD SVG 1.1//EN\"\n \"http://www.w3.org/Graphics/SVG/1.1/DTD/svg11.dtd\">\n<!-- Generated by graphviz version 2.40.1 (20161225.0304)\n -->\n<!-- Title: G Pages: 1 -->\n<svg width=\"170pt\" height=\"163pt\"\n viewBox=\"0.00 0.00 170.40 163.33\" xmlns=\"http://www.w3.org/2000/svg\" xmlns:xlink=\"http://www.w3.org/1999/xlink\">\n<g id=\"graph0\" class=\"graph\" transform=\"scale(1 1) rotate(0) translate(4 159.3288)\">\n<title>G</title>\n<polygon fill=\"#ffffff\" stroke=\"transparent\" points=\"-4,4 -4,-159.3288 166.3999,-159.3288 166.3999,4 -4,4\"/>\n<!-- 0 -->\n<g id=\"node1\" class=\"node\">\n<title>0</title>\n<ellipse fill=\"none\" stroke=\"#ff4500\" cx=\"81.1999\" cy=\"-12.0208\" rx=\"15.6129\" ry=\"12.0417\"/>\n<text text-anchor=\"middle\" x=\"81.1999\" y=\"-10.1208\" font-family=\"monospace\" font-size=\"8.00\" fill=\"#7b68ee\">w</text>\n</g>\n<!-- 3 -->\n<g id=\"node4\" class=\"node\">\n<title>3</title>\n<ellipse fill=\"none\" stroke=\"#ff4500\" cx=\"15.5563\" cy=\"-77.6644\" rx=\"15.6129\" ry=\"12.0417\"/>\n<text text-anchor=\"middle\" x=\"15.5563\" y=\"-75.7644\" font-family=\"monospace\" font-size=\"8.00\" fill=\"#7b68ee\">z</text>\n</g>\n<!-- 0&#45;&gt;3 -->\n<g id=\"edge3\" class=\"edge\">\n<title>0&#45;&gt;3</title>\n<path fill=\"none\" stroke=\"#ffa500\" stroke-width=\"2\" d=\"M67.6879,-18.4485C55.5766,-27.7225 38.2679,-44.6466 26.8679,-58.1148\"/>\n<polygon fill=\"#ffa500\" stroke=\"#ffa500\" stroke-width=\"2\" points=\"24.118,-55.9495 20.6327,-65.9547 29.5966,-60.3068 24.118,-55.9495\"/>\n<text text-anchor=\"middle\" x=\"44.2779\" y=\"-40.8816\" font-family=\"monospace\" font-size=\"8.00\" fill=\"#000000\">2</text>\n</g>\n<!-- 0&#45;&gt;3 -->\n<g id=\"edge4\" class=\"edge\">\n<title>0&#45;&gt;3</title>\n<path fill=\"none\" stroke=\"#c0c0c0\" d=\"M76.1906,-23.6391C67.6648,-35.3009 50.6986,-52.8918 36.7993,-64.9043\"/>\n<polygon fill=\"#c0c0c0\" stroke=\"#c0c0c0\" points=\"34.5757,-62.2013 29.057,-71.2454 39.0111,-67.6168 34.5757,-62.2013\"/>\n<text text-anchor=\"middle\" x=\"53.4949\" y=\"-46.8717\" font-family=\"monospace\" font-size=\"8.00\" fill=\"#000000\">2</text>\n</g>\n<!-- 1 -->\n<g id=\"node2\" class=\"node\">\n<title>1</title>\n<ellipse fill=\"none\" stroke=\"#ff4500\" cx=\"146.8435\" cy=\"-77.6644\" rx=\"15.6129\" ry=\"12.0417\"/>\n<text text-anchor=\"middle\" x=\"146.8435\" y=\"-75.7644\" font-family=\"monospace\" font-size=\"8.00\" fill=\"#7b68ee\">x</text>\n</g>\n<!-- 1&#45;&gt;0 -->\n<g id=\"edge1\" class=\"edge\">\n<title>1&#45;&gt;0</title>\n<path fill=\"none\" stroke=\"#ffa500\" stroke-width=\"2\" d=\"M141.8341,-66.0462C133.3084,-54.3843 116.3422,-36.7934 102.4429,-24.781\"/>\n<polygon fill=\"#ffa500\" stroke=\"#ffa500\" stroke-width=\"2\" points=\"104.6547,-22.0684 94.7006,-18.4398 100.2192,-27.4839 104.6547,-22.0684\"/>\n<text text-anchor=\"middle\" x=\"119.1385\" y=\"-48.0136\" font-family=\"monospace\" font-size=\"8.00\" fill=\"#000000\">6</text>\n</g>\n<!-- 1&#45;&gt;0 -->\n<g id=\"edge5\" class=\"edge\">\n<title>1&#45;&gt;0</title>\n<path fill=\"none\" stroke=\"#c0c0c0\" d=\"M133.3315,-71.2367C121.2202,-61.9627 103.9115,-45.0386 92.5115,-31.5704\"/>\n<polygon fill=\"#c0c0c0\" stroke=\"#c0c0c0\" points=\"95.2402,-29.3784 86.2763,-23.7305 89.7616,-33.7357 95.2402,-29.3784\"/>\n<text text-anchor=\"middle\" x=\"109.9215\" y=\"-54.0036\" font-family=\"monospace\" font-size=\"8.00\" fill=\"#000000\">6</text>\n</g>\n<!-- 2 -->\n<g id=\"node3\" class=\"node\">\n<title>2</title>\n<ellipse fill=\"none\" stroke=\"#ff4500\" cx=\"81.1999\" cy=\"-143.308\" rx=\"15.6129\" ry=\"12.0417\"/>\n<text text-anchor=\"middle\" x=\"81.1999\" y=\"-141.408\" font-family=\"monospace\" font-size=\"8.00\" fill=\"#7b68ee\">y</text>\n</g>\n<!-- 1&#45;&gt;2 -->\n<g id=\"edge2\" class=\"edge\">\n<title>1&#45;&gt;2</title>\n<path fill=\"none\" stroke=\"#ffa500\" stroke-width=\"2\" d=\"M133.3315,-84.0921C121.2202,-93.3661 103.9115,-110.2902 92.5115,-123.7584\"/>\n<polygon fill=\"#ffa500\" stroke=\"#ffa500\" stroke-width=\"2\" points=\"89.7616,-121.5931 86.2763,-131.5983 95.2402,-125.9504 89.7616,-121.5931\"/>\n<text text-anchor=\"middle\" x=\"109.9215\" y=\"-106.5252\" font-family=\"monospace\" font-size=\"8.00\" fill=\"#000000\">3</text>\n</g>\n<!-- 1&#45;&gt;2 -->\n<g id=\"edge6\" class=\"edge\">\n<title>1&#45;&gt;2</title>\n<path fill=\"none\" stroke=\"#c0c0c0\" d=\"M141.8341,-89.2826C133.3084,-100.9445 116.3422,-118.5354 102.4429,-130.5478\"/>\n<polygon fill=\"#c0c0c0\" stroke=\"#c0c0c0\" points=\"100.2192,-127.8449 94.7006,-136.889 104.6547,-133.2604 100.2192,-127.8449\"/>\n<text text-anchor=\"middle\" x=\"119.1385\" y=\"-112.5152\" font-family=\"monospace\" font-size=\"8.00\" fill=\"#000000\">3</text>\n</g>\n<!-- 2&#45;&gt;0 -->\n<g id=\"edge7\" class=\"edge\">\n<title>2&#45;&gt;0</title>\n<path fill=\"none\" stroke=\"#c0c0c0\" d=\"M81.1999,-131.1921C81.1999,-109.1123 81.1999,-62.0326 81.1999,-34.1107\"/>\n<polygon fill=\"#c0c0c0\" stroke=\"#c0c0c0\" points=\"84.7,-34.1074 81.1999,-24.1074 77.7,-34.1074 84.7,-34.1074\"/>\n<text text-anchor=\"middle\" x=\"78.1999\" y=\"-85.2514\" font-family=\"monospace\" font-size=\"8.00\" fill=\"#000000\">4</text>\n</g>\n<!-- 2&#45;&gt;3 -->\n<g id=\"edge8\" class=\"edge\">\n<title>2&#45;&gt;3</title>\n<path fill=\"none\" stroke=\"#c0c0c0\" d=\"M76.1906,-131.6897C67.6648,-120.0279 50.6986,-102.437 36.7993,-90.4245\"/>\n<polygon fill=\"#c0c0c0\" stroke=\"#c0c0c0\" points=\"39.0111,-87.712 29.057,-84.0834 34.5757,-93.1275 39.0111,-87.712\"/>\n<text text-anchor=\"middle\" x=\"53.4949\" y=\"-113.6571\" font-family=\"monospace\" font-size=\"8.00\" fill=\"#000000\">5</text>\n</g>\n<!-- 3&#45;&gt;1 -->\n<g id=\"edge9\" class=\"edge\">\n<title>3&#45;&gt;1</title>\n<path fill=\"none\" stroke=\"#c0c0c0\" d=\"M31.1323,-77.6644C53.2205,-77.6644 93.9295,-77.6644 120.6947,-77.6644\"/>\n<polygon fill=\"#c0c0c0\" stroke=\"#c0c0c0\" points=\"120.8785,-81.1645 130.8784,-77.6644 120.8784,-74.1645 120.8785,-81.1645\"/>\n<text text-anchor=\"middle\" x=\"70.4135\" y=\"-80.2644\" font-family=\"monospace\" font-size=\"8.00\" fill=\"#000000\">&#45;7</text>\n</g>\n<!-- 3&#45;&gt;2 -->\n<g id=\"edge10\" class=\"edge\">\n<title>3&#45;&gt;2</title>\n<path fill=\"none\" stroke=\"#c0c0c0\" d=\"M20.5657,-89.2826C29.0915,-100.9445 46.0577,-118.5354 59.957,-130.5478\"/>\n<polygon fill=\"#c0c0c0\" stroke=\"#c0c0c0\" points=\"57.7452,-133.2604 67.6993,-136.889 62.1806,-127.8449 57.7452,-133.2604\"/>\n<text text-anchor=\"middle\" x=\"34.7614\" y=\"-112.5152\" font-family=\"monospace\" font-size=\"8.00\" fill=\"#000000\">&#45;3</text>\n</g>\n</g>\n</svg>\n"
          },
          "metadata": {},
          "execution_count": 29
        }
      ]
    },
    {
      "cell_type": "code",
      "source": [
        "gs.adjlShow(G, labels, path=paths[2], directed = True, weighted = True, layout= \"circo\")"
      ],
      "metadata": {
        "colab": {
          "base_uri": "https://localhost:8080/",
          "height": 238
        },
        "id": "oZC4778pkDBd",
        "outputId": "3d40e9fd-5a7b-49f6-e7f4-40674fd9dfe9"
      },
      "execution_count": 30,
      "outputs": [
        {
          "output_type": "execute_result",
          "data": {
            "text/plain": [
              "<graphviz.dot.Digraph at 0x7f3eb3e0e8d0>"
            ],
            "image/svg+xml": "<?xml version=\"1.0\" encoding=\"UTF-8\" standalone=\"no\"?>\n<!DOCTYPE svg PUBLIC \"-//W3C//DTD SVG 1.1//EN\"\n \"http://www.w3.org/Graphics/SVG/1.1/DTD/svg11.dtd\">\n<!-- Generated by graphviz version 2.40.1 (20161225.0304)\n -->\n<!-- Title: G Pages: 1 -->\n<svg width=\"170pt\" height=\"163pt\"\n viewBox=\"0.00 0.00 170.40 163.33\" xmlns=\"http://www.w3.org/2000/svg\" xmlns:xlink=\"http://www.w3.org/1999/xlink\">\n<g id=\"graph0\" class=\"graph\" transform=\"scale(1 1) rotate(0) translate(4 159.3288)\">\n<title>G</title>\n<polygon fill=\"#ffffff\" stroke=\"transparent\" points=\"-4,4 -4,-159.3288 166.3999,-159.3288 166.3999,4 -4,4\"/>\n<!-- 0 -->\n<g id=\"node1\" class=\"node\">\n<title>0</title>\n<ellipse fill=\"none\" stroke=\"#ff4500\" cx=\"81.1999\" cy=\"-12.0208\" rx=\"15.6129\" ry=\"12.0417\"/>\n<text text-anchor=\"middle\" x=\"81.1999\" y=\"-10.1208\" font-family=\"monospace\" font-size=\"8.00\" fill=\"#7b68ee\">w</text>\n</g>\n<!-- 3 -->\n<g id=\"node4\" class=\"node\">\n<title>3</title>\n<ellipse fill=\"none\" stroke=\"#ff4500\" cx=\"15.5563\" cy=\"-77.6644\" rx=\"15.6129\" ry=\"12.0417\"/>\n<text text-anchor=\"middle\" x=\"15.5563\" y=\"-75.7644\" font-family=\"monospace\" font-size=\"8.00\" fill=\"#7b68ee\">z</text>\n</g>\n<!-- 0&#45;&gt;3 -->\n<g id=\"edge4\" class=\"edge\">\n<title>0&#45;&gt;3</title>\n<path fill=\"none\" stroke=\"#c0c0c0\" d=\"M71.514,-21.7068C61.2361,-31.9846 44.8,-48.4208 32.3943,-60.8264\"/>\n<polygon fill=\"#c0c0c0\" stroke=\"#c0c0c0\" points=\"29.8782,-58.3927 25.282,-67.9387 34.828,-63.3425 29.8782,-58.3927\"/>\n<text text-anchor=\"middle\" x=\"48.9542\" y=\"-43.8666\" font-family=\"monospace\" font-size=\"8.00\" fill=\"#000000\">2</text>\n</g>\n<!-- 1 -->\n<g id=\"node2\" class=\"node\">\n<title>1</title>\n<ellipse fill=\"none\" stroke=\"#ff4500\" cx=\"146.8435\" cy=\"-77.6644\" rx=\"15.6129\" ry=\"12.0417\"/>\n<text text-anchor=\"middle\" x=\"146.8435\" y=\"-75.7644\" font-family=\"monospace\" font-size=\"8.00\" fill=\"#7b68ee\">x</text>\n</g>\n<!-- 1&#45;&gt;0 -->\n<g id=\"edge5\" class=\"edge\">\n<title>1&#45;&gt;0</title>\n<path fill=\"none\" stroke=\"#c0c0c0\" d=\"M137.1576,-67.9785C126.8797,-57.7006 110.4436,-41.2645 98.0379,-28.8588\"/>\n<polygon fill=\"#c0c0c0\" stroke=\"#c0c0c0\" points=\"100.4716,-26.3427 90.9256,-21.7465 95.5218,-31.2925 100.4716,-26.3427\"/>\n<text text-anchor=\"middle\" x=\"114.5978\" y=\"-51.0186\" font-family=\"monospace\" font-size=\"8.00\" fill=\"#000000\">6</text>\n</g>\n<!-- 2 -->\n<g id=\"node3\" class=\"node\">\n<title>2</title>\n<ellipse fill=\"none\" stroke=\"#ff4500\" cx=\"81.1999\" cy=\"-143.308\" rx=\"15.6129\" ry=\"12.0417\"/>\n<text text-anchor=\"middle\" x=\"81.1999\" y=\"-141.408\" font-family=\"monospace\" font-size=\"8.00\" fill=\"#7b68ee\">y</text>\n</g>\n<!-- 1&#45;&gt;2 -->\n<g id=\"edge6\" class=\"edge\">\n<title>1&#45;&gt;2</title>\n<path fill=\"none\" stroke=\"#c0c0c0\" d=\"M137.1576,-87.3503C126.8797,-97.6282 110.4436,-114.0643 98.0379,-126.47\"/>\n<polygon fill=\"#c0c0c0\" stroke=\"#c0c0c0\" points=\"95.5218,-124.0363 90.9256,-133.5823 100.4716,-128.9861 95.5218,-124.0363\"/>\n<text text-anchor=\"middle\" x=\"114.5978\" y=\"-109.5102\" font-family=\"monospace\" font-size=\"8.00\" fill=\"#000000\">3</text>\n</g>\n<!-- 2&#45;&gt;0 -->\n<g id=\"edge1\" class=\"edge\">\n<title>2&#45;&gt;0</title>\n<path fill=\"none\" stroke=\"#ffa500\" stroke-width=\"2\" d=\"M85.2469,-131.6571C88.4217,-109.7181 88.7998,-61.9627 86.3813,-33.874\"/>\n<polygon fill=\"#ffa500\" stroke=\"#ffa500\" stroke-width=\"2\" points=\"89.849,-33.3886 85.2703,-23.8343 82.8915,-34.1586 89.849,-33.3886\"/>\n<text text-anchor=\"middle\" x=\"82.8141\" y=\"-85.3656\" font-family=\"monospace\" font-size=\"8.00\" fill=\"#000000\">4</text>\n</g>\n<!-- 2&#45;&gt;0 -->\n<g id=\"edge7\" class=\"edge\">\n<title>2&#45;&gt;0</title>\n<path fill=\"none\" stroke=\"#c0c0c0\" d=\"M77.153,-131.6571C73.9782,-109.7181 73.6,-61.9627 76.0186,-33.874\"/>\n<polygon fill=\"#c0c0c0\" stroke=\"#c0c0c0\" points=\"79.5084,-34.1586 77.1296,-23.8343 72.5508,-33.3886 79.5084,-34.1586\"/>\n<text text-anchor=\"middle\" x=\"73.5858\" y=\"-85.3656\" font-family=\"monospace\" font-size=\"8.00\" fill=\"#000000\">4</text>\n</g>\n<!-- 2&#45;&gt;3 -->\n<g id=\"edge3\" class=\"edge\">\n<title>2&#45;&gt;3</title>\n<path fill=\"none\" stroke=\"#ffa500\" stroke-width=\"2\" d=\"M80.8154,-131.1041C74.7368,-117.3632 55.9943,-97.0131 39.8175,-85.2835\"/>\n<polygon fill=\"#ffa500\" stroke=\"#ffa500\" stroke-width=\"2\" points=\"41.498,-82.2034 31.191,-79.7506 37.7189,-88.0956 41.498,-82.2034\"/>\n<text text-anchor=\"middle\" x=\"57.3165\" y=\"-110.7938\" font-family=\"monospace\" font-size=\"8.00\" fill=\"#000000\">5</text>\n</g>\n<!-- 2&#45;&gt;3 -->\n<g id=\"edge8\" class=\"edge\">\n<title>2&#45;&gt;3</title>\n<path fill=\"none\" stroke=\"#c0c0c0\" d=\"M65.5749,-141.227C51.167,-133.3776 31.583,-114.5372 21.1573,-99.0399\"/>\n<polygon fill=\"#c0c0c0\" stroke=\"#c0c0c0\" points=\"23.9698,-96.9061 15.9775,-89.9509 17.8881,-100.3721 23.9698,-96.9061\"/>\n<text text-anchor=\"middle\" x=\"40.3661\" y=\"-122.7335\" font-family=\"monospace\" font-size=\"8.00\" fill=\"#000000\">5</text>\n</g>\n<!-- 3&#45;&gt;1 -->\n<g id=\"edge2\" class=\"edge\">\n<title>3&#45;&gt;1</title>\n<path fill=\"none\" stroke=\"#ffa500\" stroke-width=\"2\" d=\"M30.108,-82.097C52.2882,-84.8104 94.8347,-85.141 121.9781,-83.0888\"/>\n<polygon fill=\"#ffa500\" stroke=\"#ffa500\" stroke-width=\"2\" points=\"122.607,-86.5447 132.2267,-82.1049 121.9379,-79.5767 122.607,-86.5447\"/>\n<text text-anchor=\"middle\" x=\"70.5431\" y=\"-76.1929\" font-family=\"monospace\" font-size=\"8.00\" fill=\"#000000\">&#45;7</text>\n</g>\n<!-- 3&#45;&gt;1 -->\n<g id=\"edge9\" class=\"edge\">\n<title>3&#45;&gt;1</title>\n<path fill=\"none\" stroke=\"#c0c0c0\" d=\"M30.108,-73.2318C52.2882,-70.5184 94.8347,-70.1878 121.9781,-72.2399\"/>\n<polygon fill=\"#c0c0c0\" stroke=\"#c0c0c0\" points=\"121.9379,-75.7521 132.2267,-73.2239 122.607,-68.7841 121.9379,-75.7521\"/>\n<text text-anchor=\"middle\" x=\"70.5431\" y=\"-66.3359\" font-family=\"monospace\" font-size=\"8.00\" fill=\"#000000\">&#45;7</text>\n</g>\n<!-- 3&#45;&gt;2 -->\n<g id=\"edge10\" class=\"edge\">\n<title>3&#45;&gt;2</title>\n<path fill=\"none\" stroke=\"#c0c0c0\" d=\"M25.2423,-87.3503C35.5201,-97.6282 51.9563,-114.0643 64.3619,-126.47\"/>\n<polygon fill=\"#c0c0c0\" stroke=\"#c0c0c0\" points=\"61.9283,-128.9861 71.4743,-133.5823 66.878,-124.0363 61.9283,-128.9861\"/>\n<text text-anchor=\"middle\" x=\"39.3021\" y=\"-109.5102\" font-family=\"monospace\" font-size=\"8.00\" fill=\"#000000\">&#45;3</text>\n</g>\n</g>\n</svg>\n"
          },
          "metadata": {},
          "execution_count": 30
        }
      ]
    },
    {
      "cell_type": "code",
      "source": [
        "gs.adjlShow(G, labels, path=paths[3], directed = True, weighted = True, layout= \"circo\")"
      ],
      "metadata": {
        "colab": {
          "base_uri": "https://localhost:8080/",
          "height": 238
        },
        "id": "AVHPFLfdkFWC",
        "outputId": "5cd744e5-5631-45ed-a708-d0bfbcb06881"
      },
      "execution_count": 31,
      "outputs": [
        {
          "output_type": "execute_result",
          "data": {
            "text/plain": [
              "<graphviz.dot.Digraph at 0x7f3eb3f3af10>"
            ],
            "image/svg+xml": "<?xml version=\"1.0\" encoding=\"UTF-8\" standalone=\"no\"?>\n<!DOCTYPE svg PUBLIC \"-//W3C//DTD SVG 1.1//EN\"\n \"http://www.w3.org/Graphics/SVG/1.1/DTD/svg11.dtd\">\n<!-- Generated by graphviz version 2.40.1 (20161225.0304)\n -->\n<!-- Title: G Pages: 1 -->\n<svg width=\"170pt\" height=\"163pt\"\n viewBox=\"0.00 0.00 170.40 163.33\" xmlns=\"http://www.w3.org/2000/svg\" xmlns:xlink=\"http://www.w3.org/1999/xlink\">\n<g id=\"graph0\" class=\"graph\" transform=\"scale(1 1) rotate(0) translate(4 159.3288)\">\n<title>G</title>\n<polygon fill=\"#ffffff\" stroke=\"transparent\" points=\"-4,4 -4,-159.3288 166.3999,-159.3288 166.3999,4 -4,4\"/>\n<!-- 0 -->\n<g id=\"node1\" class=\"node\">\n<title>0</title>\n<ellipse fill=\"none\" stroke=\"#ff4500\" cx=\"81.1999\" cy=\"-12.0208\" rx=\"15.6129\" ry=\"12.0417\"/>\n<text text-anchor=\"middle\" x=\"81.1999\" y=\"-10.1208\" font-family=\"monospace\" font-size=\"8.00\" fill=\"#7b68ee\">w</text>\n</g>\n<!-- 3 -->\n<g id=\"node4\" class=\"node\">\n<title>3</title>\n<ellipse fill=\"none\" stroke=\"#ff4500\" cx=\"15.5563\" cy=\"-77.6644\" rx=\"15.6129\" ry=\"12.0417\"/>\n<text text-anchor=\"middle\" x=\"15.5563\" y=\"-75.7644\" font-family=\"monospace\" font-size=\"8.00\" fill=\"#7b68ee\">z</text>\n</g>\n<!-- 0&#45;&gt;3 -->\n<g id=\"edge4\" class=\"edge\">\n<title>0&#45;&gt;3</title>\n<path fill=\"none\" stroke=\"#c0c0c0\" d=\"M71.514,-21.7068C61.2361,-31.9846 44.8,-48.4208 32.3943,-60.8264\"/>\n<polygon fill=\"#c0c0c0\" stroke=\"#c0c0c0\" points=\"29.8782,-58.3927 25.282,-67.9387 34.828,-63.3425 29.8782,-58.3927\"/>\n<text text-anchor=\"middle\" x=\"48.9542\" y=\"-43.8666\" font-family=\"monospace\" font-size=\"8.00\" fill=\"#000000\">2</text>\n</g>\n<!-- 1 -->\n<g id=\"node2\" class=\"node\">\n<title>1</title>\n<ellipse fill=\"none\" stroke=\"#ff4500\" cx=\"146.8435\" cy=\"-77.6644\" rx=\"15.6129\" ry=\"12.0417\"/>\n<text text-anchor=\"middle\" x=\"146.8435\" y=\"-75.7644\" font-family=\"monospace\" font-size=\"8.00\" fill=\"#7b68ee\">x</text>\n</g>\n<!-- 1&#45;&gt;0 -->\n<g id=\"edge1\" class=\"edge\">\n<title>1&#45;&gt;0</title>\n<path fill=\"none\" stroke=\"#ffa500\" stroke-width=\"2\" d=\"M141.8341,-66.0462C133.3084,-54.3843 116.3422,-36.7934 102.4429,-24.781\"/>\n<polygon fill=\"#ffa500\" stroke=\"#ffa500\" stroke-width=\"2\" points=\"104.6547,-22.0684 94.7006,-18.4398 100.2192,-27.4839 104.6547,-22.0684\"/>\n<text text-anchor=\"middle\" x=\"119.1385\" y=\"-48.0136\" font-family=\"monospace\" font-size=\"8.00\" fill=\"#000000\">6</text>\n</g>\n<!-- 1&#45;&gt;0 -->\n<g id=\"edge5\" class=\"edge\">\n<title>1&#45;&gt;0</title>\n<path fill=\"none\" stroke=\"#c0c0c0\" d=\"M133.3315,-71.2367C121.2202,-61.9627 103.9115,-45.0386 92.5115,-31.5704\"/>\n<polygon fill=\"#c0c0c0\" stroke=\"#c0c0c0\" points=\"95.2402,-29.3784 86.2763,-23.7305 89.7616,-33.7357 95.2402,-29.3784\"/>\n<text text-anchor=\"middle\" x=\"109.9215\" y=\"-54.0036\" font-family=\"monospace\" font-size=\"8.00\" fill=\"#000000\">6</text>\n</g>\n<!-- 2 -->\n<g id=\"node3\" class=\"node\">\n<title>2</title>\n<ellipse fill=\"none\" stroke=\"#ff4500\" cx=\"81.1999\" cy=\"-143.308\" rx=\"15.6129\" ry=\"12.0417\"/>\n<text text-anchor=\"middle\" x=\"81.1999\" y=\"-141.408\" font-family=\"monospace\" font-size=\"8.00\" fill=\"#7b68ee\">y</text>\n</g>\n<!-- 1&#45;&gt;2 -->\n<g id=\"edge3\" class=\"edge\">\n<title>1&#45;&gt;2</title>\n<path fill=\"none\" stroke=\"#ffa500\" stroke-width=\"2\" d=\"M133.3315,-84.0921C121.2202,-93.3661 103.9115,-110.2902 92.5115,-123.7584\"/>\n<polygon fill=\"#ffa500\" stroke=\"#ffa500\" stroke-width=\"2\" points=\"89.7616,-121.5931 86.2763,-131.5983 95.2402,-125.9504 89.7616,-121.5931\"/>\n<text text-anchor=\"middle\" x=\"109.9215\" y=\"-106.5252\" font-family=\"monospace\" font-size=\"8.00\" fill=\"#000000\">3</text>\n</g>\n<!-- 1&#45;&gt;2 -->\n<g id=\"edge6\" class=\"edge\">\n<title>1&#45;&gt;2</title>\n<path fill=\"none\" stroke=\"#c0c0c0\" d=\"M141.8341,-89.2826C133.3084,-100.9445 116.3422,-118.5354 102.4429,-130.5478\"/>\n<polygon fill=\"#c0c0c0\" stroke=\"#c0c0c0\" points=\"100.2192,-127.8449 94.7006,-136.889 104.6547,-133.2604 100.2192,-127.8449\"/>\n<text text-anchor=\"middle\" x=\"119.1385\" y=\"-112.5152\" font-family=\"monospace\" font-size=\"8.00\" fill=\"#000000\">3</text>\n</g>\n<!-- 2&#45;&gt;0 -->\n<g id=\"edge7\" class=\"edge\">\n<title>2&#45;&gt;0</title>\n<path fill=\"none\" stroke=\"#c0c0c0\" d=\"M81.1999,-131.1921C81.1999,-109.1123 81.1999,-62.0326 81.1999,-34.1107\"/>\n<polygon fill=\"#c0c0c0\" stroke=\"#c0c0c0\" points=\"84.7,-34.1074 81.1999,-24.1074 77.7,-34.1074 84.7,-34.1074\"/>\n<text text-anchor=\"middle\" x=\"78.1999\" y=\"-85.2514\" font-family=\"monospace\" font-size=\"8.00\" fill=\"#000000\">4</text>\n</g>\n<!-- 2&#45;&gt;3 -->\n<g id=\"edge8\" class=\"edge\">\n<title>2&#45;&gt;3</title>\n<path fill=\"none\" stroke=\"#c0c0c0\" d=\"M76.1906,-131.6897C67.6648,-120.0279 50.6986,-102.437 36.7993,-90.4245\"/>\n<polygon fill=\"#c0c0c0\" stroke=\"#c0c0c0\" points=\"39.0111,-87.712 29.057,-84.0834 34.5757,-93.1275 39.0111,-87.712\"/>\n<text text-anchor=\"middle\" x=\"53.4949\" y=\"-113.6571\" font-family=\"monospace\" font-size=\"8.00\" fill=\"#000000\">5</text>\n</g>\n<!-- 3&#45;&gt;1 -->\n<g id=\"edge2\" class=\"edge\">\n<title>3&#45;&gt;1</title>\n<path fill=\"none\" stroke=\"#ffa500\" stroke-width=\"2\" d=\"M30.108,-82.097C52.2882,-84.8104 94.8347,-85.141 121.9781,-83.0888\"/>\n<polygon fill=\"#ffa500\" stroke=\"#ffa500\" stroke-width=\"2\" points=\"122.607,-86.5447 132.2267,-82.1049 121.9379,-79.5767 122.607,-86.5447\"/>\n<text text-anchor=\"middle\" x=\"70.5431\" y=\"-76.1929\" font-family=\"monospace\" font-size=\"8.00\" fill=\"#000000\">&#45;7</text>\n</g>\n<!-- 3&#45;&gt;1 -->\n<g id=\"edge9\" class=\"edge\">\n<title>3&#45;&gt;1</title>\n<path fill=\"none\" stroke=\"#c0c0c0\" d=\"M30.108,-73.2318C52.2882,-70.5184 94.8347,-70.1878 121.9781,-72.2399\"/>\n<polygon fill=\"#c0c0c0\" stroke=\"#c0c0c0\" points=\"121.9379,-75.7521 132.2267,-73.2239 122.607,-68.7841 121.9379,-75.7521\"/>\n<text text-anchor=\"middle\" x=\"70.5431\" y=\"-66.3359\" font-family=\"monospace\" font-size=\"8.00\" fill=\"#000000\">&#45;7</text>\n</g>\n<!-- 3&#45;&gt;2 -->\n<g id=\"edge10\" class=\"edge\">\n<title>3&#45;&gt;2</title>\n<path fill=\"none\" stroke=\"#c0c0c0\" d=\"M20.5657,-89.2826C29.0915,-100.9445 46.0577,-118.5354 59.957,-130.5478\"/>\n<polygon fill=\"#c0c0c0\" stroke=\"#c0c0c0\" points=\"57.7452,-133.2604 67.6993,-136.889 62.1806,-127.8449 57.7452,-133.2604\"/>\n<text text-anchor=\"middle\" x=\"34.7614\" y=\"-112.5152\" font-family=\"monospace\" font-size=\"8.00\" fill=\"#000000\">&#45;3</text>\n</g>\n</g>\n</svg>\n"
          },
          "metadata": {},
          "execution_count": 31
        }
      ]
    }
  ]
}