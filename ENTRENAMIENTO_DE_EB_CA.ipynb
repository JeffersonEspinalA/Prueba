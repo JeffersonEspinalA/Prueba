{
  "nbformat": 4,
  "nbformat_minor": 0,
  "metadata": {
    "colab": {
      "name": "ENTRENAMIENTO DE EB CA.ipynb",
      "provenance": [],
      "authorship_tag": "ABX9TyPYNZDXkhTNyEEUDN0/kC2X",
      "include_colab_link": true
    },
    "kernelspec": {
      "name": "python3",
      "display_name": "Python 3"
    },
    "language_info": {
      "name": "python"
    }
  },
  "cells": [
    {
      "cell_type": "markdown",
      "metadata": {
        "id": "view-in-github",
        "colab_type": "text"
      },
      "source": [
        "<a href=\"https://colab.research.google.com/github/JeffersonEspinalA/Prueba/blob/main/ENTRENAMIENTO_DE_EB_CA.ipynb\" target=\"_parent\"><img src=\"https://colab.research.google.com/assets/colab-badge.svg\" alt=\"Open In Colab\"/></a>"
      ]
    },
    {
      "cell_type": "code",
      "source": [
        "import math\n",
        "\n",
        "def bellmanFord(G, s): # returns the path π and and whether or not a negative cycle exists\n",
        "    n = len(G)                      # |V|\n",
        "    π = [-1]*n                      # path\n",
        "    g = [math.inf]*n                # cost\n",
        "    g[s] = 0\n",
        "\n",
        "    for _ in range(n-1):            # repetir |V| - 1 veces\n",
        "        for u in range(n):\n",
        "            for v, w in G[u]:       # para cada arco (u, v, con peso w) de E\n",
        "                f = g[u] + w\n",
        "                if f < g[v]:        # relax(u, v, w)\n",
        "                    g[v] = f\n",
        "                    π[v] = u\n",
        "\n",
        "    \n",
        "    for u in range(n):              # para cada arco (u, v, con peso w) de E\n",
        "        for v, w in G[u]:\n",
        "            f = g[u] + w\n",
        "            if f < g[v]:            # se puede relajar?\n",
        "                return False         # existe ciclo negativo\n",
        "\n",
        "    return True                        # no existe ciclo negativo"
      ],
      "metadata": {
        "id": "G447gVAe0PD0"
      },
      "execution_count": 8,
      "outputs": []
    },
    {
      "cell_type": "code",
      "source": [
        "%%file ej1.txt\n",
        "2\n",
        "3 3\n",
        "0 1 1000\n",
        "1 2 15\n",
        "2 1 -42\n",
        "4 4\n",
        "0 1 10\n",
        "1 2 20\n",
        "2 3 30\n",
        "3 0 -60"
      ],
      "metadata": {
        "id": "ZJazLR8vyKB6",
        "colab": {
          "base_uri": "https://localhost:8080/"
        },
        "outputId": "f57b13b4-09e1-4bdf-ed7a-5cca35f08cae"
      },
      "execution_count": 1,
      "outputs": [
        {
          "output_type": "stream",
          "name": "stdout",
          "text": [
            "Writing ej1.txt\n"
          ]
        }
      ]
    },
    {
      "cell_type": "code",
      "source": [
        "with open(\"ej1.txt\") as f:\n",
        "  c = int(f.readline().strip())\n",
        "  for _ in range(c):\n",
        "    nums = [int(x) for x in f.readline().strip().split()]\n",
        "    n, m = nums\n",
        "    G = []\n",
        "    for u in range(m):\n",
        "      nums = [int(x) for x in f.readline().strip().split()]\n",
        "      u, v, w = nums\n",
        "      G.append([])\n",
        "      G[u].append((v, w))\n",
        "    if (bellmanFord(G, 0)):\n",
        "      print(\"not possible\")\n",
        "    else:\n",
        "      print(\"possible\")"
      ],
      "metadata": {
        "colab": {
          "base_uri": "https://localhost:8080/"
        },
        "id": "heXqgQYHvxJI",
        "outputId": "9b0e0245-0f2d-4a03-9864-c69cb3c6afa0"
      },
      "execution_count": 10,
      "outputs": [
        {
          "output_type": "stream",
          "name": "stdout",
          "text": [
            "possible\n",
            "not possible\n"
          ]
        }
      ]
    },
    {
      "cell_type": "code",
      "source": [
        ""
      ],
      "metadata": {
        "id": "vvsFuHvN07uc"
      },
      "execution_count": null,
      "outputs": []
    }
  ]
}