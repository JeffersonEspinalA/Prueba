{
  "cells": [
    {
      "cell_type": "markdown",
      "metadata": {
        "id": "s7rm_HB5K5lW"
      },
      "source": [
        "___\n",
        "\n",
        "<a href='https://plotly.com/python/'> <img src='https://plotly.com/all_static/images/plotly_graphing_libraries_1.png' /></a>\n",
        "___\n",
        "# Plotly y Cufflinks"
      ]
    },
    {
      "cell_type": "markdown",
      "metadata": {
        "id": "rBQePYUEK5lY"
      },
      "source": [
        "**Plotly** es una libreria que permite crear gráficos interactivos para poder usarse en cuadros de mando o sitios web (se pueden guardar como archivos html o imágenes estáticas).\n",
        "\n",
        "**Cufflinks** es una libreria que conecta un dataframe de Pandas con Plotly, lo que permite a los usuarios crear visualizaciones directamente desde Pandas. Esta libreria une el poder de Plotly con la flexibilidad de Pandas para facilitar la visualización de los datos.\n",
        "\n",
        "## Instalación\n",
        "\n",
        "Para que todo esto funcione, se deberá instalar plotly y cufflinks para llamar a los gráficos directamente desde un dataframe de Pandas. Estas librerias no están disponibles actualmente a través de Conda, pero están disponibles a través de pip . Instalar las librerias en su línea de comando/terminal usando:\n",
        "\n",
        "    pip install plotly\n",
        "    pip install cufflinks\n",
        "\n",
        "## Importaciones y configuración "
      ]
    },
    {
      "cell_type": "code",
      "source": [
        "!pip install plotly\n",
        "!pip install cufflinks"
      ],
      "metadata": {
        "colab": {
          "base_uri": "https://localhost:8080/"
        },
        "id": "fXy6UYTfNrMl",
        "outputId": "19f99c59-8049-4eb0-ca02-0d6734c0e048"
      },
      "execution_count": null,
      "outputs": [
        {
          "output_type": "stream",
          "name": "stdout",
          "text": [
            "Looking in indexes: https://pypi.org/simple, https://us-python.pkg.dev/colab-wheels/public/simple/\n",
            "Requirement already satisfied: plotly in /usr/local/lib/python3.7/dist-packages (5.5.0)\n",
            "Requirement already satisfied: six in /usr/local/lib/python3.7/dist-packages (from plotly) (1.15.0)\n",
            "Requirement already satisfied: tenacity>=6.2.0 in /usr/local/lib/python3.7/dist-packages (from plotly) (8.1.0)\n",
            "Looking in indexes: https://pypi.org/simple, https://us-python.pkg.dev/colab-wheels/public/simple/\n",
            "Requirement already satisfied: cufflinks in /usr/local/lib/python3.7/dist-packages (0.17.3)\n",
            "Requirement already satisfied: six>=1.9.0 in /usr/local/lib/python3.7/dist-packages (from cufflinks) (1.15.0)\n",
            "Requirement already satisfied: ipython>=5.3.0 in /usr/local/lib/python3.7/dist-packages (from cufflinks) (7.9.0)\n",
            "Requirement already satisfied: ipywidgets>=7.0.0 in /usr/local/lib/python3.7/dist-packages (from cufflinks) (7.7.1)\n",
            "Requirement already satisfied: numpy>=1.9.2 in /usr/local/lib/python3.7/dist-packages (from cufflinks) (1.21.6)\n",
            "Requirement already satisfied: setuptools>=34.4.1 in /usr/local/lib/python3.7/dist-packages (from cufflinks) (57.4.0)\n",
            "Requirement already satisfied: colorlover>=0.2.1 in /usr/local/lib/python3.7/dist-packages (from cufflinks) (0.3.0)\n",
            "Requirement already satisfied: plotly>=4.1.1 in /usr/local/lib/python3.7/dist-packages (from cufflinks) (5.5.0)\n",
            "Requirement already satisfied: pandas>=0.19.2 in /usr/local/lib/python3.7/dist-packages (from cufflinks) (1.3.5)\n",
            "Requirement already satisfied: backcall in /usr/local/lib/python3.7/dist-packages (from ipython>=5.3.0->cufflinks) (0.2.0)\n",
            "Requirement already satisfied: decorator in /usr/local/lib/python3.7/dist-packages (from ipython>=5.3.0->cufflinks) (4.4.2)\n",
            "Requirement already satisfied: pygments in /usr/local/lib/python3.7/dist-packages (from ipython>=5.3.0->cufflinks) (2.6.1)\n",
            "Requirement already satisfied: traitlets>=4.2 in /usr/local/lib/python3.7/dist-packages (from ipython>=5.3.0->cufflinks) (5.1.1)\n",
            "Requirement already satisfied: jedi>=0.10 in /usr/local/lib/python3.7/dist-packages (from ipython>=5.3.0->cufflinks) (0.18.1)\n",
            "Requirement already satisfied: pickleshare in /usr/local/lib/python3.7/dist-packages (from ipython>=5.3.0->cufflinks) (0.7.5)\n",
            "Requirement already satisfied: pexpect in /usr/local/lib/python3.7/dist-packages (from ipython>=5.3.0->cufflinks) (4.8.0)\n",
            "Requirement already satisfied: prompt-toolkit<2.1.0,>=2.0.0 in /usr/local/lib/python3.7/dist-packages (from ipython>=5.3.0->cufflinks) (2.0.10)\n",
            "Requirement already satisfied: ipykernel>=4.5.1 in /usr/local/lib/python3.7/dist-packages (from ipywidgets>=7.0.0->cufflinks) (5.3.4)\n",
            "Requirement already satisfied: jupyterlab-widgets>=1.0.0 in /usr/local/lib/python3.7/dist-packages (from ipywidgets>=7.0.0->cufflinks) (3.0.3)\n",
            "Requirement already satisfied: ipython-genutils~=0.2.0 in /usr/local/lib/python3.7/dist-packages (from ipywidgets>=7.0.0->cufflinks) (0.2.0)\n",
            "Requirement already satisfied: widgetsnbextension~=3.6.0 in /usr/local/lib/python3.7/dist-packages (from ipywidgets>=7.0.0->cufflinks) (3.6.1)\n",
            "Requirement already satisfied: jupyter-client in /usr/local/lib/python3.7/dist-packages (from ipykernel>=4.5.1->ipywidgets>=7.0.0->cufflinks) (6.1.12)\n",
            "Requirement already satisfied: tornado>=4.2 in /usr/local/lib/python3.7/dist-packages (from ipykernel>=4.5.1->ipywidgets>=7.0.0->cufflinks) (5.1.1)\n",
            "Requirement already satisfied: parso<0.9.0,>=0.8.0 in /usr/local/lib/python3.7/dist-packages (from jedi>=0.10->ipython>=5.3.0->cufflinks) (0.8.3)\n",
            "Requirement already satisfied: pytz>=2017.3 in /usr/local/lib/python3.7/dist-packages (from pandas>=0.19.2->cufflinks) (2022.5)\n",
            "Requirement already satisfied: python-dateutil>=2.7.3 in /usr/local/lib/python3.7/dist-packages (from pandas>=0.19.2->cufflinks) (2.8.2)\n",
            "Requirement already satisfied: tenacity>=6.2.0 in /usr/local/lib/python3.7/dist-packages (from plotly>=4.1.1->cufflinks) (8.1.0)\n",
            "Requirement already satisfied: wcwidth in /usr/local/lib/python3.7/dist-packages (from prompt-toolkit<2.1.0,>=2.0.0->ipython>=5.3.0->cufflinks) (0.2.5)\n",
            "Requirement already satisfied: notebook>=4.4.1 in /usr/local/lib/python3.7/dist-packages (from widgetsnbextension~=3.6.0->ipywidgets>=7.0.0->cufflinks) (5.5.0)\n",
            "Requirement already satisfied: jupyter-core>=4.4.0 in /usr/local/lib/python3.7/dist-packages (from notebook>=4.4.1->widgetsnbextension~=3.6.0->ipywidgets>=7.0.0->cufflinks) (4.11.2)\n",
            "Requirement already satisfied: Send2Trash in /usr/local/lib/python3.7/dist-packages (from notebook>=4.4.1->widgetsnbextension~=3.6.0->ipywidgets>=7.0.0->cufflinks) (1.8.0)\n",
            "Requirement already satisfied: nbconvert in /usr/local/lib/python3.7/dist-packages (from notebook>=4.4.1->widgetsnbextension~=3.6.0->ipywidgets>=7.0.0->cufflinks) (5.6.1)\n",
            "Requirement already satisfied: nbformat in /usr/local/lib/python3.7/dist-packages (from notebook>=4.4.1->widgetsnbextension~=3.6.0->ipywidgets>=7.0.0->cufflinks) (5.7.0)\n",
            "Requirement already satisfied: terminado>=0.8.1 in /usr/local/lib/python3.7/dist-packages (from notebook>=4.4.1->widgetsnbextension~=3.6.0->ipywidgets>=7.0.0->cufflinks) (0.13.3)\n",
            "Requirement already satisfied: pyzmq>=17 in /usr/local/lib/python3.7/dist-packages (from notebook>=4.4.1->widgetsnbextension~=3.6.0->ipywidgets>=7.0.0->cufflinks) (23.2.1)\n",
            "Requirement already satisfied: jinja2 in /usr/local/lib/python3.7/dist-packages (from notebook>=4.4.1->widgetsnbextension~=3.6.0->ipywidgets>=7.0.0->cufflinks) (2.11.3)\n",
            "Requirement already satisfied: ptyprocess in /usr/local/lib/python3.7/dist-packages (from terminado>=0.8.1->notebook>=4.4.1->widgetsnbextension~=3.6.0->ipywidgets>=7.0.0->cufflinks) (0.7.0)\n",
            "Requirement already satisfied: MarkupSafe>=0.23 in /usr/local/lib/python3.7/dist-packages (from jinja2->notebook>=4.4.1->widgetsnbextension~=3.6.0->ipywidgets>=7.0.0->cufflinks) (2.0.1)\n",
            "Requirement already satisfied: testpath in /usr/local/lib/python3.7/dist-packages (from nbconvert->notebook>=4.4.1->widgetsnbextension~=3.6.0->ipywidgets>=7.0.0->cufflinks) (0.6.0)\n",
            "Requirement already satisfied: bleach in /usr/local/lib/python3.7/dist-packages (from nbconvert->notebook>=4.4.1->widgetsnbextension~=3.6.0->ipywidgets>=7.0.0->cufflinks) (5.0.1)\n",
            "Requirement already satisfied: mistune<2,>=0.8.1 in /usr/local/lib/python3.7/dist-packages (from nbconvert->notebook>=4.4.1->widgetsnbextension~=3.6.0->ipywidgets>=7.0.0->cufflinks) (0.8.4)\n",
            "Requirement already satisfied: defusedxml in /usr/local/lib/python3.7/dist-packages (from nbconvert->notebook>=4.4.1->widgetsnbextension~=3.6.0->ipywidgets>=7.0.0->cufflinks) (0.7.1)\n",
            "Requirement already satisfied: pandocfilters>=1.4.1 in /usr/local/lib/python3.7/dist-packages (from nbconvert->notebook>=4.4.1->widgetsnbextension~=3.6.0->ipywidgets>=7.0.0->cufflinks) (1.5.0)\n",
            "Requirement already satisfied: entrypoints>=0.2.2 in /usr/local/lib/python3.7/dist-packages (from nbconvert->notebook>=4.4.1->widgetsnbextension~=3.6.0->ipywidgets>=7.0.0->cufflinks) (0.4)\n",
            "Requirement already satisfied: fastjsonschema in /usr/local/lib/python3.7/dist-packages (from nbformat->notebook>=4.4.1->widgetsnbextension~=3.6.0->ipywidgets>=7.0.0->cufflinks) (2.16.2)\n",
            "Requirement already satisfied: importlib-metadata>=3.6 in /usr/local/lib/python3.7/dist-packages (from nbformat->notebook>=4.4.1->widgetsnbextension~=3.6.0->ipywidgets>=7.0.0->cufflinks) (4.13.0)\n",
            "Requirement already satisfied: jsonschema>=2.6 in /usr/local/lib/python3.7/dist-packages (from nbformat->notebook>=4.4.1->widgetsnbextension~=3.6.0->ipywidgets>=7.0.0->cufflinks) (4.3.3)\n",
            "Requirement already satisfied: zipp>=0.5 in /usr/local/lib/python3.7/dist-packages (from importlib-metadata>=3.6->nbformat->notebook>=4.4.1->widgetsnbextension~=3.6.0->ipywidgets>=7.0.0->cufflinks) (3.10.0)\n",
            "Requirement already satisfied: typing-extensions>=3.6.4 in /usr/local/lib/python3.7/dist-packages (from importlib-metadata>=3.6->nbformat->notebook>=4.4.1->widgetsnbextension~=3.6.0->ipywidgets>=7.0.0->cufflinks) (4.1.1)\n",
            "Requirement already satisfied: pyrsistent!=0.17.0,!=0.17.1,!=0.17.2,>=0.14.0 in /usr/local/lib/python3.7/dist-packages (from jsonschema>=2.6->nbformat->notebook>=4.4.1->widgetsnbextension~=3.6.0->ipywidgets>=7.0.0->cufflinks) (0.18.1)\n",
            "Requirement already satisfied: attrs>=17.4.0 in /usr/local/lib/python3.7/dist-packages (from jsonschema>=2.6->nbformat->notebook>=4.4.1->widgetsnbextension~=3.6.0->ipywidgets>=7.0.0->cufflinks) (22.1.0)\n",
            "Requirement already satisfied: importlib-resources>=1.4.0 in /usr/local/lib/python3.7/dist-packages (from jsonschema>=2.6->nbformat->notebook>=4.4.1->widgetsnbextension~=3.6.0->ipywidgets>=7.0.0->cufflinks) (5.10.0)\n",
            "Requirement already satisfied: webencodings in /usr/local/lib/python3.7/dist-packages (from bleach->nbconvert->notebook>=4.4.1->widgetsnbextension~=3.6.0->ipywidgets>=7.0.0->cufflinks) (0.5.1)\n"
          ]
        }
      ]
    },
    {
      "cell_type": "code",
      "execution_count": null,
      "metadata": {
        "id": "U08EVzR-K5lZ"
      },
      "outputs": [],
      "source": [
        "import pandas as pd\n",
        "import numpy as np\n",
        "%matplotlib inline"
      ]
    },
    {
      "cell_type": "code",
      "execution_count": null,
      "metadata": {
        "colab": {
          "base_uri": "https://localhost:8080/"
        },
        "id": "LeHNYCBxK5la",
        "outputId": "4cccd1c1-5cb1-4752-ec5e-5c5d4acf9c23"
      },
      "outputs": [
        {
          "output_type": "stream",
          "name": "stdout",
          "text": [
            "5.5.0\n"
          ]
        }
      ],
      "source": [
        "from plotly import __version__\n",
        "from plotly.offline import download_plotlyjs, init_notebook_mode, plot, iplot\n",
        "\n",
        "print(__version__) # requires version >= 1.9.0"
      ]
    },
    {
      "cell_type": "code",
      "execution_count": null,
      "metadata": {
        "id": "ZTTbw1GmK5la"
      },
      "outputs": [],
      "source": [
        "import cufflinks as cf"
      ]
    },
    {
      "cell_type": "code",
      "execution_count": null,
      "metadata": {
        "colab": {
          "base_uri": "https://localhost:8080/",
          "height": 17
        },
        "id": "UGPj3EXlK5lb",
        "outputId": "923419de-2311-473a-de38-2c741ff17b5a"
      },
      "outputs": [
        {
          "output_type": "display_data",
          "data": {
            "text/html": [
              "        <script type=\"text/javascript\">\n",
              "        window.PlotlyConfig = {MathJaxConfig: 'local'};\n",
              "        if (window.MathJax) {MathJax.Hub.Config({SVG: {font: \"STIX-Web\"}});}\n",
              "        if (typeof require !== 'undefined') {\n",
              "        require.undef(\"plotly\");\n",
              "        requirejs.config({\n",
              "            paths: {\n",
              "                'plotly': ['https://cdn.plot.ly/plotly-2.8.3.min']\n",
              "            }\n",
              "        });\n",
              "        require(['plotly'], function(Plotly) {\n",
              "            window._Plotly = Plotly;\n",
              "        });\n",
              "        }\n",
              "        </script>\n",
              "        "
            ]
          },
          "metadata": {}
        }
      ],
      "source": [
        "# Para Notebooks\n",
        "init_notebook_mode(connected=True)"
      ]
    },
    {
      "cell_type": "code",
      "execution_count": null,
      "metadata": {
        "colab": {
          "base_uri": "https://localhost:8080/",
          "height": 17
        },
        "id": "Sac1HxAjK5lb",
        "outputId": "23b78171-013e-4463-c754-499700174f20"
      },
      "outputs": [
        {
          "output_type": "display_data",
          "data": {
            "text/html": [
              "        <script type=\"text/javascript\">\n",
              "        window.PlotlyConfig = {MathJaxConfig: 'local'};\n",
              "        if (window.MathJax) {MathJax.Hub.Config({SVG: {font: \"STIX-Web\"}});}\n",
              "        if (typeof require !== 'undefined') {\n",
              "        require.undef(\"plotly\");\n",
              "        requirejs.config({\n",
              "            paths: {\n",
              "                'plotly': ['https://cdn.plot.ly/plotly-2.8.3.min']\n",
              "            }\n",
              "        });\n",
              "        require(['plotly'], function(Plotly) {\n",
              "            window._Plotly = Plotly;\n",
              "        });\n",
              "        }\n",
              "        </script>\n",
              "        "
            ]
          },
          "metadata": {}
        }
      ],
      "source": [
        "# Para uso offline colocar\n",
        "cf.go_offline()"
      ]
    },
    {
      "cell_type": "markdown",
      "metadata": {
        "id": "lEEIp4rCK5lb"
      },
      "source": [
        "### Datos de prueba"
      ]
    },
    {
      "cell_type": "code",
      "execution_count": null,
      "metadata": {
        "id": "wtHC7o8PK5lb"
      },
      "outputs": [],
      "source": [
        "df = pd.DataFrame(np.random.randn(100,4),columns='A B C D'.split())"
      ]
    },
    {
      "cell_type": "code",
      "execution_count": null,
      "metadata": {
        "colab": {
          "base_uri": "https://localhost:8080/",
          "height": 206
        },
        "id": "UfddE6VuK5lc",
        "outputId": "47b584f7-93ec-45a6-ad2f-e10986fb4936"
      },
      "outputs": [
        {
          "output_type": "execute_result",
          "data": {
            "text/plain": [
              "          A         B         C         D\n",
              "0  0.017811 -0.561738 -0.229887  2.217555\n",
              "1  0.650375 -1.210528  0.172112 -0.301496\n",
              "2  1.474656  0.856125 -0.891867  2.435614\n",
              "3 -0.002868 -0.710750 -1.420827 -0.069031\n",
              "4 -0.775792  1.910199 -1.509649  0.160492"
            ],
            "text/html": [
              "\n",
              "  <div id=\"df-73d8c7a8-c6f4-4507-93a4-098743f3b36a\">\n",
              "    <div class=\"colab-df-container\">\n",
              "      <div>\n",
              "<style scoped>\n",
              "    .dataframe tbody tr th:only-of-type {\n",
              "        vertical-align: middle;\n",
              "    }\n",
              "\n",
              "    .dataframe tbody tr th {\n",
              "        vertical-align: top;\n",
              "    }\n",
              "\n",
              "    .dataframe thead th {\n",
              "        text-align: right;\n",
              "    }\n",
              "</style>\n",
              "<table border=\"1\" class=\"dataframe\">\n",
              "  <thead>\n",
              "    <tr style=\"text-align: right;\">\n",
              "      <th></th>\n",
              "      <th>A</th>\n",
              "      <th>B</th>\n",
              "      <th>C</th>\n",
              "      <th>D</th>\n",
              "    </tr>\n",
              "  </thead>\n",
              "  <tbody>\n",
              "    <tr>\n",
              "      <th>0</th>\n",
              "      <td>0.017811</td>\n",
              "      <td>-0.561738</td>\n",
              "      <td>-0.229887</td>\n",
              "      <td>2.217555</td>\n",
              "    </tr>\n",
              "    <tr>\n",
              "      <th>1</th>\n",
              "      <td>0.650375</td>\n",
              "      <td>-1.210528</td>\n",
              "      <td>0.172112</td>\n",
              "      <td>-0.301496</td>\n",
              "    </tr>\n",
              "    <tr>\n",
              "      <th>2</th>\n",
              "      <td>1.474656</td>\n",
              "      <td>0.856125</td>\n",
              "      <td>-0.891867</td>\n",
              "      <td>2.435614</td>\n",
              "    </tr>\n",
              "    <tr>\n",
              "      <th>3</th>\n",
              "      <td>-0.002868</td>\n",
              "      <td>-0.710750</td>\n",
              "      <td>-1.420827</td>\n",
              "      <td>-0.069031</td>\n",
              "    </tr>\n",
              "    <tr>\n",
              "      <th>4</th>\n",
              "      <td>-0.775792</td>\n",
              "      <td>1.910199</td>\n",
              "      <td>-1.509649</td>\n",
              "      <td>0.160492</td>\n",
              "    </tr>\n",
              "  </tbody>\n",
              "</table>\n",
              "</div>\n",
              "      <button class=\"colab-df-convert\" onclick=\"convertToInteractive('df-73d8c7a8-c6f4-4507-93a4-098743f3b36a')\"\n",
              "              title=\"Convert this dataframe to an interactive table.\"\n",
              "              style=\"display:none;\">\n",
              "        \n",
              "  <svg xmlns=\"http://www.w3.org/2000/svg\" height=\"24px\"viewBox=\"0 0 24 24\"\n",
              "       width=\"24px\">\n",
              "    <path d=\"M0 0h24v24H0V0z\" fill=\"none\"/>\n",
              "    <path d=\"M18.56 5.44l.94 2.06.94-2.06 2.06-.94-2.06-.94-.94-2.06-.94 2.06-2.06.94zm-11 1L8.5 8.5l.94-2.06 2.06-.94-2.06-.94L8.5 2.5l-.94 2.06-2.06.94zm10 10l.94 2.06.94-2.06 2.06-.94-2.06-.94-.94-2.06-.94 2.06-2.06.94z\"/><path d=\"M17.41 7.96l-1.37-1.37c-.4-.4-.92-.59-1.43-.59-.52 0-1.04.2-1.43.59L10.3 9.45l-7.72 7.72c-.78.78-.78 2.05 0 2.83L4 21.41c.39.39.9.59 1.41.59.51 0 1.02-.2 1.41-.59l7.78-7.78 2.81-2.81c.8-.78.8-2.07 0-2.86zM5.41 20L4 18.59l7.72-7.72 1.47 1.35L5.41 20z\"/>\n",
              "  </svg>\n",
              "      </button>\n",
              "      \n",
              "  <style>\n",
              "    .colab-df-container {\n",
              "      display:flex;\n",
              "      flex-wrap:wrap;\n",
              "      gap: 12px;\n",
              "    }\n",
              "\n",
              "    .colab-df-convert {\n",
              "      background-color: #E8F0FE;\n",
              "      border: none;\n",
              "      border-radius: 50%;\n",
              "      cursor: pointer;\n",
              "      display: none;\n",
              "      fill: #1967D2;\n",
              "      height: 32px;\n",
              "      padding: 0 0 0 0;\n",
              "      width: 32px;\n",
              "    }\n",
              "\n",
              "    .colab-df-convert:hover {\n",
              "      background-color: #E2EBFA;\n",
              "      box-shadow: 0px 1px 2px rgba(60, 64, 67, 0.3), 0px 1px 3px 1px rgba(60, 64, 67, 0.15);\n",
              "      fill: #174EA6;\n",
              "    }\n",
              "\n",
              "    [theme=dark] .colab-df-convert {\n",
              "      background-color: #3B4455;\n",
              "      fill: #D2E3FC;\n",
              "    }\n",
              "\n",
              "    [theme=dark] .colab-df-convert:hover {\n",
              "      background-color: #434B5C;\n",
              "      box-shadow: 0px 1px 3px 1px rgba(0, 0, 0, 0.15);\n",
              "      filter: drop-shadow(0px 1px 2px rgba(0, 0, 0, 0.3));\n",
              "      fill: #FFFFFF;\n",
              "    }\n",
              "  </style>\n",
              "\n",
              "      <script>\n",
              "        const buttonEl =\n",
              "          document.querySelector('#df-73d8c7a8-c6f4-4507-93a4-098743f3b36a button.colab-df-convert');\n",
              "        buttonEl.style.display =\n",
              "          google.colab.kernel.accessAllowed ? 'block' : 'none';\n",
              "\n",
              "        async function convertToInteractive(key) {\n",
              "          const element = document.querySelector('#df-73d8c7a8-c6f4-4507-93a4-098743f3b36a');\n",
              "          const dataTable =\n",
              "            await google.colab.kernel.invokeFunction('convertToInteractive',\n",
              "                                                     [key], {});\n",
              "          if (!dataTable) return;\n",
              "\n",
              "          const docLinkHtml = 'Like what you see? Visit the ' +\n",
              "            '<a target=\"_blank\" href=https://colab.research.google.com/notebooks/data_table.ipynb>data table notebook</a>'\n",
              "            + ' to learn more about interactive tables.';\n",
              "          element.innerHTML = '';\n",
              "          dataTable['output_type'] = 'display_data';\n",
              "          await google.colab.output.renderOutput(dataTable, element);\n",
              "          const docLink = document.createElement('div');\n",
              "          docLink.innerHTML = docLinkHtml;\n",
              "          element.appendChild(docLink);\n",
              "        }\n",
              "      </script>\n",
              "    </div>\n",
              "  </div>\n",
              "  "
            ]
          },
          "metadata": {},
          "execution_count": 28
        }
      ],
      "source": [
        "df.head()"
      ]
    },
    {
      "cell_type": "code",
      "execution_count": null,
      "metadata": {
        "id": "Z0qc8RJCK5lc"
      },
      "outputs": [],
      "source": [
        "df2 = pd.DataFrame({'Category':['A','B','C'],'Values':[32,43,50]})"
      ]
    },
    {
      "cell_type": "code",
      "execution_count": null,
      "metadata": {
        "colab": {
          "base_uri": "https://localhost:8080/",
          "height": 143
        },
        "id": "QcLavX7XK5lc",
        "outputId": "a844829e-464f-43fc-9743-f093c7dd0cf5"
      },
      "outputs": [
        {
          "output_type": "execute_result",
          "data": {
            "text/plain": [
              "  Category  Values\n",
              "0        A      32\n",
              "1        B      43\n",
              "2        C      50"
            ],
            "text/html": [
              "\n",
              "  <div id=\"df-e9a3ca68-40d7-4bce-ac27-4d671978120e\">\n",
              "    <div class=\"colab-df-container\">\n",
              "      <div>\n",
              "<style scoped>\n",
              "    .dataframe tbody tr th:only-of-type {\n",
              "        vertical-align: middle;\n",
              "    }\n",
              "\n",
              "    .dataframe tbody tr th {\n",
              "        vertical-align: top;\n",
              "    }\n",
              "\n",
              "    .dataframe thead th {\n",
              "        text-align: right;\n",
              "    }\n",
              "</style>\n",
              "<table border=\"1\" class=\"dataframe\">\n",
              "  <thead>\n",
              "    <tr style=\"text-align: right;\">\n",
              "      <th></th>\n",
              "      <th>Category</th>\n",
              "      <th>Values</th>\n",
              "    </tr>\n",
              "  </thead>\n",
              "  <tbody>\n",
              "    <tr>\n",
              "      <th>0</th>\n",
              "      <td>A</td>\n",
              "      <td>32</td>\n",
              "    </tr>\n",
              "    <tr>\n",
              "      <th>1</th>\n",
              "      <td>B</td>\n",
              "      <td>43</td>\n",
              "    </tr>\n",
              "    <tr>\n",
              "      <th>2</th>\n",
              "      <td>C</td>\n",
              "      <td>50</td>\n",
              "    </tr>\n",
              "  </tbody>\n",
              "</table>\n",
              "</div>\n",
              "      <button class=\"colab-df-convert\" onclick=\"convertToInteractive('df-e9a3ca68-40d7-4bce-ac27-4d671978120e')\"\n",
              "              title=\"Convert this dataframe to an interactive table.\"\n",
              "              style=\"display:none;\">\n",
              "        \n",
              "  <svg xmlns=\"http://www.w3.org/2000/svg\" height=\"24px\"viewBox=\"0 0 24 24\"\n",
              "       width=\"24px\">\n",
              "    <path d=\"M0 0h24v24H0V0z\" fill=\"none\"/>\n",
              "    <path d=\"M18.56 5.44l.94 2.06.94-2.06 2.06-.94-2.06-.94-.94-2.06-.94 2.06-2.06.94zm-11 1L8.5 8.5l.94-2.06 2.06-.94-2.06-.94L8.5 2.5l-.94 2.06-2.06.94zm10 10l.94 2.06.94-2.06 2.06-.94-2.06-.94-.94-2.06-.94 2.06-2.06.94z\"/><path d=\"M17.41 7.96l-1.37-1.37c-.4-.4-.92-.59-1.43-.59-.52 0-1.04.2-1.43.59L10.3 9.45l-7.72 7.72c-.78.78-.78 2.05 0 2.83L4 21.41c.39.39.9.59 1.41.59.51 0 1.02-.2 1.41-.59l7.78-7.78 2.81-2.81c.8-.78.8-2.07 0-2.86zM5.41 20L4 18.59l7.72-7.72 1.47 1.35L5.41 20z\"/>\n",
              "  </svg>\n",
              "      </button>\n",
              "      \n",
              "  <style>\n",
              "    .colab-df-container {\n",
              "      display:flex;\n",
              "      flex-wrap:wrap;\n",
              "      gap: 12px;\n",
              "    }\n",
              "\n",
              "    .colab-df-convert {\n",
              "      background-color: #E8F0FE;\n",
              "      border: none;\n",
              "      border-radius: 50%;\n",
              "      cursor: pointer;\n",
              "      display: none;\n",
              "      fill: #1967D2;\n",
              "      height: 32px;\n",
              "      padding: 0 0 0 0;\n",
              "      width: 32px;\n",
              "    }\n",
              "\n",
              "    .colab-df-convert:hover {\n",
              "      background-color: #E2EBFA;\n",
              "      box-shadow: 0px 1px 2px rgba(60, 64, 67, 0.3), 0px 1px 3px 1px rgba(60, 64, 67, 0.15);\n",
              "      fill: #174EA6;\n",
              "    }\n",
              "\n",
              "    [theme=dark] .colab-df-convert {\n",
              "      background-color: #3B4455;\n",
              "      fill: #D2E3FC;\n",
              "    }\n",
              "\n",
              "    [theme=dark] .colab-df-convert:hover {\n",
              "      background-color: #434B5C;\n",
              "      box-shadow: 0px 1px 3px 1px rgba(0, 0, 0, 0.15);\n",
              "      filter: drop-shadow(0px 1px 2px rgba(0, 0, 0, 0.3));\n",
              "      fill: #FFFFFF;\n",
              "    }\n",
              "  </style>\n",
              "\n",
              "      <script>\n",
              "        const buttonEl =\n",
              "          document.querySelector('#df-e9a3ca68-40d7-4bce-ac27-4d671978120e button.colab-df-convert');\n",
              "        buttonEl.style.display =\n",
              "          google.colab.kernel.accessAllowed ? 'block' : 'none';\n",
              "\n",
              "        async function convertToInteractive(key) {\n",
              "          const element = document.querySelector('#df-e9a3ca68-40d7-4bce-ac27-4d671978120e');\n",
              "          const dataTable =\n",
              "            await google.colab.kernel.invokeFunction('convertToInteractive',\n",
              "                                                     [key], {});\n",
              "          if (!dataTable) return;\n",
              "\n",
              "          const docLinkHtml = 'Like what you see? Visit the ' +\n",
              "            '<a target=\"_blank\" href=https://colab.research.google.com/notebooks/data_table.ipynb>data table notebook</a>'\n",
              "            + ' to learn more about interactive tables.';\n",
              "          element.innerHTML = '';\n",
              "          dataTable['output_type'] = 'display_data';\n",
              "          await google.colab.output.renderOutput(dataTable, element);\n",
              "          const docLink = document.createElement('div');\n",
              "          docLink.innerHTML = docLinkHtml;\n",
              "          element.appendChild(docLink);\n",
              "        }\n",
              "      </script>\n",
              "    </div>\n",
              "  </div>\n",
              "  "
            ]
          },
          "metadata": {},
          "execution_count": 30
        }
      ],
      "source": [
        "df2.head()"
      ]
    },
    {
      "cell_type": "markdown",
      "metadata": {
        "id": "9LeRYX7yK5lc"
      },
      "source": [
        "## Usando Cufflinks e iplot()\n",
        "\n",
        "* Scatter\n",
        "* Bar\n",
        "* Boxplot\n",
        "* 3D surface\n",
        "* Histograma\n",
        "* Burbujas"
      ]
    },
    {
      "cell_type": "markdown",
      "metadata": {
        "id": "V4EiotuCK5lc"
      },
      "source": [
        "## Scatter"
      ]
    },
    {
      "cell_type": "code",
      "execution_count": null,
      "metadata": {
        "colab": {
          "base_uri": "https://localhost:8080/",
          "height": 542
        },
        "id": "qNvyKr8oK5ld",
        "outputId": "0b8c6e72-a07c-4f75-808e-f6d7e7a7bf92"
      },
      "outputs": [
        {
          "output_type": "display_data",
          "data": {
            "application/vnd.plotly.v1+json": {
              "data": [
                {
                  "line": {
                    "color": "rgba(255, 153, 51, 1.0)",
                    "dash": "solid",
                    "shape": "linear",
                    "width": 1.3
                  },
                  "marker": {
                    "size": 10,
                    "symbol": "circle"
                  },
                  "mode": "markers",
                  "name": "B",
                  "text": "",
                  "x": [
                    0.0178114694854835,
                    0.6503752891210457,
                    1.4746556294415147,
                    -0.002867505410992792,
                    -0.7757917649856074,
                    0.7662726192537015,
                    1.0664749327062275,
                    -0.11692736502946699,
                    0.3306590500365512,
                    -0.6039709270655202,
                    2.3235131537725375,
                    -1.581925335224607,
                    0.015324694821562445,
                    0.7668724051627919,
                    0.5449217852329432,
                    -1.5393392248297437,
                    0.8826309337533468,
                    -0.42177731108365596,
                    0.6252953354329761,
                    0.9475458834299388,
                    0.16638344745317185,
                    0.5872486334340409,
                    0.7331878127127393,
                    -0.8712133576574608,
                    0.02218394918355038,
                    -0.6013339495862363,
                    -1.756229955636603,
                    -1.9819893580331447,
                    1.3825585253185222,
                    0.18483164136281052,
                    -1.2679341148034344,
                    0.9949380071155695,
                    -1.1476115696647307,
                    -0.6479204186113192,
                    -0.3789275877400645,
                    0.2493338620032875,
                    1.4201510261872716,
                    -1.0503815196700217,
                    1.0554704075679069,
                    -1.0293234615296152,
                    -1.0822796524356448,
                    0.7684855357339191,
                    2.5192161436818195,
                    -1.9117744538897679,
                    1.5931709732081492,
                    0.5205078111864689,
                    -0.9035063004328567,
                    -0.039536779019681174,
                    0.013421263122439244,
                    -1.354389863999936,
                    0.20741889935212338,
                    -2.12861161880051,
                    -0.5361385106295921,
                    0.38466904193579843,
                    0.5746526914220886,
                    -0.870127691386053,
                    -0.00021741926349469498,
                    1.3073415839337295,
                    -0.3230346369356965,
                    -1.4318585137200077,
                    0.742678531238043,
                    -0.08997843766330833,
                    -0.9296646722359696,
                    -0.07779540095102579,
                    -0.46929144505777076,
                    0.008368761820374822,
                    -0.613299214024739,
                    1.1584825020371716,
                    -0.47277585985662945,
                    0.03805037863533173,
                    -1.127629142630456,
                    1.1062032945972584,
                    1.338797608931247,
                    -0.3109914547842166,
                    0.21070722316844118,
                    -0.15525145173830632,
                    -0.9436284343977237,
                    0.8405189744616796,
                    0.7194053183545105,
                    -0.5898131143539371,
                    0.11078070545200325,
                    -0.9101033501429266,
                    -0.2760212578221692,
                    -0.06121843562570686,
                    0.22082764961571158,
                    -0.8087040146874948,
                    -0.24795260940063577,
                    -0.18500473992804137,
                    -1.1261930084640464,
                    0.25926065036018053,
                    1.0626956597526414,
                    -0.29189730205400105,
                    1.4649070470221661,
                    0.15330410358902066,
                    -0.9135301588123295,
                    -1.5586000323884628,
                    0.7016050667461048,
                    -0.3143015581881234,
                    -0.41706765214680636,
                    -0.3921961494111043
                  ],
                  "y": [
                    -0.5617375702420864,
                    -1.2105280209767268,
                    0.8561250259063421,
                    -0.7107503858881543,
                    1.9101987417784274,
                    0.5789968113218955,
                    -0.9591681047529027,
                    0.5395359124881931,
                    1.3193862626751078,
                    0.6680228938498383,
                    -0.7341726211864084,
                    -0.6118985446054702,
                    -1.2141500234277,
                    1.5911478517284632,
                    -0.5261168186658791,
                    0.8457278666030731,
                    -1.0083412765657886,
                    2.032738956061042,
                    0.1463571733779813,
                    0.5177816732261287,
                    -0.769212161890698,
                    -1.069099261508924,
                    0.6217522583946871,
                    -0.7685130295505281,
                    0.9544080795307096,
                    -0.09436162464620383,
                    0.5375121175183534,
                    0.6747308503837377,
                    -0.5610675516558478,
                    0.94214409035032,
                    0.6064445545372859,
                    0.07104417008322735,
                    0.1330925122609887,
                    0.6136925994677905,
                    0.0035230303615803584,
                    -0.34532692952094346,
                    0.13237764586606712,
                    -0.9646644055964682,
                    0.130714844563745,
                    0.10519423612640431,
                    0.8547224198592885,
                    1.4829075328199424,
                    -0.9952118382098827,
                    -0.6046778657833812,
                    -0.0130276454638649,
                    1.087828140993123,
                    0.2085807423899216,
                    0.74207524333408,
                    -0.7939304210976657,
                    0.882859631977347,
                    0.21805155116360347,
                    0.8191732685075461,
                    -0.33300967724353003,
                    -0.5919052919299606,
                    -1.7071195729782942,
                    -1.1895653090495355,
                    0.6390977779302962,
                    1.295456870258728,
                    1.0432603943938363,
                    1.5067829763146572,
                    0.9566913863674601,
                    1.310266945124139,
                    -1.93090349772417,
                    0.5108049211688599,
                    -1.8206417027981763,
                    0.4919314503964313,
                    1.0367104751357175,
                    -0.5070167039378888,
                    0.4444149359221097,
                    0.5942474438048201,
                    -2.4036581156786467,
                    -0.738923209691997,
                    0.2483313091113896,
                    -1.5896989324533435,
                    -0.1767444417931268,
                    1.2918585657024686,
                    0.15436931061292777,
                    -0.020693967852573433,
                    -1.2953814780999942,
                    -0.33164381746601795,
                    -1.98419870685544,
                    -0.0977188523628509,
                    -1.3414203013691797,
                    0.19001993628446323,
                    -1.144617917384704,
                    0.6281985093673482,
                    0.31282287792073715,
                    -0.4335108153748616,
                    0.08996165145511464,
                    -0.4049630640050919,
                    -1.3655766758769943,
                    0.003863089142866324,
                    1.9544805266971712,
                    1.4025801247991099,
                    1.5133080358291704,
                    -1.081597061248639,
                    0.08033346985791334,
                    -0.8574779036981085,
                    -0.5578342097981503,
                    -1.0823858458747249
                  ],
                  "type": "scatter"
                }
              ],
              "layout": {
                "legend": {
                  "bgcolor": "#F5F6F9",
                  "font": {
                    "color": "#4D5663"
                  }
                },
                "paper_bgcolor": "#F5F6F9",
                "plot_bgcolor": "#F5F6F9",
                "template": {
                  "data": {
                    "barpolar": [
                      {
                        "marker": {
                          "line": {
                            "color": "#E5ECF6",
                            "width": 0.5
                          },
                          "pattern": {
                            "fillmode": "overlay",
                            "size": 10,
                            "solidity": 0.2
                          }
                        },
                        "type": "barpolar"
                      }
                    ],
                    "bar": [
                      {
                        "error_x": {
                          "color": "#2a3f5f"
                        },
                        "error_y": {
                          "color": "#2a3f5f"
                        },
                        "marker": {
                          "line": {
                            "color": "#E5ECF6",
                            "width": 0.5
                          },
                          "pattern": {
                            "fillmode": "overlay",
                            "size": 10,
                            "solidity": 0.2
                          }
                        },
                        "type": "bar"
                      }
                    ],
                    "carpet": [
                      {
                        "aaxis": {
                          "endlinecolor": "#2a3f5f",
                          "gridcolor": "white",
                          "linecolor": "white",
                          "minorgridcolor": "white",
                          "startlinecolor": "#2a3f5f"
                        },
                        "baxis": {
                          "endlinecolor": "#2a3f5f",
                          "gridcolor": "white",
                          "linecolor": "white",
                          "minorgridcolor": "white",
                          "startlinecolor": "#2a3f5f"
                        },
                        "type": "carpet"
                      }
                    ],
                    "choropleth": [
                      {
                        "colorbar": {
                          "outlinewidth": 0,
                          "ticks": ""
                        },
                        "type": "choropleth"
                      }
                    ],
                    "contourcarpet": [
                      {
                        "colorbar": {
                          "outlinewidth": 0,
                          "ticks": ""
                        },
                        "type": "contourcarpet"
                      }
                    ],
                    "contour": [
                      {
                        "colorbar": {
                          "outlinewidth": 0,
                          "ticks": ""
                        },
                        "colorscale": [
                          [
                            0,
                            "#0d0887"
                          ],
                          [
                            0.1111111111111111,
                            "#46039f"
                          ],
                          [
                            0.2222222222222222,
                            "#7201a8"
                          ],
                          [
                            0.3333333333333333,
                            "#9c179e"
                          ],
                          [
                            0.4444444444444444,
                            "#bd3786"
                          ],
                          [
                            0.5555555555555556,
                            "#d8576b"
                          ],
                          [
                            0.6666666666666666,
                            "#ed7953"
                          ],
                          [
                            0.7777777777777778,
                            "#fb9f3a"
                          ],
                          [
                            0.8888888888888888,
                            "#fdca26"
                          ],
                          [
                            1,
                            "#f0f921"
                          ]
                        ],
                        "type": "contour"
                      }
                    ],
                    "heatmapgl": [
                      {
                        "colorbar": {
                          "outlinewidth": 0,
                          "ticks": ""
                        },
                        "colorscale": [
                          [
                            0,
                            "#0d0887"
                          ],
                          [
                            0.1111111111111111,
                            "#46039f"
                          ],
                          [
                            0.2222222222222222,
                            "#7201a8"
                          ],
                          [
                            0.3333333333333333,
                            "#9c179e"
                          ],
                          [
                            0.4444444444444444,
                            "#bd3786"
                          ],
                          [
                            0.5555555555555556,
                            "#d8576b"
                          ],
                          [
                            0.6666666666666666,
                            "#ed7953"
                          ],
                          [
                            0.7777777777777778,
                            "#fb9f3a"
                          ],
                          [
                            0.8888888888888888,
                            "#fdca26"
                          ],
                          [
                            1,
                            "#f0f921"
                          ]
                        ],
                        "type": "heatmapgl"
                      }
                    ],
                    "heatmap": [
                      {
                        "colorbar": {
                          "outlinewidth": 0,
                          "ticks": ""
                        },
                        "colorscale": [
                          [
                            0,
                            "#0d0887"
                          ],
                          [
                            0.1111111111111111,
                            "#46039f"
                          ],
                          [
                            0.2222222222222222,
                            "#7201a8"
                          ],
                          [
                            0.3333333333333333,
                            "#9c179e"
                          ],
                          [
                            0.4444444444444444,
                            "#bd3786"
                          ],
                          [
                            0.5555555555555556,
                            "#d8576b"
                          ],
                          [
                            0.6666666666666666,
                            "#ed7953"
                          ],
                          [
                            0.7777777777777778,
                            "#fb9f3a"
                          ],
                          [
                            0.8888888888888888,
                            "#fdca26"
                          ],
                          [
                            1,
                            "#f0f921"
                          ]
                        ],
                        "type": "heatmap"
                      }
                    ],
                    "histogram2dcontour": [
                      {
                        "colorbar": {
                          "outlinewidth": 0,
                          "ticks": ""
                        },
                        "colorscale": [
                          [
                            0,
                            "#0d0887"
                          ],
                          [
                            0.1111111111111111,
                            "#46039f"
                          ],
                          [
                            0.2222222222222222,
                            "#7201a8"
                          ],
                          [
                            0.3333333333333333,
                            "#9c179e"
                          ],
                          [
                            0.4444444444444444,
                            "#bd3786"
                          ],
                          [
                            0.5555555555555556,
                            "#d8576b"
                          ],
                          [
                            0.6666666666666666,
                            "#ed7953"
                          ],
                          [
                            0.7777777777777778,
                            "#fb9f3a"
                          ],
                          [
                            0.8888888888888888,
                            "#fdca26"
                          ],
                          [
                            1,
                            "#f0f921"
                          ]
                        ],
                        "type": "histogram2dcontour"
                      }
                    ],
                    "histogram2d": [
                      {
                        "colorbar": {
                          "outlinewidth": 0,
                          "ticks": ""
                        },
                        "colorscale": [
                          [
                            0,
                            "#0d0887"
                          ],
                          [
                            0.1111111111111111,
                            "#46039f"
                          ],
                          [
                            0.2222222222222222,
                            "#7201a8"
                          ],
                          [
                            0.3333333333333333,
                            "#9c179e"
                          ],
                          [
                            0.4444444444444444,
                            "#bd3786"
                          ],
                          [
                            0.5555555555555556,
                            "#d8576b"
                          ],
                          [
                            0.6666666666666666,
                            "#ed7953"
                          ],
                          [
                            0.7777777777777778,
                            "#fb9f3a"
                          ],
                          [
                            0.8888888888888888,
                            "#fdca26"
                          ],
                          [
                            1,
                            "#f0f921"
                          ]
                        ],
                        "type": "histogram2d"
                      }
                    ],
                    "histogram": [
                      {
                        "marker": {
                          "pattern": {
                            "fillmode": "overlay",
                            "size": 10,
                            "solidity": 0.2
                          }
                        },
                        "type": "histogram"
                      }
                    ],
                    "mesh3d": [
                      {
                        "colorbar": {
                          "outlinewidth": 0,
                          "ticks": ""
                        },
                        "type": "mesh3d"
                      }
                    ],
                    "parcoords": [
                      {
                        "line": {
                          "colorbar": {
                            "outlinewidth": 0,
                            "ticks": ""
                          }
                        },
                        "type": "parcoords"
                      }
                    ],
                    "pie": [
                      {
                        "automargin": true,
                        "type": "pie"
                      }
                    ],
                    "scatter3d": [
                      {
                        "line": {
                          "colorbar": {
                            "outlinewidth": 0,
                            "ticks": ""
                          }
                        },
                        "marker": {
                          "colorbar": {
                            "outlinewidth": 0,
                            "ticks": ""
                          }
                        },
                        "type": "scatter3d"
                      }
                    ],
                    "scattercarpet": [
                      {
                        "marker": {
                          "colorbar": {
                            "outlinewidth": 0,
                            "ticks": ""
                          }
                        },
                        "type": "scattercarpet"
                      }
                    ],
                    "scattergeo": [
                      {
                        "marker": {
                          "colorbar": {
                            "outlinewidth": 0,
                            "ticks": ""
                          }
                        },
                        "type": "scattergeo"
                      }
                    ],
                    "scattergl": [
                      {
                        "marker": {
                          "colorbar": {
                            "outlinewidth": 0,
                            "ticks": ""
                          }
                        },
                        "type": "scattergl"
                      }
                    ],
                    "scattermapbox": [
                      {
                        "marker": {
                          "colorbar": {
                            "outlinewidth": 0,
                            "ticks": ""
                          }
                        },
                        "type": "scattermapbox"
                      }
                    ],
                    "scatterpolargl": [
                      {
                        "marker": {
                          "colorbar": {
                            "outlinewidth": 0,
                            "ticks": ""
                          }
                        },
                        "type": "scatterpolargl"
                      }
                    ],
                    "scatterpolar": [
                      {
                        "marker": {
                          "colorbar": {
                            "outlinewidth": 0,
                            "ticks": ""
                          }
                        },
                        "type": "scatterpolar"
                      }
                    ],
                    "scatter": [
                      {
                        "marker": {
                          "colorbar": {
                            "outlinewidth": 0,
                            "ticks": ""
                          }
                        },
                        "type": "scatter"
                      }
                    ],
                    "scatterternary": [
                      {
                        "marker": {
                          "colorbar": {
                            "outlinewidth": 0,
                            "ticks": ""
                          }
                        },
                        "type": "scatterternary"
                      }
                    ],
                    "surface": [
                      {
                        "colorbar": {
                          "outlinewidth": 0,
                          "ticks": ""
                        },
                        "colorscale": [
                          [
                            0,
                            "#0d0887"
                          ],
                          [
                            0.1111111111111111,
                            "#46039f"
                          ],
                          [
                            0.2222222222222222,
                            "#7201a8"
                          ],
                          [
                            0.3333333333333333,
                            "#9c179e"
                          ],
                          [
                            0.4444444444444444,
                            "#bd3786"
                          ],
                          [
                            0.5555555555555556,
                            "#d8576b"
                          ],
                          [
                            0.6666666666666666,
                            "#ed7953"
                          ],
                          [
                            0.7777777777777778,
                            "#fb9f3a"
                          ],
                          [
                            0.8888888888888888,
                            "#fdca26"
                          ],
                          [
                            1,
                            "#f0f921"
                          ]
                        ],
                        "type": "surface"
                      }
                    ],
                    "table": [
                      {
                        "cells": {
                          "fill": {
                            "color": "#EBF0F8"
                          },
                          "line": {
                            "color": "white"
                          }
                        },
                        "header": {
                          "fill": {
                            "color": "#C8D4E3"
                          },
                          "line": {
                            "color": "white"
                          }
                        },
                        "type": "table"
                      }
                    ]
                  },
                  "layout": {
                    "annotationdefaults": {
                      "arrowcolor": "#2a3f5f",
                      "arrowhead": 0,
                      "arrowwidth": 1
                    },
                    "autotypenumbers": "strict",
                    "coloraxis": {
                      "colorbar": {
                        "outlinewidth": 0,
                        "ticks": ""
                      }
                    },
                    "colorscale": {
                      "diverging": [
                        [
                          0,
                          "#8e0152"
                        ],
                        [
                          0.1,
                          "#c51b7d"
                        ],
                        [
                          0.2,
                          "#de77ae"
                        ],
                        [
                          0.3,
                          "#f1b6da"
                        ],
                        [
                          0.4,
                          "#fde0ef"
                        ],
                        [
                          0.5,
                          "#f7f7f7"
                        ],
                        [
                          0.6,
                          "#e6f5d0"
                        ],
                        [
                          0.7,
                          "#b8e186"
                        ],
                        [
                          0.8,
                          "#7fbc41"
                        ],
                        [
                          0.9,
                          "#4d9221"
                        ],
                        [
                          1,
                          "#276419"
                        ]
                      ],
                      "sequential": [
                        [
                          0,
                          "#0d0887"
                        ],
                        [
                          0.1111111111111111,
                          "#46039f"
                        ],
                        [
                          0.2222222222222222,
                          "#7201a8"
                        ],
                        [
                          0.3333333333333333,
                          "#9c179e"
                        ],
                        [
                          0.4444444444444444,
                          "#bd3786"
                        ],
                        [
                          0.5555555555555556,
                          "#d8576b"
                        ],
                        [
                          0.6666666666666666,
                          "#ed7953"
                        ],
                        [
                          0.7777777777777778,
                          "#fb9f3a"
                        ],
                        [
                          0.8888888888888888,
                          "#fdca26"
                        ],
                        [
                          1,
                          "#f0f921"
                        ]
                      ],
                      "sequentialminus": [
                        [
                          0,
                          "#0d0887"
                        ],
                        [
                          0.1111111111111111,
                          "#46039f"
                        ],
                        [
                          0.2222222222222222,
                          "#7201a8"
                        ],
                        [
                          0.3333333333333333,
                          "#9c179e"
                        ],
                        [
                          0.4444444444444444,
                          "#bd3786"
                        ],
                        [
                          0.5555555555555556,
                          "#d8576b"
                        ],
                        [
                          0.6666666666666666,
                          "#ed7953"
                        ],
                        [
                          0.7777777777777778,
                          "#fb9f3a"
                        ],
                        [
                          0.8888888888888888,
                          "#fdca26"
                        ],
                        [
                          1,
                          "#f0f921"
                        ]
                      ]
                    },
                    "colorway": [
                      "#636efa",
                      "#EF553B",
                      "#00cc96",
                      "#ab63fa",
                      "#FFA15A",
                      "#19d3f3",
                      "#FF6692",
                      "#B6E880",
                      "#FF97FF",
                      "#FECB52"
                    ],
                    "font": {
                      "color": "#2a3f5f"
                    },
                    "geo": {
                      "bgcolor": "white",
                      "lakecolor": "white",
                      "landcolor": "#E5ECF6",
                      "showlakes": true,
                      "showland": true,
                      "subunitcolor": "white"
                    },
                    "hoverlabel": {
                      "align": "left"
                    },
                    "hovermode": "closest",
                    "mapbox": {
                      "style": "light"
                    },
                    "paper_bgcolor": "white",
                    "plot_bgcolor": "#E5ECF6",
                    "polar": {
                      "angularaxis": {
                        "gridcolor": "white",
                        "linecolor": "white",
                        "ticks": ""
                      },
                      "bgcolor": "#E5ECF6",
                      "radialaxis": {
                        "gridcolor": "white",
                        "linecolor": "white",
                        "ticks": ""
                      }
                    },
                    "scene": {
                      "xaxis": {
                        "backgroundcolor": "#E5ECF6",
                        "gridcolor": "white",
                        "gridwidth": 2,
                        "linecolor": "white",
                        "showbackground": true,
                        "ticks": "",
                        "zerolinecolor": "white"
                      },
                      "yaxis": {
                        "backgroundcolor": "#E5ECF6",
                        "gridcolor": "white",
                        "gridwidth": 2,
                        "linecolor": "white",
                        "showbackground": true,
                        "ticks": "",
                        "zerolinecolor": "white"
                      },
                      "zaxis": {
                        "backgroundcolor": "#E5ECF6",
                        "gridcolor": "white",
                        "gridwidth": 2,
                        "linecolor": "white",
                        "showbackground": true,
                        "ticks": "",
                        "zerolinecolor": "white"
                      }
                    },
                    "shapedefaults": {
                      "line": {
                        "color": "#2a3f5f"
                      }
                    },
                    "ternary": {
                      "aaxis": {
                        "gridcolor": "white",
                        "linecolor": "white",
                        "ticks": ""
                      },
                      "baxis": {
                        "gridcolor": "white",
                        "linecolor": "white",
                        "ticks": ""
                      },
                      "bgcolor": "#E5ECF6",
                      "caxis": {
                        "gridcolor": "white",
                        "linecolor": "white",
                        "ticks": ""
                      }
                    },
                    "title": {
                      "x": 0.05
                    },
                    "xaxis": {
                      "automargin": true,
                      "gridcolor": "white",
                      "linecolor": "white",
                      "ticks": "",
                      "title": {
                        "standoff": 15
                      },
                      "zerolinecolor": "white",
                      "zerolinewidth": 2
                    },
                    "yaxis": {
                      "automargin": true,
                      "gridcolor": "white",
                      "linecolor": "white",
                      "ticks": "",
                      "title": {
                        "standoff": 15
                      },
                      "zerolinecolor": "white",
                      "zerolinewidth": 2
                    }
                  }
                },
                "title": {
                  "font": {
                    "color": "#4D5663"
                  }
                },
                "xaxis": {
                  "gridcolor": "#E1E5ED",
                  "showgrid": true,
                  "tickfont": {
                    "color": "#4D5663"
                  },
                  "title": {
                    "font": {
                      "color": "#4D5663"
                    },
                    "text": ""
                  },
                  "zerolinecolor": "#E1E5ED"
                },
                "yaxis": {
                  "gridcolor": "#E1E5ED",
                  "showgrid": true,
                  "tickfont": {
                    "color": "#4D5663"
                  },
                  "title": {
                    "font": {
                      "color": "#4D5663"
                    },
                    "text": ""
                  },
                  "zerolinecolor": "#E1E5ED"
                }
              },
              "config": {
                "showLink": true,
                "linkText": "Export to plot.ly",
                "plotlyServerURL": "https://plot.ly"
              }
            },
            "text/html": [
              "<div>                            <div id=\"123b769c-7427-4b99-8635-20859831621e\" class=\"plotly-graph-div\" style=\"height:525px; width:100%;\"></div>            <script type=\"text/javascript\">                require([\"plotly\"], function(Plotly) {                    window.PLOTLYENV=window.PLOTLYENV || {};\n",
              "                    window.PLOTLYENV.BASE_URL='https://plot.ly';                                    if (document.getElementById(\"123b769c-7427-4b99-8635-20859831621e\")) {                    Plotly.newPlot(                        \"123b769c-7427-4b99-8635-20859831621e\",                        [{\"line\":{\"color\":\"rgba(255, 153, 51, 1.0)\",\"dash\":\"solid\",\"shape\":\"linear\",\"width\":1.3},\"marker\":{\"size\":10,\"symbol\":\"circle\"},\"mode\":\"markers\",\"name\":\"B\",\"text\":\"\",\"x\":[0.0178114694854835,0.6503752891210457,1.4746556294415147,-0.002867505410992792,-0.7757917649856074,0.7662726192537015,1.0664749327062275,-0.11692736502946699,0.3306590500365512,-0.6039709270655202,2.3235131537725375,-1.581925335224607,0.015324694821562445,0.7668724051627919,0.5449217852329432,-1.5393392248297437,0.8826309337533468,-0.42177731108365596,0.6252953354329761,0.9475458834299388,0.16638344745317185,0.5872486334340409,0.7331878127127393,-0.8712133576574608,0.02218394918355038,-0.6013339495862363,-1.756229955636603,-1.9819893580331447,1.3825585253185222,0.18483164136281052,-1.2679341148034344,0.9949380071155695,-1.1476115696647307,-0.6479204186113192,-0.3789275877400645,0.2493338620032875,1.4201510261872716,-1.0503815196700217,1.0554704075679069,-1.0293234615296152,-1.0822796524356448,0.7684855357339191,2.5192161436818195,-1.9117744538897679,1.5931709732081492,0.5205078111864689,-0.9035063004328567,-0.039536779019681174,0.013421263122439244,-1.354389863999936,0.20741889935212338,-2.12861161880051,-0.5361385106295921,0.38466904193579843,0.5746526914220886,-0.870127691386053,-0.00021741926349469498,1.3073415839337295,-0.3230346369356965,-1.4318585137200077,0.742678531238043,-0.08997843766330833,-0.9296646722359696,-0.07779540095102579,-0.46929144505777076,0.008368761820374822,-0.613299214024739,1.1584825020371716,-0.47277585985662945,0.03805037863533173,-1.127629142630456,1.1062032945972584,1.338797608931247,-0.3109914547842166,0.21070722316844118,-0.15525145173830632,-0.9436284343977237,0.8405189744616796,0.7194053183545105,-0.5898131143539371,0.11078070545200325,-0.9101033501429266,-0.2760212578221692,-0.06121843562570686,0.22082764961571158,-0.8087040146874948,-0.24795260940063577,-0.18500473992804137,-1.1261930084640464,0.25926065036018053,1.0626956597526414,-0.29189730205400105,1.4649070470221661,0.15330410358902066,-0.9135301588123295,-1.5586000323884628,0.7016050667461048,-0.3143015581881234,-0.41706765214680636,-0.3921961494111043],\"y\":[-0.5617375702420864,-1.2105280209767268,0.8561250259063421,-0.7107503858881543,1.9101987417784274,0.5789968113218955,-0.9591681047529027,0.5395359124881931,1.3193862626751078,0.6680228938498383,-0.7341726211864084,-0.6118985446054702,-1.2141500234277,1.5911478517284632,-0.5261168186658791,0.8457278666030731,-1.0083412765657886,2.032738956061042,0.1463571733779813,0.5177816732261287,-0.769212161890698,-1.069099261508924,0.6217522583946871,-0.7685130295505281,0.9544080795307096,-0.09436162464620383,0.5375121175183534,0.6747308503837377,-0.5610675516558478,0.94214409035032,0.6064445545372859,0.07104417008322735,0.1330925122609887,0.6136925994677905,0.0035230303615803584,-0.34532692952094346,0.13237764586606712,-0.9646644055964682,0.130714844563745,0.10519423612640431,0.8547224198592885,1.4829075328199424,-0.9952118382098827,-0.6046778657833812,-0.0130276454638649,1.087828140993123,0.2085807423899216,0.74207524333408,-0.7939304210976657,0.882859631977347,0.21805155116360347,0.8191732685075461,-0.33300967724353003,-0.5919052919299606,-1.7071195729782942,-1.1895653090495355,0.6390977779302962,1.295456870258728,1.0432603943938363,1.5067829763146572,0.9566913863674601,1.310266945124139,-1.93090349772417,0.5108049211688599,-1.8206417027981763,0.4919314503964313,1.0367104751357175,-0.5070167039378888,0.4444149359221097,0.5942474438048201,-2.4036581156786467,-0.738923209691997,0.2483313091113896,-1.5896989324533435,-0.1767444417931268,1.2918585657024686,0.15436931061292777,-0.020693967852573433,-1.2953814780999942,-0.33164381746601795,-1.98419870685544,-0.0977188523628509,-1.3414203013691797,0.19001993628446323,-1.144617917384704,0.6281985093673482,0.31282287792073715,-0.4335108153748616,0.08996165145511464,-0.4049630640050919,-1.3655766758769943,0.003863089142866324,1.9544805266971712,1.4025801247991099,1.5133080358291704,-1.081597061248639,0.08033346985791334,-0.8574779036981085,-0.5578342097981503,-1.0823858458747249],\"type\":\"scatter\"}],                        {\"legend\":{\"bgcolor\":\"#F5F6F9\",\"font\":{\"color\":\"#4D5663\"}},\"paper_bgcolor\":\"#F5F6F9\",\"plot_bgcolor\":\"#F5F6F9\",\"template\":{\"data\":{\"barpolar\":[{\"marker\":{\"line\":{\"color\":\"#E5ECF6\",\"width\":0.5},\"pattern\":{\"fillmode\":\"overlay\",\"size\":10,\"solidity\":0.2}},\"type\":\"barpolar\"}],\"bar\":[{\"error_x\":{\"color\":\"#2a3f5f\"},\"error_y\":{\"color\":\"#2a3f5f\"},\"marker\":{\"line\":{\"color\":\"#E5ECF6\",\"width\":0.5},\"pattern\":{\"fillmode\":\"overlay\",\"size\":10,\"solidity\":0.2}},\"type\":\"bar\"}],\"carpet\":[{\"aaxis\":{\"endlinecolor\":\"#2a3f5f\",\"gridcolor\":\"white\",\"linecolor\":\"white\",\"minorgridcolor\":\"white\",\"startlinecolor\":\"#2a3f5f\"},\"baxis\":{\"endlinecolor\":\"#2a3f5f\",\"gridcolor\":\"white\",\"linecolor\":\"white\",\"minorgridcolor\":\"white\",\"startlinecolor\":\"#2a3f5f\"},\"type\":\"carpet\"}],\"choropleth\":[{\"colorbar\":{\"outlinewidth\":0,\"ticks\":\"\"},\"type\":\"choropleth\"}],\"contourcarpet\":[{\"colorbar\":{\"outlinewidth\":0,\"ticks\":\"\"},\"type\":\"contourcarpet\"}],\"contour\":[{\"colorbar\":{\"outlinewidth\":0,\"ticks\":\"\"},\"colorscale\":[[0.0,\"#0d0887\"],[0.1111111111111111,\"#46039f\"],[0.2222222222222222,\"#7201a8\"],[0.3333333333333333,\"#9c179e\"],[0.4444444444444444,\"#bd3786\"],[0.5555555555555556,\"#d8576b\"],[0.6666666666666666,\"#ed7953\"],[0.7777777777777778,\"#fb9f3a\"],[0.8888888888888888,\"#fdca26\"],[1.0,\"#f0f921\"]],\"type\":\"contour\"}],\"heatmapgl\":[{\"colorbar\":{\"outlinewidth\":0,\"ticks\":\"\"},\"colorscale\":[[0.0,\"#0d0887\"],[0.1111111111111111,\"#46039f\"],[0.2222222222222222,\"#7201a8\"],[0.3333333333333333,\"#9c179e\"],[0.4444444444444444,\"#bd3786\"],[0.5555555555555556,\"#d8576b\"],[0.6666666666666666,\"#ed7953\"],[0.7777777777777778,\"#fb9f3a\"],[0.8888888888888888,\"#fdca26\"],[1.0,\"#f0f921\"]],\"type\":\"heatmapgl\"}],\"heatmap\":[{\"colorbar\":{\"outlinewidth\":0,\"ticks\":\"\"},\"colorscale\":[[0.0,\"#0d0887\"],[0.1111111111111111,\"#46039f\"],[0.2222222222222222,\"#7201a8\"],[0.3333333333333333,\"#9c179e\"],[0.4444444444444444,\"#bd3786\"],[0.5555555555555556,\"#d8576b\"],[0.6666666666666666,\"#ed7953\"],[0.7777777777777778,\"#fb9f3a\"],[0.8888888888888888,\"#fdca26\"],[1.0,\"#f0f921\"]],\"type\":\"heatmap\"}],\"histogram2dcontour\":[{\"colorbar\":{\"outlinewidth\":0,\"ticks\":\"\"},\"colorscale\":[[0.0,\"#0d0887\"],[0.1111111111111111,\"#46039f\"],[0.2222222222222222,\"#7201a8\"],[0.3333333333333333,\"#9c179e\"],[0.4444444444444444,\"#bd3786\"],[0.5555555555555556,\"#d8576b\"],[0.6666666666666666,\"#ed7953\"],[0.7777777777777778,\"#fb9f3a\"],[0.8888888888888888,\"#fdca26\"],[1.0,\"#f0f921\"]],\"type\":\"histogram2dcontour\"}],\"histogram2d\":[{\"colorbar\":{\"outlinewidth\":0,\"ticks\":\"\"},\"colorscale\":[[0.0,\"#0d0887\"],[0.1111111111111111,\"#46039f\"],[0.2222222222222222,\"#7201a8\"],[0.3333333333333333,\"#9c179e\"],[0.4444444444444444,\"#bd3786\"],[0.5555555555555556,\"#d8576b\"],[0.6666666666666666,\"#ed7953\"],[0.7777777777777778,\"#fb9f3a\"],[0.8888888888888888,\"#fdca26\"],[1.0,\"#f0f921\"]],\"type\":\"histogram2d\"}],\"histogram\":[{\"marker\":{\"pattern\":{\"fillmode\":\"overlay\",\"size\":10,\"solidity\":0.2}},\"type\":\"histogram\"}],\"mesh3d\":[{\"colorbar\":{\"outlinewidth\":0,\"ticks\":\"\"},\"type\":\"mesh3d\"}],\"parcoords\":[{\"line\":{\"colorbar\":{\"outlinewidth\":0,\"ticks\":\"\"}},\"type\":\"parcoords\"}],\"pie\":[{\"automargin\":true,\"type\":\"pie\"}],\"scatter3d\":[{\"line\":{\"colorbar\":{\"outlinewidth\":0,\"ticks\":\"\"}},\"marker\":{\"colorbar\":{\"outlinewidth\":0,\"ticks\":\"\"}},\"type\":\"scatter3d\"}],\"scattercarpet\":[{\"marker\":{\"colorbar\":{\"outlinewidth\":0,\"ticks\":\"\"}},\"type\":\"scattercarpet\"}],\"scattergeo\":[{\"marker\":{\"colorbar\":{\"outlinewidth\":0,\"ticks\":\"\"}},\"type\":\"scattergeo\"}],\"scattergl\":[{\"marker\":{\"colorbar\":{\"outlinewidth\":0,\"ticks\":\"\"}},\"type\":\"scattergl\"}],\"scattermapbox\":[{\"marker\":{\"colorbar\":{\"outlinewidth\":0,\"ticks\":\"\"}},\"type\":\"scattermapbox\"}],\"scatterpolargl\":[{\"marker\":{\"colorbar\":{\"outlinewidth\":0,\"ticks\":\"\"}},\"type\":\"scatterpolargl\"}],\"scatterpolar\":[{\"marker\":{\"colorbar\":{\"outlinewidth\":0,\"ticks\":\"\"}},\"type\":\"scatterpolar\"}],\"scatter\":[{\"marker\":{\"colorbar\":{\"outlinewidth\":0,\"ticks\":\"\"}},\"type\":\"scatter\"}],\"scatterternary\":[{\"marker\":{\"colorbar\":{\"outlinewidth\":0,\"ticks\":\"\"}},\"type\":\"scatterternary\"}],\"surface\":[{\"colorbar\":{\"outlinewidth\":0,\"ticks\":\"\"},\"colorscale\":[[0.0,\"#0d0887\"],[0.1111111111111111,\"#46039f\"],[0.2222222222222222,\"#7201a8\"],[0.3333333333333333,\"#9c179e\"],[0.4444444444444444,\"#bd3786\"],[0.5555555555555556,\"#d8576b\"],[0.6666666666666666,\"#ed7953\"],[0.7777777777777778,\"#fb9f3a\"],[0.8888888888888888,\"#fdca26\"],[1.0,\"#f0f921\"]],\"type\":\"surface\"}],\"table\":[{\"cells\":{\"fill\":{\"color\":\"#EBF0F8\"},\"line\":{\"color\":\"white\"}},\"header\":{\"fill\":{\"color\":\"#C8D4E3\"},\"line\":{\"color\":\"white\"}},\"type\":\"table\"}]},\"layout\":{\"annotationdefaults\":{\"arrowcolor\":\"#2a3f5f\",\"arrowhead\":0,\"arrowwidth\":1},\"autotypenumbers\":\"strict\",\"coloraxis\":{\"colorbar\":{\"outlinewidth\":0,\"ticks\":\"\"}},\"colorscale\":{\"diverging\":[[0,\"#8e0152\"],[0.1,\"#c51b7d\"],[0.2,\"#de77ae\"],[0.3,\"#f1b6da\"],[0.4,\"#fde0ef\"],[0.5,\"#f7f7f7\"],[0.6,\"#e6f5d0\"],[0.7,\"#b8e186\"],[0.8,\"#7fbc41\"],[0.9,\"#4d9221\"],[1,\"#276419\"]],\"sequential\":[[0.0,\"#0d0887\"],[0.1111111111111111,\"#46039f\"],[0.2222222222222222,\"#7201a8\"],[0.3333333333333333,\"#9c179e\"],[0.4444444444444444,\"#bd3786\"],[0.5555555555555556,\"#d8576b\"],[0.6666666666666666,\"#ed7953\"],[0.7777777777777778,\"#fb9f3a\"],[0.8888888888888888,\"#fdca26\"],[1.0,\"#f0f921\"]],\"sequentialminus\":[[0.0,\"#0d0887\"],[0.1111111111111111,\"#46039f\"],[0.2222222222222222,\"#7201a8\"],[0.3333333333333333,\"#9c179e\"],[0.4444444444444444,\"#bd3786\"],[0.5555555555555556,\"#d8576b\"],[0.6666666666666666,\"#ed7953\"],[0.7777777777777778,\"#fb9f3a\"],[0.8888888888888888,\"#fdca26\"],[1.0,\"#f0f921\"]]},\"colorway\":[\"#636efa\",\"#EF553B\",\"#00cc96\",\"#ab63fa\",\"#FFA15A\",\"#19d3f3\",\"#FF6692\",\"#B6E880\",\"#FF97FF\",\"#FECB52\"],\"font\":{\"color\":\"#2a3f5f\"},\"geo\":{\"bgcolor\":\"white\",\"lakecolor\":\"white\",\"landcolor\":\"#E5ECF6\",\"showlakes\":true,\"showland\":true,\"subunitcolor\":\"white\"},\"hoverlabel\":{\"align\":\"left\"},\"hovermode\":\"closest\",\"mapbox\":{\"style\":\"light\"},\"paper_bgcolor\":\"white\",\"plot_bgcolor\":\"#E5ECF6\",\"polar\":{\"angularaxis\":{\"gridcolor\":\"white\",\"linecolor\":\"white\",\"ticks\":\"\"},\"bgcolor\":\"#E5ECF6\",\"radialaxis\":{\"gridcolor\":\"white\",\"linecolor\":\"white\",\"ticks\":\"\"}},\"scene\":{\"xaxis\":{\"backgroundcolor\":\"#E5ECF6\",\"gridcolor\":\"white\",\"gridwidth\":2,\"linecolor\":\"white\",\"showbackground\":true,\"ticks\":\"\",\"zerolinecolor\":\"white\"},\"yaxis\":{\"backgroundcolor\":\"#E5ECF6\",\"gridcolor\":\"white\",\"gridwidth\":2,\"linecolor\":\"white\",\"showbackground\":true,\"ticks\":\"\",\"zerolinecolor\":\"white\"},\"zaxis\":{\"backgroundcolor\":\"#E5ECF6\",\"gridcolor\":\"white\",\"gridwidth\":2,\"linecolor\":\"white\",\"showbackground\":true,\"ticks\":\"\",\"zerolinecolor\":\"white\"}},\"shapedefaults\":{\"line\":{\"color\":\"#2a3f5f\"}},\"ternary\":{\"aaxis\":{\"gridcolor\":\"white\",\"linecolor\":\"white\",\"ticks\":\"\"},\"baxis\":{\"gridcolor\":\"white\",\"linecolor\":\"white\",\"ticks\":\"\"},\"bgcolor\":\"#E5ECF6\",\"caxis\":{\"gridcolor\":\"white\",\"linecolor\":\"white\",\"ticks\":\"\"}},\"title\":{\"x\":0.05},\"xaxis\":{\"automargin\":true,\"gridcolor\":\"white\",\"linecolor\":\"white\",\"ticks\":\"\",\"title\":{\"standoff\":15},\"zerolinecolor\":\"white\",\"zerolinewidth\":2},\"yaxis\":{\"automargin\":true,\"gridcolor\":\"white\",\"linecolor\":\"white\",\"ticks\":\"\",\"title\":{\"standoff\":15},\"zerolinecolor\":\"white\",\"zerolinewidth\":2}}},\"title\":{\"font\":{\"color\":\"#4D5663\"}},\"xaxis\":{\"gridcolor\":\"#E1E5ED\",\"showgrid\":true,\"tickfont\":{\"color\":\"#4D5663\"},\"title\":{\"font\":{\"color\":\"#4D5663\"},\"text\":\"\"},\"zerolinecolor\":\"#E1E5ED\"},\"yaxis\":{\"gridcolor\":\"#E1E5ED\",\"showgrid\":true,\"tickfont\":{\"color\":\"#4D5663\"},\"title\":{\"font\":{\"color\":\"#4D5663\"},\"text\":\"\"},\"zerolinecolor\":\"#E1E5ED\"}},                        {\"showLink\": true, \"linkText\": \"Export to plot.ly\", \"plotlyServerURL\": \"https://plot.ly\", \"responsive\": true}                    ).then(function(){\n",
              "                            \n",
              "var gd = document.getElementById('123b769c-7427-4b99-8635-20859831621e');\n",
              "var x = new MutationObserver(function (mutations, observer) {{\n",
              "        var display = window.getComputedStyle(gd).display;\n",
              "        if (!display || display === 'none') {{\n",
              "            console.log([gd, 'removed!']);\n",
              "            Plotly.purge(gd);\n",
              "            observer.disconnect();\n",
              "        }}\n",
              "}});\n",
              "\n",
              "// Listen for the removal of the full notebook cells\n",
              "var notebookContainer = gd.closest('#notebook-container');\n",
              "if (notebookContainer) {{\n",
              "    x.observe(notebookContainer, {childList: true});\n",
              "}}\n",
              "\n",
              "// Listen for the clearing of the current output cell\n",
              "var outputEl = gd.closest('.output');\n",
              "if (outputEl) {{\n",
              "    x.observe(outputEl, {childList: true});\n",
              "}}\n",
              "\n",
              "                        })                };                });            </script>        </div>"
            ]
          },
          "metadata": {}
        }
      ],
      "source": [
        "df.iplot(kind='scatter',x='A',y='B',mode='markers',size=10)"
      ]
    },
    {
      "cell_type": "markdown",
      "metadata": {
        "id": "ZqBC4GBfK5ld"
      },
      "source": [
        "## Bar Plots"
      ]
    },
    {
      "cell_type": "code",
      "execution_count": null,
      "metadata": {
        "colab": {
          "base_uri": "https://localhost:8080/",
          "height": 542
        },
        "id": "6GbMhpuAK5ld",
        "outputId": "b503bdba-88c0-4d5b-f408-e87dba2e130d"
      },
      "outputs": [
        {
          "output_type": "display_data",
          "data": {
            "application/vnd.plotly.v1+json": {
              "data": [
                {
                  "marker": {
                    "color": "rgba(255, 153, 51, 0.6)",
                    "line": {
                      "color": "rgba(255, 153, 51, 1.0)",
                      "width": 1
                    }
                  },
                  "name": "Values",
                  "orientation": "v",
                  "text": "",
                  "x": [
                    "A",
                    "B",
                    "C"
                  ],
                  "y": [
                    32,
                    43,
                    50
                  ],
                  "type": "bar"
                }
              ],
              "layout": {
                "legend": {
                  "bgcolor": "#F5F6F9",
                  "font": {
                    "color": "#4D5663"
                  }
                },
                "paper_bgcolor": "#F5F6F9",
                "plot_bgcolor": "#F5F6F9",
                "template": {
                  "data": {
                    "barpolar": [
                      {
                        "marker": {
                          "line": {
                            "color": "#E5ECF6",
                            "width": 0.5
                          },
                          "pattern": {
                            "fillmode": "overlay",
                            "size": 10,
                            "solidity": 0.2
                          }
                        },
                        "type": "barpolar"
                      }
                    ],
                    "bar": [
                      {
                        "error_x": {
                          "color": "#2a3f5f"
                        },
                        "error_y": {
                          "color": "#2a3f5f"
                        },
                        "marker": {
                          "line": {
                            "color": "#E5ECF6",
                            "width": 0.5
                          },
                          "pattern": {
                            "fillmode": "overlay",
                            "size": 10,
                            "solidity": 0.2
                          }
                        },
                        "type": "bar"
                      }
                    ],
                    "carpet": [
                      {
                        "aaxis": {
                          "endlinecolor": "#2a3f5f",
                          "gridcolor": "white",
                          "linecolor": "white",
                          "minorgridcolor": "white",
                          "startlinecolor": "#2a3f5f"
                        },
                        "baxis": {
                          "endlinecolor": "#2a3f5f",
                          "gridcolor": "white",
                          "linecolor": "white",
                          "minorgridcolor": "white",
                          "startlinecolor": "#2a3f5f"
                        },
                        "type": "carpet"
                      }
                    ],
                    "choropleth": [
                      {
                        "colorbar": {
                          "outlinewidth": 0,
                          "ticks": ""
                        },
                        "type": "choropleth"
                      }
                    ],
                    "contourcarpet": [
                      {
                        "colorbar": {
                          "outlinewidth": 0,
                          "ticks": ""
                        },
                        "type": "contourcarpet"
                      }
                    ],
                    "contour": [
                      {
                        "colorbar": {
                          "outlinewidth": 0,
                          "ticks": ""
                        },
                        "colorscale": [
                          [
                            0,
                            "#0d0887"
                          ],
                          [
                            0.1111111111111111,
                            "#46039f"
                          ],
                          [
                            0.2222222222222222,
                            "#7201a8"
                          ],
                          [
                            0.3333333333333333,
                            "#9c179e"
                          ],
                          [
                            0.4444444444444444,
                            "#bd3786"
                          ],
                          [
                            0.5555555555555556,
                            "#d8576b"
                          ],
                          [
                            0.6666666666666666,
                            "#ed7953"
                          ],
                          [
                            0.7777777777777778,
                            "#fb9f3a"
                          ],
                          [
                            0.8888888888888888,
                            "#fdca26"
                          ],
                          [
                            1,
                            "#f0f921"
                          ]
                        ],
                        "type": "contour"
                      }
                    ],
                    "heatmapgl": [
                      {
                        "colorbar": {
                          "outlinewidth": 0,
                          "ticks": ""
                        },
                        "colorscale": [
                          [
                            0,
                            "#0d0887"
                          ],
                          [
                            0.1111111111111111,
                            "#46039f"
                          ],
                          [
                            0.2222222222222222,
                            "#7201a8"
                          ],
                          [
                            0.3333333333333333,
                            "#9c179e"
                          ],
                          [
                            0.4444444444444444,
                            "#bd3786"
                          ],
                          [
                            0.5555555555555556,
                            "#d8576b"
                          ],
                          [
                            0.6666666666666666,
                            "#ed7953"
                          ],
                          [
                            0.7777777777777778,
                            "#fb9f3a"
                          ],
                          [
                            0.8888888888888888,
                            "#fdca26"
                          ],
                          [
                            1,
                            "#f0f921"
                          ]
                        ],
                        "type": "heatmapgl"
                      }
                    ],
                    "heatmap": [
                      {
                        "colorbar": {
                          "outlinewidth": 0,
                          "ticks": ""
                        },
                        "colorscale": [
                          [
                            0,
                            "#0d0887"
                          ],
                          [
                            0.1111111111111111,
                            "#46039f"
                          ],
                          [
                            0.2222222222222222,
                            "#7201a8"
                          ],
                          [
                            0.3333333333333333,
                            "#9c179e"
                          ],
                          [
                            0.4444444444444444,
                            "#bd3786"
                          ],
                          [
                            0.5555555555555556,
                            "#d8576b"
                          ],
                          [
                            0.6666666666666666,
                            "#ed7953"
                          ],
                          [
                            0.7777777777777778,
                            "#fb9f3a"
                          ],
                          [
                            0.8888888888888888,
                            "#fdca26"
                          ],
                          [
                            1,
                            "#f0f921"
                          ]
                        ],
                        "type": "heatmap"
                      }
                    ],
                    "histogram2dcontour": [
                      {
                        "colorbar": {
                          "outlinewidth": 0,
                          "ticks": ""
                        },
                        "colorscale": [
                          [
                            0,
                            "#0d0887"
                          ],
                          [
                            0.1111111111111111,
                            "#46039f"
                          ],
                          [
                            0.2222222222222222,
                            "#7201a8"
                          ],
                          [
                            0.3333333333333333,
                            "#9c179e"
                          ],
                          [
                            0.4444444444444444,
                            "#bd3786"
                          ],
                          [
                            0.5555555555555556,
                            "#d8576b"
                          ],
                          [
                            0.6666666666666666,
                            "#ed7953"
                          ],
                          [
                            0.7777777777777778,
                            "#fb9f3a"
                          ],
                          [
                            0.8888888888888888,
                            "#fdca26"
                          ],
                          [
                            1,
                            "#f0f921"
                          ]
                        ],
                        "type": "histogram2dcontour"
                      }
                    ],
                    "histogram2d": [
                      {
                        "colorbar": {
                          "outlinewidth": 0,
                          "ticks": ""
                        },
                        "colorscale": [
                          [
                            0,
                            "#0d0887"
                          ],
                          [
                            0.1111111111111111,
                            "#46039f"
                          ],
                          [
                            0.2222222222222222,
                            "#7201a8"
                          ],
                          [
                            0.3333333333333333,
                            "#9c179e"
                          ],
                          [
                            0.4444444444444444,
                            "#bd3786"
                          ],
                          [
                            0.5555555555555556,
                            "#d8576b"
                          ],
                          [
                            0.6666666666666666,
                            "#ed7953"
                          ],
                          [
                            0.7777777777777778,
                            "#fb9f3a"
                          ],
                          [
                            0.8888888888888888,
                            "#fdca26"
                          ],
                          [
                            1,
                            "#f0f921"
                          ]
                        ],
                        "type": "histogram2d"
                      }
                    ],
                    "histogram": [
                      {
                        "marker": {
                          "pattern": {
                            "fillmode": "overlay",
                            "size": 10,
                            "solidity": 0.2
                          }
                        },
                        "type": "histogram"
                      }
                    ],
                    "mesh3d": [
                      {
                        "colorbar": {
                          "outlinewidth": 0,
                          "ticks": ""
                        },
                        "type": "mesh3d"
                      }
                    ],
                    "parcoords": [
                      {
                        "line": {
                          "colorbar": {
                            "outlinewidth": 0,
                            "ticks": ""
                          }
                        },
                        "type": "parcoords"
                      }
                    ],
                    "pie": [
                      {
                        "automargin": true,
                        "type": "pie"
                      }
                    ],
                    "scatter3d": [
                      {
                        "line": {
                          "colorbar": {
                            "outlinewidth": 0,
                            "ticks": ""
                          }
                        },
                        "marker": {
                          "colorbar": {
                            "outlinewidth": 0,
                            "ticks": ""
                          }
                        },
                        "type": "scatter3d"
                      }
                    ],
                    "scattercarpet": [
                      {
                        "marker": {
                          "colorbar": {
                            "outlinewidth": 0,
                            "ticks": ""
                          }
                        },
                        "type": "scattercarpet"
                      }
                    ],
                    "scattergeo": [
                      {
                        "marker": {
                          "colorbar": {
                            "outlinewidth": 0,
                            "ticks": ""
                          }
                        },
                        "type": "scattergeo"
                      }
                    ],
                    "scattergl": [
                      {
                        "marker": {
                          "colorbar": {
                            "outlinewidth": 0,
                            "ticks": ""
                          }
                        },
                        "type": "scattergl"
                      }
                    ],
                    "scattermapbox": [
                      {
                        "marker": {
                          "colorbar": {
                            "outlinewidth": 0,
                            "ticks": ""
                          }
                        },
                        "type": "scattermapbox"
                      }
                    ],
                    "scatterpolargl": [
                      {
                        "marker": {
                          "colorbar": {
                            "outlinewidth": 0,
                            "ticks": ""
                          }
                        },
                        "type": "scatterpolargl"
                      }
                    ],
                    "scatterpolar": [
                      {
                        "marker": {
                          "colorbar": {
                            "outlinewidth": 0,
                            "ticks": ""
                          }
                        },
                        "type": "scatterpolar"
                      }
                    ],
                    "scatter": [
                      {
                        "marker": {
                          "colorbar": {
                            "outlinewidth": 0,
                            "ticks": ""
                          }
                        },
                        "type": "scatter"
                      }
                    ],
                    "scatterternary": [
                      {
                        "marker": {
                          "colorbar": {
                            "outlinewidth": 0,
                            "ticks": ""
                          }
                        },
                        "type": "scatterternary"
                      }
                    ],
                    "surface": [
                      {
                        "colorbar": {
                          "outlinewidth": 0,
                          "ticks": ""
                        },
                        "colorscale": [
                          [
                            0,
                            "#0d0887"
                          ],
                          [
                            0.1111111111111111,
                            "#46039f"
                          ],
                          [
                            0.2222222222222222,
                            "#7201a8"
                          ],
                          [
                            0.3333333333333333,
                            "#9c179e"
                          ],
                          [
                            0.4444444444444444,
                            "#bd3786"
                          ],
                          [
                            0.5555555555555556,
                            "#d8576b"
                          ],
                          [
                            0.6666666666666666,
                            "#ed7953"
                          ],
                          [
                            0.7777777777777778,
                            "#fb9f3a"
                          ],
                          [
                            0.8888888888888888,
                            "#fdca26"
                          ],
                          [
                            1,
                            "#f0f921"
                          ]
                        ],
                        "type": "surface"
                      }
                    ],
                    "table": [
                      {
                        "cells": {
                          "fill": {
                            "color": "#EBF0F8"
                          },
                          "line": {
                            "color": "white"
                          }
                        },
                        "header": {
                          "fill": {
                            "color": "#C8D4E3"
                          },
                          "line": {
                            "color": "white"
                          }
                        },
                        "type": "table"
                      }
                    ]
                  },
                  "layout": {
                    "annotationdefaults": {
                      "arrowcolor": "#2a3f5f",
                      "arrowhead": 0,
                      "arrowwidth": 1
                    },
                    "autotypenumbers": "strict",
                    "coloraxis": {
                      "colorbar": {
                        "outlinewidth": 0,
                        "ticks": ""
                      }
                    },
                    "colorscale": {
                      "diverging": [
                        [
                          0,
                          "#8e0152"
                        ],
                        [
                          0.1,
                          "#c51b7d"
                        ],
                        [
                          0.2,
                          "#de77ae"
                        ],
                        [
                          0.3,
                          "#f1b6da"
                        ],
                        [
                          0.4,
                          "#fde0ef"
                        ],
                        [
                          0.5,
                          "#f7f7f7"
                        ],
                        [
                          0.6,
                          "#e6f5d0"
                        ],
                        [
                          0.7,
                          "#b8e186"
                        ],
                        [
                          0.8,
                          "#7fbc41"
                        ],
                        [
                          0.9,
                          "#4d9221"
                        ],
                        [
                          1,
                          "#276419"
                        ]
                      ],
                      "sequential": [
                        [
                          0,
                          "#0d0887"
                        ],
                        [
                          0.1111111111111111,
                          "#46039f"
                        ],
                        [
                          0.2222222222222222,
                          "#7201a8"
                        ],
                        [
                          0.3333333333333333,
                          "#9c179e"
                        ],
                        [
                          0.4444444444444444,
                          "#bd3786"
                        ],
                        [
                          0.5555555555555556,
                          "#d8576b"
                        ],
                        [
                          0.6666666666666666,
                          "#ed7953"
                        ],
                        [
                          0.7777777777777778,
                          "#fb9f3a"
                        ],
                        [
                          0.8888888888888888,
                          "#fdca26"
                        ],
                        [
                          1,
                          "#f0f921"
                        ]
                      ],
                      "sequentialminus": [
                        [
                          0,
                          "#0d0887"
                        ],
                        [
                          0.1111111111111111,
                          "#46039f"
                        ],
                        [
                          0.2222222222222222,
                          "#7201a8"
                        ],
                        [
                          0.3333333333333333,
                          "#9c179e"
                        ],
                        [
                          0.4444444444444444,
                          "#bd3786"
                        ],
                        [
                          0.5555555555555556,
                          "#d8576b"
                        ],
                        [
                          0.6666666666666666,
                          "#ed7953"
                        ],
                        [
                          0.7777777777777778,
                          "#fb9f3a"
                        ],
                        [
                          0.8888888888888888,
                          "#fdca26"
                        ],
                        [
                          1,
                          "#f0f921"
                        ]
                      ]
                    },
                    "colorway": [
                      "#636efa",
                      "#EF553B",
                      "#00cc96",
                      "#ab63fa",
                      "#FFA15A",
                      "#19d3f3",
                      "#FF6692",
                      "#B6E880",
                      "#FF97FF",
                      "#FECB52"
                    ],
                    "font": {
                      "color": "#2a3f5f"
                    },
                    "geo": {
                      "bgcolor": "white",
                      "lakecolor": "white",
                      "landcolor": "#E5ECF6",
                      "showlakes": true,
                      "showland": true,
                      "subunitcolor": "white"
                    },
                    "hoverlabel": {
                      "align": "left"
                    },
                    "hovermode": "closest",
                    "mapbox": {
                      "style": "light"
                    },
                    "paper_bgcolor": "white",
                    "plot_bgcolor": "#E5ECF6",
                    "polar": {
                      "angularaxis": {
                        "gridcolor": "white",
                        "linecolor": "white",
                        "ticks": ""
                      },
                      "bgcolor": "#E5ECF6",
                      "radialaxis": {
                        "gridcolor": "white",
                        "linecolor": "white",
                        "ticks": ""
                      }
                    },
                    "scene": {
                      "xaxis": {
                        "backgroundcolor": "#E5ECF6",
                        "gridcolor": "white",
                        "gridwidth": 2,
                        "linecolor": "white",
                        "showbackground": true,
                        "ticks": "",
                        "zerolinecolor": "white"
                      },
                      "yaxis": {
                        "backgroundcolor": "#E5ECF6",
                        "gridcolor": "white",
                        "gridwidth": 2,
                        "linecolor": "white",
                        "showbackground": true,
                        "ticks": "",
                        "zerolinecolor": "white"
                      },
                      "zaxis": {
                        "backgroundcolor": "#E5ECF6",
                        "gridcolor": "white",
                        "gridwidth": 2,
                        "linecolor": "white",
                        "showbackground": true,
                        "ticks": "",
                        "zerolinecolor": "white"
                      }
                    },
                    "shapedefaults": {
                      "line": {
                        "color": "#2a3f5f"
                      }
                    },
                    "ternary": {
                      "aaxis": {
                        "gridcolor": "white",
                        "linecolor": "white",
                        "ticks": ""
                      },
                      "baxis": {
                        "gridcolor": "white",
                        "linecolor": "white",
                        "ticks": ""
                      },
                      "bgcolor": "#E5ECF6",
                      "caxis": {
                        "gridcolor": "white",
                        "linecolor": "white",
                        "ticks": ""
                      }
                    },
                    "title": {
                      "x": 0.05
                    },
                    "xaxis": {
                      "automargin": true,
                      "gridcolor": "white",
                      "linecolor": "white",
                      "ticks": "",
                      "title": {
                        "standoff": 15
                      },
                      "zerolinecolor": "white",
                      "zerolinewidth": 2
                    },
                    "yaxis": {
                      "automargin": true,
                      "gridcolor": "white",
                      "linecolor": "white",
                      "ticks": "",
                      "title": {
                        "standoff": 15
                      },
                      "zerolinecolor": "white",
                      "zerolinewidth": 2
                    }
                  }
                },
                "title": {
                  "font": {
                    "color": "#4D5663"
                  }
                },
                "xaxis": {
                  "gridcolor": "#E1E5ED",
                  "showgrid": true,
                  "tickfont": {
                    "color": "#4D5663"
                  },
                  "title": {
                    "font": {
                      "color": "#4D5663"
                    },
                    "text": ""
                  },
                  "zerolinecolor": "#E1E5ED"
                },
                "yaxis": {
                  "gridcolor": "#E1E5ED",
                  "showgrid": true,
                  "tickfont": {
                    "color": "#4D5663"
                  },
                  "title": {
                    "font": {
                      "color": "#4D5663"
                    },
                    "text": ""
                  },
                  "zerolinecolor": "#E1E5ED"
                }
              },
              "config": {
                "showLink": true,
                "linkText": "Export to plot.ly",
                "plotlyServerURL": "https://plot.ly"
              }
            },
            "text/html": [
              "<div>                            <div id=\"fcf9b95b-4bbd-4fc4-96d5-0debbbc6cd48\" class=\"plotly-graph-div\" style=\"height:525px; width:100%;\"></div>            <script type=\"text/javascript\">                require([\"plotly\"], function(Plotly) {                    window.PLOTLYENV=window.PLOTLYENV || {};\n",
              "                    window.PLOTLYENV.BASE_URL='https://plot.ly';                                    if (document.getElementById(\"fcf9b95b-4bbd-4fc4-96d5-0debbbc6cd48\")) {                    Plotly.newPlot(                        \"fcf9b95b-4bbd-4fc4-96d5-0debbbc6cd48\",                        [{\"marker\":{\"color\":\"rgba(255, 153, 51, 0.6)\",\"line\":{\"color\":\"rgba(255, 153, 51, 1.0)\",\"width\":1}},\"name\":\"Values\",\"orientation\":\"v\",\"text\":\"\",\"x\":[\"A\",\"B\",\"C\"],\"y\":[32,43,50],\"type\":\"bar\"}],                        {\"legend\":{\"bgcolor\":\"#F5F6F9\",\"font\":{\"color\":\"#4D5663\"}},\"paper_bgcolor\":\"#F5F6F9\",\"plot_bgcolor\":\"#F5F6F9\",\"template\":{\"data\":{\"barpolar\":[{\"marker\":{\"line\":{\"color\":\"#E5ECF6\",\"width\":0.5},\"pattern\":{\"fillmode\":\"overlay\",\"size\":10,\"solidity\":0.2}},\"type\":\"barpolar\"}],\"bar\":[{\"error_x\":{\"color\":\"#2a3f5f\"},\"error_y\":{\"color\":\"#2a3f5f\"},\"marker\":{\"line\":{\"color\":\"#E5ECF6\",\"width\":0.5},\"pattern\":{\"fillmode\":\"overlay\",\"size\":10,\"solidity\":0.2}},\"type\":\"bar\"}],\"carpet\":[{\"aaxis\":{\"endlinecolor\":\"#2a3f5f\",\"gridcolor\":\"white\",\"linecolor\":\"white\",\"minorgridcolor\":\"white\",\"startlinecolor\":\"#2a3f5f\"},\"baxis\":{\"endlinecolor\":\"#2a3f5f\",\"gridcolor\":\"white\",\"linecolor\":\"white\",\"minorgridcolor\":\"white\",\"startlinecolor\":\"#2a3f5f\"},\"type\":\"carpet\"}],\"choropleth\":[{\"colorbar\":{\"outlinewidth\":0,\"ticks\":\"\"},\"type\":\"choropleth\"}],\"contourcarpet\":[{\"colorbar\":{\"outlinewidth\":0,\"ticks\":\"\"},\"type\":\"contourcarpet\"}],\"contour\":[{\"colorbar\":{\"outlinewidth\":0,\"ticks\":\"\"},\"colorscale\":[[0.0,\"#0d0887\"],[0.1111111111111111,\"#46039f\"],[0.2222222222222222,\"#7201a8\"],[0.3333333333333333,\"#9c179e\"],[0.4444444444444444,\"#bd3786\"],[0.5555555555555556,\"#d8576b\"],[0.6666666666666666,\"#ed7953\"],[0.7777777777777778,\"#fb9f3a\"],[0.8888888888888888,\"#fdca26\"],[1.0,\"#f0f921\"]],\"type\":\"contour\"}],\"heatmapgl\":[{\"colorbar\":{\"outlinewidth\":0,\"ticks\":\"\"},\"colorscale\":[[0.0,\"#0d0887\"],[0.1111111111111111,\"#46039f\"],[0.2222222222222222,\"#7201a8\"],[0.3333333333333333,\"#9c179e\"],[0.4444444444444444,\"#bd3786\"],[0.5555555555555556,\"#d8576b\"],[0.6666666666666666,\"#ed7953\"],[0.7777777777777778,\"#fb9f3a\"],[0.8888888888888888,\"#fdca26\"],[1.0,\"#f0f921\"]],\"type\":\"heatmapgl\"}],\"heatmap\":[{\"colorbar\":{\"outlinewidth\":0,\"ticks\":\"\"},\"colorscale\":[[0.0,\"#0d0887\"],[0.1111111111111111,\"#46039f\"],[0.2222222222222222,\"#7201a8\"],[0.3333333333333333,\"#9c179e\"],[0.4444444444444444,\"#bd3786\"],[0.5555555555555556,\"#d8576b\"],[0.6666666666666666,\"#ed7953\"],[0.7777777777777778,\"#fb9f3a\"],[0.8888888888888888,\"#fdca26\"],[1.0,\"#f0f921\"]],\"type\":\"heatmap\"}],\"histogram2dcontour\":[{\"colorbar\":{\"outlinewidth\":0,\"ticks\":\"\"},\"colorscale\":[[0.0,\"#0d0887\"],[0.1111111111111111,\"#46039f\"],[0.2222222222222222,\"#7201a8\"],[0.3333333333333333,\"#9c179e\"],[0.4444444444444444,\"#bd3786\"],[0.5555555555555556,\"#d8576b\"],[0.6666666666666666,\"#ed7953\"],[0.7777777777777778,\"#fb9f3a\"],[0.8888888888888888,\"#fdca26\"],[1.0,\"#f0f921\"]],\"type\":\"histogram2dcontour\"}],\"histogram2d\":[{\"colorbar\":{\"outlinewidth\":0,\"ticks\":\"\"},\"colorscale\":[[0.0,\"#0d0887\"],[0.1111111111111111,\"#46039f\"],[0.2222222222222222,\"#7201a8\"],[0.3333333333333333,\"#9c179e\"],[0.4444444444444444,\"#bd3786\"],[0.5555555555555556,\"#d8576b\"],[0.6666666666666666,\"#ed7953\"],[0.7777777777777778,\"#fb9f3a\"],[0.8888888888888888,\"#fdca26\"],[1.0,\"#f0f921\"]],\"type\":\"histogram2d\"}],\"histogram\":[{\"marker\":{\"pattern\":{\"fillmode\":\"overlay\",\"size\":10,\"solidity\":0.2}},\"type\":\"histogram\"}],\"mesh3d\":[{\"colorbar\":{\"outlinewidth\":0,\"ticks\":\"\"},\"type\":\"mesh3d\"}],\"parcoords\":[{\"line\":{\"colorbar\":{\"outlinewidth\":0,\"ticks\":\"\"}},\"type\":\"parcoords\"}],\"pie\":[{\"automargin\":true,\"type\":\"pie\"}],\"scatter3d\":[{\"line\":{\"colorbar\":{\"outlinewidth\":0,\"ticks\":\"\"}},\"marker\":{\"colorbar\":{\"outlinewidth\":0,\"ticks\":\"\"}},\"type\":\"scatter3d\"}],\"scattercarpet\":[{\"marker\":{\"colorbar\":{\"outlinewidth\":0,\"ticks\":\"\"}},\"type\":\"scattercarpet\"}],\"scattergeo\":[{\"marker\":{\"colorbar\":{\"outlinewidth\":0,\"ticks\":\"\"}},\"type\":\"scattergeo\"}],\"scattergl\":[{\"marker\":{\"colorbar\":{\"outlinewidth\":0,\"ticks\":\"\"}},\"type\":\"scattergl\"}],\"scattermapbox\":[{\"marker\":{\"colorbar\":{\"outlinewidth\":0,\"ticks\":\"\"}},\"type\":\"scattermapbox\"}],\"scatterpolargl\":[{\"marker\":{\"colorbar\":{\"outlinewidth\":0,\"ticks\":\"\"}},\"type\":\"scatterpolargl\"}],\"scatterpolar\":[{\"marker\":{\"colorbar\":{\"outlinewidth\":0,\"ticks\":\"\"}},\"type\":\"scatterpolar\"}],\"scatter\":[{\"marker\":{\"colorbar\":{\"outlinewidth\":0,\"ticks\":\"\"}},\"type\":\"scatter\"}],\"scatterternary\":[{\"marker\":{\"colorbar\":{\"outlinewidth\":0,\"ticks\":\"\"}},\"type\":\"scatterternary\"}],\"surface\":[{\"colorbar\":{\"outlinewidth\":0,\"ticks\":\"\"},\"colorscale\":[[0.0,\"#0d0887\"],[0.1111111111111111,\"#46039f\"],[0.2222222222222222,\"#7201a8\"],[0.3333333333333333,\"#9c179e\"],[0.4444444444444444,\"#bd3786\"],[0.5555555555555556,\"#d8576b\"],[0.6666666666666666,\"#ed7953\"],[0.7777777777777778,\"#fb9f3a\"],[0.8888888888888888,\"#fdca26\"],[1.0,\"#f0f921\"]],\"type\":\"surface\"}],\"table\":[{\"cells\":{\"fill\":{\"color\":\"#EBF0F8\"},\"line\":{\"color\":\"white\"}},\"header\":{\"fill\":{\"color\":\"#C8D4E3\"},\"line\":{\"color\":\"white\"}},\"type\":\"table\"}]},\"layout\":{\"annotationdefaults\":{\"arrowcolor\":\"#2a3f5f\",\"arrowhead\":0,\"arrowwidth\":1},\"autotypenumbers\":\"strict\",\"coloraxis\":{\"colorbar\":{\"outlinewidth\":0,\"ticks\":\"\"}},\"colorscale\":{\"diverging\":[[0,\"#8e0152\"],[0.1,\"#c51b7d\"],[0.2,\"#de77ae\"],[0.3,\"#f1b6da\"],[0.4,\"#fde0ef\"],[0.5,\"#f7f7f7\"],[0.6,\"#e6f5d0\"],[0.7,\"#b8e186\"],[0.8,\"#7fbc41\"],[0.9,\"#4d9221\"],[1,\"#276419\"]],\"sequential\":[[0.0,\"#0d0887\"],[0.1111111111111111,\"#46039f\"],[0.2222222222222222,\"#7201a8\"],[0.3333333333333333,\"#9c179e\"],[0.4444444444444444,\"#bd3786\"],[0.5555555555555556,\"#d8576b\"],[0.6666666666666666,\"#ed7953\"],[0.7777777777777778,\"#fb9f3a\"],[0.8888888888888888,\"#fdca26\"],[1.0,\"#f0f921\"]],\"sequentialminus\":[[0.0,\"#0d0887\"],[0.1111111111111111,\"#46039f\"],[0.2222222222222222,\"#7201a8\"],[0.3333333333333333,\"#9c179e\"],[0.4444444444444444,\"#bd3786\"],[0.5555555555555556,\"#d8576b\"],[0.6666666666666666,\"#ed7953\"],[0.7777777777777778,\"#fb9f3a\"],[0.8888888888888888,\"#fdca26\"],[1.0,\"#f0f921\"]]},\"colorway\":[\"#636efa\",\"#EF553B\",\"#00cc96\",\"#ab63fa\",\"#FFA15A\",\"#19d3f3\",\"#FF6692\",\"#B6E880\",\"#FF97FF\",\"#FECB52\"],\"font\":{\"color\":\"#2a3f5f\"},\"geo\":{\"bgcolor\":\"white\",\"lakecolor\":\"white\",\"landcolor\":\"#E5ECF6\",\"showlakes\":true,\"showland\":true,\"subunitcolor\":\"white\"},\"hoverlabel\":{\"align\":\"left\"},\"hovermode\":\"closest\",\"mapbox\":{\"style\":\"light\"},\"paper_bgcolor\":\"white\",\"plot_bgcolor\":\"#E5ECF6\",\"polar\":{\"angularaxis\":{\"gridcolor\":\"white\",\"linecolor\":\"white\",\"ticks\":\"\"},\"bgcolor\":\"#E5ECF6\",\"radialaxis\":{\"gridcolor\":\"white\",\"linecolor\":\"white\",\"ticks\":\"\"}},\"scene\":{\"xaxis\":{\"backgroundcolor\":\"#E5ECF6\",\"gridcolor\":\"white\",\"gridwidth\":2,\"linecolor\":\"white\",\"showbackground\":true,\"ticks\":\"\",\"zerolinecolor\":\"white\"},\"yaxis\":{\"backgroundcolor\":\"#E5ECF6\",\"gridcolor\":\"white\",\"gridwidth\":2,\"linecolor\":\"white\",\"showbackground\":true,\"ticks\":\"\",\"zerolinecolor\":\"white\"},\"zaxis\":{\"backgroundcolor\":\"#E5ECF6\",\"gridcolor\":\"white\",\"gridwidth\":2,\"linecolor\":\"white\",\"showbackground\":true,\"ticks\":\"\",\"zerolinecolor\":\"white\"}},\"shapedefaults\":{\"line\":{\"color\":\"#2a3f5f\"}},\"ternary\":{\"aaxis\":{\"gridcolor\":\"white\",\"linecolor\":\"white\",\"ticks\":\"\"},\"baxis\":{\"gridcolor\":\"white\",\"linecolor\":\"white\",\"ticks\":\"\"},\"bgcolor\":\"#E5ECF6\",\"caxis\":{\"gridcolor\":\"white\",\"linecolor\":\"white\",\"ticks\":\"\"}},\"title\":{\"x\":0.05},\"xaxis\":{\"automargin\":true,\"gridcolor\":\"white\",\"linecolor\":\"white\",\"ticks\":\"\",\"title\":{\"standoff\":15},\"zerolinecolor\":\"white\",\"zerolinewidth\":2},\"yaxis\":{\"automargin\":true,\"gridcolor\":\"white\",\"linecolor\":\"white\",\"ticks\":\"\",\"title\":{\"standoff\":15},\"zerolinecolor\":\"white\",\"zerolinewidth\":2}}},\"title\":{\"font\":{\"color\":\"#4D5663\"}},\"xaxis\":{\"gridcolor\":\"#E1E5ED\",\"showgrid\":true,\"tickfont\":{\"color\":\"#4D5663\"},\"title\":{\"font\":{\"color\":\"#4D5663\"},\"text\":\"\"},\"zerolinecolor\":\"#E1E5ED\"},\"yaxis\":{\"gridcolor\":\"#E1E5ED\",\"showgrid\":true,\"tickfont\":{\"color\":\"#4D5663\"},\"title\":{\"font\":{\"color\":\"#4D5663\"},\"text\":\"\"},\"zerolinecolor\":\"#E1E5ED\"}},                        {\"showLink\": true, \"linkText\": \"Export to plot.ly\", \"plotlyServerURL\": \"https://plot.ly\", \"responsive\": true}                    ).then(function(){\n",
              "                            \n",
              "var gd = document.getElementById('fcf9b95b-4bbd-4fc4-96d5-0debbbc6cd48');\n",
              "var x = new MutationObserver(function (mutations, observer) {{\n",
              "        var display = window.getComputedStyle(gd).display;\n",
              "        if (!display || display === 'none') {{\n",
              "            console.log([gd, 'removed!']);\n",
              "            Plotly.purge(gd);\n",
              "            observer.disconnect();\n",
              "        }}\n",
              "}});\n",
              "\n",
              "// Listen for the removal of the full notebook cells\n",
              "var notebookContainer = gd.closest('#notebook-container');\n",
              "if (notebookContainer) {{\n",
              "    x.observe(notebookContainer, {childList: true});\n",
              "}}\n",
              "\n",
              "// Listen for the clearing of the current output cell\n",
              "var outputEl = gd.closest('.output');\n",
              "if (outputEl) {{\n",
              "    x.observe(outputEl, {childList: true});\n",
              "}}\n",
              "\n",
              "                        })                };                });            </script>        </div>"
            ]
          },
          "metadata": {}
        }
      ],
      "source": [
        "df2.iplot(kind='bar',x='Category',y='Values')"
      ]
    },
    {
      "cell_type": "code",
      "execution_count": null,
      "metadata": {
        "colab": {
          "base_uri": "https://localhost:8080/",
          "height": 542
        },
        "id": "ApZaBGo6K5ld",
        "outputId": "e14941ce-a506-476b-a000-1e92735877aa"
      },
      "outputs": [
        {
          "output_type": "display_data",
          "data": {
            "application/vnd.plotly.v1+json": {
              "data": [
                {
                  "marker": {
                    "color": "rgba(255, 153, 51, 0.6)",
                    "line": {
                      "color": "rgba(255, 153, 51, 1.0)",
                      "width": 1
                    }
                  },
                  "name": "None",
                  "orientation": "v",
                  "text": "",
                  "x": [
                    "A",
                    "B",
                    "C",
                    "D"
                  ],
                  "y": [
                    100,
                    100,
                    100,
                    100
                  ],
                  "type": "bar"
                }
              ],
              "layout": {
                "legend": {
                  "bgcolor": "#F5F6F9",
                  "font": {
                    "color": "#4D5663"
                  }
                },
                "paper_bgcolor": "#F5F6F9",
                "plot_bgcolor": "#F5F6F9",
                "template": {
                  "data": {
                    "barpolar": [
                      {
                        "marker": {
                          "line": {
                            "color": "#E5ECF6",
                            "width": 0.5
                          },
                          "pattern": {
                            "fillmode": "overlay",
                            "size": 10,
                            "solidity": 0.2
                          }
                        },
                        "type": "barpolar"
                      }
                    ],
                    "bar": [
                      {
                        "error_x": {
                          "color": "#2a3f5f"
                        },
                        "error_y": {
                          "color": "#2a3f5f"
                        },
                        "marker": {
                          "line": {
                            "color": "#E5ECF6",
                            "width": 0.5
                          },
                          "pattern": {
                            "fillmode": "overlay",
                            "size": 10,
                            "solidity": 0.2
                          }
                        },
                        "type": "bar"
                      }
                    ],
                    "carpet": [
                      {
                        "aaxis": {
                          "endlinecolor": "#2a3f5f",
                          "gridcolor": "white",
                          "linecolor": "white",
                          "minorgridcolor": "white",
                          "startlinecolor": "#2a3f5f"
                        },
                        "baxis": {
                          "endlinecolor": "#2a3f5f",
                          "gridcolor": "white",
                          "linecolor": "white",
                          "minorgridcolor": "white",
                          "startlinecolor": "#2a3f5f"
                        },
                        "type": "carpet"
                      }
                    ],
                    "choropleth": [
                      {
                        "colorbar": {
                          "outlinewidth": 0,
                          "ticks": ""
                        },
                        "type": "choropleth"
                      }
                    ],
                    "contourcarpet": [
                      {
                        "colorbar": {
                          "outlinewidth": 0,
                          "ticks": ""
                        },
                        "type": "contourcarpet"
                      }
                    ],
                    "contour": [
                      {
                        "colorbar": {
                          "outlinewidth": 0,
                          "ticks": ""
                        },
                        "colorscale": [
                          [
                            0,
                            "#0d0887"
                          ],
                          [
                            0.1111111111111111,
                            "#46039f"
                          ],
                          [
                            0.2222222222222222,
                            "#7201a8"
                          ],
                          [
                            0.3333333333333333,
                            "#9c179e"
                          ],
                          [
                            0.4444444444444444,
                            "#bd3786"
                          ],
                          [
                            0.5555555555555556,
                            "#d8576b"
                          ],
                          [
                            0.6666666666666666,
                            "#ed7953"
                          ],
                          [
                            0.7777777777777778,
                            "#fb9f3a"
                          ],
                          [
                            0.8888888888888888,
                            "#fdca26"
                          ],
                          [
                            1,
                            "#f0f921"
                          ]
                        ],
                        "type": "contour"
                      }
                    ],
                    "heatmapgl": [
                      {
                        "colorbar": {
                          "outlinewidth": 0,
                          "ticks": ""
                        },
                        "colorscale": [
                          [
                            0,
                            "#0d0887"
                          ],
                          [
                            0.1111111111111111,
                            "#46039f"
                          ],
                          [
                            0.2222222222222222,
                            "#7201a8"
                          ],
                          [
                            0.3333333333333333,
                            "#9c179e"
                          ],
                          [
                            0.4444444444444444,
                            "#bd3786"
                          ],
                          [
                            0.5555555555555556,
                            "#d8576b"
                          ],
                          [
                            0.6666666666666666,
                            "#ed7953"
                          ],
                          [
                            0.7777777777777778,
                            "#fb9f3a"
                          ],
                          [
                            0.8888888888888888,
                            "#fdca26"
                          ],
                          [
                            1,
                            "#f0f921"
                          ]
                        ],
                        "type": "heatmapgl"
                      }
                    ],
                    "heatmap": [
                      {
                        "colorbar": {
                          "outlinewidth": 0,
                          "ticks": ""
                        },
                        "colorscale": [
                          [
                            0,
                            "#0d0887"
                          ],
                          [
                            0.1111111111111111,
                            "#46039f"
                          ],
                          [
                            0.2222222222222222,
                            "#7201a8"
                          ],
                          [
                            0.3333333333333333,
                            "#9c179e"
                          ],
                          [
                            0.4444444444444444,
                            "#bd3786"
                          ],
                          [
                            0.5555555555555556,
                            "#d8576b"
                          ],
                          [
                            0.6666666666666666,
                            "#ed7953"
                          ],
                          [
                            0.7777777777777778,
                            "#fb9f3a"
                          ],
                          [
                            0.8888888888888888,
                            "#fdca26"
                          ],
                          [
                            1,
                            "#f0f921"
                          ]
                        ],
                        "type": "heatmap"
                      }
                    ],
                    "histogram2dcontour": [
                      {
                        "colorbar": {
                          "outlinewidth": 0,
                          "ticks": ""
                        },
                        "colorscale": [
                          [
                            0,
                            "#0d0887"
                          ],
                          [
                            0.1111111111111111,
                            "#46039f"
                          ],
                          [
                            0.2222222222222222,
                            "#7201a8"
                          ],
                          [
                            0.3333333333333333,
                            "#9c179e"
                          ],
                          [
                            0.4444444444444444,
                            "#bd3786"
                          ],
                          [
                            0.5555555555555556,
                            "#d8576b"
                          ],
                          [
                            0.6666666666666666,
                            "#ed7953"
                          ],
                          [
                            0.7777777777777778,
                            "#fb9f3a"
                          ],
                          [
                            0.8888888888888888,
                            "#fdca26"
                          ],
                          [
                            1,
                            "#f0f921"
                          ]
                        ],
                        "type": "histogram2dcontour"
                      }
                    ],
                    "histogram2d": [
                      {
                        "colorbar": {
                          "outlinewidth": 0,
                          "ticks": ""
                        },
                        "colorscale": [
                          [
                            0,
                            "#0d0887"
                          ],
                          [
                            0.1111111111111111,
                            "#46039f"
                          ],
                          [
                            0.2222222222222222,
                            "#7201a8"
                          ],
                          [
                            0.3333333333333333,
                            "#9c179e"
                          ],
                          [
                            0.4444444444444444,
                            "#bd3786"
                          ],
                          [
                            0.5555555555555556,
                            "#d8576b"
                          ],
                          [
                            0.6666666666666666,
                            "#ed7953"
                          ],
                          [
                            0.7777777777777778,
                            "#fb9f3a"
                          ],
                          [
                            0.8888888888888888,
                            "#fdca26"
                          ],
                          [
                            1,
                            "#f0f921"
                          ]
                        ],
                        "type": "histogram2d"
                      }
                    ],
                    "histogram": [
                      {
                        "marker": {
                          "pattern": {
                            "fillmode": "overlay",
                            "size": 10,
                            "solidity": 0.2
                          }
                        },
                        "type": "histogram"
                      }
                    ],
                    "mesh3d": [
                      {
                        "colorbar": {
                          "outlinewidth": 0,
                          "ticks": ""
                        },
                        "type": "mesh3d"
                      }
                    ],
                    "parcoords": [
                      {
                        "line": {
                          "colorbar": {
                            "outlinewidth": 0,
                            "ticks": ""
                          }
                        },
                        "type": "parcoords"
                      }
                    ],
                    "pie": [
                      {
                        "automargin": true,
                        "type": "pie"
                      }
                    ],
                    "scatter3d": [
                      {
                        "line": {
                          "colorbar": {
                            "outlinewidth": 0,
                            "ticks": ""
                          }
                        },
                        "marker": {
                          "colorbar": {
                            "outlinewidth": 0,
                            "ticks": ""
                          }
                        },
                        "type": "scatter3d"
                      }
                    ],
                    "scattercarpet": [
                      {
                        "marker": {
                          "colorbar": {
                            "outlinewidth": 0,
                            "ticks": ""
                          }
                        },
                        "type": "scattercarpet"
                      }
                    ],
                    "scattergeo": [
                      {
                        "marker": {
                          "colorbar": {
                            "outlinewidth": 0,
                            "ticks": ""
                          }
                        },
                        "type": "scattergeo"
                      }
                    ],
                    "scattergl": [
                      {
                        "marker": {
                          "colorbar": {
                            "outlinewidth": 0,
                            "ticks": ""
                          }
                        },
                        "type": "scattergl"
                      }
                    ],
                    "scattermapbox": [
                      {
                        "marker": {
                          "colorbar": {
                            "outlinewidth": 0,
                            "ticks": ""
                          }
                        },
                        "type": "scattermapbox"
                      }
                    ],
                    "scatterpolargl": [
                      {
                        "marker": {
                          "colorbar": {
                            "outlinewidth": 0,
                            "ticks": ""
                          }
                        },
                        "type": "scatterpolargl"
                      }
                    ],
                    "scatterpolar": [
                      {
                        "marker": {
                          "colorbar": {
                            "outlinewidth": 0,
                            "ticks": ""
                          }
                        },
                        "type": "scatterpolar"
                      }
                    ],
                    "scatter": [
                      {
                        "marker": {
                          "colorbar": {
                            "outlinewidth": 0,
                            "ticks": ""
                          }
                        },
                        "type": "scatter"
                      }
                    ],
                    "scatterternary": [
                      {
                        "marker": {
                          "colorbar": {
                            "outlinewidth": 0,
                            "ticks": ""
                          }
                        },
                        "type": "scatterternary"
                      }
                    ],
                    "surface": [
                      {
                        "colorbar": {
                          "outlinewidth": 0,
                          "ticks": ""
                        },
                        "colorscale": [
                          [
                            0,
                            "#0d0887"
                          ],
                          [
                            0.1111111111111111,
                            "#46039f"
                          ],
                          [
                            0.2222222222222222,
                            "#7201a8"
                          ],
                          [
                            0.3333333333333333,
                            "#9c179e"
                          ],
                          [
                            0.4444444444444444,
                            "#bd3786"
                          ],
                          [
                            0.5555555555555556,
                            "#d8576b"
                          ],
                          [
                            0.6666666666666666,
                            "#ed7953"
                          ],
                          [
                            0.7777777777777778,
                            "#fb9f3a"
                          ],
                          [
                            0.8888888888888888,
                            "#fdca26"
                          ],
                          [
                            1,
                            "#f0f921"
                          ]
                        ],
                        "type": "surface"
                      }
                    ],
                    "table": [
                      {
                        "cells": {
                          "fill": {
                            "color": "#EBF0F8"
                          },
                          "line": {
                            "color": "white"
                          }
                        },
                        "header": {
                          "fill": {
                            "color": "#C8D4E3"
                          },
                          "line": {
                            "color": "white"
                          }
                        },
                        "type": "table"
                      }
                    ]
                  },
                  "layout": {
                    "annotationdefaults": {
                      "arrowcolor": "#2a3f5f",
                      "arrowhead": 0,
                      "arrowwidth": 1
                    },
                    "autotypenumbers": "strict",
                    "coloraxis": {
                      "colorbar": {
                        "outlinewidth": 0,
                        "ticks": ""
                      }
                    },
                    "colorscale": {
                      "diverging": [
                        [
                          0,
                          "#8e0152"
                        ],
                        [
                          0.1,
                          "#c51b7d"
                        ],
                        [
                          0.2,
                          "#de77ae"
                        ],
                        [
                          0.3,
                          "#f1b6da"
                        ],
                        [
                          0.4,
                          "#fde0ef"
                        ],
                        [
                          0.5,
                          "#f7f7f7"
                        ],
                        [
                          0.6,
                          "#e6f5d0"
                        ],
                        [
                          0.7,
                          "#b8e186"
                        ],
                        [
                          0.8,
                          "#7fbc41"
                        ],
                        [
                          0.9,
                          "#4d9221"
                        ],
                        [
                          1,
                          "#276419"
                        ]
                      ],
                      "sequential": [
                        [
                          0,
                          "#0d0887"
                        ],
                        [
                          0.1111111111111111,
                          "#46039f"
                        ],
                        [
                          0.2222222222222222,
                          "#7201a8"
                        ],
                        [
                          0.3333333333333333,
                          "#9c179e"
                        ],
                        [
                          0.4444444444444444,
                          "#bd3786"
                        ],
                        [
                          0.5555555555555556,
                          "#d8576b"
                        ],
                        [
                          0.6666666666666666,
                          "#ed7953"
                        ],
                        [
                          0.7777777777777778,
                          "#fb9f3a"
                        ],
                        [
                          0.8888888888888888,
                          "#fdca26"
                        ],
                        [
                          1,
                          "#f0f921"
                        ]
                      ],
                      "sequentialminus": [
                        [
                          0,
                          "#0d0887"
                        ],
                        [
                          0.1111111111111111,
                          "#46039f"
                        ],
                        [
                          0.2222222222222222,
                          "#7201a8"
                        ],
                        [
                          0.3333333333333333,
                          "#9c179e"
                        ],
                        [
                          0.4444444444444444,
                          "#bd3786"
                        ],
                        [
                          0.5555555555555556,
                          "#d8576b"
                        ],
                        [
                          0.6666666666666666,
                          "#ed7953"
                        ],
                        [
                          0.7777777777777778,
                          "#fb9f3a"
                        ],
                        [
                          0.8888888888888888,
                          "#fdca26"
                        ],
                        [
                          1,
                          "#f0f921"
                        ]
                      ]
                    },
                    "colorway": [
                      "#636efa",
                      "#EF553B",
                      "#00cc96",
                      "#ab63fa",
                      "#FFA15A",
                      "#19d3f3",
                      "#FF6692",
                      "#B6E880",
                      "#FF97FF",
                      "#FECB52"
                    ],
                    "font": {
                      "color": "#2a3f5f"
                    },
                    "geo": {
                      "bgcolor": "white",
                      "lakecolor": "white",
                      "landcolor": "#E5ECF6",
                      "showlakes": true,
                      "showland": true,
                      "subunitcolor": "white"
                    },
                    "hoverlabel": {
                      "align": "left"
                    },
                    "hovermode": "closest",
                    "mapbox": {
                      "style": "light"
                    },
                    "paper_bgcolor": "white",
                    "plot_bgcolor": "#E5ECF6",
                    "polar": {
                      "angularaxis": {
                        "gridcolor": "white",
                        "linecolor": "white",
                        "ticks": ""
                      },
                      "bgcolor": "#E5ECF6",
                      "radialaxis": {
                        "gridcolor": "white",
                        "linecolor": "white",
                        "ticks": ""
                      }
                    },
                    "scene": {
                      "xaxis": {
                        "backgroundcolor": "#E5ECF6",
                        "gridcolor": "white",
                        "gridwidth": 2,
                        "linecolor": "white",
                        "showbackground": true,
                        "ticks": "",
                        "zerolinecolor": "white"
                      },
                      "yaxis": {
                        "backgroundcolor": "#E5ECF6",
                        "gridcolor": "white",
                        "gridwidth": 2,
                        "linecolor": "white",
                        "showbackground": true,
                        "ticks": "",
                        "zerolinecolor": "white"
                      },
                      "zaxis": {
                        "backgroundcolor": "#E5ECF6",
                        "gridcolor": "white",
                        "gridwidth": 2,
                        "linecolor": "white",
                        "showbackground": true,
                        "ticks": "",
                        "zerolinecolor": "white"
                      }
                    },
                    "shapedefaults": {
                      "line": {
                        "color": "#2a3f5f"
                      }
                    },
                    "ternary": {
                      "aaxis": {
                        "gridcolor": "white",
                        "linecolor": "white",
                        "ticks": ""
                      },
                      "baxis": {
                        "gridcolor": "white",
                        "linecolor": "white",
                        "ticks": ""
                      },
                      "bgcolor": "#E5ECF6",
                      "caxis": {
                        "gridcolor": "white",
                        "linecolor": "white",
                        "ticks": ""
                      }
                    },
                    "title": {
                      "x": 0.05
                    },
                    "xaxis": {
                      "automargin": true,
                      "gridcolor": "white",
                      "linecolor": "white",
                      "ticks": "",
                      "title": {
                        "standoff": 15
                      },
                      "zerolinecolor": "white",
                      "zerolinewidth": 2
                    },
                    "yaxis": {
                      "automargin": true,
                      "gridcolor": "white",
                      "linecolor": "white",
                      "ticks": "",
                      "title": {
                        "standoff": 15
                      },
                      "zerolinecolor": "white",
                      "zerolinewidth": 2
                    }
                  }
                },
                "title": {
                  "font": {
                    "color": "#4D5663"
                  }
                },
                "xaxis": {
                  "gridcolor": "#E1E5ED",
                  "showgrid": true,
                  "tickfont": {
                    "color": "#4D5663"
                  },
                  "title": {
                    "font": {
                      "color": "#4D5663"
                    },
                    "text": ""
                  },
                  "zerolinecolor": "#E1E5ED"
                },
                "yaxis": {
                  "gridcolor": "#E1E5ED",
                  "showgrid": true,
                  "tickfont": {
                    "color": "#4D5663"
                  },
                  "title": {
                    "font": {
                      "color": "#4D5663"
                    },
                    "text": ""
                  },
                  "zerolinecolor": "#E1E5ED"
                }
              },
              "config": {
                "showLink": true,
                "linkText": "Export to plot.ly",
                "plotlyServerURL": "https://plot.ly"
              }
            },
            "text/html": [
              "<div>                            <div id=\"01d99015-d410-4fa3-80d9-34201903b5df\" class=\"plotly-graph-div\" style=\"height:525px; width:100%;\"></div>            <script type=\"text/javascript\">                require([\"plotly\"], function(Plotly) {                    window.PLOTLYENV=window.PLOTLYENV || {};\n",
              "                    window.PLOTLYENV.BASE_URL='https://plot.ly';                                    if (document.getElementById(\"01d99015-d410-4fa3-80d9-34201903b5df\")) {                    Plotly.newPlot(                        \"01d99015-d410-4fa3-80d9-34201903b5df\",                        [{\"marker\":{\"color\":\"rgba(255, 153, 51, 0.6)\",\"line\":{\"color\":\"rgba(255, 153, 51, 1.0)\",\"width\":1}},\"name\":\"None\",\"orientation\":\"v\",\"text\":\"\",\"x\":[\"A\",\"B\",\"C\",\"D\"],\"y\":[100,100,100,100],\"type\":\"bar\"}],                        {\"legend\":{\"bgcolor\":\"#F5F6F9\",\"font\":{\"color\":\"#4D5663\"}},\"paper_bgcolor\":\"#F5F6F9\",\"plot_bgcolor\":\"#F5F6F9\",\"template\":{\"data\":{\"barpolar\":[{\"marker\":{\"line\":{\"color\":\"#E5ECF6\",\"width\":0.5},\"pattern\":{\"fillmode\":\"overlay\",\"size\":10,\"solidity\":0.2}},\"type\":\"barpolar\"}],\"bar\":[{\"error_x\":{\"color\":\"#2a3f5f\"},\"error_y\":{\"color\":\"#2a3f5f\"},\"marker\":{\"line\":{\"color\":\"#E5ECF6\",\"width\":0.5},\"pattern\":{\"fillmode\":\"overlay\",\"size\":10,\"solidity\":0.2}},\"type\":\"bar\"}],\"carpet\":[{\"aaxis\":{\"endlinecolor\":\"#2a3f5f\",\"gridcolor\":\"white\",\"linecolor\":\"white\",\"minorgridcolor\":\"white\",\"startlinecolor\":\"#2a3f5f\"},\"baxis\":{\"endlinecolor\":\"#2a3f5f\",\"gridcolor\":\"white\",\"linecolor\":\"white\",\"minorgridcolor\":\"white\",\"startlinecolor\":\"#2a3f5f\"},\"type\":\"carpet\"}],\"choropleth\":[{\"colorbar\":{\"outlinewidth\":0,\"ticks\":\"\"},\"type\":\"choropleth\"}],\"contourcarpet\":[{\"colorbar\":{\"outlinewidth\":0,\"ticks\":\"\"},\"type\":\"contourcarpet\"}],\"contour\":[{\"colorbar\":{\"outlinewidth\":0,\"ticks\":\"\"},\"colorscale\":[[0.0,\"#0d0887\"],[0.1111111111111111,\"#46039f\"],[0.2222222222222222,\"#7201a8\"],[0.3333333333333333,\"#9c179e\"],[0.4444444444444444,\"#bd3786\"],[0.5555555555555556,\"#d8576b\"],[0.6666666666666666,\"#ed7953\"],[0.7777777777777778,\"#fb9f3a\"],[0.8888888888888888,\"#fdca26\"],[1.0,\"#f0f921\"]],\"type\":\"contour\"}],\"heatmapgl\":[{\"colorbar\":{\"outlinewidth\":0,\"ticks\":\"\"},\"colorscale\":[[0.0,\"#0d0887\"],[0.1111111111111111,\"#46039f\"],[0.2222222222222222,\"#7201a8\"],[0.3333333333333333,\"#9c179e\"],[0.4444444444444444,\"#bd3786\"],[0.5555555555555556,\"#d8576b\"],[0.6666666666666666,\"#ed7953\"],[0.7777777777777778,\"#fb9f3a\"],[0.8888888888888888,\"#fdca26\"],[1.0,\"#f0f921\"]],\"type\":\"heatmapgl\"}],\"heatmap\":[{\"colorbar\":{\"outlinewidth\":0,\"ticks\":\"\"},\"colorscale\":[[0.0,\"#0d0887\"],[0.1111111111111111,\"#46039f\"],[0.2222222222222222,\"#7201a8\"],[0.3333333333333333,\"#9c179e\"],[0.4444444444444444,\"#bd3786\"],[0.5555555555555556,\"#d8576b\"],[0.6666666666666666,\"#ed7953\"],[0.7777777777777778,\"#fb9f3a\"],[0.8888888888888888,\"#fdca26\"],[1.0,\"#f0f921\"]],\"type\":\"heatmap\"}],\"histogram2dcontour\":[{\"colorbar\":{\"outlinewidth\":0,\"ticks\":\"\"},\"colorscale\":[[0.0,\"#0d0887\"],[0.1111111111111111,\"#46039f\"],[0.2222222222222222,\"#7201a8\"],[0.3333333333333333,\"#9c179e\"],[0.4444444444444444,\"#bd3786\"],[0.5555555555555556,\"#d8576b\"],[0.6666666666666666,\"#ed7953\"],[0.7777777777777778,\"#fb9f3a\"],[0.8888888888888888,\"#fdca26\"],[1.0,\"#f0f921\"]],\"type\":\"histogram2dcontour\"}],\"histogram2d\":[{\"colorbar\":{\"outlinewidth\":0,\"ticks\":\"\"},\"colorscale\":[[0.0,\"#0d0887\"],[0.1111111111111111,\"#46039f\"],[0.2222222222222222,\"#7201a8\"],[0.3333333333333333,\"#9c179e\"],[0.4444444444444444,\"#bd3786\"],[0.5555555555555556,\"#d8576b\"],[0.6666666666666666,\"#ed7953\"],[0.7777777777777778,\"#fb9f3a\"],[0.8888888888888888,\"#fdca26\"],[1.0,\"#f0f921\"]],\"type\":\"histogram2d\"}],\"histogram\":[{\"marker\":{\"pattern\":{\"fillmode\":\"overlay\",\"size\":10,\"solidity\":0.2}},\"type\":\"histogram\"}],\"mesh3d\":[{\"colorbar\":{\"outlinewidth\":0,\"ticks\":\"\"},\"type\":\"mesh3d\"}],\"parcoords\":[{\"line\":{\"colorbar\":{\"outlinewidth\":0,\"ticks\":\"\"}},\"type\":\"parcoords\"}],\"pie\":[{\"automargin\":true,\"type\":\"pie\"}],\"scatter3d\":[{\"line\":{\"colorbar\":{\"outlinewidth\":0,\"ticks\":\"\"}},\"marker\":{\"colorbar\":{\"outlinewidth\":0,\"ticks\":\"\"}},\"type\":\"scatter3d\"}],\"scattercarpet\":[{\"marker\":{\"colorbar\":{\"outlinewidth\":0,\"ticks\":\"\"}},\"type\":\"scattercarpet\"}],\"scattergeo\":[{\"marker\":{\"colorbar\":{\"outlinewidth\":0,\"ticks\":\"\"}},\"type\":\"scattergeo\"}],\"scattergl\":[{\"marker\":{\"colorbar\":{\"outlinewidth\":0,\"ticks\":\"\"}},\"type\":\"scattergl\"}],\"scattermapbox\":[{\"marker\":{\"colorbar\":{\"outlinewidth\":0,\"ticks\":\"\"}},\"type\":\"scattermapbox\"}],\"scatterpolargl\":[{\"marker\":{\"colorbar\":{\"outlinewidth\":0,\"ticks\":\"\"}},\"type\":\"scatterpolargl\"}],\"scatterpolar\":[{\"marker\":{\"colorbar\":{\"outlinewidth\":0,\"ticks\":\"\"}},\"type\":\"scatterpolar\"}],\"scatter\":[{\"marker\":{\"colorbar\":{\"outlinewidth\":0,\"ticks\":\"\"}},\"type\":\"scatter\"}],\"scatterternary\":[{\"marker\":{\"colorbar\":{\"outlinewidth\":0,\"ticks\":\"\"}},\"type\":\"scatterternary\"}],\"surface\":[{\"colorbar\":{\"outlinewidth\":0,\"ticks\":\"\"},\"colorscale\":[[0.0,\"#0d0887\"],[0.1111111111111111,\"#46039f\"],[0.2222222222222222,\"#7201a8\"],[0.3333333333333333,\"#9c179e\"],[0.4444444444444444,\"#bd3786\"],[0.5555555555555556,\"#d8576b\"],[0.6666666666666666,\"#ed7953\"],[0.7777777777777778,\"#fb9f3a\"],[0.8888888888888888,\"#fdca26\"],[1.0,\"#f0f921\"]],\"type\":\"surface\"}],\"table\":[{\"cells\":{\"fill\":{\"color\":\"#EBF0F8\"},\"line\":{\"color\":\"white\"}},\"header\":{\"fill\":{\"color\":\"#C8D4E3\"},\"line\":{\"color\":\"white\"}},\"type\":\"table\"}]},\"layout\":{\"annotationdefaults\":{\"arrowcolor\":\"#2a3f5f\",\"arrowhead\":0,\"arrowwidth\":1},\"autotypenumbers\":\"strict\",\"coloraxis\":{\"colorbar\":{\"outlinewidth\":0,\"ticks\":\"\"}},\"colorscale\":{\"diverging\":[[0,\"#8e0152\"],[0.1,\"#c51b7d\"],[0.2,\"#de77ae\"],[0.3,\"#f1b6da\"],[0.4,\"#fde0ef\"],[0.5,\"#f7f7f7\"],[0.6,\"#e6f5d0\"],[0.7,\"#b8e186\"],[0.8,\"#7fbc41\"],[0.9,\"#4d9221\"],[1,\"#276419\"]],\"sequential\":[[0.0,\"#0d0887\"],[0.1111111111111111,\"#46039f\"],[0.2222222222222222,\"#7201a8\"],[0.3333333333333333,\"#9c179e\"],[0.4444444444444444,\"#bd3786\"],[0.5555555555555556,\"#d8576b\"],[0.6666666666666666,\"#ed7953\"],[0.7777777777777778,\"#fb9f3a\"],[0.8888888888888888,\"#fdca26\"],[1.0,\"#f0f921\"]],\"sequentialminus\":[[0.0,\"#0d0887\"],[0.1111111111111111,\"#46039f\"],[0.2222222222222222,\"#7201a8\"],[0.3333333333333333,\"#9c179e\"],[0.4444444444444444,\"#bd3786\"],[0.5555555555555556,\"#d8576b\"],[0.6666666666666666,\"#ed7953\"],[0.7777777777777778,\"#fb9f3a\"],[0.8888888888888888,\"#fdca26\"],[1.0,\"#f0f921\"]]},\"colorway\":[\"#636efa\",\"#EF553B\",\"#00cc96\",\"#ab63fa\",\"#FFA15A\",\"#19d3f3\",\"#FF6692\",\"#B6E880\",\"#FF97FF\",\"#FECB52\"],\"font\":{\"color\":\"#2a3f5f\"},\"geo\":{\"bgcolor\":\"white\",\"lakecolor\":\"white\",\"landcolor\":\"#E5ECF6\",\"showlakes\":true,\"showland\":true,\"subunitcolor\":\"white\"},\"hoverlabel\":{\"align\":\"left\"},\"hovermode\":\"closest\",\"mapbox\":{\"style\":\"light\"},\"paper_bgcolor\":\"white\",\"plot_bgcolor\":\"#E5ECF6\",\"polar\":{\"angularaxis\":{\"gridcolor\":\"white\",\"linecolor\":\"white\",\"ticks\":\"\"},\"bgcolor\":\"#E5ECF6\",\"radialaxis\":{\"gridcolor\":\"white\",\"linecolor\":\"white\",\"ticks\":\"\"}},\"scene\":{\"xaxis\":{\"backgroundcolor\":\"#E5ECF6\",\"gridcolor\":\"white\",\"gridwidth\":2,\"linecolor\":\"white\",\"showbackground\":true,\"ticks\":\"\",\"zerolinecolor\":\"white\"},\"yaxis\":{\"backgroundcolor\":\"#E5ECF6\",\"gridcolor\":\"white\",\"gridwidth\":2,\"linecolor\":\"white\",\"showbackground\":true,\"ticks\":\"\",\"zerolinecolor\":\"white\"},\"zaxis\":{\"backgroundcolor\":\"#E5ECF6\",\"gridcolor\":\"white\",\"gridwidth\":2,\"linecolor\":\"white\",\"showbackground\":true,\"ticks\":\"\",\"zerolinecolor\":\"white\"}},\"shapedefaults\":{\"line\":{\"color\":\"#2a3f5f\"}},\"ternary\":{\"aaxis\":{\"gridcolor\":\"white\",\"linecolor\":\"white\",\"ticks\":\"\"},\"baxis\":{\"gridcolor\":\"white\",\"linecolor\":\"white\",\"ticks\":\"\"},\"bgcolor\":\"#E5ECF6\",\"caxis\":{\"gridcolor\":\"white\",\"linecolor\":\"white\",\"ticks\":\"\"}},\"title\":{\"x\":0.05},\"xaxis\":{\"automargin\":true,\"gridcolor\":\"white\",\"linecolor\":\"white\",\"ticks\":\"\",\"title\":{\"standoff\":15},\"zerolinecolor\":\"white\",\"zerolinewidth\":2},\"yaxis\":{\"automargin\":true,\"gridcolor\":\"white\",\"linecolor\":\"white\",\"ticks\":\"\",\"title\":{\"standoff\":15},\"zerolinecolor\":\"white\",\"zerolinewidth\":2}}},\"title\":{\"font\":{\"color\":\"#4D5663\"}},\"xaxis\":{\"gridcolor\":\"#E1E5ED\",\"showgrid\":true,\"tickfont\":{\"color\":\"#4D5663\"},\"title\":{\"font\":{\"color\":\"#4D5663\"},\"text\":\"\"},\"zerolinecolor\":\"#E1E5ED\"},\"yaxis\":{\"gridcolor\":\"#E1E5ED\",\"showgrid\":true,\"tickfont\":{\"color\":\"#4D5663\"},\"title\":{\"font\":{\"color\":\"#4D5663\"},\"text\":\"\"},\"zerolinecolor\":\"#E1E5ED\"}},                        {\"showLink\": true, \"linkText\": \"Export to plot.ly\", \"plotlyServerURL\": \"https://plot.ly\", \"responsive\": true}                    ).then(function(){\n",
              "                            \n",
              "var gd = document.getElementById('01d99015-d410-4fa3-80d9-34201903b5df');\n",
              "var x = new MutationObserver(function (mutations, observer) {{\n",
              "        var display = window.getComputedStyle(gd).display;\n",
              "        if (!display || display === 'none') {{\n",
              "            console.log([gd, 'removed!']);\n",
              "            Plotly.purge(gd);\n",
              "            observer.disconnect();\n",
              "        }}\n",
              "}});\n",
              "\n",
              "// Listen for the removal of the full notebook cells\n",
              "var notebookContainer = gd.closest('#notebook-container');\n",
              "if (notebookContainer) {{\n",
              "    x.observe(notebookContainer, {childList: true});\n",
              "}}\n",
              "\n",
              "// Listen for the clearing of the current output cell\n",
              "var outputEl = gd.closest('.output');\n",
              "if (outputEl) {{\n",
              "    x.observe(outputEl, {childList: true});\n",
              "}}\n",
              "\n",
              "                        })                };                });            </script>        </div>"
            ]
          },
          "metadata": {}
        }
      ],
      "source": [
        "df.count().iplot(kind='bar')"
      ]
    },
    {
      "cell_type": "markdown",
      "metadata": {
        "id": "iudI5rO2K5ld"
      },
      "source": [
        "## Boxplots"
      ]
    },
    {
      "cell_type": "code",
      "execution_count": null,
      "metadata": {
        "colab": {
          "base_uri": "https://localhost:8080/",
          "height": 542
        },
        "id": "zk24nCH-K5le",
        "outputId": "7ed0ff37-f175-4562-dddf-384bb29fb928"
      },
      "outputs": [
        {
          "output_type": "display_data",
          "data": {
            "application/vnd.plotly.v1+json": {
              "data": [
                {
                  "boxpoints": false,
                  "line": {
                    "width": 1.3
                  },
                  "marker": {
                    "color": "rgba(255, 153, 51, 1.0)"
                  },
                  "name": "A",
                  "orientation": "v",
                  "y": [
                    0.0178114694854835,
                    0.6503752891210457,
                    1.4746556294415147,
                    -0.002867505410992792,
                    -0.7757917649856074,
                    0.7662726192537015,
                    1.0664749327062275,
                    -0.11692736502946699,
                    0.3306590500365512,
                    -0.6039709270655202,
                    2.3235131537725375,
                    -1.581925335224607,
                    0.015324694821562445,
                    0.7668724051627919,
                    0.5449217852329432,
                    -1.5393392248297437,
                    0.8826309337533468,
                    -0.42177731108365596,
                    0.6252953354329761,
                    0.9475458834299388,
                    0.16638344745317185,
                    0.5872486334340409,
                    0.7331878127127393,
                    -0.8712133576574608,
                    0.02218394918355038,
                    -0.6013339495862363,
                    -1.756229955636603,
                    -1.9819893580331447,
                    1.3825585253185222,
                    0.18483164136281052,
                    -1.2679341148034344,
                    0.9949380071155695,
                    -1.1476115696647307,
                    -0.6479204186113192,
                    -0.3789275877400645,
                    0.2493338620032875,
                    1.4201510261872716,
                    -1.0503815196700217,
                    1.0554704075679069,
                    -1.0293234615296152,
                    -1.0822796524356448,
                    0.7684855357339191,
                    2.5192161436818195,
                    -1.9117744538897679,
                    1.5931709732081492,
                    0.5205078111864689,
                    -0.9035063004328567,
                    -0.039536779019681174,
                    0.013421263122439244,
                    -1.354389863999936,
                    0.20741889935212338,
                    -2.12861161880051,
                    -0.5361385106295921,
                    0.38466904193579843,
                    0.5746526914220886,
                    -0.870127691386053,
                    -0.00021741926349469498,
                    1.3073415839337295,
                    -0.3230346369356965,
                    -1.4318585137200077,
                    0.742678531238043,
                    -0.08997843766330833,
                    -0.9296646722359696,
                    -0.07779540095102579,
                    -0.46929144505777076,
                    0.008368761820374822,
                    -0.613299214024739,
                    1.1584825020371716,
                    -0.47277585985662945,
                    0.03805037863533173,
                    -1.127629142630456,
                    1.1062032945972584,
                    1.338797608931247,
                    -0.3109914547842166,
                    0.21070722316844118,
                    -0.15525145173830632,
                    -0.9436284343977237,
                    0.8405189744616796,
                    0.7194053183545105,
                    -0.5898131143539371,
                    0.11078070545200325,
                    -0.9101033501429266,
                    -0.2760212578221692,
                    -0.06121843562570686,
                    0.22082764961571158,
                    -0.8087040146874948,
                    -0.24795260940063577,
                    -0.18500473992804137,
                    -1.1261930084640464,
                    0.25926065036018053,
                    1.0626956597526414,
                    -0.29189730205400105,
                    1.4649070470221661,
                    0.15330410358902066,
                    -0.9135301588123295,
                    -1.5586000323884628,
                    0.7016050667461048,
                    -0.3143015581881234,
                    -0.41706765214680636,
                    -0.3921961494111043
                  ],
                  "type": "box"
                },
                {
                  "boxpoints": false,
                  "line": {
                    "width": 1.3
                  },
                  "marker": {
                    "color": "rgba(55, 128, 191, 1.0)"
                  },
                  "name": "B",
                  "orientation": "v",
                  "y": [
                    -0.5617375702420864,
                    -1.2105280209767268,
                    0.8561250259063421,
                    -0.7107503858881543,
                    1.9101987417784274,
                    0.5789968113218955,
                    -0.9591681047529027,
                    0.5395359124881931,
                    1.3193862626751078,
                    0.6680228938498383,
                    -0.7341726211864084,
                    -0.6118985446054702,
                    -1.2141500234277,
                    1.5911478517284632,
                    -0.5261168186658791,
                    0.8457278666030731,
                    -1.0083412765657886,
                    2.032738956061042,
                    0.1463571733779813,
                    0.5177816732261287,
                    -0.769212161890698,
                    -1.069099261508924,
                    0.6217522583946871,
                    -0.7685130295505281,
                    0.9544080795307096,
                    -0.09436162464620383,
                    0.5375121175183534,
                    0.6747308503837377,
                    -0.5610675516558478,
                    0.94214409035032,
                    0.6064445545372859,
                    0.07104417008322735,
                    0.1330925122609887,
                    0.6136925994677905,
                    0.0035230303615803584,
                    -0.34532692952094346,
                    0.13237764586606712,
                    -0.9646644055964682,
                    0.130714844563745,
                    0.10519423612640431,
                    0.8547224198592885,
                    1.4829075328199424,
                    -0.9952118382098827,
                    -0.6046778657833812,
                    -0.0130276454638649,
                    1.087828140993123,
                    0.2085807423899216,
                    0.74207524333408,
                    -0.7939304210976657,
                    0.882859631977347,
                    0.21805155116360347,
                    0.8191732685075461,
                    -0.33300967724353003,
                    -0.5919052919299606,
                    -1.7071195729782942,
                    -1.1895653090495355,
                    0.6390977779302962,
                    1.295456870258728,
                    1.0432603943938363,
                    1.5067829763146572,
                    0.9566913863674601,
                    1.310266945124139,
                    -1.93090349772417,
                    0.5108049211688599,
                    -1.8206417027981763,
                    0.4919314503964313,
                    1.0367104751357175,
                    -0.5070167039378888,
                    0.4444149359221097,
                    0.5942474438048201,
                    -2.4036581156786467,
                    -0.738923209691997,
                    0.2483313091113896,
                    -1.5896989324533435,
                    -0.1767444417931268,
                    1.2918585657024686,
                    0.15436931061292777,
                    -0.020693967852573433,
                    -1.2953814780999942,
                    -0.33164381746601795,
                    -1.98419870685544,
                    -0.0977188523628509,
                    -1.3414203013691797,
                    0.19001993628446323,
                    -1.144617917384704,
                    0.6281985093673482,
                    0.31282287792073715,
                    -0.4335108153748616,
                    0.08996165145511464,
                    -0.4049630640050919,
                    -1.3655766758769943,
                    0.003863089142866324,
                    1.9544805266971712,
                    1.4025801247991099,
                    1.5133080358291704,
                    -1.081597061248639,
                    0.08033346985791334,
                    -0.8574779036981085,
                    -0.5578342097981503,
                    -1.0823858458747249
                  ],
                  "type": "box"
                },
                {
                  "boxpoints": false,
                  "line": {
                    "width": 1.3
                  },
                  "marker": {
                    "color": "rgba(50, 171, 96, 1.0)"
                  },
                  "name": "C",
                  "orientation": "v",
                  "y": [
                    -0.22988724567685068,
                    0.17211208293326638,
                    -0.891866874750063,
                    -1.4208268256596377,
                    -1.5096491399989973,
                    1.1047438368262026,
                    -0.6213705058759526,
                    0.23971762053336035,
                    -0.42150105154750994,
                    0.1882318030835403,
                    1.2575508166587719,
                    -0.2242558811223914,
                    0.24739831047320376,
                    -0.07660113555994527,
                    -0.27767955287392726,
                    0.582957367085622,
                    -0.7630131125241152,
                    -0.498854865462507,
                    -0.2372975468039774,
                    1.0293829524030838,
                    0.2665421039152957,
                    -0.7283486827820418,
                    -0.4324384878981543,
                    1.0865630794601617,
                    0.7064189848921297,
                    0.4900608058256672,
                    0.29723156415423607,
                    1.510895455774434,
                    0.5718871794669691,
                    0.8761321844277847,
                    -0.40417579185597763,
                    -0.3798921640839629,
                    0.5522284039676492,
                    0.686974485202635,
                    -1.4127325618659128,
                    1.3066560665482645,
                    -0.009758700388875594,
                    0.5552146054805828,
                    0.21566804645670642,
                    -0.39240933951428913,
                    -0.8879505183629269,
                    -1.192214810338215,
                    -0.06777557439608581,
                    -0.5171084617987218,
                    -0.15087274443869356,
                    0.13587754591411752,
                    -0.9622912222444939,
                    0.638186730745737,
                    -0.5129861508700331,
                    1.645816480310981,
                    -1.0140986777422094,
                    -2.236568069692717,
                    0.1250521384092541,
                    2.4824183877463204,
                    0.5804193849674129,
                    -0.49519575868165633,
                    1.404292027644616,
                    -0.5740444848836095,
                    -1.9195774568110873,
                    -0.531383677376116,
                    -0.7574628978397108,
                    -0.2611686074531827,
                    0.21325247853887236,
                    -0.5688195514278918,
                    1.407855318324713,
                    -0.26715323393690205,
                    0.0768479951656562,
                    -0.7160073257075226,
                    -1.005085258333275,
                    2.8195460489570543,
                    -1.382176070380219,
                    1.4951735061880786,
                    -0.05108020834368662,
                    0.5883706860719372,
                    -0.15897927556667274,
                    -0.4189142343829021,
                    -0.023430592051969238,
                    -0.8559145291990594,
                    1.3343773242424868,
                    -1.7351043094162564,
                    -1.0775923821463007,
                    -0.7637373361069689,
                    0.40966995116429694,
                    0.9233843911474657,
                    2.5424858652010394,
                    0.1698631879030505,
                    1.1314177046313625,
                    0.18121743533844004,
                    -0.6767345339135239,
                    -0.6119872089364478,
                    1.7661491752308893,
                    1.0041798114796423,
                    0.42240183560358363,
                    -0.06640433508646586,
                    -0.028537720723805997,
                    -1.8786857981031913,
                    0.4291889448384859,
                    0.2521237637603228,
                    -1.3953715323858975,
                    0.40252028051630123
                  ],
                  "type": "box"
                },
                {
                  "boxpoints": false,
                  "line": {
                    "width": 1.3
                  },
                  "marker": {
                    "color": "rgba(128, 0, 128, 1.0)"
                  },
                  "name": "D",
                  "orientation": "v",
                  "y": [
                    2.217554665916425,
                    -0.3014961031768279,
                    2.435613600465756,
                    -0.06903105312093644,
                    0.16049249793884535,
                    1.4180398930616278,
                    -1.8045472367929227,
                    0.5344165086215533,
                    -0.038520391182023606,
                    0.12710483292774583,
                    -1.5277430040653537,
                    0.22427178756539254,
                    -0.21517376571041835,
                    -0.758117522841429,
                    -1.3004537000575158,
                    0.17826685003088555,
                    0.718522576537042,
                    0.7876952780235554,
                    2.3523033307838763,
                    -0.5962702308195855,
                    -0.2646762483414622,
                    -1.7286731027147495,
                    0.20144956052599025,
                    -0.3306389264626234,
                    -0.14784632704235154,
                    -0.9023165497848213,
                    -0.06312222293826868,
                    -1.2010271790483693,
                    -1.9125973030504928,
                    1.5885566934691924,
                    -0.6642189929482608,
                    0.6000240020953647,
                    -0.3718083932801579,
                    -0.6700096446351057,
                    0.2055605709273506,
                    0.2891834045390556,
                    -1.711456813282301,
                    -1.0214000207882854,
                    1.6979855994520434,
                    -1.3947132230373687,
                    1.307883451250784,
                    -1.491701901333726,
                    0.13667598515428284,
                    1.1310987850031646,
                    -0.09813756580182041,
                    1.9215470008664755,
                    0.140313366614571,
                    1.0736218915148381,
                    0.5858877597877262,
                    -0.7432428932391569,
                    -0.5801471262696313,
                    -0.20659453054893556,
                    -1.3007532899368388,
                    -0.4310556377252584,
                    0.42996028376510664,
                    1.4016676118454796,
                    0.2430069221168277,
                    1.8472401608197366,
                    1.498304566986409,
                    -1.564287463136836,
                    0.8385975805558931,
                    -0.9101908408064494,
                    -2.10492909587321,
                    -0.3000342633285618,
                    -1.2281908664666685,
                    -0.5331990116419886,
                    0.8903214581542908,
                    -0.4740851170792387,
                    0.4602731894140559,
                    0.6424987013369353,
                    1.4922047734978898,
                    -1.0071965838846078,
                    -1.3468250534062194,
                    1.904043391134527,
                    -1.6025200334480592,
                    0.6224344759858497,
                    2.2407335848252705,
                    -2.3954468647618827,
                    1.6870230499417707,
                    -1.522119674669922,
                    -0.8382111099336146,
                    -1.5559050420334775,
                    -0.3735782088074512,
                    -0.6327142199121746,
                    -1.5038494966680584,
                    -0.0056455502949022485,
                    0.7397157749883283,
                    -1.5827676952799536,
                    0.8850699955786837,
                    -2.2070942654407713,
                    -0.7088402650691995,
                    -0.03173691299840874,
                    0.2622837161008249,
                    0.014908102376371864,
                    1.7300091561481785,
                    0.5704309048437817,
                    0.15017321197562175,
                    -1.2226023877510208,
                    -0.3799244752357741,
                    -0.6819290793598226
                  ],
                  "type": "box"
                }
              ],
              "layout": {
                "legend": {
                  "bgcolor": "#F5F6F9",
                  "font": {
                    "color": "#4D5663"
                  }
                },
                "paper_bgcolor": "#F5F6F9",
                "plot_bgcolor": "#F5F6F9",
                "template": {
                  "data": {
                    "barpolar": [
                      {
                        "marker": {
                          "line": {
                            "color": "#E5ECF6",
                            "width": 0.5
                          },
                          "pattern": {
                            "fillmode": "overlay",
                            "size": 10,
                            "solidity": 0.2
                          }
                        },
                        "type": "barpolar"
                      }
                    ],
                    "bar": [
                      {
                        "error_x": {
                          "color": "#2a3f5f"
                        },
                        "error_y": {
                          "color": "#2a3f5f"
                        },
                        "marker": {
                          "line": {
                            "color": "#E5ECF6",
                            "width": 0.5
                          },
                          "pattern": {
                            "fillmode": "overlay",
                            "size": 10,
                            "solidity": 0.2
                          }
                        },
                        "type": "bar"
                      }
                    ],
                    "carpet": [
                      {
                        "aaxis": {
                          "endlinecolor": "#2a3f5f",
                          "gridcolor": "white",
                          "linecolor": "white",
                          "minorgridcolor": "white",
                          "startlinecolor": "#2a3f5f"
                        },
                        "baxis": {
                          "endlinecolor": "#2a3f5f",
                          "gridcolor": "white",
                          "linecolor": "white",
                          "minorgridcolor": "white",
                          "startlinecolor": "#2a3f5f"
                        },
                        "type": "carpet"
                      }
                    ],
                    "choropleth": [
                      {
                        "colorbar": {
                          "outlinewidth": 0,
                          "ticks": ""
                        },
                        "type": "choropleth"
                      }
                    ],
                    "contourcarpet": [
                      {
                        "colorbar": {
                          "outlinewidth": 0,
                          "ticks": ""
                        },
                        "type": "contourcarpet"
                      }
                    ],
                    "contour": [
                      {
                        "colorbar": {
                          "outlinewidth": 0,
                          "ticks": ""
                        },
                        "colorscale": [
                          [
                            0,
                            "#0d0887"
                          ],
                          [
                            0.1111111111111111,
                            "#46039f"
                          ],
                          [
                            0.2222222222222222,
                            "#7201a8"
                          ],
                          [
                            0.3333333333333333,
                            "#9c179e"
                          ],
                          [
                            0.4444444444444444,
                            "#bd3786"
                          ],
                          [
                            0.5555555555555556,
                            "#d8576b"
                          ],
                          [
                            0.6666666666666666,
                            "#ed7953"
                          ],
                          [
                            0.7777777777777778,
                            "#fb9f3a"
                          ],
                          [
                            0.8888888888888888,
                            "#fdca26"
                          ],
                          [
                            1,
                            "#f0f921"
                          ]
                        ],
                        "type": "contour"
                      }
                    ],
                    "heatmapgl": [
                      {
                        "colorbar": {
                          "outlinewidth": 0,
                          "ticks": ""
                        },
                        "colorscale": [
                          [
                            0,
                            "#0d0887"
                          ],
                          [
                            0.1111111111111111,
                            "#46039f"
                          ],
                          [
                            0.2222222222222222,
                            "#7201a8"
                          ],
                          [
                            0.3333333333333333,
                            "#9c179e"
                          ],
                          [
                            0.4444444444444444,
                            "#bd3786"
                          ],
                          [
                            0.5555555555555556,
                            "#d8576b"
                          ],
                          [
                            0.6666666666666666,
                            "#ed7953"
                          ],
                          [
                            0.7777777777777778,
                            "#fb9f3a"
                          ],
                          [
                            0.8888888888888888,
                            "#fdca26"
                          ],
                          [
                            1,
                            "#f0f921"
                          ]
                        ],
                        "type": "heatmapgl"
                      }
                    ],
                    "heatmap": [
                      {
                        "colorbar": {
                          "outlinewidth": 0,
                          "ticks": ""
                        },
                        "colorscale": [
                          [
                            0,
                            "#0d0887"
                          ],
                          [
                            0.1111111111111111,
                            "#46039f"
                          ],
                          [
                            0.2222222222222222,
                            "#7201a8"
                          ],
                          [
                            0.3333333333333333,
                            "#9c179e"
                          ],
                          [
                            0.4444444444444444,
                            "#bd3786"
                          ],
                          [
                            0.5555555555555556,
                            "#d8576b"
                          ],
                          [
                            0.6666666666666666,
                            "#ed7953"
                          ],
                          [
                            0.7777777777777778,
                            "#fb9f3a"
                          ],
                          [
                            0.8888888888888888,
                            "#fdca26"
                          ],
                          [
                            1,
                            "#f0f921"
                          ]
                        ],
                        "type": "heatmap"
                      }
                    ],
                    "histogram2dcontour": [
                      {
                        "colorbar": {
                          "outlinewidth": 0,
                          "ticks": ""
                        },
                        "colorscale": [
                          [
                            0,
                            "#0d0887"
                          ],
                          [
                            0.1111111111111111,
                            "#46039f"
                          ],
                          [
                            0.2222222222222222,
                            "#7201a8"
                          ],
                          [
                            0.3333333333333333,
                            "#9c179e"
                          ],
                          [
                            0.4444444444444444,
                            "#bd3786"
                          ],
                          [
                            0.5555555555555556,
                            "#d8576b"
                          ],
                          [
                            0.6666666666666666,
                            "#ed7953"
                          ],
                          [
                            0.7777777777777778,
                            "#fb9f3a"
                          ],
                          [
                            0.8888888888888888,
                            "#fdca26"
                          ],
                          [
                            1,
                            "#f0f921"
                          ]
                        ],
                        "type": "histogram2dcontour"
                      }
                    ],
                    "histogram2d": [
                      {
                        "colorbar": {
                          "outlinewidth": 0,
                          "ticks": ""
                        },
                        "colorscale": [
                          [
                            0,
                            "#0d0887"
                          ],
                          [
                            0.1111111111111111,
                            "#46039f"
                          ],
                          [
                            0.2222222222222222,
                            "#7201a8"
                          ],
                          [
                            0.3333333333333333,
                            "#9c179e"
                          ],
                          [
                            0.4444444444444444,
                            "#bd3786"
                          ],
                          [
                            0.5555555555555556,
                            "#d8576b"
                          ],
                          [
                            0.6666666666666666,
                            "#ed7953"
                          ],
                          [
                            0.7777777777777778,
                            "#fb9f3a"
                          ],
                          [
                            0.8888888888888888,
                            "#fdca26"
                          ],
                          [
                            1,
                            "#f0f921"
                          ]
                        ],
                        "type": "histogram2d"
                      }
                    ],
                    "histogram": [
                      {
                        "marker": {
                          "pattern": {
                            "fillmode": "overlay",
                            "size": 10,
                            "solidity": 0.2
                          }
                        },
                        "type": "histogram"
                      }
                    ],
                    "mesh3d": [
                      {
                        "colorbar": {
                          "outlinewidth": 0,
                          "ticks": ""
                        },
                        "type": "mesh3d"
                      }
                    ],
                    "parcoords": [
                      {
                        "line": {
                          "colorbar": {
                            "outlinewidth": 0,
                            "ticks": ""
                          }
                        },
                        "type": "parcoords"
                      }
                    ],
                    "pie": [
                      {
                        "automargin": true,
                        "type": "pie"
                      }
                    ],
                    "scatter3d": [
                      {
                        "line": {
                          "colorbar": {
                            "outlinewidth": 0,
                            "ticks": ""
                          }
                        },
                        "marker": {
                          "colorbar": {
                            "outlinewidth": 0,
                            "ticks": ""
                          }
                        },
                        "type": "scatter3d"
                      }
                    ],
                    "scattercarpet": [
                      {
                        "marker": {
                          "colorbar": {
                            "outlinewidth": 0,
                            "ticks": ""
                          }
                        },
                        "type": "scattercarpet"
                      }
                    ],
                    "scattergeo": [
                      {
                        "marker": {
                          "colorbar": {
                            "outlinewidth": 0,
                            "ticks": ""
                          }
                        },
                        "type": "scattergeo"
                      }
                    ],
                    "scattergl": [
                      {
                        "marker": {
                          "colorbar": {
                            "outlinewidth": 0,
                            "ticks": ""
                          }
                        },
                        "type": "scattergl"
                      }
                    ],
                    "scattermapbox": [
                      {
                        "marker": {
                          "colorbar": {
                            "outlinewidth": 0,
                            "ticks": ""
                          }
                        },
                        "type": "scattermapbox"
                      }
                    ],
                    "scatterpolargl": [
                      {
                        "marker": {
                          "colorbar": {
                            "outlinewidth": 0,
                            "ticks": ""
                          }
                        },
                        "type": "scatterpolargl"
                      }
                    ],
                    "scatterpolar": [
                      {
                        "marker": {
                          "colorbar": {
                            "outlinewidth": 0,
                            "ticks": ""
                          }
                        },
                        "type": "scatterpolar"
                      }
                    ],
                    "scatter": [
                      {
                        "marker": {
                          "colorbar": {
                            "outlinewidth": 0,
                            "ticks": ""
                          }
                        },
                        "type": "scatter"
                      }
                    ],
                    "scatterternary": [
                      {
                        "marker": {
                          "colorbar": {
                            "outlinewidth": 0,
                            "ticks": ""
                          }
                        },
                        "type": "scatterternary"
                      }
                    ],
                    "surface": [
                      {
                        "colorbar": {
                          "outlinewidth": 0,
                          "ticks": ""
                        },
                        "colorscale": [
                          [
                            0,
                            "#0d0887"
                          ],
                          [
                            0.1111111111111111,
                            "#46039f"
                          ],
                          [
                            0.2222222222222222,
                            "#7201a8"
                          ],
                          [
                            0.3333333333333333,
                            "#9c179e"
                          ],
                          [
                            0.4444444444444444,
                            "#bd3786"
                          ],
                          [
                            0.5555555555555556,
                            "#d8576b"
                          ],
                          [
                            0.6666666666666666,
                            "#ed7953"
                          ],
                          [
                            0.7777777777777778,
                            "#fb9f3a"
                          ],
                          [
                            0.8888888888888888,
                            "#fdca26"
                          ],
                          [
                            1,
                            "#f0f921"
                          ]
                        ],
                        "type": "surface"
                      }
                    ],
                    "table": [
                      {
                        "cells": {
                          "fill": {
                            "color": "#EBF0F8"
                          },
                          "line": {
                            "color": "white"
                          }
                        },
                        "header": {
                          "fill": {
                            "color": "#C8D4E3"
                          },
                          "line": {
                            "color": "white"
                          }
                        },
                        "type": "table"
                      }
                    ]
                  },
                  "layout": {
                    "annotationdefaults": {
                      "arrowcolor": "#2a3f5f",
                      "arrowhead": 0,
                      "arrowwidth": 1
                    },
                    "autotypenumbers": "strict",
                    "coloraxis": {
                      "colorbar": {
                        "outlinewidth": 0,
                        "ticks": ""
                      }
                    },
                    "colorscale": {
                      "diverging": [
                        [
                          0,
                          "#8e0152"
                        ],
                        [
                          0.1,
                          "#c51b7d"
                        ],
                        [
                          0.2,
                          "#de77ae"
                        ],
                        [
                          0.3,
                          "#f1b6da"
                        ],
                        [
                          0.4,
                          "#fde0ef"
                        ],
                        [
                          0.5,
                          "#f7f7f7"
                        ],
                        [
                          0.6,
                          "#e6f5d0"
                        ],
                        [
                          0.7,
                          "#b8e186"
                        ],
                        [
                          0.8,
                          "#7fbc41"
                        ],
                        [
                          0.9,
                          "#4d9221"
                        ],
                        [
                          1,
                          "#276419"
                        ]
                      ],
                      "sequential": [
                        [
                          0,
                          "#0d0887"
                        ],
                        [
                          0.1111111111111111,
                          "#46039f"
                        ],
                        [
                          0.2222222222222222,
                          "#7201a8"
                        ],
                        [
                          0.3333333333333333,
                          "#9c179e"
                        ],
                        [
                          0.4444444444444444,
                          "#bd3786"
                        ],
                        [
                          0.5555555555555556,
                          "#d8576b"
                        ],
                        [
                          0.6666666666666666,
                          "#ed7953"
                        ],
                        [
                          0.7777777777777778,
                          "#fb9f3a"
                        ],
                        [
                          0.8888888888888888,
                          "#fdca26"
                        ],
                        [
                          1,
                          "#f0f921"
                        ]
                      ],
                      "sequentialminus": [
                        [
                          0,
                          "#0d0887"
                        ],
                        [
                          0.1111111111111111,
                          "#46039f"
                        ],
                        [
                          0.2222222222222222,
                          "#7201a8"
                        ],
                        [
                          0.3333333333333333,
                          "#9c179e"
                        ],
                        [
                          0.4444444444444444,
                          "#bd3786"
                        ],
                        [
                          0.5555555555555556,
                          "#d8576b"
                        ],
                        [
                          0.6666666666666666,
                          "#ed7953"
                        ],
                        [
                          0.7777777777777778,
                          "#fb9f3a"
                        ],
                        [
                          0.8888888888888888,
                          "#fdca26"
                        ],
                        [
                          1,
                          "#f0f921"
                        ]
                      ]
                    },
                    "colorway": [
                      "#636efa",
                      "#EF553B",
                      "#00cc96",
                      "#ab63fa",
                      "#FFA15A",
                      "#19d3f3",
                      "#FF6692",
                      "#B6E880",
                      "#FF97FF",
                      "#FECB52"
                    ],
                    "font": {
                      "color": "#2a3f5f"
                    },
                    "geo": {
                      "bgcolor": "white",
                      "lakecolor": "white",
                      "landcolor": "#E5ECF6",
                      "showlakes": true,
                      "showland": true,
                      "subunitcolor": "white"
                    },
                    "hoverlabel": {
                      "align": "left"
                    },
                    "hovermode": "closest",
                    "mapbox": {
                      "style": "light"
                    },
                    "paper_bgcolor": "white",
                    "plot_bgcolor": "#E5ECF6",
                    "polar": {
                      "angularaxis": {
                        "gridcolor": "white",
                        "linecolor": "white",
                        "ticks": ""
                      },
                      "bgcolor": "#E5ECF6",
                      "radialaxis": {
                        "gridcolor": "white",
                        "linecolor": "white",
                        "ticks": ""
                      }
                    },
                    "scene": {
                      "xaxis": {
                        "backgroundcolor": "#E5ECF6",
                        "gridcolor": "white",
                        "gridwidth": 2,
                        "linecolor": "white",
                        "showbackground": true,
                        "ticks": "",
                        "zerolinecolor": "white"
                      },
                      "yaxis": {
                        "backgroundcolor": "#E5ECF6",
                        "gridcolor": "white",
                        "gridwidth": 2,
                        "linecolor": "white",
                        "showbackground": true,
                        "ticks": "",
                        "zerolinecolor": "white"
                      },
                      "zaxis": {
                        "backgroundcolor": "#E5ECF6",
                        "gridcolor": "white",
                        "gridwidth": 2,
                        "linecolor": "white",
                        "showbackground": true,
                        "ticks": "",
                        "zerolinecolor": "white"
                      }
                    },
                    "shapedefaults": {
                      "line": {
                        "color": "#2a3f5f"
                      }
                    },
                    "ternary": {
                      "aaxis": {
                        "gridcolor": "white",
                        "linecolor": "white",
                        "ticks": ""
                      },
                      "baxis": {
                        "gridcolor": "white",
                        "linecolor": "white",
                        "ticks": ""
                      },
                      "bgcolor": "#E5ECF6",
                      "caxis": {
                        "gridcolor": "white",
                        "linecolor": "white",
                        "ticks": ""
                      }
                    },
                    "title": {
                      "x": 0.05
                    },
                    "xaxis": {
                      "automargin": true,
                      "gridcolor": "white",
                      "linecolor": "white",
                      "ticks": "",
                      "title": {
                        "standoff": 15
                      },
                      "zerolinecolor": "white",
                      "zerolinewidth": 2
                    },
                    "yaxis": {
                      "automargin": true,
                      "gridcolor": "white",
                      "linecolor": "white",
                      "ticks": "",
                      "title": {
                        "standoff": 15
                      },
                      "zerolinecolor": "white",
                      "zerolinewidth": 2
                    }
                  }
                },
                "title": {
                  "font": {
                    "color": "#4D5663"
                  }
                },
                "xaxis": {
                  "gridcolor": "#E1E5ED",
                  "showgrid": true,
                  "tickfont": {
                    "color": "#4D5663"
                  },
                  "title": {
                    "font": {
                      "color": "#4D5663"
                    },
                    "text": ""
                  },
                  "zerolinecolor": "#E1E5ED"
                },
                "yaxis": {
                  "gridcolor": "#E1E5ED",
                  "showgrid": true,
                  "tickfont": {
                    "color": "#4D5663"
                  },
                  "title": {
                    "font": {
                      "color": "#4D5663"
                    },
                    "text": ""
                  },
                  "zerolinecolor": "#E1E5ED"
                }
              },
              "config": {
                "showLink": true,
                "linkText": "Export to plot.ly",
                "plotlyServerURL": "https://plot.ly"
              }
            },
            "text/html": [
              "<div>                            <div id=\"8055e6a6-2266-4e1a-af59-756c0619cce6\" class=\"plotly-graph-div\" style=\"height:525px; width:100%;\"></div>            <script type=\"text/javascript\">                require([\"plotly\"], function(Plotly) {                    window.PLOTLYENV=window.PLOTLYENV || {};\n",
              "                    window.PLOTLYENV.BASE_URL='https://plot.ly';                                    if (document.getElementById(\"8055e6a6-2266-4e1a-af59-756c0619cce6\")) {                    Plotly.newPlot(                        \"8055e6a6-2266-4e1a-af59-756c0619cce6\",                        [{\"boxpoints\":false,\"line\":{\"width\":1.3},\"marker\":{\"color\":\"rgba(255, 153, 51, 1.0)\"},\"name\":\"A\",\"orientation\":\"v\",\"y\":[0.0178114694854835,0.6503752891210457,1.4746556294415147,-0.002867505410992792,-0.7757917649856074,0.7662726192537015,1.0664749327062275,-0.11692736502946699,0.3306590500365512,-0.6039709270655202,2.3235131537725375,-1.581925335224607,0.015324694821562445,0.7668724051627919,0.5449217852329432,-1.5393392248297437,0.8826309337533468,-0.42177731108365596,0.6252953354329761,0.9475458834299388,0.16638344745317185,0.5872486334340409,0.7331878127127393,-0.8712133576574608,0.02218394918355038,-0.6013339495862363,-1.756229955636603,-1.9819893580331447,1.3825585253185222,0.18483164136281052,-1.2679341148034344,0.9949380071155695,-1.1476115696647307,-0.6479204186113192,-0.3789275877400645,0.2493338620032875,1.4201510261872716,-1.0503815196700217,1.0554704075679069,-1.0293234615296152,-1.0822796524356448,0.7684855357339191,2.5192161436818195,-1.9117744538897679,1.5931709732081492,0.5205078111864689,-0.9035063004328567,-0.039536779019681174,0.013421263122439244,-1.354389863999936,0.20741889935212338,-2.12861161880051,-0.5361385106295921,0.38466904193579843,0.5746526914220886,-0.870127691386053,-0.00021741926349469498,1.3073415839337295,-0.3230346369356965,-1.4318585137200077,0.742678531238043,-0.08997843766330833,-0.9296646722359696,-0.07779540095102579,-0.46929144505777076,0.008368761820374822,-0.613299214024739,1.1584825020371716,-0.47277585985662945,0.03805037863533173,-1.127629142630456,1.1062032945972584,1.338797608931247,-0.3109914547842166,0.21070722316844118,-0.15525145173830632,-0.9436284343977237,0.8405189744616796,0.7194053183545105,-0.5898131143539371,0.11078070545200325,-0.9101033501429266,-0.2760212578221692,-0.06121843562570686,0.22082764961571158,-0.8087040146874948,-0.24795260940063577,-0.18500473992804137,-1.1261930084640464,0.25926065036018053,1.0626956597526414,-0.29189730205400105,1.4649070470221661,0.15330410358902066,-0.9135301588123295,-1.5586000323884628,0.7016050667461048,-0.3143015581881234,-0.41706765214680636,-0.3921961494111043],\"type\":\"box\"},{\"boxpoints\":false,\"line\":{\"width\":1.3},\"marker\":{\"color\":\"rgba(55, 128, 191, 1.0)\"},\"name\":\"B\",\"orientation\":\"v\",\"y\":[-0.5617375702420864,-1.2105280209767268,0.8561250259063421,-0.7107503858881543,1.9101987417784274,0.5789968113218955,-0.9591681047529027,0.5395359124881931,1.3193862626751078,0.6680228938498383,-0.7341726211864084,-0.6118985446054702,-1.2141500234277,1.5911478517284632,-0.5261168186658791,0.8457278666030731,-1.0083412765657886,2.032738956061042,0.1463571733779813,0.5177816732261287,-0.769212161890698,-1.069099261508924,0.6217522583946871,-0.7685130295505281,0.9544080795307096,-0.09436162464620383,0.5375121175183534,0.6747308503837377,-0.5610675516558478,0.94214409035032,0.6064445545372859,0.07104417008322735,0.1330925122609887,0.6136925994677905,0.0035230303615803584,-0.34532692952094346,0.13237764586606712,-0.9646644055964682,0.130714844563745,0.10519423612640431,0.8547224198592885,1.4829075328199424,-0.9952118382098827,-0.6046778657833812,-0.0130276454638649,1.087828140993123,0.2085807423899216,0.74207524333408,-0.7939304210976657,0.882859631977347,0.21805155116360347,0.8191732685075461,-0.33300967724353003,-0.5919052919299606,-1.7071195729782942,-1.1895653090495355,0.6390977779302962,1.295456870258728,1.0432603943938363,1.5067829763146572,0.9566913863674601,1.310266945124139,-1.93090349772417,0.5108049211688599,-1.8206417027981763,0.4919314503964313,1.0367104751357175,-0.5070167039378888,0.4444149359221097,0.5942474438048201,-2.4036581156786467,-0.738923209691997,0.2483313091113896,-1.5896989324533435,-0.1767444417931268,1.2918585657024686,0.15436931061292777,-0.020693967852573433,-1.2953814780999942,-0.33164381746601795,-1.98419870685544,-0.0977188523628509,-1.3414203013691797,0.19001993628446323,-1.144617917384704,0.6281985093673482,0.31282287792073715,-0.4335108153748616,0.08996165145511464,-0.4049630640050919,-1.3655766758769943,0.003863089142866324,1.9544805266971712,1.4025801247991099,1.5133080358291704,-1.081597061248639,0.08033346985791334,-0.8574779036981085,-0.5578342097981503,-1.0823858458747249],\"type\":\"box\"},{\"boxpoints\":false,\"line\":{\"width\":1.3},\"marker\":{\"color\":\"rgba(50, 171, 96, 1.0)\"},\"name\":\"C\",\"orientation\":\"v\",\"y\":[-0.22988724567685068,0.17211208293326638,-0.891866874750063,-1.4208268256596377,-1.5096491399989973,1.1047438368262026,-0.6213705058759526,0.23971762053336035,-0.42150105154750994,0.1882318030835403,1.2575508166587719,-0.2242558811223914,0.24739831047320376,-0.07660113555994527,-0.27767955287392726,0.582957367085622,-0.7630131125241152,-0.498854865462507,-0.2372975468039774,1.0293829524030838,0.2665421039152957,-0.7283486827820418,-0.4324384878981543,1.0865630794601617,0.7064189848921297,0.4900608058256672,0.29723156415423607,1.510895455774434,0.5718871794669691,0.8761321844277847,-0.40417579185597763,-0.3798921640839629,0.5522284039676492,0.686974485202635,-1.4127325618659128,1.3066560665482645,-0.009758700388875594,0.5552146054805828,0.21566804645670642,-0.39240933951428913,-0.8879505183629269,-1.192214810338215,-0.06777557439608581,-0.5171084617987218,-0.15087274443869356,0.13587754591411752,-0.9622912222444939,0.638186730745737,-0.5129861508700331,1.645816480310981,-1.0140986777422094,-2.236568069692717,0.1250521384092541,2.4824183877463204,0.5804193849674129,-0.49519575868165633,1.404292027644616,-0.5740444848836095,-1.9195774568110873,-0.531383677376116,-0.7574628978397108,-0.2611686074531827,0.21325247853887236,-0.5688195514278918,1.407855318324713,-0.26715323393690205,0.0768479951656562,-0.7160073257075226,-1.005085258333275,2.8195460489570543,-1.382176070380219,1.4951735061880786,-0.05108020834368662,0.5883706860719372,-0.15897927556667274,-0.4189142343829021,-0.023430592051969238,-0.8559145291990594,1.3343773242424868,-1.7351043094162564,-1.0775923821463007,-0.7637373361069689,0.40966995116429694,0.9233843911474657,2.5424858652010394,0.1698631879030505,1.1314177046313625,0.18121743533844004,-0.6767345339135239,-0.6119872089364478,1.7661491752308893,1.0041798114796423,0.42240183560358363,-0.06640433508646586,-0.028537720723805997,-1.8786857981031913,0.4291889448384859,0.2521237637603228,-1.3953715323858975,0.40252028051630123],\"type\":\"box\"},{\"boxpoints\":false,\"line\":{\"width\":1.3},\"marker\":{\"color\":\"rgba(128, 0, 128, 1.0)\"},\"name\":\"D\",\"orientation\":\"v\",\"y\":[2.217554665916425,-0.3014961031768279,2.435613600465756,-0.06903105312093644,0.16049249793884535,1.4180398930616278,-1.8045472367929227,0.5344165086215533,-0.038520391182023606,0.12710483292774583,-1.5277430040653537,0.22427178756539254,-0.21517376571041835,-0.758117522841429,-1.3004537000575158,0.17826685003088555,0.718522576537042,0.7876952780235554,2.3523033307838763,-0.5962702308195855,-0.2646762483414622,-1.7286731027147495,0.20144956052599025,-0.3306389264626234,-0.14784632704235154,-0.9023165497848213,-0.06312222293826868,-1.2010271790483693,-1.9125973030504928,1.5885566934691924,-0.6642189929482608,0.6000240020953647,-0.3718083932801579,-0.6700096446351057,0.2055605709273506,0.2891834045390556,-1.711456813282301,-1.0214000207882854,1.6979855994520434,-1.3947132230373687,1.307883451250784,-1.491701901333726,0.13667598515428284,1.1310987850031646,-0.09813756580182041,1.9215470008664755,0.140313366614571,1.0736218915148381,0.5858877597877262,-0.7432428932391569,-0.5801471262696313,-0.20659453054893556,-1.3007532899368388,-0.4310556377252584,0.42996028376510664,1.4016676118454796,0.2430069221168277,1.8472401608197366,1.498304566986409,-1.564287463136836,0.8385975805558931,-0.9101908408064494,-2.10492909587321,-0.3000342633285618,-1.2281908664666685,-0.5331990116419886,0.8903214581542908,-0.4740851170792387,0.4602731894140559,0.6424987013369353,1.4922047734978898,-1.0071965838846078,-1.3468250534062194,1.904043391134527,-1.6025200334480592,0.6224344759858497,2.2407335848252705,-2.3954468647618827,1.6870230499417707,-1.522119674669922,-0.8382111099336146,-1.5559050420334775,-0.3735782088074512,-0.6327142199121746,-1.5038494966680584,-0.0056455502949022485,0.7397157749883283,-1.5827676952799536,0.8850699955786837,-2.2070942654407713,-0.7088402650691995,-0.03173691299840874,0.2622837161008249,0.014908102376371864,1.7300091561481785,0.5704309048437817,0.15017321197562175,-1.2226023877510208,-0.3799244752357741,-0.6819290793598226],\"type\":\"box\"}],                        {\"legend\":{\"bgcolor\":\"#F5F6F9\",\"font\":{\"color\":\"#4D5663\"}},\"paper_bgcolor\":\"#F5F6F9\",\"plot_bgcolor\":\"#F5F6F9\",\"template\":{\"data\":{\"barpolar\":[{\"marker\":{\"line\":{\"color\":\"#E5ECF6\",\"width\":0.5},\"pattern\":{\"fillmode\":\"overlay\",\"size\":10,\"solidity\":0.2}},\"type\":\"barpolar\"}],\"bar\":[{\"error_x\":{\"color\":\"#2a3f5f\"},\"error_y\":{\"color\":\"#2a3f5f\"},\"marker\":{\"line\":{\"color\":\"#E5ECF6\",\"width\":0.5},\"pattern\":{\"fillmode\":\"overlay\",\"size\":10,\"solidity\":0.2}},\"type\":\"bar\"}],\"carpet\":[{\"aaxis\":{\"endlinecolor\":\"#2a3f5f\",\"gridcolor\":\"white\",\"linecolor\":\"white\",\"minorgridcolor\":\"white\",\"startlinecolor\":\"#2a3f5f\"},\"baxis\":{\"endlinecolor\":\"#2a3f5f\",\"gridcolor\":\"white\",\"linecolor\":\"white\",\"minorgridcolor\":\"white\",\"startlinecolor\":\"#2a3f5f\"},\"type\":\"carpet\"}],\"choropleth\":[{\"colorbar\":{\"outlinewidth\":0,\"ticks\":\"\"},\"type\":\"choropleth\"}],\"contourcarpet\":[{\"colorbar\":{\"outlinewidth\":0,\"ticks\":\"\"},\"type\":\"contourcarpet\"}],\"contour\":[{\"colorbar\":{\"outlinewidth\":0,\"ticks\":\"\"},\"colorscale\":[[0.0,\"#0d0887\"],[0.1111111111111111,\"#46039f\"],[0.2222222222222222,\"#7201a8\"],[0.3333333333333333,\"#9c179e\"],[0.4444444444444444,\"#bd3786\"],[0.5555555555555556,\"#d8576b\"],[0.6666666666666666,\"#ed7953\"],[0.7777777777777778,\"#fb9f3a\"],[0.8888888888888888,\"#fdca26\"],[1.0,\"#f0f921\"]],\"type\":\"contour\"}],\"heatmapgl\":[{\"colorbar\":{\"outlinewidth\":0,\"ticks\":\"\"},\"colorscale\":[[0.0,\"#0d0887\"],[0.1111111111111111,\"#46039f\"],[0.2222222222222222,\"#7201a8\"],[0.3333333333333333,\"#9c179e\"],[0.4444444444444444,\"#bd3786\"],[0.5555555555555556,\"#d8576b\"],[0.6666666666666666,\"#ed7953\"],[0.7777777777777778,\"#fb9f3a\"],[0.8888888888888888,\"#fdca26\"],[1.0,\"#f0f921\"]],\"type\":\"heatmapgl\"}],\"heatmap\":[{\"colorbar\":{\"outlinewidth\":0,\"ticks\":\"\"},\"colorscale\":[[0.0,\"#0d0887\"],[0.1111111111111111,\"#46039f\"],[0.2222222222222222,\"#7201a8\"],[0.3333333333333333,\"#9c179e\"],[0.4444444444444444,\"#bd3786\"],[0.5555555555555556,\"#d8576b\"],[0.6666666666666666,\"#ed7953\"],[0.7777777777777778,\"#fb9f3a\"],[0.8888888888888888,\"#fdca26\"],[1.0,\"#f0f921\"]],\"type\":\"heatmap\"}],\"histogram2dcontour\":[{\"colorbar\":{\"outlinewidth\":0,\"ticks\":\"\"},\"colorscale\":[[0.0,\"#0d0887\"],[0.1111111111111111,\"#46039f\"],[0.2222222222222222,\"#7201a8\"],[0.3333333333333333,\"#9c179e\"],[0.4444444444444444,\"#bd3786\"],[0.5555555555555556,\"#d8576b\"],[0.6666666666666666,\"#ed7953\"],[0.7777777777777778,\"#fb9f3a\"],[0.8888888888888888,\"#fdca26\"],[1.0,\"#f0f921\"]],\"type\":\"histogram2dcontour\"}],\"histogram2d\":[{\"colorbar\":{\"outlinewidth\":0,\"ticks\":\"\"},\"colorscale\":[[0.0,\"#0d0887\"],[0.1111111111111111,\"#46039f\"],[0.2222222222222222,\"#7201a8\"],[0.3333333333333333,\"#9c179e\"],[0.4444444444444444,\"#bd3786\"],[0.5555555555555556,\"#d8576b\"],[0.6666666666666666,\"#ed7953\"],[0.7777777777777778,\"#fb9f3a\"],[0.8888888888888888,\"#fdca26\"],[1.0,\"#f0f921\"]],\"type\":\"histogram2d\"}],\"histogram\":[{\"marker\":{\"pattern\":{\"fillmode\":\"overlay\",\"size\":10,\"solidity\":0.2}},\"type\":\"histogram\"}],\"mesh3d\":[{\"colorbar\":{\"outlinewidth\":0,\"ticks\":\"\"},\"type\":\"mesh3d\"}],\"parcoords\":[{\"line\":{\"colorbar\":{\"outlinewidth\":0,\"ticks\":\"\"}},\"type\":\"parcoords\"}],\"pie\":[{\"automargin\":true,\"type\":\"pie\"}],\"scatter3d\":[{\"line\":{\"colorbar\":{\"outlinewidth\":0,\"ticks\":\"\"}},\"marker\":{\"colorbar\":{\"outlinewidth\":0,\"ticks\":\"\"}},\"type\":\"scatter3d\"}],\"scattercarpet\":[{\"marker\":{\"colorbar\":{\"outlinewidth\":0,\"ticks\":\"\"}},\"type\":\"scattercarpet\"}],\"scattergeo\":[{\"marker\":{\"colorbar\":{\"outlinewidth\":0,\"ticks\":\"\"}},\"type\":\"scattergeo\"}],\"scattergl\":[{\"marker\":{\"colorbar\":{\"outlinewidth\":0,\"ticks\":\"\"}},\"type\":\"scattergl\"}],\"scattermapbox\":[{\"marker\":{\"colorbar\":{\"outlinewidth\":0,\"ticks\":\"\"}},\"type\":\"scattermapbox\"}],\"scatterpolargl\":[{\"marker\":{\"colorbar\":{\"outlinewidth\":0,\"ticks\":\"\"}},\"type\":\"scatterpolargl\"}],\"scatterpolar\":[{\"marker\":{\"colorbar\":{\"outlinewidth\":0,\"ticks\":\"\"}},\"type\":\"scatterpolar\"}],\"scatter\":[{\"marker\":{\"colorbar\":{\"outlinewidth\":0,\"ticks\":\"\"}},\"type\":\"scatter\"}],\"scatterternary\":[{\"marker\":{\"colorbar\":{\"outlinewidth\":0,\"ticks\":\"\"}},\"type\":\"scatterternary\"}],\"surface\":[{\"colorbar\":{\"outlinewidth\":0,\"ticks\":\"\"},\"colorscale\":[[0.0,\"#0d0887\"],[0.1111111111111111,\"#46039f\"],[0.2222222222222222,\"#7201a8\"],[0.3333333333333333,\"#9c179e\"],[0.4444444444444444,\"#bd3786\"],[0.5555555555555556,\"#d8576b\"],[0.6666666666666666,\"#ed7953\"],[0.7777777777777778,\"#fb9f3a\"],[0.8888888888888888,\"#fdca26\"],[1.0,\"#f0f921\"]],\"type\":\"surface\"}],\"table\":[{\"cells\":{\"fill\":{\"color\":\"#EBF0F8\"},\"line\":{\"color\":\"white\"}},\"header\":{\"fill\":{\"color\":\"#C8D4E3\"},\"line\":{\"color\":\"white\"}},\"type\":\"table\"}]},\"layout\":{\"annotationdefaults\":{\"arrowcolor\":\"#2a3f5f\",\"arrowhead\":0,\"arrowwidth\":1},\"autotypenumbers\":\"strict\",\"coloraxis\":{\"colorbar\":{\"outlinewidth\":0,\"ticks\":\"\"}},\"colorscale\":{\"diverging\":[[0,\"#8e0152\"],[0.1,\"#c51b7d\"],[0.2,\"#de77ae\"],[0.3,\"#f1b6da\"],[0.4,\"#fde0ef\"],[0.5,\"#f7f7f7\"],[0.6,\"#e6f5d0\"],[0.7,\"#b8e186\"],[0.8,\"#7fbc41\"],[0.9,\"#4d9221\"],[1,\"#276419\"]],\"sequential\":[[0.0,\"#0d0887\"],[0.1111111111111111,\"#46039f\"],[0.2222222222222222,\"#7201a8\"],[0.3333333333333333,\"#9c179e\"],[0.4444444444444444,\"#bd3786\"],[0.5555555555555556,\"#d8576b\"],[0.6666666666666666,\"#ed7953\"],[0.7777777777777778,\"#fb9f3a\"],[0.8888888888888888,\"#fdca26\"],[1.0,\"#f0f921\"]],\"sequentialminus\":[[0.0,\"#0d0887\"],[0.1111111111111111,\"#46039f\"],[0.2222222222222222,\"#7201a8\"],[0.3333333333333333,\"#9c179e\"],[0.4444444444444444,\"#bd3786\"],[0.5555555555555556,\"#d8576b\"],[0.6666666666666666,\"#ed7953\"],[0.7777777777777778,\"#fb9f3a\"],[0.8888888888888888,\"#fdca26\"],[1.0,\"#f0f921\"]]},\"colorway\":[\"#636efa\",\"#EF553B\",\"#00cc96\",\"#ab63fa\",\"#FFA15A\",\"#19d3f3\",\"#FF6692\",\"#B6E880\",\"#FF97FF\",\"#FECB52\"],\"font\":{\"color\":\"#2a3f5f\"},\"geo\":{\"bgcolor\":\"white\",\"lakecolor\":\"white\",\"landcolor\":\"#E5ECF6\",\"showlakes\":true,\"showland\":true,\"subunitcolor\":\"white\"},\"hoverlabel\":{\"align\":\"left\"},\"hovermode\":\"closest\",\"mapbox\":{\"style\":\"light\"},\"paper_bgcolor\":\"white\",\"plot_bgcolor\":\"#E5ECF6\",\"polar\":{\"angularaxis\":{\"gridcolor\":\"white\",\"linecolor\":\"white\",\"ticks\":\"\"},\"bgcolor\":\"#E5ECF6\",\"radialaxis\":{\"gridcolor\":\"white\",\"linecolor\":\"white\",\"ticks\":\"\"}},\"scene\":{\"xaxis\":{\"backgroundcolor\":\"#E5ECF6\",\"gridcolor\":\"white\",\"gridwidth\":2,\"linecolor\":\"white\",\"showbackground\":true,\"ticks\":\"\",\"zerolinecolor\":\"white\"},\"yaxis\":{\"backgroundcolor\":\"#E5ECF6\",\"gridcolor\":\"white\",\"gridwidth\":2,\"linecolor\":\"white\",\"showbackground\":true,\"ticks\":\"\",\"zerolinecolor\":\"white\"},\"zaxis\":{\"backgroundcolor\":\"#E5ECF6\",\"gridcolor\":\"white\",\"gridwidth\":2,\"linecolor\":\"white\",\"showbackground\":true,\"ticks\":\"\",\"zerolinecolor\":\"white\"}},\"shapedefaults\":{\"line\":{\"color\":\"#2a3f5f\"}},\"ternary\":{\"aaxis\":{\"gridcolor\":\"white\",\"linecolor\":\"white\",\"ticks\":\"\"},\"baxis\":{\"gridcolor\":\"white\",\"linecolor\":\"white\",\"ticks\":\"\"},\"bgcolor\":\"#E5ECF6\",\"caxis\":{\"gridcolor\":\"white\",\"linecolor\":\"white\",\"ticks\":\"\"}},\"title\":{\"x\":0.05},\"xaxis\":{\"automargin\":true,\"gridcolor\":\"white\",\"linecolor\":\"white\",\"ticks\":\"\",\"title\":{\"standoff\":15},\"zerolinecolor\":\"white\",\"zerolinewidth\":2},\"yaxis\":{\"automargin\":true,\"gridcolor\":\"white\",\"linecolor\":\"white\",\"ticks\":\"\",\"title\":{\"standoff\":15},\"zerolinecolor\":\"white\",\"zerolinewidth\":2}}},\"title\":{\"font\":{\"color\":\"#4D5663\"}},\"xaxis\":{\"gridcolor\":\"#E1E5ED\",\"showgrid\":true,\"tickfont\":{\"color\":\"#4D5663\"},\"title\":{\"font\":{\"color\":\"#4D5663\"},\"text\":\"\"},\"zerolinecolor\":\"#E1E5ED\"},\"yaxis\":{\"gridcolor\":\"#E1E5ED\",\"showgrid\":true,\"tickfont\":{\"color\":\"#4D5663\"},\"title\":{\"font\":{\"color\":\"#4D5663\"},\"text\":\"\"},\"zerolinecolor\":\"#E1E5ED\"}},                        {\"showLink\": true, \"linkText\": \"Export to plot.ly\", \"plotlyServerURL\": \"https://plot.ly\", \"responsive\": true}                    ).then(function(){\n",
              "                            \n",
              "var gd = document.getElementById('8055e6a6-2266-4e1a-af59-756c0619cce6');\n",
              "var x = new MutationObserver(function (mutations, observer) {{\n",
              "        var display = window.getComputedStyle(gd).display;\n",
              "        if (!display || display === 'none') {{\n",
              "            console.log([gd, 'removed!']);\n",
              "            Plotly.purge(gd);\n",
              "            observer.disconnect();\n",
              "        }}\n",
              "}});\n",
              "\n",
              "// Listen for the removal of the full notebook cells\n",
              "var notebookContainer = gd.closest('#notebook-container');\n",
              "if (notebookContainer) {{\n",
              "    x.observe(notebookContainer, {childList: true});\n",
              "}}\n",
              "\n",
              "// Listen for the clearing of the current output cell\n",
              "var outputEl = gd.closest('.output');\n",
              "if (outputEl) {{\n",
              "    x.observe(outputEl, {childList: true});\n",
              "}}\n",
              "\n",
              "                        })                };                });            </script>        </div>"
            ]
          },
          "metadata": {}
        }
      ],
      "source": [
        "df.iplot(kind='box')"
      ]
    },
    {
      "cell_type": "markdown",
      "metadata": {
        "id": "2qhOUXAjK5le"
      },
      "source": [
        "## Superficie 3D"
      ]
    },
    {
      "cell_type": "code",
      "execution_count": null,
      "metadata": {
        "colab": {
          "base_uri": "https://localhost:8080/",
          "height": 542
        },
        "id": "RYw4HqVoK5le",
        "outputId": "3b6f4be6-7bae-4ca0-f2fc-82cb5866fd51"
      },
      "outputs": [
        {
          "output_type": "display_data",
          "data": {
            "application/vnd.plotly.v1+json": {
              "data": [
                {
                  "colorscale": [
                    [
                      0,
                      "rgb(165,0,38)"
                    ],
                    [
                      0.1,
                      "rgb(215,48,39)"
                    ],
                    [
                      0.2,
                      "rgb(244,109,67)"
                    ],
                    [
                      0.3,
                      "rgb(253,174,97)"
                    ],
                    [
                      0.4,
                      "rgb(254,224,144)"
                    ],
                    [
                      0.5,
                      "rgb(255,255,191)"
                    ],
                    [
                      0.6,
                      "rgb(224,243,248)"
                    ],
                    [
                      0.7,
                      "rgb(171,217,233)"
                    ],
                    [
                      0.8,
                      "rgb(116,173,209)"
                    ],
                    [
                      0.9,
                      "rgb(69,117,180)"
                    ],
                    [
                      1,
                      "rgb(49,54,149)"
                    ]
                  ],
                  "x": [
                    0,
                    1,
                    2,
                    3,
                    4
                  ],
                  "y": [
                    "x",
                    "y",
                    "z"
                  ],
                  "z": [
                    [
                      1,
                      2,
                      3,
                      4,
                      5
                    ],
                    [
                      10,
                      20,
                      30,
                      20,
                      10
                    ],
                    [
                      5,
                      4,
                      3,
                      2,
                      1
                    ]
                  ],
                  "type": "surface"
                }
              ],
              "layout": {
                "legend": {
                  "bgcolor": "#F5F6F9",
                  "font": {
                    "color": "#4D5663"
                  }
                },
                "paper_bgcolor": "#F5F6F9",
                "plot_bgcolor": "#F5F6F9",
                "template": {
                  "data": {
                    "barpolar": [
                      {
                        "marker": {
                          "line": {
                            "color": "#E5ECF6",
                            "width": 0.5
                          },
                          "pattern": {
                            "fillmode": "overlay",
                            "size": 10,
                            "solidity": 0.2
                          }
                        },
                        "type": "barpolar"
                      }
                    ],
                    "bar": [
                      {
                        "error_x": {
                          "color": "#2a3f5f"
                        },
                        "error_y": {
                          "color": "#2a3f5f"
                        },
                        "marker": {
                          "line": {
                            "color": "#E5ECF6",
                            "width": 0.5
                          },
                          "pattern": {
                            "fillmode": "overlay",
                            "size": 10,
                            "solidity": 0.2
                          }
                        },
                        "type": "bar"
                      }
                    ],
                    "carpet": [
                      {
                        "aaxis": {
                          "endlinecolor": "#2a3f5f",
                          "gridcolor": "white",
                          "linecolor": "white",
                          "minorgridcolor": "white",
                          "startlinecolor": "#2a3f5f"
                        },
                        "baxis": {
                          "endlinecolor": "#2a3f5f",
                          "gridcolor": "white",
                          "linecolor": "white",
                          "minorgridcolor": "white",
                          "startlinecolor": "#2a3f5f"
                        },
                        "type": "carpet"
                      }
                    ],
                    "choropleth": [
                      {
                        "colorbar": {
                          "outlinewidth": 0,
                          "ticks": ""
                        },
                        "type": "choropleth"
                      }
                    ],
                    "contourcarpet": [
                      {
                        "colorbar": {
                          "outlinewidth": 0,
                          "ticks": ""
                        },
                        "type": "contourcarpet"
                      }
                    ],
                    "contour": [
                      {
                        "colorbar": {
                          "outlinewidth": 0,
                          "ticks": ""
                        },
                        "colorscale": [
                          [
                            0,
                            "#0d0887"
                          ],
                          [
                            0.1111111111111111,
                            "#46039f"
                          ],
                          [
                            0.2222222222222222,
                            "#7201a8"
                          ],
                          [
                            0.3333333333333333,
                            "#9c179e"
                          ],
                          [
                            0.4444444444444444,
                            "#bd3786"
                          ],
                          [
                            0.5555555555555556,
                            "#d8576b"
                          ],
                          [
                            0.6666666666666666,
                            "#ed7953"
                          ],
                          [
                            0.7777777777777778,
                            "#fb9f3a"
                          ],
                          [
                            0.8888888888888888,
                            "#fdca26"
                          ],
                          [
                            1,
                            "#f0f921"
                          ]
                        ],
                        "type": "contour"
                      }
                    ],
                    "heatmapgl": [
                      {
                        "colorbar": {
                          "outlinewidth": 0,
                          "ticks": ""
                        },
                        "colorscale": [
                          [
                            0,
                            "#0d0887"
                          ],
                          [
                            0.1111111111111111,
                            "#46039f"
                          ],
                          [
                            0.2222222222222222,
                            "#7201a8"
                          ],
                          [
                            0.3333333333333333,
                            "#9c179e"
                          ],
                          [
                            0.4444444444444444,
                            "#bd3786"
                          ],
                          [
                            0.5555555555555556,
                            "#d8576b"
                          ],
                          [
                            0.6666666666666666,
                            "#ed7953"
                          ],
                          [
                            0.7777777777777778,
                            "#fb9f3a"
                          ],
                          [
                            0.8888888888888888,
                            "#fdca26"
                          ],
                          [
                            1,
                            "#f0f921"
                          ]
                        ],
                        "type": "heatmapgl"
                      }
                    ],
                    "heatmap": [
                      {
                        "colorbar": {
                          "outlinewidth": 0,
                          "ticks": ""
                        },
                        "colorscale": [
                          [
                            0,
                            "#0d0887"
                          ],
                          [
                            0.1111111111111111,
                            "#46039f"
                          ],
                          [
                            0.2222222222222222,
                            "#7201a8"
                          ],
                          [
                            0.3333333333333333,
                            "#9c179e"
                          ],
                          [
                            0.4444444444444444,
                            "#bd3786"
                          ],
                          [
                            0.5555555555555556,
                            "#d8576b"
                          ],
                          [
                            0.6666666666666666,
                            "#ed7953"
                          ],
                          [
                            0.7777777777777778,
                            "#fb9f3a"
                          ],
                          [
                            0.8888888888888888,
                            "#fdca26"
                          ],
                          [
                            1,
                            "#f0f921"
                          ]
                        ],
                        "type": "heatmap"
                      }
                    ],
                    "histogram2dcontour": [
                      {
                        "colorbar": {
                          "outlinewidth": 0,
                          "ticks": ""
                        },
                        "colorscale": [
                          [
                            0,
                            "#0d0887"
                          ],
                          [
                            0.1111111111111111,
                            "#46039f"
                          ],
                          [
                            0.2222222222222222,
                            "#7201a8"
                          ],
                          [
                            0.3333333333333333,
                            "#9c179e"
                          ],
                          [
                            0.4444444444444444,
                            "#bd3786"
                          ],
                          [
                            0.5555555555555556,
                            "#d8576b"
                          ],
                          [
                            0.6666666666666666,
                            "#ed7953"
                          ],
                          [
                            0.7777777777777778,
                            "#fb9f3a"
                          ],
                          [
                            0.8888888888888888,
                            "#fdca26"
                          ],
                          [
                            1,
                            "#f0f921"
                          ]
                        ],
                        "type": "histogram2dcontour"
                      }
                    ],
                    "histogram2d": [
                      {
                        "colorbar": {
                          "outlinewidth": 0,
                          "ticks": ""
                        },
                        "colorscale": [
                          [
                            0,
                            "#0d0887"
                          ],
                          [
                            0.1111111111111111,
                            "#46039f"
                          ],
                          [
                            0.2222222222222222,
                            "#7201a8"
                          ],
                          [
                            0.3333333333333333,
                            "#9c179e"
                          ],
                          [
                            0.4444444444444444,
                            "#bd3786"
                          ],
                          [
                            0.5555555555555556,
                            "#d8576b"
                          ],
                          [
                            0.6666666666666666,
                            "#ed7953"
                          ],
                          [
                            0.7777777777777778,
                            "#fb9f3a"
                          ],
                          [
                            0.8888888888888888,
                            "#fdca26"
                          ],
                          [
                            1,
                            "#f0f921"
                          ]
                        ],
                        "type": "histogram2d"
                      }
                    ],
                    "histogram": [
                      {
                        "marker": {
                          "pattern": {
                            "fillmode": "overlay",
                            "size": 10,
                            "solidity": 0.2
                          }
                        },
                        "type": "histogram"
                      }
                    ],
                    "mesh3d": [
                      {
                        "colorbar": {
                          "outlinewidth": 0,
                          "ticks": ""
                        },
                        "type": "mesh3d"
                      }
                    ],
                    "parcoords": [
                      {
                        "line": {
                          "colorbar": {
                            "outlinewidth": 0,
                            "ticks": ""
                          }
                        },
                        "type": "parcoords"
                      }
                    ],
                    "pie": [
                      {
                        "automargin": true,
                        "type": "pie"
                      }
                    ],
                    "scatter3d": [
                      {
                        "line": {
                          "colorbar": {
                            "outlinewidth": 0,
                            "ticks": ""
                          }
                        },
                        "marker": {
                          "colorbar": {
                            "outlinewidth": 0,
                            "ticks": ""
                          }
                        },
                        "type": "scatter3d"
                      }
                    ],
                    "scattercarpet": [
                      {
                        "marker": {
                          "colorbar": {
                            "outlinewidth": 0,
                            "ticks": ""
                          }
                        },
                        "type": "scattercarpet"
                      }
                    ],
                    "scattergeo": [
                      {
                        "marker": {
                          "colorbar": {
                            "outlinewidth": 0,
                            "ticks": ""
                          }
                        },
                        "type": "scattergeo"
                      }
                    ],
                    "scattergl": [
                      {
                        "marker": {
                          "colorbar": {
                            "outlinewidth": 0,
                            "ticks": ""
                          }
                        },
                        "type": "scattergl"
                      }
                    ],
                    "scattermapbox": [
                      {
                        "marker": {
                          "colorbar": {
                            "outlinewidth": 0,
                            "ticks": ""
                          }
                        },
                        "type": "scattermapbox"
                      }
                    ],
                    "scatterpolargl": [
                      {
                        "marker": {
                          "colorbar": {
                            "outlinewidth": 0,
                            "ticks": ""
                          }
                        },
                        "type": "scatterpolargl"
                      }
                    ],
                    "scatterpolar": [
                      {
                        "marker": {
                          "colorbar": {
                            "outlinewidth": 0,
                            "ticks": ""
                          }
                        },
                        "type": "scatterpolar"
                      }
                    ],
                    "scatter": [
                      {
                        "marker": {
                          "colorbar": {
                            "outlinewidth": 0,
                            "ticks": ""
                          }
                        },
                        "type": "scatter"
                      }
                    ],
                    "scatterternary": [
                      {
                        "marker": {
                          "colorbar": {
                            "outlinewidth": 0,
                            "ticks": ""
                          }
                        },
                        "type": "scatterternary"
                      }
                    ],
                    "surface": [
                      {
                        "colorbar": {
                          "outlinewidth": 0,
                          "ticks": ""
                        },
                        "colorscale": [
                          [
                            0,
                            "#0d0887"
                          ],
                          [
                            0.1111111111111111,
                            "#46039f"
                          ],
                          [
                            0.2222222222222222,
                            "#7201a8"
                          ],
                          [
                            0.3333333333333333,
                            "#9c179e"
                          ],
                          [
                            0.4444444444444444,
                            "#bd3786"
                          ],
                          [
                            0.5555555555555556,
                            "#d8576b"
                          ],
                          [
                            0.6666666666666666,
                            "#ed7953"
                          ],
                          [
                            0.7777777777777778,
                            "#fb9f3a"
                          ],
                          [
                            0.8888888888888888,
                            "#fdca26"
                          ],
                          [
                            1,
                            "#f0f921"
                          ]
                        ],
                        "type": "surface"
                      }
                    ],
                    "table": [
                      {
                        "cells": {
                          "fill": {
                            "color": "#EBF0F8"
                          },
                          "line": {
                            "color": "white"
                          }
                        },
                        "header": {
                          "fill": {
                            "color": "#C8D4E3"
                          },
                          "line": {
                            "color": "white"
                          }
                        },
                        "type": "table"
                      }
                    ]
                  },
                  "layout": {
                    "annotationdefaults": {
                      "arrowcolor": "#2a3f5f",
                      "arrowhead": 0,
                      "arrowwidth": 1
                    },
                    "autotypenumbers": "strict",
                    "coloraxis": {
                      "colorbar": {
                        "outlinewidth": 0,
                        "ticks": ""
                      }
                    },
                    "colorscale": {
                      "diverging": [
                        [
                          0,
                          "#8e0152"
                        ],
                        [
                          0.1,
                          "#c51b7d"
                        ],
                        [
                          0.2,
                          "#de77ae"
                        ],
                        [
                          0.3,
                          "#f1b6da"
                        ],
                        [
                          0.4,
                          "#fde0ef"
                        ],
                        [
                          0.5,
                          "#f7f7f7"
                        ],
                        [
                          0.6,
                          "#e6f5d0"
                        ],
                        [
                          0.7,
                          "#b8e186"
                        ],
                        [
                          0.8,
                          "#7fbc41"
                        ],
                        [
                          0.9,
                          "#4d9221"
                        ],
                        [
                          1,
                          "#276419"
                        ]
                      ],
                      "sequential": [
                        [
                          0,
                          "#0d0887"
                        ],
                        [
                          0.1111111111111111,
                          "#46039f"
                        ],
                        [
                          0.2222222222222222,
                          "#7201a8"
                        ],
                        [
                          0.3333333333333333,
                          "#9c179e"
                        ],
                        [
                          0.4444444444444444,
                          "#bd3786"
                        ],
                        [
                          0.5555555555555556,
                          "#d8576b"
                        ],
                        [
                          0.6666666666666666,
                          "#ed7953"
                        ],
                        [
                          0.7777777777777778,
                          "#fb9f3a"
                        ],
                        [
                          0.8888888888888888,
                          "#fdca26"
                        ],
                        [
                          1,
                          "#f0f921"
                        ]
                      ],
                      "sequentialminus": [
                        [
                          0,
                          "#0d0887"
                        ],
                        [
                          0.1111111111111111,
                          "#46039f"
                        ],
                        [
                          0.2222222222222222,
                          "#7201a8"
                        ],
                        [
                          0.3333333333333333,
                          "#9c179e"
                        ],
                        [
                          0.4444444444444444,
                          "#bd3786"
                        ],
                        [
                          0.5555555555555556,
                          "#d8576b"
                        ],
                        [
                          0.6666666666666666,
                          "#ed7953"
                        ],
                        [
                          0.7777777777777778,
                          "#fb9f3a"
                        ],
                        [
                          0.8888888888888888,
                          "#fdca26"
                        ],
                        [
                          1,
                          "#f0f921"
                        ]
                      ]
                    },
                    "colorway": [
                      "#636efa",
                      "#EF553B",
                      "#00cc96",
                      "#ab63fa",
                      "#FFA15A",
                      "#19d3f3",
                      "#FF6692",
                      "#B6E880",
                      "#FF97FF",
                      "#FECB52"
                    ],
                    "font": {
                      "color": "#2a3f5f"
                    },
                    "geo": {
                      "bgcolor": "white",
                      "lakecolor": "white",
                      "landcolor": "#E5ECF6",
                      "showlakes": true,
                      "showland": true,
                      "subunitcolor": "white"
                    },
                    "hoverlabel": {
                      "align": "left"
                    },
                    "hovermode": "closest",
                    "mapbox": {
                      "style": "light"
                    },
                    "paper_bgcolor": "white",
                    "plot_bgcolor": "#E5ECF6",
                    "polar": {
                      "angularaxis": {
                        "gridcolor": "white",
                        "linecolor": "white",
                        "ticks": ""
                      },
                      "bgcolor": "#E5ECF6",
                      "radialaxis": {
                        "gridcolor": "white",
                        "linecolor": "white",
                        "ticks": ""
                      }
                    },
                    "scene": {
                      "xaxis": {
                        "backgroundcolor": "#E5ECF6",
                        "gridcolor": "white",
                        "gridwidth": 2,
                        "linecolor": "white",
                        "showbackground": true,
                        "ticks": "",
                        "zerolinecolor": "white"
                      },
                      "yaxis": {
                        "backgroundcolor": "#E5ECF6",
                        "gridcolor": "white",
                        "gridwidth": 2,
                        "linecolor": "white",
                        "showbackground": true,
                        "ticks": "",
                        "zerolinecolor": "white"
                      },
                      "zaxis": {
                        "backgroundcolor": "#E5ECF6",
                        "gridcolor": "white",
                        "gridwidth": 2,
                        "linecolor": "white",
                        "showbackground": true,
                        "ticks": "",
                        "zerolinecolor": "white"
                      }
                    },
                    "shapedefaults": {
                      "line": {
                        "color": "#2a3f5f"
                      }
                    },
                    "ternary": {
                      "aaxis": {
                        "gridcolor": "white",
                        "linecolor": "white",
                        "ticks": ""
                      },
                      "baxis": {
                        "gridcolor": "white",
                        "linecolor": "white",
                        "ticks": ""
                      },
                      "bgcolor": "#E5ECF6",
                      "caxis": {
                        "gridcolor": "white",
                        "linecolor": "white",
                        "ticks": ""
                      }
                    },
                    "title": {
                      "x": 0.05
                    },
                    "xaxis": {
                      "automargin": true,
                      "gridcolor": "white",
                      "linecolor": "white",
                      "ticks": "",
                      "title": {
                        "standoff": 15
                      },
                      "zerolinecolor": "white",
                      "zerolinewidth": 2
                    },
                    "yaxis": {
                      "automargin": true,
                      "gridcolor": "white",
                      "linecolor": "white",
                      "ticks": "",
                      "title": {
                        "standoff": 15
                      },
                      "zerolinecolor": "white",
                      "zerolinewidth": 2
                    }
                  }
                },
                "title": {
                  "font": {
                    "color": "#4D5663"
                  }
                },
                "xaxis": {
                  "gridcolor": "#E1E5ED",
                  "showgrid": true,
                  "tickfont": {
                    "color": "#4D5663"
                  },
                  "title": {
                    "font": {
                      "color": "#4D5663"
                    },
                    "text": ""
                  },
                  "zerolinecolor": "#E1E5ED"
                },
                "yaxis": {
                  "gridcolor": "#E1E5ED",
                  "showgrid": true,
                  "tickfont": {
                    "color": "#4D5663"
                  },
                  "title": {
                    "font": {
                      "color": "#4D5663"
                    },
                    "text": ""
                  },
                  "zerolinecolor": "#E1E5ED"
                }
              },
              "config": {
                "showLink": true,
                "linkText": "Export to plot.ly",
                "plotlyServerURL": "https://plot.ly"
              }
            },
            "text/html": [
              "<div>                            <div id=\"6916f7ae-a522-40eb-961d-795e676f4284\" class=\"plotly-graph-div\" style=\"height:525px; width:100%;\"></div>            <script type=\"text/javascript\">                require([\"plotly\"], function(Plotly) {                    window.PLOTLYENV=window.PLOTLYENV || {};\n",
              "                    window.PLOTLYENV.BASE_URL='https://plot.ly';                                    if (document.getElementById(\"6916f7ae-a522-40eb-961d-795e676f4284\")) {                    Plotly.newPlot(                        \"6916f7ae-a522-40eb-961d-795e676f4284\",                        [{\"colorscale\":[[0.0,\"rgb(165,0,38)\"],[0.1,\"rgb(215,48,39)\"],[0.2,\"rgb(244,109,67)\"],[0.3,\"rgb(253,174,97)\"],[0.4,\"rgb(254,224,144)\"],[0.5,\"rgb(255,255,191)\"],[0.6,\"rgb(224,243,248)\"],[0.7,\"rgb(171,217,233)\"],[0.8,\"rgb(116,173,209)\"],[0.9,\"rgb(69,117,180)\"],[1.0,\"rgb(49,54,149)\"]],\"x\":[0,1,2,3,4],\"y\":[\"x\",\"y\",\"z\"],\"z\":[[1,2,3,4,5],[10,20,30,20,10],[5,4,3,2,1]],\"type\":\"surface\"}],                        {\"legend\":{\"bgcolor\":\"#F5F6F9\",\"font\":{\"color\":\"#4D5663\"}},\"paper_bgcolor\":\"#F5F6F9\",\"plot_bgcolor\":\"#F5F6F9\",\"template\":{\"data\":{\"barpolar\":[{\"marker\":{\"line\":{\"color\":\"#E5ECF6\",\"width\":0.5},\"pattern\":{\"fillmode\":\"overlay\",\"size\":10,\"solidity\":0.2}},\"type\":\"barpolar\"}],\"bar\":[{\"error_x\":{\"color\":\"#2a3f5f\"},\"error_y\":{\"color\":\"#2a3f5f\"},\"marker\":{\"line\":{\"color\":\"#E5ECF6\",\"width\":0.5},\"pattern\":{\"fillmode\":\"overlay\",\"size\":10,\"solidity\":0.2}},\"type\":\"bar\"}],\"carpet\":[{\"aaxis\":{\"endlinecolor\":\"#2a3f5f\",\"gridcolor\":\"white\",\"linecolor\":\"white\",\"minorgridcolor\":\"white\",\"startlinecolor\":\"#2a3f5f\"},\"baxis\":{\"endlinecolor\":\"#2a3f5f\",\"gridcolor\":\"white\",\"linecolor\":\"white\",\"minorgridcolor\":\"white\",\"startlinecolor\":\"#2a3f5f\"},\"type\":\"carpet\"}],\"choropleth\":[{\"colorbar\":{\"outlinewidth\":0,\"ticks\":\"\"},\"type\":\"choropleth\"}],\"contourcarpet\":[{\"colorbar\":{\"outlinewidth\":0,\"ticks\":\"\"},\"type\":\"contourcarpet\"}],\"contour\":[{\"colorbar\":{\"outlinewidth\":0,\"ticks\":\"\"},\"colorscale\":[[0.0,\"#0d0887\"],[0.1111111111111111,\"#46039f\"],[0.2222222222222222,\"#7201a8\"],[0.3333333333333333,\"#9c179e\"],[0.4444444444444444,\"#bd3786\"],[0.5555555555555556,\"#d8576b\"],[0.6666666666666666,\"#ed7953\"],[0.7777777777777778,\"#fb9f3a\"],[0.8888888888888888,\"#fdca26\"],[1.0,\"#f0f921\"]],\"type\":\"contour\"}],\"heatmapgl\":[{\"colorbar\":{\"outlinewidth\":0,\"ticks\":\"\"},\"colorscale\":[[0.0,\"#0d0887\"],[0.1111111111111111,\"#46039f\"],[0.2222222222222222,\"#7201a8\"],[0.3333333333333333,\"#9c179e\"],[0.4444444444444444,\"#bd3786\"],[0.5555555555555556,\"#d8576b\"],[0.6666666666666666,\"#ed7953\"],[0.7777777777777778,\"#fb9f3a\"],[0.8888888888888888,\"#fdca26\"],[1.0,\"#f0f921\"]],\"type\":\"heatmapgl\"}],\"heatmap\":[{\"colorbar\":{\"outlinewidth\":0,\"ticks\":\"\"},\"colorscale\":[[0.0,\"#0d0887\"],[0.1111111111111111,\"#46039f\"],[0.2222222222222222,\"#7201a8\"],[0.3333333333333333,\"#9c179e\"],[0.4444444444444444,\"#bd3786\"],[0.5555555555555556,\"#d8576b\"],[0.6666666666666666,\"#ed7953\"],[0.7777777777777778,\"#fb9f3a\"],[0.8888888888888888,\"#fdca26\"],[1.0,\"#f0f921\"]],\"type\":\"heatmap\"}],\"histogram2dcontour\":[{\"colorbar\":{\"outlinewidth\":0,\"ticks\":\"\"},\"colorscale\":[[0.0,\"#0d0887\"],[0.1111111111111111,\"#46039f\"],[0.2222222222222222,\"#7201a8\"],[0.3333333333333333,\"#9c179e\"],[0.4444444444444444,\"#bd3786\"],[0.5555555555555556,\"#d8576b\"],[0.6666666666666666,\"#ed7953\"],[0.7777777777777778,\"#fb9f3a\"],[0.8888888888888888,\"#fdca26\"],[1.0,\"#f0f921\"]],\"type\":\"histogram2dcontour\"}],\"histogram2d\":[{\"colorbar\":{\"outlinewidth\":0,\"ticks\":\"\"},\"colorscale\":[[0.0,\"#0d0887\"],[0.1111111111111111,\"#46039f\"],[0.2222222222222222,\"#7201a8\"],[0.3333333333333333,\"#9c179e\"],[0.4444444444444444,\"#bd3786\"],[0.5555555555555556,\"#d8576b\"],[0.6666666666666666,\"#ed7953\"],[0.7777777777777778,\"#fb9f3a\"],[0.8888888888888888,\"#fdca26\"],[1.0,\"#f0f921\"]],\"type\":\"histogram2d\"}],\"histogram\":[{\"marker\":{\"pattern\":{\"fillmode\":\"overlay\",\"size\":10,\"solidity\":0.2}},\"type\":\"histogram\"}],\"mesh3d\":[{\"colorbar\":{\"outlinewidth\":0,\"ticks\":\"\"},\"type\":\"mesh3d\"}],\"parcoords\":[{\"line\":{\"colorbar\":{\"outlinewidth\":0,\"ticks\":\"\"}},\"type\":\"parcoords\"}],\"pie\":[{\"automargin\":true,\"type\":\"pie\"}],\"scatter3d\":[{\"line\":{\"colorbar\":{\"outlinewidth\":0,\"ticks\":\"\"}},\"marker\":{\"colorbar\":{\"outlinewidth\":0,\"ticks\":\"\"}},\"type\":\"scatter3d\"}],\"scattercarpet\":[{\"marker\":{\"colorbar\":{\"outlinewidth\":0,\"ticks\":\"\"}},\"type\":\"scattercarpet\"}],\"scattergeo\":[{\"marker\":{\"colorbar\":{\"outlinewidth\":0,\"ticks\":\"\"}},\"type\":\"scattergeo\"}],\"scattergl\":[{\"marker\":{\"colorbar\":{\"outlinewidth\":0,\"ticks\":\"\"}},\"type\":\"scattergl\"}],\"scattermapbox\":[{\"marker\":{\"colorbar\":{\"outlinewidth\":0,\"ticks\":\"\"}},\"type\":\"scattermapbox\"}],\"scatterpolargl\":[{\"marker\":{\"colorbar\":{\"outlinewidth\":0,\"ticks\":\"\"}},\"type\":\"scatterpolargl\"}],\"scatterpolar\":[{\"marker\":{\"colorbar\":{\"outlinewidth\":0,\"ticks\":\"\"}},\"type\":\"scatterpolar\"}],\"scatter\":[{\"marker\":{\"colorbar\":{\"outlinewidth\":0,\"ticks\":\"\"}},\"type\":\"scatter\"}],\"scatterternary\":[{\"marker\":{\"colorbar\":{\"outlinewidth\":0,\"ticks\":\"\"}},\"type\":\"scatterternary\"}],\"surface\":[{\"colorbar\":{\"outlinewidth\":0,\"ticks\":\"\"},\"colorscale\":[[0.0,\"#0d0887\"],[0.1111111111111111,\"#46039f\"],[0.2222222222222222,\"#7201a8\"],[0.3333333333333333,\"#9c179e\"],[0.4444444444444444,\"#bd3786\"],[0.5555555555555556,\"#d8576b\"],[0.6666666666666666,\"#ed7953\"],[0.7777777777777778,\"#fb9f3a\"],[0.8888888888888888,\"#fdca26\"],[1.0,\"#f0f921\"]],\"type\":\"surface\"}],\"table\":[{\"cells\":{\"fill\":{\"color\":\"#EBF0F8\"},\"line\":{\"color\":\"white\"}},\"header\":{\"fill\":{\"color\":\"#C8D4E3\"},\"line\":{\"color\":\"white\"}},\"type\":\"table\"}]},\"layout\":{\"annotationdefaults\":{\"arrowcolor\":\"#2a3f5f\",\"arrowhead\":0,\"arrowwidth\":1},\"autotypenumbers\":\"strict\",\"coloraxis\":{\"colorbar\":{\"outlinewidth\":0,\"ticks\":\"\"}},\"colorscale\":{\"diverging\":[[0,\"#8e0152\"],[0.1,\"#c51b7d\"],[0.2,\"#de77ae\"],[0.3,\"#f1b6da\"],[0.4,\"#fde0ef\"],[0.5,\"#f7f7f7\"],[0.6,\"#e6f5d0\"],[0.7,\"#b8e186\"],[0.8,\"#7fbc41\"],[0.9,\"#4d9221\"],[1,\"#276419\"]],\"sequential\":[[0.0,\"#0d0887\"],[0.1111111111111111,\"#46039f\"],[0.2222222222222222,\"#7201a8\"],[0.3333333333333333,\"#9c179e\"],[0.4444444444444444,\"#bd3786\"],[0.5555555555555556,\"#d8576b\"],[0.6666666666666666,\"#ed7953\"],[0.7777777777777778,\"#fb9f3a\"],[0.8888888888888888,\"#fdca26\"],[1.0,\"#f0f921\"]],\"sequentialminus\":[[0.0,\"#0d0887\"],[0.1111111111111111,\"#46039f\"],[0.2222222222222222,\"#7201a8\"],[0.3333333333333333,\"#9c179e\"],[0.4444444444444444,\"#bd3786\"],[0.5555555555555556,\"#d8576b\"],[0.6666666666666666,\"#ed7953\"],[0.7777777777777778,\"#fb9f3a\"],[0.8888888888888888,\"#fdca26\"],[1.0,\"#f0f921\"]]},\"colorway\":[\"#636efa\",\"#EF553B\",\"#00cc96\",\"#ab63fa\",\"#FFA15A\",\"#19d3f3\",\"#FF6692\",\"#B6E880\",\"#FF97FF\",\"#FECB52\"],\"font\":{\"color\":\"#2a3f5f\"},\"geo\":{\"bgcolor\":\"white\",\"lakecolor\":\"white\",\"landcolor\":\"#E5ECF6\",\"showlakes\":true,\"showland\":true,\"subunitcolor\":\"white\"},\"hoverlabel\":{\"align\":\"left\"},\"hovermode\":\"closest\",\"mapbox\":{\"style\":\"light\"},\"paper_bgcolor\":\"white\",\"plot_bgcolor\":\"#E5ECF6\",\"polar\":{\"angularaxis\":{\"gridcolor\":\"white\",\"linecolor\":\"white\",\"ticks\":\"\"},\"bgcolor\":\"#E5ECF6\",\"radialaxis\":{\"gridcolor\":\"white\",\"linecolor\":\"white\",\"ticks\":\"\"}},\"scene\":{\"xaxis\":{\"backgroundcolor\":\"#E5ECF6\",\"gridcolor\":\"white\",\"gridwidth\":2,\"linecolor\":\"white\",\"showbackground\":true,\"ticks\":\"\",\"zerolinecolor\":\"white\"},\"yaxis\":{\"backgroundcolor\":\"#E5ECF6\",\"gridcolor\":\"white\",\"gridwidth\":2,\"linecolor\":\"white\",\"showbackground\":true,\"ticks\":\"\",\"zerolinecolor\":\"white\"},\"zaxis\":{\"backgroundcolor\":\"#E5ECF6\",\"gridcolor\":\"white\",\"gridwidth\":2,\"linecolor\":\"white\",\"showbackground\":true,\"ticks\":\"\",\"zerolinecolor\":\"white\"}},\"shapedefaults\":{\"line\":{\"color\":\"#2a3f5f\"}},\"ternary\":{\"aaxis\":{\"gridcolor\":\"white\",\"linecolor\":\"white\",\"ticks\":\"\"},\"baxis\":{\"gridcolor\":\"white\",\"linecolor\":\"white\",\"ticks\":\"\"},\"bgcolor\":\"#E5ECF6\",\"caxis\":{\"gridcolor\":\"white\",\"linecolor\":\"white\",\"ticks\":\"\"}},\"title\":{\"x\":0.05},\"xaxis\":{\"automargin\":true,\"gridcolor\":\"white\",\"linecolor\":\"white\",\"ticks\":\"\",\"title\":{\"standoff\":15},\"zerolinecolor\":\"white\",\"zerolinewidth\":2},\"yaxis\":{\"automargin\":true,\"gridcolor\":\"white\",\"linecolor\":\"white\",\"ticks\":\"\",\"title\":{\"standoff\":15},\"zerolinecolor\":\"white\",\"zerolinewidth\":2}}},\"title\":{\"font\":{\"color\":\"#4D5663\"}},\"xaxis\":{\"gridcolor\":\"#E1E5ED\",\"showgrid\":true,\"tickfont\":{\"color\":\"#4D5663\"},\"title\":{\"font\":{\"color\":\"#4D5663\"},\"text\":\"\"},\"zerolinecolor\":\"#E1E5ED\"},\"yaxis\":{\"gridcolor\":\"#E1E5ED\",\"showgrid\":true,\"tickfont\":{\"color\":\"#4D5663\"},\"title\":{\"font\":{\"color\":\"#4D5663\"},\"text\":\"\"},\"zerolinecolor\":\"#E1E5ED\"}},                        {\"showLink\": true, \"linkText\": \"Export to plot.ly\", \"plotlyServerURL\": \"https://plot.ly\", \"responsive\": true}                    ).then(function(){\n",
              "                            \n",
              "var gd = document.getElementById('6916f7ae-a522-40eb-961d-795e676f4284');\n",
              "var x = new MutationObserver(function (mutations, observer) {{\n",
              "        var display = window.getComputedStyle(gd).display;\n",
              "        if (!display || display === 'none') {{\n",
              "            console.log([gd, 'removed!']);\n",
              "            Plotly.purge(gd);\n",
              "            observer.disconnect();\n",
              "        }}\n",
              "}});\n",
              "\n",
              "// Listen for the removal of the full notebook cells\n",
              "var notebookContainer = gd.closest('#notebook-container');\n",
              "if (notebookContainer) {{\n",
              "    x.observe(notebookContainer, {childList: true});\n",
              "}}\n",
              "\n",
              "// Listen for the clearing of the current output cell\n",
              "var outputEl = gd.closest('.output');\n",
              "if (outputEl) {{\n",
              "    x.observe(outputEl, {childList: true});\n",
              "}}\n",
              "\n",
              "                        })                };                });            </script>        </div>"
            ]
          },
          "metadata": {}
        }
      ],
      "source": [
        "df3 = pd.DataFrame({'x':[1,2,3,4,5],'y':[10,20,30,20,10],'z':[5,4,3,2,1]})\n",
        "df3.iplot(kind='surface',colorscale='rdylbu')"
      ]
    },
    {
      "cell_type": "markdown",
      "metadata": {
        "id": "FUz1AkgcK5le"
      },
      "source": [
        "## histogram"
      ]
    },
    {
      "cell_type": "code",
      "execution_count": null,
      "metadata": {
        "colab": {
          "base_uri": "https://localhost:8080/",
          "height": 542
        },
        "id": "9HxVyjjMK5lf",
        "outputId": "89dcaf13-e121-4f5a-8c56-4839358afa12"
      },
      "outputs": [
        {
          "output_type": "display_data",
          "data": {
            "application/vnd.plotly.v1+json": {
              "data": [
                {
                  "histfunc": "count",
                  "histnorm": "",
                  "marker": {
                    "color": "rgba(255, 153, 51, 1.0)",
                    "line": {
                      "color": "#4D5663",
                      "width": 1.3
                    }
                  },
                  "name": "A",
                  "nbinsx": 25,
                  "opacity": 0.8,
                  "orientation": "v",
                  "x": [
                    0.0178114694854835,
                    0.6503752891210457,
                    1.4746556294415147,
                    -0.002867505410992792,
                    -0.7757917649856074,
                    0.7662726192537015,
                    1.0664749327062275,
                    -0.11692736502946699,
                    0.3306590500365512,
                    -0.6039709270655202,
                    2.3235131537725375,
                    -1.581925335224607,
                    0.015324694821562445,
                    0.7668724051627919,
                    0.5449217852329432,
                    -1.5393392248297437,
                    0.8826309337533468,
                    -0.42177731108365596,
                    0.6252953354329761,
                    0.9475458834299388,
                    0.16638344745317185,
                    0.5872486334340409,
                    0.7331878127127393,
                    -0.8712133576574608,
                    0.02218394918355038,
                    -0.6013339495862363,
                    -1.756229955636603,
                    -1.9819893580331447,
                    1.3825585253185222,
                    0.18483164136281052,
                    -1.2679341148034344,
                    0.9949380071155695,
                    -1.1476115696647307,
                    -0.6479204186113192,
                    -0.3789275877400645,
                    0.2493338620032875,
                    1.4201510261872716,
                    -1.0503815196700217,
                    1.0554704075679069,
                    -1.0293234615296152,
                    -1.0822796524356448,
                    0.7684855357339191,
                    2.5192161436818195,
                    -1.9117744538897679,
                    1.5931709732081492,
                    0.5205078111864689,
                    -0.9035063004328567,
                    -0.039536779019681174,
                    0.013421263122439244,
                    -1.354389863999936,
                    0.20741889935212338,
                    -2.12861161880051,
                    -0.5361385106295921,
                    0.38466904193579843,
                    0.5746526914220886,
                    -0.870127691386053,
                    -0.00021741926349469498,
                    1.3073415839337295,
                    -0.3230346369356965,
                    -1.4318585137200077,
                    0.742678531238043,
                    -0.08997843766330833,
                    -0.9296646722359696,
                    -0.07779540095102579,
                    -0.46929144505777076,
                    0.008368761820374822,
                    -0.613299214024739,
                    1.1584825020371716,
                    -0.47277585985662945,
                    0.03805037863533173,
                    -1.127629142630456,
                    1.1062032945972584,
                    1.338797608931247,
                    -0.3109914547842166,
                    0.21070722316844118,
                    -0.15525145173830632,
                    -0.9436284343977237,
                    0.8405189744616796,
                    0.7194053183545105,
                    -0.5898131143539371,
                    0.11078070545200325,
                    -0.9101033501429266,
                    -0.2760212578221692,
                    -0.06121843562570686,
                    0.22082764961571158,
                    -0.8087040146874948,
                    -0.24795260940063577,
                    -0.18500473992804137,
                    -1.1261930084640464,
                    0.25926065036018053,
                    1.0626956597526414,
                    -0.29189730205400105,
                    1.4649070470221661,
                    0.15330410358902066,
                    -0.9135301588123295,
                    -1.5586000323884628,
                    0.7016050667461048,
                    -0.3143015581881234,
                    -0.41706765214680636,
                    -0.3921961494111043
                  ],
                  "type": "histogram"
                }
              ],
              "layout": {
                "barmode": "overlay",
                "legend": {
                  "bgcolor": "#F5F6F9",
                  "font": {
                    "color": "#4D5663"
                  }
                },
                "paper_bgcolor": "#F5F6F9",
                "plot_bgcolor": "#F5F6F9",
                "template": {
                  "data": {
                    "barpolar": [
                      {
                        "marker": {
                          "line": {
                            "color": "#E5ECF6",
                            "width": 0.5
                          },
                          "pattern": {
                            "fillmode": "overlay",
                            "size": 10,
                            "solidity": 0.2
                          }
                        },
                        "type": "barpolar"
                      }
                    ],
                    "bar": [
                      {
                        "error_x": {
                          "color": "#2a3f5f"
                        },
                        "error_y": {
                          "color": "#2a3f5f"
                        },
                        "marker": {
                          "line": {
                            "color": "#E5ECF6",
                            "width": 0.5
                          },
                          "pattern": {
                            "fillmode": "overlay",
                            "size": 10,
                            "solidity": 0.2
                          }
                        },
                        "type": "bar"
                      }
                    ],
                    "carpet": [
                      {
                        "aaxis": {
                          "endlinecolor": "#2a3f5f",
                          "gridcolor": "white",
                          "linecolor": "white",
                          "minorgridcolor": "white",
                          "startlinecolor": "#2a3f5f"
                        },
                        "baxis": {
                          "endlinecolor": "#2a3f5f",
                          "gridcolor": "white",
                          "linecolor": "white",
                          "minorgridcolor": "white",
                          "startlinecolor": "#2a3f5f"
                        },
                        "type": "carpet"
                      }
                    ],
                    "choropleth": [
                      {
                        "colorbar": {
                          "outlinewidth": 0,
                          "ticks": ""
                        },
                        "type": "choropleth"
                      }
                    ],
                    "contourcarpet": [
                      {
                        "colorbar": {
                          "outlinewidth": 0,
                          "ticks": ""
                        },
                        "type": "contourcarpet"
                      }
                    ],
                    "contour": [
                      {
                        "colorbar": {
                          "outlinewidth": 0,
                          "ticks": ""
                        },
                        "colorscale": [
                          [
                            0,
                            "#0d0887"
                          ],
                          [
                            0.1111111111111111,
                            "#46039f"
                          ],
                          [
                            0.2222222222222222,
                            "#7201a8"
                          ],
                          [
                            0.3333333333333333,
                            "#9c179e"
                          ],
                          [
                            0.4444444444444444,
                            "#bd3786"
                          ],
                          [
                            0.5555555555555556,
                            "#d8576b"
                          ],
                          [
                            0.6666666666666666,
                            "#ed7953"
                          ],
                          [
                            0.7777777777777778,
                            "#fb9f3a"
                          ],
                          [
                            0.8888888888888888,
                            "#fdca26"
                          ],
                          [
                            1,
                            "#f0f921"
                          ]
                        ],
                        "type": "contour"
                      }
                    ],
                    "heatmapgl": [
                      {
                        "colorbar": {
                          "outlinewidth": 0,
                          "ticks": ""
                        },
                        "colorscale": [
                          [
                            0,
                            "#0d0887"
                          ],
                          [
                            0.1111111111111111,
                            "#46039f"
                          ],
                          [
                            0.2222222222222222,
                            "#7201a8"
                          ],
                          [
                            0.3333333333333333,
                            "#9c179e"
                          ],
                          [
                            0.4444444444444444,
                            "#bd3786"
                          ],
                          [
                            0.5555555555555556,
                            "#d8576b"
                          ],
                          [
                            0.6666666666666666,
                            "#ed7953"
                          ],
                          [
                            0.7777777777777778,
                            "#fb9f3a"
                          ],
                          [
                            0.8888888888888888,
                            "#fdca26"
                          ],
                          [
                            1,
                            "#f0f921"
                          ]
                        ],
                        "type": "heatmapgl"
                      }
                    ],
                    "heatmap": [
                      {
                        "colorbar": {
                          "outlinewidth": 0,
                          "ticks": ""
                        },
                        "colorscale": [
                          [
                            0,
                            "#0d0887"
                          ],
                          [
                            0.1111111111111111,
                            "#46039f"
                          ],
                          [
                            0.2222222222222222,
                            "#7201a8"
                          ],
                          [
                            0.3333333333333333,
                            "#9c179e"
                          ],
                          [
                            0.4444444444444444,
                            "#bd3786"
                          ],
                          [
                            0.5555555555555556,
                            "#d8576b"
                          ],
                          [
                            0.6666666666666666,
                            "#ed7953"
                          ],
                          [
                            0.7777777777777778,
                            "#fb9f3a"
                          ],
                          [
                            0.8888888888888888,
                            "#fdca26"
                          ],
                          [
                            1,
                            "#f0f921"
                          ]
                        ],
                        "type": "heatmap"
                      }
                    ],
                    "histogram2dcontour": [
                      {
                        "colorbar": {
                          "outlinewidth": 0,
                          "ticks": ""
                        },
                        "colorscale": [
                          [
                            0,
                            "#0d0887"
                          ],
                          [
                            0.1111111111111111,
                            "#46039f"
                          ],
                          [
                            0.2222222222222222,
                            "#7201a8"
                          ],
                          [
                            0.3333333333333333,
                            "#9c179e"
                          ],
                          [
                            0.4444444444444444,
                            "#bd3786"
                          ],
                          [
                            0.5555555555555556,
                            "#d8576b"
                          ],
                          [
                            0.6666666666666666,
                            "#ed7953"
                          ],
                          [
                            0.7777777777777778,
                            "#fb9f3a"
                          ],
                          [
                            0.8888888888888888,
                            "#fdca26"
                          ],
                          [
                            1,
                            "#f0f921"
                          ]
                        ],
                        "type": "histogram2dcontour"
                      }
                    ],
                    "histogram2d": [
                      {
                        "colorbar": {
                          "outlinewidth": 0,
                          "ticks": ""
                        },
                        "colorscale": [
                          [
                            0,
                            "#0d0887"
                          ],
                          [
                            0.1111111111111111,
                            "#46039f"
                          ],
                          [
                            0.2222222222222222,
                            "#7201a8"
                          ],
                          [
                            0.3333333333333333,
                            "#9c179e"
                          ],
                          [
                            0.4444444444444444,
                            "#bd3786"
                          ],
                          [
                            0.5555555555555556,
                            "#d8576b"
                          ],
                          [
                            0.6666666666666666,
                            "#ed7953"
                          ],
                          [
                            0.7777777777777778,
                            "#fb9f3a"
                          ],
                          [
                            0.8888888888888888,
                            "#fdca26"
                          ],
                          [
                            1,
                            "#f0f921"
                          ]
                        ],
                        "type": "histogram2d"
                      }
                    ],
                    "histogram": [
                      {
                        "marker": {
                          "pattern": {
                            "fillmode": "overlay",
                            "size": 10,
                            "solidity": 0.2
                          }
                        },
                        "type": "histogram"
                      }
                    ],
                    "mesh3d": [
                      {
                        "colorbar": {
                          "outlinewidth": 0,
                          "ticks": ""
                        },
                        "type": "mesh3d"
                      }
                    ],
                    "parcoords": [
                      {
                        "line": {
                          "colorbar": {
                            "outlinewidth": 0,
                            "ticks": ""
                          }
                        },
                        "type": "parcoords"
                      }
                    ],
                    "pie": [
                      {
                        "automargin": true,
                        "type": "pie"
                      }
                    ],
                    "scatter3d": [
                      {
                        "line": {
                          "colorbar": {
                            "outlinewidth": 0,
                            "ticks": ""
                          }
                        },
                        "marker": {
                          "colorbar": {
                            "outlinewidth": 0,
                            "ticks": ""
                          }
                        },
                        "type": "scatter3d"
                      }
                    ],
                    "scattercarpet": [
                      {
                        "marker": {
                          "colorbar": {
                            "outlinewidth": 0,
                            "ticks": ""
                          }
                        },
                        "type": "scattercarpet"
                      }
                    ],
                    "scattergeo": [
                      {
                        "marker": {
                          "colorbar": {
                            "outlinewidth": 0,
                            "ticks": ""
                          }
                        },
                        "type": "scattergeo"
                      }
                    ],
                    "scattergl": [
                      {
                        "marker": {
                          "colorbar": {
                            "outlinewidth": 0,
                            "ticks": ""
                          }
                        },
                        "type": "scattergl"
                      }
                    ],
                    "scattermapbox": [
                      {
                        "marker": {
                          "colorbar": {
                            "outlinewidth": 0,
                            "ticks": ""
                          }
                        },
                        "type": "scattermapbox"
                      }
                    ],
                    "scatterpolargl": [
                      {
                        "marker": {
                          "colorbar": {
                            "outlinewidth": 0,
                            "ticks": ""
                          }
                        },
                        "type": "scatterpolargl"
                      }
                    ],
                    "scatterpolar": [
                      {
                        "marker": {
                          "colorbar": {
                            "outlinewidth": 0,
                            "ticks": ""
                          }
                        },
                        "type": "scatterpolar"
                      }
                    ],
                    "scatter": [
                      {
                        "marker": {
                          "colorbar": {
                            "outlinewidth": 0,
                            "ticks": ""
                          }
                        },
                        "type": "scatter"
                      }
                    ],
                    "scatterternary": [
                      {
                        "marker": {
                          "colorbar": {
                            "outlinewidth": 0,
                            "ticks": ""
                          }
                        },
                        "type": "scatterternary"
                      }
                    ],
                    "surface": [
                      {
                        "colorbar": {
                          "outlinewidth": 0,
                          "ticks": ""
                        },
                        "colorscale": [
                          [
                            0,
                            "#0d0887"
                          ],
                          [
                            0.1111111111111111,
                            "#46039f"
                          ],
                          [
                            0.2222222222222222,
                            "#7201a8"
                          ],
                          [
                            0.3333333333333333,
                            "#9c179e"
                          ],
                          [
                            0.4444444444444444,
                            "#bd3786"
                          ],
                          [
                            0.5555555555555556,
                            "#d8576b"
                          ],
                          [
                            0.6666666666666666,
                            "#ed7953"
                          ],
                          [
                            0.7777777777777778,
                            "#fb9f3a"
                          ],
                          [
                            0.8888888888888888,
                            "#fdca26"
                          ],
                          [
                            1,
                            "#f0f921"
                          ]
                        ],
                        "type": "surface"
                      }
                    ],
                    "table": [
                      {
                        "cells": {
                          "fill": {
                            "color": "#EBF0F8"
                          },
                          "line": {
                            "color": "white"
                          }
                        },
                        "header": {
                          "fill": {
                            "color": "#C8D4E3"
                          },
                          "line": {
                            "color": "white"
                          }
                        },
                        "type": "table"
                      }
                    ]
                  },
                  "layout": {
                    "annotationdefaults": {
                      "arrowcolor": "#2a3f5f",
                      "arrowhead": 0,
                      "arrowwidth": 1
                    },
                    "autotypenumbers": "strict",
                    "coloraxis": {
                      "colorbar": {
                        "outlinewidth": 0,
                        "ticks": ""
                      }
                    },
                    "colorscale": {
                      "diverging": [
                        [
                          0,
                          "#8e0152"
                        ],
                        [
                          0.1,
                          "#c51b7d"
                        ],
                        [
                          0.2,
                          "#de77ae"
                        ],
                        [
                          0.3,
                          "#f1b6da"
                        ],
                        [
                          0.4,
                          "#fde0ef"
                        ],
                        [
                          0.5,
                          "#f7f7f7"
                        ],
                        [
                          0.6,
                          "#e6f5d0"
                        ],
                        [
                          0.7,
                          "#b8e186"
                        ],
                        [
                          0.8,
                          "#7fbc41"
                        ],
                        [
                          0.9,
                          "#4d9221"
                        ],
                        [
                          1,
                          "#276419"
                        ]
                      ],
                      "sequential": [
                        [
                          0,
                          "#0d0887"
                        ],
                        [
                          0.1111111111111111,
                          "#46039f"
                        ],
                        [
                          0.2222222222222222,
                          "#7201a8"
                        ],
                        [
                          0.3333333333333333,
                          "#9c179e"
                        ],
                        [
                          0.4444444444444444,
                          "#bd3786"
                        ],
                        [
                          0.5555555555555556,
                          "#d8576b"
                        ],
                        [
                          0.6666666666666666,
                          "#ed7953"
                        ],
                        [
                          0.7777777777777778,
                          "#fb9f3a"
                        ],
                        [
                          0.8888888888888888,
                          "#fdca26"
                        ],
                        [
                          1,
                          "#f0f921"
                        ]
                      ],
                      "sequentialminus": [
                        [
                          0,
                          "#0d0887"
                        ],
                        [
                          0.1111111111111111,
                          "#46039f"
                        ],
                        [
                          0.2222222222222222,
                          "#7201a8"
                        ],
                        [
                          0.3333333333333333,
                          "#9c179e"
                        ],
                        [
                          0.4444444444444444,
                          "#bd3786"
                        ],
                        [
                          0.5555555555555556,
                          "#d8576b"
                        ],
                        [
                          0.6666666666666666,
                          "#ed7953"
                        ],
                        [
                          0.7777777777777778,
                          "#fb9f3a"
                        ],
                        [
                          0.8888888888888888,
                          "#fdca26"
                        ],
                        [
                          1,
                          "#f0f921"
                        ]
                      ]
                    },
                    "colorway": [
                      "#636efa",
                      "#EF553B",
                      "#00cc96",
                      "#ab63fa",
                      "#FFA15A",
                      "#19d3f3",
                      "#FF6692",
                      "#B6E880",
                      "#FF97FF",
                      "#FECB52"
                    ],
                    "font": {
                      "color": "#2a3f5f"
                    },
                    "geo": {
                      "bgcolor": "white",
                      "lakecolor": "white",
                      "landcolor": "#E5ECF6",
                      "showlakes": true,
                      "showland": true,
                      "subunitcolor": "white"
                    },
                    "hoverlabel": {
                      "align": "left"
                    },
                    "hovermode": "closest",
                    "mapbox": {
                      "style": "light"
                    },
                    "paper_bgcolor": "white",
                    "plot_bgcolor": "#E5ECF6",
                    "polar": {
                      "angularaxis": {
                        "gridcolor": "white",
                        "linecolor": "white",
                        "ticks": ""
                      },
                      "bgcolor": "#E5ECF6",
                      "radialaxis": {
                        "gridcolor": "white",
                        "linecolor": "white",
                        "ticks": ""
                      }
                    },
                    "scene": {
                      "xaxis": {
                        "backgroundcolor": "#E5ECF6",
                        "gridcolor": "white",
                        "gridwidth": 2,
                        "linecolor": "white",
                        "showbackground": true,
                        "ticks": "",
                        "zerolinecolor": "white"
                      },
                      "yaxis": {
                        "backgroundcolor": "#E5ECF6",
                        "gridcolor": "white",
                        "gridwidth": 2,
                        "linecolor": "white",
                        "showbackground": true,
                        "ticks": "",
                        "zerolinecolor": "white"
                      },
                      "zaxis": {
                        "backgroundcolor": "#E5ECF6",
                        "gridcolor": "white",
                        "gridwidth": 2,
                        "linecolor": "white",
                        "showbackground": true,
                        "ticks": "",
                        "zerolinecolor": "white"
                      }
                    },
                    "shapedefaults": {
                      "line": {
                        "color": "#2a3f5f"
                      }
                    },
                    "ternary": {
                      "aaxis": {
                        "gridcolor": "white",
                        "linecolor": "white",
                        "ticks": ""
                      },
                      "baxis": {
                        "gridcolor": "white",
                        "linecolor": "white",
                        "ticks": ""
                      },
                      "bgcolor": "#E5ECF6",
                      "caxis": {
                        "gridcolor": "white",
                        "linecolor": "white",
                        "ticks": ""
                      }
                    },
                    "title": {
                      "x": 0.05
                    },
                    "xaxis": {
                      "automargin": true,
                      "gridcolor": "white",
                      "linecolor": "white",
                      "ticks": "",
                      "title": {
                        "standoff": 15
                      },
                      "zerolinecolor": "white",
                      "zerolinewidth": 2
                    },
                    "yaxis": {
                      "automargin": true,
                      "gridcolor": "white",
                      "linecolor": "white",
                      "ticks": "",
                      "title": {
                        "standoff": 15
                      },
                      "zerolinecolor": "white",
                      "zerolinewidth": 2
                    }
                  }
                },
                "title": {
                  "font": {
                    "color": "#4D5663"
                  }
                },
                "xaxis": {
                  "gridcolor": "#E1E5ED",
                  "showgrid": true,
                  "tickfont": {
                    "color": "#4D5663"
                  },
                  "title": {
                    "font": {
                      "color": "#4D5663"
                    },
                    "text": ""
                  },
                  "zerolinecolor": "#E1E5ED"
                },
                "yaxis": {
                  "gridcolor": "#E1E5ED",
                  "showgrid": true,
                  "tickfont": {
                    "color": "#4D5663"
                  },
                  "title": {
                    "font": {
                      "color": "#4D5663"
                    },
                    "text": ""
                  },
                  "zerolinecolor": "#E1E5ED"
                }
              },
              "config": {
                "showLink": true,
                "linkText": "Export to plot.ly",
                "plotlyServerURL": "https://plot.ly"
              }
            },
            "text/html": [
              "<div>                            <div id=\"dacf58fe-7430-4058-a514-349f568c7f85\" class=\"plotly-graph-div\" style=\"height:525px; width:100%;\"></div>            <script type=\"text/javascript\">                require([\"plotly\"], function(Plotly) {                    window.PLOTLYENV=window.PLOTLYENV || {};\n",
              "                    window.PLOTLYENV.BASE_URL='https://plot.ly';                                    if (document.getElementById(\"dacf58fe-7430-4058-a514-349f568c7f85\")) {                    Plotly.newPlot(                        \"dacf58fe-7430-4058-a514-349f568c7f85\",                        [{\"histfunc\":\"count\",\"histnorm\":\"\",\"marker\":{\"color\":\"rgba(255, 153, 51, 1.0)\",\"line\":{\"color\":\"#4D5663\",\"width\":1.3}},\"name\":\"A\",\"nbinsx\":25,\"opacity\":0.8,\"orientation\":\"v\",\"x\":[0.0178114694854835,0.6503752891210457,1.4746556294415147,-0.002867505410992792,-0.7757917649856074,0.7662726192537015,1.0664749327062275,-0.11692736502946699,0.3306590500365512,-0.6039709270655202,2.3235131537725375,-1.581925335224607,0.015324694821562445,0.7668724051627919,0.5449217852329432,-1.5393392248297437,0.8826309337533468,-0.42177731108365596,0.6252953354329761,0.9475458834299388,0.16638344745317185,0.5872486334340409,0.7331878127127393,-0.8712133576574608,0.02218394918355038,-0.6013339495862363,-1.756229955636603,-1.9819893580331447,1.3825585253185222,0.18483164136281052,-1.2679341148034344,0.9949380071155695,-1.1476115696647307,-0.6479204186113192,-0.3789275877400645,0.2493338620032875,1.4201510261872716,-1.0503815196700217,1.0554704075679069,-1.0293234615296152,-1.0822796524356448,0.7684855357339191,2.5192161436818195,-1.9117744538897679,1.5931709732081492,0.5205078111864689,-0.9035063004328567,-0.039536779019681174,0.013421263122439244,-1.354389863999936,0.20741889935212338,-2.12861161880051,-0.5361385106295921,0.38466904193579843,0.5746526914220886,-0.870127691386053,-0.00021741926349469498,1.3073415839337295,-0.3230346369356965,-1.4318585137200077,0.742678531238043,-0.08997843766330833,-0.9296646722359696,-0.07779540095102579,-0.46929144505777076,0.008368761820374822,-0.613299214024739,1.1584825020371716,-0.47277585985662945,0.03805037863533173,-1.127629142630456,1.1062032945972584,1.338797608931247,-0.3109914547842166,0.21070722316844118,-0.15525145173830632,-0.9436284343977237,0.8405189744616796,0.7194053183545105,-0.5898131143539371,0.11078070545200325,-0.9101033501429266,-0.2760212578221692,-0.06121843562570686,0.22082764961571158,-0.8087040146874948,-0.24795260940063577,-0.18500473992804137,-1.1261930084640464,0.25926065036018053,1.0626956597526414,-0.29189730205400105,1.4649070470221661,0.15330410358902066,-0.9135301588123295,-1.5586000323884628,0.7016050667461048,-0.3143015581881234,-0.41706765214680636,-0.3921961494111043],\"type\":\"histogram\"}],                        {\"barmode\":\"overlay\",\"legend\":{\"bgcolor\":\"#F5F6F9\",\"font\":{\"color\":\"#4D5663\"}},\"paper_bgcolor\":\"#F5F6F9\",\"plot_bgcolor\":\"#F5F6F9\",\"template\":{\"data\":{\"barpolar\":[{\"marker\":{\"line\":{\"color\":\"#E5ECF6\",\"width\":0.5},\"pattern\":{\"fillmode\":\"overlay\",\"size\":10,\"solidity\":0.2}},\"type\":\"barpolar\"}],\"bar\":[{\"error_x\":{\"color\":\"#2a3f5f\"},\"error_y\":{\"color\":\"#2a3f5f\"},\"marker\":{\"line\":{\"color\":\"#E5ECF6\",\"width\":0.5},\"pattern\":{\"fillmode\":\"overlay\",\"size\":10,\"solidity\":0.2}},\"type\":\"bar\"}],\"carpet\":[{\"aaxis\":{\"endlinecolor\":\"#2a3f5f\",\"gridcolor\":\"white\",\"linecolor\":\"white\",\"minorgridcolor\":\"white\",\"startlinecolor\":\"#2a3f5f\"},\"baxis\":{\"endlinecolor\":\"#2a3f5f\",\"gridcolor\":\"white\",\"linecolor\":\"white\",\"minorgridcolor\":\"white\",\"startlinecolor\":\"#2a3f5f\"},\"type\":\"carpet\"}],\"choropleth\":[{\"colorbar\":{\"outlinewidth\":0,\"ticks\":\"\"},\"type\":\"choropleth\"}],\"contourcarpet\":[{\"colorbar\":{\"outlinewidth\":0,\"ticks\":\"\"},\"type\":\"contourcarpet\"}],\"contour\":[{\"colorbar\":{\"outlinewidth\":0,\"ticks\":\"\"},\"colorscale\":[[0.0,\"#0d0887\"],[0.1111111111111111,\"#46039f\"],[0.2222222222222222,\"#7201a8\"],[0.3333333333333333,\"#9c179e\"],[0.4444444444444444,\"#bd3786\"],[0.5555555555555556,\"#d8576b\"],[0.6666666666666666,\"#ed7953\"],[0.7777777777777778,\"#fb9f3a\"],[0.8888888888888888,\"#fdca26\"],[1.0,\"#f0f921\"]],\"type\":\"contour\"}],\"heatmapgl\":[{\"colorbar\":{\"outlinewidth\":0,\"ticks\":\"\"},\"colorscale\":[[0.0,\"#0d0887\"],[0.1111111111111111,\"#46039f\"],[0.2222222222222222,\"#7201a8\"],[0.3333333333333333,\"#9c179e\"],[0.4444444444444444,\"#bd3786\"],[0.5555555555555556,\"#d8576b\"],[0.6666666666666666,\"#ed7953\"],[0.7777777777777778,\"#fb9f3a\"],[0.8888888888888888,\"#fdca26\"],[1.0,\"#f0f921\"]],\"type\":\"heatmapgl\"}],\"heatmap\":[{\"colorbar\":{\"outlinewidth\":0,\"ticks\":\"\"},\"colorscale\":[[0.0,\"#0d0887\"],[0.1111111111111111,\"#46039f\"],[0.2222222222222222,\"#7201a8\"],[0.3333333333333333,\"#9c179e\"],[0.4444444444444444,\"#bd3786\"],[0.5555555555555556,\"#d8576b\"],[0.6666666666666666,\"#ed7953\"],[0.7777777777777778,\"#fb9f3a\"],[0.8888888888888888,\"#fdca26\"],[1.0,\"#f0f921\"]],\"type\":\"heatmap\"}],\"histogram2dcontour\":[{\"colorbar\":{\"outlinewidth\":0,\"ticks\":\"\"},\"colorscale\":[[0.0,\"#0d0887\"],[0.1111111111111111,\"#46039f\"],[0.2222222222222222,\"#7201a8\"],[0.3333333333333333,\"#9c179e\"],[0.4444444444444444,\"#bd3786\"],[0.5555555555555556,\"#d8576b\"],[0.6666666666666666,\"#ed7953\"],[0.7777777777777778,\"#fb9f3a\"],[0.8888888888888888,\"#fdca26\"],[1.0,\"#f0f921\"]],\"type\":\"histogram2dcontour\"}],\"histogram2d\":[{\"colorbar\":{\"outlinewidth\":0,\"ticks\":\"\"},\"colorscale\":[[0.0,\"#0d0887\"],[0.1111111111111111,\"#46039f\"],[0.2222222222222222,\"#7201a8\"],[0.3333333333333333,\"#9c179e\"],[0.4444444444444444,\"#bd3786\"],[0.5555555555555556,\"#d8576b\"],[0.6666666666666666,\"#ed7953\"],[0.7777777777777778,\"#fb9f3a\"],[0.8888888888888888,\"#fdca26\"],[1.0,\"#f0f921\"]],\"type\":\"histogram2d\"}],\"histogram\":[{\"marker\":{\"pattern\":{\"fillmode\":\"overlay\",\"size\":10,\"solidity\":0.2}},\"type\":\"histogram\"}],\"mesh3d\":[{\"colorbar\":{\"outlinewidth\":0,\"ticks\":\"\"},\"type\":\"mesh3d\"}],\"parcoords\":[{\"line\":{\"colorbar\":{\"outlinewidth\":0,\"ticks\":\"\"}},\"type\":\"parcoords\"}],\"pie\":[{\"automargin\":true,\"type\":\"pie\"}],\"scatter3d\":[{\"line\":{\"colorbar\":{\"outlinewidth\":0,\"ticks\":\"\"}},\"marker\":{\"colorbar\":{\"outlinewidth\":0,\"ticks\":\"\"}},\"type\":\"scatter3d\"}],\"scattercarpet\":[{\"marker\":{\"colorbar\":{\"outlinewidth\":0,\"ticks\":\"\"}},\"type\":\"scattercarpet\"}],\"scattergeo\":[{\"marker\":{\"colorbar\":{\"outlinewidth\":0,\"ticks\":\"\"}},\"type\":\"scattergeo\"}],\"scattergl\":[{\"marker\":{\"colorbar\":{\"outlinewidth\":0,\"ticks\":\"\"}},\"type\":\"scattergl\"}],\"scattermapbox\":[{\"marker\":{\"colorbar\":{\"outlinewidth\":0,\"ticks\":\"\"}},\"type\":\"scattermapbox\"}],\"scatterpolargl\":[{\"marker\":{\"colorbar\":{\"outlinewidth\":0,\"ticks\":\"\"}},\"type\":\"scatterpolargl\"}],\"scatterpolar\":[{\"marker\":{\"colorbar\":{\"outlinewidth\":0,\"ticks\":\"\"}},\"type\":\"scatterpolar\"}],\"scatter\":[{\"marker\":{\"colorbar\":{\"outlinewidth\":0,\"ticks\":\"\"}},\"type\":\"scatter\"}],\"scatterternary\":[{\"marker\":{\"colorbar\":{\"outlinewidth\":0,\"ticks\":\"\"}},\"type\":\"scatterternary\"}],\"surface\":[{\"colorbar\":{\"outlinewidth\":0,\"ticks\":\"\"},\"colorscale\":[[0.0,\"#0d0887\"],[0.1111111111111111,\"#46039f\"],[0.2222222222222222,\"#7201a8\"],[0.3333333333333333,\"#9c179e\"],[0.4444444444444444,\"#bd3786\"],[0.5555555555555556,\"#d8576b\"],[0.6666666666666666,\"#ed7953\"],[0.7777777777777778,\"#fb9f3a\"],[0.8888888888888888,\"#fdca26\"],[1.0,\"#f0f921\"]],\"type\":\"surface\"}],\"table\":[{\"cells\":{\"fill\":{\"color\":\"#EBF0F8\"},\"line\":{\"color\":\"white\"}},\"header\":{\"fill\":{\"color\":\"#C8D4E3\"},\"line\":{\"color\":\"white\"}},\"type\":\"table\"}]},\"layout\":{\"annotationdefaults\":{\"arrowcolor\":\"#2a3f5f\",\"arrowhead\":0,\"arrowwidth\":1},\"autotypenumbers\":\"strict\",\"coloraxis\":{\"colorbar\":{\"outlinewidth\":0,\"ticks\":\"\"}},\"colorscale\":{\"diverging\":[[0,\"#8e0152\"],[0.1,\"#c51b7d\"],[0.2,\"#de77ae\"],[0.3,\"#f1b6da\"],[0.4,\"#fde0ef\"],[0.5,\"#f7f7f7\"],[0.6,\"#e6f5d0\"],[0.7,\"#b8e186\"],[0.8,\"#7fbc41\"],[0.9,\"#4d9221\"],[1,\"#276419\"]],\"sequential\":[[0.0,\"#0d0887\"],[0.1111111111111111,\"#46039f\"],[0.2222222222222222,\"#7201a8\"],[0.3333333333333333,\"#9c179e\"],[0.4444444444444444,\"#bd3786\"],[0.5555555555555556,\"#d8576b\"],[0.6666666666666666,\"#ed7953\"],[0.7777777777777778,\"#fb9f3a\"],[0.8888888888888888,\"#fdca26\"],[1.0,\"#f0f921\"]],\"sequentialminus\":[[0.0,\"#0d0887\"],[0.1111111111111111,\"#46039f\"],[0.2222222222222222,\"#7201a8\"],[0.3333333333333333,\"#9c179e\"],[0.4444444444444444,\"#bd3786\"],[0.5555555555555556,\"#d8576b\"],[0.6666666666666666,\"#ed7953\"],[0.7777777777777778,\"#fb9f3a\"],[0.8888888888888888,\"#fdca26\"],[1.0,\"#f0f921\"]]},\"colorway\":[\"#636efa\",\"#EF553B\",\"#00cc96\",\"#ab63fa\",\"#FFA15A\",\"#19d3f3\",\"#FF6692\",\"#B6E880\",\"#FF97FF\",\"#FECB52\"],\"font\":{\"color\":\"#2a3f5f\"},\"geo\":{\"bgcolor\":\"white\",\"lakecolor\":\"white\",\"landcolor\":\"#E5ECF6\",\"showlakes\":true,\"showland\":true,\"subunitcolor\":\"white\"},\"hoverlabel\":{\"align\":\"left\"},\"hovermode\":\"closest\",\"mapbox\":{\"style\":\"light\"},\"paper_bgcolor\":\"white\",\"plot_bgcolor\":\"#E5ECF6\",\"polar\":{\"angularaxis\":{\"gridcolor\":\"white\",\"linecolor\":\"white\",\"ticks\":\"\"},\"bgcolor\":\"#E5ECF6\",\"radialaxis\":{\"gridcolor\":\"white\",\"linecolor\":\"white\",\"ticks\":\"\"}},\"scene\":{\"xaxis\":{\"backgroundcolor\":\"#E5ECF6\",\"gridcolor\":\"white\",\"gridwidth\":2,\"linecolor\":\"white\",\"showbackground\":true,\"ticks\":\"\",\"zerolinecolor\":\"white\"},\"yaxis\":{\"backgroundcolor\":\"#E5ECF6\",\"gridcolor\":\"white\",\"gridwidth\":2,\"linecolor\":\"white\",\"showbackground\":true,\"ticks\":\"\",\"zerolinecolor\":\"white\"},\"zaxis\":{\"backgroundcolor\":\"#E5ECF6\",\"gridcolor\":\"white\",\"gridwidth\":2,\"linecolor\":\"white\",\"showbackground\":true,\"ticks\":\"\",\"zerolinecolor\":\"white\"}},\"shapedefaults\":{\"line\":{\"color\":\"#2a3f5f\"}},\"ternary\":{\"aaxis\":{\"gridcolor\":\"white\",\"linecolor\":\"white\",\"ticks\":\"\"},\"baxis\":{\"gridcolor\":\"white\",\"linecolor\":\"white\",\"ticks\":\"\"},\"bgcolor\":\"#E5ECF6\",\"caxis\":{\"gridcolor\":\"white\",\"linecolor\":\"white\",\"ticks\":\"\"}},\"title\":{\"x\":0.05},\"xaxis\":{\"automargin\":true,\"gridcolor\":\"white\",\"linecolor\":\"white\",\"ticks\":\"\",\"title\":{\"standoff\":15},\"zerolinecolor\":\"white\",\"zerolinewidth\":2},\"yaxis\":{\"automargin\":true,\"gridcolor\":\"white\",\"linecolor\":\"white\",\"ticks\":\"\",\"title\":{\"standoff\":15},\"zerolinecolor\":\"white\",\"zerolinewidth\":2}}},\"title\":{\"font\":{\"color\":\"#4D5663\"}},\"xaxis\":{\"gridcolor\":\"#E1E5ED\",\"showgrid\":true,\"tickfont\":{\"color\":\"#4D5663\"},\"title\":{\"font\":{\"color\":\"#4D5663\"},\"text\":\"\"},\"zerolinecolor\":\"#E1E5ED\"},\"yaxis\":{\"gridcolor\":\"#E1E5ED\",\"showgrid\":true,\"tickfont\":{\"color\":\"#4D5663\"},\"title\":{\"font\":{\"color\":\"#4D5663\"},\"text\":\"\"},\"zerolinecolor\":\"#E1E5ED\"}},                        {\"showLink\": true, \"linkText\": \"Export to plot.ly\", \"plotlyServerURL\": \"https://plot.ly\", \"responsive\": true}                    ).then(function(){\n",
              "                            \n",
              "var gd = document.getElementById('dacf58fe-7430-4058-a514-349f568c7f85');\n",
              "var x = new MutationObserver(function (mutations, observer) {{\n",
              "        var display = window.getComputedStyle(gd).display;\n",
              "        if (!display || display === 'none') {{\n",
              "            console.log([gd, 'removed!']);\n",
              "            Plotly.purge(gd);\n",
              "            observer.disconnect();\n",
              "        }}\n",
              "}});\n",
              "\n",
              "// Listen for the removal of the full notebook cells\n",
              "var notebookContainer = gd.closest('#notebook-container');\n",
              "if (notebookContainer) {{\n",
              "    x.observe(notebookContainer, {childList: true});\n",
              "}}\n",
              "\n",
              "// Listen for the clearing of the current output cell\n",
              "var outputEl = gd.closest('.output');\n",
              "if (outputEl) {{\n",
              "    x.observe(outputEl, {childList: true});\n",
              "}}\n",
              "\n",
              "                        })                };                });            </script>        </div>"
            ]
          },
          "metadata": {}
        }
      ],
      "source": [
        "df['A'].iplot(kind='hist',bins=25)"
      ]
    },
    {
      "cell_type": "code",
      "execution_count": null,
      "metadata": {
        "colab": {
          "base_uri": "https://localhost:8080/",
          "height": 542
        },
        "id": "G084i8-pK5lf",
        "outputId": "a1f493fa-b9db-4a9b-ff23-4e1cdd01b21c"
      },
      "outputs": [
        {
          "output_type": "display_data",
          "data": {
            "application/vnd.plotly.v1+json": {
              "data": [
                {
                  "marker": {
                    "color": [
                      "rgb(255, 153, 51)",
                      "rgb(55, 128, 191)",
                      "rgb(50, 171, 96)",
                      "rgb(128, 0, 128)",
                      "rgb(219, 64, 82)",
                      "rgb(0, 128, 128)",
                      "rgb(255, 255, 51)",
                      "rgb(128, 128, 0)",
                      "rgb(251, 128, 114)",
                      "rgb(128, 177, 211)"
                    ],
                    "line": {
                      "width": 1.3
                    },
                    "size": [
                      51,
                      59,
                      38,
                      28,
                      26,
                      78,
                      43,
                      60,
                      47,
                      59,
                      81,
                      51,
                      61,
                      54,
                      50,
                      67,
                      41,
                      46,
                      51,
                      76,
                      61,
                      41,
                      47,
                      77,
                      70,
                      65,
                      62,
                      86,
                      67,
                      73,
                      48,
                      48,
                      67,
                      69,
                      28,
                      82,
                      56,
                      67,
                      60,
                      48,
                      38,
                      32,
                      54,
                      46,
                      53,
                      58,
                      37,
                      68,
                      46,
                      88,
                      36,
                      12,
                      58,
                      105,
                      67,
                      46,
                      84,
                      44,
                      18,
                      45,
                      41,
                      51,
                      60,
                      44,
                      84,
                      50,
                      57,
                      42,
                      36,
                      112,
                      28,
                      85,
                      55,
                      67,
                      53,
                      47,
                      55,
                      39,
                      82,
                      21,
                      34,
                      41,
                      64,
                      74,
                      106,
                      59,
                      78,
                      59,
                      42,
                      44,
                      91,
                      76,
                      64,
                      54,
                      55,
                      19,
                      64,
                      61,
                      28,
                      64
                    ],
                    "symbol": "circle"
                  },
                  "mode": "markers",
                  "text": "",
                  "x": [
                    0.0178114694854835,
                    0.6503752891210457,
                    1.4746556294415147,
                    -0.002867505410992792,
                    -0.7757917649856074,
                    0.7662726192537015,
                    1.0664749327062275,
                    -0.11692736502946699,
                    0.3306590500365512,
                    -0.6039709270655202,
                    2.3235131537725375,
                    -1.581925335224607,
                    0.015324694821562445,
                    0.7668724051627919,
                    0.5449217852329432,
                    -1.5393392248297437,
                    0.8826309337533468,
                    -0.42177731108365596,
                    0.6252953354329761,
                    0.9475458834299388,
                    0.16638344745317185,
                    0.5872486334340409,
                    0.7331878127127393,
                    -0.8712133576574608,
                    0.02218394918355038,
                    -0.6013339495862363,
                    -1.756229955636603,
                    -1.9819893580331447,
                    1.3825585253185222,
                    0.18483164136281052,
                    -1.2679341148034344,
                    0.9949380071155695,
                    -1.1476115696647307,
                    -0.6479204186113192,
                    -0.3789275877400645,
                    0.2493338620032875,
                    1.4201510261872716,
                    -1.0503815196700217,
                    1.0554704075679069,
                    -1.0293234615296152,
                    -1.0822796524356448,
                    0.7684855357339191,
                    2.5192161436818195,
                    -1.9117744538897679,
                    1.5931709732081492,
                    0.5205078111864689,
                    -0.9035063004328567,
                    -0.039536779019681174,
                    0.013421263122439244,
                    -1.354389863999936,
                    0.20741889935212338,
                    -2.12861161880051,
                    -0.5361385106295921,
                    0.38466904193579843,
                    0.5746526914220886,
                    -0.870127691386053,
                    -0.00021741926349469498,
                    1.3073415839337295,
                    -0.3230346369356965,
                    -1.4318585137200077,
                    0.742678531238043,
                    -0.08997843766330833,
                    -0.9296646722359696,
                    -0.07779540095102579,
                    -0.46929144505777076,
                    0.008368761820374822,
                    -0.613299214024739,
                    1.1584825020371716,
                    -0.47277585985662945,
                    0.03805037863533173,
                    -1.127629142630456,
                    1.1062032945972584,
                    1.338797608931247,
                    -0.3109914547842166,
                    0.21070722316844118,
                    -0.15525145173830632,
                    -0.9436284343977237,
                    0.8405189744616796,
                    0.7194053183545105,
                    -0.5898131143539371,
                    0.11078070545200325,
                    -0.9101033501429266,
                    -0.2760212578221692,
                    -0.06121843562570686,
                    0.22082764961571158,
                    -0.8087040146874948,
                    -0.24795260940063577,
                    -0.18500473992804137,
                    -1.1261930084640464,
                    0.25926065036018053,
                    1.0626956597526414,
                    -0.29189730205400105,
                    1.4649070470221661,
                    0.15330410358902066,
                    -0.9135301588123295,
                    -1.5586000323884628,
                    0.7016050667461048,
                    -0.3143015581881234,
                    -0.41706765214680636,
                    -0.3921961494111043
                  ],
                  "y": [
                    -0.5617375702420864,
                    -1.2105280209767268,
                    0.8561250259063421,
                    -0.7107503858881543,
                    1.9101987417784274,
                    0.5789968113218955,
                    -0.9591681047529027,
                    0.5395359124881931,
                    1.3193862626751078,
                    0.6680228938498383,
                    -0.7341726211864084,
                    -0.6118985446054702,
                    -1.2141500234277,
                    1.5911478517284632,
                    -0.5261168186658791,
                    0.8457278666030731,
                    -1.0083412765657886,
                    2.032738956061042,
                    0.1463571733779813,
                    0.5177816732261287,
                    -0.769212161890698,
                    -1.069099261508924,
                    0.6217522583946871,
                    -0.7685130295505281,
                    0.9544080795307096,
                    -0.09436162464620383,
                    0.5375121175183534,
                    0.6747308503837377,
                    -0.5610675516558478,
                    0.94214409035032,
                    0.6064445545372859,
                    0.07104417008322735,
                    0.1330925122609887,
                    0.6136925994677905,
                    0.0035230303615803584,
                    -0.34532692952094346,
                    0.13237764586606712,
                    -0.9646644055964682,
                    0.130714844563745,
                    0.10519423612640431,
                    0.8547224198592885,
                    1.4829075328199424,
                    -0.9952118382098827,
                    -0.6046778657833812,
                    -0.0130276454638649,
                    1.087828140993123,
                    0.2085807423899216,
                    0.74207524333408,
                    -0.7939304210976657,
                    0.882859631977347,
                    0.21805155116360347,
                    0.8191732685075461,
                    -0.33300967724353003,
                    -0.5919052919299606,
                    -1.7071195729782942,
                    -1.1895653090495355,
                    0.6390977779302962,
                    1.295456870258728,
                    1.0432603943938363,
                    1.5067829763146572,
                    0.9566913863674601,
                    1.310266945124139,
                    -1.93090349772417,
                    0.5108049211688599,
                    -1.8206417027981763,
                    0.4919314503964313,
                    1.0367104751357175,
                    -0.5070167039378888,
                    0.4444149359221097,
                    0.5942474438048201,
                    -2.4036581156786467,
                    -0.738923209691997,
                    0.2483313091113896,
                    -1.5896989324533435,
                    -0.1767444417931268,
                    1.2918585657024686,
                    0.15436931061292777,
                    -0.020693967852573433,
                    -1.2953814780999942,
                    -0.33164381746601795,
                    -1.98419870685544,
                    -0.0977188523628509,
                    -1.3414203013691797,
                    0.19001993628446323,
                    -1.144617917384704,
                    0.6281985093673482,
                    0.31282287792073715,
                    -0.4335108153748616,
                    0.08996165145511464,
                    -0.4049630640050919,
                    -1.3655766758769943,
                    0.003863089142866324,
                    1.9544805266971712,
                    1.4025801247991099,
                    1.5133080358291704,
                    -1.081597061248639,
                    0.08033346985791334,
                    -0.8574779036981085,
                    -0.5578342097981503,
                    -1.0823858458747249
                  ],
                  "type": "scatter"
                }
              ],
              "layout": {
                "legend": {
                  "bgcolor": "#F5F6F9",
                  "font": {
                    "color": "#4D5663"
                  }
                },
                "paper_bgcolor": "#F5F6F9",
                "plot_bgcolor": "#F5F6F9",
                "template": {
                  "data": {
                    "barpolar": [
                      {
                        "marker": {
                          "line": {
                            "color": "#E5ECF6",
                            "width": 0.5
                          },
                          "pattern": {
                            "fillmode": "overlay",
                            "size": 10,
                            "solidity": 0.2
                          }
                        },
                        "type": "barpolar"
                      }
                    ],
                    "bar": [
                      {
                        "error_x": {
                          "color": "#2a3f5f"
                        },
                        "error_y": {
                          "color": "#2a3f5f"
                        },
                        "marker": {
                          "line": {
                            "color": "#E5ECF6",
                            "width": 0.5
                          },
                          "pattern": {
                            "fillmode": "overlay",
                            "size": 10,
                            "solidity": 0.2
                          }
                        },
                        "type": "bar"
                      }
                    ],
                    "carpet": [
                      {
                        "aaxis": {
                          "endlinecolor": "#2a3f5f",
                          "gridcolor": "white",
                          "linecolor": "white",
                          "minorgridcolor": "white",
                          "startlinecolor": "#2a3f5f"
                        },
                        "baxis": {
                          "endlinecolor": "#2a3f5f",
                          "gridcolor": "white",
                          "linecolor": "white",
                          "minorgridcolor": "white",
                          "startlinecolor": "#2a3f5f"
                        },
                        "type": "carpet"
                      }
                    ],
                    "choropleth": [
                      {
                        "colorbar": {
                          "outlinewidth": 0,
                          "ticks": ""
                        },
                        "type": "choropleth"
                      }
                    ],
                    "contourcarpet": [
                      {
                        "colorbar": {
                          "outlinewidth": 0,
                          "ticks": ""
                        },
                        "type": "contourcarpet"
                      }
                    ],
                    "contour": [
                      {
                        "colorbar": {
                          "outlinewidth": 0,
                          "ticks": ""
                        },
                        "colorscale": [
                          [
                            0,
                            "#0d0887"
                          ],
                          [
                            0.1111111111111111,
                            "#46039f"
                          ],
                          [
                            0.2222222222222222,
                            "#7201a8"
                          ],
                          [
                            0.3333333333333333,
                            "#9c179e"
                          ],
                          [
                            0.4444444444444444,
                            "#bd3786"
                          ],
                          [
                            0.5555555555555556,
                            "#d8576b"
                          ],
                          [
                            0.6666666666666666,
                            "#ed7953"
                          ],
                          [
                            0.7777777777777778,
                            "#fb9f3a"
                          ],
                          [
                            0.8888888888888888,
                            "#fdca26"
                          ],
                          [
                            1,
                            "#f0f921"
                          ]
                        ],
                        "type": "contour"
                      }
                    ],
                    "heatmapgl": [
                      {
                        "colorbar": {
                          "outlinewidth": 0,
                          "ticks": ""
                        },
                        "colorscale": [
                          [
                            0,
                            "#0d0887"
                          ],
                          [
                            0.1111111111111111,
                            "#46039f"
                          ],
                          [
                            0.2222222222222222,
                            "#7201a8"
                          ],
                          [
                            0.3333333333333333,
                            "#9c179e"
                          ],
                          [
                            0.4444444444444444,
                            "#bd3786"
                          ],
                          [
                            0.5555555555555556,
                            "#d8576b"
                          ],
                          [
                            0.6666666666666666,
                            "#ed7953"
                          ],
                          [
                            0.7777777777777778,
                            "#fb9f3a"
                          ],
                          [
                            0.8888888888888888,
                            "#fdca26"
                          ],
                          [
                            1,
                            "#f0f921"
                          ]
                        ],
                        "type": "heatmapgl"
                      }
                    ],
                    "heatmap": [
                      {
                        "colorbar": {
                          "outlinewidth": 0,
                          "ticks": ""
                        },
                        "colorscale": [
                          [
                            0,
                            "#0d0887"
                          ],
                          [
                            0.1111111111111111,
                            "#46039f"
                          ],
                          [
                            0.2222222222222222,
                            "#7201a8"
                          ],
                          [
                            0.3333333333333333,
                            "#9c179e"
                          ],
                          [
                            0.4444444444444444,
                            "#bd3786"
                          ],
                          [
                            0.5555555555555556,
                            "#d8576b"
                          ],
                          [
                            0.6666666666666666,
                            "#ed7953"
                          ],
                          [
                            0.7777777777777778,
                            "#fb9f3a"
                          ],
                          [
                            0.8888888888888888,
                            "#fdca26"
                          ],
                          [
                            1,
                            "#f0f921"
                          ]
                        ],
                        "type": "heatmap"
                      }
                    ],
                    "histogram2dcontour": [
                      {
                        "colorbar": {
                          "outlinewidth": 0,
                          "ticks": ""
                        },
                        "colorscale": [
                          [
                            0,
                            "#0d0887"
                          ],
                          [
                            0.1111111111111111,
                            "#46039f"
                          ],
                          [
                            0.2222222222222222,
                            "#7201a8"
                          ],
                          [
                            0.3333333333333333,
                            "#9c179e"
                          ],
                          [
                            0.4444444444444444,
                            "#bd3786"
                          ],
                          [
                            0.5555555555555556,
                            "#d8576b"
                          ],
                          [
                            0.6666666666666666,
                            "#ed7953"
                          ],
                          [
                            0.7777777777777778,
                            "#fb9f3a"
                          ],
                          [
                            0.8888888888888888,
                            "#fdca26"
                          ],
                          [
                            1,
                            "#f0f921"
                          ]
                        ],
                        "type": "histogram2dcontour"
                      }
                    ],
                    "histogram2d": [
                      {
                        "colorbar": {
                          "outlinewidth": 0,
                          "ticks": ""
                        },
                        "colorscale": [
                          [
                            0,
                            "#0d0887"
                          ],
                          [
                            0.1111111111111111,
                            "#46039f"
                          ],
                          [
                            0.2222222222222222,
                            "#7201a8"
                          ],
                          [
                            0.3333333333333333,
                            "#9c179e"
                          ],
                          [
                            0.4444444444444444,
                            "#bd3786"
                          ],
                          [
                            0.5555555555555556,
                            "#d8576b"
                          ],
                          [
                            0.6666666666666666,
                            "#ed7953"
                          ],
                          [
                            0.7777777777777778,
                            "#fb9f3a"
                          ],
                          [
                            0.8888888888888888,
                            "#fdca26"
                          ],
                          [
                            1,
                            "#f0f921"
                          ]
                        ],
                        "type": "histogram2d"
                      }
                    ],
                    "histogram": [
                      {
                        "marker": {
                          "pattern": {
                            "fillmode": "overlay",
                            "size": 10,
                            "solidity": 0.2
                          }
                        },
                        "type": "histogram"
                      }
                    ],
                    "mesh3d": [
                      {
                        "colorbar": {
                          "outlinewidth": 0,
                          "ticks": ""
                        },
                        "type": "mesh3d"
                      }
                    ],
                    "parcoords": [
                      {
                        "line": {
                          "colorbar": {
                            "outlinewidth": 0,
                            "ticks": ""
                          }
                        },
                        "type": "parcoords"
                      }
                    ],
                    "pie": [
                      {
                        "automargin": true,
                        "type": "pie"
                      }
                    ],
                    "scatter3d": [
                      {
                        "line": {
                          "colorbar": {
                            "outlinewidth": 0,
                            "ticks": ""
                          }
                        },
                        "marker": {
                          "colorbar": {
                            "outlinewidth": 0,
                            "ticks": ""
                          }
                        },
                        "type": "scatter3d"
                      }
                    ],
                    "scattercarpet": [
                      {
                        "marker": {
                          "colorbar": {
                            "outlinewidth": 0,
                            "ticks": ""
                          }
                        },
                        "type": "scattercarpet"
                      }
                    ],
                    "scattergeo": [
                      {
                        "marker": {
                          "colorbar": {
                            "outlinewidth": 0,
                            "ticks": ""
                          }
                        },
                        "type": "scattergeo"
                      }
                    ],
                    "scattergl": [
                      {
                        "marker": {
                          "colorbar": {
                            "outlinewidth": 0,
                            "ticks": ""
                          }
                        },
                        "type": "scattergl"
                      }
                    ],
                    "scattermapbox": [
                      {
                        "marker": {
                          "colorbar": {
                            "outlinewidth": 0,
                            "ticks": ""
                          }
                        },
                        "type": "scattermapbox"
                      }
                    ],
                    "scatterpolargl": [
                      {
                        "marker": {
                          "colorbar": {
                            "outlinewidth": 0,
                            "ticks": ""
                          }
                        },
                        "type": "scatterpolargl"
                      }
                    ],
                    "scatterpolar": [
                      {
                        "marker": {
                          "colorbar": {
                            "outlinewidth": 0,
                            "ticks": ""
                          }
                        },
                        "type": "scatterpolar"
                      }
                    ],
                    "scatter": [
                      {
                        "marker": {
                          "colorbar": {
                            "outlinewidth": 0,
                            "ticks": ""
                          }
                        },
                        "type": "scatter"
                      }
                    ],
                    "scatterternary": [
                      {
                        "marker": {
                          "colorbar": {
                            "outlinewidth": 0,
                            "ticks": ""
                          }
                        },
                        "type": "scatterternary"
                      }
                    ],
                    "surface": [
                      {
                        "colorbar": {
                          "outlinewidth": 0,
                          "ticks": ""
                        },
                        "colorscale": [
                          [
                            0,
                            "#0d0887"
                          ],
                          [
                            0.1111111111111111,
                            "#46039f"
                          ],
                          [
                            0.2222222222222222,
                            "#7201a8"
                          ],
                          [
                            0.3333333333333333,
                            "#9c179e"
                          ],
                          [
                            0.4444444444444444,
                            "#bd3786"
                          ],
                          [
                            0.5555555555555556,
                            "#d8576b"
                          ],
                          [
                            0.6666666666666666,
                            "#ed7953"
                          ],
                          [
                            0.7777777777777778,
                            "#fb9f3a"
                          ],
                          [
                            0.8888888888888888,
                            "#fdca26"
                          ],
                          [
                            1,
                            "#f0f921"
                          ]
                        ],
                        "type": "surface"
                      }
                    ],
                    "table": [
                      {
                        "cells": {
                          "fill": {
                            "color": "#EBF0F8"
                          },
                          "line": {
                            "color": "white"
                          }
                        },
                        "header": {
                          "fill": {
                            "color": "#C8D4E3"
                          },
                          "line": {
                            "color": "white"
                          }
                        },
                        "type": "table"
                      }
                    ]
                  },
                  "layout": {
                    "annotationdefaults": {
                      "arrowcolor": "#2a3f5f",
                      "arrowhead": 0,
                      "arrowwidth": 1
                    },
                    "autotypenumbers": "strict",
                    "coloraxis": {
                      "colorbar": {
                        "outlinewidth": 0,
                        "ticks": ""
                      }
                    },
                    "colorscale": {
                      "diverging": [
                        [
                          0,
                          "#8e0152"
                        ],
                        [
                          0.1,
                          "#c51b7d"
                        ],
                        [
                          0.2,
                          "#de77ae"
                        ],
                        [
                          0.3,
                          "#f1b6da"
                        ],
                        [
                          0.4,
                          "#fde0ef"
                        ],
                        [
                          0.5,
                          "#f7f7f7"
                        ],
                        [
                          0.6,
                          "#e6f5d0"
                        ],
                        [
                          0.7,
                          "#b8e186"
                        ],
                        [
                          0.8,
                          "#7fbc41"
                        ],
                        [
                          0.9,
                          "#4d9221"
                        ],
                        [
                          1,
                          "#276419"
                        ]
                      ],
                      "sequential": [
                        [
                          0,
                          "#0d0887"
                        ],
                        [
                          0.1111111111111111,
                          "#46039f"
                        ],
                        [
                          0.2222222222222222,
                          "#7201a8"
                        ],
                        [
                          0.3333333333333333,
                          "#9c179e"
                        ],
                        [
                          0.4444444444444444,
                          "#bd3786"
                        ],
                        [
                          0.5555555555555556,
                          "#d8576b"
                        ],
                        [
                          0.6666666666666666,
                          "#ed7953"
                        ],
                        [
                          0.7777777777777778,
                          "#fb9f3a"
                        ],
                        [
                          0.8888888888888888,
                          "#fdca26"
                        ],
                        [
                          1,
                          "#f0f921"
                        ]
                      ],
                      "sequentialminus": [
                        [
                          0,
                          "#0d0887"
                        ],
                        [
                          0.1111111111111111,
                          "#46039f"
                        ],
                        [
                          0.2222222222222222,
                          "#7201a8"
                        ],
                        [
                          0.3333333333333333,
                          "#9c179e"
                        ],
                        [
                          0.4444444444444444,
                          "#bd3786"
                        ],
                        [
                          0.5555555555555556,
                          "#d8576b"
                        ],
                        [
                          0.6666666666666666,
                          "#ed7953"
                        ],
                        [
                          0.7777777777777778,
                          "#fb9f3a"
                        ],
                        [
                          0.8888888888888888,
                          "#fdca26"
                        ],
                        [
                          1,
                          "#f0f921"
                        ]
                      ]
                    },
                    "colorway": [
                      "#636efa",
                      "#EF553B",
                      "#00cc96",
                      "#ab63fa",
                      "#FFA15A",
                      "#19d3f3",
                      "#FF6692",
                      "#B6E880",
                      "#FF97FF",
                      "#FECB52"
                    ],
                    "font": {
                      "color": "#2a3f5f"
                    },
                    "geo": {
                      "bgcolor": "white",
                      "lakecolor": "white",
                      "landcolor": "#E5ECF6",
                      "showlakes": true,
                      "showland": true,
                      "subunitcolor": "white"
                    },
                    "hoverlabel": {
                      "align": "left"
                    },
                    "hovermode": "closest",
                    "mapbox": {
                      "style": "light"
                    },
                    "paper_bgcolor": "white",
                    "plot_bgcolor": "#E5ECF6",
                    "polar": {
                      "angularaxis": {
                        "gridcolor": "white",
                        "linecolor": "white",
                        "ticks": ""
                      },
                      "bgcolor": "#E5ECF6",
                      "radialaxis": {
                        "gridcolor": "white",
                        "linecolor": "white",
                        "ticks": ""
                      }
                    },
                    "scene": {
                      "xaxis": {
                        "backgroundcolor": "#E5ECF6",
                        "gridcolor": "white",
                        "gridwidth": 2,
                        "linecolor": "white",
                        "showbackground": true,
                        "ticks": "",
                        "zerolinecolor": "white"
                      },
                      "yaxis": {
                        "backgroundcolor": "#E5ECF6",
                        "gridcolor": "white",
                        "gridwidth": 2,
                        "linecolor": "white",
                        "showbackground": true,
                        "ticks": "",
                        "zerolinecolor": "white"
                      },
                      "zaxis": {
                        "backgroundcolor": "#E5ECF6",
                        "gridcolor": "white",
                        "gridwidth": 2,
                        "linecolor": "white",
                        "showbackground": true,
                        "ticks": "",
                        "zerolinecolor": "white"
                      }
                    },
                    "shapedefaults": {
                      "line": {
                        "color": "#2a3f5f"
                      }
                    },
                    "ternary": {
                      "aaxis": {
                        "gridcolor": "white",
                        "linecolor": "white",
                        "ticks": ""
                      },
                      "baxis": {
                        "gridcolor": "white",
                        "linecolor": "white",
                        "ticks": ""
                      },
                      "bgcolor": "#E5ECF6",
                      "caxis": {
                        "gridcolor": "white",
                        "linecolor": "white",
                        "ticks": ""
                      }
                    },
                    "title": {
                      "x": 0.05
                    },
                    "xaxis": {
                      "automargin": true,
                      "gridcolor": "white",
                      "linecolor": "white",
                      "ticks": "",
                      "title": {
                        "standoff": 15
                      },
                      "zerolinecolor": "white",
                      "zerolinewidth": 2
                    },
                    "yaxis": {
                      "automargin": true,
                      "gridcolor": "white",
                      "linecolor": "white",
                      "ticks": "",
                      "title": {
                        "standoff": 15
                      },
                      "zerolinecolor": "white",
                      "zerolinewidth": 2
                    }
                  }
                },
                "title": {
                  "font": {
                    "color": "#4D5663"
                  }
                },
                "xaxis": {
                  "gridcolor": "#E1E5ED",
                  "showgrid": true,
                  "tickfont": {
                    "color": "#4D5663"
                  },
                  "title": {
                    "font": {
                      "color": "#4D5663"
                    },
                    "text": ""
                  },
                  "zerolinecolor": "#E1E5ED"
                },
                "yaxis": {
                  "gridcolor": "#E1E5ED",
                  "showgrid": true,
                  "tickfont": {
                    "color": "#4D5663"
                  },
                  "title": {
                    "font": {
                      "color": "#4D5663"
                    },
                    "text": ""
                  },
                  "zerolinecolor": "#E1E5ED"
                }
              },
              "config": {
                "showLink": true,
                "linkText": "Export to plot.ly",
                "plotlyServerURL": "https://plot.ly"
              }
            },
            "text/html": [
              "<div>                            <div id=\"66bdbba9-f077-47ba-97b9-090d30018189\" class=\"plotly-graph-div\" style=\"height:525px; width:100%;\"></div>            <script type=\"text/javascript\">                require([\"plotly\"], function(Plotly) {                    window.PLOTLYENV=window.PLOTLYENV || {};\n",
              "                    window.PLOTLYENV.BASE_URL='https://plot.ly';                                    if (document.getElementById(\"66bdbba9-f077-47ba-97b9-090d30018189\")) {                    Plotly.newPlot(                        \"66bdbba9-f077-47ba-97b9-090d30018189\",                        [{\"marker\":{\"color\":[\"rgb(255, 153, 51)\",\"rgb(55, 128, 191)\",\"rgb(50, 171, 96)\",\"rgb(128, 0, 128)\",\"rgb(219, 64, 82)\",\"rgb(0, 128, 128)\",\"rgb(255, 255, 51)\",\"rgb(128, 128, 0)\",\"rgb(251, 128, 114)\",\"rgb(128, 177, 211)\"],\"line\":{\"width\":1.3},\"size\":[51,59,38,28,26,78,43,60,47,59,81,51,61,54,50,67,41,46,51,76,61,41,47,77,70,65,62,86,67,73,48,48,67,69,28,82,56,67,60,48,38,32,54,46,53,58,37,68,46,88,36,12,58,105,67,46,84,44,18,45,41,51,60,44,84,50,57,42,36,112,28,85,55,67,53,47,55,39,82,21,34,41,64,74,106,59,78,59,42,44,91,76,64,54,55,19,64,61,28,64],\"symbol\":\"circle\"},\"mode\":\"markers\",\"text\":\"\",\"x\":[0.0178114694854835,0.6503752891210457,1.4746556294415147,-0.002867505410992792,-0.7757917649856074,0.7662726192537015,1.0664749327062275,-0.11692736502946699,0.3306590500365512,-0.6039709270655202,2.3235131537725375,-1.581925335224607,0.015324694821562445,0.7668724051627919,0.5449217852329432,-1.5393392248297437,0.8826309337533468,-0.42177731108365596,0.6252953354329761,0.9475458834299388,0.16638344745317185,0.5872486334340409,0.7331878127127393,-0.8712133576574608,0.02218394918355038,-0.6013339495862363,-1.756229955636603,-1.9819893580331447,1.3825585253185222,0.18483164136281052,-1.2679341148034344,0.9949380071155695,-1.1476115696647307,-0.6479204186113192,-0.3789275877400645,0.2493338620032875,1.4201510261872716,-1.0503815196700217,1.0554704075679069,-1.0293234615296152,-1.0822796524356448,0.7684855357339191,2.5192161436818195,-1.9117744538897679,1.5931709732081492,0.5205078111864689,-0.9035063004328567,-0.039536779019681174,0.013421263122439244,-1.354389863999936,0.20741889935212338,-2.12861161880051,-0.5361385106295921,0.38466904193579843,0.5746526914220886,-0.870127691386053,-0.00021741926349469498,1.3073415839337295,-0.3230346369356965,-1.4318585137200077,0.742678531238043,-0.08997843766330833,-0.9296646722359696,-0.07779540095102579,-0.46929144505777076,0.008368761820374822,-0.613299214024739,1.1584825020371716,-0.47277585985662945,0.03805037863533173,-1.127629142630456,1.1062032945972584,1.338797608931247,-0.3109914547842166,0.21070722316844118,-0.15525145173830632,-0.9436284343977237,0.8405189744616796,0.7194053183545105,-0.5898131143539371,0.11078070545200325,-0.9101033501429266,-0.2760212578221692,-0.06121843562570686,0.22082764961571158,-0.8087040146874948,-0.24795260940063577,-0.18500473992804137,-1.1261930084640464,0.25926065036018053,1.0626956597526414,-0.29189730205400105,1.4649070470221661,0.15330410358902066,-0.9135301588123295,-1.5586000323884628,0.7016050667461048,-0.3143015581881234,-0.41706765214680636,-0.3921961494111043],\"y\":[-0.5617375702420864,-1.2105280209767268,0.8561250259063421,-0.7107503858881543,1.9101987417784274,0.5789968113218955,-0.9591681047529027,0.5395359124881931,1.3193862626751078,0.6680228938498383,-0.7341726211864084,-0.6118985446054702,-1.2141500234277,1.5911478517284632,-0.5261168186658791,0.8457278666030731,-1.0083412765657886,2.032738956061042,0.1463571733779813,0.5177816732261287,-0.769212161890698,-1.069099261508924,0.6217522583946871,-0.7685130295505281,0.9544080795307096,-0.09436162464620383,0.5375121175183534,0.6747308503837377,-0.5610675516558478,0.94214409035032,0.6064445545372859,0.07104417008322735,0.1330925122609887,0.6136925994677905,0.0035230303615803584,-0.34532692952094346,0.13237764586606712,-0.9646644055964682,0.130714844563745,0.10519423612640431,0.8547224198592885,1.4829075328199424,-0.9952118382098827,-0.6046778657833812,-0.0130276454638649,1.087828140993123,0.2085807423899216,0.74207524333408,-0.7939304210976657,0.882859631977347,0.21805155116360347,0.8191732685075461,-0.33300967724353003,-0.5919052919299606,-1.7071195729782942,-1.1895653090495355,0.6390977779302962,1.295456870258728,1.0432603943938363,1.5067829763146572,0.9566913863674601,1.310266945124139,-1.93090349772417,0.5108049211688599,-1.8206417027981763,0.4919314503964313,1.0367104751357175,-0.5070167039378888,0.4444149359221097,0.5942474438048201,-2.4036581156786467,-0.738923209691997,0.2483313091113896,-1.5896989324533435,-0.1767444417931268,1.2918585657024686,0.15436931061292777,-0.020693967852573433,-1.2953814780999942,-0.33164381746601795,-1.98419870685544,-0.0977188523628509,-1.3414203013691797,0.19001993628446323,-1.144617917384704,0.6281985093673482,0.31282287792073715,-0.4335108153748616,0.08996165145511464,-0.4049630640050919,-1.3655766758769943,0.003863089142866324,1.9544805266971712,1.4025801247991099,1.5133080358291704,-1.081597061248639,0.08033346985791334,-0.8574779036981085,-0.5578342097981503,-1.0823858458747249],\"type\":\"scatter\"}],                        {\"legend\":{\"bgcolor\":\"#F5F6F9\",\"font\":{\"color\":\"#4D5663\"}},\"paper_bgcolor\":\"#F5F6F9\",\"plot_bgcolor\":\"#F5F6F9\",\"template\":{\"data\":{\"barpolar\":[{\"marker\":{\"line\":{\"color\":\"#E5ECF6\",\"width\":0.5},\"pattern\":{\"fillmode\":\"overlay\",\"size\":10,\"solidity\":0.2}},\"type\":\"barpolar\"}],\"bar\":[{\"error_x\":{\"color\":\"#2a3f5f\"},\"error_y\":{\"color\":\"#2a3f5f\"},\"marker\":{\"line\":{\"color\":\"#E5ECF6\",\"width\":0.5},\"pattern\":{\"fillmode\":\"overlay\",\"size\":10,\"solidity\":0.2}},\"type\":\"bar\"}],\"carpet\":[{\"aaxis\":{\"endlinecolor\":\"#2a3f5f\",\"gridcolor\":\"white\",\"linecolor\":\"white\",\"minorgridcolor\":\"white\",\"startlinecolor\":\"#2a3f5f\"},\"baxis\":{\"endlinecolor\":\"#2a3f5f\",\"gridcolor\":\"white\",\"linecolor\":\"white\",\"minorgridcolor\":\"white\",\"startlinecolor\":\"#2a3f5f\"},\"type\":\"carpet\"}],\"choropleth\":[{\"colorbar\":{\"outlinewidth\":0,\"ticks\":\"\"},\"type\":\"choropleth\"}],\"contourcarpet\":[{\"colorbar\":{\"outlinewidth\":0,\"ticks\":\"\"},\"type\":\"contourcarpet\"}],\"contour\":[{\"colorbar\":{\"outlinewidth\":0,\"ticks\":\"\"},\"colorscale\":[[0.0,\"#0d0887\"],[0.1111111111111111,\"#46039f\"],[0.2222222222222222,\"#7201a8\"],[0.3333333333333333,\"#9c179e\"],[0.4444444444444444,\"#bd3786\"],[0.5555555555555556,\"#d8576b\"],[0.6666666666666666,\"#ed7953\"],[0.7777777777777778,\"#fb9f3a\"],[0.8888888888888888,\"#fdca26\"],[1.0,\"#f0f921\"]],\"type\":\"contour\"}],\"heatmapgl\":[{\"colorbar\":{\"outlinewidth\":0,\"ticks\":\"\"},\"colorscale\":[[0.0,\"#0d0887\"],[0.1111111111111111,\"#46039f\"],[0.2222222222222222,\"#7201a8\"],[0.3333333333333333,\"#9c179e\"],[0.4444444444444444,\"#bd3786\"],[0.5555555555555556,\"#d8576b\"],[0.6666666666666666,\"#ed7953\"],[0.7777777777777778,\"#fb9f3a\"],[0.8888888888888888,\"#fdca26\"],[1.0,\"#f0f921\"]],\"type\":\"heatmapgl\"}],\"heatmap\":[{\"colorbar\":{\"outlinewidth\":0,\"ticks\":\"\"},\"colorscale\":[[0.0,\"#0d0887\"],[0.1111111111111111,\"#46039f\"],[0.2222222222222222,\"#7201a8\"],[0.3333333333333333,\"#9c179e\"],[0.4444444444444444,\"#bd3786\"],[0.5555555555555556,\"#d8576b\"],[0.6666666666666666,\"#ed7953\"],[0.7777777777777778,\"#fb9f3a\"],[0.8888888888888888,\"#fdca26\"],[1.0,\"#f0f921\"]],\"type\":\"heatmap\"}],\"histogram2dcontour\":[{\"colorbar\":{\"outlinewidth\":0,\"ticks\":\"\"},\"colorscale\":[[0.0,\"#0d0887\"],[0.1111111111111111,\"#46039f\"],[0.2222222222222222,\"#7201a8\"],[0.3333333333333333,\"#9c179e\"],[0.4444444444444444,\"#bd3786\"],[0.5555555555555556,\"#d8576b\"],[0.6666666666666666,\"#ed7953\"],[0.7777777777777778,\"#fb9f3a\"],[0.8888888888888888,\"#fdca26\"],[1.0,\"#f0f921\"]],\"type\":\"histogram2dcontour\"}],\"histogram2d\":[{\"colorbar\":{\"outlinewidth\":0,\"ticks\":\"\"},\"colorscale\":[[0.0,\"#0d0887\"],[0.1111111111111111,\"#46039f\"],[0.2222222222222222,\"#7201a8\"],[0.3333333333333333,\"#9c179e\"],[0.4444444444444444,\"#bd3786\"],[0.5555555555555556,\"#d8576b\"],[0.6666666666666666,\"#ed7953\"],[0.7777777777777778,\"#fb9f3a\"],[0.8888888888888888,\"#fdca26\"],[1.0,\"#f0f921\"]],\"type\":\"histogram2d\"}],\"histogram\":[{\"marker\":{\"pattern\":{\"fillmode\":\"overlay\",\"size\":10,\"solidity\":0.2}},\"type\":\"histogram\"}],\"mesh3d\":[{\"colorbar\":{\"outlinewidth\":0,\"ticks\":\"\"},\"type\":\"mesh3d\"}],\"parcoords\":[{\"line\":{\"colorbar\":{\"outlinewidth\":0,\"ticks\":\"\"}},\"type\":\"parcoords\"}],\"pie\":[{\"automargin\":true,\"type\":\"pie\"}],\"scatter3d\":[{\"line\":{\"colorbar\":{\"outlinewidth\":0,\"ticks\":\"\"}},\"marker\":{\"colorbar\":{\"outlinewidth\":0,\"ticks\":\"\"}},\"type\":\"scatter3d\"}],\"scattercarpet\":[{\"marker\":{\"colorbar\":{\"outlinewidth\":0,\"ticks\":\"\"}},\"type\":\"scattercarpet\"}],\"scattergeo\":[{\"marker\":{\"colorbar\":{\"outlinewidth\":0,\"ticks\":\"\"}},\"type\":\"scattergeo\"}],\"scattergl\":[{\"marker\":{\"colorbar\":{\"outlinewidth\":0,\"ticks\":\"\"}},\"type\":\"scattergl\"}],\"scattermapbox\":[{\"marker\":{\"colorbar\":{\"outlinewidth\":0,\"ticks\":\"\"}},\"type\":\"scattermapbox\"}],\"scatterpolargl\":[{\"marker\":{\"colorbar\":{\"outlinewidth\":0,\"ticks\":\"\"}},\"type\":\"scatterpolargl\"}],\"scatterpolar\":[{\"marker\":{\"colorbar\":{\"outlinewidth\":0,\"ticks\":\"\"}},\"type\":\"scatterpolar\"}],\"scatter\":[{\"marker\":{\"colorbar\":{\"outlinewidth\":0,\"ticks\":\"\"}},\"type\":\"scatter\"}],\"scatterternary\":[{\"marker\":{\"colorbar\":{\"outlinewidth\":0,\"ticks\":\"\"}},\"type\":\"scatterternary\"}],\"surface\":[{\"colorbar\":{\"outlinewidth\":0,\"ticks\":\"\"},\"colorscale\":[[0.0,\"#0d0887\"],[0.1111111111111111,\"#46039f\"],[0.2222222222222222,\"#7201a8\"],[0.3333333333333333,\"#9c179e\"],[0.4444444444444444,\"#bd3786\"],[0.5555555555555556,\"#d8576b\"],[0.6666666666666666,\"#ed7953\"],[0.7777777777777778,\"#fb9f3a\"],[0.8888888888888888,\"#fdca26\"],[1.0,\"#f0f921\"]],\"type\":\"surface\"}],\"table\":[{\"cells\":{\"fill\":{\"color\":\"#EBF0F8\"},\"line\":{\"color\":\"white\"}},\"header\":{\"fill\":{\"color\":\"#C8D4E3\"},\"line\":{\"color\":\"white\"}},\"type\":\"table\"}]},\"layout\":{\"annotationdefaults\":{\"arrowcolor\":\"#2a3f5f\",\"arrowhead\":0,\"arrowwidth\":1},\"autotypenumbers\":\"strict\",\"coloraxis\":{\"colorbar\":{\"outlinewidth\":0,\"ticks\":\"\"}},\"colorscale\":{\"diverging\":[[0,\"#8e0152\"],[0.1,\"#c51b7d\"],[0.2,\"#de77ae\"],[0.3,\"#f1b6da\"],[0.4,\"#fde0ef\"],[0.5,\"#f7f7f7\"],[0.6,\"#e6f5d0\"],[0.7,\"#b8e186\"],[0.8,\"#7fbc41\"],[0.9,\"#4d9221\"],[1,\"#276419\"]],\"sequential\":[[0.0,\"#0d0887\"],[0.1111111111111111,\"#46039f\"],[0.2222222222222222,\"#7201a8\"],[0.3333333333333333,\"#9c179e\"],[0.4444444444444444,\"#bd3786\"],[0.5555555555555556,\"#d8576b\"],[0.6666666666666666,\"#ed7953\"],[0.7777777777777778,\"#fb9f3a\"],[0.8888888888888888,\"#fdca26\"],[1.0,\"#f0f921\"]],\"sequentialminus\":[[0.0,\"#0d0887\"],[0.1111111111111111,\"#46039f\"],[0.2222222222222222,\"#7201a8\"],[0.3333333333333333,\"#9c179e\"],[0.4444444444444444,\"#bd3786\"],[0.5555555555555556,\"#d8576b\"],[0.6666666666666666,\"#ed7953\"],[0.7777777777777778,\"#fb9f3a\"],[0.8888888888888888,\"#fdca26\"],[1.0,\"#f0f921\"]]},\"colorway\":[\"#636efa\",\"#EF553B\",\"#00cc96\",\"#ab63fa\",\"#FFA15A\",\"#19d3f3\",\"#FF6692\",\"#B6E880\",\"#FF97FF\",\"#FECB52\"],\"font\":{\"color\":\"#2a3f5f\"},\"geo\":{\"bgcolor\":\"white\",\"lakecolor\":\"white\",\"landcolor\":\"#E5ECF6\",\"showlakes\":true,\"showland\":true,\"subunitcolor\":\"white\"},\"hoverlabel\":{\"align\":\"left\"},\"hovermode\":\"closest\",\"mapbox\":{\"style\":\"light\"},\"paper_bgcolor\":\"white\",\"plot_bgcolor\":\"#E5ECF6\",\"polar\":{\"angularaxis\":{\"gridcolor\":\"white\",\"linecolor\":\"white\",\"ticks\":\"\"},\"bgcolor\":\"#E5ECF6\",\"radialaxis\":{\"gridcolor\":\"white\",\"linecolor\":\"white\",\"ticks\":\"\"}},\"scene\":{\"xaxis\":{\"backgroundcolor\":\"#E5ECF6\",\"gridcolor\":\"white\",\"gridwidth\":2,\"linecolor\":\"white\",\"showbackground\":true,\"ticks\":\"\",\"zerolinecolor\":\"white\"},\"yaxis\":{\"backgroundcolor\":\"#E5ECF6\",\"gridcolor\":\"white\",\"gridwidth\":2,\"linecolor\":\"white\",\"showbackground\":true,\"ticks\":\"\",\"zerolinecolor\":\"white\"},\"zaxis\":{\"backgroundcolor\":\"#E5ECF6\",\"gridcolor\":\"white\",\"gridwidth\":2,\"linecolor\":\"white\",\"showbackground\":true,\"ticks\":\"\",\"zerolinecolor\":\"white\"}},\"shapedefaults\":{\"line\":{\"color\":\"#2a3f5f\"}},\"ternary\":{\"aaxis\":{\"gridcolor\":\"white\",\"linecolor\":\"white\",\"ticks\":\"\"},\"baxis\":{\"gridcolor\":\"white\",\"linecolor\":\"white\",\"ticks\":\"\"},\"bgcolor\":\"#E5ECF6\",\"caxis\":{\"gridcolor\":\"white\",\"linecolor\":\"white\",\"ticks\":\"\"}},\"title\":{\"x\":0.05},\"xaxis\":{\"automargin\":true,\"gridcolor\":\"white\",\"linecolor\":\"white\",\"ticks\":\"\",\"title\":{\"standoff\":15},\"zerolinecolor\":\"white\",\"zerolinewidth\":2},\"yaxis\":{\"automargin\":true,\"gridcolor\":\"white\",\"linecolor\":\"white\",\"ticks\":\"\",\"title\":{\"standoff\":15},\"zerolinecolor\":\"white\",\"zerolinewidth\":2}}},\"title\":{\"font\":{\"color\":\"#4D5663\"}},\"xaxis\":{\"gridcolor\":\"#E1E5ED\",\"showgrid\":true,\"tickfont\":{\"color\":\"#4D5663\"},\"title\":{\"font\":{\"color\":\"#4D5663\"},\"text\":\"\"},\"zerolinecolor\":\"#E1E5ED\"},\"yaxis\":{\"gridcolor\":\"#E1E5ED\",\"showgrid\":true,\"tickfont\":{\"color\":\"#4D5663\"},\"title\":{\"font\":{\"color\":\"#4D5663\"},\"text\":\"\"},\"zerolinecolor\":\"#E1E5ED\"}},                        {\"showLink\": true, \"linkText\": \"Export to plot.ly\", \"plotlyServerURL\": \"https://plot.ly\", \"responsive\": true}                    ).then(function(){\n",
              "                            \n",
              "var gd = document.getElementById('66bdbba9-f077-47ba-97b9-090d30018189');\n",
              "var x = new MutationObserver(function (mutations, observer) {{\n",
              "        var display = window.getComputedStyle(gd).display;\n",
              "        if (!display || display === 'none') {{\n",
              "            console.log([gd, 'removed!']);\n",
              "            Plotly.purge(gd);\n",
              "            observer.disconnect();\n",
              "        }}\n",
              "}});\n",
              "\n",
              "// Listen for the removal of the full notebook cells\n",
              "var notebookContainer = gd.closest('#notebook-container');\n",
              "if (notebookContainer) {{\n",
              "    x.observe(notebookContainer, {childList: true});\n",
              "}}\n",
              "\n",
              "// Listen for the clearing of the current output cell\n",
              "var outputEl = gd.closest('.output');\n",
              "if (outputEl) {{\n",
              "    x.observe(outputEl, {childList: true});\n",
              "}}\n",
              "\n",
              "                        })                };                });            </script>        </div>"
            ]
          },
          "metadata": {}
        }
      ],
      "source": [
        "df.iplot(kind='bubble',x='A',y='B',size='C')"
      ]
    },
    {
      "cell_type": "markdown",
      "metadata": {
        "id": "PE5M32-dK5lf"
      },
      "source": [
        "## scatter_matrix()\n",
        "\n",
        "Similar a sns.pairplot()"
      ]
    },
    {
      "cell_type": "code",
      "execution_count": null,
      "metadata": {
        "colab": {
          "base_uri": "https://localhost:8080/",
          "height": 542
        },
        "id": "R7Yx0hF5K5lf",
        "outputId": "1cd5dae4-c31f-43ed-d5b0-022a390ca094"
      },
      "outputs": [
        {
          "output_type": "display_data",
          "data": {
            "application/vnd.plotly.v1+json": {
              "data": [
                {
                  "histfunc": "count",
                  "histnorm": "",
                  "marker": {
                    "color": "rgba(255, 153, 51, 1.0)",
                    "line": {
                      "color": "#4D5663",
                      "width": 1.3
                    }
                  },
                  "name": "A",
                  "nbinsx": 10,
                  "opacity": 0.8,
                  "orientation": "v",
                  "x": [
                    0.0178114694854835,
                    0.6503752891210457,
                    1.4746556294415147,
                    -0.002867505410992792,
                    -0.7757917649856074,
                    0.7662726192537015,
                    1.0664749327062275,
                    -0.11692736502946699,
                    0.3306590500365512,
                    -0.6039709270655202,
                    2.3235131537725375,
                    -1.581925335224607,
                    0.015324694821562445,
                    0.7668724051627919,
                    0.5449217852329432,
                    -1.5393392248297437,
                    0.8826309337533468,
                    -0.42177731108365596,
                    0.6252953354329761,
                    0.9475458834299388,
                    0.16638344745317185,
                    0.5872486334340409,
                    0.7331878127127393,
                    -0.8712133576574608,
                    0.02218394918355038,
                    -0.6013339495862363,
                    -1.756229955636603,
                    -1.9819893580331447,
                    1.3825585253185222,
                    0.18483164136281052,
                    -1.2679341148034344,
                    0.9949380071155695,
                    -1.1476115696647307,
                    -0.6479204186113192,
                    -0.3789275877400645,
                    0.2493338620032875,
                    1.4201510261872716,
                    -1.0503815196700217,
                    1.0554704075679069,
                    -1.0293234615296152,
                    -1.0822796524356448,
                    0.7684855357339191,
                    2.5192161436818195,
                    -1.9117744538897679,
                    1.5931709732081492,
                    0.5205078111864689,
                    -0.9035063004328567,
                    -0.039536779019681174,
                    0.013421263122439244,
                    -1.354389863999936,
                    0.20741889935212338,
                    -2.12861161880051,
                    -0.5361385106295921,
                    0.38466904193579843,
                    0.5746526914220886,
                    -0.870127691386053,
                    -0.00021741926349469498,
                    1.3073415839337295,
                    -0.3230346369356965,
                    -1.4318585137200077,
                    0.742678531238043,
                    -0.08997843766330833,
                    -0.9296646722359696,
                    -0.07779540095102579,
                    -0.46929144505777076,
                    0.008368761820374822,
                    -0.613299214024739,
                    1.1584825020371716,
                    -0.47277585985662945,
                    0.03805037863533173,
                    -1.127629142630456,
                    1.1062032945972584,
                    1.338797608931247,
                    -0.3109914547842166,
                    0.21070722316844118,
                    -0.15525145173830632,
                    -0.9436284343977237,
                    0.8405189744616796,
                    0.7194053183545105,
                    -0.5898131143539371,
                    0.11078070545200325,
                    -0.9101033501429266,
                    -0.2760212578221692,
                    -0.06121843562570686,
                    0.22082764961571158,
                    -0.8087040146874948,
                    -0.24795260940063577,
                    -0.18500473992804137,
                    -1.1261930084640464,
                    0.25926065036018053,
                    1.0626956597526414,
                    -0.29189730205400105,
                    1.4649070470221661,
                    0.15330410358902066,
                    -0.9135301588123295,
                    -1.5586000323884628,
                    0.7016050667461048,
                    -0.3143015581881234,
                    -0.41706765214680636,
                    -0.3921961494111043
                  ],
                  "xaxis": "x",
                  "yaxis": "y",
                  "type": "histogram"
                },
                {
                  "line": {
                    "color": "rgba(128, 128, 128, 1.0)",
                    "dash": "solid",
                    "shape": "linear",
                    "width": 1.3
                  },
                  "marker": {
                    "size": 2,
                    "symbol": "circle"
                  },
                  "mode": "markers",
                  "name": "A",
                  "text": "",
                  "x": [
                    -0.5617375702420864,
                    -1.2105280209767268,
                    0.8561250259063421,
                    -0.7107503858881543,
                    1.9101987417784274,
                    0.5789968113218955,
                    -0.9591681047529027,
                    0.5395359124881931,
                    1.3193862626751078,
                    0.6680228938498383,
                    -0.7341726211864084,
                    -0.6118985446054702,
                    -1.2141500234277,
                    1.5911478517284632,
                    -0.5261168186658791,
                    0.8457278666030731,
                    -1.0083412765657886,
                    2.032738956061042,
                    0.1463571733779813,
                    0.5177816732261287,
                    -0.769212161890698,
                    -1.069099261508924,
                    0.6217522583946871,
                    -0.7685130295505281,
                    0.9544080795307096,
                    -0.09436162464620383,
                    0.5375121175183534,
                    0.6747308503837377,
                    -0.5610675516558478,
                    0.94214409035032,
                    0.6064445545372859,
                    0.07104417008322735,
                    0.1330925122609887,
                    0.6136925994677905,
                    0.0035230303615803584,
                    -0.34532692952094346,
                    0.13237764586606712,
                    -0.9646644055964682,
                    0.130714844563745,
                    0.10519423612640431,
                    0.8547224198592885,
                    1.4829075328199424,
                    -0.9952118382098827,
                    -0.6046778657833812,
                    -0.0130276454638649,
                    1.087828140993123,
                    0.2085807423899216,
                    0.74207524333408,
                    -0.7939304210976657,
                    0.882859631977347,
                    0.21805155116360347,
                    0.8191732685075461,
                    -0.33300967724353003,
                    -0.5919052919299606,
                    -1.7071195729782942,
                    -1.1895653090495355,
                    0.6390977779302962,
                    1.295456870258728,
                    1.0432603943938363,
                    1.5067829763146572,
                    0.9566913863674601,
                    1.310266945124139,
                    -1.93090349772417,
                    0.5108049211688599,
                    -1.8206417027981763,
                    0.4919314503964313,
                    1.0367104751357175,
                    -0.5070167039378888,
                    0.4444149359221097,
                    0.5942474438048201,
                    -2.4036581156786467,
                    -0.738923209691997,
                    0.2483313091113896,
                    -1.5896989324533435,
                    -0.1767444417931268,
                    1.2918585657024686,
                    0.15436931061292777,
                    -0.020693967852573433,
                    -1.2953814780999942,
                    -0.33164381746601795,
                    -1.98419870685544,
                    -0.0977188523628509,
                    -1.3414203013691797,
                    0.19001993628446323,
                    -1.144617917384704,
                    0.6281985093673482,
                    0.31282287792073715,
                    -0.4335108153748616,
                    0.08996165145511464,
                    -0.4049630640050919,
                    -1.3655766758769943,
                    0.003863089142866324,
                    1.9544805266971712,
                    1.4025801247991099,
                    1.5133080358291704,
                    -1.081597061248639,
                    0.08033346985791334,
                    -0.8574779036981085,
                    -0.5578342097981503,
                    -1.0823858458747249
                  ],
                  "xaxis": "x2",
                  "y": [
                    0.0178114694854835,
                    0.6503752891210457,
                    1.4746556294415147,
                    -0.002867505410992792,
                    -0.7757917649856074,
                    0.7662726192537015,
                    1.0664749327062275,
                    -0.11692736502946699,
                    0.3306590500365512,
                    -0.6039709270655202,
                    2.3235131537725375,
                    -1.581925335224607,
                    0.015324694821562445,
                    0.7668724051627919,
                    0.5449217852329432,
                    -1.5393392248297437,
                    0.8826309337533468,
                    -0.42177731108365596,
                    0.6252953354329761,
                    0.9475458834299388,
                    0.16638344745317185,
                    0.5872486334340409,
                    0.7331878127127393,
                    -0.8712133576574608,
                    0.02218394918355038,
                    -0.6013339495862363,
                    -1.756229955636603,
                    -1.9819893580331447,
                    1.3825585253185222,
                    0.18483164136281052,
                    -1.2679341148034344,
                    0.9949380071155695,
                    -1.1476115696647307,
                    -0.6479204186113192,
                    -0.3789275877400645,
                    0.2493338620032875,
                    1.4201510261872716,
                    -1.0503815196700217,
                    1.0554704075679069,
                    -1.0293234615296152,
                    -1.0822796524356448,
                    0.7684855357339191,
                    2.5192161436818195,
                    -1.9117744538897679,
                    1.5931709732081492,
                    0.5205078111864689,
                    -0.9035063004328567,
                    -0.039536779019681174,
                    0.013421263122439244,
                    -1.354389863999936,
                    0.20741889935212338,
                    -2.12861161880051,
                    -0.5361385106295921,
                    0.38466904193579843,
                    0.5746526914220886,
                    -0.870127691386053,
                    -0.00021741926349469498,
                    1.3073415839337295,
                    -0.3230346369356965,
                    -1.4318585137200077,
                    0.742678531238043,
                    -0.08997843766330833,
                    -0.9296646722359696,
                    -0.07779540095102579,
                    -0.46929144505777076,
                    0.008368761820374822,
                    -0.613299214024739,
                    1.1584825020371716,
                    -0.47277585985662945,
                    0.03805037863533173,
                    -1.127629142630456,
                    1.1062032945972584,
                    1.338797608931247,
                    -0.3109914547842166,
                    0.21070722316844118,
                    -0.15525145173830632,
                    -0.9436284343977237,
                    0.8405189744616796,
                    0.7194053183545105,
                    -0.5898131143539371,
                    0.11078070545200325,
                    -0.9101033501429266,
                    -0.2760212578221692,
                    -0.06121843562570686,
                    0.22082764961571158,
                    -0.8087040146874948,
                    -0.24795260940063577,
                    -0.18500473992804137,
                    -1.1261930084640464,
                    0.25926065036018053,
                    1.0626956597526414,
                    -0.29189730205400105,
                    1.4649070470221661,
                    0.15330410358902066,
                    -0.9135301588123295,
                    -1.5586000323884628,
                    0.7016050667461048,
                    -0.3143015581881234,
                    -0.41706765214680636,
                    -0.3921961494111043
                  ],
                  "yaxis": "y2",
                  "type": "scatter"
                },
                {
                  "line": {
                    "color": "rgba(128, 128, 128, 1.0)",
                    "dash": "solid",
                    "shape": "linear",
                    "width": 1.3
                  },
                  "marker": {
                    "size": 2,
                    "symbol": "circle"
                  },
                  "mode": "markers",
                  "name": "A",
                  "text": "",
                  "x": [
                    -0.22988724567685068,
                    0.17211208293326638,
                    -0.891866874750063,
                    -1.4208268256596377,
                    -1.5096491399989973,
                    1.1047438368262026,
                    -0.6213705058759526,
                    0.23971762053336035,
                    -0.42150105154750994,
                    0.1882318030835403,
                    1.2575508166587719,
                    -0.2242558811223914,
                    0.24739831047320376,
                    -0.07660113555994527,
                    -0.27767955287392726,
                    0.582957367085622,
                    -0.7630131125241152,
                    -0.498854865462507,
                    -0.2372975468039774,
                    1.0293829524030838,
                    0.2665421039152957,
                    -0.7283486827820418,
                    -0.4324384878981543,
                    1.0865630794601617,
                    0.7064189848921297,
                    0.4900608058256672,
                    0.29723156415423607,
                    1.510895455774434,
                    0.5718871794669691,
                    0.8761321844277847,
                    -0.40417579185597763,
                    -0.3798921640839629,
                    0.5522284039676492,
                    0.686974485202635,
                    -1.4127325618659128,
                    1.3066560665482645,
                    -0.009758700388875594,
                    0.5552146054805828,
                    0.21566804645670642,
                    -0.39240933951428913,
                    -0.8879505183629269,
                    -1.192214810338215,
                    -0.06777557439608581,
                    -0.5171084617987218,
                    -0.15087274443869356,
                    0.13587754591411752,
                    -0.9622912222444939,
                    0.638186730745737,
                    -0.5129861508700331,
                    1.645816480310981,
                    -1.0140986777422094,
                    -2.236568069692717,
                    0.1250521384092541,
                    2.4824183877463204,
                    0.5804193849674129,
                    -0.49519575868165633,
                    1.404292027644616,
                    -0.5740444848836095,
                    -1.9195774568110873,
                    -0.531383677376116,
                    -0.7574628978397108,
                    -0.2611686074531827,
                    0.21325247853887236,
                    -0.5688195514278918,
                    1.407855318324713,
                    -0.26715323393690205,
                    0.0768479951656562,
                    -0.7160073257075226,
                    -1.005085258333275,
                    2.8195460489570543,
                    -1.382176070380219,
                    1.4951735061880786,
                    -0.05108020834368662,
                    0.5883706860719372,
                    -0.15897927556667274,
                    -0.4189142343829021,
                    -0.023430592051969238,
                    -0.8559145291990594,
                    1.3343773242424868,
                    -1.7351043094162564,
                    -1.0775923821463007,
                    -0.7637373361069689,
                    0.40966995116429694,
                    0.9233843911474657,
                    2.5424858652010394,
                    0.1698631879030505,
                    1.1314177046313625,
                    0.18121743533844004,
                    -0.6767345339135239,
                    -0.6119872089364478,
                    1.7661491752308893,
                    1.0041798114796423,
                    0.42240183560358363,
                    -0.06640433508646586,
                    -0.028537720723805997,
                    -1.8786857981031913,
                    0.4291889448384859,
                    0.2521237637603228,
                    -1.3953715323858975,
                    0.40252028051630123
                  ],
                  "xaxis": "x3",
                  "y": [
                    0.0178114694854835,
                    0.6503752891210457,
                    1.4746556294415147,
                    -0.002867505410992792,
                    -0.7757917649856074,
                    0.7662726192537015,
                    1.0664749327062275,
                    -0.11692736502946699,
                    0.3306590500365512,
                    -0.6039709270655202,
                    2.3235131537725375,
                    -1.581925335224607,
                    0.015324694821562445,
                    0.7668724051627919,
                    0.5449217852329432,
                    -1.5393392248297437,
                    0.8826309337533468,
                    -0.42177731108365596,
                    0.6252953354329761,
                    0.9475458834299388,
                    0.16638344745317185,
                    0.5872486334340409,
                    0.7331878127127393,
                    -0.8712133576574608,
                    0.02218394918355038,
                    -0.6013339495862363,
                    -1.756229955636603,
                    -1.9819893580331447,
                    1.3825585253185222,
                    0.18483164136281052,
                    -1.2679341148034344,
                    0.9949380071155695,
                    -1.1476115696647307,
                    -0.6479204186113192,
                    -0.3789275877400645,
                    0.2493338620032875,
                    1.4201510261872716,
                    -1.0503815196700217,
                    1.0554704075679069,
                    -1.0293234615296152,
                    -1.0822796524356448,
                    0.7684855357339191,
                    2.5192161436818195,
                    -1.9117744538897679,
                    1.5931709732081492,
                    0.5205078111864689,
                    -0.9035063004328567,
                    -0.039536779019681174,
                    0.013421263122439244,
                    -1.354389863999936,
                    0.20741889935212338,
                    -2.12861161880051,
                    -0.5361385106295921,
                    0.38466904193579843,
                    0.5746526914220886,
                    -0.870127691386053,
                    -0.00021741926349469498,
                    1.3073415839337295,
                    -0.3230346369356965,
                    -1.4318585137200077,
                    0.742678531238043,
                    -0.08997843766330833,
                    -0.9296646722359696,
                    -0.07779540095102579,
                    -0.46929144505777076,
                    0.008368761820374822,
                    -0.613299214024739,
                    1.1584825020371716,
                    -0.47277585985662945,
                    0.03805037863533173,
                    -1.127629142630456,
                    1.1062032945972584,
                    1.338797608931247,
                    -0.3109914547842166,
                    0.21070722316844118,
                    -0.15525145173830632,
                    -0.9436284343977237,
                    0.8405189744616796,
                    0.7194053183545105,
                    -0.5898131143539371,
                    0.11078070545200325,
                    -0.9101033501429266,
                    -0.2760212578221692,
                    -0.06121843562570686,
                    0.22082764961571158,
                    -0.8087040146874948,
                    -0.24795260940063577,
                    -0.18500473992804137,
                    -1.1261930084640464,
                    0.25926065036018053,
                    1.0626956597526414,
                    -0.29189730205400105,
                    1.4649070470221661,
                    0.15330410358902066,
                    -0.9135301588123295,
                    -1.5586000323884628,
                    0.7016050667461048,
                    -0.3143015581881234,
                    -0.41706765214680636,
                    -0.3921961494111043
                  ],
                  "yaxis": "y3",
                  "type": "scatter"
                },
                {
                  "line": {
                    "color": "rgba(128, 128, 128, 1.0)",
                    "dash": "solid",
                    "shape": "linear",
                    "width": 1.3
                  },
                  "marker": {
                    "size": 2,
                    "symbol": "circle"
                  },
                  "mode": "markers",
                  "name": "A",
                  "text": "",
                  "x": [
                    2.217554665916425,
                    -0.3014961031768279,
                    2.435613600465756,
                    -0.06903105312093644,
                    0.16049249793884535,
                    1.4180398930616278,
                    -1.8045472367929227,
                    0.5344165086215533,
                    -0.038520391182023606,
                    0.12710483292774583,
                    -1.5277430040653537,
                    0.22427178756539254,
                    -0.21517376571041835,
                    -0.758117522841429,
                    -1.3004537000575158,
                    0.17826685003088555,
                    0.718522576537042,
                    0.7876952780235554,
                    2.3523033307838763,
                    -0.5962702308195855,
                    -0.2646762483414622,
                    -1.7286731027147495,
                    0.20144956052599025,
                    -0.3306389264626234,
                    -0.14784632704235154,
                    -0.9023165497848213,
                    -0.06312222293826868,
                    -1.2010271790483693,
                    -1.9125973030504928,
                    1.5885566934691924,
                    -0.6642189929482608,
                    0.6000240020953647,
                    -0.3718083932801579,
                    -0.6700096446351057,
                    0.2055605709273506,
                    0.2891834045390556,
                    -1.711456813282301,
                    -1.0214000207882854,
                    1.6979855994520434,
                    -1.3947132230373687,
                    1.307883451250784,
                    -1.491701901333726,
                    0.13667598515428284,
                    1.1310987850031646,
                    -0.09813756580182041,
                    1.9215470008664755,
                    0.140313366614571,
                    1.0736218915148381,
                    0.5858877597877262,
                    -0.7432428932391569,
                    -0.5801471262696313,
                    -0.20659453054893556,
                    -1.3007532899368388,
                    -0.4310556377252584,
                    0.42996028376510664,
                    1.4016676118454796,
                    0.2430069221168277,
                    1.8472401608197366,
                    1.498304566986409,
                    -1.564287463136836,
                    0.8385975805558931,
                    -0.9101908408064494,
                    -2.10492909587321,
                    -0.3000342633285618,
                    -1.2281908664666685,
                    -0.5331990116419886,
                    0.8903214581542908,
                    -0.4740851170792387,
                    0.4602731894140559,
                    0.6424987013369353,
                    1.4922047734978898,
                    -1.0071965838846078,
                    -1.3468250534062194,
                    1.904043391134527,
                    -1.6025200334480592,
                    0.6224344759858497,
                    2.2407335848252705,
                    -2.3954468647618827,
                    1.6870230499417707,
                    -1.522119674669922,
                    -0.8382111099336146,
                    -1.5559050420334775,
                    -0.3735782088074512,
                    -0.6327142199121746,
                    -1.5038494966680584,
                    -0.0056455502949022485,
                    0.7397157749883283,
                    -1.5827676952799536,
                    0.8850699955786837,
                    -2.2070942654407713,
                    -0.7088402650691995,
                    -0.03173691299840874,
                    0.2622837161008249,
                    0.014908102376371864,
                    1.7300091561481785,
                    0.5704309048437817,
                    0.15017321197562175,
                    -1.2226023877510208,
                    -0.3799244752357741,
                    -0.6819290793598226
                  ],
                  "xaxis": "x4",
                  "y": [
                    0.0178114694854835,
                    0.6503752891210457,
                    1.4746556294415147,
                    -0.002867505410992792,
                    -0.7757917649856074,
                    0.7662726192537015,
                    1.0664749327062275,
                    -0.11692736502946699,
                    0.3306590500365512,
                    -0.6039709270655202,
                    2.3235131537725375,
                    -1.581925335224607,
                    0.015324694821562445,
                    0.7668724051627919,
                    0.5449217852329432,
                    -1.5393392248297437,
                    0.8826309337533468,
                    -0.42177731108365596,
                    0.6252953354329761,
                    0.9475458834299388,
                    0.16638344745317185,
                    0.5872486334340409,
                    0.7331878127127393,
                    -0.8712133576574608,
                    0.02218394918355038,
                    -0.6013339495862363,
                    -1.756229955636603,
                    -1.9819893580331447,
                    1.3825585253185222,
                    0.18483164136281052,
                    -1.2679341148034344,
                    0.9949380071155695,
                    -1.1476115696647307,
                    -0.6479204186113192,
                    -0.3789275877400645,
                    0.2493338620032875,
                    1.4201510261872716,
                    -1.0503815196700217,
                    1.0554704075679069,
                    -1.0293234615296152,
                    -1.0822796524356448,
                    0.7684855357339191,
                    2.5192161436818195,
                    -1.9117744538897679,
                    1.5931709732081492,
                    0.5205078111864689,
                    -0.9035063004328567,
                    -0.039536779019681174,
                    0.013421263122439244,
                    -1.354389863999936,
                    0.20741889935212338,
                    -2.12861161880051,
                    -0.5361385106295921,
                    0.38466904193579843,
                    0.5746526914220886,
                    -0.870127691386053,
                    -0.00021741926349469498,
                    1.3073415839337295,
                    -0.3230346369356965,
                    -1.4318585137200077,
                    0.742678531238043,
                    -0.08997843766330833,
                    -0.9296646722359696,
                    -0.07779540095102579,
                    -0.46929144505777076,
                    0.008368761820374822,
                    -0.613299214024739,
                    1.1584825020371716,
                    -0.47277585985662945,
                    0.03805037863533173,
                    -1.127629142630456,
                    1.1062032945972584,
                    1.338797608931247,
                    -0.3109914547842166,
                    0.21070722316844118,
                    -0.15525145173830632,
                    -0.9436284343977237,
                    0.8405189744616796,
                    0.7194053183545105,
                    -0.5898131143539371,
                    0.11078070545200325,
                    -0.9101033501429266,
                    -0.2760212578221692,
                    -0.06121843562570686,
                    0.22082764961571158,
                    -0.8087040146874948,
                    -0.24795260940063577,
                    -0.18500473992804137,
                    -1.1261930084640464,
                    0.25926065036018053,
                    1.0626956597526414,
                    -0.29189730205400105,
                    1.4649070470221661,
                    0.15330410358902066,
                    -0.9135301588123295,
                    -1.5586000323884628,
                    0.7016050667461048,
                    -0.3143015581881234,
                    -0.41706765214680636,
                    -0.3921961494111043
                  ],
                  "yaxis": "y4",
                  "type": "scatter"
                },
                {
                  "line": {
                    "color": "rgba(128, 128, 128, 1.0)",
                    "dash": "solid",
                    "shape": "linear",
                    "width": 1.3
                  },
                  "marker": {
                    "size": 2,
                    "symbol": "circle"
                  },
                  "mode": "markers",
                  "name": "B",
                  "text": "",
                  "x": [
                    0.0178114694854835,
                    0.6503752891210457,
                    1.4746556294415147,
                    -0.002867505410992792,
                    -0.7757917649856074,
                    0.7662726192537015,
                    1.0664749327062275,
                    -0.11692736502946699,
                    0.3306590500365512,
                    -0.6039709270655202,
                    2.3235131537725375,
                    -1.581925335224607,
                    0.015324694821562445,
                    0.7668724051627919,
                    0.5449217852329432,
                    -1.5393392248297437,
                    0.8826309337533468,
                    -0.42177731108365596,
                    0.6252953354329761,
                    0.9475458834299388,
                    0.16638344745317185,
                    0.5872486334340409,
                    0.7331878127127393,
                    -0.8712133576574608,
                    0.02218394918355038,
                    -0.6013339495862363,
                    -1.756229955636603,
                    -1.9819893580331447,
                    1.3825585253185222,
                    0.18483164136281052,
                    -1.2679341148034344,
                    0.9949380071155695,
                    -1.1476115696647307,
                    -0.6479204186113192,
                    -0.3789275877400645,
                    0.2493338620032875,
                    1.4201510261872716,
                    -1.0503815196700217,
                    1.0554704075679069,
                    -1.0293234615296152,
                    -1.0822796524356448,
                    0.7684855357339191,
                    2.5192161436818195,
                    -1.9117744538897679,
                    1.5931709732081492,
                    0.5205078111864689,
                    -0.9035063004328567,
                    -0.039536779019681174,
                    0.013421263122439244,
                    -1.354389863999936,
                    0.20741889935212338,
                    -2.12861161880051,
                    -0.5361385106295921,
                    0.38466904193579843,
                    0.5746526914220886,
                    -0.870127691386053,
                    -0.00021741926349469498,
                    1.3073415839337295,
                    -0.3230346369356965,
                    -1.4318585137200077,
                    0.742678531238043,
                    -0.08997843766330833,
                    -0.9296646722359696,
                    -0.07779540095102579,
                    -0.46929144505777076,
                    0.008368761820374822,
                    -0.613299214024739,
                    1.1584825020371716,
                    -0.47277585985662945,
                    0.03805037863533173,
                    -1.127629142630456,
                    1.1062032945972584,
                    1.338797608931247,
                    -0.3109914547842166,
                    0.21070722316844118,
                    -0.15525145173830632,
                    -0.9436284343977237,
                    0.8405189744616796,
                    0.7194053183545105,
                    -0.5898131143539371,
                    0.11078070545200325,
                    -0.9101033501429266,
                    -0.2760212578221692,
                    -0.06121843562570686,
                    0.22082764961571158,
                    -0.8087040146874948,
                    -0.24795260940063577,
                    -0.18500473992804137,
                    -1.1261930084640464,
                    0.25926065036018053,
                    1.0626956597526414,
                    -0.29189730205400105,
                    1.4649070470221661,
                    0.15330410358902066,
                    -0.9135301588123295,
                    -1.5586000323884628,
                    0.7016050667461048,
                    -0.3143015581881234,
                    -0.41706765214680636,
                    -0.3921961494111043
                  ],
                  "xaxis": "x5",
                  "y": [
                    -0.5617375702420864,
                    -1.2105280209767268,
                    0.8561250259063421,
                    -0.7107503858881543,
                    1.9101987417784274,
                    0.5789968113218955,
                    -0.9591681047529027,
                    0.5395359124881931,
                    1.3193862626751078,
                    0.6680228938498383,
                    -0.7341726211864084,
                    -0.6118985446054702,
                    -1.2141500234277,
                    1.5911478517284632,
                    -0.5261168186658791,
                    0.8457278666030731,
                    -1.0083412765657886,
                    2.032738956061042,
                    0.1463571733779813,
                    0.5177816732261287,
                    -0.769212161890698,
                    -1.069099261508924,
                    0.6217522583946871,
                    -0.7685130295505281,
                    0.9544080795307096,
                    -0.09436162464620383,
                    0.5375121175183534,
                    0.6747308503837377,
                    -0.5610675516558478,
                    0.94214409035032,
                    0.6064445545372859,
                    0.07104417008322735,
                    0.1330925122609887,
                    0.6136925994677905,
                    0.0035230303615803584,
                    -0.34532692952094346,
                    0.13237764586606712,
                    -0.9646644055964682,
                    0.130714844563745,
                    0.10519423612640431,
                    0.8547224198592885,
                    1.4829075328199424,
                    -0.9952118382098827,
                    -0.6046778657833812,
                    -0.0130276454638649,
                    1.087828140993123,
                    0.2085807423899216,
                    0.74207524333408,
                    -0.7939304210976657,
                    0.882859631977347,
                    0.21805155116360347,
                    0.8191732685075461,
                    -0.33300967724353003,
                    -0.5919052919299606,
                    -1.7071195729782942,
                    -1.1895653090495355,
                    0.6390977779302962,
                    1.295456870258728,
                    1.0432603943938363,
                    1.5067829763146572,
                    0.9566913863674601,
                    1.310266945124139,
                    -1.93090349772417,
                    0.5108049211688599,
                    -1.8206417027981763,
                    0.4919314503964313,
                    1.0367104751357175,
                    -0.5070167039378888,
                    0.4444149359221097,
                    0.5942474438048201,
                    -2.4036581156786467,
                    -0.738923209691997,
                    0.2483313091113896,
                    -1.5896989324533435,
                    -0.1767444417931268,
                    1.2918585657024686,
                    0.15436931061292777,
                    -0.020693967852573433,
                    -1.2953814780999942,
                    -0.33164381746601795,
                    -1.98419870685544,
                    -0.0977188523628509,
                    -1.3414203013691797,
                    0.19001993628446323,
                    -1.144617917384704,
                    0.6281985093673482,
                    0.31282287792073715,
                    -0.4335108153748616,
                    0.08996165145511464,
                    -0.4049630640050919,
                    -1.3655766758769943,
                    0.003863089142866324,
                    1.9544805266971712,
                    1.4025801247991099,
                    1.5133080358291704,
                    -1.081597061248639,
                    0.08033346985791334,
                    -0.8574779036981085,
                    -0.5578342097981503,
                    -1.0823858458747249
                  ],
                  "yaxis": "y5",
                  "type": "scatter"
                },
                {
                  "histfunc": "count",
                  "histnorm": "",
                  "marker": {
                    "color": "rgba(55, 128, 191, 1.0)",
                    "line": {
                      "color": "#4D5663",
                      "width": 1.3
                    }
                  },
                  "name": "B",
                  "nbinsx": 10,
                  "opacity": 0.8,
                  "orientation": "v",
                  "x": [
                    -0.5617375702420864,
                    -1.2105280209767268,
                    0.8561250259063421,
                    -0.7107503858881543,
                    1.9101987417784274,
                    0.5789968113218955,
                    -0.9591681047529027,
                    0.5395359124881931,
                    1.3193862626751078,
                    0.6680228938498383,
                    -0.7341726211864084,
                    -0.6118985446054702,
                    -1.2141500234277,
                    1.5911478517284632,
                    -0.5261168186658791,
                    0.8457278666030731,
                    -1.0083412765657886,
                    2.032738956061042,
                    0.1463571733779813,
                    0.5177816732261287,
                    -0.769212161890698,
                    -1.069099261508924,
                    0.6217522583946871,
                    -0.7685130295505281,
                    0.9544080795307096,
                    -0.09436162464620383,
                    0.5375121175183534,
                    0.6747308503837377,
                    -0.5610675516558478,
                    0.94214409035032,
                    0.6064445545372859,
                    0.07104417008322735,
                    0.1330925122609887,
                    0.6136925994677905,
                    0.0035230303615803584,
                    -0.34532692952094346,
                    0.13237764586606712,
                    -0.9646644055964682,
                    0.130714844563745,
                    0.10519423612640431,
                    0.8547224198592885,
                    1.4829075328199424,
                    -0.9952118382098827,
                    -0.6046778657833812,
                    -0.0130276454638649,
                    1.087828140993123,
                    0.2085807423899216,
                    0.74207524333408,
                    -0.7939304210976657,
                    0.882859631977347,
                    0.21805155116360347,
                    0.8191732685075461,
                    -0.33300967724353003,
                    -0.5919052919299606,
                    -1.7071195729782942,
                    -1.1895653090495355,
                    0.6390977779302962,
                    1.295456870258728,
                    1.0432603943938363,
                    1.5067829763146572,
                    0.9566913863674601,
                    1.310266945124139,
                    -1.93090349772417,
                    0.5108049211688599,
                    -1.8206417027981763,
                    0.4919314503964313,
                    1.0367104751357175,
                    -0.5070167039378888,
                    0.4444149359221097,
                    0.5942474438048201,
                    -2.4036581156786467,
                    -0.738923209691997,
                    0.2483313091113896,
                    -1.5896989324533435,
                    -0.1767444417931268,
                    1.2918585657024686,
                    0.15436931061292777,
                    -0.020693967852573433,
                    -1.2953814780999942,
                    -0.33164381746601795,
                    -1.98419870685544,
                    -0.0977188523628509,
                    -1.3414203013691797,
                    0.19001993628446323,
                    -1.144617917384704,
                    0.6281985093673482,
                    0.31282287792073715,
                    -0.4335108153748616,
                    0.08996165145511464,
                    -0.4049630640050919,
                    -1.3655766758769943,
                    0.003863089142866324,
                    1.9544805266971712,
                    1.4025801247991099,
                    1.5133080358291704,
                    -1.081597061248639,
                    0.08033346985791334,
                    -0.8574779036981085,
                    -0.5578342097981503,
                    -1.0823858458747249
                  ],
                  "xaxis": "x6",
                  "yaxis": "y6",
                  "type": "histogram"
                },
                {
                  "line": {
                    "color": "rgba(128, 128, 128, 1.0)",
                    "dash": "solid",
                    "shape": "linear",
                    "width": 1.3
                  },
                  "marker": {
                    "size": 2,
                    "symbol": "circle"
                  },
                  "mode": "markers",
                  "name": "B",
                  "text": "",
                  "x": [
                    -0.22988724567685068,
                    0.17211208293326638,
                    -0.891866874750063,
                    -1.4208268256596377,
                    -1.5096491399989973,
                    1.1047438368262026,
                    -0.6213705058759526,
                    0.23971762053336035,
                    -0.42150105154750994,
                    0.1882318030835403,
                    1.2575508166587719,
                    -0.2242558811223914,
                    0.24739831047320376,
                    -0.07660113555994527,
                    -0.27767955287392726,
                    0.582957367085622,
                    -0.7630131125241152,
                    -0.498854865462507,
                    -0.2372975468039774,
                    1.0293829524030838,
                    0.2665421039152957,
                    -0.7283486827820418,
                    -0.4324384878981543,
                    1.0865630794601617,
                    0.7064189848921297,
                    0.4900608058256672,
                    0.29723156415423607,
                    1.510895455774434,
                    0.5718871794669691,
                    0.8761321844277847,
                    -0.40417579185597763,
                    -0.3798921640839629,
                    0.5522284039676492,
                    0.686974485202635,
                    -1.4127325618659128,
                    1.3066560665482645,
                    -0.009758700388875594,
                    0.5552146054805828,
                    0.21566804645670642,
                    -0.39240933951428913,
                    -0.8879505183629269,
                    -1.192214810338215,
                    -0.06777557439608581,
                    -0.5171084617987218,
                    -0.15087274443869356,
                    0.13587754591411752,
                    -0.9622912222444939,
                    0.638186730745737,
                    -0.5129861508700331,
                    1.645816480310981,
                    -1.0140986777422094,
                    -2.236568069692717,
                    0.1250521384092541,
                    2.4824183877463204,
                    0.5804193849674129,
                    -0.49519575868165633,
                    1.404292027644616,
                    -0.5740444848836095,
                    -1.9195774568110873,
                    -0.531383677376116,
                    -0.7574628978397108,
                    -0.2611686074531827,
                    0.21325247853887236,
                    -0.5688195514278918,
                    1.407855318324713,
                    -0.26715323393690205,
                    0.0768479951656562,
                    -0.7160073257075226,
                    -1.005085258333275,
                    2.8195460489570543,
                    -1.382176070380219,
                    1.4951735061880786,
                    -0.05108020834368662,
                    0.5883706860719372,
                    -0.15897927556667274,
                    -0.4189142343829021,
                    -0.023430592051969238,
                    -0.8559145291990594,
                    1.3343773242424868,
                    -1.7351043094162564,
                    -1.0775923821463007,
                    -0.7637373361069689,
                    0.40966995116429694,
                    0.9233843911474657,
                    2.5424858652010394,
                    0.1698631879030505,
                    1.1314177046313625,
                    0.18121743533844004,
                    -0.6767345339135239,
                    -0.6119872089364478,
                    1.7661491752308893,
                    1.0041798114796423,
                    0.42240183560358363,
                    -0.06640433508646586,
                    -0.028537720723805997,
                    -1.8786857981031913,
                    0.4291889448384859,
                    0.2521237637603228,
                    -1.3953715323858975,
                    0.40252028051630123
                  ],
                  "xaxis": "x7",
                  "y": [
                    -0.5617375702420864,
                    -1.2105280209767268,
                    0.8561250259063421,
                    -0.7107503858881543,
                    1.9101987417784274,
                    0.5789968113218955,
                    -0.9591681047529027,
                    0.5395359124881931,
                    1.3193862626751078,
                    0.6680228938498383,
                    -0.7341726211864084,
                    -0.6118985446054702,
                    -1.2141500234277,
                    1.5911478517284632,
                    -0.5261168186658791,
                    0.8457278666030731,
                    -1.0083412765657886,
                    2.032738956061042,
                    0.1463571733779813,
                    0.5177816732261287,
                    -0.769212161890698,
                    -1.069099261508924,
                    0.6217522583946871,
                    -0.7685130295505281,
                    0.9544080795307096,
                    -0.09436162464620383,
                    0.5375121175183534,
                    0.6747308503837377,
                    -0.5610675516558478,
                    0.94214409035032,
                    0.6064445545372859,
                    0.07104417008322735,
                    0.1330925122609887,
                    0.6136925994677905,
                    0.0035230303615803584,
                    -0.34532692952094346,
                    0.13237764586606712,
                    -0.9646644055964682,
                    0.130714844563745,
                    0.10519423612640431,
                    0.8547224198592885,
                    1.4829075328199424,
                    -0.9952118382098827,
                    -0.6046778657833812,
                    -0.0130276454638649,
                    1.087828140993123,
                    0.2085807423899216,
                    0.74207524333408,
                    -0.7939304210976657,
                    0.882859631977347,
                    0.21805155116360347,
                    0.8191732685075461,
                    -0.33300967724353003,
                    -0.5919052919299606,
                    -1.7071195729782942,
                    -1.1895653090495355,
                    0.6390977779302962,
                    1.295456870258728,
                    1.0432603943938363,
                    1.5067829763146572,
                    0.9566913863674601,
                    1.310266945124139,
                    -1.93090349772417,
                    0.5108049211688599,
                    -1.8206417027981763,
                    0.4919314503964313,
                    1.0367104751357175,
                    -0.5070167039378888,
                    0.4444149359221097,
                    0.5942474438048201,
                    -2.4036581156786467,
                    -0.738923209691997,
                    0.2483313091113896,
                    -1.5896989324533435,
                    -0.1767444417931268,
                    1.2918585657024686,
                    0.15436931061292777,
                    -0.020693967852573433,
                    -1.2953814780999942,
                    -0.33164381746601795,
                    -1.98419870685544,
                    -0.0977188523628509,
                    -1.3414203013691797,
                    0.19001993628446323,
                    -1.144617917384704,
                    0.6281985093673482,
                    0.31282287792073715,
                    -0.4335108153748616,
                    0.08996165145511464,
                    -0.4049630640050919,
                    -1.3655766758769943,
                    0.003863089142866324,
                    1.9544805266971712,
                    1.4025801247991099,
                    1.5133080358291704,
                    -1.081597061248639,
                    0.08033346985791334,
                    -0.8574779036981085,
                    -0.5578342097981503,
                    -1.0823858458747249
                  ],
                  "yaxis": "y7",
                  "type": "scatter"
                },
                {
                  "line": {
                    "color": "rgba(128, 128, 128, 1.0)",
                    "dash": "solid",
                    "shape": "linear",
                    "width": 1.3
                  },
                  "marker": {
                    "size": 2,
                    "symbol": "circle"
                  },
                  "mode": "markers",
                  "name": "B",
                  "text": "",
                  "x": [
                    2.217554665916425,
                    -0.3014961031768279,
                    2.435613600465756,
                    -0.06903105312093644,
                    0.16049249793884535,
                    1.4180398930616278,
                    -1.8045472367929227,
                    0.5344165086215533,
                    -0.038520391182023606,
                    0.12710483292774583,
                    -1.5277430040653537,
                    0.22427178756539254,
                    -0.21517376571041835,
                    -0.758117522841429,
                    -1.3004537000575158,
                    0.17826685003088555,
                    0.718522576537042,
                    0.7876952780235554,
                    2.3523033307838763,
                    -0.5962702308195855,
                    -0.2646762483414622,
                    -1.7286731027147495,
                    0.20144956052599025,
                    -0.3306389264626234,
                    -0.14784632704235154,
                    -0.9023165497848213,
                    -0.06312222293826868,
                    -1.2010271790483693,
                    -1.9125973030504928,
                    1.5885566934691924,
                    -0.6642189929482608,
                    0.6000240020953647,
                    -0.3718083932801579,
                    -0.6700096446351057,
                    0.2055605709273506,
                    0.2891834045390556,
                    -1.711456813282301,
                    -1.0214000207882854,
                    1.6979855994520434,
                    -1.3947132230373687,
                    1.307883451250784,
                    -1.491701901333726,
                    0.13667598515428284,
                    1.1310987850031646,
                    -0.09813756580182041,
                    1.9215470008664755,
                    0.140313366614571,
                    1.0736218915148381,
                    0.5858877597877262,
                    -0.7432428932391569,
                    -0.5801471262696313,
                    -0.20659453054893556,
                    -1.3007532899368388,
                    -0.4310556377252584,
                    0.42996028376510664,
                    1.4016676118454796,
                    0.2430069221168277,
                    1.8472401608197366,
                    1.498304566986409,
                    -1.564287463136836,
                    0.8385975805558931,
                    -0.9101908408064494,
                    -2.10492909587321,
                    -0.3000342633285618,
                    -1.2281908664666685,
                    -0.5331990116419886,
                    0.8903214581542908,
                    -0.4740851170792387,
                    0.4602731894140559,
                    0.6424987013369353,
                    1.4922047734978898,
                    -1.0071965838846078,
                    -1.3468250534062194,
                    1.904043391134527,
                    -1.6025200334480592,
                    0.6224344759858497,
                    2.2407335848252705,
                    -2.3954468647618827,
                    1.6870230499417707,
                    -1.522119674669922,
                    -0.8382111099336146,
                    -1.5559050420334775,
                    -0.3735782088074512,
                    -0.6327142199121746,
                    -1.5038494966680584,
                    -0.0056455502949022485,
                    0.7397157749883283,
                    -1.5827676952799536,
                    0.8850699955786837,
                    -2.2070942654407713,
                    -0.7088402650691995,
                    -0.03173691299840874,
                    0.2622837161008249,
                    0.014908102376371864,
                    1.7300091561481785,
                    0.5704309048437817,
                    0.15017321197562175,
                    -1.2226023877510208,
                    -0.3799244752357741,
                    -0.6819290793598226
                  ],
                  "xaxis": "x8",
                  "y": [
                    -0.5617375702420864,
                    -1.2105280209767268,
                    0.8561250259063421,
                    -0.7107503858881543,
                    1.9101987417784274,
                    0.5789968113218955,
                    -0.9591681047529027,
                    0.5395359124881931,
                    1.3193862626751078,
                    0.6680228938498383,
                    -0.7341726211864084,
                    -0.6118985446054702,
                    -1.2141500234277,
                    1.5911478517284632,
                    -0.5261168186658791,
                    0.8457278666030731,
                    -1.0083412765657886,
                    2.032738956061042,
                    0.1463571733779813,
                    0.5177816732261287,
                    -0.769212161890698,
                    -1.069099261508924,
                    0.6217522583946871,
                    -0.7685130295505281,
                    0.9544080795307096,
                    -0.09436162464620383,
                    0.5375121175183534,
                    0.6747308503837377,
                    -0.5610675516558478,
                    0.94214409035032,
                    0.6064445545372859,
                    0.07104417008322735,
                    0.1330925122609887,
                    0.6136925994677905,
                    0.0035230303615803584,
                    -0.34532692952094346,
                    0.13237764586606712,
                    -0.9646644055964682,
                    0.130714844563745,
                    0.10519423612640431,
                    0.8547224198592885,
                    1.4829075328199424,
                    -0.9952118382098827,
                    -0.6046778657833812,
                    -0.0130276454638649,
                    1.087828140993123,
                    0.2085807423899216,
                    0.74207524333408,
                    -0.7939304210976657,
                    0.882859631977347,
                    0.21805155116360347,
                    0.8191732685075461,
                    -0.33300967724353003,
                    -0.5919052919299606,
                    -1.7071195729782942,
                    -1.1895653090495355,
                    0.6390977779302962,
                    1.295456870258728,
                    1.0432603943938363,
                    1.5067829763146572,
                    0.9566913863674601,
                    1.310266945124139,
                    -1.93090349772417,
                    0.5108049211688599,
                    -1.8206417027981763,
                    0.4919314503964313,
                    1.0367104751357175,
                    -0.5070167039378888,
                    0.4444149359221097,
                    0.5942474438048201,
                    -2.4036581156786467,
                    -0.738923209691997,
                    0.2483313091113896,
                    -1.5896989324533435,
                    -0.1767444417931268,
                    1.2918585657024686,
                    0.15436931061292777,
                    -0.020693967852573433,
                    -1.2953814780999942,
                    -0.33164381746601795,
                    -1.98419870685544,
                    -0.0977188523628509,
                    -1.3414203013691797,
                    0.19001993628446323,
                    -1.144617917384704,
                    0.6281985093673482,
                    0.31282287792073715,
                    -0.4335108153748616,
                    0.08996165145511464,
                    -0.4049630640050919,
                    -1.3655766758769943,
                    0.003863089142866324,
                    1.9544805266971712,
                    1.4025801247991099,
                    1.5133080358291704,
                    -1.081597061248639,
                    0.08033346985791334,
                    -0.8574779036981085,
                    -0.5578342097981503,
                    -1.0823858458747249
                  ],
                  "yaxis": "y8",
                  "type": "scatter"
                },
                {
                  "line": {
                    "color": "rgba(128, 128, 128, 1.0)",
                    "dash": "solid",
                    "shape": "linear",
                    "width": 1.3
                  },
                  "marker": {
                    "size": 2,
                    "symbol": "circle"
                  },
                  "mode": "markers",
                  "name": "C",
                  "text": "",
                  "x": [
                    0.0178114694854835,
                    0.6503752891210457,
                    1.4746556294415147,
                    -0.002867505410992792,
                    -0.7757917649856074,
                    0.7662726192537015,
                    1.0664749327062275,
                    -0.11692736502946699,
                    0.3306590500365512,
                    -0.6039709270655202,
                    2.3235131537725375,
                    -1.581925335224607,
                    0.015324694821562445,
                    0.7668724051627919,
                    0.5449217852329432,
                    -1.5393392248297437,
                    0.8826309337533468,
                    -0.42177731108365596,
                    0.6252953354329761,
                    0.9475458834299388,
                    0.16638344745317185,
                    0.5872486334340409,
                    0.7331878127127393,
                    -0.8712133576574608,
                    0.02218394918355038,
                    -0.6013339495862363,
                    -1.756229955636603,
                    -1.9819893580331447,
                    1.3825585253185222,
                    0.18483164136281052,
                    -1.2679341148034344,
                    0.9949380071155695,
                    -1.1476115696647307,
                    -0.6479204186113192,
                    -0.3789275877400645,
                    0.2493338620032875,
                    1.4201510261872716,
                    -1.0503815196700217,
                    1.0554704075679069,
                    -1.0293234615296152,
                    -1.0822796524356448,
                    0.7684855357339191,
                    2.5192161436818195,
                    -1.9117744538897679,
                    1.5931709732081492,
                    0.5205078111864689,
                    -0.9035063004328567,
                    -0.039536779019681174,
                    0.013421263122439244,
                    -1.354389863999936,
                    0.20741889935212338,
                    -2.12861161880051,
                    -0.5361385106295921,
                    0.38466904193579843,
                    0.5746526914220886,
                    -0.870127691386053,
                    -0.00021741926349469498,
                    1.3073415839337295,
                    -0.3230346369356965,
                    -1.4318585137200077,
                    0.742678531238043,
                    -0.08997843766330833,
                    -0.9296646722359696,
                    -0.07779540095102579,
                    -0.46929144505777076,
                    0.008368761820374822,
                    -0.613299214024739,
                    1.1584825020371716,
                    -0.47277585985662945,
                    0.03805037863533173,
                    -1.127629142630456,
                    1.1062032945972584,
                    1.338797608931247,
                    -0.3109914547842166,
                    0.21070722316844118,
                    -0.15525145173830632,
                    -0.9436284343977237,
                    0.8405189744616796,
                    0.7194053183545105,
                    -0.5898131143539371,
                    0.11078070545200325,
                    -0.9101033501429266,
                    -0.2760212578221692,
                    -0.06121843562570686,
                    0.22082764961571158,
                    -0.8087040146874948,
                    -0.24795260940063577,
                    -0.18500473992804137,
                    -1.1261930084640464,
                    0.25926065036018053,
                    1.0626956597526414,
                    -0.29189730205400105,
                    1.4649070470221661,
                    0.15330410358902066,
                    -0.9135301588123295,
                    -1.5586000323884628,
                    0.7016050667461048,
                    -0.3143015581881234,
                    -0.41706765214680636,
                    -0.3921961494111043
                  ],
                  "xaxis": "x9",
                  "y": [
                    -0.22988724567685068,
                    0.17211208293326638,
                    -0.891866874750063,
                    -1.4208268256596377,
                    -1.5096491399989973,
                    1.1047438368262026,
                    -0.6213705058759526,
                    0.23971762053336035,
                    -0.42150105154750994,
                    0.1882318030835403,
                    1.2575508166587719,
                    -0.2242558811223914,
                    0.24739831047320376,
                    -0.07660113555994527,
                    -0.27767955287392726,
                    0.582957367085622,
                    -0.7630131125241152,
                    -0.498854865462507,
                    -0.2372975468039774,
                    1.0293829524030838,
                    0.2665421039152957,
                    -0.7283486827820418,
                    -0.4324384878981543,
                    1.0865630794601617,
                    0.7064189848921297,
                    0.4900608058256672,
                    0.29723156415423607,
                    1.510895455774434,
                    0.5718871794669691,
                    0.8761321844277847,
                    -0.40417579185597763,
                    -0.3798921640839629,
                    0.5522284039676492,
                    0.686974485202635,
                    -1.4127325618659128,
                    1.3066560665482645,
                    -0.009758700388875594,
                    0.5552146054805828,
                    0.21566804645670642,
                    -0.39240933951428913,
                    -0.8879505183629269,
                    -1.192214810338215,
                    -0.06777557439608581,
                    -0.5171084617987218,
                    -0.15087274443869356,
                    0.13587754591411752,
                    -0.9622912222444939,
                    0.638186730745737,
                    -0.5129861508700331,
                    1.645816480310981,
                    -1.0140986777422094,
                    -2.236568069692717,
                    0.1250521384092541,
                    2.4824183877463204,
                    0.5804193849674129,
                    -0.49519575868165633,
                    1.404292027644616,
                    -0.5740444848836095,
                    -1.9195774568110873,
                    -0.531383677376116,
                    -0.7574628978397108,
                    -0.2611686074531827,
                    0.21325247853887236,
                    -0.5688195514278918,
                    1.407855318324713,
                    -0.26715323393690205,
                    0.0768479951656562,
                    -0.7160073257075226,
                    -1.005085258333275,
                    2.8195460489570543,
                    -1.382176070380219,
                    1.4951735061880786,
                    -0.05108020834368662,
                    0.5883706860719372,
                    -0.15897927556667274,
                    -0.4189142343829021,
                    -0.023430592051969238,
                    -0.8559145291990594,
                    1.3343773242424868,
                    -1.7351043094162564,
                    -1.0775923821463007,
                    -0.7637373361069689,
                    0.40966995116429694,
                    0.9233843911474657,
                    2.5424858652010394,
                    0.1698631879030505,
                    1.1314177046313625,
                    0.18121743533844004,
                    -0.6767345339135239,
                    -0.6119872089364478,
                    1.7661491752308893,
                    1.0041798114796423,
                    0.42240183560358363,
                    -0.06640433508646586,
                    -0.028537720723805997,
                    -1.8786857981031913,
                    0.4291889448384859,
                    0.2521237637603228,
                    -1.3953715323858975,
                    0.40252028051630123
                  ],
                  "yaxis": "y9",
                  "type": "scatter"
                },
                {
                  "line": {
                    "color": "rgba(128, 128, 128, 1.0)",
                    "dash": "solid",
                    "shape": "linear",
                    "width": 1.3
                  },
                  "marker": {
                    "size": 2,
                    "symbol": "circle"
                  },
                  "mode": "markers",
                  "name": "C",
                  "text": "",
                  "x": [
                    -0.5617375702420864,
                    -1.2105280209767268,
                    0.8561250259063421,
                    -0.7107503858881543,
                    1.9101987417784274,
                    0.5789968113218955,
                    -0.9591681047529027,
                    0.5395359124881931,
                    1.3193862626751078,
                    0.6680228938498383,
                    -0.7341726211864084,
                    -0.6118985446054702,
                    -1.2141500234277,
                    1.5911478517284632,
                    -0.5261168186658791,
                    0.8457278666030731,
                    -1.0083412765657886,
                    2.032738956061042,
                    0.1463571733779813,
                    0.5177816732261287,
                    -0.769212161890698,
                    -1.069099261508924,
                    0.6217522583946871,
                    -0.7685130295505281,
                    0.9544080795307096,
                    -0.09436162464620383,
                    0.5375121175183534,
                    0.6747308503837377,
                    -0.5610675516558478,
                    0.94214409035032,
                    0.6064445545372859,
                    0.07104417008322735,
                    0.1330925122609887,
                    0.6136925994677905,
                    0.0035230303615803584,
                    -0.34532692952094346,
                    0.13237764586606712,
                    -0.9646644055964682,
                    0.130714844563745,
                    0.10519423612640431,
                    0.8547224198592885,
                    1.4829075328199424,
                    -0.9952118382098827,
                    -0.6046778657833812,
                    -0.0130276454638649,
                    1.087828140993123,
                    0.2085807423899216,
                    0.74207524333408,
                    -0.7939304210976657,
                    0.882859631977347,
                    0.21805155116360347,
                    0.8191732685075461,
                    -0.33300967724353003,
                    -0.5919052919299606,
                    -1.7071195729782942,
                    -1.1895653090495355,
                    0.6390977779302962,
                    1.295456870258728,
                    1.0432603943938363,
                    1.5067829763146572,
                    0.9566913863674601,
                    1.310266945124139,
                    -1.93090349772417,
                    0.5108049211688599,
                    -1.8206417027981763,
                    0.4919314503964313,
                    1.0367104751357175,
                    -0.5070167039378888,
                    0.4444149359221097,
                    0.5942474438048201,
                    -2.4036581156786467,
                    -0.738923209691997,
                    0.2483313091113896,
                    -1.5896989324533435,
                    -0.1767444417931268,
                    1.2918585657024686,
                    0.15436931061292777,
                    -0.020693967852573433,
                    -1.2953814780999942,
                    -0.33164381746601795,
                    -1.98419870685544,
                    -0.0977188523628509,
                    -1.3414203013691797,
                    0.19001993628446323,
                    -1.144617917384704,
                    0.6281985093673482,
                    0.31282287792073715,
                    -0.4335108153748616,
                    0.08996165145511464,
                    -0.4049630640050919,
                    -1.3655766758769943,
                    0.003863089142866324,
                    1.9544805266971712,
                    1.4025801247991099,
                    1.5133080358291704,
                    -1.081597061248639,
                    0.08033346985791334,
                    -0.8574779036981085,
                    -0.5578342097981503,
                    -1.0823858458747249
                  ],
                  "xaxis": "x10",
                  "y": [
                    -0.22988724567685068,
                    0.17211208293326638,
                    -0.891866874750063,
                    -1.4208268256596377,
                    -1.5096491399989973,
                    1.1047438368262026,
                    -0.6213705058759526,
                    0.23971762053336035,
                    -0.42150105154750994,
                    0.1882318030835403,
                    1.2575508166587719,
                    -0.2242558811223914,
                    0.24739831047320376,
                    -0.07660113555994527,
                    -0.27767955287392726,
                    0.582957367085622,
                    -0.7630131125241152,
                    -0.498854865462507,
                    -0.2372975468039774,
                    1.0293829524030838,
                    0.2665421039152957,
                    -0.7283486827820418,
                    -0.4324384878981543,
                    1.0865630794601617,
                    0.7064189848921297,
                    0.4900608058256672,
                    0.29723156415423607,
                    1.510895455774434,
                    0.5718871794669691,
                    0.8761321844277847,
                    -0.40417579185597763,
                    -0.3798921640839629,
                    0.5522284039676492,
                    0.686974485202635,
                    -1.4127325618659128,
                    1.3066560665482645,
                    -0.009758700388875594,
                    0.5552146054805828,
                    0.21566804645670642,
                    -0.39240933951428913,
                    -0.8879505183629269,
                    -1.192214810338215,
                    -0.06777557439608581,
                    -0.5171084617987218,
                    -0.15087274443869356,
                    0.13587754591411752,
                    -0.9622912222444939,
                    0.638186730745737,
                    -0.5129861508700331,
                    1.645816480310981,
                    -1.0140986777422094,
                    -2.236568069692717,
                    0.1250521384092541,
                    2.4824183877463204,
                    0.5804193849674129,
                    -0.49519575868165633,
                    1.404292027644616,
                    -0.5740444848836095,
                    -1.9195774568110873,
                    -0.531383677376116,
                    -0.7574628978397108,
                    -0.2611686074531827,
                    0.21325247853887236,
                    -0.5688195514278918,
                    1.407855318324713,
                    -0.26715323393690205,
                    0.0768479951656562,
                    -0.7160073257075226,
                    -1.005085258333275,
                    2.8195460489570543,
                    -1.382176070380219,
                    1.4951735061880786,
                    -0.05108020834368662,
                    0.5883706860719372,
                    -0.15897927556667274,
                    -0.4189142343829021,
                    -0.023430592051969238,
                    -0.8559145291990594,
                    1.3343773242424868,
                    -1.7351043094162564,
                    -1.0775923821463007,
                    -0.7637373361069689,
                    0.40966995116429694,
                    0.9233843911474657,
                    2.5424858652010394,
                    0.1698631879030505,
                    1.1314177046313625,
                    0.18121743533844004,
                    -0.6767345339135239,
                    -0.6119872089364478,
                    1.7661491752308893,
                    1.0041798114796423,
                    0.42240183560358363,
                    -0.06640433508646586,
                    -0.028537720723805997,
                    -1.8786857981031913,
                    0.4291889448384859,
                    0.2521237637603228,
                    -1.3953715323858975,
                    0.40252028051630123
                  ],
                  "yaxis": "y10",
                  "type": "scatter"
                },
                {
                  "histfunc": "count",
                  "histnorm": "",
                  "marker": {
                    "color": "rgba(50, 171, 96, 1.0)",
                    "line": {
                      "color": "#4D5663",
                      "width": 1.3
                    }
                  },
                  "name": "C",
                  "nbinsx": 10,
                  "opacity": 0.8,
                  "orientation": "v",
                  "x": [
                    -0.22988724567685068,
                    0.17211208293326638,
                    -0.891866874750063,
                    -1.4208268256596377,
                    -1.5096491399989973,
                    1.1047438368262026,
                    -0.6213705058759526,
                    0.23971762053336035,
                    -0.42150105154750994,
                    0.1882318030835403,
                    1.2575508166587719,
                    -0.2242558811223914,
                    0.24739831047320376,
                    -0.07660113555994527,
                    -0.27767955287392726,
                    0.582957367085622,
                    -0.7630131125241152,
                    -0.498854865462507,
                    -0.2372975468039774,
                    1.0293829524030838,
                    0.2665421039152957,
                    -0.7283486827820418,
                    -0.4324384878981543,
                    1.0865630794601617,
                    0.7064189848921297,
                    0.4900608058256672,
                    0.29723156415423607,
                    1.510895455774434,
                    0.5718871794669691,
                    0.8761321844277847,
                    -0.40417579185597763,
                    -0.3798921640839629,
                    0.5522284039676492,
                    0.686974485202635,
                    -1.4127325618659128,
                    1.3066560665482645,
                    -0.009758700388875594,
                    0.5552146054805828,
                    0.21566804645670642,
                    -0.39240933951428913,
                    -0.8879505183629269,
                    -1.192214810338215,
                    -0.06777557439608581,
                    -0.5171084617987218,
                    -0.15087274443869356,
                    0.13587754591411752,
                    -0.9622912222444939,
                    0.638186730745737,
                    -0.5129861508700331,
                    1.645816480310981,
                    -1.0140986777422094,
                    -2.236568069692717,
                    0.1250521384092541,
                    2.4824183877463204,
                    0.5804193849674129,
                    -0.49519575868165633,
                    1.404292027644616,
                    -0.5740444848836095,
                    -1.9195774568110873,
                    -0.531383677376116,
                    -0.7574628978397108,
                    -0.2611686074531827,
                    0.21325247853887236,
                    -0.5688195514278918,
                    1.407855318324713,
                    -0.26715323393690205,
                    0.0768479951656562,
                    -0.7160073257075226,
                    -1.005085258333275,
                    2.8195460489570543,
                    -1.382176070380219,
                    1.4951735061880786,
                    -0.05108020834368662,
                    0.5883706860719372,
                    -0.15897927556667274,
                    -0.4189142343829021,
                    -0.023430592051969238,
                    -0.8559145291990594,
                    1.3343773242424868,
                    -1.7351043094162564,
                    -1.0775923821463007,
                    -0.7637373361069689,
                    0.40966995116429694,
                    0.9233843911474657,
                    2.5424858652010394,
                    0.1698631879030505,
                    1.1314177046313625,
                    0.18121743533844004,
                    -0.6767345339135239,
                    -0.6119872089364478,
                    1.7661491752308893,
                    1.0041798114796423,
                    0.42240183560358363,
                    -0.06640433508646586,
                    -0.028537720723805997,
                    -1.8786857981031913,
                    0.4291889448384859,
                    0.2521237637603228,
                    -1.3953715323858975,
                    0.40252028051630123
                  ],
                  "xaxis": "x11",
                  "yaxis": "y11",
                  "type": "histogram"
                },
                {
                  "line": {
                    "color": "rgba(128, 128, 128, 1.0)",
                    "dash": "solid",
                    "shape": "linear",
                    "width": 1.3
                  },
                  "marker": {
                    "size": 2,
                    "symbol": "circle"
                  },
                  "mode": "markers",
                  "name": "C",
                  "text": "",
                  "x": [
                    2.217554665916425,
                    -0.3014961031768279,
                    2.435613600465756,
                    -0.06903105312093644,
                    0.16049249793884535,
                    1.4180398930616278,
                    -1.8045472367929227,
                    0.5344165086215533,
                    -0.038520391182023606,
                    0.12710483292774583,
                    -1.5277430040653537,
                    0.22427178756539254,
                    -0.21517376571041835,
                    -0.758117522841429,
                    -1.3004537000575158,
                    0.17826685003088555,
                    0.718522576537042,
                    0.7876952780235554,
                    2.3523033307838763,
                    -0.5962702308195855,
                    -0.2646762483414622,
                    -1.7286731027147495,
                    0.20144956052599025,
                    -0.3306389264626234,
                    -0.14784632704235154,
                    -0.9023165497848213,
                    -0.06312222293826868,
                    -1.2010271790483693,
                    -1.9125973030504928,
                    1.5885566934691924,
                    -0.6642189929482608,
                    0.6000240020953647,
                    -0.3718083932801579,
                    -0.6700096446351057,
                    0.2055605709273506,
                    0.2891834045390556,
                    -1.711456813282301,
                    -1.0214000207882854,
                    1.6979855994520434,
                    -1.3947132230373687,
                    1.307883451250784,
                    -1.491701901333726,
                    0.13667598515428284,
                    1.1310987850031646,
                    -0.09813756580182041,
                    1.9215470008664755,
                    0.140313366614571,
                    1.0736218915148381,
                    0.5858877597877262,
                    -0.7432428932391569,
                    -0.5801471262696313,
                    -0.20659453054893556,
                    -1.3007532899368388,
                    -0.4310556377252584,
                    0.42996028376510664,
                    1.4016676118454796,
                    0.2430069221168277,
                    1.8472401608197366,
                    1.498304566986409,
                    -1.564287463136836,
                    0.8385975805558931,
                    -0.9101908408064494,
                    -2.10492909587321,
                    -0.3000342633285618,
                    -1.2281908664666685,
                    -0.5331990116419886,
                    0.8903214581542908,
                    -0.4740851170792387,
                    0.4602731894140559,
                    0.6424987013369353,
                    1.4922047734978898,
                    -1.0071965838846078,
                    -1.3468250534062194,
                    1.904043391134527,
                    -1.6025200334480592,
                    0.6224344759858497,
                    2.2407335848252705,
                    -2.3954468647618827,
                    1.6870230499417707,
                    -1.522119674669922,
                    -0.8382111099336146,
                    -1.5559050420334775,
                    -0.3735782088074512,
                    -0.6327142199121746,
                    -1.5038494966680584,
                    -0.0056455502949022485,
                    0.7397157749883283,
                    -1.5827676952799536,
                    0.8850699955786837,
                    -2.2070942654407713,
                    -0.7088402650691995,
                    -0.03173691299840874,
                    0.2622837161008249,
                    0.014908102376371864,
                    1.7300091561481785,
                    0.5704309048437817,
                    0.15017321197562175,
                    -1.2226023877510208,
                    -0.3799244752357741,
                    -0.6819290793598226
                  ],
                  "xaxis": "x12",
                  "y": [
                    -0.22988724567685068,
                    0.17211208293326638,
                    -0.891866874750063,
                    -1.4208268256596377,
                    -1.5096491399989973,
                    1.1047438368262026,
                    -0.6213705058759526,
                    0.23971762053336035,
                    -0.42150105154750994,
                    0.1882318030835403,
                    1.2575508166587719,
                    -0.2242558811223914,
                    0.24739831047320376,
                    -0.07660113555994527,
                    -0.27767955287392726,
                    0.582957367085622,
                    -0.7630131125241152,
                    -0.498854865462507,
                    -0.2372975468039774,
                    1.0293829524030838,
                    0.2665421039152957,
                    -0.7283486827820418,
                    -0.4324384878981543,
                    1.0865630794601617,
                    0.7064189848921297,
                    0.4900608058256672,
                    0.29723156415423607,
                    1.510895455774434,
                    0.5718871794669691,
                    0.8761321844277847,
                    -0.40417579185597763,
                    -0.3798921640839629,
                    0.5522284039676492,
                    0.686974485202635,
                    -1.4127325618659128,
                    1.3066560665482645,
                    -0.009758700388875594,
                    0.5552146054805828,
                    0.21566804645670642,
                    -0.39240933951428913,
                    -0.8879505183629269,
                    -1.192214810338215,
                    -0.06777557439608581,
                    -0.5171084617987218,
                    -0.15087274443869356,
                    0.13587754591411752,
                    -0.9622912222444939,
                    0.638186730745737,
                    -0.5129861508700331,
                    1.645816480310981,
                    -1.0140986777422094,
                    -2.236568069692717,
                    0.1250521384092541,
                    2.4824183877463204,
                    0.5804193849674129,
                    -0.49519575868165633,
                    1.404292027644616,
                    -0.5740444848836095,
                    -1.9195774568110873,
                    -0.531383677376116,
                    -0.7574628978397108,
                    -0.2611686074531827,
                    0.21325247853887236,
                    -0.5688195514278918,
                    1.407855318324713,
                    -0.26715323393690205,
                    0.0768479951656562,
                    -0.7160073257075226,
                    -1.005085258333275,
                    2.8195460489570543,
                    -1.382176070380219,
                    1.4951735061880786,
                    -0.05108020834368662,
                    0.5883706860719372,
                    -0.15897927556667274,
                    -0.4189142343829021,
                    -0.023430592051969238,
                    -0.8559145291990594,
                    1.3343773242424868,
                    -1.7351043094162564,
                    -1.0775923821463007,
                    -0.7637373361069689,
                    0.40966995116429694,
                    0.9233843911474657,
                    2.5424858652010394,
                    0.1698631879030505,
                    1.1314177046313625,
                    0.18121743533844004,
                    -0.6767345339135239,
                    -0.6119872089364478,
                    1.7661491752308893,
                    1.0041798114796423,
                    0.42240183560358363,
                    -0.06640433508646586,
                    -0.028537720723805997,
                    -1.8786857981031913,
                    0.4291889448384859,
                    0.2521237637603228,
                    -1.3953715323858975,
                    0.40252028051630123
                  ],
                  "yaxis": "y12",
                  "type": "scatter"
                },
                {
                  "line": {
                    "color": "rgba(128, 128, 128, 1.0)",
                    "dash": "solid",
                    "shape": "linear",
                    "width": 1.3
                  },
                  "marker": {
                    "size": 2,
                    "symbol": "circle"
                  },
                  "mode": "markers",
                  "name": "D",
                  "text": "",
                  "x": [
                    0.0178114694854835,
                    0.6503752891210457,
                    1.4746556294415147,
                    -0.002867505410992792,
                    -0.7757917649856074,
                    0.7662726192537015,
                    1.0664749327062275,
                    -0.11692736502946699,
                    0.3306590500365512,
                    -0.6039709270655202,
                    2.3235131537725375,
                    -1.581925335224607,
                    0.015324694821562445,
                    0.7668724051627919,
                    0.5449217852329432,
                    -1.5393392248297437,
                    0.8826309337533468,
                    -0.42177731108365596,
                    0.6252953354329761,
                    0.9475458834299388,
                    0.16638344745317185,
                    0.5872486334340409,
                    0.7331878127127393,
                    -0.8712133576574608,
                    0.02218394918355038,
                    -0.6013339495862363,
                    -1.756229955636603,
                    -1.9819893580331447,
                    1.3825585253185222,
                    0.18483164136281052,
                    -1.2679341148034344,
                    0.9949380071155695,
                    -1.1476115696647307,
                    -0.6479204186113192,
                    -0.3789275877400645,
                    0.2493338620032875,
                    1.4201510261872716,
                    -1.0503815196700217,
                    1.0554704075679069,
                    -1.0293234615296152,
                    -1.0822796524356448,
                    0.7684855357339191,
                    2.5192161436818195,
                    -1.9117744538897679,
                    1.5931709732081492,
                    0.5205078111864689,
                    -0.9035063004328567,
                    -0.039536779019681174,
                    0.013421263122439244,
                    -1.354389863999936,
                    0.20741889935212338,
                    -2.12861161880051,
                    -0.5361385106295921,
                    0.38466904193579843,
                    0.5746526914220886,
                    -0.870127691386053,
                    -0.00021741926349469498,
                    1.3073415839337295,
                    -0.3230346369356965,
                    -1.4318585137200077,
                    0.742678531238043,
                    -0.08997843766330833,
                    -0.9296646722359696,
                    -0.07779540095102579,
                    -0.46929144505777076,
                    0.008368761820374822,
                    -0.613299214024739,
                    1.1584825020371716,
                    -0.47277585985662945,
                    0.03805037863533173,
                    -1.127629142630456,
                    1.1062032945972584,
                    1.338797608931247,
                    -0.3109914547842166,
                    0.21070722316844118,
                    -0.15525145173830632,
                    -0.9436284343977237,
                    0.8405189744616796,
                    0.7194053183545105,
                    -0.5898131143539371,
                    0.11078070545200325,
                    -0.9101033501429266,
                    -0.2760212578221692,
                    -0.06121843562570686,
                    0.22082764961571158,
                    -0.8087040146874948,
                    -0.24795260940063577,
                    -0.18500473992804137,
                    -1.1261930084640464,
                    0.25926065036018053,
                    1.0626956597526414,
                    -0.29189730205400105,
                    1.4649070470221661,
                    0.15330410358902066,
                    -0.9135301588123295,
                    -1.5586000323884628,
                    0.7016050667461048,
                    -0.3143015581881234,
                    -0.41706765214680636,
                    -0.3921961494111043
                  ],
                  "xaxis": "x13",
                  "y": [
                    2.217554665916425,
                    -0.3014961031768279,
                    2.435613600465756,
                    -0.06903105312093644,
                    0.16049249793884535,
                    1.4180398930616278,
                    -1.8045472367929227,
                    0.5344165086215533,
                    -0.038520391182023606,
                    0.12710483292774583,
                    -1.5277430040653537,
                    0.22427178756539254,
                    -0.21517376571041835,
                    -0.758117522841429,
                    -1.3004537000575158,
                    0.17826685003088555,
                    0.718522576537042,
                    0.7876952780235554,
                    2.3523033307838763,
                    -0.5962702308195855,
                    -0.2646762483414622,
                    -1.7286731027147495,
                    0.20144956052599025,
                    -0.3306389264626234,
                    -0.14784632704235154,
                    -0.9023165497848213,
                    -0.06312222293826868,
                    -1.2010271790483693,
                    -1.9125973030504928,
                    1.5885566934691924,
                    -0.6642189929482608,
                    0.6000240020953647,
                    -0.3718083932801579,
                    -0.6700096446351057,
                    0.2055605709273506,
                    0.2891834045390556,
                    -1.711456813282301,
                    -1.0214000207882854,
                    1.6979855994520434,
                    -1.3947132230373687,
                    1.307883451250784,
                    -1.491701901333726,
                    0.13667598515428284,
                    1.1310987850031646,
                    -0.09813756580182041,
                    1.9215470008664755,
                    0.140313366614571,
                    1.0736218915148381,
                    0.5858877597877262,
                    -0.7432428932391569,
                    -0.5801471262696313,
                    -0.20659453054893556,
                    -1.3007532899368388,
                    -0.4310556377252584,
                    0.42996028376510664,
                    1.4016676118454796,
                    0.2430069221168277,
                    1.8472401608197366,
                    1.498304566986409,
                    -1.564287463136836,
                    0.8385975805558931,
                    -0.9101908408064494,
                    -2.10492909587321,
                    -0.3000342633285618,
                    -1.2281908664666685,
                    -0.5331990116419886,
                    0.8903214581542908,
                    -0.4740851170792387,
                    0.4602731894140559,
                    0.6424987013369353,
                    1.4922047734978898,
                    -1.0071965838846078,
                    -1.3468250534062194,
                    1.904043391134527,
                    -1.6025200334480592,
                    0.6224344759858497,
                    2.2407335848252705,
                    -2.3954468647618827,
                    1.6870230499417707,
                    -1.522119674669922,
                    -0.8382111099336146,
                    -1.5559050420334775,
                    -0.3735782088074512,
                    -0.6327142199121746,
                    -1.5038494966680584,
                    -0.0056455502949022485,
                    0.7397157749883283,
                    -1.5827676952799536,
                    0.8850699955786837,
                    -2.2070942654407713,
                    -0.7088402650691995,
                    -0.03173691299840874,
                    0.2622837161008249,
                    0.014908102376371864,
                    1.7300091561481785,
                    0.5704309048437817,
                    0.15017321197562175,
                    -1.2226023877510208,
                    -0.3799244752357741,
                    -0.6819290793598226
                  ],
                  "yaxis": "y13",
                  "type": "scatter"
                },
                {
                  "line": {
                    "color": "rgba(128, 128, 128, 1.0)",
                    "dash": "solid",
                    "shape": "linear",
                    "width": 1.3
                  },
                  "marker": {
                    "size": 2,
                    "symbol": "circle"
                  },
                  "mode": "markers",
                  "name": "D",
                  "text": "",
                  "x": [
                    -0.5617375702420864,
                    -1.2105280209767268,
                    0.8561250259063421,
                    -0.7107503858881543,
                    1.9101987417784274,
                    0.5789968113218955,
                    -0.9591681047529027,
                    0.5395359124881931,
                    1.3193862626751078,
                    0.6680228938498383,
                    -0.7341726211864084,
                    -0.6118985446054702,
                    -1.2141500234277,
                    1.5911478517284632,
                    -0.5261168186658791,
                    0.8457278666030731,
                    -1.0083412765657886,
                    2.032738956061042,
                    0.1463571733779813,
                    0.5177816732261287,
                    -0.769212161890698,
                    -1.069099261508924,
                    0.6217522583946871,
                    -0.7685130295505281,
                    0.9544080795307096,
                    -0.09436162464620383,
                    0.5375121175183534,
                    0.6747308503837377,
                    -0.5610675516558478,
                    0.94214409035032,
                    0.6064445545372859,
                    0.07104417008322735,
                    0.1330925122609887,
                    0.6136925994677905,
                    0.0035230303615803584,
                    -0.34532692952094346,
                    0.13237764586606712,
                    -0.9646644055964682,
                    0.130714844563745,
                    0.10519423612640431,
                    0.8547224198592885,
                    1.4829075328199424,
                    -0.9952118382098827,
                    -0.6046778657833812,
                    -0.0130276454638649,
                    1.087828140993123,
                    0.2085807423899216,
                    0.74207524333408,
                    -0.7939304210976657,
                    0.882859631977347,
                    0.21805155116360347,
                    0.8191732685075461,
                    -0.33300967724353003,
                    -0.5919052919299606,
                    -1.7071195729782942,
                    -1.1895653090495355,
                    0.6390977779302962,
                    1.295456870258728,
                    1.0432603943938363,
                    1.5067829763146572,
                    0.9566913863674601,
                    1.310266945124139,
                    -1.93090349772417,
                    0.5108049211688599,
                    -1.8206417027981763,
                    0.4919314503964313,
                    1.0367104751357175,
                    -0.5070167039378888,
                    0.4444149359221097,
                    0.5942474438048201,
                    -2.4036581156786467,
                    -0.738923209691997,
                    0.2483313091113896,
                    -1.5896989324533435,
                    -0.1767444417931268,
                    1.2918585657024686,
                    0.15436931061292777,
                    -0.020693967852573433,
                    -1.2953814780999942,
                    -0.33164381746601795,
                    -1.98419870685544,
                    -0.0977188523628509,
                    -1.3414203013691797,
                    0.19001993628446323,
                    -1.144617917384704,
                    0.6281985093673482,
                    0.31282287792073715,
                    -0.4335108153748616,
                    0.08996165145511464,
                    -0.4049630640050919,
                    -1.3655766758769943,
                    0.003863089142866324,
                    1.9544805266971712,
                    1.4025801247991099,
                    1.5133080358291704,
                    -1.081597061248639,
                    0.08033346985791334,
                    -0.8574779036981085,
                    -0.5578342097981503,
                    -1.0823858458747249
                  ],
                  "xaxis": "x14",
                  "y": [
                    2.217554665916425,
                    -0.3014961031768279,
                    2.435613600465756,
                    -0.06903105312093644,
                    0.16049249793884535,
                    1.4180398930616278,
                    -1.8045472367929227,
                    0.5344165086215533,
                    -0.038520391182023606,
                    0.12710483292774583,
                    -1.5277430040653537,
                    0.22427178756539254,
                    -0.21517376571041835,
                    -0.758117522841429,
                    -1.3004537000575158,
                    0.17826685003088555,
                    0.718522576537042,
                    0.7876952780235554,
                    2.3523033307838763,
                    -0.5962702308195855,
                    -0.2646762483414622,
                    -1.7286731027147495,
                    0.20144956052599025,
                    -0.3306389264626234,
                    -0.14784632704235154,
                    -0.9023165497848213,
                    -0.06312222293826868,
                    -1.2010271790483693,
                    -1.9125973030504928,
                    1.5885566934691924,
                    -0.6642189929482608,
                    0.6000240020953647,
                    -0.3718083932801579,
                    -0.6700096446351057,
                    0.2055605709273506,
                    0.2891834045390556,
                    -1.711456813282301,
                    -1.0214000207882854,
                    1.6979855994520434,
                    -1.3947132230373687,
                    1.307883451250784,
                    -1.491701901333726,
                    0.13667598515428284,
                    1.1310987850031646,
                    -0.09813756580182041,
                    1.9215470008664755,
                    0.140313366614571,
                    1.0736218915148381,
                    0.5858877597877262,
                    -0.7432428932391569,
                    -0.5801471262696313,
                    -0.20659453054893556,
                    -1.3007532899368388,
                    -0.4310556377252584,
                    0.42996028376510664,
                    1.4016676118454796,
                    0.2430069221168277,
                    1.8472401608197366,
                    1.498304566986409,
                    -1.564287463136836,
                    0.8385975805558931,
                    -0.9101908408064494,
                    -2.10492909587321,
                    -0.3000342633285618,
                    -1.2281908664666685,
                    -0.5331990116419886,
                    0.8903214581542908,
                    -0.4740851170792387,
                    0.4602731894140559,
                    0.6424987013369353,
                    1.4922047734978898,
                    -1.0071965838846078,
                    -1.3468250534062194,
                    1.904043391134527,
                    -1.6025200334480592,
                    0.6224344759858497,
                    2.2407335848252705,
                    -2.3954468647618827,
                    1.6870230499417707,
                    -1.522119674669922,
                    -0.8382111099336146,
                    -1.5559050420334775,
                    -0.3735782088074512,
                    -0.6327142199121746,
                    -1.5038494966680584,
                    -0.0056455502949022485,
                    0.7397157749883283,
                    -1.5827676952799536,
                    0.8850699955786837,
                    -2.2070942654407713,
                    -0.7088402650691995,
                    -0.03173691299840874,
                    0.2622837161008249,
                    0.014908102376371864,
                    1.7300091561481785,
                    0.5704309048437817,
                    0.15017321197562175,
                    -1.2226023877510208,
                    -0.3799244752357741,
                    -0.6819290793598226
                  ],
                  "yaxis": "y14",
                  "type": "scatter"
                },
                {
                  "line": {
                    "color": "rgba(128, 128, 128, 1.0)",
                    "dash": "solid",
                    "shape": "linear",
                    "width": 1.3
                  },
                  "marker": {
                    "size": 2,
                    "symbol": "circle"
                  },
                  "mode": "markers",
                  "name": "D",
                  "text": "",
                  "x": [
                    -0.22988724567685068,
                    0.17211208293326638,
                    -0.891866874750063,
                    -1.4208268256596377,
                    -1.5096491399989973,
                    1.1047438368262026,
                    -0.6213705058759526,
                    0.23971762053336035,
                    -0.42150105154750994,
                    0.1882318030835403,
                    1.2575508166587719,
                    -0.2242558811223914,
                    0.24739831047320376,
                    -0.07660113555994527,
                    -0.27767955287392726,
                    0.582957367085622,
                    -0.7630131125241152,
                    -0.498854865462507,
                    -0.2372975468039774,
                    1.0293829524030838,
                    0.2665421039152957,
                    -0.7283486827820418,
                    -0.4324384878981543,
                    1.0865630794601617,
                    0.7064189848921297,
                    0.4900608058256672,
                    0.29723156415423607,
                    1.510895455774434,
                    0.5718871794669691,
                    0.8761321844277847,
                    -0.40417579185597763,
                    -0.3798921640839629,
                    0.5522284039676492,
                    0.686974485202635,
                    -1.4127325618659128,
                    1.3066560665482645,
                    -0.009758700388875594,
                    0.5552146054805828,
                    0.21566804645670642,
                    -0.39240933951428913,
                    -0.8879505183629269,
                    -1.192214810338215,
                    -0.06777557439608581,
                    -0.5171084617987218,
                    -0.15087274443869356,
                    0.13587754591411752,
                    -0.9622912222444939,
                    0.638186730745737,
                    -0.5129861508700331,
                    1.645816480310981,
                    -1.0140986777422094,
                    -2.236568069692717,
                    0.1250521384092541,
                    2.4824183877463204,
                    0.5804193849674129,
                    -0.49519575868165633,
                    1.404292027644616,
                    -0.5740444848836095,
                    -1.9195774568110873,
                    -0.531383677376116,
                    -0.7574628978397108,
                    -0.2611686074531827,
                    0.21325247853887236,
                    -0.5688195514278918,
                    1.407855318324713,
                    -0.26715323393690205,
                    0.0768479951656562,
                    -0.7160073257075226,
                    -1.005085258333275,
                    2.8195460489570543,
                    -1.382176070380219,
                    1.4951735061880786,
                    -0.05108020834368662,
                    0.5883706860719372,
                    -0.15897927556667274,
                    -0.4189142343829021,
                    -0.023430592051969238,
                    -0.8559145291990594,
                    1.3343773242424868,
                    -1.7351043094162564,
                    -1.0775923821463007,
                    -0.7637373361069689,
                    0.40966995116429694,
                    0.9233843911474657,
                    2.5424858652010394,
                    0.1698631879030505,
                    1.1314177046313625,
                    0.18121743533844004,
                    -0.6767345339135239,
                    -0.6119872089364478,
                    1.7661491752308893,
                    1.0041798114796423,
                    0.42240183560358363,
                    -0.06640433508646586,
                    -0.028537720723805997,
                    -1.8786857981031913,
                    0.4291889448384859,
                    0.2521237637603228,
                    -1.3953715323858975,
                    0.40252028051630123
                  ],
                  "xaxis": "x15",
                  "y": [
                    2.217554665916425,
                    -0.3014961031768279,
                    2.435613600465756,
                    -0.06903105312093644,
                    0.16049249793884535,
                    1.4180398930616278,
                    -1.8045472367929227,
                    0.5344165086215533,
                    -0.038520391182023606,
                    0.12710483292774583,
                    -1.5277430040653537,
                    0.22427178756539254,
                    -0.21517376571041835,
                    -0.758117522841429,
                    -1.3004537000575158,
                    0.17826685003088555,
                    0.718522576537042,
                    0.7876952780235554,
                    2.3523033307838763,
                    -0.5962702308195855,
                    -0.2646762483414622,
                    -1.7286731027147495,
                    0.20144956052599025,
                    -0.3306389264626234,
                    -0.14784632704235154,
                    -0.9023165497848213,
                    -0.06312222293826868,
                    -1.2010271790483693,
                    -1.9125973030504928,
                    1.5885566934691924,
                    -0.6642189929482608,
                    0.6000240020953647,
                    -0.3718083932801579,
                    -0.6700096446351057,
                    0.2055605709273506,
                    0.2891834045390556,
                    -1.711456813282301,
                    -1.0214000207882854,
                    1.6979855994520434,
                    -1.3947132230373687,
                    1.307883451250784,
                    -1.491701901333726,
                    0.13667598515428284,
                    1.1310987850031646,
                    -0.09813756580182041,
                    1.9215470008664755,
                    0.140313366614571,
                    1.0736218915148381,
                    0.5858877597877262,
                    -0.7432428932391569,
                    -0.5801471262696313,
                    -0.20659453054893556,
                    -1.3007532899368388,
                    -0.4310556377252584,
                    0.42996028376510664,
                    1.4016676118454796,
                    0.2430069221168277,
                    1.8472401608197366,
                    1.498304566986409,
                    -1.564287463136836,
                    0.8385975805558931,
                    -0.9101908408064494,
                    -2.10492909587321,
                    -0.3000342633285618,
                    -1.2281908664666685,
                    -0.5331990116419886,
                    0.8903214581542908,
                    -0.4740851170792387,
                    0.4602731894140559,
                    0.6424987013369353,
                    1.4922047734978898,
                    -1.0071965838846078,
                    -1.3468250534062194,
                    1.904043391134527,
                    -1.6025200334480592,
                    0.6224344759858497,
                    2.2407335848252705,
                    -2.3954468647618827,
                    1.6870230499417707,
                    -1.522119674669922,
                    -0.8382111099336146,
                    -1.5559050420334775,
                    -0.3735782088074512,
                    -0.6327142199121746,
                    -1.5038494966680584,
                    -0.0056455502949022485,
                    0.7397157749883283,
                    -1.5827676952799536,
                    0.8850699955786837,
                    -2.2070942654407713,
                    -0.7088402650691995,
                    -0.03173691299840874,
                    0.2622837161008249,
                    0.014908102376371864,
                    1.7300091561481785,
                    0.5704309048437817,
                    0.15017321197562175,
                    -1.2226023877510208,
                    -0.3799244752357741,
                    -0.6819290793598226
                  ],
                  "yaxis": "y15",
                  "type": "scatter"
                },
                {
                  "histfunc": "count",
                  "histnorm": "",
                  "marker": {
                    "color": "rgba(128, 0, 128, 1.0)",
                    "line": {
                      "color": "#4D5663",
                      "width": 1.3
                    }
                  },
                  "name": "D",
                  "nbinsx": 10,
                  "opacity": 0.8,
                  "orientation": "v",
                  "x": [
                    2.217554665916425,
                    -0.3014961031768279,
                    2.435613600465756,
                    -0.06903105312093644,
                    0.16049249793884535,
                    1.4180398930616278,
                    -1.8045472367929227,
                    0.5344165086215533,
                    -0.038520391182023606,
                    0.12710483292774583,
                    -1.5277430040653537,
                    0.22427178756539254,
                    -0.21517376571041835,
                    -0.758117522841429,
                    -1.3004537000575158,
                    0.17826685003088555,
                    0.718522576537042,
                    0.7876952780235554,
                    2.3523033307838763,
                    -0.5962702308195855,
                    -0.2646762483414622,
                    -1.7286731027147495,
                    0.20144956052599025,
                    -0.3306389264626234,
                    -0.14784632704235154,
                    -0.9023165497848213,
                    -0.06312222293826868,
                    -1.2010271790483693,
                    -1.9125973030504928,
                    1.5885566934691924,
                    -0.6642189929482608,
                    0.6000240020953647,
                    -0.3718083932801579,
                    -0.6700096446351057,
                    0.2055605709273506,
                    0.2891834045390556,
                    -1.711456813282301,
                    -1.0214000207882854,
                    1.6979855994520434,
                    -1.3947132230373687,
                    1.307883451250784,
                    -1.491701901333726,
                    0.13667598515428284,
                    1.1310987850031646,
                    -0.09813756580182041,
                    1.9215470008664755,
                    0.140313366614571,
                    1.0736218915148381,
                    0.5858877597877262,
                    -0.7432428932391569,
                    -0.5801471262696313,
                    -0.20659453054893556,
                    -1.3007532899368388,
                    -0.4310556377252584,
                    0.42996028376510664,
                    1.4016676118454796,
                    0.2430069221168277,
                    1.8472401608197366,
                    1.498304566986409,
                    -1.564287463136836,
                    0.8385975805558931,
                    -0.9101908408064494,
                    -2.10492909587321,
                    -0.3000342633285618,
                    -1.2281908664666685,
                    -0.5331990116419886,
                    0.8903214581542908,
                    -0.4740851170792387,
                    0.4602731894140559,
                    0.6424987013369353,
                    1.4922047734978898,
                    -1.0071965838846078,
                    -1.3468250534062194,
                    1.904043391134527,
                    -1.6025200334480592,
                    0.6224344759858497,
                    2.2407335848252705,
                    -2.3954468647618827,
                    1.6870230499417707,
                    -1.522119674669922,
                    -0.8382111099336146,
                    -1.5559050420334775,
                    -0.3735782088074512,
                    -0.6327142199121746,
                    -1.5038494966680584,
                    -0.0056455502949022485,
                    0.7397157749883283,
                    -1.5827676952799536,
                    0.8850699955786837,
                    -2.2070942654407713,
                    -0.7088402650691995,
                    -0.03173691299840874,
                    0.2622837161008249,
                    0.014908102376371864,
                    1.7300091561481785,
                    0.5704309048437817,
                    0.15017321197562175,
                    -1.2226023877510208,
                    -0.3799244752357741,
                    -0.6819290793598226
                  ],
                  "xaxis": "x16",
                  "yaxis": "y16",
                  "type": "histogram"
                }
              ],
              "layout": {
                "bargap": 0.02,
                "legend": {
                  "bgcolor": "#F5F6F9",
                  "font": {
                    "color": "#4D5663"
                  }
                },
                "paper_bgcolor": "#F5F6F9",
                "plot_bgcolor": "#F5F6F9",
                "showlegend": false,
                "template": {
                  "data": {
                    "barpolar": [
                      {
                        "marker": {
                          "line": {
                            "color": "#E5ECF6",
                            "width": 0.5
                          },
                          "pattern": {
                            "fillmode": "overlay",
                            "size": 10,
                            "solidity": 0.2
                          }
                        },
                        "type": "barpolar"
                      }
                    ],
                    "bar": [
                      {
                        "error_x": {
                          "color": "#2a3f5f"
                        },
                        "error_y": {
                          "color": "#2a3f5f"
                        },
                        "marker": {
                          "line": {
                            "color": "#E5ECF6",
                            "width": 0.5
                          },
                          "pattern": {
                            "fillmode": "overlay",
                            "size": 10,
                            "solidity": 0.2
                          }
                        },
                        "type": "bar"
                      }
                    ],
                    "carpet": [
                      {
                        "aaxis": {
                          "endlinecolor": "#2a3f5f",
                          "gridcolor": "white",
                          "linecolor": "white",
                          "minorgridcolor": "white",
                          "startlinecolor": "#2a3f5f"
                        },
                        "baxis": {
                          "endlinecolor": "#2a3f5f",
                          "gridcolor": "white",
                          "linecolor": "white",
                          "minorgridcolor": "white",
                          "startlinecolor": "#2a3f5f"
                        },
                        "type": "carpet"
                      }
                    ],
                    "choropleth": [
                      {
                        "colorbar": {
                          "outlinewidth": 0,
                          "ticks": ""
                        },
                        "type": "choropleth"
                      }
                    ],
                    "contourcarpet": [
                      {
                        "colorbar": {
                          "outlinewidth": 0,
                          "ticks": ""
                        },
                        "type": "contourcarpet"
                      }
                    ],
                    "contour": [
                      {
                        "colorbar": {
                          "outlinewidth": 0,
                          "ticks": ""
                        },
                        "colorscale": [
                          [
                            0,
                            "#0d0887"
                          ],
                          [
                            0.1111111111111111,
                            "#46039f"
                          ],
                          [
                            0.2222222222222222,
                            "#7201a8"
                          ],
                          [
                            0.3333333333333333,
                            "#9c179e"
                          ],
                          [
                            0.4444444444444444,
                            "#bd3786"
                          ],
                          [
                            0.5555555555555556,
                            "#d8576b"
                          ],
                          [
                            0.6666666666666666,
                            "#ed7953"
                          ],
                          [
                            0.7777777777777778,
                            "#fb9f3a"
                          ],
                          [
                            0.8888888888888888,
                            "#fdca26"
                          ],
                          [
                            1,
                            "#f0f921"
                          ]
                        ],
                        "type": "contour"
                      }
                    ],
                    "heatmapgl": [
                      {
                        "colorbar": {
                          "outlinewidth": 0,
                          "ticks": ""
                        },
                        "colorscale": [
                          [
                            0,
                            "#0d0887"
                          ],
                          [
                            0.1111111111111111,
                            "#46039f"
                          ],
                          [
                            0.2222222222222222,
                            "#7201a8"
                          ],
                          [
                            0.3333333333333333,
                            "#9c179e"
                          ],
                          [
                            0.4444444444444444,
                            "#bd3786"
                          ],
                          [
                            0.5555555555555556,
                            "#d8576b"
                          ],
                          [
                            0.6666666666666666,
                            "#ed7953"
                          ],
                          [
                            0.7777777777777778,
                            "#fb9f3a"
                          ],
                          [
                            0.8888888888888888,
                            "#fdca26"
                          ],
                          [
                            1,
                            "#f0f921"
                          ]
                        ],
                        "type": "heatmapgl"
                      }
                    ],
                    "heatmap": [
                      {
                        "colorbar": {
                          "outlinewidth": 0,
                          "ticks": ""
                        },
                        "colorscale": [
                          [
                            0,
                            "#0d0887"
                          ],
                          [
                            0.1111111111111111,
                            "#46039f"
                          ],
                          [
                            0.2222222222222222,
                            "#7201a8"
                          ],
                          [
                            0.3333333333333333,
                            "#9c179e"
                          ],
                          [
                            0.4444444444444444,
                            "#bd3786"
                          ],
                          [
                            0.5555555555555556,
                            "#d8576b"
                          ],
                          [
                            0.6666666666666666,
                            "#ed7953"
                          ],
                          [
                            0.7777777777777778,
                            "#fb9f3a"
                          ],
                          [
                            0.8888888888888888,
                            "#fdca26"
                          ],
                          [
                            1,
                            "#f0f921"
                          ]
                        ],
                        "type": "heatmap"
                      }
                    ],
                    "histogram2dcontour": [
                      {
                        "colorbar": {
                          "outlinewidth": 0,
                          "ticks": ""
                        },
                        "colorscale": [
                          [
                            0,
                            "#0d0887"
                          ],
                          [
                            0.1111111111111111,
                            "#46039f"
                          ],
                          [
                            0.2222222222222222,
                            "#7201a8"
                          ],
                          [
                            0.3333333333333333,
                            "#9c179e"
                          ],
                          [
                            0.4444444444444444,
                            "#bd3786"
                          ],
                          [
                            0.5555555555555556,
                            "#d8576b"
                          ],
                          [
                            0.6666666666666666,
                            "#ed7953"
                          ],
                          [
                            0.7777777777777778,
                            "#fb9f3a"
                          ],
                          [
                            0.8888888888888888,
                            "#fdca26"
                          ],
                          [
                            1,
                            "#f0f921"
                          ]
                        ],
                        "type": "histogram2dcontour"
                      }
                    ],
                    "histogram2d": [
                      {
                        "colorbar": {
                          "outlinewidth": 0,
                          "ticks": ""
                        },
                        "colorscale": [
                          [
                            0,
                            "#0d0887"
                          ],
                          [
                            0.1111111111111111,
                            "#46039f"
                          ],
                          [
                            0.2222222222222222,
                            "#7201a8"
                          ],
                          [
                            0.3333333333333333,
                            "#9c179e"
                          ],
                          [
                            0.4444444444444444,
                            "#bd3786"
                          ],
                          [
                            0.5555555555555556,
                            "#d8576b"
                          ],
                          [
                            0.6666666666666666,
                            "#ed7953"
                          ],
                          [
                            0.7777777777777778,
                            "#fb9f3a"
                          ],
                          [
                            0.8888888888888888,
                            "#fdca26"
                          ],
                          [
                            1,
                            "#f0f921"
                          ]
                        ],
                        "type": "histogram2d"
                      }
                    ],
                    "histogram": [
                      {
                        "marker": {
                          "pattern": {
                            "fillmode": "overlay",
                            "size": 10,
                            "solidity": 0.2
                          }
                        },
                        "type": "histogram"
                      }
                    ],
                    "mesh3d": [
                      {
                        "colorbar": {
                          "outlinewidth": 0,
                          "ticks": ""
                        },
                        "type": "mesh3d"
                      }
                    ],
                    "parcoords": [
                      {
                        "line": {
                          "colorbar": {
                            "outlinewidth": 0,
                            "ticks": ""
                          }
                        },
                        "type": "parcoords"
                      }
                    ],
                    "pie": [
                      {
                        "automargin": true,
                        "type": "pie"
                      }
                    ],
                    "scatter3d": [
                      {
                        "line": {
                          "colorbar": {
                            "outlinewidth": 0,
                            "ticks": ""
                          }
                        },
                        "marker": {
                          "colorbar": {
                            "outlinewidth": 0,
                            "ticks": ""
                          }
                        },
                        "type": "scatter3d"
                      }
                    ],
                    "scattercarpet": [
                      {
                        "marker": {
                          "colorbar": {
                            "outlinewidth": 0,
                            "ticks": ""
                          }
                        },
                        "type": "scattercarpet"
                      }
                    ],
                    "scattergeo": [
                      {
                        "marker": {
                          "colorbar": {
                            "outlinewidth": 0,
                            "ticks": ""
                          }
                        },
                        "type": "scattergeo"
                      }
                    ],
                    "scattergl": [
                      {
                        "marker": {
                          "colorbar": {
                            "outlinewidth": 0,
                            "ticks": ""
                          }
                        },
                        "type": "scattergl"
                      }
                    ],
                    "scattermapbox": [
                      {
                        "marker": {
                          "colorbar": {
                            "outlinewidth": 0,
                            "ticks": ""
                          }
                        },
                        "type": "scattermapbox"
                      }
                    ],
                    "scatterpolargl": [
                      {
                        "marker": {
                          "colorbar": {
                            "outlinewidth": 0,
                            "ticks": ""
                          }
                        },
                        "type": "scatterpolargl"
                      }
                    ],
                    "scatterpolar": [
                      {
                        "marker": {
                          "colorbar": {
                            "outlinewidth": 0,
                            "ticks": ""
                          }
                        },
                        "type": "scatterpolar"
                      }
                    ],
                    "scatter": [
                      {
                        "marker": {
                          "colorbar": {
                            "outlinewidth": 0,
                            "ticks": ""
                          }
                        },
                        "type": "scatter"
                      }
                    ],
                    "scatterternary": [
                      {
                        "marker": {
                          "colorbar": {
                            "outlinewidth": 0,
                            "ticks": ""
                          }
                        },
                        "type": "scatterternary"
                      }
                    ],
                    "surface": [
                      {
                        "colorbar": {
                          "outlinewidth": 0,
                          "ticks": ""
                        },
                        "colorscale": [
                          [
                            0,
                            "#0d0887"
                          ],
                          [
                            0.1111111111111111,
                            "#46039f"
                          ],
                          [
                            0.2222222222222222,
                            "#7201a8"
                          ],
                          [
                            0.3333333333333333,
                            "#9c179e"
                          ],
                          [
                            0.4444444444444444,
                            "#bd3786"
                          ],
                          [
                            0.5555555555555556,
                            "#d8576b"
                          ],
                          [
                            0.6666666666666666,
                            "#ed7953"
                          ],
                          [
                            0.7777777777777778,
                            "#fb9f3a"
                          ],
                          [
                            0.8888888888888888,
                            "#fdca26"
                          ],
                          [
                            1,
                            "#f0f921"
                          ]
                        ],
                        "type": "surface"
                      }
                    ],
                    "table": [
                      {
                        "cells": {
                          "fill": {
                            "color": "#EBF0F8"
                          },
                          "line": {
                            "color": "white"
                          }
                        },
                        "header": {
                          "fill": {
                            "color": "#C8D4E3"
                          },
                          "line": {
                            "color": "white"
                          }
                        },
                        "type": "table"
                      }
                    ]
                  },
                  "layout": {
                    "annotationdefaults": {
                      "arrowcolor": "#2a3f5f",
                      "arrowhead": 0,
                      "arrowwidth": 1
                    },
                    "autotypenumbers": "strict",
                    "coloraxis": {
                      "colorbar": {
                        "outlinewidth": 0,
                        "ticks": ""
                      }
                    },
                    "colorscale": {
                      "diverging": [
                        [
                          0,
                          "#8e0152"
                        ],
                        [
                          0.1,
                          "#c51b7d"
                        ],
                        [
                          0.2,
                          "#de77ae"
                        ],
                        [
                          0.3,
                          "#f1b6da"
                        ],
                        [
                          0.4,
                          "#fde0ef"
                        ],
                        [
                          0.5,
                          "#f7f7f7"
                        ],
                        [
                          0.6,
                          "#e6f5d0"
                        ],
                        [
                          0.7,
                          "#b8e186"
                        ],
                        [
                          0.8,
                          "#7fbc41"
                        ],
                        [
                          0.9,
                          "#4d9221"
                        ],
                        [
                          1,
                          "#276419"
                        ]
                      ],
                      "sequential": [
                        [
                          0,
                          "#0d0887"
                        ],
                        [
                          0.1111111111111111,
                          "#46039f"
                        ],
                        [
                          0.2222222222222222,
                          "#7201a8"
                        ],
                        [
                          0.3333333333333333,
                          "#9c179e"
                        ],
                        [
                          0.4444444444444444,
                          "#bd3786"
                        ],
                        [
                          0.5555555555555556,
                          "#d8576b"
                        ],
                        [
                          0.6666666666666666,
                          "#ed7953"
                        ],
                        [
                          0.7777777777777778,
                          "#fb9f3a"
                        ],
                        [
                          0.8888888888888888,
                          "#fdca26"
                        ],
                        [
                          1,
                          "#f0f921"
                        ]
                      ],
                      "sequentialminus": [
                        [
                          0,
                          "#0d0887"
                        ],
                        [
                          0.1111111111111111,
                          "#46039f"
                        ],
                        [
                          0.2222222222222222,
                          "#7201a8"
                        ],
                        [
                          0.3333333333333333,
                          "#9c179e"
                        ],
                        [
                          0.4444444444444444,
                          "#bd3786"
                        ],
                        [
                          0.5555555555555556,
                          "#d8576b"
                        ],
                        [
                          0.6666666666666666,
                          "#ed7953"
                        ],
                        [
                          0.7777777777777778,
                          "#fb9f3a"
                        ],
                        [
                          0.8888888888888888,
                          "#fdca26"
                        ],
                        [
                          1,
                          "#f0f921"
                        ]
                      ]
                    },
                    "colorway": [
                      "#636efa",
                      "#EF553B",
                      "#00cc96",
                      "#ab63fa",
                      "#FFA15A",
                      "#19d3f3",
                      "#FF6692",
                      "#B6E880",
                      "#FF97FF",
                      "#FECB52"
                    ],
                    "font": {
                      "color": "#2a3f5f"
                    },
                    "geo": {
                      "bgcolor": "white",
                      "lakecolor": "white",
                      "landcolor": "#E5ECF6",
                      "showlakes": true,
                      "showland": true,
                      "subunitcolor": "white"
                    },
                    "hoverlabel": {
                      "align": "left"
                    },
                    "hovermode": "closest",
                    "mapbox": {
                      "style": "light"
                    },
                    "paper_bgcolor": "white",
                    "plot_bgcolor": "#E5ECF6",
                    "polar": {
                      "angularaxis": {
                        "gridcolor": "white",
                        "linecolor": "white",
                        "ticks": ""
                      },
                      "bgcolor": "#E5ECF6",
                      "radialaxis": {
                        "gridcolor": "white",
                        "linecolor": "white",
                        "ticks": ""
                      }
                    },
                    "scene": {
                      "xaxis": {
                        "backgroundcolor": "#E5ECF6",
                        "gridcolor": "white",
                        "gridwidth": 2,
                        "linecolor": "white",
                        "showbackground": true,
                        "ticks": "",
                        "zerolinecolor": "white"
                      },
                      "yaxis": {
                        "backgroundcolor": "#E5ECF6",
                        "gridcolor": "white",
                        "gridwidth": 2,
                        "linecolor": "white",
                        "showbackground": true,
                        "ticks": "",
                        "zerolinecolor": "white"
                      },
                      "zaxis": {
                        "backgroundcolor": "#E5ECF6",
                        "gridcolor": "white",
                        "gridwidth": 2,
                        "linecolor": "white",
                        "showbackground": true,
                        "ticks": "",
                        "zerolinecolor": "white"
                      }
                    },
                    "shapedefaults": {
                      "line": {
                        "color": "#2a3f5f"
                      }
                    },
                    "ternary": {
                      "aaxis": {
                        "gridcolor": "white",
                        "linecolor": "white",
                        "ticks": ""
                      },
                      "baxis": {
                        "gridcolor": "white",
                        "linecolor": "white",
                        "ticks": ""
                      },
                      "bgcolor": "#E5ECF6",
                      "caxis": {
                        "gridcolor": "white",
                        "linecolor": "white",
                        "ticks": ""
                      }
                    },
                    "title": {
                      "x": 0.05
                    },
                    "xaxis": {
                      "automargin": true,
                      "gridcolor": "white",
                      "linecolor": "white",
                      "ticks": "",
                      "title": {
                        "standoff": 15
                      },
                      "zerolinecolor": "white",
                      "zerolinewidth": 2
                    },
                    "yaxis": {
                      "automargin": true,
                      "gridcolor": "white",
                      "linecolor": "white",
                      "ticks": "",
                      "title": {
                        "standoff": 15
                      },
                      "zerolinecolor": "white",
                      "zerolinewidth": 2
                    }
                  }
                },
                "title": {
                  "font": {
                    "color": "#4D5663"
                  }
                },
                "xaxis": {
                  "anchor": "y",
                  "domain": [
                    0,
                    0.2125
                  ],
                  "gridcolor": "#E1E5ED",
                  "showgrid": false,
                  "tickfont": {
                    "color": "#4D5663"
                  },
                  "title": {
                    "font": {
                      "color": "#4D5663"
                    },
                    "text": ""
                  },
                  "zerolinecolor": "#E1E5ED"
                },
                "yaxis": {
                  "anchor": "x",
                  "domain": [
                    0.8025,
                    1
                  ],
                  "gridcolor": "#E1E5ED",
                  "showgrid": false,
                  "tickfont": {
                    "color": "#4D5663"
                  },
                  "title": {
                    "font": {
                      "color": "#4D5663"
                    },
                    "text": ""
                  },
                  "zerolinecolor": "#E1E5ED"
                },
                "xaxis2": {
                  "anchor": "y2",
                  "domain": [
                    0.2625,
                    0.475
                  ],
                  "gridcolor": "#E1E5ED",
                  "showgrid": false,
                  "tickfont": {
                    "color": "#4D5663"
                  },
                  "title": {
                    "font": {
                      "color": "#4D5663"
                    },
                    "text": ""
                  },
                  "zerolinecolor": "#E1E5ED"
                },
                "yaxis2": {
                  "anchor": "x2",
                  "domain": [
                    0.8025,
                    1
                  ],
                  "gridcolor": "#E1E5ED",
                  "showgrid": false,
                  "tickfont": {
                    "color": "#4D5663"
                  },
                  "title": {
                    "font": {
                      "color": "#4D5663"
                    },
                    "text": ""
                  },
                  "zerolinecolor": "#E1E5ED"
                },
                "xaxis3": {
                  "anchor": "y3",
                  "domain": [
                    0.525,
                    0.7375
                  ],
                  "gridcolor": "#E1E5ED",
                  "showgrid": false,
                  "tickfont": {
                    "color": "#4D5663"
                  },
                  "title": {
                    "font": {
                      "color": "#4D5663"
                    },
                    "text": ""
                  },
                  "zerolinecolor": "#E1E5ED"
                },
                "yaxis3": {
                  "anchor": "x3",
                  "domain": [
                    0.8025,
                    1
                  ],
                  "gridcolor": "#E1E5ED",
                  "showgrid": false,
                  "tickfont": {
                    "color": "#4D5663"
                  },
                  "title": {
                    "font": {
                      "color": "#4D5663"
                    },
                    "text": ""
                  },
                  "zerolinecolor": "#E1E5ED"
                },
                "xaxis4": {
                  "anchor": "y4",
                  "domain": [
                    0.7875,
                    1
                  ],
                  "gridcolor": "#E1E5ED",
                  "showgrid": false,
                  "tickfont": {
                    "color": "#4D5663"
                  },
                  "title": {
                    "font": {
                      "color": "#4D5663"
                    },
                    "text": ""
                  },
                  "zerolinecolor": "#E1E5ED"
                },
                "yaxis4": {
                  "anchor": "x4",
                  "domain": [
                    0.8025,
                    1
                  ],
                  "gridcolor": "#E1E5ED",
                  "showgrid": false,
                  "tickfont": {
                    "color": "#4D5663"
                  },
                  "title": {
                    "font": {
                      "color": "#4D5663"
                    },
                    "text": ""
                  },
                  "zerolinecolor": "#E1E5ED"
                },
                "xaxis5": {
                  "anchor": "y5",
                  "domain": [
                    0,
                    0.2125
                  ],
                  "gridcolor": "#E1E5ED",
                  "showgrid": false,
                  "tickfont": {
                    "color": "#4D5663"
                  },
                  "title": {
                    "font": {
                      "color": "#4D5663"
                    },
                    "text": ""
                  },
                  "zerolinecolor": "#E1E5ED"
                },
                "yaxis5": {
                  "anchor": "x5",
                  "domain": [
                    0.535,
                    0.7325
                  ],
                  "gridcolor": "#E1E5ED",
                  "showgrid": false,
                  "tickfont": {
                    "color": "#4D5663"
                  },
                  "title": {
                    "font": {
                      "color": "#4D5663"
                    },
                    "text": ""
                  },
                  "zerolinecolor": "#E1E5ED"
                },
                "xaxis6": {
                  "anchor": "y6",
                  "domain": [
                    0.2625,
                    0.475
                  ],
                  "gridcolor": "#E1E5ED",
                  "showgrid": false,
                  "tickfont": {
                    "color": "#4D5663"
                  },
                  "title": {
                    "font": {
                      "color": "#4D5663"
                    },
                    "text": ""
                  },
                  "zerolinecolor": "#E1E5ED"
                },
                "yaxis6": {
                  "anchor": "x6",
                  "domain": [
                    0.535,
                    0.7325
                  ],
                  "gridcolor": "#E1E5ED",
                  "showgrid": false,
                  "tickfont": {
                    "color": "#4D5663"
                  },
                  "title": {
                    "font": {
                      "color": "#4D5663"
                    },
                    "text": ""
                  },
                  "zerolinecolor": "#E1E5ED"
                },
                "xaxis7": {
                  "anchor": "y7",
                  "domain": [
                    0.525,
                    0.7375
                  ],
                  "gridcolor": "#E1E5ED",
                  "showgrid": false,
                  "tickfont": {
                    "color": "#4D5663"
                  },
                  "title": {
                    "font": {
                      "color": "#4D5663"
                    },
                    "text": ""
                  },
                  "zerolinecolor": "#E1E5ED"
                },
                "yaxis7": {
                  "anchor": "x7",
                  "domain": [
                    0.535,
                    0.7325
                  ],
                  "gridcolor": "#E1E5ED",
                  "showgrid": false,
                  "tickfont": {
                    "color": "#4D5663"
                  },
                  "title": {
                    "font": {
                      "color": "#4D5663"
                    },
                    "text": ""
                  },
                  "zerolinecolor": "#E1E5ED"
                },
                "xaxis8": {
                  "anchor": "y8",
                  "domain": [
                    0.7875,
                    1
                  ],
                  "gridcolor": "#E1E5ED",
                  "showgrid": false,
                  "tickfont": {
                    "color": "#4D5663"
                  },
                  "title": {
                    "font": {
                      "color": "#4D5663"
                    },
                    "text": ""
                  },
                  "zerolinecolor": "#E1E5ED"
                },
                "yaxis8": {
                  "anchor": "x8",
                  "domain": [
                    0.535,
                    0.7325
                  ],
                  "gridcolor": "#E1E5ED",
                  "showgrid": false,
                  "tickfont": {
                    "color": "#4D5663"
                  },
                  "title": {
                    "font": {
                      "color": "#4D5663"
                    },
                    "text": ""
                  },
                  "zerolinecolor": "#E1E5ED"
                },
                "xaxis9": {
                  "anchor": "y9",
                  "domain": [
                    0,
                    0.2125
                  ],
                  "gridcolor": "#E1E5ED",
                  "showgrid": false,
                  "tickfont": {
                    "color": "#4D5663"
                  },
                  "title": {
                    "font": {
                      "color": "#4D5663"
                    },
                    "text": ""
                  },
                  "zerolinecolor": "#E1E5ED"
                },
                "yaxis9": {
                  "anchor": "x9",
                  "domain": [
                    0.2675,
                    0.465
                  ],
                  "gridcolor": "#E1E5ED",
                  "showgrid": false,
                  "tickfont": {
                    "color": "#4D5663"
                  },
                  "title": {
                    "font": {
                      "color": "#4D5663"
                    },
                    "text": ""
                  },
                  "zerolinecolor": "#E1E5ED"
                },
                "xaxis10": {
                  "anchor": "y10",
                  "domain": [
                    0.2625,
                    0.475
                  ],
                  "gridcolor": "#E1E5ED",
                  "showgrid": false,
                  "tickfont": {
                    "color": "#4D5663"
                  },
                  "title": {
                    "font": {
                      "color": "#4D5663"
                    },
                    "text": ""
                  },
                  "zerolinecolor": "#E1E5ED"
                },
                "yaxis10": {
                  "anchor": "x10",
                  "domain": [
                    0.2675,
                    0.465
                  ],
                  "gridcolor": "#E1E5ED",
                  "showgrid": false,
                  "tickfont": {
                    "color": "#4D5663"
                  },
                  "title": {
                    "font": {
                      "color": "#4D5663"
                    },
                    "text": ""
                  },
                  "zerolinecolor": "#E1E5ED"
                },
                "xaxis11": {
                  "anchor": "y11",
                  "domain": [
                    0.525,
                    0.7375
                  ],
                  "gridcolor": "#E1E5ED",
                  "showgrid": false,
                  "tickfont": {
                    "color": "#4D5663"
                  },
                  "title": {
                    "font": {
                      "color": "#4D5663"
                    },
                    "text": ""
                  },
                  "zerolinecolor": "#E1E5ED"
                },
                "yaxis11": {
                  "anchor": "x11",
                  "domain": [
                    0.2675,
                    0.465
                  ],
                  "gridcolor": "#E1E5ED",
                  "showgrid": false,
                  "tickfont": {
                    "color": "#4D5663"
                  },
                  "title": {
                    "font": {
                      "color": "#4D5663"
                    },
                    "text": ""
                  },
                  "zerolinecolor": "#E1E5ED"
                },
                "xaxis12": {
                  "anchor": "y12",
                  "domain": [
                    0.7875,
                    1
                  ],
                  "gridcolor": "#E1E5ED",
                  "showgrid": false,
                  "tickfont": {
                    "color": "#4D5663"
                  },
                  "title": {
                    "font": {
                      "color": "#4D5663"
                    },
                    "text": ""
                  },
                  "zerolinecolor": "#E1E5ED"
                },
                "yaxis12": {
                  "anchor": "x12",
                  "domain": [
                    0.2675,
                    0.465
                  ],
                  "gridcolor": "#E1E5ED",
                  "showgrid": false,
                  "tickfont": {
                    "color": "#4D5663"
                  },
                  "title": {
                    "font": {
                      "color": "#4D5663"
                    },
                    "text": ""
                  },
                  "zerolinecolor": "#E1E5ED"
                },
                "xaxis13": {
                  "anchor": "y13",
                  "domain": [
                    0,
                    0.2125
                  ],
                  "gridcolor": "#E1E5ED",
                  "showgrid": false,
                  "tickfont": {
                    "color": "#4D5663"
                  },
                  "title": {
                    "font": {
                      "color": "#4D5663"
                    },
                    "text": ""
                  },
                  "zerolinecolor": "#E1E5ED"
                },
                "yaxis13": {
                  "anchor": "x13",
                  "domain": [
                    0,
                    0.1975
                  ],
                  "gridcolor": "#E1E5ED",
                  "showgrid": false,
                  "tickfont": {
                    "color": "#4D5663"
                  },
                  "title": {
                    "font": {
                      "color": "#4D5663"
                    },
                    "text": ""
                  },
                  "zerolinecolor": "#E1E5ED"
                },
                "xaxis14": {
                  "anchor": "y14",
                  "domain": [
                    0.2625,
                    0.475
                  ],
                  "gridcolor": "#E1E5ED",
                  "showgrid": false,
                  "tickfont": {
                    "color": "#4D5663"
                  },
                  "title": {
                    "font": {
                      "color": "#4D5663"
                    },
                    "text": ""
                  },
                  "zerolinecolor": "#E1E5ED"
                },
                "yaxis14": {
                  "anchor": "x14",
                  "domain": [
                    0,
                    0.1975
                  ],
                  "gridcolor": "#E1E5ED",
                  "showgrid": false,
                  "tickfont": {
                    "color": "#4D5663"
                  },
                  "title": {
                    "font": {
                      "color": "#4D5663"
                    },
                    "text": ""
                  },
                  "zerolinecolor": "#E1E5ED"
                },
                "xaxis15": {
                  "anchor": "y15",
                  "domain": [
                    0.525,
                    0.7375
                  ],
                  "gridcolor": "#E1E5ED",
                  "showgrid": false,
                  "tickfont": {
                    "color": "#4D5663"
                  },
                  "title": {
                    "font": {
                      "color": "#4D5663"
                    },
                    "text": ""
                  },
                  "zerolinecolor": "#E1E5ED"
                },
                "yaxis15": {
                  "anchor": "x15",
                  "domain": [
                    0,
                    0.1975
                  ],
                  "gridcolor": "#E1E5ED",
                  "showgrid": false,
                  "tickfont": {
                    "color": "#4D5663"
                  },
                  "title": {
                    "font": {
                      "color": "#4D5663"
                    },
                    "text": ""
                  },
                  "zerolinecolor": "#E1E5ED"
                },
                "xaxis16": {
                  "anchor": "y16",
                  "domain": [
                    0.7875,
                    1
                  ],
                  "gridcolor": "#E1E5ED",
                  "showgrid": false,
                  "tickfont": {
                    "color": "#4D5663"
                  },
                  "title": {
                    "font": {
                      "color": "#4D5663"
                    },
                    "text": ""
                  },
                  "zerolinecolor": "#E1E5ED"
                },
                "yaxis16": {
                  "anchor": "x16",
                  "domain": [
                    0,
                    0.1975
                  ],
                  "gridcolor": "#E1E5ED",
                  "showgrid": false,
                  "tickfont": {
                    "color": "#4D5663"
                  },
                  "title": {
                    "font": {
                      "color": "#4D5663"
                    },
                    "text": ""
                  },
                  "zerolinecolor": "#E1E5ED"
                }
              },
              "config": {
                "showLink": true,
                "linkText": "Export to plot.ly",
                "plotlyServerURL": "https://plot.ly"
              }
            },
            "text/html": [
              "<div>                            <div id=\"41964e7d-bae6-48f5-9654-076a7446c763\" class=\"plotly-graph-div\" style=\"height:525px; width:100%;\"></div>            <script type=\"text/javascript\">                require([\"plotly\"], function(Plotly) {                    window.PLOTLYENV=window.PLOTLYENV || {};\n",
              "                    window.PLOTLYENV.BASE_URL='https://plot.ly';                                    if (document.getElementById(\"41964e7d-bae6-48f5-9654-076a7446c763\")) {                    Plotly.newPlot(                        \"41964e7d-bae6-48f5-9654-076a7446c763\",                        [{\"histfunc\":\"count\",\"histnorm\":\"\",\"marker\":{\"color\":\"rgba(255, 153, 51, 1.0)\",\"line\":{\"color\":\"#4D5663\",\"width\":1.3}},\"name\":\"A\",\"nbinsx\":10,\"opacity\":0.8,\"orientation\":\"v\",\"x\":[0.0178114694854835,0.6503752891210457,1.4746556294415147,-0.002867505410992792,-0.7757917649856074,0.7662726192537015,1.0664749327062275,-0.11692736502946699,0.3306590500365512,-0.6039709270655202,2.3235131537725375,-1.581925335224607,0.015324694821562445,0.7668724051627919,0.5449217852329432,-1.5393392248297437,0.8826309337533468,-0.42177731108365596,0.6252953354329761,0.9475458834299388,0.16638344745317185,0.5872486334340409,0.7331878127127393,-0.8712133576574608,0.02218394918355038,-0.6013339495862363,-1.756229955636603,-1.9819893580331447,1.3825585253185222,0.18483164136281052,-1.2679341148034344,0.9949380071155695,-1.1476115696647307,-0.6479204186113192,-0.3789275877400645,0.2493338620032875,1.4201510261872716,-1.0503815196700217,1.0554704075679069,-1.0293234615296152,-1.0822796524356448,0.7684855357339191,2.5192161436818195,-1.9117744538897679,1.5931709732081492,0.5205078111864689,-0.9035063004328567,-0.039536779019681174,0.013421263122439244,-1.354389863999936,0.20741889935212338,-2.12861161880051,-0.5361385106295921,0.38466904193579843,0.5746526914220886,-0.870127691386053,-0.00021741926349469498,1.3073415839337295,-0.3230346369356965,-1.4318585137200077,0.742678531238043,-0.08997843766330833,-0.9296646722359696,-0.07779540095102579,-0.46929144505777076,0.008368761820374822,-0.613299214024739,1.1584825020371716,-0.47277585985662945,0.03805037863533173,-1.127629142630456,1.1062032945972584,1.338797608931247,-0.3109914547842166,0.21070722316844118,-0.15525145173830632,-0.9436284343977237,0.8405189744616796,0.7194053183545105,-0.5898131143539371,0.11078070545200325,-0.9101033501429266,-0.2760212578221692,-0.06121843562570686,0.22082764961571158,-0.8087040146874948,-0.24795260940063577,-0.18500473992804137,-1.1261930084640464,0.25926065036018053,1.0626956597526414,-0.29189730205400105,1.4649070470221661,0.15330410358902066,-0.9135301588123295,-1.5586000323884628,0.7016050667461048,-0.3143015581881234,-0.41706765214680636,-0.3921961494111043],\"xaxis\":\"x\",\"yaxis\":\"y\",\"type\":\"histogram\"},{\"line\":{\"color\":\"rgba(128, 128, 128, 1.0)\",\"dash\":\"solid\",\"shape\":\"linear\",\"width\":1.3},\"marker\":{\"size\":2,\"symbol\":\"circle\"},\"mode\":\"markers\",\"name\":\"A\",\"text\":\"\",\"x\":[-0.5617375702420864,-1.2105280209767268,0.8561250259063421,-0.7107503858881543,1.9101987417784274,0.5789968113218955,-0.9591681047529027,0.5395359124881931,1.3193862626751078,0.6680228938498383,-0.7341726211864084,-0.6118985446054702,-1.2141500234277,1.5911478517284632,-0.5261168186658791,0.8457278666030731,-1.0083412765657886,2.032738956061042,0.1463571733779813,0.5177816732261287,-0.769212161890698,-1.069099261508924,0.6217522583946871,-0.7685130295505281,0.9544080795307096,-0.09436162464620383,0.5375121175183534,0.6747308503837377,-0.5610675516558478,0.94214409035032,0.6064445545372859,0.07104417008322735,0.1330925122609887,0.6136925994677905,0.0035230303615803584,-0.34532692952094346,0.13237764586606712,-0.9646644055964682,0.130714844563745,0.10519423612640431,0.8547224198592885,1.4829075328199424,-0.9952118382098827,-0.6046778657833812,-0.0130276454638649,1.087828140993123,0.2085807423899216,0.74207524333408,-0.7939304210976657,0.882859631977347,0.21805155116360347,0.8191732685075461,-0.33300967724353003,-0.5919052919299606,-1.7071195729782942,-1.1895653090495355,0.6390977779302962,1.295456870258728,1.0432603943938363,1.5067829763146572,0.9566913863674601,1.310266945124139,-1.93090349772417,0.5108049211688599,-1.8206417027981763,0.4919314503964313,1.0367104751357175,-0.5070167039378888,0.4444149359221097,0.5942474438048201,-2.4036581156786467,-0.738923209691997,0.2483313091113896,-1.5896989324533435,-0.1767444417931268,1.2918585657024686,0.15436931061292777,-0.020693967852573433,-1.2953814780999942,-0.33164381746601795,-1.98419870685544,-0.0977188523628509,-1.3414203013691797,0.19001993628446323,-1.144617917384704,0.6281985093673482,0.31282287792073715,-0.4335108153748616,0.08996165145511464,-0.4049630640050919,-1.3655766758769943,0.003863089142866324,1.9544805266971712,1.4025801247991099,1.5133080358291704,-1.081597061248639,0.08033346985791334,-0.8574779036981085,-0.5578342097981503,-1.0823858458747249],\"xaxis\":\"x2\",\"y\":[0.0178114694854835,0.6503752891210457,1.4746556294415147,-0.002867505410992792,-0.7757917649856074,0.7662726192537015,1.0664749327062275,-0.11692736502946699,0.3306590500365512,-0.6039709270655202,2.3235131537725375,-1.581925335224607,0.015324694821562445,0.7668724051627919,0.5449217852329432,-1.5393392248297437,0.8826309337533468,-0.42177731108365596,0.6252953354329761,0.9475458834299388,0.16638344745317185,0.5872486334340409,0.7331878127127393,-0.8712133576574608,0.02218394918355038,-0.6013339495862363,-1.756229955636603,-1.9819893580331447,1.3825585253185222,0.18483164136281052,-1.2679341148034344,0.9949380071155695,-1.1476115696647307,-0.6479204186113192,-0.3789275877400645,0.2493338620032875,1.4201510261872716,-1.0503815196700217,1.0554704075679069,-1.0293234615296152,-1.0822796524356448,0.7684855357339191,2.5192161436818195,-1.9117744538897679,1.5931709732081492,0.5205078111864689,-0.9035063004328567,-0.039536779019681174,0.013421263122439244,-1.354389863999936,0.20741889935212338,-2.12861161880051,-0.5361385106295921,0.38466904193579843,0.5746526914220886,-0.870127691386053,-0.00021741926349469498,1.3073415839337295,-0.3230346369356965,-1.4318585137200077,0.742678531238043,-0.08997843766330833,-0.9296646722359696,-0.07779540095102579,-0.46929144505777076,0.008368761820374822,-0.613299214024739,1.1584825020371716,-0.47277585985662945,0.03805037863533173,-1.127629142630456,1.1062032945972584,1.338797608931247,-0.3109914547842166,0.21070722316844118,-0.15525145173830632,-0.9436284343977237,0.8405189744616796,0.7194053183545105,-0.5898131143539371,0.11078070545200325,-0.9101033501429266,-0.2760212578221692,-0.06121843562570686,0.22082764961571158,-0.8087040146874948,-0.24795260940063577,-0.18500473992804137,-1.1261930084640464,0.25926065036018053,1.0626956597526414,-0.29189730205400105,1.4649070470221661,0.15330410358902066,-0.9135301588123295,-1.5586000323884628,0.7016050667461048,-0.3143015581881234,-0.41706765214680636,-0.3921961494111043],\"yaxis\":\"y2\",\"type\":\"scatter\"},{\"line\":{\"color\":\"rgba(128, 128, 128, 1.0)\",\"dash\":\"solid\",\"shape\":\"linear\",\"width\":1.3},\"marker\":{\"size\":2,\"symbol\":\"circle\"},\"mode\":\"markers\",\"name\":\"A\",\"text\":\"\",\"x\":[-0.22988724567685068,0.17211208293326638,-0.891866874750063,-1.4208268256596377,-1.5096491399989973,1.1047438368262026,-0.6213705058759526,0.23971762053336035,-0.42150105154750994,0.1882318030835403,1.2575508166587719,-0.2242558811223914,0.24739831047320376,-0.07660113555994527,-0.27767955287392726,0.582957367085622,-0.7630131125241152,-0.498854865462507,-0.2372975468039774,1.0293829524030838,0.2665421039152957,-0.7283486827820418,-0.4324384878981543,1.0865630794601617,0.7064189848921297,0.4900608058256672,0.29723156415423607,1.510895455774434,0.5718871794669691,0.8761321844277847,-0.40417579185597763,-0.3798921640839629,0.5522284039676492,0.686974485202635,-1.4127325618659128,1.3066560665482645,-0.009758700388875594,0.5552146054805828,0.21566804645670642,-0.39240933951428913,-0.8879505183629269,-1.192214810338215,-0.06777557439608581,-0.5171084617987218,-0.15087274443869356,0.13587754591411752,-0.9622912222444939,0.638186730745737,-0.5129861508700331,1.645816480310981,-1.0140986777422094,-2.236568069692717,0.1250521384092541,2.4824183877463204,0.5804193849674129,-0.49519575868165633,1.404292027644616,-0.5740444848836095,-1.9195774568110873,-0.531383677376116,-0.7574628978397108,-0.2611686074531827,0.21325247853887236,-0.5688195514278918,1.407855318324713,-0.26715323393690205,0.0768479951656562,-0.7160073257075226,-1.005085258333275,2.8195460489570543,-1.382176070380219,1.4951735061880786,-0.05108020834368662,0.5883706860719372,-0.15897927556667274,-0.4189142343829021,-0.023430592051969238,-0.8559145291990594,1.3343773242424868,-1.7351043094162564,-1.0775923821463007,-0.7637373361069689,0.40966995116429694,0.9233843911474657,2.5424858652010394,0.1698631879030505,1.1314177046313625,0.18121743533844004,-0.6767345339135239,-0.6119872089364478,1.7661491752308893,1.0041798114796423,0.42240183560358363,-0.06640433508646586,-0.028537720723805997,-1.8786857981031913,0.4291889448384859,0.2521237637603228,-1.3953715323858975,0.40252028051630123],\"xaxis\":\"x3\",\"y\":[0.0178114694854835,0.6503752891210457,1.4746556294415147,-0.002867505410992792,-0.7757917649856074,0.7662726192537015,1.0664749327062275,-0.11692736502946699,0.3306590500365512,-0.6039709270655202,2.3235131537725375,-1.581925335224607,0.015324694821562445,0.7668724051627919,0.5449217852329432,-1.5393392248297437,0.8826309337533468,-0.42177731108365596,0.6252953354329761,0.9475458834299388,0.16638344745317185,0.5872486334340409,0.7331878127127393,-0.8712133576574608,0.02218394918355038,-0.6013339495862363,-1.756229955636603,-1.9819893580331447,1.3825585253185222,0.18483164136281052,-1.2679341148034344,0.9949380071155695,-1.1476115696647307,-0.6479204186113192,-0.3789275877400645,0.2493338620032875,1.4201510261872716,-1.0503815196700217,1.0554704075679069,-1.0293234615296152,-1.0822796524356448,0.7684855357339191,2.5192161436818195,-1.9117744538897679,1.5931709732081492,0.5205078111864689,-0.9035063004328567,-0.039536779019681174,0.013421263122439244,-1.354389863999936,0.20741889935212338,-2.12861161880051,-0.5361385106295921,0.38466904193579843,0.5746526914220886,-0.870127691386053,-0.00021741926349469498,1.3073415839337295,-0.3230346369356965,-1.4318585137200077,0.742678531238043,-0.08997843766330833,-0.9296646722359696,-0.07779540095102579,-0.46929144505777076,0.008368761820374822,-0.613299214024739,1.1584825020371716,-0.47277585985662945,0.03805037863533173,-1.127629142630456,1.1062032945972584,1.338797608931247,-0.3109914547842166,0.21070722316844118,-0.15525145173830632,-0.9436284343977237,0.8405189744616796,0.7194053183545105,-0.5898131143539371,0.11078070545200325,-0.9101033501429266,-0.2760212578221692,-0.06121843562570686,0.22082764961571158,-0.8087040146874948,-0.24795260940063577,-0.18500473992804137,-1.1261930084640464,0.25926065036018053,1.0626956597526414,-0.29189730205400105,1.4649070470221661,0.15330410358902066,-0.9135301588123295,-1.5586000323884628,0.7016050667461048,-0.3143015581881234,-0.41706765214680636,-0.3921961494111043],\"yaxis\":\"y3\",\"type\":\"scatter\"},{\"line\":{\"color\":\"rgba(128, 128, 128, 1.0)\",\"dash\":\"solid\",\"shape\":\"linear\",\"width\":1.3},\"marker\":{\"size\":2,\"symbol\":\"circle\"},\"mode\":\"markers\",\"name\":\"A\",\"text\":\"\",\"x\":[2.217554665916425,-0.3014961031768279,2.435613600465756,-0.06903105312093644,0.16049249793884535,1.4180398930616278,-1.8045472367929227,0.5344165086215533,-0.038520391182023606,0.12710483292774583,-1.5277430040653537,0.22427178756539254,-0.21517376571041835,-0.758117522841429,-1.3004537000575158,0.17826685003088555,0.718522576537042,0.7876952780235554,2.3523033307838763,-0.5962702308195855,-0.2646762483414622,-1.7286731027147495,0.20144956052599025,-0.3306389264626234,-0.14784632704235154,-0.9023165497848213,-0.06312222293826868,-1.2010271790483693,-1.9125973030504928,1.5885566934691924,-0.6642189929482608,0.6000240020953647,-0.3718083932801579,-0.6700096446351057,0.2055605709273506,0.2891834045390556,-1.711456813282301,-1.0214000207882854,1.6979855994520434,-1.3947132230373687,1.307883451250784,-1.491701901333726,0.13667598515428284,1.1310987850031646,-0.09813756580182041,1.9215470008664755,0.140313366614571,1.0736218915148381,0.5858877597877262,-0.7432428932391569,-0.5801471262696313,-0.20659453054893556,-1.3007532899368388,-0.4310556377252584,0.42996028376510664,1.4016676118454796,0.2430069221168277,1.8472401608197366,1.498304566986409,-1.564287463136836,0.8385975805558931,-0.9101908408064494,-2.10492909587321,-0.3000342633285618,-1.2281908664666685,-0.5331990116419886,0.8903214581542908,-0.4740851170792387,0.4602731894140559,0.6424987013369353,1.4922047734978898,-1.0071965838846078,-1.3468250534062194,1.904043391134527,-1.6025200334480592,0.6224344759858497,2.2407335848252705,-2.3954468647618827,1.6870230499417707,-1.522119674669922,-0.8382111099336146,-1.5559050420334775,-0.3735782088074512,-0.6327142199121746,-1.5038494966680584,-0.0056455502949022485,0.7397157749883283,-1.5827676952799536,0.8850699955786837,-2.2070942654407713,-0.7088402650691995,-0.03173691299840874,0.2622837161008249,0.014908102376371864,1.7300091561481785,0.5704309048437817,0.15017321197562175,-1.2226023877510208,-0.3799244752357741,-0.6819290793598226],\"xaxis\":\"x4\",\"y\":[0.0178114694854835,0.6503752891210457,1.4746556294415147,-0.002867505410992792,-0.7757917649856074,0.7662726192537015,1.0664749327062275,-0.11692736502946699,0.3306590500365512,-0.6039709270655202,2.3235131537725375,-1.581925335224607,0.015324694821562445,0.7668724051627919,0.5449217852329432,-1.5393392248297437,0.8826309337533468,-0.42177731108365596,0.6252953354329761,0.9475458834299388,0.16638344745317185,0.5872486334340409,0.7331878127127393,-0.8712133576574608,0.02218394918355038,-0.6013339495862363,-1.756229955636603,-1.9819893580331447,1.3825585253185222,0.18483164136281052,-1.2679341148034344,0.9949380071155695,-1.1476115696647307,-0.6479204186113192,-0.3789275877400645,0.2493338620032875,1.4201510261872716,-1.0503815196700217,1.0554704075679069,-1.0293234615296152,-1.0822796524356448,0.7684855357339191,2.5192161436818195,-1.9117744538897679,1.5931709732081492,0.5205078111864689,-0.9035063004328567,-0.039536779019681174,0.013421263122439244,-1.354389863999936,0.20741889935212338,-2.12861161880051,-0.5361385106295921,0.38466904193579843,0.5746526914220886,-0.870127691386053,-0.00021741926349469498,1.3073415839337295,-0.3230346369356965,-1.4318585137200077,0.742678531238043,-0.08997843766330833,-0.9296646722359696,-0.07779540095102579,-0.46929144505777076,0.008368761820374822,-0.613299214024739,1.1584825020371716,-0.47277585985662945,0.03805037863533173,-1.127629142630456,1.1062032945972584,1.338797608931247,-0.3109914547842166,0.21070722316844118,-0.15525145173830632,-0.9436284343977237,0.8405189744616796,0.7194053183545105,-0.5898131143539371,0.11078070545200325,-0.9101033501429266,-0.2760212578221692,-0.06121843562570686,0.22082764961571158,-0.8087040146874948,-0.24795260940063577,-0.18500473992804137,-1.1261930084640464,0.25926065036018053,1.0626956597526414,-0.29189730205400105,1.4649070470221661,0.15330410358902066,-0.9135301588123295,-1.5586000323884628,0.7016050667461048,-0.3143015581881234,-0.41706765214680636,-0.3921961494111043],\"yaxis\":\"y4\",\"type\":\"scatter\"},{\"line\":{\"color\":\"rgba(128, 128, 128, 1.0)\",\"dash\":\"solid\",\"shape\":\"linear\",\"width\":1.3},\"marker\":{\"size\":2,\"symbol\":\"circle\"},\"mode\":\"markers\",\"name\":\"B\",\"text\":\"\",\"x\":[0.0178114694854835,0.6503752891210457,1.4746556294415147,-0.002867505410992792,-0.7757917649856074,0.7662726192537015,1.0664749327062275,-0.11692736502946699,0.3306590500365512,-0.6039709270655202,2.3235131537725375,-1.581925335224607,0.015324694821562445,0.7668724051627919,0.5449217852329432,-1.5393392248297437,0.8826309337533468,-0.42177731108365596,0.6252953354329761,0.9475458834299388,0.16638344745317185,0.5872486334340409,0.7331878127127393,-0.8712133576574608,0.02218394918355038,-0.6013339495862363,-1.756229955636603,-1.9819893580331447,1.3825585253185222,0.18483164136281052,-1.2679341148034344,0.9949380071155695,-1.1476115696647307,-0.6479204186113192,-0.3789275877400645,0.2493338620032875,1.4201510261872716,-1.0503815196700217,1.0554704075679069,-1.0293234615296152,-1.0822796524356448,0.7684855357339191,2.5192161436818195,-1.9117744538897679,1.5931709732081492,0.5205078111864689,-0.9035063004328567,-0.039536779019681174,0.013421263122439244,-1.354389863999936,0.20741889935212338,-2.12861161880051,-0.5361385106295921,0.38466904193579843,0.5746526914220886,-0.870127691386053,-0.00021741926349469498,1.3073415839337295,-0.3230346369356965,-1.4318585137200077,0.742678531238043,-0.08997843766330833,-0.9296646722359696,-0.07779540095102579,-0.46929144505777076,0.008368761820374822,-0.613299214024739,1.1584825020371716,-0.47277585985662945,0.03805037863533173,-1.127629142630456,1.1062032945972584,1.338797608931247,-0.3109914547842166,0.21070722316844118,-0.15525145173830632,-0.9436284343977237,0.8405189744616796,0.7194053183545105,-0.5898131143539371,0.11078070545200325,-0.9101033501429266,-0.2760212578221692,-0.06121843562570686,0.22082764961571158,-0.8087040146874948,-0.24795260940063577,-0.18500473992804137,-1.1261930084640464,0.25926065036018053,1.0626956597526414,-0.29189730205400105,1.4649070470221661,0.15330410358902066,-0.9135301588123295,-1.5586000323884628,0.7016050667461048,-0.3143015581881234,-0.41706765214680636,-0.3921961494111043],\"xaxis\":\"x5\",\"y\":[-0.5617375702420864,-1.2105280209767268,0.8561250259063421,-0.7107503858881543,1.9101987417784274,0.5789968113218955,-0.9591681047529027,0.5395359124881931,1.3193862626751078,0.6680228938498383,-0.7341726211864084,-0.6118985446054702,-1.2141500234277,1.5911478517284632,-0.5261168186658791,0.8457278666030731,-1.0083412765657886,2.032738956061042,0.1463571733779813,0.5177816732261287,-0.769212161890698,-1.069099261508924,0.6217522583946871,-0.7685130295505281,0.9544080795307096,-0.09436162464620383,0.5375121175183534,0.6747308503837377,-0.5610675516558478,0.94214409035032,0.6064445545372859,0.07104417008322735,0.1330925122609887,0.6136925994677905,0.0035230303615803584,-0.34532692952094346,0.13237764586606712,-0.9646644055964682,0.130714844563745,0.10519423612640431,0.8547224198592885,1.4829075328199424,-0.9952118382098827,-0.6046778657833812,-0.0130276454638649,1.087828140993123,0.2085807423899216,0.74207524333408,-0.7939304210976657,0.882859631977347,0.21805155116360347,0.8191732685075461,-0.33300967724353003,-0.5919052919299606,-1.7071195729782942,-1.1895653090495355,0.6390977779302962,1.295456870258728,1.0432603943938363,1.5067829763146572,0.9566913863674601,1.310266945124139,-1.93090349772417,0.5108049211688599,-1.8206417027981763,0.4919314503964313,1.0367104751357175,-0.5070167039378888,0.4444149359221097,0.5942474438048201,-2.4036581156786467,-0.738923209691997,0.2483313091113896,-1.5896989324533435,-0.1767444417931268,1.2918585657024686,0.15436931061292777,-0.020693967852573433,-1.2953814780999942,-0.33164381746601795,-1.98419870685544,-0.0977188523628509,-1.3414203013691797,0.19001993628446323,-1.144617917384704,0.6281985093673482,0.31282287792073715,-0.4335108153748616,0.08996165145511464,-0.4049630640050919,-1.3655766758769943,0.003863089142866324,1.9544805266971712,1.4025801247991099,1.5133080358291704,-1.081597061248639,0.08033346985791334,-0.8574779036981085,-0.5578342097981503,-1.0823858458747249],\"yaxis\":\"y5\",\"type\":\"scatter\"},{\"histfunc\":\"count\",\"histnorm\":\"\",\"marker\":{\"color\":\"rgba(55, 128, 191, 1.0)\",\"line\":{\"color\":\"#4D5663\",\"width\":1.3}},\"name\":\"B\",\"nbinsx\":10,\"opacity\":0.8,\"orientation\":\"v\",\"x\":[-0.5617375702420864,-1.2105280209767268,0.8561250259063421,-0.7107503858881543,1.9101987417784274,0.5789968113218955,-0.9591681047529027,0.5395359124881931,1.3193862626751078,0.6680228938498383,-0.7341726211864084,-0.6118985446054702,-1.2141500234277,1.5911478517284632,-0.5261168186658791,0.8457278666030731,-1.0083412765657886,2.032738956061042,0.1463571733779813,0.5177816732261287,-0.769212161890698,-1.069099261508924,0.6217522583946871,-0.7685130295505281,0.9544080795307096,-0.09436162464620383,0.5375121175183534,0.6747308503837377,-0.5610675516558478,0.94214409035032,0.6064445545372859,0.07104417008322735,0.1330925122609887,0.6136925994677905,0.0035230303615803584,-0.34532692952094346,0.13237764586606712,-0.9646644055964682,0.130714844563745,0.10519423612640431,0.8547224198592885,1.4829075328199424,-0.9952118382098827,-0.6046778657833812,-0.0130276454638649,1.087828140993123,0.2085807423899216,0.74207524333408,-0.7939304210976657,0.882859631977347,0.21805155116360347,0.8191732685075461,-0.33300967724353003,-0.5919052919299606,-1.7071195729782942,-1.1895653090495355,0.6390977779302962,1.295456870258728,1.0432603943938363,1.5067829763146572,0.9566913863674601,1.310266945124139,-1.93090349772417,0.5108049211688599,-1.8206417027981763,0.4919314503964313,1.0367104751357175,-0.5070167039378888,0.4444149359221097,0.5942474438048201,-2.4036581156786467,-0.738923209691997,0.2483313091113896,-1.5896989324533435,-0.1767444417931268,1.2918585657024686,0.15436931061292777,-0.020693967852573433,-1.2953814780999942,-0.33164381746601795,-1.98419870685544,-0.0977188523628509,-1.3414203013691797,0.19001993628446323,-1.144617917384704,0.6281985093673482,0.31282287792073715,-0.4335108153748616,0.08996165145511464,-0.4049630640050919,-1.3655766758769943,0.003863089142866324,1.9544805266971712,1.4025801247991099,1.5133080358291704,-1.081597061248639,0.08033346985791334,-0.8574779036981085,-0.5578342097981503,-1.0823858458747249],\"xaxis\":\"x6\",\"yaxis\":\"y6\",\"type\":\"histogram\"},{\"line\":{\"color\":\"rgba(128, 128, 128, 1.0)\",\"dash\":\"solid\",\"shape\":\"linear\",\"width\":1.3},\"marker\":{\"size\":2,\"symbol\":\"circle\"},\"mode\":\"markers\",\"name\":\"B\",\"text\":\"\",\"x\":[-0.22988724567685068,0.17211208293326638,-0.891866874750063,-1.4208268256596377,-1.5096491399989973,1.1047438368262026,-0.6213705058759526,0.23971762053336035,-0.42150105154750994,0.1882318030835403,1.2575508166587719,-0.2242558811223914,0.24739831047320376,-0.07660113555994527,-0.27767955287392726,0.582957367085622,-0.7630131125241152,-0.498854865462507,-0.2372975468039774,1.0293829524030838,0.2665421039152957,-0.7283486827820418,-0.4324384878981543,1.0865630794601617,0.7064189848921297,0.4900608058256672,0.29723156415423607,1.510895455774434,0.5718871794669691,0.8761321844277847,-0.40417579185597763,-0.3798921640839629,0.5522284039676492,0.686974485202635,-1.4127325618659128,1.3066560665482645,-0.009758700388875594,0.5552146054805828,0.21566804645670642,-0.39240933951428913,-0.8879505183629269,-1.192214810338215,-0.06777557439608581,-0.5171084617987218,-0.15087274443869356,0.13587754591411752,-0.9622912222444939,0.638186730745737,-0.5129861508700331,1.645816480310981,-1.0140986777422094,-2.236568069692717,0.1250521384092541,2.4824183877463204,0.5804193849674129,-0.49519575868165633,1.404292027644616,-0.5740444848836095,-1.9195774568110873,-0.531383677376116,-0.7574628978397108,-0.2611686074531827,0.21325247853887236,-0.5688195514278918,1.407855318324713,-0.26715323393690205,0.0768479951656562,-0.7160073257075226,-1.005085258333275,2.8195460489570543,-1.382176070380219,1.4951735061880786,-0.05108020834368662,0.5883706860719372,-0.15897927556667274,-0.4189142343829021,-0.023430592051969238,-0.8559145291990594,1.3343773242424868,-1.7351043094162564,-1.0775923821463007,-0.7637373361069689,0.40966995116429694,0.9233843911474657,2.5424858652010394,0.1698631879030505,1.1314177046313625,0.18121743533844004,-0.6767345339135239,-0.6119872089364478,1.7661491752308893,1.0041798114796423,0.42240183560358363,-0.06640433508646586,-0.028537720723805997,-1.8786857981031913,0.4291889448384859,0.2521237637603228,-1.3953715323858975,0.40252028051630123],\"xaxis\":\"x7\",\"y\":[-0.5617375702420864,-1.2105280209767268,0.8561250259063421,-0.7107503858881543,1.9101987417784274,0.5789968113218955,-0.9591681047529027,0.5395359124881931,1.3193862626751078,0.6680228938498383,-0.7341726211864084,-0.6118985446054702,-1.2141500234277,1.5911478517284632,-0.5261168186658791,0.8457278666030731,-1.0083412765657886,2.032738956061042,0.1463571733779813,0.5177816732261287,-0.769212161890698,-1.069099261508924,0.6217522583946871,-0.7685130295505281,0.9544080795307096,-0.09436162464620383,0.5375121175183534,0.6747308503837377,-0.5610675516558478,0.94214409035032,0.6064445545372859,0.07104417008322735,0.1330925122609887,0.6136925994677905,0.0035230303615803584,-0.34532692952094346,0.13237764586606712,-0.9646644055964682,0.130714844563745,0.10519423612640431,0.8547224198592885,1.4829075328199424,-0.9952118382098827,-0.6046778657833812,-0.0130276454638649,1.087828140993123,0.2085807423899216,0.74207524333408,-0.7939304210976657,0.882859631977347,0.21805155116360347,0.8191732685075461,-0.33300967724353003,-0.5919052919299606,-1.7071195729782942,-1.1895653090495355,0.6390977779302962,1.295456870258728,1.0432603943938363,1.5067829763146572,0.9566913863674601,1.310266945124139,-1.93090349772417,0.5108049211688599,-1.8206417027981763,0.4919314503964313,1.0367104751357175,-0.5070167039378888,0.4444149359221097,0.5942474438048201,-2.4036581156786467,-0.738923209691997,0.2483313091113896,-1.5896989324533435,-0.1767444417931268,1.2918585657024686,0.15436931061292777,-0.020693967852573433,-1.2953814780999942,-0.33164381746601795,-1.98419870685544,-0.0977188523628509,-1.3414203013691797,0.19001993628446323,-1.144617917384704,0.6281985093673482,0.31282287792073715,-0.4335108153748616,0.08996165145511464,-0.4049630640050919,-1.3655766758769943,0.003863089142866324,1.9544805266971712,1.4025801247991099,1.5133080358291704,-1.081597061248639,0.08033346985791334,-0.8574779036981085,-0.5578342097981503,-1.0823858458747249],\"yaxis\":\"y7\",\"type\":\"scatter\"},{\"line\":{\"color\":\"rgba(128, 128, 128, 1.0)\",\"dash\":\"solid\",\"shape\":\"linear\",\"width\":1.3},\"marker\":{\"size\":2,\"symbol\":\"circle\"},\"mode\":\"markers\",\"name\":\"B\",\"text\":\"\",\"x\":[2.217554665916425,-0.3014961031768279,2.435613600465756,-0.06903105312093644,0.16049249793884535,1.4180398930616278,-1.8045472367929227,0.5344165086215533,-0.038520391182023606,0.12710483292774583,-1.5277430040653537,0.22427178756539254,-0.21517376571041835,-0.758117522841429,-1.3004537000575158,0.17826685003088555,0.718522576537042,0.7876952780235554,2.3523033307838763,-0.5962702308195855,-0.2646762483414622,-1.7286731027147495,0.20144956052599025,-0.3306389264626234,-0.14784632704235154,-0.9023165497848213,-0.06312222293826868,-1.2010271790483693,-1.9125973030504928,1.5885566934691924,-0.6642189929482608,0.6000240020953647,-0.3718083932801579,-0.6700096446351057,0.2055605709273506,0.2891834045390556,-1.711456813282301,-1.0214000207882854,1.6979855994520434,-1.3947132230373687,1.307883451250784,-1.491701901333726,0.13667598515428284,1.1310987850031646,-0.09813756580182041,1.9215470008664755,0.140313366614571,1.0736218915148381,0.5858877597877262,-0.7432428932391569,-0.5801471262696313,-0.20659453054893556,-1.3007532899368388,-0.4310556377252584,0.42996028376510664,1.4016676118454796,0.2430069221168277,1.8472401608197366,1.498304566986409,-1.564287463136836,0.8385975805558931,-0.9101908408064494,-2.10492909587321,-0.3000342633285618,-1.2281908664666685,-0.5331990116419886,0.8903214581542908,-0.4740851170792387,0.4602731894140559,0.6424987013369353,1.4922047734978898,-1.0071965838846078,-1.3468250534062194,1.904043391134527,-1.6025200334480592,0.6224344759858497,2.2407335848252705,-2.3954468647618827,1.6870230499417707,-1.522119674669922,-0.8382111099336146,-1.5559050420334775,-0.3735782088074512,-0.6327142199121746,-1.5038494966680584,-0.0056455502949022485,0.7397157749883283,-1.5827676952799536,0.8850699955786837,-2.2070942654407713,-0.7088402650691995,-0.03173691299840874,0.2622837161008249,0.014908102376371864,1.7300091561481785,0.5704309048437817,0.15017321197562175,-1.2226023877510208,-0.3799244752357741,-0.6819290793598226],\"xaxis\":\"x8\",\"y\":[-0.5617375702420864,-1.2105280209767268,0.8561250259063421,-0.7107503858881543,1.9101987417784274,0.5789968113218955,-0.9591681047529027,0.5395359124881931,1.3193862626751078,0.6680228938498383,-0.7341726211864084,-0.6118985446054702,-1.2141500234277,1.5911478517284632,-0.5261168186658791,0.8457278666030731,-1.0083412765657886,2.032738956061042,0.1463571733779813,0.5177816732261287,-0.769212161890698,-1.069099261508924,0.6217522583946871,-0.7685130295505281,0.9544080795307096,-0.09436162464620383,0.5375121175183534,0.6747308503837377,-0.5610675516558478,0.94214409035032,0.6064445545372859,0.07104417008322735,0.1330925122609887,0.6136925994677905,0.0035230303615803584,-0.34532692952094346,0.13237764586606712,-0.9646644055964682,0.130714844563745,0.10519423612640431,0.8547224198592885,1.4829075328199424,-0.9952118382098827,-0.6046778657833812,-0.0130276454638649,1.087828140993123,0.2085807423899216,0.74207524333408,-0.7939304210976657,0.882859631977347,0.21805155116360347,0.8191732685075461,-0.33300967724353003,-0.5919052919299606,-1.7071195729782942,-1.1895653090495355,0.6390977779302962,1.295456870258728,1.0432603943938363,1.5067829763146572,0.9566913863674601,1.310266945124139,-1.93090349772417,0.5108049211688599,-1.8206417027981763,0.4919314503964313,1.0367104751357175,-0.5070167039378888,0.4444149359221097,0.5942474438048201,-2.4036581156786467,-0.738923209691997,0.2483313091113896,-1.5896989324533435,-0.1767444417931268,1.2918585657024686,0.15436931061292777,-0.020693967852573433,-1.2953814780999942,-0.33164381746601795,-1.98419870685544,-0.0977188523628509,-1.3414203013691797,0.19001993628446323,-1.144617917384704,0.6281985093673482,0.31282287792073715,-0.4335108153748616,0.08996165145511464,-0.4049630640050919,-1.3655766758769943,0.003863089142866324,1.9544805266971712,1.4025801247991099,1.5133080358291704,-1.081597061248639,0.08033346985791334,-0.8574779036981085,-0.5578342097981503,-1.0823858458747249],\"yaxis\":\"y8\",\"type\":\"scatter\"},{\"line\":{\"color\":\"rgba(128, 128, 128, 1.0)\",\"dash\":\"solid\",\"shape\":\"linear\",\"width\":1.3},\"marker\":{\"size\":2,\"symbol\":\"circle\"},\"mode\":\"markers\",\"name\":\"C\",\"text\":\"\",\"x\":[0.0178114694854835,0.6503752891210457,1.4746556294415147,-0.002867505410992792,-0.7757917649856074,0.7662726192537015,1.0664749327062275,-0.11692736502946699,0.3306590500365512,-0.6039709270655202,2.3235131537725375,-1.581925335224607,0.015324694821562445,0.7668724051627919,0.5449217852329432,-1.5393392248297437,0.8826309337533468,-0.42177731108365596,0.6252953354329761,0.9475458834299388,0.16638344745317185,0.5872486334340409,0.7331878127127393,-0.8712133576574608,0.02218394918355038,-0.6013339495862363,-1.756229955636603,-1.9819893580331447,1.3825585253185222,0.18483164136281052,-1.2679341148034344,0.9949380071155695,-1.1476115696647307,-0.6479204186113192,-0.3789275877400645,0.2493338620032875,1.4201510261872716,-1.0503815196700217,1.0554704075679069,-1.0293234615296152,-1.0822796524356448,0.7684855357339191,2.5192161436818195,-1.9117744538897679,1.5931709732081492,0.5205078111864689,-0.9035063004328567,-0.039536779019681174,0.013421263122439244,-1.354389863999936,0.20741889935212338,-2.12861161880051,-0.5361385106295921,0.38466904193579843,0.5746526914220886,-0.870127691386053,-0.00021741926349469498,1.3073415839337295,-0.3230346369356965,-1.4318585137200077,0.742678531238043,-0.08997843766330833,-0.9296646722359696,-0.07779540095102579,-0.46929144505777076,0.008368761820374822,-0.613299214024739,1.1584825020371716,-0.47277585985662945,0.03805037863533173,-1.127629142630456,1.1062032945972584,1.338797608931247,-0.3109914547842166,0.21070722316844118,-0.15525145173830632,-0.9436284343977237,0.8405189744616796,0.7194053183545105,-0.5898131143539371,0.11078070545200325,-0.9101033501429266,-0.2760212578221692,-0.06121843562570686,0.22082764961571158,-0.8087040146874948,-0.24795260940063577,-0.18500473992804137,-1.1261930084640464,0.25926065036018053,1.0626956597526414,-0.29189730205400105,1.4649070470221661,0.15330410358902066,-0.9135301588123295,-1.5586000323884628,0.7016050667461048,-0.3143015581881234,-0.41706765214680636,-0.3921961494111043],\"xaxis\":\"x9\",\"y\":[-0.22988724567685068,0.17211208293326638,-0.891866874750063,-1.4208268256596377,-1.5096491399989973,1.1047438368262026,-0.6213705058759526,0.23971762053336035,-0.42150105154750994,0.1882318030835403,1.2575508166587719,-0.2242558811223914,0.24739831047320376,-0.07660113555994527,-0.27767955287392726,0.582957367085622,-0.7630131125241152,-0.498854865462507,-0.2372975468039774,1.0293829524030838,0.2665421039152957,-0.7283486827820418,-0.4324384878981543,1.0865630794601617,0.7064189848921297,0.4900608058256672,0.29723156415423607,1.510895455774434,0.5718871794669691,0.8761321844277847,-0.40417579185597763,-0.3798921640839629,0.5522284039676492,0.686974485202635,-1.4127325618659128,1.3066560665482645,-0.009758700388875594,0.5552146054805828,0.21566804645670642,-0.39240933951428913,-0.8879505183629269,-1.192214810338215,-0.06777557439608581,-0.5171084617987218,-0.15087274443869356,0.13587754591411752,-0.9622912222444939,0.638186730745737,-0.5129861508700331,1.645816480310981,-1.0140986777422094,-2.236568069692717,0.1250521384092541,2.4824183877463204,0.5804193849674129,-0.49519575868165633,1.404292027644616,-0.5740444848836095,-1.9195774568110873,-0.531383677376116,-0.7574628978397108,-0.2611686074531827,0.21325247853887236,-0.5688195514278918,1.407855318324713,-0.26715323393690205,0.0768479951656562,-0.7160073257075226,-1.005085258333275,2.8195460489570543,-1.382176070380219,1.4951735061880786,-0.05108020834368662,0.5883706860719372,-0.15897927556667274,-0.4189142343829021,-0.023430592051969238,-0.8559145291990594,1.3343773242424868,-1.7351043094162564,-1.0775923821463007,-0.7637373361069689,0.40966995116429694,0.9233843911474657,2.5424858652010394,0.1698631879030505,1.1314177046313625,0.18121743533844004,-0.6767345339135239,-0.6119872089364478,1.7661491752308893,1.0041798114796423,0.42240183560358363,-0.06640433508646586,-0.028537720723805997,-1.8786857981031913,0.4291889448384859,0.2521237637603228,-1.3953715323858975,0.40252028051630123],\"yaxis\":\"y9\",\"type\":\"scatter\"},{\"line\":{\"color\":\"rgba(128, 128, 128, 1.0)\",\"dash\":\"solid\",\"shape\":\"linear\",\"width\":1.3},\"marker\":{\"size\":2,\"symbol\":\"circle\"},\"mode\":\"markers\",\"name\":\"C\",\"text\":\"\",\"x\":[-0.5617375702420864,-1.2105280209767268,0.8561250259063421,-0.7107503858881543,1.9101987417784274,0.5789968113218955,-0.9591681047529027,0.5395359124881931,1.3193862626751078,0.6680228938498383,-0.7341726211864084,-0.6118985446054702,-1.2141500234277,1.5911478517284632,-0.5261168186658791,0.8457278666030731,-1.0083412765657886,2.032738956061042,0.1463571733779813,0.5177816732261287,-0.769212161890698,-1.069099261508924,0.6217522583946871,-0.7685130295505281,0.9544080795307096,-0.09436162464620383,0.5375121175183534,0.6747308503837377,-0.5610675516558478,0.94214409035032,0.6064445545372859,0.07104417008322735,0.1330925122609887,0.6136925994677905,0.0035230303615803584,-0.34532692952094346,0.13237764586606712,-0.9646644055964682,0.130714844563745,0.10519423612640431,0.8547224198592885,1.4829075328199424,-0.9952118382098827,-0.6046778657833812,-0.0130276454638649,1.087828140993123,0.2085807423899216,0.74207524333408,-0.7939304210976657,0.882859631977347,0.21805155116360347,0.8191732685075461,-0.33300967724353003,-0.5919052919299606,-1.7071195729782942,-1.1895653090495355,0.6390977779302962,1.295456870258728,1.0432603943938363,1.5067829763146572,0.9566913863674601,1.310266945124139,-1.93090349772417,0.5108049211688599,-1.8206417027981763,0.4919314503964313,1.0367104751357175,-0.5070167039378888,0.4444149359221097,0.5942474438048201,-2.4036581156786467,-0.738923209691997,0.2483313091113896,-1.5896989324533435,-0.1767444417931268,1.2918585657024686,0.15436931061292777,-0.020693967852573433,-1.2953814780999942,-0.33164381746601795,-1.98419870685544,-0.0977188523628509,-1.3414203013691797,0.19001993628446323,-1.144617917384704,0.6281985093673482,0.31282287792073715,-0.4335108153748616,0.08996165145511464,-0.4049630640050919,-1.3655766758769943,0.003863089142866324,1.9544805266971712,1.4025801247991099,1.5133080358291704,-1.081597061248639,0.08033346985791334,-0.8574779036981085,-0.5578342097981503,-1.0823858458747249],\"xaxis\":\"x10\",\"y\":[-0.22988724567685068,0.17211208293326638,-0.891866874750063,-1.4208268256596377,-1.5096491399989973,1.1047438368262026,-0.6213705058759526,0.23971762053336035,-0.42150105154750994,0.1882318030835403,1.2575508166587719,-0.2242558811223914,0.24739831047320376,-0.07660113555994527,-0.27767955287392726,0.582957367085622,-0.7630131125241152,-0.498854865462507,-0.2372975468039774,1.0293829524030838,0.2665421039152957,-0.7283486827820418,-0.4324384878981543,1.0865630794601617,0.7064189848921297,0.4900608058256672,0.29723156415423607,1.510895455774434,0.5718871794669691,0.8761321844277847,-0.40417579185597763,-0.3798921640839629,0.5522284039676492,0.686974485202635,-1.4127325618659128,1.3066560665482645,-0.009758700388875594,0.5552146054805828,0.21566804645670642,-0.39240933951428913,-0.8879505183629269,-1.192214810338215,-0.06777557439608581,-0.5171084617987218,-0.15087274443869356,0.13587754591411752,-0.9622912222444939,0.638186730745737,-0.5129861508700331,1.645816480310981,-1.0140986777422094,-2.236568069692717,0.1250521384092541,2.4824183877463204,0.5804193849674129,-0.49519575868165633,1.404292027644616,-0.5740444848836095,-1.9195774568110873,-0.531383677376116,-0.7574628978397108,-0.2611686074531827,0.21325247853887236,-0.5688195514278918,1.407855318324713,-0.26715323393690205,0.0768479951656562,-0.7160073257075226,-1.005085258333275,2.8195460489570543,-1.382176070380219,1.4951735061880786,-0.05108020834368662,0.5883706860719372,-0.15897927556667274,-0.4189142343829021,-0.023430592051969238,-0.8559145291990594,1.3343773242424868,-1.7351043094162564,-1.0775923821463007,-0.7637373361069689,0.40966995116429694,0.9233843911474657,2.5424858652010394,0.1698631879030505,1.1314177046313625,0.18121743533844004,-0.6767345339135239,-0.6119872089364478,1.7661491752308893,1.0041798114796423,0.42240183560358363,-0.06640433508646586,-0.028537720723805997,-1.8786857981031913,0.4291889448384859,0.2521237637603228,-1.3953715323858975,0.40252028051630123],\"yaxis\":\"y10\",\"type\":\"scatter\"},{\"histfunc\":\"count\",\"histnorm\":\"\",\"marker\":{\"color\":\"rgba(50, 171, 96, 1.0)\",\"line\":{\"color\":\"#4D5663\",\"width\":1.3}},\"name\":\"C\",\"nbinsx\":10,\"opacity\":0.8,\"orientation\":\"v\",\"x\":[-0.22988724567685068,0.17211208293326638,-0.891866874750063,-1.4208268256596377,-1.5096491399989973,1.1047438368262026,-0.6213705058759526,0.23971762053336035,-0.42150105154750994,0.1882318030835403,1.2575508166587719,-0.2242558811223914,0.24739831047320376,-0.07660113555994527,-0.27767955287392726,0.582957367085622,-0.7630131125241152,-0.498854865462507,-0.2372975468039774,1.0293829524030838,0.2665421039152957,-0.7283486827820418,-0.4324384878981543,1.0865630794601617,0.7064189848921297,0.4900608058256672,0.29723156415423607,1.510895455774434,0.5718871794669691,0.8761321844277847,-0.40417579185597763,-0.3798921640839629,0.5522284039676492,0.686974485202635,-1.4127325618659128,1.3066560665482645,-0.009758700388875594,0.5552146054805828,0.21566804645670642,-0.39240933951428913,-0.8879505183629269,-1.192214810338215,-0.06777557439608581,-0.5171084617987218,-0.15087274443869356,0.13587754591411752,-0.9622912222444939,0.638186730745737,-0.5129861508700331,1.645816480310981,-1.0140986777422094,-2.236568069692717,0.1250521384092541,2.4824183877463204,0.5804193849674129,-0.49519575868165633,1.404292027644616,-0.5740444848836095,-1.9195774568110873,-0.531383677376116,-0.7574628978397108,-0.2611686074531827,0.21325247853887236,-0.5688195514278918,1.407855318324713,-0.26715323393690205,0.0768479951656562,-0.7160073257075226,-1.005085258333275,2.8195460489570543,-1.382176070380219,1.4951735061880786,-0.05108020834368662,0.5883706860719372,-0.15897927556667274,-0.4189142343829021,-0.023430592051969238,-0.8559145291990594,1.3343773242424868,-1.7351043094162564,-1.0775923821463007,-0.7637373361069689,0.40966995116429694,0.9233843911474657,2.5424858652010394,0.1698631879030505,1.1314177046313625,0.18121743533844004,-0.6767345339135239,-0.6119872089364478,1.7661491752308893,1.0041798114796423,0.42240183560358363,-0.06640433508646586,-0.028537720723805997,-1.8786857981031913,0.4291889448384859,0.2521237637603228,-1.3953715323858975,0.40252028051630123],\"xaxis\":\"x11\",\"yaxis\":\"y11\",\"type\":\"histogram\"},{\"line\":{\"color\":\"rgba(128, 128, 128, 1.0)\",\"dash\":\"solid\",\"shape\":\"linear\",\"width\":1.3},\"marker\":{\"size\":2,\"symbol\":\"circle\"},\"mode\":\"markers\",\"name\":\"C\",\"text\":\"\",\"x\":[2.217554665916425,-0.3014961031768279,2.435613600465756,-0.06903105312093644,0.16049249793884535,1.4180398930616278,-1.8045472367929227,0.5344165086215533,-0.038520391182023606,0.12710483292774583,-1.5277430040653537,0.22427178756539254,-0.21517376571041835,-0.758117522841429,-1.3004537000575158,0.17826685003088555,0.718522576537042,0.7876952780235554,2.3523033307838763,-0.5962702308195855,-0.2646762483414622,-1.7286731027147495,0.20144956052599025,-0.3306389264626234,-0.14784632704235154,-0.9023165497848213,-0.06312222293826868,-1.2010271790483693,-1.9125973030504928,1.5885566934691924,-0.6642189929482608,0.6000240020953647,-0.3718083932801579,-0.6700096446351057,0.2055605709273506,0.2891834045390556,-1.711456813282301,-1.0214000207882854,1.6979855994520434,-1.3947132230373687,1.307883451250784,-1.491701901333726,0.13667598515428284,1.1310987850031646,-0.09813756580182041,1.9215470008664755,0.140313366614571,1.0736218915148381,0.5858877597877262,-0.7432428932391569,-0.5801471262696313,-0.20659453054893556,-1.3007532899368388,-0.4310556377252584,0.42996028376510664,1.4016676118454796,0.2430069221168277,1.8472401608197366,1.498304566986409,-1.564287463136836,0.8385975805558931,-0.9101908408064494,-2.10492909587321,-0.3000342633285618,-1.2281908664666685,-0.5331990116419886,0.8903214581542908,-0.4740851170792387,0.4602731894140559,0.6424987013369353,1.4922047734978898,-1.0071965838846078,-1.3468250534062194,1.904043391134527,-1.6025200334480592,0.6224344759858497,2.2407335848252705,-2.3954468647618827,1.6870230499417707,-1.522119674669922,-0.8382111099336146,-1.5559050420334775,-0.3735782088074512,-0.6327142199121746,-1.5038494966680584,-0.0056455502949022485,0.7397157749883283,-1.5827676952799536,0.8850699955786837,-2.2070942654407713,-0.7088402650691995,-0.03173691299840874,0.2622837161008249,0.014908102376371864,1.7300091561481785,0.5704309048437817,0.15017321197562175,-1.2226023877510208,-0.3799244752357741,-0.6819290793598226],\"xaxis\":\"x12\",\"y\":[-0.22988724567685068,0.17211208293326638,-0.891866874750063,-1.4208268256596377,-1.5096491399989973,1.1047438368262026,-0.6213705058759526,0.23971762053336035,-0.42150105154750994,0.1882318030835403,1.2575508166587719,-0.2242558811223914,0.24739831047320376,-0.07660113555994527,-0.27767955287392726,0.582957367085622,-0.7630131125241152,-0.498854865462507,-0.2372975468039774,1.0293829524030838,0.2665421039152957,-0.7283486827820418,-0.4324384878981543,1.0865630794601617,0.7064189848921297,0.4900608058256672,0.29723156415423607,1.510895455774434,0.5718871794669691,0.8761321844277847,-0.40417579185597763,-0.3798921640839629,0.5522284039676492,0.686974485202635,-1.4127325618659128,1.3066560665482645,-0.009758700388875594,0.5552146054805828,0.21566804645670642,-0.39240933951428913,-0.8879505183629269,-1.192214810338215,-0.06777557439608581,-0.5171084617987218,-0.15087274443869356,0.13587754591411752,-0.9622912222444939,0.638186730745737,-0.5129861508700331,1.645816480310981,-1.0140986777422094,-2.236568069692717,0.1250521384092541,2.4824183877463204,0.5804193849674129,-0.49519575868165633,1.404292027644616,-0.5740444848836095,-1.9195774568110873,-0.531383677376116,-0.7574628978397108,-0.2611686074531827,0.21325247853887236,-0.5688195514278918,1.407855318324713,-0.26715323393690205,0.0768479951656562,-0.7160073257075226,-1.005085258333275,2.8195460489570543,-1.382176070380219,1.4951735061880786,-0.05108020834368662,0.5883706860719372,-0.15897927556667274,-0.4189142343829021,-0.023430592051969238,-0.8559145291990594,1.3343773242424868,-1.7351043094162564,-1.0775923821463007,-0.7637373361069689,0.40966995116429694,0.9233843911474657,2.5424858652010394,0.1698631879030505,1.1314177046313625,0.18121743533844004,-0.6767345339135239,-0.6119872089364478,1.7661491752308893,1.0041798114796423,0.42240183560358363,-0.06640433508646586,-0.028537720723805997,-1.8786857981031913,0.4291889448384859,0.2521237637603228,-1.3953715323858975,0.40252028051630123],\"yaxis\":\"y12\",\"type\":\"scatter\"},{\"line\":{\"color\":\"rgba(128, 128, 128, 1.0)\",\"dash\":\"solid\",\"shape\":\"linear\",\"width\":1.3},\"marker\":{\"size\":2,\"symbol\":\"circle\"},\"mode\":\"markers\",\"name\":\"D\",\"text\":\"\",\"x\":[0.0178114694854835,0.6503752891210457,1.4746556294415147,-0.002867505410992792,-0.7757917649856074,0.7662726192537015,1.0664749327062275,-0.11692736502946699,0.3306590500365512,-0.6039709270655202,2.3235131537725375,-1.581925335224607,0.015324694821562445,0.7668724051627919,0.5449217852329432,-1.5393392248297437,0.8826309337533468,-0.42177731108365596,0.6252953354329761,0.9475458834299388,0.16638344745317185,0.5872486334340409,0.7331878127127393,-0.8712133576574608,0.02218394918355038,-0.6013339495862363,-1.756229955636603,-1.9819893580331447,1.3825585253185222,0.18483164136281052,-1.2679341148034344,0.9949380071155695,-1.1476115696647307,-0.6479204186113192,-0.3789275877400645,0.2493338620032875,1.4201510261872716,-1.0503815196700217,1.0554704075679069,-1.0293234615296152,-1.0822796524356448,0.7684855357339191,2.5192161436818195,-1.9117744538897679,1.5931709732081492,0.5205078111864689,-0.9035063004328567,-0.039536779019681174,0.013421263122439244,-1.354389863999936,0.20741889935212338,-2.12861161880051,-0.5361385106295921,0.38466904193579843,0.5746526914220886,-0.870127691386053,-0.00021741926349469498,1.3073415839337295,-0.3230346369356965,-1.4318585137200077,0.742678531238043,-0.08997843766330833,-0.9296646722359696,-0.07779540095102579,-0.46929144505777076,0.008368761820374822,-0.613299214024739,1.1584825020371716,-0.47277585985662945,0.03805037863533173,-1.127629142630456,1.1062032945972584,1.338797608931247,-0.3109914547842166,0.21070722316844118,-0.15525145173830632,-0.9436284343977237,0.8405189744616796,0.7194053183545105,-0.5898131143539371,0.11078070545200325,-0.9101033501429266,-0.2760212578221692,-0.06121843562570686,0.22082764961571158,-0.8087040146874948,-0.24795260940063577,-0.18500473992804137,-1.1261930084640464,0.25926065036018053,1.0626956597526414,-0.29189730205400105,1.4649070470221661,0.15330410358902066,-0.9135301588123295,-1.5586000323884628,0.7016050667461048,-0.3143015581881234,-0.41706765214680636,-0.3921961494111043],\"xaxis\":\"x13\",\"y\":[2.217554665916425,-0.3014961031768279,2.435613600465756,-0.06903105312093644,0.16049249793884535,1.4180398930616278,-1.8045472367929227,0.5344165086215533,-0.038520391182023606,0.12710483292774583,-1.5277430040653537,0.22427178756539254,-0.21517376571041835,-0.758117522841429,-1.3004537000575158,0.17826685003088555,0.718522576537042,0.7876952780235554,2.3523033307838763,-0.5962702308195855,-0.2646762483414622,-1.7286731027147495,0.20144956052599025,-0.3306389264626234,-0.14784632704235154,-0.9023165497848213,-0.06312222293826868,-1.2010271790483693,-1.9125973030504928,1.5885566934691924,-0.6642189929482608,0.6000240020953647,-0.3718083932801579,-0.6700096446351057,0.2055605709273506,0.2891834045390556,-1.711456813282301,-1.0214000207882854,1.6979855994520434,-1.3947132230373687,1.307883451250784,-1.491701901333726,0.13667598515428284,1.1310987850031646,-0.09813756580182041,1.9215470008664755,0.140313366614571,1.0736218915148381,0.5858877597877262,-0.7432428932391569,-0.5801471262696313,-0.20659453054893556,-1.3007532899368388,-0.4310556377252584,0.42996028376510664,1.4016676118454796,0.2430069221168277,1.8472401608197366,1.498304566986409,-1.564287463136836,0.8385975805558931,-0.9101908408064494,-2.10492909587321,-0.3000342633285618,-1.2281908664666685,-0.5331990116419886,0.8903214581542908,-0.4740851170792387,0.4602731894140559,0.6424987013369353,1.4922047734978898,-1.0071965838846078,-1.3468250534062194,1.904043391134527,-1.6025200334480592,0.6224344759858497,2.2407335848252705,-2.3954468647618827,1.6870230499417707,-1.522119674669922,-0.8382111099336146,-1.5559050420334775,-0.3735782088074512,-0.6327142199121746,-1.5038494966680584,-0.0056455502949022485,0.7397157749883283,-1.5827676952799536,0.8850699955786837,-2.2070942654407713,-0.7088402650691995,-0.03173691299840874,0.2622837161008249,0.014908102376371864,1.7300091561481785,0.5704309048437817,0.15017321197562175,-1.2226023877510208,-0.3799244752357741,-0.6819290793598226],\"yaxis\":\"y13\",\"type\":\"scatter\"},{\"line\":{\"color\":\"rgba(128, 128, 128, 1.0)\",\"dash\":\"solid\",\"shape\":\"linear\",\"width\":1.3},\"marker\":{\"size\":2,\"symbol\":\"circle\"},\"mode\":\"markers\",\"name\":\"D\",\"text\":\"\",\"x\":[-0.5617375702420864,-1.2105280209767268,0.8561250259063421,-0.7107503858881543,1.9101987417784274,0.5789968113218955,-0.9591681047529027,0.5395359124881931,1.3193862626751078,0.6680228938498383,-0.7341726211864084,-0.6118985446054702,-1.2141500234277,1.5911478517284632,-0.5261168186658791,0.8457278666030731,-1.0083412765657886,2.032738956061042,0.1463571733779813,0.5177816732261287,-0.769212161890698,-1.069099261508924,0.6217522583946871,-0.7685130295505281,0.9544080795307096,-0.09436162464620383,0.5375121175183534,0.6747308503837377,-0.5610675516558478,0.94214409035032,0.6064445545372859,0.07104417008322735,0.1330925122609887,0.6136925994677905,0.0035230303615803584,-0.34532692952094346,0.13237764586606712,-0.9646644055964682,0.130714844563745,0.10519423612640431,0.8547224198592885,1.4829075328199424,-0.9952118382098827,-0.6046778657833812,-0.0130276454638649,1.087828140993123,0.2085807423899216,0.74207524333408,-0.7939304210976657,0.882859631977347,0.21805155116360347,0.8191732685075461,-0.33300967724353003,-0.5919052919299606,-1.7071195729782942,-1.1895653090495355,0.6390977779302962,1.295456870258728,1.0432603943938363,1.5067829763146572,0.9566913863674601,1.310266945124139,-1.93090349772417,0.5108049211688599,-1.8206417027981763,0.4919314503964313,1.0367104751357175,-0.5070167039378888,0.4444149359221097,0.5942474438048201,-2.4036581156786467,-0.738923209691997,0.2483313091113896,-1.5896989324533435,-0.1767444417931268,1.2918585657024686,0.15436931061292777,-0.020693967852573433,-1.2953814780999942,-0.33164381746601795,-1.98419870685544,-0.0977188523628509,-1.3414203013691797,0.19001993628446323,-1.144617917384704,0.6281985093673482,0.31282287792073715,-0.4335108153748616,0.08996165145511464,-0.4049630640050919,-1.3655766758769943,0.003863089142866324,1.9544805266971712,1.4025801247991099,1.5133080358291704,-1.081597061248639,0.08033346985791334,-0.8574779036981085,-0.5578342097981503,-1.0823858458747249],\"xaxis\":\"x14\",\"y\":[2.217554665916425,-0.3014961031768279,2.435613600465756,-0.06903105312093644,0.16049249793884535,1.4180398930616278,-1.8045472367929227,0.5344165086215533,-0.038520391182023606,0.12710483292774583,-1.5277430040653537,0.22427178756539254,-0.21517376571041835,-0.758117522841429,-1.3004537000575158,0.17826685003088555,0.718522576537042,0.7876952780235554,2.3523033307838763,-0.5962702308195855,-0.2646762483414622,-1.7286731027147495,0.20144956052599025,-0.3306389264626234,-0.14784632704235154,-0.9023165497848213,-0.06312222293826868,-1.2010271790483693,-1.9125973030504928,1.5885566934691924,-0.6642189929482608,0.6000240020953647,-0.3718083932801579,-0.6700096446351057,0.2055605709273506,0.2891834045390556,-1.711456813282301,-1.0214000207882854,1.6979855994520434,-1.3947132230373687,1.307883451250784,-1.491701901333726,0.13667598515428284,1.1310987850031646,-0.09813756580182041,1.9215470008664755,0.140313366614571,1.0736218915148381,0.5858877597877262,-0.7432428932391569,-0.5801471262696313,-0.20659453054893556,-1.3007532899368388,-0.4310556377252584,0.42996028376510664,1.4016676118454796,0.2430069221168277,1.8472401608197366,1.498304566986409,-1.564287463136836,0.8385975805558931,-0.9101908408064494,-2.10492909587321,-0.3000342633285618,-1.2281908664666685,-0.5331990116419886,0.8903214581542908,-0.4740851170792387,0.4602731894140559,0.6424987013369353,1.4922047734978898,-1.0071965838846078,-1.3468250534062194,1.904043391134527,-1.6025200334480592,0.6224344759858497,2.2407335848252705,-2.3954468647618827,1.6870230499417707,-1.522119674669922,-0.8382111099336146,-1.5559050420334775,-0.3735782088074512,-0.6327142199121746,-1.5038494966680584,-0.0056455502949022485,0.7397157749883283,-1.5827676952799536,0.8850699955786837,-2.2070942654407713,-0.7088402650691995,-0.03173691299840874,0.2622837161008249,0.014908102376371864,1.7300091561481785,0.5704309048437817,0.15017321197562175,-1.2226023877510208,-0.3799244752357741,-0.6819290793598226],\"yaxis\":\"y14\",\"type\":\"scatter\"},{\"line\":{\"color\":\"rgba(128, 128, 128, 1.0)\",\"dash\":\"solid\",\"shape\":\"linear\",\"width\":1.3},\"marker\":{\"size\":2,\"symbol\":\"circle\"},\"mode\":\"markers\",\"name\":\"D\",\"text\":\"\",\"x\":[-0.22988724567685068,0.17211208293326638,-0.891866874750063,-1.4208268256596377,-1.5096491399989973,1.1047438368262026,-0.6213705058759526,0.23971762053336035,-0.42150105154750994,0.1882318030835403,1.2575508166587719,-0.2242558811223914,0.24739831047320376,-0.07660113555994527,-0.27767955287392726,0.582957367085622,-0.7630131125241152,-0.498854865462507,-0.2372975468039774,1.0293829524030838,0.2665421039152957,-0.7283486827820418,-0.4324384878981543,1.0865630794601617,0.7064189848921297,0.4900608058256672,0.29723156415423607,1.510895455774434,0.5718871794669691,0.8761321844277847,-0.40417579185597763,-0.3798921640839629,0.5522284039676492,0.686974485202635,-1.4127325618659128,1.3066560665482645,-0.009758700388875594,0.5552146054805828,0.21566804645670642,-0.39240933951428913,-0.8879505183629269,-1.192214810338215,-0.06777557439608581,-0.5171084617987218,-0.15087274443869356,0.13587754591411752,-0.9622912222444939,0.638186730745737,-0.5129861508700331,1.645816480310981,-1.0140986777422094,-2.236568069692717,0.1250521384092541,2.4824183877463204,0.5804193849674129,-0.49519575868165633,1.404292027644616,-0.5740444848836095,-1.9195774568110873,-0.531383677376116,-0.7574628978397108,-0.2611686074531827,0.21325247853887236,-0.5688195514278918,1.407855318324713,-0.26715323393690205,0.0768479951656562,-0.7160073257075226,-1.005085258333275,2.8195460489570543,-1.382176070380219,1.4951735061880786,-0.05108020834368662,0.5883706860719372,-0.15897927556667274,-0.4189142343829021,-0.023430592051969238,-0.8559145291990594,1.3343773242424868,-1.7351043094162564,-1.0775923821463007,-0.7637373361069689,0.40966995116429694,0.9233843911474657,2.5424858652010394,0.1698631879030505,1.1314177046313625,0.18121743533844004,-0.6767345339135239,-0.6119872089364478,1.7661491752308893,1.0041798114796423,0.42240183560358363,-0.06640433508646586,-0.028537720723805997,-1.8786857981031913,0.4291889448384859,0.2521237637603228,-1.3953715323858975,0.40252028051630123],\"xaxis\":\"x15\",\"y\":[2.217554665916425,-0.3014961031768279,2.435613600465756,-0.06903105312093644,0.16049249793884535,1.4180398930616278,-1.8045472367929227,0.5344165086215533,-0.038520391182023606,0.12710483292774583,-1.5277430040653537,0.22427178756539254,-0.21517376571041835,-0.758117522841429,-1.3004537000575158,0.17826685003088555,0.718522576537042,0.7876952780235554,2.3523033307838763,-0.5962702308195855,-0.2646762483414622,-1.7286731027147495,0.20144956052599025,-0.3306389264626234,-0.14784632704235154,-0.9023165497848213,-0.06312222293826868,-1.2010271790483693,-1.9125973030504928,1.5885566934691924,-0.6642189929482608,0.6000240020953647,-0.3718083932801579,-0.6700096446351057,0.2055605709273506,0.2891834045390556,-1.711456813282301,-1.0214000207882854,1.6979855994520434,-1.3947132230373687,1.307883451250784,-1.491701901333726,0.13667598515428284,1.1310987850031646,-0.09813756580182041,1.9215470008664755,0.140313366614571,1.0736218915148381,0.5858877597877262,-0.7432428932391569,-0.5801471262696313,-0.20659453054893556,-1.3007532899368388,-0.4310556377252584,0.42996028376510664,1.4016676118454796,0.2430069221168277,1.8472401608197366,1.498304566986409,-1.564287463136836,0.8385975805558931,-0.9101908408064494,-2.10492909587321,-0.3000342633285618,-1.2281908664666685,-0.5331990116419886,0.8903214581542908,-0.4740851170792387,0.4602731894140559,0.6424987013369353,1.4922047734978898,-1.0071965838846078,-1.3468250534062194,1.904043391134527,-1.6025200334480592,0.6224344759858497,2.2407335848252705,-2.3954468647618827,1.6870230499417707,-1.522119674669922,-0.8382111099336146,-1.5559050420334775,-0.3735782088074512,-0.6327142199121746,-1.5038494966680584,-0.0056455502949022485,0.7397157749883283,-1.5827676952799536,0.8850699955786837,-2.2070942654407713,-0.7088402650691995,-0.03173691299840874,0.2622837161008249,0.014908102376371864,1.7300091561481785,0.5704309048437817,0.15017321197562175,-1.2226023877510208,-0.3799244752357741,-0.6819290793598226],\"yaxis\":\"y15\",\"type\":\"scatter\"},{\"histfunc\":\"count\",\"histnorm\":\"\",\"marker\":{\"color\":\"rgba(128, 0, 128, 1.0)\",\"line\":{\"color\":\"#4D5663\",\"width\":1.3}},\"name\":\"D\",\"nbinsx\":10,\"opacity\":0.8,\"orientation\":\"v\",\"x\":[2.217554665916425,-0.3014961031768279,2.435613600465756,-0.06903105312093644,0.16049249793884535,1.4180398930616278,-1.8045472367929227,0.5344165086215533,-0.038520391182023606,0.12710483292774583,-1.5277430040653537,0.22427178756539254,-0.21517376571041835,-0.758117522841429,-1.3004537000575158,0.17826685003088555,0.718522576537042,0.7876952780235554,2.3523033307838763,-0.5962702308195855,-0.2646762483414622,-1.7286731027147495,0.20144956052599025,-0.3306389264626234,-0.14784632704235154,-0.9023165497848213,-0.06312222293826868,-1.2010271790483693,-1.9125973030504928,1.5885566934691924,-0.6642189929482608,0.6000240020953647,-0.3718083932801579,-0.6700096446351057,0.2055605709273506,0.2891834045390556,-1.711456813282301,-1.0214000207882854,1.6979855994520434,-1.3947132230373687,1.307883451250784,-1.491701901333726,0.13667598515428284,1.1310987850031646,-0.09813756580182041,1.9215470008664755,0.140313366614571,1.0736218915148381,0.5858877597877262,-0.7432428932391569,-0.5801471262696313,-0.20659453054893556,-1.3007532899368388,-0.4310556377252584,0.42996028376510664,1.4016676118454796,0.2430069221168277,1.8472401608197366,1.498304566986409,-1.564287463136836,0.8385975805558931,-0.9101908408064494,-2.10492909587321,-0.3000342633285618,-1.2281908664666685,-0.5331990116419886,0.8903214581542908,-0.4740851170792387,0.4602731894140559,0.6424987013369353,1.4922047734978898,-1.0071965838846078,-1.3468250534062194,1.904043391134527,-1.6025200334480592,0.6224344759858497,2.2407335848252705,-2.3954468647618827,1.6870230499417707,-1.522119674669922,-0.8382111099336146,-1.5559050420334775,-0.3735782088074512,-0.6327142199121746,-1.5038494966680584,-0.0056455502949022485,0.7397157749883283,-1.5827676952799536,0.8850699955786837,-2.2070942654407713,-0.7088402650691995,-0.03173691299840874,0.2622837161008249,0.014908102376371864,1.7300091561481785,0.5704309048437817,0.15017321197562175,-1.2226023877510208,-0.3799244752357741,-0.6819290793598226],\"xaxis\":\"x16\",\"yaxis\":\"y16\",\"type\":\"histogram\"}],                        {\"bargap\":0.02,\"legend\":{\"bgcolor\":\"#F5F6F9\",\"font\":{\"color\":\"#4D5663\"}},\"paper_bgcolor\":\"#F5F6F9\",\"plot_bgcolor\":\"#F5F6F9\",\"showlegend\":false,\"template\":{\"data\":{\"barpolar\":[{\"marker\":{\"line\":{\"color\":\"#E5ECF6\",\"width\":0.5},\"pattern\":{\"fillmode\":\"overlay\",\"size\":10,\"solidity\":0.2}},\"type\":\"barpolar\"}],\"bar\":[{\"error_x\":{\"color\":\"#2a3f5f\"},\"error_y\":{\"color\":\"#2a3f5f\"},\"marker\":{\"line\":{\"color\":\"#E5ECF6\",\"width\":0.5},\"pattern\":{\"fillmode\":\"overlay\",\"size\":10,\"solidity\":0.2}},\"type\":\"bar\"}],\"carpet\":[{\"aaxis\":{\"endlinecolor\":\"#2a3f5f\",\"gridcolor\":\"white\",\"linecolor\":\"white\",\"minorgridcolor\":\"white\",\"startlinecolor\":\"#2a3f5f\"},\"baxis\":{\"endlinecolor\":\"#2a3f5f\",\"gridcolor\":\"white\",\"linecolor\":\"white\",\"minorgridcolor\":\"white\",\"startlinecolor\":\"#2a3f5f\"},\"type\":\"carpet\"}],\"choropleth\":[{\"colorbar\":{\"outlinewidth\":0,\"ticks\":\"\"},\"type\":\"choropleth\"}],\"contourcarpet\":[{\"colorbar\":{\"outlinewidth\":0,\"ticks\":\"\"},\"type\":\"contourcarpet\"}],\"contour\":[{\"colorbar\":{\"outlinewidth\":0,\"ticks\":\"\"},\"colorscale\":[[0.0,\"#0d0887\"],[0.1111111111111111,\"#46039f\"],[0.2222222222222222,\"#7201a8\"],[0.3333333333333333,\"#9c179e\"],[0.4444444444444444,\"#bd3786\"],[0.5555555555555556,\"#d8576b\"],[0.6666666666666666,\"#ed7953\"],[0.7777777777777778,\"#fb9f3a\"],[0.8888888888888888,\"#fdca26\"],[1.0,\"#f0f921\"]],\"type\":\"contour\"}],\"heatmapgl\":[{\"colorbar\":{\"outlinewidth\":0,\"ticks\":\"\"},\"colorscale\":[[0.0,\"#0d0887\"],[0.1111111111111111,\"#46039f\"],[0.2222222222222222,\"#7201a8\"],[0.3333333333333333,\"#9c179e\"],[0.4444444444444444,\"#bd3786\"],[0.5555555555555556,\"#d8576b\"],[0.6666666666666666,\"#ed7953\"],[0.7777777777777778,\"#fb9f3a\"],[0.8888888888888888,\"#fdca26\"],[1.0,\"#f0f921\"]],\"type\":\"heatmapgl\"}],\"heatmap\":[{\"colorbar\":{\"outlinewidth\":0,\"ticks\":\"\"},\"colorscale\":[[0.0,\"#0d0887\"],[0.1111111111111111,\"#46039f\"],[0.2222222222222222,\"#7201a8\"],[0.3333333333333333,\"#9c179e\"],[0.4444444444444444,\"#bd3786\"],[0.5555555555555556,\"#d8576b\"],[0.6666666666666666,\"#ed7953\"],[0.7777777777777778,\"#fb9f3a\"],[0.8888888888888888,\"#fdca26\"],[1.0,\"#f0f921\"]],\"type\":\"heatmap\"}],\"histogram2dcontour\":[{\"colorbar\":{\"outlinewidth\":0,\"ticks\":\"\"},\"colorscale\":[[0.0,\"#0d0887\"],[0.1111111111111111,\"#46039f\"],[0.2222222222222222,\"#7201a8\"],[0.3333333333333333,\"#9c179e\"],[0.4444444444444444,\"#bd3786\"],[0.5555555555555556,\"#d8576b\"],[0.6666666666666666,\"#ed7953\"],[0.7777777777777778,\"#fb9f3a\"],[0.8888888888888888,\"#fdca26\"],[1.0,\"#f0f921\"]],\"type\":\"histogram2dcontour\"}],\"histogram2d\":[{\"colorbar\":{\"outlinewidth\":0,\"ticks\":\"\"},\"colorscale\":[[0.0,\"#0d0887\"],[0.1111111111111111,\"#46039f\"],[0.2222222222222222,\"#7201a8\"],[0.3333333333333333,\"#9c179e\"],[0.4444444444444444,\"#bd3786\"],[0.5555555555555556,\"#d8576b\"],[0.6666666666666666,\"#ed7953\"],[0.7777777777777778,\"#fb9f3a\"],[0.8888888888888888,\"#fdca26\"],[1.0,\"#f0f921\"]],\"type\":\"histogram2d\"}],\"histogram\":[{\"marker\":{\"pattern\":{\"fillmode\":\"overlay\",\"size\":10,\"solidity\":0.2}},\"type\":\"histogram\"}],\"mesh3d\":[{\"colorbar\":{\"outlinewidth\":0,\"ticks\":\"\"},\"type\":\"mesh3d\"}],\"parcoords\":[{\"line\":{\"colorbar\":{\"outlinewidth\":0,\"ticks\":\"\"}},\"type\":\"parcoords\"}],\"pie\":[{\"automargin\":true,\"type\":\"pie\"}],\"scatter3d\":[{\"line\":{\"colorbar\":{\"outlinewidth\":0,\"ticks\":\"\"}},\"marker\":{\"colorbar\":{\"outlinewidth\":0,\"ticks\":\"\"}},\"type\":\"scatter3d\"}],\"scattercarpet\":[{\"marker\":{\"colorbar\":{\"outlinewidth\":0,\"ticks\":\"\"}},\"type\":\"scattercarpet\"}],\"scattergeo\":[{\"marker\":{\"colorbar\":{\"outlinewidth\":0,\"ticks\":\"\"}},\"type\":\"scattergeo\"}],\"scattergl\":[{\"marker\":{\"colorbar\":{\"outlinewidth\":0,\"ticks\":\"\"}},\"type\":\"scattergl\"}],\"scattermapbox\":[{\"marker\":{\"colorbar\":{\"outlinewidth\":0,\"ticks\":\"\"}},\"type\":\"scattermapbox\"}],\"scatterpolargl\":[{\"marker\":{\"colorbar\":{\"outlinewidth\":0,\"ticks\":\"\"}},\"type\":\"scatterpolargl\"}],\"scatterpolar\":[{\"marker\":{\"colorbar\":{\"outlinewidth\":0,\"ticks\":\"\"}},\"type\":\"scatterpolar\"}],\"scatter\":[{\"marker\":{\"colorbar\":{\"outlinewidth\":0,\"ticks\":\"\"}},\"type\":\"scatter\"}],\"scatterternary\":[{\"marker\":{\"colorbar\":{\"outlinewidth\":0,\"ticks\":\"\"}},\"type\":\"scatterternary\"}],\"surface\":[{\"colorbar\":{\"outlinewidth\":0,\"ticks\":\"\"},\"colorscale\":[[0.0,\"#0d0887\"],[0.1111111111111111,\"#46039f\"],[0.2222222222222222,\"#7201a8\"],[0.3333333333333333,\"#9c179e\"],[0.4444444444444444,\"#bd3786\"],[0.5555555555555556,\"#d8576b\"],[0.6666666666666666,\"#ed7953\"],[0.7777777777777778,\"#fb9f3a\"],[0.8888888888888888,\"#fdca26\"],[1.0,\"#f0f921\"]],\"type\":\"surface\"}],\"table\":[{\"cells\":{\"fill\":{\"color\":\"#EBF0F8\"},\"line\":{\"color\":\"white\"}},\"header\":{\"fill\":{\"color\":\"#C8D4E3\"},\"line\":{\"color\":\"white\"}},\"type\":\"table\"}]},\"layout\":{\"annotationdefaults\":{\"arrowcolor\":\"#2a3f5f\",\"arrowhead\":0,\"arrowwidth\":1},\"autotypenumbers\":\"strict\",\"coloraxis\":{\"colorbar\":{\"outlinewidth\":0,\"ticks\":\"\"}},\"colorscale\":{\"diverging\":[[0,\"#8e0152\"],[0.1,\"#c51b7d\"],[0.2,\"#de77ae\"],[0.3,\"#f1b6da\"],[0.4,\"#fde0ef\"],[0.5,\"#f7f7f7\"],[0.6,\"#e6f5d0\"],[0.7,\"#b8e186\"],[0.8,\"#7fbc41\"],[0.9,\"#4d9221\"],[1,\"#276419\"]],\"sequential\":[[0.0,\"#0d0887\"],[0.1111111111111111,\"#46039f\"],[0.2222222222222222,\"#7201a8\"],[0.3333333333333333,\"#9c179e\"],[0.4444444444444444,\"#bd3786\"],[0.5555555555555556,\"#d8576b\"],[0.6666666666666666,\"#ed7953\"],[0.7777777777777778,\"#fb9f3a\"],[0.8888888888888888,\"#fdca26\"],[1.0,\"#f0f921\"]],\"sequentialminus\":[[0.0,\"#0d0887\"],[0.1111111111111111,\"#46039f\"],[0.2222222222222222,\"#7201a8\"],[0.3333333333333333,\"#9c179e\"],[0.4444444444444444,\"#bd3786\"],[0.5555555555555556,\"#d8576b\"],[0.6666666666666666,\"#ed7953\"],[0.7777777777777778,\"#fb9f3a\"],[0.8888888888888888,\"#fdca26\"],[1.0,\"#f0f921\"]]},\"colorway\":[\"#636efa\",\"#EF553B\",\"#00cc96\",\"#ab63fa\",\"#FFA15A\",\"#19d3f3\",\"#FF6692\",\"#B6E880\",\"#FF97FF\",\"#FECB52\"],\"font\":{\"color\":\"#2a3f5f\"},\"geo\":{\"bgcolor\":\"white\",\"lakecolor\":\"white\",\"landcolor\":\"#E5ECF6\",\"showlakes\":true,\"showland\":true,\"subunitcolor\":\"white\"},\"hoverlabel\":{\"align\":\"left\"},\"hovermode\":\"closest\",\"mapbox\":{\"style\":\"light\"},\"paper_bgcolor\":\"white\",\"plot_bgcolor\":\"#E5ECF6\",\"polar\":{\"angularaxis\":{\"gridcolor\":\"white\",\"linecolor\":\"white\",\"ticks\":\"\"},\"bgcolor\":\"#E5ECF6\",\"radialaxis\":{\"gridcolor\":\"white\",\"linecolor\":\"white\",\"ticks\":\"\"}},\"scene\":{\"xaxis\":{\"backgroundcolor\":\"#E5ECF6\",\"gridcolor\":\"white\",\"gridwidth\":2,\"linecolor\":\"white\",\"showbackground\":true,\"ticks\":\"\",\"zerolinecolor\":\"white\"},\"yaxis\":{\"backgroundcolor\":\"#E5ECF6\",\"gridcolor\":\"white\",\"gridwidth\":2,\"linecolor\":\"white\",\"showbackground\":true,\"ticks\":\"\",\"zerolinecolor\":\"white\"},\"zaxis\":{\"backgroundcolor\":\"#E5ECF6\",\"gridcolor\":\"white\",\"gridwidth\":2,\"linecolor\":\"white\",\"showbackground\":true,\"ticks\":\"\",\"zerolinecolor\":\"white\"}},\"shapedefaults\":{\"line\":{\"color\":\"#2a3f5f\"}},\"ternary\":{\"aaxis\":{\"gridcolor\":\"white\",\"linecolor\":\"white\",\"ticks\":\"\"},\"baxis\":{\"gridcolor\":\"white\",\"linecolor\":\"white\",\"ticks\":\"\"},\"bgcolor\":\"#E5ECF6\",\"caxis\":{\"gridcolor\":\"white\",\"linecolor\":\"white\",\"ticks\":\"\"}},\"title\":{\"x\":0.05},\"xaxis\":{\"automargin\":true,\"gridcolor\":\"white\",\"linecolor\":\"white\",\"ticks\":\"\",\"title\":{\"standoff\":15},\"zerolinecolor\":\"white\",\"zerolinewidth\":2},\"yaxis\":{\"automargin\":true,\"gridcolor\":\"white\",\"linecolor\":\"white\",\"ticks\":\"\",\"title\":{\"standoff\":15},\"zerolinecolor\":\"white\",\"zerolinewidth\":2}}},\"title\":{\"font\":{\"color\":\"#4D5663\"}},\"xaxis\":{\"anchor\":\"y\",\"domain\":[0.0,0.2125],\"gridcolor\":\"#E1E5ED\",\"showgrid\":false,\"tickfont\":{\"color\":\"#4D5663\"},\"title\":{\"font\":{\"color\":\"#4D5663\"},\"text\":\"\"},\"zerolinecolor\":\"#E1E5ED\"},\"yaxis\":{\"anchor\":\"x\",\"domain\":[0.8025,1.0],\"gridcolor\":\"#E1E5ED\",\"showgrid\":false,\"tickfont\":{\"color\":\"#4D5663\"},\"title\":{\"font\":{\"color\":\"#4D5663\"},\"text\":\"\"},\"zerolinecolor\":\"#E1E5ED\"},\"xaxis2\":{\"anchor\":\"y2\",\"domain\":[0.2625,0.475],\"gridcolor\":\"#E1E5ED\",\"showgrid\":false,\"tickfont\":{\"color\":\"#4D5663\"},\"title\":{\"font\":{\"color\":\"#4D5663\"},\"text\":\"\"},\"zerolinecolor\":\"#E1E5ED\"},\"yaxis2\":{\"anchor\":\"x2\",\"domain\":[0.8025,1.0],\"gridcolor\":\"#E1E5ED\",\"showgrid\":false,\"tickfont\":{\"color\":\"#4D5663\"},\"title\":{\"font\":{\"color\":\"#4D5663\"},\"text\":\"\"},\"zerolinecolor\":\"#E1E5ED\"},\"xaxis3\":{\"anchor\":\"y3\",\"domain\":[0.525,0.7375],\"gridcolor\":\"#E1E5ED\",\"showgrid\":false,\"tickfont\":{\"color\":\"#4D5663\"},\"title\":{\"font\":{\"color\":\"#4D5663\"},\"text\":\"\"},\"zerolinecolor\":\"#E1E5ED\"},\"yaxis3\":{\"anchor\":\"x3\",\"domain\":[0.8025,1.0],\"gridcolor\":\"#E1E5ED\",\"showgrid\":false,\"tickfont\":{\"color\":\"#4D5663\"},\"title\":{\"font\":{\"color\":\"#4D5663\"},\"text\":\"\"},\"zerolinecolor\":\"#E1E5ED\"},\"xaxis4\":{\"anchor\":\"y4\",\"domain\":[0.7875,1.0],\"gridcolor\":\"#E1E5ED\",\"showgrid\":false,\"tickfont\":{\"color\":\"#4D5663\"},\"title\":{\"font\":{\"color\":\"#4D5663\"},\"text\":\"\"},\"zerolinecolor\":\"#E1E5ED\"},\"yaxis4\":{\"anchor\":\"x4\",\"domain\":[0.8025,1.0],\"gridcolor\":\"#E1E5ED\",\"showgrid\":false,\"tickfont\":{\"color\":\"#4D5663\"},\"title\":{\"font\":{\"color\":\"#4D5663\"},\"text\":\"\"},\"zerolinecolor\":\"#E1E5ED\"},\"xaxis5\":{\"anchor\":\"y5\",\"domain\":[0.0,0.2125],\"gridcolor\":\"#E1E5ED\",\"showgrid\":false,\"tickfont\":{\"color\":\"#4D5663\"},\"title\":{\"font\":{\"color\":\"#4D5663\"},\"text\":\"\"},\"zerolinecolor\":\"#E1E5ED\"},\"yaxis5\":{\"anchor\":\"x5\",\"domain\":[0.535,0.7325],\"gridcolor\":\"#E1E5ED\",\"showgrid\":false,\"tickfont\":{\"color\":\"#4D5663\"},\"title\":{\"font\":{\"color\":\"#4D5663\"},\"text\":\"\"},\"zerolinecolor\":\"#E1E5ED\"},\"xaxis6\":{\"anchor\":\"y6\",\"domain\":[0.2625,0.475],\"gridcolor\":\"#E1E5ED\",\"showgrid\":false,\"tickfont\":{\"color\":\"#4D5663\"},\"title\":{\"font\":{\"color\":\"#4D5663\"},\"text\":\"\"},\"zerolinecolor\":\"#E1E5ED\"},\"yaxis6\":{\"anchor\":\"x6\",\"domain\":[0.535,0.7325],\"gridcolor\":\"#E1E5ED\",\"showgrid\":false,\"tickfont\":{\"color\":\"#4D5663\"},\"title\":{\"font\":{\"color\":\"#4D5663\"},\"text\":\"\"},\"zerolinecolor\":\"#E1E5ED\"},\"xaxis7\":{\"anchor\":\"y7\",\"domain\":[0.525,0.7375],\"gridcolor\":\"#E1E5ED\",\"showgrid\":false,\"tickfont\":{\"color\":\"#4D5663\"},\"title\":{\"font\":{\"color\":\"#4D5663\"},\"text\":\"\"},\"zerolinecolor\":\"#E1E5ED\"},\"yaxis7\":{\"anchor\":\"x7\",\"domain\":[0.535,0.7325],\"gridcolor\":\"#E1E5ED\",\"showgrid\":false,\"tickfont\":{\"color\":\"#4D5663\"},\"title\":{\"font\":{\"color\":\"#4D5663\"},\"text\":\"\"},\"zerolinecolor\":\"#E1E5ED\"},\"xaxis8\":{\"anchor\":\"y8\",\"domain\":[0.7875,1.0],\"gridcolor\":\"#E1E5ED\",\"showgrid\":false,\"tickfont\":{\"color\":\"#4D5663\"},\"title\":{\"font\":{\"color\":\"#4D5663\"},\"text\":\"\"},\"zerolinecolor\":\"#E1E5ED\"},\"yaxis8\":{\"anchor\":\"x8\",\"domain\":[0.535,0.7325],\"gridcolor\":\"#E1E5ED\",\"showgrid\":false,\"tickfont\":{\"color\":\"#4D5663\"},\"title\":{\"font\":{\"color\":\"#4D5663\"},\"text\":\"\"},\"zerolinecolor\":\"#E1E5ED\"},\"xaxis9\":{\"anchor\":\"y9\",\"domain\":[0.0,0.2125],\"gridcolor\":\"#E1E5ED\",\"showgrid\":false,\"tickfont\":{\"color\":\"#4D5663\"},\"title\":{\"font\":{\"color\":\"#4D5663\"},\"text\":\"\"},\"zerolinecolor\":\"#E1E5ED\"},\"yaxis9\":{\"anchor\":\"x9\",\"domain\":[0.2675,0.465],\"gridcolor\":\"#E1E5ED\",\"showgrid\":false,\"tickfont\":{\"color\":\"#4D5663\"},\"title\":{\"font\":{\"color\":\"#4D5663\"},\"text\":\"\"},\"zerolinecolor\":\"#E1E5ED\"},\"xaxis10\":{\"anchor\":\"y10\",\"domain\":[0.2625,0.475],\"gridcolor\":\"#E1E5ED\",\"showgrid\":false,\"tickfont\":{\"color\":\"#4D5663\"},\"title\":{\"font\":{\"color\":\"#4D5663\"},\"text\":\"\"},\"zerolinecolor\":\"#E1E5ED\"},\"yaxis10\":{\"anchor\":\"x10\",\"domain\":[0.2675,0.465],\"gridcolor\":\"#E1E5ED\",\"showgrid\":false,\"tickfont\":{\"color\":\"#4D5663\"},\"title\":{\"font\":{\"color\":\"#4D5663\"},\"text\":\"\"},\"zerolinecolor\":\"#E1E5ED\"},\"xaxis11\":{\"anchor\":\"y11\",\"domain\":[0.525,0.7375],\"gridcolor\":\"#E1E5ED\",\"showgrid\":false,\"tickfont\":{\"color\":\"#4D5663\"},\"title\":{\"font\":{\"color\":\"#4D5663\"},\"text\":\"\"},\"zerolinecolor\":\"#E1E5ED\"},\"yaxis11\":{\"anchor\":\"x11\",\"domain\":[0.2675,0.465],\"gridcolor\":\"#E1E5ED\",\"showgrid\":false,\"tickfont\":{\"color\":\"#4D5663\"},\"title\":{\"font\":{\"color\":\"#4D5663\"},\"text\":\"\"},\"zerolinecolor\":\"#E1E5ED\"},\"xaxis12\":{\"anchor\":\"y12\",\"domain\":[0.7875,1.0],\"gridcolor\":\"#E1E5ED\",\"showgrid\":false,\"tickfont\":{\"color\":\"#4D5663\"},\"title\":{\"font\":{\"color\":\"#4D5663\"},\"text\":\"\"},\"zerolinecolor\":\"#E1E5ED\"},\"yaxis12\":{\"anchor\":\"x12\",\"domain\":[0.2675,0.465],\"gridcolor\":\"#E1E5ED\",\"showgrid\":false,\"tickfont\":{\"color\":\"#4D5663\"},\"title\":{\"font\":{\"color\":\"#4D5663\"},\"text\":\"\"},\"zerolinecolor\":\"#E1E5ED\"},\"xaxis13\":{\"anchor\":\"y13\",\"domain\":[0.0,0.2125],\"gridcolor\":\"#E1E5ED\",\"showgrid\":false,\"tickfont\":{\"color\":\"#4D5663\"},\"title\":{\"font\":{\"color\":\"#4D5663\"},\"text\":\"\"},\"zerolinecolor\":\"#E1E5ED\"},\"yaxis13\":{\"anchor\":\"x13\",\"domain\":[0.0,0.1975],\"gridcolor\":\"#E1E5ED\",\"showgrid\":false,\"tickfont\":{\"color\":\"#4D5663\"},\"title\":{\"font\":{\"color\":\"#4D5663\"},\"text\":\"\"},\"zerolinecolor\":\"#E1E5ED\"},\"xaxis14\":{\"anchor\":\"y14\",\"domain\":[0.2625,0.475],\"gridcolor\":\"#E1E5ED\",\"showgrid\":false,\"tickfont\":{\"color\":\"#4D5663\"},\"title\":{\"font\":{\"color\":\"#4D5663\"},\"text\":\"\"},\"zerolinecolor\":\"#E1E5ED\"},\"yaxis14\":{\"anchor\":\"x14\",\"domain\":[0.0,0.1975],\"gridcolor\":\"#E1E5ED\",\"showgrid\":false,\"tickfont\":{\"color\":\"#4D5663\"},\"title\":{\"font\":{\"color\":\"#4D5663\"},\"text\":\"\"},\"zerolinecolor\":\"#E1E5ED\"},\"xaxis15\":{\"anchor\":\"y15\",\"domain\":[0.525,0.7375],\"gridcolor\":\"#E1E5ED\",\"showgrid\":false,\"tickfont\":{\"color\":\"#4D5663\"},\"title\":{\"font\":{\"color\":\"#4D5663\"},\"text\":\"\"},\"zerolinecolor\":\"#E1E5ED\"},\"yaxis15\":{\"anchor\":\"x15\",\"domain\":[0.0,0.1975],\"gridcolor\":\"#E1E5ED\",\"showgrid\":false,\"tickfont\":{\"color\":\"#4D5663\"},\"title\":{\"font\":{\"color\":\"#4D5663\"},\"text\":\"\"},\"zerolinecolor\":\"#E1E5ED\"},\"xaxis16\":{\"anchor\":\"y16\",\"domain\":[0.7875,1.0],\"gridcolor\":\"#E1E5ED\",\"showgrid\":false,\"tickfont\":{\"color\":\"#4D5663\"},\"title\":{\"font\":{\"color\":\"#4D5663\"},\"text\":\"\"},\"zerolinecolor\":\"#E1E5ED\"},\"yaxis16\":{\"anchor\":\"x16\",\"domain\":[0.0,0.1975],\"gridcolor\":\"#E1E5ED\",\"showgrid\":false,\"tickfont\":{\"color\":\"#4D5663\"},\"title\":{\"font\":{\"color\":\"#4D5663\"},\"text\":\"\"},\"zerolinecolor\":\"#E1E5ED\"}},                        {\"showLink\": true, \"linkText\": \"Export to plot.ly\", \"plotlyServerURL\": \"https://plot.ly\", \"responsive\": true}                    ).then(function(){\n",
              "                            \n",
              "var gd = document.getElementById('41964e7d-bae6-48f5-9654-076a7446c763');\n",
              "var x = new MutationObserver(function (mutations, observer) {{\n",
              "        var display = window.getComputedStyle(gd).display;\n",
              "        if (!display || display === 'none') {{\n",
              "            console.log([gd, 'removed!']);\n",
              "            Plotly.purge(gd);\n",
              "            observer.disconnect();\n",
              "        }}\n",
              "}});\n",
              "\n",
              "// Listen for the removal of the full notebook cells\n",
              "var notebookContainer = gd.closest('#notebook-container');\n",
              "if (notebookContainer) {{\n",
              "    x.observe(notebookContainer, {childList: true});\n",
              "}}\n",
              "\n",
              "// Listen for the clearing of the current output cell\n",
              "var outputEl = gd.closest('.output');\n",
              "if (outputEl) {{\n",
              "    x.observe(outputEl, {childList: true});\n",
              "}}\n",
              "\n",
              "                        })                };                });            </script>        </div>"
            ]
          },
          "metadata": {}
        }
      ],
      "source": [
        "df.scatter_matrix()"
      ]
    },
    {
      "cell_type": "markdown",
      "metadata": {
        "collapsed": true,
        "id": "0RG1TXANK5lf"
      },
      "source": [
        "# Buen trabajo!"
      ]
    }
  ],
  "metadata": {
    "kernelspec": {
      "display_name": "Python 3",
      "language": "python",
      "name": "python3"
    },
    "language_info": {
      "codemirror_mode": {
        "name": "ipython",
        "version": 3
      },
      "file_extension": ".py",
      "mimetype": "text/x-python",
      "name": "python",
      "nbconvert_exporter": "python",
      "pygments_lexer": "ipython3",
      "version": "3.8.5"
    },
    "colab": {
      "provenance": []
    }
  },
  "nbformat": 4,
  "nbformat_minor": 0
}