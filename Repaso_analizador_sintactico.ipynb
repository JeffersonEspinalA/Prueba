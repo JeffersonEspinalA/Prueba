{
  "nbformat": 4,
  "nbformat_minor": 0,
  "metadata": {
    "colab": {
      "provenance": [],
      "authorship_tag": "ABX9TyOpE61JSkwzyLWa+uZ7/rMI",
      "include_colab_link": true
    },
    "kernelspec": {
      "name": "python3",
      "display_name": "Python 3"
    },
    "language_info": {
      "name": "python"
    }
  },
  "cells": [
    {
      "cell_type": "markdown",
      "metadata": {
        "id": "view-in-github",
        "colab_type": "text"
      },
      "source": [
        "<a href=\"https://colab.research.google.com/github/JeffersonEspinalA/Prueba/blob/main/Repaso_analizador_sintactico.ipynb\" target=\"_parent\"><img src=\"https://colab.research.google.com/assets/colab-badge.svg\" alt=\"Open In Colab\"/></a>"
      ]
    },
    {
      "cell_type": "code",
      "execution_count": null,
      "metadata": {
        "colab": {
          "base_uri": "https://localhost:8080/"
        },
        "id": "JtMNAfaWh9qX",
        "outputId": "0076c1d8-8a73-4c51-90b9-32207a651c2c"
      },
      "outputs": [
        {
          "output_type": "stream",
          "name": "stdout",
          "text": [
            "Reading package lists... Done\n",
            "Building dependency tree       \n",
            "Reading state information... Done\n",
            "bison is already the newest version (2:3.5.1+dfsg-1).\n",
            "0 upgraded, 0 newly installed, 0 to remove and 24 not upgraded.\n"
          ]
        }
      ],
      "source": [
        "!sudo apt install bison"
      ]
    },
    {
      "cell_type": "markdown",
      "source": [
        "Una gramática que reconoce expresiones aritméticas simples, como \"2 + 3 * 4\", y las evalúa correctamente de acuerdo a las reglas de precedencia de operadores.\n",
        "\n",
        "Una gramática que reconoce la estructura básica de un programa en un lenguaje de programación sencillo, como un lenguaje de instrucciones básicas, y verifica que la sintaxis es correcta.\n",
        "\n",
        "Una gramática que reconoce la estructura de una oración simple en un lenguaje natural, como el inglés, y verifica que está correctamente formada.\n",
        "\n",
        "Una gramática que reconoce la estructura básica de un documento HTML y verifica que está bien formado.\n",
        "\n",
        "Una gramática que reconoce la estructura de una expresión regular y verifica que está bien formada."
      ],
      "metadata": {
        "id": "frtgbTH4ilWI"
      }
    },
    {
      "cell_type": "code",
      "source": [
        "%%file uno.y\n",
        "\n",
        "%{\n",
        "  #include <stdio.h>\n",
        "  #include <stdlib.h>\n",
        "  \n",
        "  int yylex(void);\n",
        "  void yyerror(char const*);\n",
        "%}\n",
        "\n",
        "%define api.value.type { double }\n",
        "%token NUM\n",
        "\n",
        "%%\n",
        "\n",
        "input:\n",
        "    %empty\n",
        "  | input line\n",
        "  ;\n",
        "\n",
        "line:\n",
        "    '\\n'\n",
        "  | exp '\\n'      { printf(\"ANS: %.10g\\n\", $1); }\n",
        "  ;\n",
        "\n",
        "exp:\n",
        "    term\n",
        "  | exp '+' term  { $$ = $1 + $3; }\n",
        "  | exp '-' term  { $$ = $1 - $3; }\n",
        "  ;\n",
        "\n",
        "term:\n",
        "    factor\n",
        "  | term '*' factor  { $$ = $1 * $3; }\n",
        "  | term '/' factor  { $$ = $1 / $3; }\n",
        "  ;\n",
        "\n",
        "factor:\n",
        "    NUM\n",
        "  | '(' exp ')'  { $$ = $2; }\n",
        "  ;\n",
        "\n",
        "%%\n",
        "\n",
        "int yylex(void) {\n",
        "  int c = getchar();\n",
        "  while (c == ' ' || c == '\\t') {\n",
        "    c = getchar();\n",
        "  }\n",
        "  if (c == '.' || (c >= '0' && c <= '9')) {\n",
        "    ungetc(c, stdin);\n",
        "    if (scanf(\"%lf\", &yylval) != 1) {\n",
        "      abort();\n",
        "    }\n",
        "    return NUM;\n",
        "  } else if (c == EOF) {\n",
        "    return YYEOF;\n",
        "  } else {\n",
        "    return c;\n",
        "  }\n",
        "}\n",
        "\n",
        "void yyerror(char const* s) {\n",
        "  fprintf(stderr, \"%s\\n\", s);\n",
        "}\n",
        "\n",
        "int main(void) {\n",
        "  return yyparse();\n",
        "}\n"
      ],
      "metadata": {
        "colab": {
          "base_uri": "https://localhost:8080/"
        },
        "id": "kOzW-FqHjBJ8",
        "outputId": "3a84117f-97c3-4d70-b413-edfa4566d2d8"
      },
      "execution_count": null,
      "outputs": [
        {
          "output_type": "stream",
          "name": "stdout",
          "text": [
            "Overwriting uno.y\n"
          ]
        }
      ]
    },
    {
      "cell_type": "code",
      "source": [
        "!bison uno.y"
      ],
      "metadata": {
        "id": "vhsGnfRWj30w"
      },
      "execution_count": null,
      "outputs": []
    },
    {
      "cell_type": "code",
      "source": [
        "!gcc uno.tab.c"
      ],
      "metadata": {
        "id": "sgNfd7PTj8HX"
      },
      "execution_count": null,
      "outputs": []
    },
    {
      "cell_type": "code",
      "source": [
        "!./a.out"
      ],
      "metadata": {
        "colab": {
          "base_uri": "https://localhost:8080/"
        },
        "id": "JkVnT0Stckhy",
        "outputId": "c9d284c2-3677-4e7b-96b5-a4908f40059b"
      },
      "execution_count": null,
      "outputs": [
        {
          "output_type": "stream",
          "name": "stdout",
          "text": [
            "2 + 3 * 4\n",
            "ANS: 14\n",
            "^C\n"
          ]
        }
      ]
    }
  ]
}