{
  "nbformat": 4,
  "nbformat_minor": 0,
  "metadata": {
    "colab": {
      "provenance": [],
      "authorship_tag": "ABX9TyMvhFLoKcwjtY2JUnNL+afR",
      "include_colab_link": true
    },
    "kernelspec": {
      "name": "python3",
      "display_name": "Python 3"
    },
    "language_info": {
      "name": "python"
    }
  },
  "cells": [
    {
      "cell_type": "markdown",
      "metadata": {
        "id": "view-in-github",
        "colab_type": "text"
      },
      "source": [
        "<a href=\"https://colab.research.google.com/github/JeffersonEspinalA/Prueba/blob/main/tc_w10.ipynb\" target=\"_parent\"><img src=\"https://colab.research.google.com/assets/colab-badge.svg\" alt=\"Open In Colab\"/></a>"
      ]
    },
    {
      "cell_type": "code",
      "execution_count": null,
      "metadata": {
        "id": "cHIDigUe_d5k"
      },
      "outputs": [],
      "source": [
        "%%bash\n",
        "sudo apt-get install llvm-12\n",
        "sudo apt-get install clang-12\n",
        "ln -s /usr/lib/llvm-12/bin/opt /usr/bin/opt\n",
        "ln -s /usr/lib/llvm-12/bin/llc /usr/bin/llc"
      ]
    },
    {
      "cell_type": "markdown",
      "source": [
        "##Ejercicio 1"
      ],
      "metadata": {
        "id": "fD7tB4-uF--_"
      }
    },
    {
      "cell_type": "code",
      "source": [
        "%%file callee.c\n",
        "int callee(const int* X) {\n",
        "\treturn *X + 1;\n",
        "}\n",
        "\n",
        "int main() {\n",
        "\tint T = 4;\n",
        "\treturn callee(&T);\n",
        "}"
      ],
      "metadata": {
        "colab": {
          "base_uri": "https://localhost:8080/"
        },
        "id": "5WncC1cXAXO_",
        "outputId": "eb69ba72-380f-436b-cf48-112fc8dee7df"
      },
      "execution_count": 6,
      "outputs": [
        {
          "output_type": "stream",
          "name": "stdout",
          "text": [
            "Writing callee.c\n"
          ]
        }
      ]
    },
    {
      "cell_type": "code",
      "source": [
        "!clang-12 -S -emit-llvm callee.c -o callee.ll"
      ],
      "metadata": {
        "id": "FeJoV3ytBIpm"
      },
      "execution_count": 7,
      "outputs": []
    },
    {
      "cell_type": "code",
      "source": [
        "!clang-12 -Xclang -disable-O0-optnone -S -emit-llvm callee.c -o callee2.ll"
      ],
      "metadata": {
        "id": "4mlqYYoKD0m7"
      },
      "execution_count": 8,
      "outputs": []
    },
    {
      "cell_type": "code",
      "source": [
        "!opt -S -mem2reg callee.ll -o callee_opt.ll"
      ],
      "metadata": {
        "id": "3JkuG9_PEuiz"
      },
      "execution_count": 9,
      "outputs": []
    },
    {
      "cell_type": "code",
      "source": [
        "!opt -S -mem2reg callee2.ll -o callee2_opt.ll"
      ],
      "metadata": {
        "id": "lwp8LRH1FDaB"
      },
      "execution_count": 10,
      "outputs": []
    },
    {
      "cell_type": "markdown",
      "source": [
        "##Ejercicio 2"
      ],
      "metadata": {
        "id": "WYfTEzPYGB2g"
      }
    },
    {
      "cell_type": "code",
      "source": [
        "%%file diag.c\n",
        "void identity(int** a, int N) {\n",
        "\tint i, j;\n",
        "\tfor (i = 0; i < N; i++) {\n",
        "\t\tfor (j = 0; j < N; j++) {\n",
        "\t\t\ta[i][j] = 0;\n",
        "\t\t}\n",
        "\t}\n",
        "\tfor (i = 0; i < N; i++) {\n",
        "\t\ta[i][i] = 1;\n",
        "\t}\n",
        "}"
      ],
      "metadata": {
        "colab": {
          "base_uri": "https://localhost:8080/"
        },
        "id": "nVjWtCbrGDtK",
        "outputId": "58cc52ad-ec98-4f11-bd5d-8321a562272f"
      },
      "execution_count": 11,
      "outputs": [
        {
          "output_type": "stream",
          "name": "stdout",
          "text": [
            "Writing diag.c\n"
          ]
        }
      ]
    },
    {
      "cell_type": "code",
      "source": [
        "!clang-12 -Xclang -disable-O0-optnone -S -emit-llvm diag.c -o diag.ll"
      ],
      "metadata": {
        "id": "6DVB1JjCGSc9"
      },
      "execution_count": 16,
      "outputs": []
    },
    {
      "cell_type": "code",
      "source": [
        "!opt -dot-cfg diag.ll -disable-output -enable-new-pm=0"
      ],
      "metadata": {
        "colab": {
          "base_uri": "https://localhost:8080/"
        },
        "id": "WfcYIwYSGhKi",
        "outputId": "5e118ca1-811f-4827-803b-59ae9843362d"
      },
      "execution_count": 17,
      "outputs": [
        {
          "output_type": "stream",
          "name": "stdout",
          "text": [
            "Writing '.identity.dot'...\n"
          ]
        }
      ]
    },
    {
      "cell_type": "code",
      "source": [
        "!mv .identity.dot identity.dot"
      ],
      "metadata": {
        "id": "2yiQD5jHHxgb"
      },
      "execution_count": 18,
      "outputs": []
    }
  ]
}