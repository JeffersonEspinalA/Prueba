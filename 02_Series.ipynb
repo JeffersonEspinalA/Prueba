{
  "cells": [
    {
      "cell_type": "markdown",
      "metadata": {
        "id": "SxWIIDjK3moW"
      },
      "source": [
        "___\n",
        "<a href='https://pandas.pydata.org/pandas-docs/stable/reference/api/pandas.Series.html'> <img src='https://www.python.org/static/img/python-logo.png' /></a>\n",
        "___\n",
        "# Series"
      ]
    },
    {
      "cell_type": "markdown",
      "metadata": {
        "id": "kr1U8JPe3moY"
      },
      "source": [
        "El primer tipo de datos principal sobre el que aprenderemos para Pandas es el tipo de datos Serie. Importaremos Pandas y exploremos el objeto Serie.\n",
        "\n",
        "Una Serie es muy similar a una matriz NumPy (de hecho, está construida sobre el objeto de matriz NumPy). Lo que diferencia a la matriz NumPy de una serie es que una serie puede tener etiquetas de eje, lo que significa que puede indexarse mediante una etiqueta, en lugar de solo una ubicación numérica. Tampoco necesita contener datos numéricos, puede contener cualquier objeto Python arbitrario.\n",
        "\n",
        "Exploremos este concepto a través de algunos ejemplos:"
      ]
    },
    {
      "cell_type": "code",
      "execution_count": null,
      "metadata": {
        "id": "fB4Yf_pY3moY"
      },
      "outputs": [],
      "source": [
        "import numpy as np\n",
        "import pandas as pd"
      ]
    },
    {
      "cell_type": "markdown",
      "metadata": {
        "id": "tHijxzsC3moZ"
      },
      "source": [
        "### Creando una Serie\n",
        "\n",
        "Puedes convertir una lista, una matriz numérica o un diccionario en una serie:"
      ]
    },
    {
      "cell_type": "code",
      "execution_count": null,
      "metadata": {
        "id": "nmEUj9FP3moZ"
      },
      "outputs": [],
      "source": [
        "labels = ['a','b','c']\n",
        "my_list = [10,20,30]\n",
        "arr = np.array([10,20,30])\n",
        "d = {'a':10,'b':20,'c':30}"
      ]
    },
    {
      "cell_type": "markdown",
      "metadata": {
        "id": "g_8sn35d3moZ"
      },
      "source": [
        "** Usando Listas**"
      ]
    },
    {
      "cell_type": "code",
      "execution_count": null,
      "metadata": {
        "id": "BnR30H-V3moZ",
        "outputId": "1385a736-c992-48e3-a134-a4f17383bef7"
      },
      "outputs": [
        {
          "data": {
            "text/plain": [
              "0    10\n",
              "1    20\n",
              "2    30\n",
              "dtype: int64"
            ]
          },
          "execution_count": 3,
          "metadata": {},
          "output_type": "execute_result"
        }
      ],
      "source": [
        "pd.Series(data=my_list)"
      ]
    },
    {
      "cell_type": "code",
      "execution_count": null,
      "metadata": {
        "id": "5iOork3-3mob",
        "outputId": "edc769a8-f070-48fe-9b5c-6934d71a29f4"
      },
      "outputs": [
        {
          "data": {
            "text/plain": [
              "a    10\n",
              "b    20\n",
              "c    30\n",
              "dtype: int64"
            ]
          },
          "execution_count": 4,
          "metadata": {},
          "output_type": "execute_result"
        }
      ],
      "source": [
        "pd.Series(data=my_list,index=labels)"
      ]
    },
    {
      "cell_type": "code",
      "execution_count": null,
      "metadata": {
        "id": "ja5mzTz93mob",
        "outputId": "eca2e2ec-5668-40af-b3f0-a1b4ce0d0251"
      },
      "outputs": [
        {
          "data": {
            "text/plain": [
              "a    10\n",
              "b    20\n",
              "c    30\n",
              "dtype: int64"
            ]
          },
          "execution_count": 5,
          "metadata": {},
          "output_type": "execute_result"
        }
      ],
      "source": [
        "pd.Series(my_list,labels)"
      ]
    },
    {
      "cell_type": "markdown",
      "metadata": {
        "id": "Z7MwDQrJ3mob"
      },
      "source": [
        "** Arrays NumPy **"
      ]
    },
    {
      "cell_type": "code",
      "execution_count": null,
      "metadata": {
        "id": "oQ75k34Q3moc",
        "outputId": "c2988c6e-e99e-4fe5-dac4-3103709b339a"
      },
      "outputs": [
        {
          "data": {
            "text/plain": [
              "0    10\n",
              "1    20\n",
              "2    30\n",
              "dtype: int32"
            ]
          },
          "execution_count": 6,
          "metadata": {},
          "output_type": "execute_result"
        }
      ],
      "source": [
        "pd.Series(arr)"
      ]
    },
    {
      "cell_type": "code",
      "execution_count": null,
      "metadata": {
        "id": "XkknlERL3moc",
        "outputId": "f1461edb-da45-4d22-8649-93f15329d826"
      },
      "outputs": [
        {
          "data": {
            "text/plain": [
              "a    10\n",
              "b    20\n",
              "c    30\n",
              "dtype: int32"
            ]
          },
          "execution_count": 7,
          "metadata": {},
          "output_type": "execute_result"
        }
      ],
      "source": [
        "pd.Series(arr,labels)"
      ]
    },
    {
      "cell_type": "markdown",
      "metadata": {
        "id": "Ie0enjCl3moc"
      },
      "source": [
        "** Diccionario**"
      ]
    },
    {
      "cell_type": "code",
      "execution_count": null,
      "metadata": {
        "id": "sghGw9qI3moc",
        "outputId": "a541f237-15ae-4323-d4b2-e7386f3da1f7"
      },
      "outputs": [
        {
          "data": {
            "text/plain": [
              "a    10\n",
              "b    20\n",
              "c    30\n",
              "dtype: int64"
            ]
          },
          "execution_count": 8,
          "metadata": {},
          "output_type": "execute_result"
        }
      ],
      "source": [
        "pd.Series(d)"
      ]
    },
    {
      "cell_type": "markdown",
      "metadata": {
        "id": "dflb8pTV3moc"
      },
      "source": [
        "### Datos en una Serie\n",
        "\n",
        "Una serie de Pandas puede contener una variedad de tipos de objetos:"
      ]
    },
    {
      "cell_type": "code",
      "execution_count": null,
      "metadata": {
        "id": "d3G21D4J3mod",
        "outputId": "c1fc19a8-bfa5-44c8-f4d5-72ddad44879a"
      },
      "outputs": [
        {
          "data": {
            "text/plain": [
              "0    a\n",
              "1    b\n",
              "2    c\n",
              "dtype: object"
            ]
          },
          "execution_count": 9,
          "metadata": {},
          "output_type": "execute_result"
        }
      ],
      "source": [
        "pd.Series(data=labels)"
      ]
    },
    {
      "cell_type": "code",
      "execution_count": null,
      "metadata": {
        "id": "vgRg_WJT3mod",
        "outputId": "94c04441-7e3b-46b0-f3b5-581e2ea930c3"
      },
      "outputs": [
        {
          "data": {
            "text/plain": [
              "0      <built-in function sum>\n",
              "1    <built-in function print>\n",
              "2      <built-in function len>\n",
              "dtype: object"
            ]
          },
          "execution_count": 10,
          "metadata": {},
          "output_type": "execute_result"
        }
      ],
      "source": [
        "# Incluso funciones (aunque es poco probable que uses esto)\n",
        "pd.Series([sum,print,len])"
      ]
    },
    {
      "cell_type": "markdown",
      "metadata": {
        "id": "gz2qIuLm3mod"
      },
      "source": [
        "## Usando un Index\n",
        "\n",
        "La clave para usar una serie es comprender su índice. Pandas hace uso de estos nombres o números de índice al permitir búsquedas rápidas de información (funciona como una tabla hash o un diccionario).\n",
        "\n",
        "Veamos algunos ejemplos de cómo obtener información de una serie. Creemos dos sereis, ser1 y ser2:"
      ]
    },
    {
      "cell_type": "code",
      "execution_count": null,
      "metadata": {
        "id": "nQ8n_UQj3mod"
      },
      "outputs": [],
      "source": [
        "ser1 = pd.Series([1,2,3,4],index = ['USA', 'Alemania','Rusia', 'Japón'])                                   "
      ]
    },
    {
      "cell_type": "code",
      "execution_count": null,
      "metadata": {
        "id": "TacKFSCe3mod",
        "outputId": "0935e7fe-a88a-41c0-bb9c-9624d6128525"
      },
      "outputs": [
        {
          "data": {
            "text/plain": [
              "USA         1\n",
              "Alemania    2\n",
              "Rusia       3\n",
              "Japón       4\n",
              "dtype: int64"
            ]
          },
          "execution_count": 12,
          "metadata": {},
          "output_type": "execute_result"
        }
      ],
      "source": [
        "ser1"
      ]
    },
    {
      "cell_type": "code",
      "execution_count": null,
      "metadata": {
        "id": "pMx3mlJU3moe"
      },
      "outputs": [],
      "source": [
        "ser2 = pd.Series([1,2,5,4],index = ['USA', 'Alemania','Italia', 'Japón'])                                   "
      ]
    },
    {
      "cell_type": "code",
      "execution_count": null,
      "metadata": {
        "id": "rCqumYPw3moe",
        "outputId": "a2c36237-74e7-4bbe-9c6f-e6c8b9318ebc"
      },
      "outputs": [
        {
          "data": {
            "text/plain": [
              "USA         1\n",
              "Alemania    2\n",
              "Italia      5\n",
              "Japón       4\n",
              "dtype: int64"
            ]
          },
          "execution_count": 14,
          "metadata": {},
          "output_type": "execute_result"
        }
      ],
      "source": [
        "ser2"
      ]
    },
    {
      "cell_type": "code",
      "execution_count": null,
      "metadata": {
        "id": "OmEB78183moe",
        "outputId": "cb8162fc-7fc7-4218-e085-3c308de48986"
      },
      "outputs": [
        {
          "data": {
            "text/plain": [
              "1"
            ]
          },
          "execution_count": 15,
          "metadata": {},
          "output_type": "execute_result"
        }
      ],
      "source": [
        "ser1['USA']"
      ]
    },
    {
      "cell_type": "markdown",
      "metadata": {
        "id": "j9feBFZ43moe"
      },
      "source": [
        "Las operaciones también se realizan en función del índice:"
      ]
    },
    {
      "cell_type": "code",
      "execution_count": null,
      "metadata": {
        "id": "mHXfbbs43mof",
        "outputId": "62fe1149-dde0-4cf6-ba35-9bb1878a28d8"
      },
      "outputs": [
        {
          "data": {
            "text/plain": [
              "Alemania    4.0\n",
              "Italia      NaN\n",
              "Japón       8.0\n",
              "Rusia       NaN\n",
              "USA         2.0\n",
              "dtype: float64"
            ]
          },
          "execution_count": 16,
          "metadata": {},
          "output_type": "execute_result"
        }
      ],
      "source": [
        "ser1 + ser2"
      ]
    },
    {
      "cell_type": "markdown",
      "metadata": {
        "id": "0Sftm-tp3mof"
      },
      "source": [
        "Detengámonos aquí por ahora y pasemos a DataFrames, que ampliará el concepto de Series.\n",
        "# Buen trabajo!"
      ]
    }
  ],
  "metadata": {
    "kernelspec": {
      "display_name": "Python 3",
      "language": "python",
      "name": "python3"
    },
    "language_info": {
      "codemirror_mode": {
        "name": "ipython",
        "version": 3
      },
      "file_extension": ".py",
      "mimetype": "text/x-python",
      "name": "python",
      "nbconvert_exporter": "python",
      "pygments_lexer": "ipython3",
      "version": "3.8.5"
    },
    "colab": {
      "provenance": []
    }
  },
  "nbformat": 4,
  "nbformat_minor": 0
}