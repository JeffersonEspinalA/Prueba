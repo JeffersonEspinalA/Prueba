{
  "cells": [
    {
      "cell_type": "markdown",
      "metadata": {
        "id": "view-in-github",
        "colab_type": "text"
      },
      "source": [
        "<a href=\"https://colab.research.google.com/github/JeffersonEspinalA/Prueba/blob/main/AG_Orden_Cadena.ipynb\" target=\"_parent\"><img src=\"https://colab.research.google.com/assets/colab-badge.svg\" alt=\"Open In Colab\"/></a>"
      ]
    },
    {
      "cell_type": "markdown",
      "metadata": {
        "id": "7_cSXCUAfU0C"
      },
      "source": [
        "### Algoritmo Genetico - Ejemplo #3"
      ]
    },
    {
      "cell_type": "code",
      "execution_count": null,
      "metadata": {
        "id": "gqnXq9oSfU0J"
      },
      "outputs": [],
      "source": [
        "# Crear una cadena de destino, comenzando desde una cadena aleatoria usando algoritmo genético\n",
        "# Fuente: https://www.geeksforgeeks.org/genetic-algorithms/"
      ]
    },
    {
      "cell_type": "code",
      "execution_count": null,
      "metadata": {
        "id": "HOZlZbFWfU0M"
      },
      "outputs": [],
      "source": [
        "import random"
      ]
    },
    {
      "cell_type": "code",
      "execution_count": null,
      "metadata": {
        "id": "I-3EwenjfU0N"
      },
      "outputs": [],
      "source": [
        "# Número de individuos en cada generación\n",
        "POPULATION_SIZE = 100"
      ]
    },
    {
      "cell_type": "code",
      "execution_count": null,
      "metadata": {
        "id": "GWQ6EUTdfU0O"
      },
      "outputs": [],
      "source": [
        "#Genes válidos\n",
        "GENES = '''abcdefghijklmnopqrstuvwxyzABCDEFGHIJKLMNOP\n",
        "QRSTUVWXYZ 1234567890, .-;:_!\"#%&/()=?@${[]}'''"
      ]
    },
    {
      "cell_type": "code",
      "execution_count": null,
      "metadata": {
        "id": "j8M0mmpdfU0O"
      },
      "outputs": [],
      "source": [
        "# Cadena de destino que se generará\n",
        "TARGET = \"Me encantan la I.A.\""
      ]
    },
    {
      "cell_type": "code",
      "execution_count": null,
      "metadata": {
        "id": "TXXElE-3fU0O"
      },
      "outputs": [],
      "source": [
        "class Individual(object):\n",
        "    '''\n",
        "    Clase que representa al individuo en la población\n",
        "    '''\n",
        "    def __init__(self, chromosome):\n",
        "        self.chromosome = chromosome \n",
        "        self.fitness = self.cal_fitness()\n",
        "  \n",
        "    @classmethod\n",
        "    def mutated_genes(self):\n",
        "        '''\n",
        "        crear genes aleatorios para la mutación\n",
        "        '''\n",
        "        global GENES\n",
        "        gene = random.choice(GENES)\n",
        "        return gene\n",
        "  \n",
        "    @classmethod\n",
        "    def create_gnome(self):\n",
        "        '''\n",
        "        crear un cromosoma o cadena de genes\n",
        "        '''\n",
        "        global TARGET\n",
        "        gnome_len = len(TARGET)\n",
        "        return [self.mutated_genes() for _ in range(gnome_len)]\n",
        "  \n",
        "    def mate(self, par2):\n",
        "        '''\n",
        "        Realizar apareamiento y producir nueva descendencia\n",
        "        '''\n",
        "  \n",
        "        # cromosoma para la descendencia\n",
        "        child_chromosome = []\n",
        "        for gp1, gp2 in zip(self.chromosome, par2.chromosome):    \n",
        "  \n",
        "            # probabilidad aleatoria\n",
        "            prob = random.random()\n",
        "  \n",
        "            # si prob es menor que 0.45, insertar gen\n",
        "            # del padre 1 \n",
        "            if prob < 0.45:\n",
        "                child_chromosome.append(gp1)\n",
        "  \n",
        "            # si prob esta entre 0.45 y 0.90, insertar gen\n",
        "            # del padre 2\n",
        "            elif prob < 0.90:\n",
        "                child_chromosome.append(gp2)\n",
        "  \n",
        "            # de lo contrario, insertar un gen aleatorio (mutado),\n",
        "            # para mantener la diversidad\n",
        "            else:\n",
        "                child_chromosome.append(self.mutated_genes())\n",
        "  \n",
        "        # crear un nuevo individuo (descendencia) usando\n",
        "        # cromosoma generado para la descendencia\n",
        "        return Individual(child_chromosome)\n",
        "  \n",
        "    def cal_fitness(self):\n",
        "        '''\n",
        "        Calcular la puntuación de aptitud, es el número de caracteres \n",
        "        en la cadena origen que difieren de la cadena de destino\n",
        "        '''\n",
        "        global TARGET\n",
        "        fitness = 0\n",
        "        for gs, gt in zip(self.chromosome, TARGET):\n",
        "            if gs != gt: fitness+= 1\n",
        "        return fitness"
      ]
    },
    {
      "cell_type": "code",
      "execution_count": null,
      "metadata": {
        "id": "jUvelQ3BfU0P"
      },
      "outputs": [],
      "source": [
        "# Código principal\n",
        "def main():\n",
        "    global POPULATION_SIZE\n",
        "  \n",
        "    #la generación actual\n",
        "    generation = 1\n",
        "  \n",
        "    found = False\n",
        "    population = []\n",
        "  \n",
        "    # crear población inicial\n",
        "    for _ in range(POPULATION_SIZE):\n",
        "                gnome = Individual.create_gnome()\n",
        "                population.append(Individual(gnome))\n",
        "  \n",
        "    while not found:\n",
        "  \n",
        "        # ordenar la población en orden creciente de puntuación de aptitud física\n",
        "        population = sorted(population, key = lambda x:x.fitness)\n",
        "  \n",
        "        # si el individuo alcanza el puntaje de aptitud más bajo, es decir.\n",
        "        # 0 entonces sabemos que hemos llegado al objetivo\n",
        "        # y romper el bucle\n",
        "        if population[0].fitness <= 0:\n",
        "            found = True\n",
        "            break\n",
        "  \n",
        "        # De lo contrario, se generan nuevos descendientes para la nueva generación\n",
        "        new_generation = []\n",
        "  \n",
        "        # Realizar elitismo, lo que significa que el 10% de la población más apta\n",
        "        # pasa a la siguiente generación\n",
        "        s = int((10*POPULATION_SIZE)/100)\n",
        "        new_generation.extend(population[:s])\n",
        "  \n",
        "        # Del 50% de la población más apta, los individuos\n",
        "        # se aparearán para producir descendencia\n",
        "        s = int((90*POPULATION_SIZE)/100)\n",
        "        for _ in range(s):\n",
        "            parent1 = random.choice(population[:50])\n",
        "            parent2 = random.choice(population[:50])\n",
        "            child = parent1.mate(parent2)\n",
        "            new_generation.append(child)\n",
        "  \n",
        "        population = new_generation\n",
        "  \n",
        "        print(\"Generación: {}\\tString: {}\\tFitness: {}\".\\\n",
        "              format(generation,\n",
        "              \"\".join(population[0].chromosome),\n",
        "              population[0].fitness))\n",
        "  \n",
        "        generation += 1\n",
        "  \n",
        "      \n",
        "    print(\"Generación: {}\\tString: {}\\tFitness: {}\".\\\n",
        "          format(generation,\n",
        "          \"\".join(population[0].chromosome),\n",
        "          population[0].fitness))"
      ]
    },
    {
      "cell_type": "code",
      "execution_count": null,
      "metadata": {
        "id": "pefyhJHLfU0Q",
        "outputId": "44b922ab-cb77-4fe1-df8a-a176729335fd"
      },
      "outputs": [
        {
          "name": "stdout",
          "output_type": "stream",
          "text": [
            "Generación: 1\tString: nePNr{l:G_eqw0q%.ol\tFitness: 17\n",
            "Generación: 2\tString: nePNr{l:G_eqw0q%.ol\tFitness: 17\n",
            "Generación: 3\tString: Mew;wGoCG-m)f5#(.]2\tFitness: 16\n",
            "Generación: 4\tString: sE:R$cbntMACl!D4RSG\tFitness: 15\n",
            "Generación: 5\tString: Be inZin1_ww7d8%.y]\tFitness: 14\n",
            "Generación: 6\tString: Be inZin1_ww7d8%.y]\tFitness: 14\n",
            "Generación: 7\tString: oe encGn1BXw7?j%.y\n",
            "\tFitness: 12\n",
            "Generación: 8\tString: oe encGn1BXw7?j%.y\n",
            "\tFitness: 12\n",
            "Generación: 9\tString: oe encGn1BXw7?j%.y\n",
            "\tFitness: 12\n",
            "Generación: 10\tString: Me ibc ntczSlA{4.O2\tFitness: 11\n",
            "Generación: 11\tString: Me !nc nt_ASl1{(.& \tFitness: 10\n",
            "Generación: 12\tString: Me !nc nt_ASl1{(.& \tFitness: 10\n",
            "Generación: 13\tString: Me eyc ntdzwl]Y2.AA\tFitness: 9\n",
            "Generación: 14\tString: Me eyc ntdzwl]Y2.AA\tFitness: 9\n",
            "Generación: 15\tString: Me eyc ntdzwl]Y2.AA\tFitness: 9\n",
            "Generación: 16\tString: Me eyc ntdzwl]Y2.AA\tFitness: 9\n",
            "Generación: 17\tString: Me enclntBXml({y.A\n",
            "\tFitness: 8\n",
            "Generación: 18\tString: Me enclntBXml({y.A\n",
            "\tFitness: 8\n",
            "Generación: 19\tString: Me enc2nt@zwl][o.A.\tFitness: 7\n",
            "Generación: 20\tString: Me enc2nt@zwl][o.A.\tFitness: 7\n",
            "Generación: 21\tString: Me enc2nt@zwl][o.A.\tFitness: 7\n",
            "Generación: 22\tString: Me enc2nt@zwl][o.A.\tFitness: 7\n",
            "Generación: 23\tString: Me enclnt1A l\n",
            "zH.A.\tFitness: 6\n",
            "Generación: 24\tString: Me enclnt1A l\n",
            "zH.A.\tFitness: 6\n",
            "Generación: 25\tString: Me enclnt1A l\n",
            "zH.A.\tFitness: 6\n",
            "Generación: 26\tString: Me enclnt1A l\n",
            "zH.A.\tFitness: 6\n",
            "Generación: 27\tString: Me enclntTn l\n",
            "do.A.\tFitness: 5\n",
            "Generación: 28\tString: Me enclntTn l\n",
            "do.A.\tFitness: 5\n",
            "Generación: 29\tString: Me enclntTn l\n",
            "do.A.\tFitness: 5\n",
            "Generación: 30\tString: Me enclntTn l\n",
            "do.A.\tFitness: 5\n",
            "Generación: 31\tString: Me encant:n l\n",
            "[o.A.\tFitness: 4\n",
            "Generación: 32\tString: Me encant:n l\n",
            "[o.A.\tFitness: 4\n",
            "Generación: 33\tString: Me encant:n l\n",
            "[o.A.\tFitness: 4\n",
            "Generación: 34\tString: Me encant:n l\n",
            "[o.A.\tFitness: 4\n",
            "Generación: 35\tString: Me encant:n l\n",
            "[o.A.\tFitness: 4\n",
            "Generación: 36\tString: Me encant:n l\n",
            "[o.A.\tFitness: 4\n",
            "Generación: 37\tString: Me encant:n l\n",
            "[o.A.\tFitness: 4\n",
            "Generación: 38\tString: Me encany:n la /.A.\tFitness: 3\n",
            "Generación: 39\tString: Me encany:n la /.A.\tFitness: 3\n",
            "Generación: 40\tString: Me encany:n la /.A.\tFitness: 3\n",
            "Generación: 41\tString: Me encany:n la /.A.\tFitness: 3\n",
            "Generación: 42\tString: Me encany:n la /.A.\tFitness: 3\n",
            "Generación: 43\tString: Me encantDn la Y.A.\tFitness: 2\n",
            "Generación: 44\tString: Me encantDn la Y.A.\tFitness: 2\n",
            "Generación: 45\tString: Me encantDn la Y.A.\tFitness: 2\n",
            "Generación: 46\tString: Me encantan la9I.A.\tFitness: 1\n",
            "Generación: 47\tString: Me encantan la9I.A.\tFitness: 1\n",
            "Generación: 48\tString: Me encantan la9I.A.\tFitness: 1\n",
            "Generación: 49\tString: Me encantan la I.A.\tFitness: 0\n"
          ]
        }
      ],
      "source": [
        "# Ejecutamos el codigo\n",
        "main()"
      ]
    }
  ],
  "metadata": {
    "kernelspec": {
      "display_name": "Python 3",
      "language": "python",
      "name": "python3"
    },
    "language_info": {
      "codemirror_mode": {
        "name": "ipython",
        "version": 3
      },
      "file_extension": ".py",
      "mimetype": "text/x-python",
      "name": "python",
      "nbconvert_exporter": "python",
      "pygments_lexer": "ipython3",
      "version": "3.8.5"
    },
    "colab": {
      "name": "AG_Orden_Cadena.ipynb",
      "provenance": [],
      "include_colab_link": true
    }
  },
  "nbformat": 4,
  "nbformat_minor": 0
}