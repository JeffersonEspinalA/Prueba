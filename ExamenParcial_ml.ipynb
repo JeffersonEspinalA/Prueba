{
  "nbformat": 4,
  "nbformat_minor": 0,
  "metadata": {
    "colab": {
      "provenance": []
    },
    "kernelspec": {
      "name": "python3",
      "display_name": "Python 3"
    },
    "language_info": {
      "name": "python"
    }
  },
  "cells": [
    {
      "cell_type": "code",
      "source": [
        "import pandas as pd\n",
        "import numpy as np\n",
        "import nltk\n",
        "import matplotlib.pyplot as plt"
      ],
      "metadata": {
        "id": "k9x4dMk5mwPl"
      },
      "execution_count": null,
      "outputs": []
    },
    {
      "cell_type": "code",
      "source": [
        "from nltk.corpus import stopwords\n",
        "nltk.download(\"stopwords\")"
      ],
      "metadata": {
        "colab": {
          "base_uri": "https://localhost:8080/"
        },
        "id": "qnYux2g_m2Id",
        "outputId": "91852d39-b1fd-454c-f61e-177eb83f1aed"
      },
      "execution_count": null,
      "outputs": [
        {
          "output_type": "stream",
          "name": "stderr",
          "text": [
            "[nltk_data] Downloading package stopwords to /root/nltk_data...\n",
            "[nltk_data]   Unzipping corpora/stopwords.zip.\n"
          ]
        },
        {
          "output_type": "execute_result",
          "data": {
            "text/plain": [
              "True"
            ]
          },
          "metadata": {},
          "execution_count": 2
        }
      ]
    },
    {
      "cell_type": "code",
      "execution_count": null,
      "metadata": {
        "id": "ihAzyRsymC03"
      },
      "outputs": [],
      "source": [
        "url = \"https://raw.githubusercontent.com/lmcanavals/ml/main/data/jokes.csv\"\n",
        "data = pd.read_csv(url)"
      ]
    },
    {
      "cell_type": "code",
      "source": [
        "data.head()"
      ],
      "metadata": {
        "colab": {
          "base_uri": "https://localhost:8080/",
          "height": 206
        },
        "id": "J8fp3KFhnqqA",
        "outputId": "1cfabe48-f3e4-4858-abad-119a66c6d985"
      },
      "execution_count": null,
      "outputs": [
        {
          "output_type": "execute_result",
          "data": {
            "text/plain": [
              "                                                Joke  funny?\n",
              "0  Telling my daugthers date that \"she has lice a...       0\n",
              "1  What should you do before criticizing Pac-Man?...       0\n",
              "2  What's the difference between an illegal Mexic...       0\n",
              "3  What do you call a barbarian you can't see? an...       0\n",
              "4             How do you spell Canda? C,eh,N,eh,D,eh       0"
            ],
            "text/html": [
              "\n",
              "  <div id=\"df-012b287c-29ef-4f5f-8a95-59e1df8bf001\">\n",
              "    <div class=\"colab-df-container\">\n",
              "      <div>\n",
              "<style scoped>\n",
              "    .dataframe tbody tr th:only-of-type {\n",
              "        vertical-align: middle;\n",
              "    }\n",
              "\n",
              "    .dataframe tbody tr th {\n",
              "        vertical-align: top;\n",
              "    }\n",
              "\n",
              "    .dataframe thead th {\n",
              "        text-align: right;\n",
              "    }\n",
              "</style>\n",
              "<table border=\"1\" class=\"dataframe\">\n",
              "  <thead>\n",
              "    <tr style=\"text-align: right;\">\n",
              "      <th></th>\n",
              "      <th>Joke</th>\n",
              "      <th>funny?</th>\n",
              "    </tr>\n",
              "  </thead>\n",
              "  <tbody>\n",
              "    <tr>\n",
              "      <th>0</th>\n",
              "      <td>Telling my daugthers date that \"she has lice a...</td>\n",
              "      <td>0</td>\n",
              "    </tr>\n",
              "    <tr>\n",
              "      <th>1</th>\n",
              "      <td>What should you do before criticizing Pac-Man?...</td>\n",
              "      <td>0</td>\n",
              "    </tr>\n",
              "    <tr>\n",
              "      <th>2</th>\n",
              "      <td>What's the difference between an illegal Mexic...</td>\n",
              "      <td>0</td>\n",
              "    </tr>\n",
              "    <tr>\n",
              "      <th>3</th>\n",
              "      <td>What do you call a barbarian you can't see? an...</td>\n",
              "      <td>0</td>\n",
              "    </tr>\n",
              "    <tr>\n",
              "      <th>4</th>\n",
              "      <td>How do you spell Canda? C,eh,N,eh,D,eh</td>\n",
              "      <td>0</td>\n",
              "    </tr>\n",
              "  </tbody>\n",
              "</table>\n",
              "</div>\n",
              "      <button class=\"colab-df-convert\" onclick=\"convertToInteractive('df-012b287c-29ef-4f5f-8a95-59e1df8bf001')\"\n",
              "              title=\"Convert this dataframe to an interactive table.\"\n",
              "              style=\"display:none;\">\n",
              "        \n",
              "  <svg xmlns=\"http://www.w3.org/2000/svg\" height=\"24px\"viewBox=\"0 0 24 24\"\n",
              "       width=\"24px\">\n",
              "    <path d=\"M0 0h24v24H0V0z\" fill=\"none\"/>\n",
              "    <path d=\"M18.56 5.44l.94 2.06.94-2.06 2.06-.94-2.06-.94-.94-2.06-.94 2.06-2.06.94zm-11 1L8.5 8.5l.94-2.06 2.06-.94-2.06-.94L8.5 2.5l-.94 2.06-2.06.94zm10 10l.94 2.06.94-2.06 2.06-.94-2.06-.94-.94-2.06-.94 2.06-2.06.94z\"/><path d=\"M17.41 7.96l-1.37-1.37c-.4-.4-.92-.59-1.43-.59-.52 0-1.04.2-1.43.59L10.3 9.45l-7.72 7.72c-.78.78-.78 2.05 0 2.83L4 21.41c.39.39.9.59 1.41.59.51 0 1.02-.2 1.41-.59l7.78-7.78 2.81-2.81c.8-.78.8-2.07 0-2.86zM5.41 20L4 18.59l7.72-7.72 1.47 1.35L5.41 20z\"/>\n",
              "  </svg>\n",
              "      </button>\n",
              "      \n",
              "  <style>\n",
              "    .colab-df-container {\n",
              "      display:flex;\n",
              "      flex-wrap:wrap;\n",
              "      gap: 12px;\n",
              "    }\n",
              "\n",
              "    .colab-df-convert {\n",
              "      background-color: #E8F0FE;\n",
              "      border: none;\n",
              "      border-radius: 50%;\n",
              "      cursor: pointer;\n",
              "      display: none;\n",
              "      fill: #1967D2;\n",
              "      height: 32px;\n",
              "      padding: 0 0 0 0;\n",
              "      width: 32px;\n",
              "    }\n",
              "\n",
              "    .colab-df-convert:hover {\n",
              "      background-color: #E2EBFA;\n",
              "      box-shadow: 0px 1px 2px rgba(60, 64, 67, 0.3), 0px 1px 3px 1px rgba(60, 64, 67, 0.15);\n",
              "      fill: #174EA6;\n",
              "    }\n",
              "\n",
              "    [theme=dark] .colab-df-convert {\n",
              "      background-color: #3B4455;\n",
              "      fill: #D2E3FC;\n",
              "    }\n",
              "\n",
              "    [theme=dark] .colab-df-convert:hover {\n",
              "      background-color: #434B5C;\n",
              "      box-shadow: 0px 1px 3px 1px rgba(0, 0, 0, 0.15);\n",
              "      filter: drop-shadow(0px 1px 2px rgba(0, 0, 0, 0.3));\n",
              "      fill: #FFFFFF;\n",
              "    }\n",
              "  </style>\n",
              "\n",
              "      <script>\n",
              "        const buttonEl =\n",
              "          document.querySelector('#df-012b287c-29ef-4f5f-8a95-59e1df8bf001 button.colab-df-convert');\n",
              "        buttonEl.style.display =\n",
              "          google.colab.kernel.accessAllowed ? 'block' : 'none';\n",
              "\n",
              "        async function convertToInteractive(key) {\n",
              "          const element = document.querySelector('#df-012b287c-29ef-4f5f-8a95-59e1df8bf001');\n",
              "          const dataTable =\n",
              "            await google.colab.kernel.invokeFunction('convertToInteractive',\n",
              "                                                     [key], {});\n",
              "          if (!dataTable) return;\n",
              "\n",
              "          const docLinkHtml = 'Like what you see? Visit the ' +\n",
              "            '<a target=\"_blank\" href=https://colab.research.google.com/notebooks/data_table.ipynb>data table notebook</a>'\n",
              "            + ' to learn more about interactive tables.';\n",
              "          element.innerHTML = '';\n",
              "          dataTable['output_type'] = 'display_data';\n",
              "          await google.colab.output.renderOutput(dataTable, element);\n",
              "          const docLink = document.createElement('div');\n",
              "          docLink.innerHTML = docLinkHtml;\n",
              "          element.appendChild(docLink);\n",
              "        }\n",
              "      </script>\n",
              "    </div>\n",
              "  </div>\n",
              "  "
            ]
          },
          "metadata": {},
          "execution_count": 4
        }
      ]
    },
    {
      "cell_type": "markdown",
      "source": [
        "#PREGUNTA 1"
      ],
      "metadata": {
        "id": "IC0-KdfvoOQz"
      }
    },
    {
      "cell_type": "markdown",
      "source": [
        "PREGUNTA: Qué conclusiones puede usted proporcionar luego de inspeccionar algunos\n",
        "chistes, puede usted notar algún patrón particular para los chistes marcados como 0 y los\n",
        "marcados como 1?\n",
        "\n",
        "RESPUESTA: Vemos que hay data sesgada, pues hay mucha diferencia de la cantidad de datos.\n",
        "Tenemos grandes cantidades de chistes considerados 0 y pocos 1"
      ],
      "metadata": {
        "id": "-LjgZ-Eun2x6"
      }
    },
    {
      "cell_type": "code",
      "source": [
        "plt.hist(data[\"funny?\"])\n",
        "plt.show()"
      ],
      "metadata": {
        "colab": {
          "base_uri": "https://localhost:8080/",
          "height": 265
        },
        "id": "SQbBH6vXnvI8",
        "outputId": "e1ba1352-6f2c-4474-f1e8-dd631d7fb135"
      },
      "execution_count": null,
      "outputs": [
        {
          "output_type": "display_data",
          "data": {
            "text/plain": [
              "<Figure size 432x288 with 1 Axes>"
            ],
            "image/png": "[encoded data removed]"
          },
          "metadata": {
            "needs_background": "light"
          }
        }
      ]
    },
    {
      "cell_type": "markdown",
      "source": [
        "#PREGUNTA 2"
      ],
      "metadata": {
        "id": "CtmJNhcpoeEU"
      }
    },
    {
      "cell_type": "markdown",
      "source": [
        "PREGUNTA: Explique si es posible usar árboles de decisión en el dataset en su estado actual\n",
        "\n",
        "RESPUESTA: En su estado actual de la data, en su forma de letras, no es posible aplicar arboles de desición, pues realizan operaciones matemáticas. Por ello, necesita que lo convirtamos en una representación numérica, específicamente de forma matricial. Por ello, se usará la representación TF-IDF (vectorizacion)"
      ],
      "metadata": {
        "id": "lrcpBS_romdL"
      }
    },
    {
      "cell_type": "markdown",
      "source": [
        "#PREGUNTA 3"
      ],
      "metadata": {
        "id": "C9fKTGr3pXMW"
      }
    },
    {
      "cell_type": "markdown",
      "source": [
        " PREGUNTA: Debe vectorizar el dataset, explique los pasos que realice."
      ],
      "metadata": {
        "id": "mU02Lv7JpcMi"
      }
    },
    {
      "cell_type": "markdown",
      "source": [
        "##RESPUESTA A LA PREGUNTA 3"
      ],
      "metadata": {
        "id": "SYIlJvFJpvf1"
      }
    },
    {
      "cell_type": "markdown",
      "source": [
        "Primero, necesitamos la librería \"TfidfVectorizer\" para darle una representación numérica a nuestra data. Además, se usa la librería \"RegexpTokenizer\" para indicarle como queremos que tokenize nuestra data."
      ],
      "metadata": {
        "id": "77qSNlbOp1GG"
      }
    },
    {
      "cell_type": "code",
      "source": [
        "from nltk.tokenize import RegexpTokenizer\n",
        "from sklearn.feature_extraction.text import TfidfVectorizer"
      ],
      "metadata": {
        "id": "LM3mg_OBofdK"
      },
      "execution_count": null,
      "outputs": []
    },
    {
      "cell_type": "markdown",
      "source": [
        "Obtenemos nuestro \"x\"  - Le pasamos los stop words para que los quite de nuestro dataset y limpiar un poco"
      ],
      "metadata": {
        "id": "yI8s-lLqqvHH"
      }
    },
    {
      "cell_type": "code",
      "source": [
        "sw = stopwords.words(\"english\")\n",
        "tokenizer = RegexpTokenizer(r\"[a-zA-Z]+\")\n",
        "vectorizer = TfidfVectorizer(stop_words=sw,tokenizer = tokenizer.tokenize)\n",
        "x = vectorizer.fit_transform(data[\"Joke\"])\n",
        "tokens = vectorizer.get_feature_names_out()"
      ],
      "metadata": {
        "id": "Zxik0eaeqMNy"
      },
      "execution_count": null,
      "outputs": []
    },
    {
      "cell_type": "markdown",
      "source": [
        "Podemos ver como está el tamaño de nuestro \"x\" y cómo tokanizó los documentos"
      ],
      "metadata": {
        "id": "SoObhLPorYAL"
      }
    },
    {
      "cell_type": "code",
      "source": [
        "print(x.shape)\n",
        "print(tokens[100:120])"
      ],
      "metadata": {
        "colab": {
          "base_uri": "https://localhost:8080/"
        },
        "id": "0aJd9ecZqbf_",
        "outputId": "76999c8b-7779-48e6-b12f-b67f36e20648"
      },
      "execution_count": null,
      "outputs": [
        {
          "output_type": "stream",
          "name": "stdout",
          "text": [
            "(20000, 19921)\n",
            "['accordion' 'accosted' 'accosting' 'account' 'accountability'\n",
            " 'accountant' 'accountants' 'accounting' 'accounts' 'accross' 'acct'\n",
            " 'acctualy' 'accuracy' 'accurate' 'accurately' 'accused' 'accuser' 'ace'\n",
            " 'acetone' 'achieve']\n"
          ]
        }
      ]
    },
    {
      "cell_type": "markdown",
      "source": [
        "Obtenemos nuestro \"y\""
      ],
      "metadata": {
        "id": "7Nm6f-5nqyDP"
      }
    },
    {
      "cell_type": "code",
      "source": [
        "y = data[\"funny?\"]"
      ],
      "metadata": {
        "id": "SE3uqyfrq0Yn"
      },
      "execution_count": null,
      "outputs": []
    },
    {
      "cell_type": "code",
      "source": [
        "print(y.shape)"
      ],
      "metadata": {
        "colab": {
          "base_uri": "https://localhost:8080/"
        },
        "id": "SRHVRtOyq52J",
        "outputId": "a0fde31e-948f-473c-ca9c-163c92198c22"
      },
      "execution_count": null,
      "outputs": [
        {
          "output_type": "stream",
          "name": "stdout",
          "text": [
            "(20000,)\n"
          ]
        }
      ]
    },
    {
      "cell_type": "markdown",
      "source": [
        "Para realizar el entrenamiento para nuestros algoritmos, dividimos los datos de entrenamiento con los de prueba en una proporción de 70 a 30"
      ],
      "metadata": {
        "id": "PBiVC9kbsBnY"
      }
    },
    {
      "cell_type": "code",
      "source": [
        "from sklearn.model_selection import train_test_split"
      ],
      "metadata": {
        "id": "Q304HFmdsLyq"
      },
      "execution_count": null,
      "outputs": []
    },
    {
      "cell_type": "code",
      "source": [
        "x_train,x_test, y_train, y_test = train_test_split(x,y,train_size=0.7)"
      ],
      "metadata": {
        "id": "HsFgaYPYsSdu"
      },
      "execution_count": null,
      "outputs": []
    },
    {
      "cell_type": "code",
      "source": [
        "print(x_train.shape)\n",
        "print(x_test.shape)\n",
        "print(y_train.shape)\n",
        "print(y_test.shape)"
      ],
      "metadata": {
        "colab": {
          "base_uri": "https://localhost:8080/"
        },
        "id": "uFaZ0tdnsXmk",
        "outputId": "9f0c9f49-79cf-4b40-ed15-513e259ee7f9"
      },
      "execution_count": null,
      "outputs": [
        {
          "output_type": "stream",
          "name": "stdout",
          "text": [
            "(14000, 19921)\n",
            "(6000, 19921)\n",
            "(14000,)\n",
            "(6000,)\n"
          ]
        }
      ]
    },
    {
      "cell_type": "markdown",
      "source": [
        "#PREGUNTA 4\n",
        "\n",
        "PREGUNTA: Aplique el algoritmo KNN visto en clase con 3 funciones de distancia distintas y\n",
        "realice un análisis de los resultados obtenidos, indique cuál considera que es el mejor\n",
        "resultado y esboce una opinión del por qué.\n",
        "\n",
        "RESPUESTA: Se probó 3 distancias (euclidiana, manhattan y coseno), donde se pudo observar que la manhattan tuvo mejor resultado para este dataset (accuracy de 0.9535) y superó a la distancia euclidiana y coseno que obtubieron mismo resultado(accuracy:0.9425).\n",
        "Yo personalmente, recomendaría la distancia manhattan, pues son operaciones más simples para realizar el cálculo de una distancia a diferencia que el del coseno y euclidiana, tmb porque para este dataset tuvo mejores resultados. Además, al ver su matriz de confusion, la distancia Manhatam obtiene mejores pronósticos en cuanto a los \"1\" de columna \"funny?\" que son minoría.\n"
      ],
      "metadata": {
        "id": "ZwC7DLpiruzX"
      }
    },
    {
      "cell_type": "markdown",
      "source": [
        "Utilizamos la librería \"KNeighborsClassifier\" para realizar los algoritmos de knn y poder clasificar"
      ],
      "metadata": {
        "id": "qBPSotXgskxu"
      }
    },
    {
      "cell_type": "code",
      "source": [
        "from sklearn.neighbors import KNeighborsClassifier\n",
        "from sklearn.metrics import accuracy_score\n",
        "from sklearn.metrics import confusion_matrix"
      ],
      "metadata": {
        "id": "-OI15W0Lr4Hp"
      },
      "execution_count": null,
      "outputs": []
    },
    {
      "cell_type": "markdown",
      "source": [
        "### Calculamos knn con distancia euclidiana"
      ],
      "metadata": {
        "id": "yAW1E2VZuVfr"
      }
    },
    {
      "cell_type": "code",
      "source": [
        "modelE = KNeighborsClassifier(n_neighbors=5,p=2)"
      ],
      "metadata": {
        "id": "BFpxWkwvsxES"
      },
      "execution_count": null,
      "outputs": []
    },
    {
      "cell_type": "code",
      "source": [
        "modelE.fit(x_train,y_train)"
      ],
      "metadata": {
        "colab": {
          "base_uri": "https://localhost:8080/"
        },
        "id": "koDGbbmvuk8m",
        "outputId": "bb024041-d859-434c-8f7f-24d1321ad21e"
      },
      "execution_count": null,
      "outputs": [
        {
          "output_type": "execute_result",
          "data": {
            "text/plain": [
              "KNeighborsClassifier()"
            ]
          },
          "metadata": {},
          "execution_count": 16
        }
      ]
    },
    {
      "cell_type": "code",
      "source": [
        "y_hat = modelE.predict(x_test)"
      ],
      "metadata": {
        "id": "t2LkkBeEuqTl"
      },
      "execution_count": null,
      "outputs": []
    },
    {
      "cell_type": "markdown",
      "source": [
        "Calculamos su accuracy y matriz de confusion"
      ],
      "metadata": {
        "id": "QuFyUSHcu1jx"
      }
    },
    {
      "cell_type": "code",
      "source": [
        "print(accuracy_score(y_hat,y_test))\n",
        "print(confusion_matrix(y_hat,y_test))"
      ],
      "metadata": {
        "colab": {
          "base_uri": "https://localhost:8080/"
        },
        "id": "9bKolhlou3wx",
        "outputId": "2c745f24-cd20-4614-e9ff-e8d196a2828d"
      },
      "execution_count": null,
      "outputs": [
        {
          "output_type": "stream",
          "name": "stdout",
          "text": [
            "0.9425\n",
            "[[5565  326]\n",
            " [  19   90]]\n"
          ]
        }
      ]
    },
    {
      "cell_type": "markdown",
      "source": [
        "### Calculamos knn con distancia Manhatan"
      ],
      "metadata": {
        "id": "XQGeOkUZvBQN"
      }
    },
    {
      "cell_type": "code",
      "source": [
        "modelM = KNeighborsClassifier(n_neighbors=5, p = 1)"
      ],
      "metadata": {
        "id": "OKi3HFXovE-r"
      },
      "execution_count": null,
      "outputs": []
    },
    {
      "cell_type": "code",
      "source": [
        "modelM.fit(x_train,y_train)"
      ],
      "metadata": {
        "colab": {
          "base_uri": "https://localhost:8080/"
        },
        "id": "bxC2MV33vLU7",
        "outputId": "688c010c-512e-4f0d-81aa-ec1f1af5f3a4"
      },
      "execution_count": null,
      "outputs": [
        {
          "output_type": "execute_result",
          "data": {
            "text/plain": [
              "KNeighborsClassifier(p=1)"
            ]
          },
          "metadata": {},
          "execution_count": 20
        }
      ]
    },
    {
      "cell_type": "code",
      "source": [
        "y_hatM = modelM.predict(x_test)"
      ],
      "metadata": {
        "id": "QLVj6s0BvPRG"
      },
      "execution_count": null,
      "outputs": []
    },
    {
      "cell_type": "markdown",
      "source": [
        "Calculamos su accuracy y matriz de confusion"
      ],
      "metadata": {
        "id": "m2-M85s4vVoj"
      }
    },
    {
      "cell_type": "code",
      "source": [
        "print(accuracy_score(y_hatM,y_test))\n",
        "print(confusion_matrix(y_hatM,y_test))"
      ],
      "metadata": {
        "colab": {
          "base_uri": "https://localhost:8080/"
        },
        "id": "Oly4BRJdvXEw",
        "outputId": "dab883dc-8385-4fac-a7e3-0f8cb6b2aeb7"
      },
      "execution_count": null,
      "outputs": [
        {
          "output_type": "stream",
          "name": "stdout",
          "text": [
            "0.9535\n",
            "[[5577  272]\n",
            " [   7  144]]\n"
          ]
        }
      ]
    },
    {
      "cell_type": "markdown",
      "source": [
        "### Calculamos knn con distancia Coseno"
      ],
      "metadata": {
        "id": "1t4KEfIjvw2T"
      }
    },
    {
      "cell_type": "code",
      "source": [
        "modelC = KNeighborsClassifier(n_neighbors=5, metric=\"cosine\")"
      ],
      "metadata": {
        "id": "UXqzgS2ivzma"
      },
      "execution_count": null,
      "outputs": []
    },
    {
      "cell_type": "code",
      "source": [
        "modelC.fit(x_train,y_train)"
      ],
      "metadata": {
        "colab": {
          "base_uri": "https://localhost:8080/"
        },
        "id": "hkIfrtz7wAFi",
        "outputId": "a75d52b5-9325-4169-df3f-abb86658e522"
      },
      "execution_count": null,
      "outputs": [
        {
          "output_type": "execute_result",
          "data": {
            "text/plain": [
              "KNeighborsClassifier(metric='cosine')"
            ]
          },
          "metadata": {},
          "execution_count": 24
        }
      ]
    },
    {
      "cell_type": "code",
      "source": [
        "y_hatC = modelC.predict(x_test)"
      ],
      "metadata": {
        "id": "XTdPKUQrxA9V"
      },
      "execution_count": null,
      "outputs": []
    },
    {
      "cell_type": "markdown",
      "source": [
        "Calculamos su accuracy y su matriz de confusión"
      ],
      "metadata": {
        "id": "5mp4H6y8yTAj"
      }
    },
    {
      "cell_type": "code",
      "source": [
        "print(accuracy_score(y_hatC,y_test))\n",
        "print(confusion_matrix(y_hatC,y_test))"
      ],
      "metadata": {
        "colab": {
          "base_uri": "https://localhost:8080/"
        },
        "id": "V_I1pVjGxGtA",
        "outputId": "c9e89a12-dcfd-4870-beae-3cbfd37065a5"
      },
      "execution_count": null,
      "outputs": [
        {
          "output_type": "stream",
          "name": "stdout",
          "text": [
            "0.9425\n",
            "[[5565  326]\n",
            " [  19   90]]\n"
          ]
        }
      ]
    },
    {
      "cell_type": "markdown",
      "source": [
        "#PREGUNTA 5\n",
        "PREGUNTA: Aplique redes neuronales o árboles de decisión, y esboce un comentario respecto a los resultados obtenidos.\n"
      ],
      "metadata": {
        "id": "e61XddAG0NY2"
      }
    },
    {
      "cell_type": "markdown",
      "source": [
        "RESPUESTA: Se aplicó arboles de decisión al dataset y se obtuvo resultados muy buenos (accuracy: 0.99967), tuvo una predicción muy buena y lo podemos observar tanto en el accuracy como en la matriz de confusión. "
      ],
      "metadata": {
        "id": "REFGUm7A3NvS"
      }
    },
    {
      "cell_type": "code",
      "source": [
        "from sklearn.tree import DecisionTreeClassifier\n",
        "from sklearn.tree import export_graphviz\n",
        "import graphviz as gv"
      ],
      "metadata": {
        "id": "XSjY8hIg0ZTO"
      },
      "execution_count": null,
      "outputs": []
    },
    {
      "cell_type": "code",
      "source": [
        "modelTree = DecisionTreeClassifier()\n",
        "modelTree.fit(x_train,y_train)"
      ],
      "metadata": {
        "colab": {
          "base_uri": "https://localhost:8080/"
        },
        "id": "28I7WECf0uOi",
        "outputId": "84225aac-ac85-4240-a728-3fba4ff2978e"
      },
      "execution_count": null,
      "outputs": [
        {
          "output_type": "execute_result",
          "data": {
            "text/plain": [
              "DecisionTreeClassifier()"
            ]
          },
          "metadata": {},
          "execution_count": 28
        }
      ]
    },
    {
      "cell_type": "code",
      "source": [
        "g = export_graphviz(modelTree,class_names=[\"0\",\"1\"],filled=True)\n",
        "gv.Source(g)"
      ],
      "metadata": {
        "colab": {
          "base_uri": "https://localhost:8080/",
          "height": 599
        },
        "id": "KhcmrIMY2Kv6",
        "outputId": "d48e08cd-818b-437f-dfb3-656ac03c5bdc"
      },
      "execution_count": null,
      "outputs": [
        {
          "output_type": "execute_result",
          "data": {
            "text/plain": [
              "<graphviz.files.Source at 0x7fb3e99d6d90>"
            ],
            "image/svg+xml": "<?xml version=\"1.0\" encoding=\"UTF-8\" standalone=\"no\"?>\n<!DOCTYPE svg PUBLIC \"-//W3C//DTD SVG 1.1//EN\"\n \"http://www.w3.org/Graphics/SVG/1.1/DTD/svg11.dtd\">\n<!-- Generated by graphviz version 2.40.1 (20161225.0304)\n -->\n<!-- Title: Tree Pages: 1 -->\n<svg width=\"533pt\" height=\"433pt\"\n viewBox=\"0.00 0.00 532.50 433.00\" xmlns=\"http://www.w3.org/2000/svg\" xmlns:xlink=\"http://www.w3.org/1999/xlink\">\n<g id=\"graph0\" class=\"graph\" transform=\"scale(1 1) rotate(0) translate(4 429)\">\n<title>Tree</title>\n<polygon fill=\"#ffffff\" stroke=\"transparent\" points=\"-4,4 -4,-429 528.5,-429 528.5,4 -4,4\"/>\n<!-- 0 -->\n<g id=\"node1\" class=\"node\">\n<title>0</title>\n<polygon fill=\"#e78b48\" stroke=\"#000000\" points=\"349.5,-425 192.5,-425 192.5,-342 349.5,-342 349.5,-425\"/>\n<text text-anchor=\"middle\" x=\"271\" y=\"-409.8\" font-family=\"Helvetica,sans-Serif\" font-size=\"14.00\" fill=\"#000000\">X[10102] &lt;= 0.096</text>\n<text text-anchor=\"middle\" x=\"271\" y=\"-394.8\" font-family=\"Helvetica,sans-Serif\" font-size=\"14.00\" fill=\"#000000\">gini = 0.134</text>\n<text text-anchor=\"middle\" x=\"271\" y=\"-379.8\" font-family=\"Helvetica,sans-Serif\" font-size=\"14.00\" fill=\"#000000\">samples = 14000</text>\n<text text-anchor=\"middle\" x=\"271\" y=\"-364.8\" font-family=\"Helvetica,sans-Serif\" font-size=\"14.00\" fill=\"#000000\">value = [12986, 1014]</text>\n<text text-anchor=\"middle\" x=\"271\" y=\"-349.8\" font-family=\"Helvetica,sans-Serif\" font-size=\"14.00\" fill=\"#000000\">class = 0</text>\n</g>\n<!-- 1 -->\n<g id=\"node2\" class=\"node\">\n<title>1</title>\n<polygon fill=\"#e58139\" stroke=\"#000000\" points=\"262,-306 126,-306 126,-223 262,-223 262,-306\"/>\n<text text-anchor=\"middle\" x=\"194\" y=\"-290.8\" font-family=\"Helvetica,sans-Serif\" font-size=\"14.00\" fill=\"#000000\">X[11536] &lt;= 0.848</text>\n<text text-anchor=\"middle\" x=\"194\" y=\"-275.8\" font-family=\"Helvetica,sans-Serif\" font-size=\"14.00\" fill=\"#000000\">gini = 0.0</text>\n<text text-anchor=\"middle\" x=\"194\" y=\"-260.8\" font-family=\"Helvetica,sans-Serif\" font-size=\"14.00\" fill=\"#000000\">samples = 12985</text>\n<text text-anchor=\"middle\" x=\"194\" y=\"-245.8\" font-family=\"Helvetica,sans-Serif\" font-size=\"14.00\" fill=\"#000000\">value = [12984, 1]</text>\n<text text-anchor=\"middle\" x=\"194\" y=\"-230.8\" font-family=\"Helvetica,sans-Serif\" font-size=\"14.00\" fill=\"#000000\">class = 0</text>\n</g>\n<!-- 0&#45;&gt;1 -->\n<g id=\"edge1\" class=\"edge\">\n<title>0&#45;&gt;1</title>\n<path fill=\"none\" stroke=\"#000000\" d=\"M244.0691,-341.8796C238.4163,-333.1434 232.3967,-323.8404 226.5634,-314.8253\"/>\n<polygon fill=\"#000000\" stroke=\"#000000\" points=\"229.4169,-312.7924 221.0458,-306.2981 223.5399,-316.5952 229.4169,-312.7924\"/>\n<text text-anchor=\"middle\" x=\"215.8076\" y=\"-327.0431\" font-family=\"Helvetica,sans-Serif\" font-size=\"14.00\" fill=\"#000000\">True</text>\n</g>\n<!-- 4 -->\n<g id=\"node5\" class=\"node\">\n<title>4</title>\n<polygon fill=\"#399de5\" stroke=\"#000000\" points=\"416,-306 280,-306 280,-223 416,-223 416,-306\"/>\n<text text-anchor=\"middle\" x=\"348\" y=\"-290.8\" font-family=\"Helvetica,sans-Serif\" font-size=\"14.00\" fill=\"#000000\">X[11206] &lt;= 0.136</text>\n<text text-anchor=\"middle\" x=\"348\" y=\"-275.8\" font-family=\"Helvetica,sans-Serif\" font-size=\"14.00\" fill=\"#000000\">gini = 0.004</text>\n<text text-anchor=\"middle\" x=\"348\" y=\"-260.8\" font-family=\"Helvetica,sans-Serif\" font-size=\"14.00\" fill=\"#000000\">samples = 1015</text>\n<text text-anchor=\"middle\" x=\"348\" y=\"-245.8\" font-family=\"Helvetica,sans-Serif\" font-size=\"14.00\" fill=\"#000000\">value = [2, 1013]</text>\n<text text-anchor=\"middle\" x=\"348\" y=\"-230.8\" font-family=\"Helvetica,sans-Serif\" font-size=\"14.00\" fill=\"#000000\">class = 1</text>\n</g>\n<!-- 0&#45;&gt;4 -->\n<g id=\"edge4\" class=\"edge\">\n<title>0&#45;&gt;4</title>\n<path fill=\"none\" stroke=\"#000000\" d=\"M297.9309,-341.8796C303.5837,-333.1434 309.6033,-323.8404 315.4366,-314.8253\"/>\n<polygon fill=\"#000000\" stroke=\"#000000\" points=\"318.4601,-316.5952 320.9542,-306.2981 312.5831,-312.7924 318.4601,-316.5952\"/>\n<text text-anchor=\"middle\" x=\"326.1924\" y=\"-327.0431\" font-family=\"Helvetica,sans-Serif\" font-size=\"14.00\" fill=\"#000000\">False</text>\n</g>\n<!-- 2 -->\n<g id=\"node3\" class=\"node\">\n<title>2</title>\n<polygon fill=\"#e58139\" stroke=\"#000000\" points=\"132,-179.5 0,-179.5 0,-111.5 132,-111.5 132,-179.5\"/>\n<text text-anchor=\"middle\" x=\"66\" y=\"-164.3\" font-family=\"Helvetica,sans-Serif\" font-size=\"14.00\" fill=\"#000000\">gini = 0.0</text>\n<text text-anchor=\"middle\" x=\"66\" y=\"-149.3\" font-family=\"Helvetica,sans-Serif\" font-size=\"14.00\" fill=\"#000000\">samples = 12984</text>\n<text text-anchor=\"middle\" x=\"66\" y=\"-134.3\" font-family=\"Helvetica,sans-Serif\" font-size=\"14.00\" fill=\"#000000\">value = [12984, 0]</text>\n<text text-anchor=\"middle\" x=\"66\" y=\"-119.3\" font-family=\"Helvetica,sans-Serif\" font-size=\"14.00\" fill=\"#000000\">class = 0</text>\n</g>\n<!-- 1&#45;&gt;2 -->\n<g id=\"edge2\" class=\"edge\">\n<title>1&#45;&gt;2</title>\n<path fill=\"none\" stroke=\"#000000\" d=\"M149.2318,-222.8796C136.6944,-211.2237 123.0716,-198.5587 110.547,-186.9148\"/>\n<polygon fill=\"#000000\" stroke=\"#000000\" points=\"112.6172,-184.0605 102.9102,-179.8149 107.8509,-189.1872 112.6172,-184.0605\"/>\n</g>\n<!-- 3 -->\n<g id=\"node4\" class=\"node\">\n<title>3</title>\n<polygon fill=\"#399de5\" stroke=\"#000000\" points=\"249.5,-179.5 150.5,-179.5 150.5,-111.5 249.5,-111.5 249.5,-179.5\"/>\n<text text-anchor=\"middle\" x=\"200\" y=\"-164.3\" font-family=\"Helvetica,sans-Serif\" font-size=\"14.00\" fill=\"#000000\">gini = 0.0</text>\n<text text-anchor=\"middle\" x=\"200\" y=\"-149.3\" font-family=\"Helvetica,sans-Serif\" font-size=\"14.00\" fill=\"#000000\">samples = 1</text>\n<text text-anchor=\"middle\" x=\"200\" y=\"-134.3\" font-family=\"Helvetica,sans-Serif\" font-size=\"14.00\" fill=\"#000000\">value = [0, 1]</text>\n<text text-anchor=\"middle\" x=\"200\" y=\"-119.3\" font-family=\"Helvetica,sans-Serif\" font-size=\"14.00\" fill=\"#000000\">class = 1</text>\n</g>\n<!-- 1&#45;&gt;3 -->\n<g id=\"edge3\" class=\"edge\">\n<title>1&#45;&gt;3</title>\n<path fill=\"none\" stroke=\"#000000\" d=\"M196.0985,-222.8796C196.6363,-212.2134 197.2167,-200.7021 197.7613,-189.9015\"/>\n<polygon fill=\"#000000\" stroke=\"#000000\" points=\"201.2617,-189.9785 198.2698,-179.8149 194.2706,-189.626 201.2617,-189.9785\"/>\n</g>\n<!-- 5 -->\n<g id=\"node6\" class=\"node\">\n<title>5</title>\n<polygon fill=\"#399de5\" stroke=\"#000000\" points=\"407,-187 279,-187 279,-104 407,-104 407,-187\"/>\n<text text-anchor=\"middle\" x=\"343\" y=\"-171.8\" font-family=\"Helvetica,sans-Serif\" font-size=\"14.00\" fill=\"#000000\">X[7214] &lt;= 0.574</text>\n<text text-anchor=\"middle\" x=\"343\" y=\"-156.8\" font-family=\"Helvetica,sans-Serif\" font-size=\"14.00\" fill=\"#000000\">gini = 0.002</text>\n<text text-anchor=\"middle\" x=\"343\" y=\"-141.8\" font-family=\"Helvetica,sans-Serif\" font-size=\"14.00\" fill=\"#000000\">samples = 1014</text>\n<text text-anchor=\"middle\" x=\"343\" y=\"-126.8\" font-family=\"Helvetica,sans-Serif\" font-size=\"14.00\" fill=\"#000000\">value = [1, 1013]</text>\n<text text-anchor=\"middle\" x=\"343\" y=\"-111.8\" font-family=\"Helvetica,sans-Serif\" font-size=\"14.00\" fill=\"#000000\">class = 1</text>\n</g>\n<!-- 4&#45;&gt;5 -->\n<g id=\"edge5\" class=\"edge\">\n<title>4&#45;&gt;5</title>\n<path fill=\"none\" stroke=\"#000000\" d=\"M346.2512,-222.8796C345.9069,-214.6838 345.5416,-205.9891 345.1849,-197.5013\"/>\n<polygon fill=\"#000000\" stroke=\"#000000\" points=\"348.673,-197.1423 344.7562,-187.2981 341.6792,-197.4362 348.673,-197.1423\"/>\n</g>\n<!-- 8 -->\n<g id=\"node9\" class=\"node\">\n<title>8</title>\n<polygon fill=\"#e58139\" stroke=\"#000000\" points=\"524.5,-179.5 425.5,-179.5 425.5,-111.5 524.5,-111.5 524.5,-179.5\"/>\n<text text-anchor=\"middle\" x=\"475\" y=\"-164.3\" font-family=\"Helvetica,sans-Serif\" font-size=\"14.00\" fill=\"#000000\">gini = 0.0</text>\n<text text-anchor=\"middle\" x=\"475\" y=\"-149.3\" font-family=\"Helvetica,sans-Serif\" font-size=\"14.00\" fill=\"#000000\">samples = 1</text>\n<text text-anchor=\"middle\" x=\"475\" y=\"-134.3\" font-family=\"Helvetica,sans-Serif\" font-size=\"14.00\" fill=\"#000000\">value = [1, 0]</text>\n<text text-anchor=\"middle\" x=\"475\" y=\"-119.3\" font-family=\"Helvetica,sans-Serif\" font-size=\"14.00\" fill=\"#000000\">class = 0</text>\n</g>\n<!-- 4&#45;&gt;8 -->\n<g id=\"edge8\" class=\"edge\">\n<title>4&#45;&gt;8</title>\n<path fill=\"none\" stroke=\"#000000\" d=\"M392.4184,-222.8796C404.8579,-211.2237 418.3743,-198.5587 430.801,-186.9148\"/>\n<polygon fill=\"#000000\" stroke=\"#000000\" points=\"433.4741,-189.2065 438.3782,-179.8149 428.6879,-184.0985 433.4741,-189.2065\"/>\n</g>\n<!-- 6 -->\n<g id=\"node7\" class=\"node\">\n<title>6</title>\n<polygon fill=\"#399de5\" stroke=\"#000000\" points=\"340,-68 216,-68 216,0 340,0 340,-68\"/>\n<text text-anchor=\"middle\" x=\"278\" y=\"-52.8\" font-family=\"Helvetica,sans-Serif\" font-size=\"14.00\" fill=\"#000000\">gini = 0.0</text>\n<text text-anchor=\"middle\" x=\"278\" y=\"-37.8\" font-family=\"Helvetica,sans-Serif\" font-size=\"14.00\" fill=\"#000000\">samples = 1013</text>\n<text text-anchor=\"middle\" x=\"278\" y=\"-22.8\" font-family=\"Helvetica,sans-Serif\" font-size=\"14.00\" fill=\"#000000\">value = [0, 1013]</text>\n<text text-anchor=\"middle\" x=\"278\" y=\"-7.8\" font-family=\"Helvetica,sans-Serif\" font-size=\"14.00\" fill=\"#000000\">class = 1</text>\n</g>\n<!-- 5&#45;&gt;6 -->\n<g id=\"edge6\" class=\"edge\">\n<title>5&#45;&gt;6</title>\n<path fill=\"none\" stroke=\"#000000\" d=\"M318.7964,-103.9815C313.6529,-95.1585 308.2123,-85.8258 303.0384,-76.9506\"/>\n<polygon fill=\"#000000\" stroke=\"#000000\" points=\"306.0344,-75.1402 297.9743,-68.2637 299.987,-78.6656 306.0344,-75.1402\"/>\n</g>\n<!-- 7 -->\n<g id=\"node8\" class=\"node\">\n<title>7</title>\n<polygon fill=\"#e58139\" stroke=\"#000000\" points=\"457.5,-68 358.5,-68 358.5,0 457.5,0 457.5,-68\"/>\n<text text-anchor=\"middle\" x=\"408\" y=\"-52.8\" font-family=\"Helvetica,sans-Serif\" font-size=\"14.00\" fill=\"#000000\">gini = 0.0</text>\n<text text-anchor=\"middle\" x=\"408\" y=\"-37.8\" font-family=\"Helvetica,sans-Serif\" font-size=\"14.00\" fill=\"#000000\">samples = 1</text>\n<text text-anchor=\"middle\" x=\"408\" y=\"-22.8\" font-family=\"Helvetica,sans-Serif\" font-size=\"14.00\" fill=\"#000000\">value = [1, 0]</text>\n<text text-anchor=\"middle\" x=\"408\" y=\"-7.8\" font-family=\"Helvetica,sans-Serif\" font-size=\"14.00\" fill=\"#000000\">class = 0</text>\n</g>\n<!-- 5&#45;&gt;7 -->\n<g id=\"edge7\" class=\"edge\">\n<title>5&#45;&gt;7</title>\n<path fill=\"none\" stroke=\"#000000\" d=\"M367.2036,-103.9815C372.3471,-95.1585 377.7877,-85.8258 382.9616,-76.9506\"/>\n<polygon fill=\"#000000\" stroke=\"#000000\" points=\"386.013,-78.6656 388.0257,-68.2637 379.9656,-75.1402 386.013,-78.6656\"/>\n</g>\n</g>\n</svg>\n"
          },
          "metadata": {},
          "execution_count": 29
        }
      ]
    },
    {
      "cell_type": "code",
      "source": [
        "y_hatTree = modelTree.predict(x_test)"
      ],
      "metadata": {
        "id": "NBmfxQfw2hQj"
      },
      "execution_count": null,
      "outputs": []
    },
    {
      "cell_type": "markdown",
      "source": [
        "Resultados: Accuracy y Matriz de confusión"
      ],
      "metadata": {
        "id": "1PQ6DKo73qfZ"
      }
    },
    {
      "cell_type": "code",
      "source": [
        "print(accuracy_score(y_hatTree,y_test))\n",
        "print(confusion_matrix(y_hatTree,y_test))"
      ],
      "metadata": {
        "colab": {
          "base_uri": "https://localhost:8080/"
        },
        "id": "wwCns-cL2n8a",
        "outputId": "baed4029-9d88-4a35-cc0c-b5e709416299"
      },
      "execution_count": null,
      "outputs": [
        {
          "output_type": "stream",
          "name": "stdout",
          "text": [
            "0.9996666666666667\n",
            "[[5582    0]\n",
            " [   2  416]]\n"
          ]
        }
      ]
    },
    {
      "cell_type": "markdown",
      "source": [
        "#PREGUNTA 5\n",
        "PREGUNTA: Emita conclusiones finales respecto al resultado de su experimentación con el\n",
        "dataset.\n",
        "\n",
        "RESPUESTA: \n",
        "Primero, pudimos observar que el dataset está sesgado, por la diferencia de distribución en la columna \"funny?\", puesto que hay muchos 0 y pocos 1.\n",
        "\n",
        "Segundo, al aplicarle los 3 tipos de distancia (euclidiana, manhatam y coseno) pudimos observar que la distancia manhatam obtuvo mejores resultados.\n",
        "\n",
        "Tercero, el mejor algoritmo para este dataset son los arboles de decision, porque obtuvo resultamos muy buenos y superiores a los de knn.\n",
        "\n",
        "Cuarto, en cuanto a la limpieza de datos, una recomendación que se pudo hacer es disminuir las columnas, puesto que se pudo aplicar stemmers al momento de tokenizar, pero como aumenta bastante la complejidad, se decidió no acerlo)"
      ],
      "metadata": {
        "id": "I-aLt8v64hsi"
      }
    }
  ]
}