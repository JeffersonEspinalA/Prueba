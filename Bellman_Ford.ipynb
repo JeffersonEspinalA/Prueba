{
  "nbformat": 4,
  "nbformat_minor": 0,
  "metadata": {
    "colab": {
      "name": "Bellman Ford.ipynb",
      "provenance": [],
      "authorship_tag": "ABX9TyM33wh5Qb4UnbLghCDcHKA0",
      "include_colab_link": true
    },
    "kernelspec": {
      "name": "python3",
      "display_name": "Python 3"
    },
    "language_info": {
      "name": "python"
    }
  },
  "cells": [
    {
      "cell_type": "markdown",
      "metadata": {
        "id": "view-in-github",
        "colab_type": "text"
      },
      "source": [
        "<a href=\"https://colab.research.google.com/github/JeffersonEspinalA/Prueba/blob/main/Bellman_Ford.ipynb\" target=\"_parent\"><img src=\"https://colab.research.google.com/assets/colab-badge.svg\" alt=\"Open In Colab\"/></a>"
      ]
    },
    {
      "cell_type": "code",
      "execution_count": 1,
      "metadata": {
        "id": "b0Yfz10JL-Td"
      },
      "outputs": [],
      "source": [
        "import math"
      ]
    },
    {
      "cell_type": "code",
      "source": [
        "def bellmanFord(G, s): # return the path pi and whether or not a negative cycle exists\n",
        "  n = len(G)\n",
        "  pi = [-1]*n\n",
        "  g = [math.inf]*n\n",
        "  g[s] = 0\n",
        "\n",
        "  for _ in range(n-1):\n",
        "    for u in range(n):\n",
        "      for v, w in G[u]:\n",
        "        f = g[u] + w\n",
        "        if f < g[v]:\n",
        "          g[v] = f\n",
        "          pi[v] = u\n",
        "  \n",
        "  for u in range(n):\n",
        "    for v, w in G[u]:\n",
        "      f = g[u] + w\n",
        "      if f < g[v]:\n",
        "        return None\n",
        "  \n",
        "  return pi"
      ],
      "metadata": {
        "id": "EtUcQx-LM9st"
      },
      "execution_count": 3,
      "outputs": []
    },
    {
      "cell_type": "code",
      "source": [
        ""
      ],
      "metadata": {
        "id": "hDn0KVZsNwco"
      },
      "execution_count": null,
      "outputs": []
    }
  ]
}