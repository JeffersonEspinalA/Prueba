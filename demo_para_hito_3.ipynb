{
  "nbformat": 4,
  "nbformat_minor": 0,
  "metadata": {
    "colab": {
      "name": "demo para hito 3.ipynb",
      "provenance": [],
      "authorship_tag": "ABX9TyN3c4PkkhZnz9qSTi+Wmvrj",
      "include_colab_link": true
    },
    "kernelspec": {
      "name": "python3",
      "display_name": "Python 3"
    },
    "language_info": {
      "name": "python"
    }
  },
  "cells": [
    {
      "cell_type": "markdown",
      "metadata": {
        "id": "view-in-github",
        "colab_type": "text"
      },
      "source": [
        "<a href=\"https://colab.research.google.com/github/JeffersonEspinalA/Prueba/blob/main/demo_para_hito_3.ipynb\" target=\"_parent\"><img src=\"https://colab.research.google.com/assets/colab-badge.svg\" alt=\"Open In Colab\"/></a>"
      ]
    },
    {
      "cell_type": "code",
      "execution_count": 3,
      "metadata": {
        "id": "tC1TtskcUppP"
      },
      "outputs": [],
      "source": [
        "import heapq as hq\n",
        "import numpy as np\n",
        "import graphviz as gv\n",
        "import math"
      ]
    },
    {
      "cell_type": "code",
      "source": [
        "def dijkstra(G, s, e):\n",
        "  n = len(G)\n",
        "  visited = [False]*n\n",
        "  path = [-1]*n\n",
        "  cost = [math.inf]*n\n",
        "\n",
        "  cost[s] = 0\n",
        "  pqueue = [(0, s)]\n",
        "  while pqueue:\n",
        "    g, u = hq.heappop(pqueue)\n",
        "    if u == e:\n",
        "      break\n",
        "    if not visited[u]:\n",
        "      visited[u] = True\n",
        "      for v, w in G[u]:\n",
        "        if not visited[v]:\n",
        "          f = g + w\n",
        "          if f < cost[v]:\n",
        "            cost[v] = f\n",
        "            path[v] = u\n",
        "            hq.heappush(pqueue, (f, v))\n",
        "  p.append(path)\n",
        "  return path, cost"
      ],
      "metadata": {
        "id": "NtC1bbM_XCgU"
      },
      "execution_count": 4,
      "outputs": []
    },
    {
      "cell_type": "code",
      "source": [
        "%%file 0502.al\n",
        "1 2 3 2 4 9\n",
        "0 2 2 1 3 2 5 2\n",
        "1 1 4 2 6 2\n",
        "0 2 1 2 5 9 7 3\n",
        "0 9 2 2 7 8\n",
        "1 2 3 9 6 7\n",
        "2 2 5 7 7 3\n",
        "3 3 4 8 6 3"
      ],
      "metadata": {
        "colab": {
          "base_uri": "https://localhost:8080/"
        },
        "id": "MjNiKnJwXKIT",
        "outputId": "5307bcc6-81e9-421b-8ad7-6cbf631ed148"
      },
      "execution_count": 5,
      "outputs": [
        {
          "output_type": "stream",
          "name": "stdout",
          "text": [
            "Overwriting 0502.al\n"
          ]
        }
      ]
    },
    {
      "cell_type": "code",
      "source": [
        "with open(\"0502.al\") as f:\n",
        "  G = []\n",
        "  for line in f:\n",
        "    nums = [int(x) for x in line.split()]\n",
        "    G.append([])\n",
        "    for i in range(0, len(nums), 2):\n",
        "      G[-1].append((nums[i], nums[i+1]))\n",
        "\n",
        "for x in G:\n",
        "  print(x)"
      ],
      "metadata": {
        "colab": {
          "base_uri": "https://localhost:8080/"
        },
        "id": "xiZyGbkyXP1n",
        "outputId": "9b02c92e-913f-47c9-e676-53b5e6635cfa"
      },
      "execution_count": 6,
      "outputs": [
        {
          "output_type": "stream",
          "name": "stdout",
          "text": [
            "[(1, 2), (3, 2), (4, 9)]\n",
            "[(0, 2), (2, 1), (3, 2), (5, 2)]\n",
            "[(1, 1), (4, 2), (6, 2)]\n",
            "[(0, 2), (1, 2), (5, 9), (7, 3)]\n",
            "[(0, 9), (2, 2), (7, 8)]\n",
            "[(1, 2), (3, 9), (6, 7)]\n",
            "[(2, 2), (5, 7), (7, 3)]\n",
            "[(3, 3), (4, 8), (6, 3)]\n"
          ]
        }
      ]
    },
    {
      "cell_type": "code",
      "source": [
        "def drawG_al(G, directed=False, weighted=False, path=[], layout=\"sfdp\"):\n",
        "  graph = gv.Digraph(\"felicidad\") if directed else gv.Graph(\"alegria\")\n",
        "  graph.graph_attr[\"layout\"] = layout\n",
        "  graph.edge_attr[\"color\"] = \"gray\"\n",
        "  graph.node_attr[\"color\"] = \"orangered\"\n",
        "  graph.node_attr[\"width\"] = \"0.1\"\n",
        "  graph.node_attr[\"height\"] = \"0.1\"\n",
        "  graph.node_attr[\"fontsize\"] = \"8\"\n",
        "  graph.node_attr[\"fontcolor\"] = \"mediumslateblue\"\n",
        "  graph.node_attr[\"fontname\"] = \"monospace\"\n",
        "  graph.edge_attr[\"fontsize\"] = \"8\"\n",
        "  graph.edge_attr[\"fontname\"] = \"monospace\"\n",
        "  n = len(G)\n",
        "  added = set()\n",
        "  for v, u in enumerate(path):\n",
        "    if u != -1:\n",
        "      if weighted:\n",
        "        for vi, w in G[u]:\n",
        "          if vi == v:\n",
        "            break\n",
        "        graph.edge(str(u), str(v), str(w), dir=\"forward\", penwidth=\"2\", color=\"orange\")\n",
        "      else:\n",
        "        graph.edge(str(u), str(v), dir=\"forward\", penwidth=\"2\", color=\"orange\")\n",
        "      added.add(f\"{u},{v}\")\n",
        "      added.add(f\"{v},{u}\")\n",
        "  for u in range(n):\n",
        "    for v, w in G[u]:\n",
        "      draw = False\n",
        "      if not directed and not f\"{u},{v}\" in added:  \n",
        "        added.add(f\"{u},{v}\")\n",
        "        added.add(f\"{v},{u}\")\n",
        "        draw = True\n",
        "      elif directed:\n",
        "        draw = True\n",
        "      if draw:\n",
        "        if weighted:\n",
        "          graph.edge(str(u), str(v), str(w))\n",
        "        else:\n",
        "          graph.edge(str(u), str(v))\n",
        "  return graph"
      ],
      "metadata": {
        "id": "aZw8MvaIatqD"
      },
      "execution_count": 7,
      "outputs": []
    },
    {
      "cell_type": "code",
      "source": [
        "drawG_al(G, weighted=True)"
      ],
      "metadata": {
        "colab": {
          "base_uri": "https://localhost:8080/",
          "height": 358
        },
        "id": "WpBW-_TZALi2",
        "outputId": "57f6a4b1-9562-4b2d-bb12-1c1883014d0c"
      },
      "execution_count": 8,
      "outputs": [
        {
          "output_type": "execute_result",
          "data": {
            "text/plain": [
              "<graphviz.dot.Graph at 0x7f986b26dd50>"
            ],
            "image/svg+xml": "<?xml version=\"1.0\" encoding=\"UTF-8\" standalone=\"no\"?>\n<!DOCTYPE svg PUBLIC \"-//W3C//DTD SVG 1.1//EN\"\n \"http://www.w3.org/Graphics/SVG/1.1/DTD/svg11.dtd\">\n<!-- Generated by graphviz version 2.40.1 (20161225.0304)\n -->\n<!-- Title: alegria Pages: 1 -->\n<svg width=\"347pt\" height=\"253pt\"\n viewBox=\"0.00 0.00 347.31 253.46\" xmlns=\"http://www.w3.org/2000/svg\" xmlns:xlink=\"http://www.w3.org/1999/xlink\">\n<g id=\"graph0\" class=\"graph\" transform=\"scale(1 1) rotate(0) translate(4 249.4644)\">\n<title>alegria</title>\n<polygon fill=\"#ffffff\" stroke=\"transparent\" points=\"-4,4 -4,-249.4644 343.3134,-249.4644 343.3134,4 -4,4\"/>\n<!-- 0 -->\n<g id=\"node1\" class=\"node\">\n<title>0</title>\n<ellipse fill=\"none\" stroke=\"#ff4500\" cx=\"323.7571\" cy=\"-112.4458\" rx=\"15.6129\" ry=\"12.0417\"/>\n<text text-anchor=\"middle\" x=\"323.7571\" y=\"-110.5458\" font-family=\"monospace\" font-size=\"8.00\" fill=\"#7b68ee\">0</text>\n</g>\n<!-- 1 -->\n<g id=\"node2\" class=\"node\">\n<title>1</title>\n<ellipse fill=\"none\" stroke=\"#ff4500\" cx=\"236.6867\" cy=\"-71.9394\" rx=\"15.6129\" ry=\"12.0417\"/>\n<text text-anchor=\"middle\" x=\"236.6867\" y=\"-70.0394\" font-family=\"monospace\" font-size=\"8.00\" fill=\"#7b68ee\">1</text>\n</g>\n<!-- 0&#45;&#45;1 -->\n<g id=\"edge1\" class=\"edge\">\n<title>0&#45;&#45;1</title>\n<path fill=\"none\" stroke=\"#c0c0c0\" d=\"M310.1523,-106.1167C293.7948,-98.5069 266.5108,-85.814 250.1959,-78.224\"/>\n<text text-anchor=\"middle\" x=\"277.1741\" y=\"-94.7704\" font-family=\"monospace\" font-size=\"8.00\" fill=\"#000000\">2</text>\n</g>\n<!-- 3 -->\n<g id=\"node3\" class=\"node\">\n<title>3</title>\n<ellipse fill=\"none\" stroke=\"#ff4500\" cx=\"248.1854\" cy=\"-209.2029\" rx=\"15.6129\" ry=\"12.0417\"/>\n<text text-anchor=\"middle\" x=\"248.1854\" y=\"-207.3029\" font-family=\"monospace\" font-size=\"8.00\" fill=\"#7b68ee\">3</text>\n</g>\n<!-- 0&#45;&#45;3 -->\n<g id=\"edge2\" class=\"edge\">\n<title>0&#45;&#45;3</title>\n<path fill=\"none\" stroke=\"#c0c0c0\" d=\"M315.6696,-122.8005C301.2003,-141.326 271.0358,-179.9468 256.4439,-198.6293\"/>\n<text text-anchor=\"middle\" x=\"283.0567\" y=\"-163.3149\" font-family=\"monospace\" font-size=\"8.00\" fill=\"#000000\">2</text>\n</g>\n<!-- 4 -->\n<g id=\"node4\" class=\"node\">\n<title>4</title>\n<ellipse fill=\"none\" stroke=\"#ff4500\" cx=\"164.9609\" cy=\"-88.2635\" rx=\"15.6129\" ry=\"12.0417\"/>\n<text text-anchor=\"middle\" x=\"164.9609\" y=\"-86.3635\" font-family=\"monospace\" font-size=\"8.00\" fill=\"#7b68ee\">4</text>\n</g>\n<!-- 0&#45;&#45;4 -->\n<g id=\"edge3\" class=\"edge\">\n<title>0&#45;&#45;4</title>\n<path fill=\"none\" stroke=\"#c0c0c0\" d=\"M308.2419,-110.0831C277.8057,-105.4481 210.6033,-95.2142 180.3053,-90.6002\"/>\n<text text-anchor=\"middle\" x=\"241.2736\" y=\"-102.9417\" font-family=\"monospace\" font-size=\"8.00\" fill=\"#000000\">9</text>\n</g>\n<!-- 1&#45;&#45;3 -->\n<g id=\"edge5\" class=\"edge\">\n<title>1&#45;&#45;3</title>\n<path fill=\"none\" stroke=\"#c0c0c0\" d=\"M237.7071,-84.1206C239.8837,-110.1031 244.9616,-170.7188 247.1508,-196.8516\"/>\n<text text-anchor=\"middle\" x=\"239.4289\" y=\"-143.0861\" font-family=\"monospace\" font-size=\"8.00\" fill=\"#000000\">2</text>\n</g>\n<!-- 2 -->\n<g id=\"node5\" class=\"node\">\n<title>2</title>\n<ellipse fill=\"none\" stroke=\"#ff4500\" cx=\"89.9806\" cy=\"-12.0208\" rx=\"15.6129\" ry=\"12.0417\"/>\n<text text-anchor=\"middle\" x=\"89.9806\" y=\"-10.1208\" font-family=\"monospace\" font-size=\"8.00\" fill=\"#7b68ee\">2</text>\n</g>\n<!-- 1&#45;&#45;2 -->\n<g id=\"edge4\" class=\"edge\">\n<title>1&#45;&#45;2</title>\n<path fill=\"none\" stroke=\"#c0c0c0\" d=\"M222.8849,-66.3024C194.924,-54.8824 131.8721,-29.1304 103.8525,-17.6865\"/>\n<text text-anchor=\"middle\" x=\"160.3687\" y=\"-44.5944\" font-family=\"monospace\" font-size=\"8.00\" fill=\"#000000\">1</text>\n</g>\n<!-- 5 -->\n<g id=\"node6\" class=\"node\">\n<title>5</title>\n<ellipse fill=\"none\" stroke=\"#ff4500\" cx=\"147.8016\" cy=\"-174.3809\" rx=\"15.6129\" ry=\"12.0417\"/>\n<text text-anchor=\"middle\" x=\"147.8016\" y=\"-172.4809\" font-family=\"monospace\" font-size=\"8.00\" fill=\"#7b68ee\">5</text>\n</g>\n<!-- 1&#45;&#45;5 -->\n<g id=\"edge6\" class=\"edge\">\n<title>1&#45;&#45;5</title>\n<path fill=\"none\" stroke=\"#c0c0c0\" d=\"M227.8391,-82.1364C210.8016,-101.7723 173.6227,-144.6217 156.6135,-164.2252\"/>\n<text text-anchor=\"middle\" x=\"189.2263\" y=\"-125.7808\" font-family=\"monospace\" font-size=\"8.00\" fill=\"#000000\">2</text>\n</g>\n<!-- 3&#45;&#45;5 -->\n<g id=\"edge9\" class=\"edge\">\n<title>3&#45;&#45;5</title>\n<path fill=\"none\" stroke=\"#c0c0c0\" d=\"M233.8029,-204.2137C214.7199,-197.5941 181.227,-185.9758 162.1575,-179.3608\"/>\n<text text-anchor=\"middle\" x=\"194.9802\" y=\"-194.3873\" font-family=\"monospace\" font-size=\"8.00\" fill=\"#000000\">9</text>\n</g>\n<!-- 7 -->\n<g id=\"node8\" class=\"node\">\n<title>7</title>\n<ellipse fill=\"none\" stroke=\"#ff4500\" cx=\"98.8792\" cy=\"-233.4435\" rx=\"15.6129\" ry=\"12.0417\"/>\n<text text-anchor=\"middle\" x=\"98.8792\" y=\"-231.5435\" font-family=\"monospace\" font-size=\"8.00\" fill=\"#7b68ee\">7</text>\n</g>\n<!-- 3&#45;&#45;7 -->\n<g id=\"edge10\" class=\"edge\">\n<title>3&#45;&#45;7</title>\n<path fill=\"none\" stroke=\"#c0c0c0\" d=\"M232.7694,-211.7058C204.1588,-216.3508 143.1508,-226.2558 114.435,-230.918\"/>\n<text text-anchor=\"middle\" x=\"170.6022\" y=\"-223.9119\" font-family=\"monospace\" font-size=\"8.00\" fill=\"#000000\">3</text>\n</g>\n<!-- 4&#45;&#45;7 -->\n<g id=\"edge11\" class=\"edge\">\n<title>4&#45;&#45;7</title>\n<path fill=\"none\" stroke=\"#c0c0c0\" d=\"M159.7756,-99.6555C147.4834,-126.6611 116.6745,-194.3475 104.2239,-221.7012\"/>\n<text text-anchor=\"middle\" x=\"128.9998\" y=\"-163.2783\" font-family=\"monospace\" font-size=\"8.00\" fill=\"#000000\">8</text>\n</g>\n<!-- 2&#45;&#45;4 -->\n<g id=\"edge7\" class=\"edge\">\n<title>2&#45;&#45;4</title>\n<path fill=\"none\" stroke=\"#c0c0c0\" d=\"M99.4769,-21.677C113.8209,-36.2625 140.8672,-63.7642 155.3049,-78.4449\"/>\n<text text-anchor=\"middle\" x=\"124.3909\" y=\"-52.6609\" font-family=\"monospace\" font-size=\"8.00\" fill=\"#000000\">2</text>\n</g>\n<!-- 6 -->\n<g id=\"node7\" class=\"node\">\n<title>6</title>\n<ellipse fill=\"none\" stroke=\"#ff4500\" cx=\"15.5563\" cy=\"-135.9589\" rx=\"15.6129\" ry=\"12.0417\"/>\n<text text-anchor=\"middle\" x=\"15.5563\" y=\"-134.0589\" font-family=\"monospace\" font-size=\"8.00\" fill=\"#7b68ee\">6</text>\n</g>\n<!-- 2&#45;&#45;6 -->\n<g id=\"edge8\" class=\"edge\">\n<title>2&#45;&#45;6</title>\n<path fill=\"none\" stroke=\"#c0c0c0\" d=\"M83.3759,-23.0195C69.2882,-46.4796 36.4224,-101.2108 22.2532,-124.8067\"/>\n<text text-anchor=\"middle\" x=\"49.8145\" y=\"-76.5131\" font-family=\"monospace\" font-size=\"8.00\" fill=\"#000000\">2</text>\n</g>\n<!-- 5&#45;&#45;6 -->\n<g id=\"edge12\" class=\"edge\">\n<title>5&#45;&#45;6</title>\n<path fill=\"none\" stroke=\"#c0c0c0\" d=\"M133.1438,-170.1223C107.7235,-162.7368 55.7458,-147.6354 30.2798,-140.2366\"/>\n<text text-anchor=\"middle\" x=\"78.7118\" y=\"-157.7794\" font-family=\"monospace\" font-size=\"8.00\" fill=\"#000000\">7</text>\n</g>\n<!-- 6&#45;&#45;7 -->\n<g id=\"edge13\" class=\"edge\">\n<title>6&#45;&#45;7</title>\n<path fill=\"none\" stroke=\"#c0c0c0\" d=\"M24.1595,-146.0243C40.1261,-164.7046 74.1726,-204.5378 90.198,-223.2869\"/>\n<text text-anchor=\"middle\" x=\"54.1787\" y=\"-187.2556\" font-family=\"monospace\" font-size=\"8.00\" fill=\"#000000\">3</text>\n</g>\n</g>\n</svg>\n"
          },
          "metadata": {},
          "execution_count": 8
        }
      ]
    },
    {
      "cell_type": "code",
      "source": [
        "p = []\n",
        "path, cost = dijkstra(G, 1, 2)\n",
        "print(path)\n",
        "print(cost[2])\n",
        "drawG_al(G, weighted=True, path=path)"
      ],
      "metadata": {
        "colab": {
          "base_uri": "https://localhost:8080/",
          "height": 395
        },
        "id": "RCrHr_TSXmWI",
        "outputId": "7383b95c-597d-43f7-bac2-7aa0ec1bcba3"
      },
      "execution_count": 23,
      "outputs": [
        {
          "output_type": "stream",
          "name": "stdout",
          "text": [
            "[1, -1, 1, 1, -1, 1, -1, -1]\n",
            "1\n"
          ]
        },
        {
          "output_type": "execute_result",
          "data": {
            "text/plain": [
              "<graphviz.dot.Graph at 0x7f98631dda10>"
            ],
            "image/svg+xml": "<?xml version=\"1.0\" encoding=\"UTF-8\" standalone=\"no\"?>\n<!DOCTYPE svg PUBLIC \"-//W3C//DTD SVG 1.1//EN\"\n \"http://www.w3.org/Graphics/SVG/1.1/DTD/svg11.dtd\">\n<!-- Generated by graphviz version 2.40.1 (20161225.0304)\n -->\n<!-- Title: alegria Pages: 1 -->\n<svg width=\"347pt\" height=\"253pt\"\n viewBox=\"0.00 0.00 347.32 253.33\" xmlns=\"http://www.w3.org/2000/svg\" xmlns:xlink=\"http://www.w3.org/1999/xlink\">\n<g id=\"graph0\" class=\"graph\" transform=\"scale(1 1) rotate(0) translate(4 249.3281)\">\n<title>alegria</title>\n<polygon fill=\"#ffffff\" stroke=\"transparent\" points=\"-4,4 -4,-249.3281 343.3159,-249.3281 343.3159,4 -4,4\"/>\n<!-- 1 -->\n<g id=\"node1\" class=\"node\">\n<title>1</title>\n<ellipse fill=\"none\" stroke=\"#ff4500\" cx=\"248.294\" cy=\"-209.2779\" rx=\"15.6129\" ry=\"12.0417\"/>\n<text text-anchor=\"middle\" x=\"248.294\" y=\"-207.3779\" font-family=\"monospace\" font-size=\"8.00\" fill=\"#7b68ee\">1</text>\n</g>\n<!-- 0 -->\n<g id=\"node2\" class=\"node\">\n<title>0</title>\n<ellipse fill=\"none\" stroke=\"#ff4500\" cx=\"148.1072\" cy=\"-174.7865\" rx=\"15.6129\" ry=\"12.0417\"/>\n<text text-anchor=\"middle\" x=\"148.1072\" y=\"-172.8865\" font-family=\"monospace\" font-size=\"8.00\" fill=\"#7b68ee\">0</text>\n</g>\n<!-- 1&#45;&#45;0 -->\n<g id=\"edge1\" class=\"edge\">\n<title>1&#45;&#45;0</title>\n<path fill=\"none\" stroke=\"#ffa500\" stroke-width=\"2\" d=\"M233.9397,-204.3361C217.7957,-198.7782 191.3181,-189.6627 172.0337,-183.0237\"/>\n<polygon fill=\"#ffa500\" stroke=\"#ffa500\" stroke-width=\"2\" points=\"173.0296,-179.665 162.4349,-179.7191 170.7509,-186.2837 173.0296,-179.665\"/>\n<text text-anchor=\"middle\" x=\"199.9867\" y=\"-196.2799\" font-family=\"monospace\" font-size=\"8.00\" fill=\"#000000\">2</text>\n</g>\n<!-- 2 -->\n<g id=\"node3\" class=\"node\">\n<title>2</title>\n<ellipse fill=\"none\" stroke=\"#ff4500\" cx=\"98.8259\" cy=\"-233.3073\" rx=\"15.6129\" ry=\"12.0417\"/>\n<text text-anchor=\"middle\" x=\"98.8259\" y=\"-231.4073\" font-family=\"monospace\" font-size=\"8.00\" fill=\"#7b68ee\">2</text>\n</g>\n<!-- 1&#45;&#45;2 -->\n<g id=\"edge2\" class=\"edge\">\n<title>1&#45;&#45;2</title>\n<path fill=\"none\" stroke=\"#ffa500\" stroke-width=\"2\" d=\"M232.8613,-211.759C207.2404,-215.8779 155.6676,-224.1691 124.4971,-229.1802\"/>\n<polygon fill=\"#ffa500\" stroke=\"#ffa500\" stroke-width=\"2\" points=\"123.7163,-225.7607 114.3986,-230.8037 124.8274,-232.672 123.7163,-225.7607\"/>\n<text text-anchor=\"middle\" x=\"175.6792\" y=\"-223.0696\" font-family=\"monospace\" font-size=\"8.00\" fill=\"#000000\">1</text>\n</g>\n<!-- 3 -->\n<g id=\"node4\" class=\"node\">\n<title>3</title>\n<ellipse fill=\"none\" stroke=\"#ff4500\" cx=\"236.8069\" cy=\"-72.1819\" rx=\"15.6129\" ry=\"12.0417\"/>\n<text text-anchor=\"middle\" x=\"236.8069\" y=\"-70.2819\" font-family=\"monospace\" font-size=\"8.00\" fill=\"#7b68ee\">3</text>\n</g>\n<!-- 1&#45;&#45;3 -->\n<g id=\"edge3\" class=\"edge\">\n<title>1&#45;&#45;3</title>\n<path fill=\"none\" stroke=\"#ffa500\" stroke-width=\"2\" d=\"M247.2746,-197.1115C245.3465,-174.1005 241.1396,-123.8916 238.6864,-94.6138\"/>\n<polygon fill=\"#ffa500\" stroke=\"#ffa500\" stroke-width=\"2\" points=\"242.1633,-94.1909 237.8405,-84.5181 235.1878,-94.7754 242.1633,-94.1909\"/>\n<text text-anchor=\"middle\" x=\"239.9805\" y=\"-148.4627\" font-family=\"monospace\" font-size=\"8.00\" fill=\"#000000\">2</text>\n</g>\n<!-- 5 -->\n<g id=\"node5\" class=\"node\">\n<title>5</title>\n<ellipse fill=\"none\" stroke=\"#ff4500\" cx=\"323.7595\" cy=\"-112.3377\" rx=\"15.6129\" ry=\"12.0417\"/>\n<text text-anchor=\"middle\" x=\"323.7595\" y=\"-110.4377\" font-family=\"monospace\" font-size=\"8.00\" fill=\"#7b68ee\">5</text>\n</g>\n<!-- 1&#45;&#45;5 -->\n<g id=\"edge4\" class=\"edge\">\n<title>1&#45;&#45;5</title>\n<path fill=\"none\" stroke=\"#ffa500\" stroke-width=\"2\" d=\"M256.3701,-198.9036C268.9565,-182.7356 293.4358,-151.2904 309.1693,-131.0797\"/>\n<polygon fill=\"#ffa500\" stroke=\"#ffa500\" stroke-width=\"2\" points=\"312.1316,-132.9722 315.5127,-122.9313 306.608,-128.6721 312.1316,-132.9722\"/>\n<text text-anchor=\"middle\" x=\"279.7697\" y=\"-167.5917\" font-family=\"monospace\" font-size=\"8.00\" fill=\"#000000\">2</text>\n</g>\n<!-- 0&#45;&#45;3 -->\n<g id=\"edge5\" class=\"edge\">\n<title>0&#45;&#45;3</title>\n<path fill=\"none\" stroke=\"#c0c0c0\" d=\"M156.9364,-164.5732C173.9383,-144.906 211.0397,-101.9884 228.0134,-82.3538\"/>\n<text text-anchor=\"middle\" x=\"189.4749\" y=\"-126.0635\" font-family=\"monospace\" font-size=\"8.00\" fill=\"#000000\">2</text>\n</g>\n<!-- 4 -->\n<g id=\"node6\" class=\"node\">\n<title>4</title>\n<ellipse fill=\"none\" stroke=\"#ff4500\" cx=\"15.5563\" cy=\"-135.9805\" rx=\"15.6129\" ry=\"12.0417\"/>\n<text text-anchor=\"middle\" x=\"15.5563\" y=\"-134.0805\" font-family=\"monospace\" font-size=\"8.00\" fill=\"#7b68ee\">4</text>\n</g>\n<!-- 0&#45;&#45;4 -->\n<g id=\"edge6\" class=\"edge\">\n<title>0&#45;&#45;4</title>\n<path fill=\"none\" stroke=\"#c0c0c0\" d=\"M133.4155,-170.4853C107.9365,-163.026 55.8386,-147.7737 30.3139,-140.301\"/>\n<text text-anchor=\"middle\" x=\"78.8647\" y=\"-157.9931\" font-family=\"monospace\" font-size=\"8.00\" fill=\"#000000\">9</text>\n</g>\n<!-- 2&#45;&#45;4 -->\n<g id=\"edge7\" class=\"edge\">\n<title>2&#45;&#45;4</title>\n<path fill=\"none\" stroke=\"#c0c0c0\" d=\"M90.2282,-223.2582C74.2718,-204.6081 40.2471,-164.8394 24.232,-146.1208\"/>\n<text text-anchor=\"middle\" x=\"54.2301\" y=\"-187.2895\" font-family=\"monospace\" font-size=\"8.00\" fill=\"#000000\">2</text>\n</g>\n<!-- 6 -->\n<g id=\"node7\" class=\"node\">\n<title>6</title>\n<ellipse fill=\"none\" stroke=\"#ff4500\" cx=\"165.1412\" cy=\"-88.3996\" rx=\"15.6129\" ry=\"12.0417\"/>\n<text text-anchor=\"middle\" x=\"165.1412\" y=\"-86.4996\" font-family=\"monospace\" font-size=\"8.00\" fill=\"#7b68ee\">6</text>\n</g>\n<!-- 2&#45;&#45;6 -->\n<g id=\"edge8\" class=\"edge\">\n<title>2&#45;&#45;6</title>\n<path fill=\"none\" stroke=\"#c0c0c0\" d=\"M104.0295,-221.9366C116.3651,-194.9817 147.283,-127.4222 159.7776,-100.1199\"/>\n<text text-anchor=\"middle\" x=\"128.9036\" y=\"-163.6283\" font-family=\"monospace\" font-size=\"8.00\" fill=\"#000000\">2</text>\n</g>\n<!-- 3&#45;&#45;5 -->\n<g id=\"edge9\" class=\"edge\">\n<title>3&#45;&#45;5</title>\n<path fill=\"none\" stroke=\"#c0c0c0\" d=\"M250.3932,-78.4562C266.7287,-86.0002 293.9757,-98.5832 310.2686,-106.1074\"/>\n<text text-anchor=\"middle\" x=\"277.3309\" y=\"-94.8818\" font-family=\"monospace\" font-size=\"8.00\" fill=\"#000000\">9</text>\n</g>\n<!-- 7 -->\n<g id=\"node8\" class=\"node\">\n<title>7</title>\n<ellipse fill=\"none\" stroke=\"#ff4500\" cx=\"90.042\" cy=\"-12.0208\" rx=\"15.6129\" ry=\"12.0417\"/>\n<text text-anchor=\"middle\" x=\"90.042\" y=\"-10.1208\" font-family=\"monospace\" font-size=\"8.00\" fill=\"#7b68ee\">7</text>\n</g>\n<!-- 3&#45;&#45;7 -->\n<g id=\"edge10\" class=\"edge\">\n<title>3&#45;&#45;7</title>\n<path fill=\"none\" stroke=\"#c0c0c0\" d=\"M222.9996,-66.5221C195.0274,-55.0559 131.9503,-29.1997 103.9195,-17.7094\"/>\n<text text-anchor=\"middle\" x=\"160.4595\" y=\"-44.7158\" font-family=\"monospace\" font-size=\"8.00\" fill=\"#000000\">3</text>\n</g>\n<!-- 5&#45;&#45;6 -->\n<g id=\"edge12\" class=\"edge\">\n<title>5&#45;&#45;6</title>\n<path fill=\"none\" stroke=\"#c0c0c0\" d=\"M308.2617,-109.9988C277.8596,-105.4106 210.7325,-95.2801 180.4684,-90.7127\"/>\n<text text-anchor=\"middle\" x=\"241.3651\" y=\"-102.9558\" font-family=\"monospace\" font-size=\"8.00\" fill=\"#000000\">7</text>\n</g>\n<!-- 4&#45;&#45;7 -->\n<g id=\"edge11\" class=\"edge\">\n<title>4&#45;&#45;7</title>\n<path fill=\"none\" stroke=\"#c0c0c0\" d=\"M22.1665,-124.9799C36.2658,-101.5157 69.1587,-46.7749 83.3396,-23.1749\"/>\n<text text-anchor=\"middle\" x=\"49.753\" y=\"-76.6774\" font-family=\"monospace\" font-size=\"8.00\" fill=\"#000000\">8</text>\n</g>\n<!-- 6&#45;&#45;7 -->\n<g id=\"edge13\" class=\"edge\">\n<title>6&#45;&#45;7</title>\n<path fill=\"none\" stroke=\"#c0c0c0\" d=\"M155.6299,-78.7262C141.2631,-64.1147 114.1739,-36.5639 99.7133,-21.857\"/>\n<text text-anchor=\"middle\" x=\"124.6716\" y=\"-52.8916\" font-family=\"monospace\" font-size=\"8.00\" fill=\"#000000\">3</text>\n</g>\n</g>\n</svg>\n"
          },
          "metadata": {},
          "execution_count": 23
        }
      ]
    },
    {
      "cell_type": "code",
      "source": [
        ""
      ],
      "metadata": {
        "id": "ZGm0bOwjASwd"
      },
      "execution_count": null,
      "outputs": []
    }
  ]
}