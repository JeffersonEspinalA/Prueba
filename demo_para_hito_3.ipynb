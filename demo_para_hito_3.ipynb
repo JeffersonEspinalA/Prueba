{
  "nbformat": 4,
  "nbformat_minor": 0,
  "metadata": {
    "colab": {
      "name": "demo para hito 3.ipynb",
      "provenance": [],
      "authorship_tag": "ABX9TyOdSwDhZ69bpdVW7S+UKkLs",
      "include_colab_link": true
    },
    "kernelspec": {
      "name": "python3",
      "display_name": "Python 3"
    },
    "language_info": {
      "name": "python"
    }
  },
  "cells": [
    {
      "cell_type": "markdown",
      "metadata": {
        "id": "view-in-github",
        "colab_type": "text"
      },
      "source": [
        "<a href=\"https://colab.research.google.com/github/JeffersonEspinalA/Prueba/blob/main/demo_para_hito_3.ipynb\" target=\"_parent\"><img src=\"https://colab.research.google.com/assets/colab-badge.svg\" alt=\"Open In Colab\"/></a>"
      ]
    },
    {
      "cell_type": "code",
      "execution_count": 25,
      "metadata": {
        "id": "tC1TtskcUppP"
      },
      "outputs": [],
      "source": [
        "import heapq as hq\n",
        "import numpy as np\n",
        "import graphviz as gv\n",
        "import math"
      ]
    },
    {
      "cell_type": "code",
      "source": [
        "def dijkstra(G, s, e):\n",
        "  n = len(G)\n",
        "  visited = [False]*n\n",
        "  path = [-1]*n\n",
        "  cost = [math.inf]*n\n",
        "\n",
        "  cost[s] = 0\n",
        "  pqueue = [(0, s)]\n",
        "  while pqueue:\n",
        "    g, u = hq.heappop(pqueue)\n",
        "    if u == e:\n",
        "      break\n",
        "    if not visited[u]:\n",
        "      visited[u] = True\n",
        "      for v, w in G[u]:\n",
        "        if not visited[v]:\n",
        "          f = g + w\n",
        "          if f < cost[v]:\n",
        "            cost[v] = f\n",
        "            path[v] = u\n",
        "            hq.heappush(pqueue, (f, v))\n",
        "  p.append(path)\n",
        "  return path, cost"
      ],
      "metadata": {
        "id": "NtC1bbM_XCgU"
      },
      "execution_count": 26,
      "outputs": []
    },
    {
      "cell_type": "code",
      "source": [
        "def spath(path, e, c):\n",
        "  if path[e] != -1:\n",
        "    spath(path, path[e], c)\n",
        "  c.append(e)\n",
        "  return c"
      ],
      "metadata": {
        "id": "ZyvuzQE4F0JA"
      },
      "execution_count": 27,
      "outputs": []
    },
    {
      "cell_type": "code",
      "source": [
        "%%file 0502.al\n",
        "1 2 3 2 4 9\n",
        "0 2 2 1 3 2 5 2\n",
        "1 1 4 2 6 2\n",
        "0 2 1 2 5 9 7 3\n",
        "0 9 2 2 7 8\n",
        "1 2 3 9 6 7\n",
        "2 2 5 7 7 3\n",
        "3 3 4 8 6 3"
      ],
      "metadata": {
        "colab": {
          "base_uri": "https://localhost:8080/"
        },
        "id": "MjNiKnJwXKIT",
        "outputId": "ba806821-a831-4071-f40b-e8dd3731f6d1"
      },
      "execution_count": 28,
      "outputs": [
        {
          "output_type": "stream",
          "name": "stdout",
          "text": [
            "Overwriting 0502.al\n"
          ]
        }
      ]
    },
    {
      "cell_type": "code",
      "source": [
        "with open(\"0502.al\") as f:\n",
        "  G = []\n",
        "  for line in f:\n",
        "    nums = [int(x) for x in line.split()]\n",
        "    G.append([])\n",
        "    for i in range(0, len(nums), 2):\n",
        "      G[-1].append((nums[i], nums[i+1]))\n",
        "\n",
        "for x in G:\n",
        "  print(x)"
      ],
      "metadata": {
        "colab": {
          "base_uri": "https://localhost:8080/"
        },
        "id": "xiZyGbkyXP1n",
        "outputId": "419a7538-1b84-4e75-ea36-791a4b685857"
      },
      "execution_count": 29,
      "outputs": [
        {
          "output_type": "stream",
          "name": "stdout",
          "text": [
            "[(1, 2), (3, 2), (4, 9)]\n",
            "[(0, 2), (2, 1), (3, 2), (5, 2)]\n",
            "[(1, 1), (4, 2), (6, 2)]\n",
            "[(0, 2), (1, 2), (5, 9), (7, 3)]\n",
            "[(0, 9), (2, 2), (7, 8)]\n",
            "[(1, 2), (3, 9), (6, 7)]\n",
            "[(2, 2), (5, 7), (7, 3)]\n",
            "[(3, 3), (4, 8), (6, 3)]\n"
          ]
        }
      ]
    },
    {
      "cell_type": "code",
      "source": [
        "def drawG_al(G, directed=False, weighted=False, path=[], layout=\"sfdp\"):\n",
        "  graph = gv.Digraph(\"felicidad\") if directed else gv.Graph(\"alegria\")\n",
        "  graph.graph_attr[\"layout\"] = layout\n",
        "  graph.edge_attr[\"color\"] = \"gray\"\n",
        "  graph.node_attr[\"color\"] = \"orangered\"\n",
        "  graph.node_attr[\"width\"] = \"0.1\"\n",
        "  graph.node_attr[\"height\"] = \"0.1\"\n",
        "  graph.node_attr[\"fontsize\"] = \"8\"\n",
        "  graph.node_attr[\"fontcolor\"] = \"mediumslateblue\"\n",
        "  graph.node_attr[\"fontname\"] = \"monospace\"\n",
        "  graph.edge_attr[\"fontsize\"] = \"8\"\n",
        "  graph.edge_attr[\"fontname\"] = \"monospace\"\n",
        "  n = len(G)\n",
        "  added = set()\n",
        "  for v, u in enumerate(path):\n",
        "    if u != -1:\n",
        "      if weighted:\n",
        "        for vi, w in G[u]:\n",
        "          if vi == v:\n",
        "            break\n",
        "        graph.edge(str(u), str(v), str(w), dir=\"forward\", penwidth=\"2\", color=\"orange\")\n",
        "      else:\n",
        "        graph.edge(str(u), str(v), dir=\"forward\", penwidth=\"2\", color=\"orange\")\n",
        "      added.add(f\"{u},{v}\")\n",
        "      added.add(f\"{v},{u}\")\n",
        "  for u in range(n):\n",
        "    for v, w in G[u]:\n",
        "      draw = False\n",
        "      if not directed and not f\"{u},{v}\" in added:  \n",
        "        added.add(f\"{u},{v}\")\n",
        "        added.add(f\"{v},{u}\")\n",
        "        draw = True\n",
        "      elif directed:\n",
        "        draw = True\n",
        "      if draw:\n",
        "        if weighted:\n",
        "          graph.edge(str(u), str(v), str(w))\n",
        "        else:\n",
        "          graph.edge(str(u), str(v))\n",
        "  return graph"
      ],
      "metadata": {
        "id": "aZw8MvaIatqD"
      },
      "execution_count": 30,
      "outputs": []
    },
    {
      "cell_type": "code",
      "source": [
        "drawG_al(G, weighted=True)"
      ],
      "metadata": {
        "colab": {
          "base_uri": "https://localhost:8080/",
          "height": 358
        },
        "id": "WpBW-_TZALi2",
        "outputId": "5aa76c7c-ba2c-401e-8f22-4233c9a0453e"
      },
      "execution_count": 31,
      "outputs": [
        {
          "output_type": "execute_result",
          "data": {
            "text/plain": [
              "<graphviz.dot.Graph at 0x7f98631e0950>"
            ],
            "image/svg+xml": "<?xml version=\"1.0\" encoding=\"UTF-8\" standalone=\"no\"?>\n<!DOCTYPE svg PUBLIC \"-//W3C//DTD SVG 1.1//EN\"\n \"http://www.w3.org/Graphics/SVG/1.1/DTD/svg11.dtd\">\n<!-- Generated by graphviz version 2.40.1 (20161225.0304)\n -->\n<!-- Title: alegria Pages: 1 -->\n<svg width=\"347pt\" height=\"253pt\"\n viewBox=\"0.00 0.00 347.31 253.46\" xmlns=\"http://www.w3.org/2000/svg\" xmlns:xlink=\"http://www.w3.org/1999/xlink\">\n<g id=\"graph0\" class=\"graph\" transform=\"scale(1 1) rotate(0) translate(4 249.4644)\">\n<title>alegria</title>\n<polygon fill=\"#ffffff\" stroke=\"transparent\" points=\"-4,4 -4,-249.4644 343.3134,-249.4644 343.3134,4 -4,4\"/>\n<!-- 0 -->\n<g id=\"node1\" class=\"node\">\n<title>0</title>\n<ellipse fill=\"none\" stroke=\"#ff4500\" cx=\"323.7571\" cy=\"-112.4458\" rx=\"15.6129\" ry=\"12.0417\"/>\n<text text-anchor=\"middle\" x=\"323.7571\" y=\"-110.5458\" font-family=\"monospace\" font-size=\"8.00\" fill=\"#7b68ee\">0</text>\n</g>\n<!-- 1 -->\n<g id=\"node2\" class=\"node\">\n<title>1</title>\n<ellipse fill=\"none\" stroke=\"#ff4500\" cx=\"236.6867\" cy=\"-71.9394\" rx=\"15.6129\" ry=\"12.0417\"/>\n<text text-anchor=\"middle\" x=\"236.6867\" y=\"-70.0394\" font-family=\"monospace\" font-size=\"8.00\" fill=\"#7b68ee\">1</text>\n</g>\n<!-- 0&#45;&#45;1 -->\n<g id=\"edge1\" class=\"edge\">\n<title>0&#45;&#45;1</title>\n<path fill=\"none\" stroke=\"#c0c0c0\" d=\"M310.1523,-106.1167C293.7948,-98.5069 266.5108,-85.814 250.1959,-78.224\"/>\n<text text-anchor=\"middle\" x=\"277.1741\" y=\"-94.7704\" font-family=\"monospace\" font-size=\"8.00\" fill=\"#000000\">2</text>\n</g>\n<!-- 3 -->\n<g id=\"node3\" class=\"node\">\n<title>3</title>\n<ellipse fill=\"none\" stroke=\"#ff4500\" cx=\"248.1854\" cy=\"-209.2029\" rx=\"15.6129\" ry=\"12.0417\"/>\n<text text-anchor=\"middle\" x=\"248.1854\" y=\"-207.3029\" font-family=\"monospace\" font-size=\"8.00\" fill=\"#7b68ee\">3</text>\n</g>\n<!-- 0&#45;&#45;3 -->\n<g id=\"edge2\" class=\"edge\">\n<title>0&#45;&#45;3</title>\n<path fill=\"none\" stroke=\"#c0c0c0\" d=\"M315.6696,-122.8005C301.2003,-141.326 271.0358,-179.9468 256.4439,-198.6293\"/>\n<text text-anchor=\"middle\" x=\"283.0567\" y=\"-163.3149\" font-family=\"monospace\" font-size=\"8.00\" fill=\"#000000\">2</text>\n</g>\n<!-- 4 -->\n<g id=\"node4\" class=\"node\">\n<title>4</title>\n<ellipse fill=\"none\" stroke=\"#ff4500\" cx=\"164.9609\" cy=\"-88.2635\" rx=\"15.6129\" ry=\"12.0417\"/>\n<text text-anchor=\"middle\" x=\"164.9609\" y=\"-86.3635\" font-family=\"monospace\" font-size=\"8.00\" fill=\"#7b68ee\">4</text>\n</g>\n<!-- 0&#45;&#45;4 -->\n<g id=\"edge3\" class=\"edge\">\n<title>0&#45;&#45;4</title>\n<path fill=\"none\" stroke=\"#c0c0c0\" d=\"M308.2419,-110.0831C277.8057,-105.4481 210.6033,-95.2142 180.3053,-90.6002\"/>\n<text text-anchor=\"middle\" x=\"241.2736\" y=\"-102.9417\" font-family=\"monospace\" font-size=\"8.00\" fill=\"#000000\">9</text>\n</g>\n<!-- 1&#45;&#45;3 -->\n<g id=\"edge5\" class=\"edge\">\n<title>1&#45;&#45;3</title>\n<path fill=\"none\" stroke=\"#c0c0c0\" d=\"M237.7071,-84.1206C239.8837,-110.1031 244.9616,-170.7188 247.1508,-196.8516\"/>\n<text text-anchor=\"middle\" x=\"239.4289\" y=\"-143.0861\" font-family=\"monospace\" font-size=\"8.00\" fill=\"#000000\">2</text>\n</g>\n<!-- 2 -->\n<g id=\"node5\" class=\"node\">\n<title>2</title>\n<ellipse fill=\"none\" stroke=\"#ff4500\" cx=\"89.9806\" cy=\"-12.0208\" rx=\"15.6129\" ry=\"12.0417\"/>\n<text text-anchor=\"middle\" x=\"89.9806\" y=\"-10.1208\" font-family=\"monospace\" font-size=\"8.00\" fill=\"#7b68ee\">2</text>\n</g>\n<!-- 1&#45;&#45;2 -->\n<g id=\"edge4\" class=\"edge\">\n<title>1&#45;&#45;2</title>\n<path fill=\"none\" stroke=\"#c0c0c0\" d=\"M222.8849,-66.3024C194.924,-54.8824 131.8721,-29.1304 103.8525,-17.6865\"/>\n<text text-anchor=\"middle\" x=\"160.3687\" y=\"-44.5944\" font-family=\"monospace\" font-size=\"8.00\" fill=\"#000000\">1</text>\n</g>\n<!-- 5 -->\n<g id=\"node6\" class=\"node\">\n<title>5</title>\n<ellipse fill=\"none\" stroke=\"#ff4500\" cx=\"147.8016\" cy=\"-174.3809\" rx=\"15.6129\" ry=\"12.0417\"/>\n<text text-anchor=\"middle\" x=\"147.8016\" y=\"-172.4809\" font-family=\"monospace\" font-size=\"8.00\" fill=\"#7b68ee\">5</text>\n</g>\n<!-- 1&#45;&#45;5 -->\n<g id=\"edge6\" class=\"edge\">\n<title>1&#45;&#45;5</title>\n<path fill=\"none\" stroke=\"#c0c0c0\" d=\"M227.8391,-82.1364C210.8016,-101.7723 173.6227,-144.6217 156.6135,-164.2252\"/>\n<text text-anchor=\"middle\" x=\"189.2263\" y=\"-125.7808\" font-family=\"monospace\" font-size=\"8.00\" fill=\"#000000\">2</text>\n</g>\n<!-- 3&#45;&#45;5 -->\n<g id=\"edge9\" class=\"edge\">\n<title>3&#45;&#45;5</title>\n<path fill=\"none\" stroke=\"#c0c0c0\" d=\"M233.8029,-204.2137C214.7199,-197.5941 181.227,-185.9758 162.1575,-179.3608\"/>\n<text text-anchor=\"middle\" x=\"194.9802\" y=\"-194.3873\" font-family=\"monospace\" font-size=\"8.00\" fill=\"#000000\">9</text>\n</g>\n<!-- 7 -->\n<g id=\"node8\" class=\"node\">\n<title>7</title>\n<ellipse fill=\"none\" stroke=\"#ff4500\" cx=\"98.8792\" cy=\"-233.4435\" rx=\"15.6129\" ry=\"12.0417\"/>\n<text text-anchor=\"middle\" x=\"98.8792\" y=\"-231.5435\" font-family=\"monospace\" font-size=\"8.00\" fill=\"#7b68ee\">7</text>\n</g>\n<!-- 3&#45;&#45;7 -->\n<g id=\"edge10\" class=\"edge\">\n<title>3&#45;&#45;7</title>\n<path fill=\"none\" stroke=\"#c0c0c0\" d=\"M232.7694,-211.7058C204.1588,-216.3508 143.1508,-226.2558 114.435,-230.918\"/>\n<text text-anchor=\"middle\" x=\"170.6022\" y=\"-223.9119\" font-family=\"monospace\" font-size=\"8.00\" fill=\"#000000\">3</text>\n</g>\n<!-- 4&#45;&#45;7 -->\n<g id=\"edge11\" class=\"edge\">\n<title>4&#45;&#45;7</title>\n<path fill=\"none\" stroke=\"#c0c0c0\" d=\"M159.7756,-99.6555C147.4834,-126.6611 116.6745,-194.3475 104.2239,-221.7012\"/>\n<text text-anchor=\"middle\" x=\"128.9998\" y=\"-163.2783\" font-family=\"monospace\" font-size=\"8.00\" fill=\"#000000\">8</text>\n</g>\n<!-- 2&#45;&#45;4 -->\n<g id=\"edge7\" class=\"edge\">\n<title>2&#45;&#45;4</title>\n<path fill=\"none\" stroke=\"#c0c0c0\" d=\"M99.4769,-21.677C113.8209,-36.2625 140.8672,-63.7642 155.3049,-78.4449\"/>\n<text text-anchor=\"middle\" x=\"124.3909\" y=\"-52.6609\" font-family=\"monospace\" font-size=\"8.00\" fill=\"#000000\">2</text>\n</g>\n<!-- 6 -->\n<g id=\"node7\" class=\"node\">\n<title>6</title>\n<ellipse fill=\"none\" stroke=\"#ff4500\" cx=\"15.5563\" cy=\"-135.9589\" rx=\"15.6129\" ry=\"12.0417\"/>\n<text text-anchor=\"middle\" x=\"15.5563\" y=\"-134.0589\" font-family=\"monospace\" font-size=\"8.00\" fill=\"#7b68ee\">6</text>\n</g>\n<!-- 2&#45;&#45;6 -->\n<g id=\"edge8\" class=\"edge\">\n<title>2&#45;&#45;6</title>\n<path fill=\"none\" stroke=\"#c0c0c0\" d=\"M83.3759,-23.0195C69.2882,-46.4796 36.4224,-101.2108 22.2532,-124.8067\"/>\n<text text-anchor=\"middle\" x=\"49.8145\" y=\"-76.5131\" font-family=\"monospace\" font-size=\"8.00\" fill=\"#000000\">2</text>\n</g>\n<!-- 5&#45;&#45;6 -->\n<g id=\"edge12\" class=\"edge\">\n<title>5&#45;&#45;6</title>\n<path fill=\"none\" stroke=\"#c0c0c0\" d=\"M133.1438,-170.1223C107.7235,-162.7368 55.7458,-147.6354 30.2798,-140.2366\"/>\n<text text-anchor=\"middle\" x=\"78.7118\" y=\"-157.7794\" font-family=\"monospace\" font-size=\"8.00\" fill=\"#000000\">7</text>\n</g>\n<!-- 6&#45;&#45;7 -->\n<g id=\"edge13\" class=\"edge\">\n<title>6&#45;&#45;7</title>\n<path fill=\"none\" stroke=\"#c0c0c0\" d=\"M24.1595,-146.0243C40.1261,-164.7046 74.1726,-204.5378 90.198,-223.2869\"/>\n<text text-anchor=\"middle\" x=\"54.1787\" y=\"-187.2556\" font-family=\"monospace\" font-size=\"8.00\" fill=\"#000000\">3</text>\n</g>\n</g>\n</svg>\n"
          },
          "metadata": {},
          "execution_count": 31
        }
      ]
    },
    {
      "cell_type": "code",
      "source": [
        "p = []\n",
        "c = []\n",
        "first = 1\n",
        "end = 4\n",
        "path, cost = dijkstra(G, first, end)\n",
        "print(spath(path, end, c))\n",
        "print(cost[end])\n",
        "drawG_al(G, weighted=True, path=path)"
      ],
      "metadata": {
        "colab": {
          "base_uri": "https://localhost:8080/",
          "height": 413
        },
        "id": "RCrHr_TSXmWI",
        "outputId": "47704f37-96fb-4533-affc-ddb5f357be1b"
      },
      "execution_count": 34,
      "outputs": [
        {
          "output_type": "stream",
          "name": "stdout",
          "text": [
            "[1, 2, 4]\n",
            "3\n"
          ]
        },
        {
          "output_type": "execute_result",
          "data": {
            "text/plain": [
              "<graphviz.dot.Graph at 0x7f9863141e90>"
            ],
            "image/svg+xml": "<?xml version=\"1.0\" encoding=\"UTF-8\" standalone=\"no\"?>\n<!DOCTYPE svg PUBLIC \"-//W3C//DTD SVG 1.1//EN\"\n \"http://www.w3.org/Graphics/SVG/1.1/DTD/svg11.dtd\">\n<!-- Generated by graphviz version 2.40.1 (20161225.0304)\n -->\n<!-- Title: alegria Pages: 1 -->\n<svg width=\"330pt\" height=\"267pt\"\n viewBox=\"0.00 0.00 329.77 266.86\" xmlns=\"http://www.w3.org/2000/svg\" xmlns:xlink=\"http://www.w3.org/1999/xlink\">\n<g id=\"graph0\" class=\"graph\" transform=\"scale(1 1) rotate(0) translate(4 262.8635)\">\n<title>alegria</title>\n<polygon fill=\"#ffffff\" stroke=\"transparent\" points=\"-4,4 -4,-262.8635 325.7674,-262.8635 325.7674,4 -4,4\"/>\n<!-- 1 -->\n<g id=\"node1\" class=\"node\">\n<title>1</title>\n<ellipse fill=\"none\" stroke=\"#ff4500\" cx=\"184.2825\" cy=\"-166.3627\" rx=\"15.6129\" ry=\"12.0417\"/>\n<text text-anchor=\"middle\" x=\"184.2825\" y=\"-164.4627\" font-family=\"monospace\" font-size=\"8.00\" fill=\"#7b68ee\">1</text>\n</g>\n<!-- 0 -->\n<g id=\"node2\" class=\"node\">\n<title>0</title>\n<ellipse fill=\"none\" stroke=\"#ff4500\" cx=\"60.4471\" cy=\"-230.0914\" rx=\"15.6129\" ry=\"12.0417\"/>\n<text text-anchor=\"middle\" x=\"60.4471\" y=\"-228.1914\" font-family=\"monospace\" font-size=\"8.00\" fill=\"#7b68ee\">0</text>\n</g>\n<!-- 1&#45;&#45;0 -->\n<g id=\"edge1\" class=\"edge\">\n<title>1&#45;&#45;0</title>\n<path fill=\"none\" stroke=\"#ffa500\" stroke-width=\"2\" d=\"M171.03,-173.1828C149.8952,-184.0593 108.3248,-205.4524 82.6084,-218.6866\"/>\n<polygon fill=\"#ffa500\" stroke=\"#ffa500\" stroke-width=\"2\" points=\"80.8944,-215.6323 73.6043,-223.3203 84.0976,-221.8565 80.8944,-215.6323\"/>\n<text text-anchor=\"middle\" x=\"123.8192\" y=\"-198.5347\" font-family=\"monospace\" font-size=\"8.00\" fill=\"#000000\">2</text>\n</g>\n<!-- 2 -->\n<g id=\"node3\" class=\"node\">\n<title>2</title>\n<ellipse fill=\"none\" stroke=\"#ff4500\" cx=\"131.6207\" cy=\"-12.0208\" rx=\"15.6129\" ry=\"12.0417\"/>\n<text text-anchor=\"middle\" x=\"131.6207\" y=\"-10.1208\" font-family=\"monospace\" font-size=\"8.00\" fill=\"#7b68ee\">2</text>\n</g>\n<!-- 1&#45;&#45;2 -->\n<g id=\"edge2\" class=\"edge\">\n<title>1&#45;&#45;2</title>\n<path fill=\"none\" stroke=\"#ffa500\" stroke-width=\"2\" d=\"M180.2377,-154.508C171.3707,-128.5206 150.1185,-66.2343 138.8769,-33.2875\"/>\n<polygon fill=\"#ffa500\" stroke=\"#ffa500\" stroke-width=\"2\" points=\"142.149,-32.0386 135.6072,-23.7046 135.524,-34.2991 142.149,-32.0386\"/>\n<text text-anchor=\"middle\" x=\"156.5573\" y=\"-96.4978\" font-family=\"monospace\" font-size=\"8.00\" fill=\"#000000\">1</text>\n</g>\n<!-- 3 -->\n<g id=\"node4\" class=\"node\">\n<title>3</title>\n<ellipse fill=\"none\" stroke=\"#ff4500\" cx=\"189.6465\" cy=\"-246.8427\" rx=\"15.6129\" ry=\"12.0417\"/>\n<text text-anchor=\"middle\" x=\"189.6465\" y=\"-244.9427\" font-family=\"monospace\" font-size=\"8.00\" fill=\"#7b68ee\">3</text>\n</g>\n<!-- 1&#45;&#45;3 -->\n<g id=\"edge3\" class=\"edge\">\n<title>1&#45;&#45;3</title>\n<path fill=\"none\" stroke=\"#ffa500\" stroke-width=\"2\" d=\"M185.0972,-178.5859C185.9053,-190.71 187.1623,-209.5703 188.1504,-224.3959\"/>\n<polygon fill=\"#ffa500\" stroke=\"#ffa500\" stroke-width=\"2\" points=\"184.6844,-225.0231 188.8417,-234.7682 191.6689,-224.5575 184.6844,-225.0231\"/>\n<text text-anchor=\"middle\" x=\"183.6238\" y=\"-204.0909\" font-family=\"monospace\" font-size=\"8.00\" fill=\"#000000\">2</text>\n</g>\n<!-- 5 -->\n<g id=\"node6\" class=\"node\">\n<title>5</title>\n<ellipse fill=\"none\" stroke=\"#ff4500\" cx=\"306.211\" cy=\"-169.4093\" rx=\"15.6129\" ry=\"12.0417\"/>\n<text text-anchor=\"middle\" x=\"306.211\" y=\"-167.5093\" font-family=\"monospace\" font-size=\"8.00\" fill=\"#7b68ee\">5</text>\n</g>\n<!-- 1&#45;&#45;5 -->\n<g id=\"edge5\" class=\"edge\">\n<title>1&#45;&#45;5</title>\n<path fill=\"none\" stroke=\"#ffa500\" stroke-width=\"2\" d=\"M200.2226,-166.761C220.5985,-167.2701 256.1357,-168.1581 280.395,-168.7642\"/>\n<polygon fill=\"#ffa500\" stroke=\"#ffa500\" stroke-width=\"2\" points=\"280.5683,-172.2696 290.6526,-169.0205 280.7432,-165.2717 280.5683,-172.2696\"/>\n<text text-anchor=\"middle\" x=\"237.3088\" y=\"-170.3626\" font-family=\"monospace\" font-size=\"8.00\" fill=\"#000000\">2</text>\n</g>\n<!-- 0&#45;&#45;3 -->\n<g id=\"edge8\" class=\"edge\">\n<title>0&#45;&#45;3</title>\n<path fill=\"none\" stroke=\"#c0c0c0\" d=\"M76.0315,-232.112C100.8643,-235.3317 149.1393,-241.5907 174.0068,-244.8149\"/>\n<text text-anchor=\"middle\" x=\"122.0192\" y=\"-241.0635\" font-family=\"monospace\" font-size=\"8.00\" fill=\"#000000\">2</text>\n</g>\n<!-- 4 -->\n<g id=\"node5\" class=\"node\">\n<title>4</title>\n<ellipse fill=\"none\" stroke=\"#ff4500\" cx=\"15.5563\" cy=\"-92.6903\" rx=\"15.6129\" ry=\"12.0417\"/>\n<text text-anchor=\"middle\" x=\"15.5563\" y=\"-90.7903\" font-family=\"monospace\" font-size=\"8.00\" fill=\"#7b68ee\">4</text>\n</g>\n<!-- 0&#45;&#45;4 -->\n<g id=\"edge9\" class=\"edge\">\n<title>0&#45;&#45;4</title>\n<path fill=\"none\" stroke=\"#c0c0c0\" d=\"M56.6197,-218.3766C48.1386,-192.4177 27.8461,-130.3068 19.374,-104.3754\"/>\n<text text-anchor=\"middle\" x=\"34.9969\" y=\"-163.976\" font-family=\"monospace\" font-size=\"8.00\" fill=\"#000000\">9</text>\n</g>\n<!-- 2&#45;&#45;4 -->\n<g id=\"edge4\" class=\"edge\">\n<title>2&#45;&#45;4</title>\n<path fill=\"none\" stroke=\"#ffa500\" stroke-width=\"2\" d=\"M119.6369,-20.35C99.813,-34.1285 59.9806,-61.8137 35.7504,-78.6547\"/>\n<polygon fill=\"#ffa500\" stroke=\"#ffa500\" stroke-width=\"2\" points=\"33.5159,-75.9453 27.3021,-84.5266 37.5111,-81.6933 33.5159,-75.9453\"/>\n<text text-anchor=\"middle\" x=\"74.6936\" y=\"-52.1024\" font-family=\"monospace\" font-size=\"8.00\" fill=\"#000000\">2</text>\n</g>\n<!-- 6 -->\n<g id=\"node7\" class=\"node\">\n<title>6</title>\n<ellipse fill=\"none\" stroke=\"#ff4500\" cx=\"258.7282\" cy=\"-33.8786\" rx=\"15.6129\" ry=\"12.0417\"/>\n<text text-anchor=\"middle\" x=\"258.7282\" y=\"-31.9786\" font-family=\"monospace\" font-size=\"8.00\" fill=\"#7b68ee\">6</text>\n</g>\n<!-- 2&#45;&#45;6 -->\n<g id=\"edge6\" class=\"edge\">\n<title>2&#45;&#45;6</title>\n<path fill=\"none\" stroke=\"#ffa500\" stroke-width=\"2\" d=\"M147.2066,-14.701C168.6685,-18.3917 207.5788,-25.0828 233.2901,-29.5042\"/>\n<polygon fill=\"#ffa500\" stroke=\"#ffa500\" stroke-width=\"2\" points=\"232.9633,-32.9993 243.4118,-31.2448 234.1497,-26.1006 232.9633,-32.9993\"/>\n<text text-anchor=\"middle\" x=\"187.2483\" y=\"-24.7026\" font-family=\"monospace\" font-size=\"8.00\" fill=\"#000000\">2</text>\n</g>\n<!-- 3&#45;&#45;5 -->\n<g id=\"edge10\" class=\"edge\">\n<title>3&#45;&#45;5</title>\n<path fill=\"none\" stroke=\"#c0c0c0\" d=\"M201.6819,-238.8476C224.0185,-224.0095 271.6478,-192.3695 294.0665,-177.4769\"/>\n<text text-anchor=\"middle\" x=\"244.8742\" y=\"-210.7622\" font-family=\"monospace\" font-size=\"8.00\" fill=\"#000000\">9</text>\n</g>\n<!-- 7 -->\n<g id=\"node8\" class=\"node\">\n<title>7</title>\n<ellipse fill=\"none\" stroke=\"#ff4500\" cx=\"136.3907\" cy=\"-104.0163\" rx=\"15.6129\" ry=\"12.0417\"/>\n<text text-anchor=\"middle\" x=\"136.3907\" y=\"-102.1163\" font-family=\"monospace\" font-size=\"8.00\" fill=\"#7b68ee\">7</text>\n</g>\n<!-- 3&#45;&#45;7 -->\n<g id=\"edge7\" class=\"edge\">\n<title>3&#45;&#45;7</title>\n<path fill=\"none\" stroke=\"#ffa500\" stroke-width=\"2\" d=\"M185.2884,-235.1546C176.3552,-211.1968 155.8496,-156.203 144.434,-125.5874\"/>\n<polygon fill=\"#ffa500\" stroke=\"#ffa500\" stroke-width=\"2\" points=\"147.5823,-124.0129 140.8091,-115.8659 141.0234,-126.4585 147.5823,-124.0129\"/>\n<text text-anchor=\"middle\" x=\"161.8612\" y=\"-182.971\" font-family=\"monospace\" font-size=\"8.00\" fill=\"#000000\">3</text>\n</g>\n<!-- 4&#45;&#45;7 -->\n<g id=\"edge11\" class=\"edge\">\n<title>4&#45;&#45;7</title>\n<path fill=\"none\" stroke=\"#c0c0c0\" d=\"M31.3533,-94.171C54.5111,-96.3416 97.4298,-100.3644 120.5898,-102.5352\"/>\n<text text-anchor=\"middle\" x=\"72.9716\" y=\"-100.9531\" font-family=\"monospace\" font-size=\"8.00\" fill=\"#000000\">8</text>\n</g>\n<!-- 5&#45;&#45;6 -->\n<g id=\"edge12\" class=\"edge\">\n<title>5&#45;&#45;6</title>\n<path fill=\"none\" stroke=\"#c0c0c0\" d=\"M301.9973,-157.3818C292.9639,-131.5978 271.8287,-71.2714 262.8647,-45.6856\"/>\n<text text-anchor=\"middle\" x=\"279.431\" y=\"-104.1337\" font-family=\"monospace\" font-size=\"8.00\" fill=\"#000000\">7</text>\n</g>\n<!-- 6&#45;&#45;7 -->\n<g id=\"edge13\" class=\"edge\">\n<title>6&#45;&#45;7</title>\n<path fill=\"none\" stroke=\"#c0c0c0\" d=\"M246.0967,-41.1204C222.6539,-54.5604 172.6657,-83.2193 149.1368,-96.7088\"/>\n<text text-anchor=\"middle\" x=\"194.6167\" y=\"-71.5146\" font-family=\"monospace\" font-size=\"8.00\" fill=\"#000000\">3</text>\n</g>\n</g>\n</svg>\n"
          },
          "metadata": {},
          "execution_count": 34
        }
      ]
    },
    {
      "cell_type": "code",
      "source": [
        ""
      ],
      "metadata": {
        "id": "ZGm0bOwjASwd"
      },
      "execution_count": 32,
      "outputs": []
    }
  ]
}