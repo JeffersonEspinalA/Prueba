{
  "nbformat": 4,
  "nbformat_minor": 0,
  "metadata": {
    "colab": {
      "name": "demo para hito 3.ipynb",
      "provenance": [],
      "collapsed_sections": [],
      "authorship_tag": "ABX9TyNXe9vHuzZvFbDqTRlCgXyo",
      "include_colab_link": true
    },
    "kernelspec": {
      "name": "python3",
      "display_name": "Python 3"
    },
    "language_info": {
      "name": "python"
    }
  },
  "cells": [
    {
      "cell_type": "markdown",
      "metadata": {
        "id": "view-in-github",
        "colab_type": "text"
      },
      "source": [
        "<a href=\"https://colab.research.google.com/github/JeffersonEspinalA/Prueba/blob/main/demo_para_hito_3.ipynb\" target=\"_parent\"><img src=\"https://colab.research.google.com/assets/colab-badge.svg\" alt=\"Open In Colab\"/></a>"
      ]
    },
    {
      "cell_type": "code",
      "source": [
        "!git clone https://github.com/lmcanavals/acomplex.git"
      ],
      "metadata": {
        "colab": {
          "base_uri": "https://localhost:8080/"
        },
        "id": "Jh3ldOFkNJ88",
        "outputId": "b51bc606-ecad-42f3-9c8c-7e506466553a"
      },
      "execution_count": null,
      "outputs": [
        {
          "output_type": "stream",
          "name": "stdout",
          "text": [
            "fatal: destination path 'acomplex' already exists and is not an empty directory.\n"
          ]
        }
      ]
    },
    {
      "cell_type": "code",
      "execution_count": null,
      "metadata": {
        "id": "tC1TtskcUppP"
      },
      "outputs": [],
      "source": [
        "from acomplex.graphstuff import adjlShow\n",
        "import heapq as hq\n",
        "import numpy as np\n",
        "import graphviz as gv\n",
        "import math"
      ]
    },
    {
      "cell_type": "code",
      "source": [
        "def dijkstra(G, s, e):\n",
        "  n = len(G)\n",
        "  visited = [False]*n\n",
        "  path = [-1]*n\n",
        "  cost = [math.inf]*n\n",
        "\n",
        "  cost[s] = 0\n",
        "  pqueue = [(0, s)]\n",
        "  while pqueue:\n",
        "    g, u = hq.heappop(pqueue)\n",
        "    if u == e:\n",
        "      break\n",
        "    if not visited[u]:\n",
        "      visited[u] = True\n",
        "      for v, w in G[u]:\n",
        "        if not visited[v]:\n",
        "          f = g + w\n",
        "          if f < cost[v]:\n",
        "            cost[v] = f\n",
        "            path[v] = u\n",
        "            hq.heappush(pqueue, (f, v))\n",
        "            \n",
        "  return path, cost"
      ],
      "metadata": {
        "id": "NtC1bbM_XCgU"
      },
      "execution_count": null,
      "outputs": []
    },
    {
      "cell_type": "code",
      "source": [
        "def spath(path, e, sp):\n",
        "  if path[e] != -1:\n",
        "    spath(path, path[e], sp)\n",
        "  sp.append(e)\n",
        "  return sp"
      ],
      "metadata": {
        "id": "ZyvuzQE4F0JA"
      },
      "execution_count": null,
      "outputs": []
    },
    {
      "cell_type": "code",
      "source": [
        "%%file 0502.al\n",
        "1 2 3 2 4 9\n",
        "0 2 2 1 3 2 5 2\n",
        "1 1 4 2 6 2\n",
        "0 2 1 2 5 9 7 3\n",
        "0 9 2 2 7 8\n",
        "1 2 3 9 6 7\n",
        "2 2 5 7 7 3\n",
        "3 3 4 8 6 3"
      ],
      "metadata": {
        "colab": {
          "base_uri": "https://localhost:8080/"
        },
        "id": "MjNiKnJwXKIT",
        "outputId": "24ba0a53-3f95-4553-e14d-ecfd12d8b3f3"
      },
      "execution_count": null,
      "outputs": [
        {
          "output_type": "stream",
          "name": "stdout",
          "text": [
            "Overwriting 0502.al\n"
          ]
        }
      ]
    },
    {
      "cell_type": "code",
      "source": [
        "with open(\"0502.al\") as f:\n",
        "  G = []\n",
        "  for line in f:\n",
        "    nums = [int(x) for x in line.split()]\n",
        "    G.append([])\n",
        "    for i in range(0, len(nums), 2):\n",
        "      G[-1].append((nums[i], nums[i+1]))\n",
        "\n",
        "for x in G:\n",
        "  print(x)"
      ],
      "metadata": {
        "colab": {
          "base_uri": "https://localhost:8080/"
        },
        "id": "xiZyGbkyXP1n",
        "outputId": "3aac2526-5e0e-444f-80a7-a7256131c7da"
      },
      "execution_count": null,
      "outputs": [
        {
          "output_type": "stream",
          "name": "stdout",
          "text": [
            "[(1, 2), (3, 2), (4, 9)]\n",
            "[(0, 2), (2, 1), (3, 2), (5, 2)]\n",
            "[(1, 1), (4, 2), (6, 2)]\n",
            "[(0, 2), (1, 2), (5, 9), (7, 3)]\n",
            "[(0, 9), (2, 2), (7, 8)]\n",
            "[(1, 2), (3, 9), (6, 7)]\n",
            "[(2, 2), (5, 7), (7, 3)]\n",
            "[(3, 3), (4, 8), (6, 3)]\n"
          ]
        }
      ]
    },
    {
      "cell_type": "code",
      "source": [
        "p = []\n",
        "sp = []\n",
        "first = 1\n",
        "end = 4\n",
        "path, cost = dijkstra(G, first, end)\n",
        "print(spath(path, end, sp))\n",
        "print(cost[end])\n",
        "adjlShow(G, weighted=True, path=path, layout=\"neato\")"
      ],
      "metadata": {
        "colab": {
          "base_uri": "https://localhost:8080/",
          "height": 309
        },
        "id": "RCrHr_TSXmWI",
        "outputId": "391fae2f-2a75-413b-d16f-ad289dce2d66"
      },
      "execution_count": null,
      "outputs": [
        {
          "output_type": "stream",
          "name": "stdout",
          "text": [
            "[1, 2, 4]\n",
            "3\n"
          ]
        },
        {
          "output_type": "execute_result",
          "data": {
            "text/plain": [
              "<graphviz.dot.Graph at 0x7f9862a95fd0>"
            ],
            "image/svg+xml": "<?xml version=\"1.0\" encoding=\"UTF-8\" standalone=\"no\"?>\n<!DOCTYPE svg PUBLIC \"-//W3C//DTD SVG 1.1//EN\"\n \"http://www.w3.org/Graphics/SVG/1.1/DTD/svg11.dtd\">\n<!-- Generated by graphviz version 2.40.1 (20161225.0304)\n -->\n<!-- Title: G Pages: 1 -->\n<svg width=\"155pt\" height=\"189pt\"\n viewBox=\"0.00 0.00 154.64 188.66\" xmlns=\"http://www.w3.org/2000/svg\" xmlns:xlink=\"http://www.w3.org/1999/xlink\">\n<g id=\"graph0\" class=\"graph\" transform=\"scale(1 1) rotate(0) translate(4 184.6557)\">\n<title>G</title>\n<polygon fill=\"#ffffff\" stroke=\"transparent\" points=\"-4,4 -4,-184.6557 150.6381,-184.6557 150.6381,4 -4,4\"/>\n<!-- 0 -->\n<g id=\"node1\" class=\"node\">\n<title>0</title>\n<ellipse fill=\"none\" stroke=\"#ff4500\" cx=\"36.8451\" cy=\"-168.6349\" rx=\"15.6129\" ry=\"12.0417\"/>\n<text text-anchor=\"middle\" x=\"36.8451\" y=\"-166.7349\" font-family=\"monospace\" font-size=\"8.00\" fill=\"#7b68ee\">0</text>\n</g>\n<!-- 3 -->\n<g id=\"node4\" class=\"node\">\n<title>3</title>\n<ellipse fill=\"none\" stroke=\"#ff4500\" cx=\"99.3088\" cy=\"-158.0111\" rx=\"15.6129\" ry=\"12.0417\"/>\n<text text-anchor=\"middle\" x=\"99.3088\" y=\"-156.1111\" font-family=\"monospace\" font-size=\"8.00\" fill=\"#7b68ee\">3</text>\n</g>\n<!-- 0&#45;&#45;3 -->\n<g id=\"edge8\" class=\"edge\">\n<title>0&#45;&#45;3</title>\n<path fill=\"none\" stroke=\"#c0c0c0\" d=\"M52.2856,-166.0088C61.9678,-164.362 74.3976,-162.248 84.0459,-160.607\"/>\n<text text-anchor=\"middle\" x=\"65.1658\" y=\"-165.9079\" font-family=\"monospace\" font-size=\"8.00\" fill=\"#000000\">2</text>\n</g>\n<!-- 4 -->\n<g id=\"node5\" class=\"node\">\n<title>4</title>\n<ellipse fill=\"none\" stroke=\"#ff4500\" cx=\"53.6672\" cy=\"-77.2458\" rx=\"15.6129\" ry=\"12.0417\"/>\n<text text-anchor=\"middle\" x=\"53.6672\" y=\"-75.3458\" font-family=\"monospace\" font-size=\"8.00\" fill=\"#7b68ee\">4</text>\n</g>\n<!-- 0&#45;&#45;4 -->\n<g id=\"edge9\" class=\"edge\">\n<title>0&#45;&#45;4</title>\n<path fill=\"none\" stroke=\"#c0c0c0\" d=\"M39.0443,-156.6874C42.2683,-139.1727 48.2433,-106.7126 51.4675,-89.1962\"/>\n<text text-anchor=\"middle\" x=\"42.2559\" y=\"-125.5418\" font-family=\"monospace\" font-size=\"8.00\" fill=\"#000000\">9</text>\n</g>\n<!-- 1 -->\n<g id=\"node2\" class=\"node\">\n<title>1</title>\n<ellipse fill=\"none\" stroke=\"#ff4500\" cx=\"85.4884\" cy=\"-112.8882\" rx=\"15.6129\" ry=\"12.0417\"/>\n<text text-anchor=\"middle\" x=\"85.4884\" y=\"-110.9882\" font-family=\"monospace\" font-size=\"8.00\" fill=\"#7b68ee\">1</text>\n</g>\n<!-- 1&#45;&#45;0 -->\n<g id=\"edge1\" class=\"edge\">\n<title>1&#45;&#45;0</title>\n<path fill=\"none\" stroke=\"#ffa500\" stroke-width=\"2\" d=\"M76.5665,-123.113C69.8467,-130.814 60.4627,-141.5684 52.5029,-150.6906\"/>\n<polygon fill=\"#ffa500\" stroke=\"#ffa500\" stroke-width=\"2\" points=\"49.648,-148.6389 45.7105,-158.4749 54.9224,-153.2412 49.648,-148.6389\"/>\n<text text-anchor=\"middle\" x=\"61.5347\" y=\"-139.5018\" font-family=\"monospace\" font-size=\"8.00\" fill=\"#000000\">2</text>\n</g>\n<!-- 2 -->\n<g id=\"node3\" class=\"node\">\n<title>2</title>\n<ellipse fill=\"none\" stroke=\"#ff4500\" cx=\"109.4913\" cy=\"-25.5121\" rx=\"15.6129\" ry=\"12.0417\"/>\n<text text-anchor=\"middle\" x=\"109.4913\" y=\"-23.6121\" font-family=\"monospace\" font-size=\"8.00\" fill=\"#7b68ee\">2</text>\n</g>\n<!-- 1&#45;&#45;2 -->\n<g id=\"edge2\" class=\"edge\">\n<title>1&#45;&#45;2</title>\n<path fill=\"none\" stroke=\"#ffa500\" stroke-width=\"2\" d=\"M88.7255,-101.1043C92.5193,-87.2942 98.8821,-64.1322 103.5668,-47.0788\"/>\n<polygon fill=\"#ffa500\" stroke=\"#ffa500\" stroke-width=\"2\" points=\"106.9548,-47.9583 106.2288,-37.3884 100.2048,-46.104 106.9548,-47.9583\"/>\n<text text-anchor=\"middle\" x=\"93.1462\" y=\"-67.6916\" font-family=\"monospace\" font-size=\"8.00\" fill=\"#000000\">1</text>\n</g>\n<!-- 1&#45;&#45;3 -->\n<g id=\"edge3\" class=\"edge\">\n<title>1&#45;&#45;3</title>\n<path fill=\"none\" stroke=\"#ffa500\" stroke-width=\"2\" d=\"M89.1195,-124.7437C90.2217,-128.3422 91.4687,-132.4137 92.7028,-136.443\"/>\n<polygon fill=\"#ffa500\" stroke=\"#ffa500\" stroke-width=\"2\" points=\"89.3787,-137.5415 95.6539,-146.0781 96.0718,-135.4915 89.3787,-137.5415\"/>\n<text text-anchor=\"middle\" x=\"87.9112\" y=\"-133.1933\" font-family=\"monospace\" font-size=\"8.00\" fill=\"#000000\">2</text>\n</g>\n<!-- 5 -->\n<g id=\"node6\" class=\"node\">\n<title>5</title>\n<ellipse fill=\"none\" stroke=\"#ff4500\" cx=\"15.5563\" cy=\"-95.049\" rx=\"15.6129\" ry=\"12.0417\"/>\n<text text-anchor=\"middle\" x=\"15.5563\" y=\"-93.149\" font-family=\"monospace\" font-size=\"8.00\" fill=\"#7b68ee\">5</text>\n</g>\n<!-- 1&#45;&#45;5 -->\n<g id=\"edge5\" class=\"edge\">\n<title>1&#45;&#45;5</title>\n<path fill=\"none\" stroke=\"#ffa500\" stroke-width=\"2\" d=\"M70.6576,-109.105C61.8495,-106.8581 50.4556,-103.9516 40.3165,-101.3651\"/>\n<polygon fill=\"#ffa500\" stroke=\"#ffa500\" stroke-width=\"2\" points=\"40.9206,-97.9072 30.3658,-98.8268 39.1903,-104.69 40.9206,-97.9072\"/>\n<text text-anchor=\"middle\" x=\"52.4871\" y=\"-107.8351\" font-family=\"monospace\" font-size=\"8.00\" fill=\"#000000\">2</text>\n</g>\n<!-- 2&#45;&#45;4 -->\n<g id=\"edge4\" class=\"edge\">\n<title>2&#45;&#45;4</title>\n<path fill=\"none\" stroke=\"#ffa500\" stroke-width=\"2\" d=\"M99.5111,-34.761C91.7492,-41.9542 80.7789,-52.1206 71.5159,-60.7049\"/>\n<polygon fill=\"#ffa500\" stroke=\"#ffa500\" stroke-width=\"2\" points=\"68.8944,-58.3625 63.9388,-67.7269 73.6525,-63.4968 68.8944,-58.3625\"/>\n<text text-anchor=\"middle\" x=\"82.5135\" y=\"-50.333\" font-family=\"monospace\" font-size=\"8.00\" fill=\"#000000\">2</text>\n</g>\n<!-- 6 -->\n<g id=\"node7\" class=\"node\">\n<title>6</title>\n<ellipse fill=\"none\" stroke=\"#ff4500\" cx=\"52.4192\" cy=\"-12.0208\" rx=\"15.6129\" ry=\"12.0417\"/>\n<text text-anchor=\"middle\" x=\"52.4192\" y=\"-10.1208\" font-family=\"monospace\" font-size=\"8.00\" fill=\"#7b68ee\">6</text>\n</g>\n<!-- 2&#45;&#45;6 -->\n<g id=\"edge6\" class=\"edge\">\n<title>2&#45;&#45;6</title>\n<path fill=\"none\" stroke=\"#ffa500\" stroke-width=\"2\" d=\"M94.4963,-21.9674C89.2946,-20.7378 83.3115,-19.3235 77.52,-17.9544\"/>\n<polygon fill=\"#ffa500\" stroke=\"#ffa500\" stroke-width=\"2\" points=\"78.0492,-14.4831 67.5122,-15.5887 76.4388,-21.2954 78.0492,-14.4831\"/>\n<text text-anchor=\"middle\" x=\"83.0081\" y=\"-22.5609\" font-family=\"monospace\" font-size=\"8.00\" fill=\"#000000\">2</text>\n</g>\n<!-- 3&#45;&#45;5 -->\n<g id=\"edge10\" class=\"edge\">\n<title>3&#45;&#45;5</title>\n<path fill=\"none\" stroke=\"#c0c0c0\" d=\"M88.0135,-149.5197C72.0288,-137.503 42.9729,-115.6598 26.9401,-103.6069\"/>\n<text text-anchor=\"middle\" x=\"54.4768\" y=\"-129.1633\" font-family=\"monospace\" font-size=\"8.00\" fill=\"#000000\">9</text>\n</g>\n<!-- 7 -->\n<g id=\"node8\" class=\"node\">\n<title>7</title>\n<ellipse fill=\"none\" stroke=\"#ff4500\" cx=\"131.0818\" cy=\"-76.1199\" rx=\"15.6129\" ry=\"12.0417\"/>\n<text text-anchor=\"middle\" x=\"131.0818\" y=\"-74.2199\" font-family=\"monospace\" font-size=\"8.00\" fill=\"#7b68ee\">7</text>\n</g>\n<!-- 3&#45;&#45;7 -->\n<g id=\"edge7\" class=\"edge\">\n<title>3&#45;&#45;7</title>\n<path fill=\"none\" stroke=\"#ffa500\" stroke-width=\"2\" d=\"M103.8611,-146.2781C108.8158,-133.5078 116.8396,-112.8273 122.895,-97.2203\"/>\n<polygon fill=\"#ffa500\" stroke=\"#ffa500\" stroke-width=\"2\" points=\"126.1837,-98.4201 126.5379,-87.8311 119.6577,-95.888 126.1837,-98.4201\"/>\n<text text-anchor=\"middle\" x=\"110.378\" y=\"-124.3492\" font-family=\"monospace\" font-size=\"8.00\" fill=\"#000000\">3</text>\n</g>\n<!-- 4&#45;&#45;7 -->\n<g id=\"edge11\" class=\"edge\">\n<title>4&#45;&#45;7</title>\n<path fill=\"none\" stroke=\"#c0c0c0\" d=\"M69.3332,-77.0179C82.7643,-76.8226 102.0147,-76.5426 115.4391,-76.3474\"/>\n<text text-anchor=\"middle\" x=\"89.3861\" y=\"-79.2827\" font-family=\"monospace\" font-size=\"8.00\" fill=\"#000000\">8</text>\n</g>\n<!-- 5&#45;&#45;6 -->\n<g id=\"edge12\" class=\"edge\">\n<title>5&#45;&#45;6</title>\n<path fill=\"none\" stroke=\"#c0c0c0\" d=\"M20.682,-83.5043C27.7247,-67.6415 40.3173,-39.2785 47.3371,-23.4675\"/>\n<text text-anchor=\"middle\" x=\"31.0095\" y=\"-56.0859\" font-family=\"monospace\" font-size=\"8.00\" fill=\"#000000\">7</text>\n</g>\n<!-- 6&#45;&#45;7 -->\n<g id=\"edge13\" class=\"edge\">\n<title>6&#45;&#45;7</title>\n<path fill=\"none\" stroke=\"#c0c0c0\" d=\"M63.3569,-20.9335C78.3856,-33.1798 105.2572,-55.0765 120.237,-67.2829\"/>\n<text text-anchor=\"middle\" x=\"88.7969\" y=\"-46.7082\" font-family=\"monospace\" font-size=\"8.00\" fill=\"#000000\">3</text>\n</g>\n</g>\n</svg>\n"
          },
          "metadata": {},
          "execution_count": 64
        }
      ]
    },
    {
      "cell_type": "code",
      "source": [
        ""
      ],
      "metadata": {
        "id": "yni1Q6u7PmsP"
      },
      "execution_count": null,
      "outputs": []
    }
  ]
}